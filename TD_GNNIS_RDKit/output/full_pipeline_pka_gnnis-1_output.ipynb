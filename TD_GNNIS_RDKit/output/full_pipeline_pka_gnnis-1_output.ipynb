{
 "cells": [
  {
   "cell_type": "code",
   "execution_count": 1,
   "id": "ba472d8d",
   "metadata": {
    "execution": {
     "iopub.execute_input": "2025-07-26T06:14:58.048016Z",
     "iopub.status.busy": "2025-07-26T06:14:58.047639Z",
     "iopub.status.idle": "2025-07-26T06:14:58.054258Z",
     "shell.execute_reply": "2025-07-26T06:14:58.053633Z"
    },
    "papermill": {
     "duration": 0.012019,
     "end_time": "2025-07-26T06:14:58.055425",
     "exception": false,
     "start_time": "2025-07-26T06:14:58.043406",
     "status": "completed"
    },
    "tags": [
     "injected-parameters"
    ]
   },
   "outputs": [],
   "source": [
    "# Parameters\n",
    "inp_smiles = \"O=C(O)c1ccccc1O\"\n",
    "output_dir = \"M74\"\n",
    "Solvent = \"acetone\"\n",
    "num_conf_gnnis = 500\n"
   ]
  },
  {
   "cell_type": "markdown",
   "id": "08cd9069",
   "metadata": {
    "papermill": {
     "duration": 0.002265,
     "end_time": "2025-07-26T06:14:58.060471",
     "exception": false,
     "start_time": "2025-07-26T06:14:58.058206",
     "status": "completed"
    },
    "tags": []
   },
   "source": [
    "# Conformer Generation Pipeline"
   ]
  },
  {
   "cell_type": "markdown",
   "id": "4971aa7f-5c76-4f35-9c81-4116d9657d34",
   "metadata": {
    "papermill": {
     "duration": 0.002245,
     "end_time": "2025-07-26T06:14:58.065043",
     "exception": false,
     "start_time": "2025-07-26T06:14:58.062798",
     "status": "completed"
    },
    "tags": []
   },
   "source": [
    "## **Step 1: Input Smile and Reference Conformer**"
   ]
  },
  {
   "cell_type": "code",
   "execution_count": 2,
   "id": "32bf4f81",
   "metadata": {
    "execution": {
     "iopub.execute_input": "2025-07-26T06:14:58.070416Z",
     "iopub.status.busy": "2025-07-26T06:14:58.070225Z",
     "iopub.status.idle": "2025-07-26T06:14:58.073924Z",
     "shell.execute_reply": "2025-07-26T06:14:58.073206Z"
    },
    "papermill": {
     "duration": 0.007342,
     "end_time": "2025-07-26T06:14:58.074726",
     "exception": false,
     "start_time": "2025-07-26T06:14:58.067384",
     "status": "completed"
    },
    "tags": []
   },
   "outputs": [],
   "source": [
    "import os\n",
    "# Specify which GPUs to use\n",
    "os.environ[\"CUDA_VISIBLE_DEVICES\"] = \"0,1\"\n",
    "os.environ[\"OMP_NUM_THREADS\"] = \"25\"\n",
    "os.environ[\"MKL_NUM_THREADS\"] = \"25\"\n",
    "os.environ[\"OPENBLAS_NUM_THREADS\"] = \"25\""
   ]
  },
  {
   "cell_type": "code",
   "execution_count": 3,
   "id": "5d501701-5206-48cd-b7da-e90f6caf7b03",
   "metadata": {
    "execution": {
     "iopub.execute_input": "2025-07-26T06:14:58.080546Z",
     "iopub.status.busy": "2025-07-26T06:14:58.079955Z",
     "iopub.status.idle": "2025-07-26T06:14:58.083238Z",
     "shell.execute_reply": "2025-07-26T06:14:58.082557Z"
    },
    "papermill": {
     "duration": 0.006995,
     "end_time": "2025-07-26T06:14:58.084060",
     "exception": false,
     "start_time": "2025-07-26T06:14:58.077065",
     "status": "completed"
    },
    "tags": []
   },
   "outputs": [],
   "source": [
    "import time\n",
    "\n",
    "# Capture the start time\n",
    "start_time: float = time.time()"
   ]
  },
  {
   "cell_type": "code",
   "execution_count": 4,
   "id": "554a12ca",
   "metadata": {
    "execution": {
     "iopub.execute_input": "2025-07-26T06:14:58.089408Z",
     "iopub.status.busy": "2025-07-26T06:14:58.089228Z",
     "iopub.status.idle": "2025-07-26T06:14:58.790388Z",
     "shell.execute_reply": "2025-07-26T06:14:58.789592Z"
    },
    "papermill": {
     "duration": 0.705223,
     "end_time": "2025-07-26T06:14:58.791606",
     "exception": false,
     "start_time": "2025-07-26T06:14:58.086383",
     "status": "completed"
    },
    "tags": []
   },
   "outputs": [],
   "source": [
    "import sys\n",
    "\n",
    "# Add a folder to Python's import path\n",
    "sys.path.append('/app') \n",
    "\n",
    "from atk_conformer_generation_pipeline.utils import *\n",
    "from atk_conformer_generation_pipeline.variables import *"
   ]
  },
  {
   "cell_type": "code",
   "execution_count": 5,
   "id": "93df80ed",
   "metadata": {
    "execution": {
     "iopub.execute_input": "2025-07-26T06:14:58.798166Z",
     "iopub.status.busy": "2025-07-26T06:14:58.797381Z",
     "iopub.status.idle": "2025-07-26T06:14:59.081142Z",
     "shell.execute_reply": "2025-07-26T06:14:59.080273Z"
    },
    "papermill": {
     "duration": 0.287964,
     "end_time": "2025-07-26T06:14:59.082212",
     "exception": false,
     "start_time": "2025-07-26T06:14:58.794248",
     "status": "completed"
    },
    "tags": []
   },
   "outputs": [
    {
     "name": "stdout",
     "output_type": "stream",
     "text": [
      "/work\r\n"
     ]
    }
   ],
   "source": [
    "#Change the dir to /work\n",
    "os.chdir(\"/work\")\n",
    "!pwd"
   ]
  },
  {
   "cell_type": "markdown",
   "id": "f55b42bf",
   "metadata": {
    "papermill": {
     "duration": 0.002386,
     "end_time": "2025-07-26T06:14:59.087128",
     "exception": false,
     "start_time": "2025-07-26T06:14:59.084742",
     "status": "completed"
    },
    "tags": []
   },
   "source": [
    "**Change the below variables accordingly**"
   ]
  },
  {
   "cell_type": "code",
   "execution_count": 6,
   "id": "cefcb4f6-adfe-4aba-bff3-f6d5701ca04a",
   "metadata": {
    "execution": {
     "iopub.execute_input": "2025-07-26T06:14:59.092885Z",
     "iopub.status.busy": "2025-07-26T06:14:59.092634Z",
     "iopub.status.idle": "2025-07-26T06:14:59.096139Z",
     "shell.execute_reply": "2025-07-26T06:14:59.095486Z"
    },
    "papermill": {
     "duration": 0.007655,
     "end_time": "2025-07-26T06:14:59.097175",
     "exception": false,
     "start_time": "2025-07-26T06:14:59.089520",
     "status": "completed"
    },
    "tags": []
   },
   "outputs": [],
   "source": [
    "#inp_smiles: str=\"O=C(O)c1cc(Br)c2ccccc2c1\"\n",
    "#Solvent: str=\"DMSO\"\n",
    "#output_dir: str=\"test\"\n",
    "#num_conf: int = 10     # Number of conformers to be generated\n"
   ]
  },
  {
   "cell_type": "code",
   "execution_count": 7,
   "id": "ac382af3-999f-448f-b2aa-9dbc8156c0e2",
   "metadata": {
    "execution": {
     "iopub.execute_input": "2025-07-26T06:14:59.102758Z",
     "iopub.status.busy": "2025-07-26T06:14:59.102565Z",
     "iopub.status.idle": "2025-07-26T06:14:59.106061Z",
     "shell.execute_reply": "2025-07-26T06:14:59.105443Z"
    },
    "papermill": {
     "duration": 0.007523,
     "end_time": "2025-07-26T06:14:59.107108",
     "exception": false,
     "start_time": "2025-07-26T06:14:59.099585",
     "status": "completed"
    },
    "tags": []
   },
   "outputs": [],
   "source": [
    "os.makedirs(output_dir, exist_ok=True)\n",
    "os.chdir(output_dir)"
   ]
  },
  {
   "cell_type": "code",
   "execution_count": 8,
   "id": "f61b3690-cdda-4863-8df0-a2d88dc4055b",
   "metadata": {
    "execution": {
     "iopub.execute_input": "2025-07-26T06:14:59.112636Z",
     "iopub.status.busy": "2025-07-26T06:14:59.112443Z",
     "iopub.status.idle": "2025-07-26T06:14:59.388291Z",
     "shell.execute_reply": "2025-07-26T06:14:59.387480Z"
    },
    "papermill": {
     "duration": 0.279825,
     "end_time": "2025-07-26T06:14:59.389330",
     "exception": false,
     "start_time": "2025-07-26T06:14:59.109505",
     "status": "completed"
    },
    "tags": []
   },
   "outputs": [
    {
     "name": "stdout",
     "output_type": "stream",
     "text": [
      "/work/M74\r\n"
     ]
    }
   ],
   "source": [
    "!pwd"
   ]
  },
  {
   "cell_type": "code",
   "execution_count": 9,
   "id": "f4ba3694-7eed-4a2d-bc09-e0df8c6e5b6b",
   "metadata": {
    "execution": {
     "iopub.execute_input": "2025-07-26T06:14:59.395819Z",
     "iopub.status.busy": "2025-07-26T06:14:59.395130Z",
     "iopub.status.idle": "2025-07-26T06:14:59.398896Z",
     "shell.execute_reply": "2025-07-26T06:14:59.398217Z"
    },
    "papermill": {
     "duration": 0.007807,
     "end_time": "2025-07-26T06:14:59.399747",
     "exception": false,
     "start_time": "2025-07-26T06:14:59.391940",
     "status": "completed"
    },
    "tags": []
   },
   "outputs": [],
   "source": [
    "import sys\n",
    "sys.setrecursionlimit(10000)\n",
    "# set the maximum depth of the Python interpreter stack. This stack depth is crucial for recursive function calls, \n",
    "# as it limits how deep the recursion can go before causing a RecursionError."
   ]
  },
  {
   "cell_type": "code",
   "execution_count": 10,
   "id": "5a4ad092-ac6d-4f1f-b825-a9beead92c6e",
   "metadata": {
    "execution": {
     "iopub.execute_input": "2025-07-26T06:14:59.405847Z",
     "iopub.status.busy": "2025-07-26T06:14:59.405258Z",
     "iopub.status.idle": "2025-07-26T06:14:59.444233Z",
     "shell.execute_reply": "2025-07-26T06:14:59.443598Z"
    },
    "papermill": {
     "duration": 0.042875,
     "end_time": "2025-07-26T06:14:59.445078",
     "exception": false,
     "start_time": "2025-07-26T06:14:59.402203",
     "status": "completed"
    },
    "tags": []
   },
   "outputs": [
    {
     "data": {
      "image/png": "[encoded data removed]",
      "text/plain": [
       "<IPython.core.display.Image object>"
      ]
     },
     "metadata": {},
     "output_type": "display_data"
    }
   ],
   "source": [
    "display_2d_structure(inp_smiles)\n"
   ]
  },
  {
   "cell_type": "markdown",
   "id": "c439e673",
   "metadata": {
    "papermill": {
     "duration": 0.002592,
     "end_time": "2025-07-26T06:14:59.450399",
     "exception": false,
     "start_time": "2025-07-26T06:14:59.447807",
     "status": "completed"
    },
    "tags": []
   },
   "source": [
    "**Importing the necessary libraries**"
   ]
  },
  {
   "cell_type": "code",
   "execution_count": 11,
   "id": "fb19f1c4",
   "metadata": {
    "execution": {
     "iopub.execute_input": "2025-07-26T06:14:59.456734Z",
     "iopub.status.busy": "2025-07-26T06:14:59.456147Z",
     "iopub.status.idle": "2025-07-26T06:18:21.603803Z",
     "shell.execute_reply": "2025-07-26T06:18:21.602959Z"
    },
    "papermill": {
     "duration": 202.152209,
     "end_time": "2025-07-26T06:18:21.605246",
     "exception": false,
     "start_time": "2025-07-26T06:14:59.453037",
     "status": "completed"
    },
    "tags": []
   },
   "outputs": [
    {
     "name": "stderr",
     "output_type": "stream",
     "text": [
      "Warning: importing 'simtk.openmm' is deprecated.  Import 'openmm' instead.\n"
     ]
    },
    {
     "data": {
      "application/vnd.jupyter.widget-view+json": {
       "model_id": "846850335cda48efb2c1f34c6ce0bdf1",
       "version_major": 2,
       "version_minor": 0
      },
      "text/plain": []
     },
     "metadata": {},
     "output_type": "display_data"
    },
    {
     "name": "stderr",
     "output_type": "stream",
     "text": [
      "/opt/conda/envs/GNNImplicitSolvent/lib/python3.10/site-packages/Simulation/helper_functions.py:1168: FutureWarning: You are using `torch.load` with `weights_only=False` (the current default value), which uses the default pickle module implicitly. It is possible to construct malicious pickle data which will execute arbitrary code during unpickling (See https://github.com/pytorch/pytorch/blob/main/SECURITY.md#untrusted-models for more details). In a future release, the default value for `weights_only` will be flipped to `True`. This limits the functions that could be executed during unpickling. Arbitrary objects will no longer be allowed to be loaded via this mode unless they are explicitly allowlisted by the user via `torch.serialization.add_safe_globals`. We recommend you start setting `weights_only=True` for any use case where you don't have full control of the loaded file. Please open an issue on GitHub for any issues related to this experimental feature.\n",
      "  model_dict = torch.load(model_path, map_location=\"cpu\")[\"model\"]\n"
     ]
    },
    {
     "name": "stdout",
     "output_type": "stream",
     "text": [
      "Using OpenFF forcefield: openff-2.0.0\n",
      "using rdkit molecule\n",
      "setting charges based on AM1BCC\n"
     ]
    },
    {
     "name": "stdout",
     "output_type": "stream",
     "text": [
      "Using OpenFF forcefield: openff-2.0.0\n",
      "using rdkit molecule\n",
      "setting charges based on AM1BCC\n"
     ]
    },
    {
     "name": "stdout",
     "output_type": "stream",
     "text": [
      "Using OpenFF forcefield: openff-2.0.0\n",
      "using rdkit molecule\n",
      "setting charges based on AM1BCC\n"
     ]
    },
    {
     "name": "stdout",
     "output_type": "stream",
     "text": [
      "Using OpenFF forcefield: openff-2.0.0\n",
      "using rdkit molecule\n",
      "setting charges based on AM1BCC\n"
     ]
    },
    {
     "name": "stderr",
     "output_type": "stream",
     "text": [
      "/opt/conda/envs/GNNImplicitSolvent/lib/python3.10/site-packages/Simulation/Simulator.py:940: UserWarning: Platform not available, defaulting to CPU\n",
      "  warnings.warn(\"Platform not available, defaulting to CPU\")\n"
     ]
    },
    {
     "name": "stdout",
     "output_type": "stream",
     "text": [
      "Using OpenFF forcefield: openff-2.0.0\n",
      "using rdkit molecule\n",
      "setting charges based on AM1BCC\n"
     ]
    },
    {
     "name": "stdout",
     "output_type": "stream",
     "text": [
      "Platform:  GPU  ready\n"
     ]
    },
    {
     "name": "stdout",
     "output_type": "stream",
     "text": [
      "All parallel systems have the same forces as the reference System\n"
     ]
    },
    {
     "name": "stderr",
     "output_type": "stream",
     "text": [
      "\r",
      "  0%|          | 0/1 [00:00<?, ?it/s]"
     ]
    },
    {
     "name": "stderr",
     "output_type": "stream",
     "text": [
      "\r",
      "100%|██████████| 1/1 [02:23<00:00, 143.91s/it]"
     ]
    },
    {
     "name": "stderr",
     "output_type": "stream",
     "text": [
      "\r",
      "100%|██████████| 1/1 [02:23<00:00, 143.91s/it]"
     ]
    },
    {
     "name": "stderr",
     "output_type": "stream",
     "text": [
      "\n"
     ]
    },
    {
     "name": "stdout",
     "output_type": "stream",
     "text": [
      "CPU times: user 36min 17s, sys: 1min 8s, total: 37min 26s\n",
      "Wall time: 3min 22s\n"
     ]
    }
   ],
   "source": [
    "%%time\n",
    "\n",
    "from GNNImplicitSolvent import minimize_mol, calculate_entropy\n",
    "from rdkit import Chem\n",
    "from rdkit.Chem import AllChem\n",
    "\n",
    "mol = Chem.MolFromSmiles(inp_smiles)\n",
    "mol = Chem.AddHs(mol)\n",
    "AllChem.EmbedMultipleConfs(mol, numConfs=num_conf_gnnis, useExpTorsionAnglePrefs = False)\n",
    "\n",
    "minimized_mol, energies = minimize_mol(mol,Solvent)\n",
    "#entropies, free_energies = calculate_entropy(minimized_mol,Solvent)"
   ]
  },
  {
   "cell_type": "code",
   "execution_count": 12,
   "id": "b97caacf",
   "metadata": {
    "execution": {
     "iopub.execute_input": "2025-07-26T06:18:21.616566Z",
     "iopub.status.busy": "2025-07-26T06:18:21.615140Z",
     "iopub.status.idle": "2025-07-26T06:18:21.622114Z",
     "shell.execute_reply": "2025-07-26T06:18:21.621553Z"
    },
    "papermill": {
     "duration": 0.013463,
     "end_time": "2025-07-26T06:18:21.622957",
     "exception": false,
     "start_time": "2025-07-26T06:18:21.609494",
     "status": "completed"
    },
    "tags": []
   },
   "outputs": [],
   "source": [
    "import csv\n",
    "# Convert to kcal/mol\n",
    "energies_kcal = [e / 4.184 for e in energies]\n",
    "\n",
    "# Save to CSV\n",
    "with open('opt_conf_energies_from_gnnis.csv', 'w', newline='') as file:\n",
    "    writer = csv.writer(file)\n",
    "    writer.writerow(['conformer_id', 'energy_in_kcalpermol'])  # Header\n",
    "    for i, energy in enumerate(energies_kcal):\n",
    "        writer.writerow([i, energy])"
   ]
  },
  {
   "cell_type": "code",
   "execution_count": 13,
   "id": "d5a34a10",
   "metadata": {
    "execution": {
     "iopub.execute_input": "2025-07-26T06:18:21.630843Z",
     "iopub.status.busy": "2025-07-26T06:18:21.630349Z",
     "iopub.status.idle": "2025-07-26T06:18:21.777291Z",
     "shell.execute_reply": "2025-07-26T06:18:21.776772Z"
    },
    "papermill": {
     "duration": 0.151658,
     "end_time": "2025-07-26T06:18:21.778170",
     "exception": false,
     "start_time": "2025-07-26T06:18:21.626512",
     "status": "completed"
    },
    "tags": []
   },
   "outputs": [],
   "source": [
    "def save_conformers_to_sdf(mol: Chem.Mol, filename: str) -> None:\n",
    "    \"\"\"Save a molecule with multiple conformers to an SDF file.\n",
    "\n",
    "    Args:\n",
    "        mol (Chem.Mol): The molecule containing multiple conformers.\n",
    "        filename (str): The name of the output SDF file.\n",
    "    \"\"\"\n",
    "    writer = Chem.SDWriter(filename)\n",
    "    \n",
    "    for conf_id in range(mol.GetNumConformers()):\n",
    "        mol.SetProp(\"_Name\", f\"conformer_{conf_id}\")\n",
    "        writer.write(mol, confId=conf_id)\n",
    "    \n",
    "    writer.close()\n",
    "\n",
    "#opt_conf_sdf=\"optimized_generated_conformers.sdf\"\n",
    "save_conformers_to_sdf(minimized_mol,\"conformers_gnnis.sdf\")"
   ]
  }
 ],
 "metadata": {
  "kernelspec": {
   "display_name": "Python 3 (ipykernel)",
   "language": "python",
   "name": "python3"
  },
  "language_info": {
   "codemirror_mode": {
    "name": "ipython",
    "version": 3
   },
   "file_extension": ".py",
   "mimetype": "text/x-python",
   "name": "python",
   "nbconvert_exporter": "python",
   "pygments_lexer": "ipython3",
   "version": "3.10.17"
  },
  "papermill": {
   "default_parameters": {},
   "duration": 206.314192,
   "end_time": "2025-07-26T06:18:23.501373",
   "environment_variables": {},
   "exception": null,
   "input_path": "full_pipeline_pka_gnnis-1.ipynb",
   "output_path": "full_pipeline_pka_gnnis-1_output.ipynb",
   "parameters": {
    "Solvent": "acetone",
    "inp_smiles": "O=C(O)c1ccccc1O",
    "num_conf_gnnis": 500,
    "output_dir": "M74"
   },
   "start_time": "2025-07-26T06:14:57.187181",
   "version": "2.6.0"
  },
  "widgets": {
   "application/vnd.jupyter.widget-state+json": {
    "state": {
     "2ad29c3d17ad422db1f24b15ddaa74ed": {
      "model_module": "@jupyter-widgets/base",
      "model_module_version": "2.0.0",
      "model_name": "LayoutModel",
      "state": {
       "_model_module": "@jupyter-widgets/base",
       "_model_module_version": "2.0.0",
       "_model_name": "LayoutModel",
       "_view_count": null,
       "_view_module": "@jupyter-widgets/base",
       "_view_module_version": "2.0.0",
       "_view_name": "LayoutView",
       "align_content": null,
       "align_items": null,
       "align_self": null,
       "border_bottom": null,
       "border_left": null,
       "border_right": null,
       "border_top": null,
       "bottom": null,
       "display": null,
       "flex": null,
       "flex_flow": null,
       "grid_area": null,
       "grid_auto_columns": null,
       "grid_auto_flow": null,
       "grid_auto_rows": null,
       "grid_column": null,
       "grid_gap": null,
       "grid_row": null,
       "grid_template_areas": null,
       "grid_template_columns": null,
       "grid_template_rows": null,
       "height": null,
       "justify_content": null,
       "justify_items": null,
       "left": null,
       "margin": null,
       "max_height": null,
       "max_width": null,
       "min_height": null,
       "min_width": null,
       "object_fit": null,
       "object_position": null,
       "order": null,
       "overflow": null,
       "padding": null,
       "right": null,
       "top": null,
       "visibility": null,
       "width": null
      }
     },
     "846850335cda48efb2c1f34c6ce0bdf1": {
      "model_module": "nglview-js-widgets",
      "model_module_version": "3.1.4",
      "model_name": "ColormakerRegistryModel",
      "state": {
       "_dom_classes": [],
       "_model_module": "nglview-js-widgets",
       "_model_module_version": "3.1.4",
       "_model_name": "ColormakerRegistryModel",
       "_msg_ar": [],
       "_msg_q": [],
       "_ready": false,
       "_view_count": null,
       "_view_module": "nglview-js-widgets",
       "_view_module_version": "3.1.4",
       "_view_name": "ColormakerRegistryView",
       "layout": "IPY_MODEL_2ad29c3d17ad422db1f24b15ddaa74ed",
       "tabbable": null,
       "tooltip": null
      }
     }
    },
    "version_major": 2,
    "version_minor": 0
   }
  }
 },
 "nbformat": 4,
 "nbformat_minor": 5
}