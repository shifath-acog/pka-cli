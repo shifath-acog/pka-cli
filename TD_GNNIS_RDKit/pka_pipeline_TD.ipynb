{
 "cells": [
  {
   "cell_type": "code",
   "execution_count": null,
   "metadata": {},
   "outputs": [],
   "source": [
    "import os\n",
    "os.chdir(\"/work\")\n",
    "os.makedirs(inp_out_path, exist_ok=True)\n",
    "os.chdir(inp_out_path)\n",
    "!pwd\n"
   ]
  },
  {
   "cell_type": "code",
   "execution_count": null,
   "metadata": {},
   "outputs": [],
   "source": [
    "import pandas as pd\n",
    "\n",
    "def create_exact_format_csv(smiles_input, output_filename):\n",
    "    \"\"\"\n",
    "    Create CSV with exact format including duplicate column names\n",
    "    \"\"\"\n",
    "    \n",
    "    # If input is a single string, convert to list\n",
    "    if isinstance(smiles_input, str):\n",
    "        smiles_list = [smiles_input]\n",
    "    else:\n",
    "        smiles_list = smiles_input\n",
    "    \n",
    "    # Write directly to file to preserve exact format\n",
    "    with open(output_filename, 'w', encoding='utf-8') as f:\n",
    "        # Write header exactly as specified\n",
    "        f.write('smile_str,num_conformers,smile_str\\n')\n",
    "        \n",
    "        # Write data rows\n",
    "        for smiles in smiles_list:\n",
    "            f.write(f'{smiles},0,{smiles}\\n')\n",
    "    \n",
    "    print(f\"CSV file '{output_filename}' created with exact format!\")\n",
    "\n",
    "create_exact_format_csv(inp_smiles, output_filename=\"isomeric_smi_inp.csv\")"
   ]
  },
  {
   "cell_type": "code",
   "execution_count": null,
   "metadata": {},
   "outputs": [],
   "source": [
    "import os\n",
    "import subprocess\n",
    "import shutil\n",
    "\n",
    "# Config\n",
    "#inp_out_path = \"/work/inp_TD/\"\n",
    "#csv_file_name = \"isomeric_smi_inp\"\n",
    "out_prefix = \"conformers_TD\"\n",
    "#num_conf_TD= 200\n",
    "\n",
    "# Generate conformers\n",
    "subprocess.run([\n",
    "    \"python\", \"/app/torsional-diffusion-master/generate_confs.py\",\n",
    "    \"--model_dir\", \"/app/TD-trained_models/drugs_default/\",\n",
    "    \"--out\", f\"{out_prefix}.pkl\",\n",
    "    \"--test_csv\", \"isomeric_smi_inp.csv\",\n",
    "    \"--inference_steps\", \"20\",\n",
    "    \"--confs_per_mol\", f\"{num_conf_TD}\",\n",
    "    \"--tqdm\", \"--batch_size\", \"64\", \"--post_mmff\"\n",
    "], check=True)\n",
    "\n",
    "# Convert to SDF\n",
    "subprocess.run([\n",
    "    \"python\", \"/app/pkl_to_sdf.py\",\n",
    "    f\"{out_prefix}.pkl\",\n",
    "    f\"{out_prefix}.sdf\"\n",
    "], check=True)\n",
    "\n",
    "# Process output\n",
    "#os.chdir(inp_out_path)\n",
    "shutil.move(f\"{out_prefix}.sdf_0_conformers.sdf\", f\"{out_prefix}.sdf\")\n",
    "\n",
    "# Remove first line\n",
    "with open(f\"{out_prefix}.sdf\", 'r') as f:\n",
    "    lines = f.readlines()\n",
    "with open(f\"{out_prefix}.sdf\", 'w') as f:\n",
    "    f.writelines(lines[1:])\n",
    "\n",
    "print(\"Done!\")"
   ]
  }
 ],
 "metadata": {
  "kernelspec": {
   "display_name": "torsional_diffusion",
   "language": "python",
   "name": "python3"
  },
  "language_info": {
   "codemirror_mode": {
    "name": "ipython",
    "version": 3
   },
   "file_extension": ".py",
   "mimetype": "text/x-python",
   "name": "python",
   "nbconvert_exporter": "python",
   "pygments_lexer": "ipython3",
   "version": "3.9.23"
  }
 },
 "nbformat": 4,
 "nbformat_minor": 2
}
