{
 "cells": [
  {
   "cell_type": "markdown",
   "id": "08cd9069",
   "metadata": {
    "papermill": {
     "duration": 0.007362,
     "end_time": "2025-05-22T18:14:30.261283",
     "exception": false,
     "start_time": "2025-05-22T18:14:30.253921",
     "status": "completed"
    },
    "tags": []
   },
   "source": [
    "# Conformer Generation Pipeline"
   ]
  },
  {
   "cell_type": "markdown",
   "id": "4971aa7f-5c76-4f35-9c81-4116d9657d34",
   "metadata": {
    "papermill": {
     "duration": 0.005888,
     "end_time": "2025-05-22T18:14:30.273596",
     "exception": false,
     "start_time": "2025-05-22T18:14:30.267708",
     "status": "completed"
    },
    "tags": []
   },
   "source": [
    "## **Step 1: Input Smile and Reference Conformer**"
   ]
  },
  {
   "cell_type": "code",
   "execution_count": null,
   "id": "32bf4f81",
   "metadata": {},
   "outputs": [],
   "source": [
    "# import os\n",
    "# # Specify which GPUs to use\n",
    "# os.environ[\"CUDA_VISIBLE_DEVICES\"] = \"0,1\"\n",
    "# os.environ[\"OMP_NUM_THREADS\"] = \"25\"\n",
    "# os.environ[\"MKL_NUM_THREADS\"] = \"25\"\n",
    "# os.environ[\"OPENBLAS_NUM_THREADS\"] = \"25\""
   ]
  },
  {
   "cell_type": "code",
   "execution_count": null,
   "id": "5d501701-5206-48cd-b7da-e90f6caf7b03",
   "metadata": {
    "execution": {
     "iopub.execute_input": "2025-05-22T18:14:30.286946Z",
     "iopub.status.busy": "2025-05-22T18:14:30.286235Z",
     "iopub.status.idle": "2025-05-22T18:14:30.293891Z",
     "shell.execute_reply": "2025-05-22T18:14:30.293387Z"
    },
    "papermill": {
     "duration": 0.015388,
     "end_time": "2025-05-22T18:14:30.294800",
     "exception": false,
     "start_time": "2025-05-22T18:14:30.279412",
     "status": "completed"
    },
    "tags": []
   },
   "outputs": [],
   "source": [
    "import time\n",
    "\n",
    "# Capture the start time\n",
    "start_time: float = time.time()"
   ]
  },
  {
   "cell_type": "code",
   "execution_count": null,
   "id": "554a12ca",
   "metadata": {},
   "outputs": [],
   "source": [
    "import sys\n",
    "\n",
    "# Add a folder to Python's import path\n",
    "sys.path.append('/work') \n",
    "\n",
    "from atk_conformer_generation_pipeline.utils import *\n",
    "from atk_conformer_generation_pipeline.variables import *"
   ]
  },
  {
   "cell_type": "code",
   "execution_count": null,
   "id": "93df80ed",
   "metadata": {
    "execution": {
     "iopub.execute_input": "2025-05-22T18:14:31.810443Z",
     "iopub.status.busy": "2025-05-22T18:14:31.809401Z",
     "iopub.status.idle": "2025-05-22T18:14:32.112034Z",
     "shell.execute_reply": "2025-05-22T18:14:32.111075Z"
    },
    "papermill": {
     "duration": 0.310772,
     "end_time": "2025-05-22T18:14:32.113334",
     "exception": false,
     "start_time": "2025-05-22T18:14:31.802562",
     "status": "completed"
    },
    "tags": []
   },
   "outputs": [],
   "source": [
    "#Change the dir to /work\n",
    "os.chdir(\"/work\")\n",
    "!pwd"
   ]
  },
  {
   "cell_type": "markdown",
   "id": "f55b42bf",
   "metadata": {
    "papermill": {
     "duration": 0.006195,
     "end_time": "2025-05-22T18:14:32.126088",
     "exception": false,
     "start_time": "2025-05-22T18:14:32.119893",
     "status": "completed"
    },
    "tags": []
   },
   "source": [
    "**Change the below variables accordingly**"
   ]
  },
  {
   "cell_type": "code",
   "execution_count": null,
   "id": "ac382af3-999f-448f-b2aa-9dbc8156c0e2",
   "metadata": {
    "execution": {
     "iopub.execute_input": "2025-05-22T18:14:32.157459Z",
     "iopub.status.busy": "2025-05-22T18:14:32.157067Z",
     "iopub.status.idle": "2025-05-22T18:14:32.160233Z",
     "shell.execute_reply": "2025-05-22T18:14:32.159662Z"
    },
    "papermill": {
     "duration": 0.010673,
     "end_time": "2025-05-22T18:14:32.161073",
     "exception": false,
     "start_time": "2025-05-22T18:14:32.150400",
     "status": "completed"
    },
    "tags": []
   },
   "outputs": [],
   "source": [
    "os.makedirs(output_dir, exist_ok=True)\n",
    "os.chdir(output_dir)"
   ]
  },
  {
   "cell_type": "code",
   "execution_count": null,
   "id": "f61b3690-cdda-4863-8df0-a2d88dc4055b",
   "metadata": {
    "execution": {
     "iopub.execute_input": "2025-05-22T18:14:32.174168Z",
     "iopub.status.busy": "2025-05-22T18:14:32.173694Z",
     "iopub.status.idle": "2025-05-22T18:14:32.475802Z",
     "shell.execute_reply": "2025-05-22T18:14:32.474858Z"
    },
    "papermill": {
     "duration": 0.310189,
     "end_time": "2025-05-22T18:14:32.477238",
     "exception": false,
     "start_time": "2025-05-22T18:14:32.167049",
     "status": "completed"
    },
    "tags": []
   },
   "outputs": [],
   "source": [
    "!pwd"
   ]
  },
  {
   "cell_type": "code",
   "execution_count": null,
   "id": "f4ba3694-7eed-4a2d-bc09-e0df8c6e5b6b",
   "metadata": {
    "execution": {
     "iopub.execute_input": "2025-05-22T18:14:32.491505Z",
     "iopub.status.busy": "2025-05-22T18:14:32.490979Z",
     "iopub.status.idle": "2025-05-22T18:14:32.494452Z",
     "shell.execute_reply": "2025-05-22T18:14:32.493867Z"
    },
    "papermill": {
     "duration": 0.011488,
     "end_time": "2025-05-22T18:14:32.495371",
     "exception": false,
     "start_time": "2025-05-22T18:14:32.483883",
     "status": "completed"
    },
    "tags": []
   },
   "outputs": [],
   "source": [
    "import sys\n",
    "sys.setrecursionlimit(10000)\n",
    "# set the maximum depth of the Python interpreter stack. This stack depth is crucial for recursive function calls, \n",
    "# as it limits how deep the recursion can go before causing a RecursionError."
   ]
  },
  {
   "cell_type": "code",
   "execution_count": null,
   "id": "5a4ad092-ac6d-4f1f-b825-a9beead92c6e",
   "metadata": {
    "execution": {
     "iopub.execute_input": "2025-05-22T18:14:32.508639Z",
     "iopub.status.busy": "2025-05-22T18:14:32.508134Z",
     "iopub.status.idle": "2025-05-22T18:14:32.531184Z",
     "shell.execute_reply": "2025-05-22T18:14:32.530591Z"
    },
    "papermill": {
     "duration": 0.030657,
     "end_time": "2025-05-22T18:14:32.532093",
     "exception": false,
     "start_time": "2025-05-22T18:14:32.501436",
     "status": "completed"
    },
    "tags": []
   },
   "outputs": [],
   "source": [
    "display_2d_structure(inp_smiles)\n"
   ]
  },
  {
   "cell_type": "markdown",
   "id": "c439e673",
   "metadata": {
    "papermill": {
     "duration": 0.006239,
     "end_time": "2025-05-22T18:14:32.544635",
     "exception": false,
     "start_time": "2025-05-22T18:14:32.538396",
     "status": "completed"
    },
    "tags": []
   },
   "source": [
    "**Importing the necessary libraries**"
   ]
  },
  {
   "cell_type": "code",
   "execution_count": null,
   "id": "fb19f1c4",
   "metadata": {},
   "outputs": [],
   "source": [
    "%%time\n",
    "\n",
    "from GNNImplicitSolvent import minimize_mol, calculate_entropy\n",
    "from rdkit import Chem\n",
    "from rdkit.Chem import AllChem\n",
    "\n",
    "mol = Chem.MolFromSmiles(inp_smiles)\n",
    "mol = Chem.AddHs(mol)\n",
    "AllChem.EmbedMultipleConfs(mol, numConfs=num_conf, useExpTorsionAnglePrefs = False)\n",
    "\n",
    "minimized_mol, energies = minimize_mol(mol,Solvent)\n",
    "#entropies, free_energies = calculate_entropy(minimized_mol,Solvent)"
   ]
  },
  {
   "cell_type": "code",
   "execution_count": null,
   "id": "b97caacf",
   "metadata": {},
   "outputs": [],
   "source": [
    "import csv\n",
    "# Convert to kcal/mol\n",
    "energies_kcal = [e / 4.184 for e in energies]\n",
    "\n",
    "# Save to CSV\n",
    "with open('opt_conf_energies.csv', 'w', newline='') as file:\n",
    "    writer = csv.writer(file)\n",
    "    writer.writerow(['conformer_id', 'energy_in_kcalpermol'])  # Header\n",
    "    for i, energy in enumerate(energies_kcal):\n",
    "        writer.writerow([i, energy])"
   ]
  },
  {
   "cell_type": "code",
   "execution_count": null,
   "id": "d5a34a10",
   "metadata": {},
   "outputs": [],
   "source": [
    "def save_conformers_to_sdf(mol: Chem.Mol, filename: str) -> None:\n",
    "    \"\"\"Save a molecule with multiple conformers to an SDF file.\n",
    "\n",
    "    Args:\n",
    "        mol (Chem.Mol): The molecule containing multiple conformers.\n",
    "        filename (str): The name of the output SDF file.\n",
    "    \"\"\"\n",
    "    writer = Chem.SDWriter(filename)\n",
    "    \n",
    "    for conf_id in range(mol.GetNumConformers()):\n",
    "        mol.SetProp(\"_Name\", f\"conformer_{conf_id}\")\n",
    "        writer.write(mol, confId=conf_id)\n",
    "    \n",
    "    writer.close()\n",
    "\n",
    "opt_conf_sdf=\"optimized_generated_conformers.sdf\"\n",
    "save_conformers_to_sdf(minimized_mol,opt_conf_sdf)"
   ]
  }
 ],
 "metadata": {
  "kernelspec": {
   "display_name": "GNNImplicitSolvent",
   "language": "python",
   "name": "gnnimplicitsolvent"
  },
  "language_info": {
   "codemirror_mode": {
    "name": "ipython",
    "version": 3
   },
   "file_extension": ".py",
   "mimetype": "text/x-python",
   "name": "python",
   "nbconvert_exporter": "python",
   "pygments_lexer": "ipython3",
   "version": "3.10.17"
  },
  "papermill": {
   "default_parameters": {},
   "duration": 2006.300544,
   "end_time": "2025-05-22T18:47:55.689251",
   "environment_variables": {},
   "exception": true,
   "input_path": "full_pipeline_pka_ovh_2.ipynb",
   "output_path": "full_pipeline_pka_ovh_2_output.ipynb",
   "parameters": {},
   "start_time": "2025-05-22T18:14:29.388707",
   "version": "2.6.0"
  }
 },
 "nbformat": 4,
 "nbformat_minor": 5
}
