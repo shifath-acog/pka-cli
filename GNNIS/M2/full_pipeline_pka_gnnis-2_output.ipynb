{
 "cells": [
  {
   "cell_type": "code",
   "execution_count": 1,
   "id": "f4bdd53f",
   "metadata": {
    "execution": {
     "iopub.execute_input": "2025-08-18T04:29:21.863795Z",
     "iopub.status.busy": "2025-08-18T04:29:21.863609Z",
     "iopub.status.idle": "2025-08-18T04:29:21.867898Z",
     "shell.execute_reply": "2025-08-18T04:29:21.867630Z"
    },
    "papermill": {
     "duration": 0.009384,
     "end_time": "2025-08-18T04:29:21.868394",
     "exception": false,
     "start_time": "2025-08-18T04:29:21.859010",
     "status": "completed"
    },
    "tags": [
     "injected-parameters"
    ]
   },
   "outputs": [],
   "source": [
    "# Parameters\n",
    "inp_smiles = \"NC(N)=O\"\n",
    "output_dir = \"M2\"\n",
    "pKa_EXP = 24.88\n",
    "E_avg_proton = -275.755\n",
    "num_conf = 10\n",
    "dielectric_value = 46.826\n"
   ]
  },
  {
   "cell_type": "markdown",
   "id": "08cd9069",
   "metadata": {
    "papermill": {
     "duration": 0.002735,
     "end_time": "2025-08-18T04:29:21.875731",
     "exception": false,
     "start_time": "2025-08-18T04:29:21.872996",
     "status": "completed"
    },
    "tags": []
   },
   "source": [
    "# Conformer Generation Pipeline"
   ]
  },
  {
   "cell_type": "markdown",
   "id": "4971aa7f-5c76-4f35-9c81-4116d9657d34",
   "metadata": {
    "papermill": {
     "duration": 0.002795,
     "end_time": "2025-08-18T04:29:21.881382",
     "exception": false,
     "start_time": "2025-08-18T04:29:21.878587",
     "status": "completed"
    },
    "tags": []
   },
   "source": [
    "## **Step 1: Input Smile and Reference Conformer**"
   ]
  },
  {
   "cell_type": "code",
   "execution_count": 2,
   "id": "5d501701-5206-48cd-b7da-e90f6caf7b03",
   "metadata": {
    "execution": {
     "iopub.execute_input": "2025-08-18T04:29:21.887687Z",
     "iopub.status.busy": "2025-08-18T04:29:21.887607Z",
     "iopub.status.idle": "2025-08-18T04:29:21.889154Z",
     "shell.execute_reply": "2025-08-18T04:29:21.888915Z"
    },
    "papermill": {
     "duration": 0.005037,
     "end_time": "2025-08-18T04:29:21.889528",
     "exception": false,
     "start_time": "2025-08-18T04:29:21.884491",
     "status": "completed"
    },
    "tags": []
   },
   "outputs": [],
   "source": [
    "import time\n",
    "\n",
    "# Capture the start time\n",
    "start_time: float = time.time()"
   ]
  },
  {
   "cell_type": "code",
   "execution_count": 3,
   "id": "989c7779",
   "metadata": {
    "execution": {
     "iopub.execute_input": "2025-08-18T04:29:21.895595Z",
     "iopub.status.busy": "2025-08-18T04:29:21.895480Z",
     "iopub.status.idle": "2025-08-18T04:29:21.897229Z",
     "shell.execute_reply": "2025-08-18T04:29:21.896963Z"
    },
    "papermill": {
     "duration": 0.00526,
     "end_time": "2025-08-18T04:29:21.897653",
     "exception": false,
     "start_time": "2025-08-18T04:29:21.892393",
     "status": "completed"
    },
    "tags": []
   },
   "outputs": [],
   "source": [
    "import sys\n",
    "\n",
    "# Add a folder to Python's import path\n",
    "sys.path.append('/work')"
   ]
  },
  {
   "cell_type": "code",
   "execution_count": 4,
   "id": "285a545a",
   "metadata": {
    "execution": {
     "iopub.execute_input": "2025-08-18T04:29:21.903700Z",
     "iopub.status.busy": "2025-08-18T04:29:21.903589Z",
     "iopub.status.idle": "2025-08-18T04:29:22.865957Z",
     "shell.execute_reply": "2025-08-18T04:29:22.865474Z"
    },
    "papermill": {
     "duration": 0.966322,
     "end_time": "2025-08-18T04:29:22.866781",
     "exception": false,
     "start_time": "2025-08-18T04:29:21.900459",
     "status": "completed"
    },
    "tags": []
   },
   "outputs": [],
   "source": [
    "from atk_conformer_generation_pipeline.utils import *\n",
    "from atk_conformer_generation_pipeline.variables import *\n",
    "import os\n",
    "import glob\n",
    "import re\n",
    "import subprocess\n",
    "from pyscf import gto\n",
    "from pyscf.geomopt import geometric_solver\n",
    "from gpu4pyscf.dft import rks\n",
    "from pyscf.hessian import thermo\n",
    "from termcolor import colored"
   ]
  },
  {
   "cell_type": "code",
   "execution_count": 5,
   "id": "14baedfb",
   "metadata": {
    "execution": {
     "iopub.execute_input": "2025-08-18T04:29:22.881289Z",
     "iopub.status.busy": "2025-08-18T04:29:22.880679Z",
     "iopub.status.idle": "2025-08-18T04:29:22.883012Z",
     "shell.execute_reply": "2025-08-18T04:29:22.882743Z"
    },
    "papermill": {
     "duration": 0.013525,
     "end_time": "2025-08-18T04:29:22.883432",
     "exception": false,
     "start_time": "2025-08-18T04:29:22.869907",
     "status": "completed"
    },
    "tags": []
   },
   "outputs": [],
   "source": [
    "import os\n",
    "# Specify which GPUs to use\n",
    "# os.environ[\"CUDA_VISIBLE_DEVICES\"] = \"0,1\"\n",
    "# os.environ[\"OMP_NUM_THREADS\"] = \"25\"\n",
    "# os.environ[\"MKL_NUM_THREADS\"] = \"25\"\n",
    "# os.environ[\"OPENBLAS_NUM_THREADS\"] = \"25\""
   ]
  },
  {
   "cell_type": "code",
   "execution_count": 6,
   "id": "93df80ed",
   "metadata": {
    "execution": {
     "iopub.execute_input": "2025-08-18T04:29:22.889648Z",
     "iopub.status.busy": "2025-08-18T04:29:22.889528Z",
     "iopub.status.idle": "2025-08-18T04:29:23.143821Z",
     "shell.execute_reply": "2025-08-18T04:29:23.143337Z"
    },
    "papermill": {
     "duration": 0.258369,
     "end_time": "2025-08-18T04:29:23.144652",
     "exception": false,
     "start_time": "2025-08-18T04:29:22.886283",
     "status": "completed"
    },
    "tags": []
   },
   "outputs": [
    {
     "name": "stdout",
     "output_type": "stream",
     "text": [
      "/work\r\n"
     ]
    }
   ],
   "source": [
    "#Change the dir to /work\n",
    "os.chdir(\"/work\")\n",
    "!pwd"
   ]
  },
  {
   "cell_type": "markdown",
   "id": "f55b42bf",
   "metadata": {
    "papermill": {
     "duration": 0.010108,
     "end_time": "2025-08-18T04:29:23.158036",
     "exception": false,
     "start_time": "2025-08-18T04:29:23.147928",
     "status": "completed"
    },
    "tags": []
   },
   "source": [
    "**Change the below variables accordingly**"
   ]
  },
  {
   "cell_type": "code",
   "execution_count": 7,
   "id": "cefcb4f6-adfe-4aba-bff3-f6d5701ca04a",
   "metadata": {
    "execution": {
     "iopub.execute_input": "2025-08-18T04:29:23.164582Z",
     "iopub.status.busy": "2025-08-18T04:29:23.164431Z",
     "iopub.status.idle": "2025-08-18T04:29:23.166481Z",
     "shell.execute_reply": "2025-08-18T04:29:23.166239Z"
    },
    "papermill": {
     "duration": 0.005909,
     "end_time": "2025-08-18T04:29:23.166829",
     "exception": false,
     "start_time": "2025-08-18T04:29:23.160920",
     "status": "completed"
    },
    "tags": []
   },
   "outputs": [],
   "source": [
    "# inp_smiles: str=\"O=C(O)c1cc(Br)c2ccccc2c1\"\n",
    "# dielectric_value: float=46.826\n",
    "# output_dir: str=\"output_gnnis_test_1\"\n",
    "# num_conf: int = 10     # Number of conformers to be generated\n",
    "# E_avg_proton: float=-274.8838384  # E_H (solv) in kcal/mol\n",
    "# pKa_EXP: float=10.04 # Experimental pKa"
   ]
  },
  {
   "cell_type": "code",
   "execution_count": 8,
   "id": "ac382af3-999f-448f-b2aa-9dbc8156c0e2",
   "metadata": {
    "execution": {
     "iopub.execute_input": "2025-08-18T04:29:23.173083Z",
     "iopub.status.busy": "2025-08-18T04:29:23.172968Z",
     "iopub.status.idle": "2025-08-18T04:29:23.174688Z",
     "shell.execute_reply": "2025-08-18T04:29:23.174511Z"
    },
    "papermill": {
     "duration": 0.005361,
     "end_time": "2025-08-18T04:29:23.175040",
     "exception": false,
     "start_time": "2025-08-18T04:29:23.169679",
     "status": "completed"
    },
    "tags": []
   },
   "outputs": [],
   "source": [
    "os.makedirs(output_dir, exist_ok=True)\n",
    "os.chdir(output_dir)"
   ]
  },
  {
   "cell_type": "code",
   "execution_count": 9,
   "id": "f61b3690-cdda-4863-8df0-a2d88dc4055b",
   "metadata": {
    "execution": {
     "iopub.execute_input": "2025-08-18T04:29:23.181286Z",
     "iopub.status.busy": "2025-08-18T04:29:23.181171Z",
     "iopub.status.idle": "2025-08-18T04:29:23.435638Z",
     "shell.execute_reply": "2025-08-18T04:29:23.435224Z"
    },
    "papermill": {
     "duration": 0.258703,
     "end_time": "2025-08-18T04:29:23.436610",
     "exception": false,
     "start_time": "2025-08-18T04:29:23.177907",
     "status": "completed"
    },
    "tags": []
   },
   "outputs": [
    {
     "name": "stdout",
     "output_type": "stream",
     "text": [
      "/work/M2\r\n"
     ]
    }
   ],
   "source": [
    "!pwd"
   ]
  },
  {
   "cell_type": "code",
   "execution_count": 10,
   "id": "f4ba3694-7eed-4a2d-bc09-e0df8c6e5b6b",
   "metadata": {
    "execution": {
     "iopub.execute_input": "2025-08-18T04:29:23.450827Z",
     "iopub.status.busy": "2025-08-18T04:29:23.450681Z",
     "iopub.status.idle": "2025-08-18T04:29:23.452593Z",
     "shell.execute_reply": "2025-08-18T04:29:23.452402Z"
    },
    "papermill": {
     "duration": 0.013162,
     "end_time": "2025-08-18T04:29:23.453001",
     "exception": false,
     "start_time": "2025-08-18T04:29:23.439839",
     "status": "completed"
    },
    "tags": []
   },
   "outputs": [],
   "source": [
    "import sys\n",
    "sys.setrecursionlimit(10000)\n",
    "# set the maximum depth of the Python interpreter stack. This stack depth is crucial for recursive function calls, \n",
    "# as it limits how deep the recursion can go before causing a RecursionError."
   ]
  },
  {
   "cell_type": "markdown",
   "id": "c439e673",
   "metadata": {
    "papermill": {
     "duration": 0.002858,
     "end_time": "2025-08-18T04:29:23.458705",
     "exception": false,
     "start_time": "2025-08-18T04:29:23.455847",
     "status": "completed"
    },
    "tags": []
   },
   "source": [
    "**Importing the necessary libraries**"
   ]
  },
  {
   "cell_type": "code",
   "execution_count": 11,
   "id": "61799b39",
   "metadata": {
    "execution": {
     "iopub.execute_input": "2025-08-18T04:29:23.464933Z",
     "iopub.status.busy": "2025-08-18T04:29:23.464817Z",
     "iopub.status.idle": "2025-08-18T04:29:23.655295Z",
     "shell.execute_reply": "2025-08-18T04:29:23.655001Z"
    },
    "papermill": {
     "duration": 0.194389,
     "end_time": "2025-08-18T04:29:23.655984",
     "exception": false,
     "start_time": "2025-08-18T04:29:23.461595",
     "status": "completed"
    },
    "tags": []
   },
   "outputs": [],
   "source": [
    "from rdkit import Chem\n",
    "from rdkit.Chem import AllChem\n",
    "from rdkit import DataStructs\n",
    "import shutil\n",
    "import time\n",
    "import os\n",
    "import re\n",
    "import shutil\n",
    "import pandas as pd\n",
    "import numpy as np\n",
    "from numpy import loadtxt\n",
    "import csv\n",
    "from typing import *\n",
    "import matplotlib\n",
    "import matplotlib.pyplot as plt\n",
    "import matplotlib.colors as pltc\n",
    "from matplotlib.gridspec import GridSpec"
   ]
  },
  {
   "cell_type": "code",
   "execution_count": 12,
   "id": "c9a5b54a-fca1-4027-a5a4-fef355b7d869",
   "metadata": {
    "execution": {
     "iopub.execute_input": "2025-08-18T04:29:23.675898Z",
     "iopub.status.busy": "2025-08-18T04:29:23.675679Z",
     "iopub.status.idle": "2025-08-18T04:29:23.678193Z",
     "shell.execute_reply": "2025-08-18T04:29:23.678008Z"
    },
    "papermill": {
     "duration": 0.01963,
     "end_time": "2025-08-18T04:29:23.678551",
     "exception": false,
     "start_time": "2025-08-18T04:29:23.658921",
     "status": "completed"
    },
    "tags": []
   },
   "outputs": [
    {
     "name": "stdout",
     "output_type": "stream",
     "text": [
      "The path initial_generated_conformers.sdf does not exist.\n",
      "The path optimized_generated_conformers.smi does not exist.\n",
      "The path tanimoto_similarity.csv does not exist.\n",
      "The path feasible_geom_energies.csv does not exist.\n",
      "The path infeasible_geometries.csv does not exist.\n",
      "The path feasible_geometries.xyz does not exist.\n",
      "The path infeasible_geometries.xyz does not exist.\n",
      "The path rmsd_matrix-mx_flags.dat does not exist.\n",
      "The path pairwise_RMSDs.csv does not exist.\n",
      "The path cluster_rep_conformers.csv does not exist.\n",
      "The path cluster_rep_conformers.xyz does not exist.\n",
      "The path rep_of_cluster_ does not exist.\n",
      "The path cluster_rep_conformers does not exist.\n",
      "The path cluster_statistics-RMSDs.csv does not exist.\n",
      "The path cluster_statistics-energies.csv does not exist.\n",
      "The path opt_cluster_rep_conformers.csv does not exist.\n",
      "CPU times: user 302 µs, sys: 199 µs, total: 501 µs\n",
      "Wall time: 373 µs\n"
     ]
    }
   ],
   "source": [
    "%%time\n",
    "\n",
    "### Remove all files and directories created in the previous execution to avoid any confusion\n",
    "\n",
    "file_and_dir_to_remove: List[str]=[init_conf_xyz,opt_conf_SMILES_file,similarity_output_csv,\n",
    "feasible_geometries_csv,infeasible_geometries_csv,feasible_geometries_xyz,infeasible_geometries_xyz,pairwise_RMSDs_dat,\n",
    "pairwise_RMSDs_csv,cluster_reps_csv,cluster_reps_xyz,cluster_rep_prefix,cluster_reps_dir,clusters_RMSD_stats_csv,clusters_energy_stats_csv,\n",
    "opt_cluster_reps_csv]\n",
    "\n",
    "remove_paths(file_and_dir_to_remove)"
   ]
  },
  {
   "cell_type": "code",
   "execution_count": 13,
   "id": "1c40f7f1",
   "metadata": {
    "execution": {
     "iopub.execute_input": "2025-08-18T04:29:23.684915Z",
     "iopub.status.busy": "2025-08-18T04:29:23.684805Z",
     "iopub.status.idle": "2025-08-18T04:29:23.686239Z",
     "shell.execute_reply": "2025-08-18T04:29:23.686071Z"
    },
    "papermill": {
     "duration": 0.005026,
     "end_time": "2025-08-18T04:29:23.686581",
     "exception": false,
     "start_time": "2025-08-18T04:29:23.681555",
     "status": "completed"
    },
    "tags": []
   },
   "outputs": [],
   "source": [
    "# Run 1.ipynb in GNNImplicitSolvent\n",
    "\n",
    "#!source /opt/conda/etc/profile.d/conda.sh && conda activate GNNImplicitSolvent && /work/full_pipeline_pka_gnnis-1.py\n",
    "\n",
    "#echo \"Running 1.ipynb in GNNImplicitSolvent...\"\n",
    "# /opt/conda/envs/GNNImplicitSolvent/bin/python /work/full_pipeline_pka_gnnis-1.py"
   ]
  },
  {
   "cell_type": "code",
   "execution_count": 14,
   "id": "54476021-9587-4639-9c49-1e43794cbe7c",
   "metadata": {
    "execution": {
     "iopub.execute_input": "2025-08-18T04:29:23.692917Z",
     "iopub.status.busy": "2025-08-18T04:29:23.692811Z",
     "iopub.status.idle": "2025-08-18T04:29:23.694563Z",
     "shell.execute_reply": "2025-08-18T04:29:23.694388Z"
    },
    "papermill": {
     "duration": 0.005428,
     "end_time": "2025-08-18T04:29:23.694886",
     "exception": false,
     "start_time": "2025-08-18T04:29:23.689458",
     "status": "completed"
    },
    "tags": []
   },
   "outputs": [],
   "source": [
    "# Find the number of atoms in the molecule\n",
    "mol = Chem.MolFromSmiles(inp_smiles)\n",
    "num_atoms_generated_conf: int = mol.GetNumAtoms()"
   ]
  },
  {
   "cell_type": "markdown",
   "id": "06335009",
   "metadata": {
    "papermill": {
     "duration": 0.002872,
     "end_time": "2025-08-18T04:29:23.700704",
     "exception": false,
     "start_time": "2025-08-18T04:29:23.697832",
     "status": "completed"
    },
    "tags": []
   },
   "source": [
    "# Step 2 Reading GNNIS optimized geo and energy"
   ]
  },
  {
   "cell_type": "code",
   "execution_count": 15,
   "id": "cabd3b5d-ebb2-457d-a450-4571df547b17",
   "metadata": {
    "execution": {
     "iopub.execute_input": "2025-08-18T04:29:23.706890Z",
     "iopub.status.busy": "2025-08-18T04:29:23.706783Z",
     "iopub.status.idle": "2025-08-18T04:29:23.710387Z",
     "shell.execute_reply": "2025-08-18T04:29:23.710208Z"
    },
    "papermill": {
     "duration": 0.007106,
     "end_time": "2025-08-18T04:29:23.710743",
     "exception": false,
     "start_time": "2025-08-18T04:29:23.703637",
     "status": "completed"
    },
    "tags": []
   },
   "outputs": [
    {
     "name": "stdout",
     "output_type": "stream",
     "text": [
      "CPU times: user 0 ns, sys: 1.85 ms, total: 1.85 ms\n",
      "Wall time: 1.75 ms\n"
     ]
    }
   ],
   "source": [
    "%%time\n",
    "#Reading GNNIS optimized energy\n",
    "energy_DF=pd.read_csv('opt_conf_energies.csv')\n",
    "num_opt_conf: int= len(energy_DF)"
   ]
  },
  {
   "cell_type": "code",
   "execution_count": 16,
   "id": "2b9ef898-74cc-4f15-9d93-f48eafa637d2",
   "metadata": {
    "execution": {
     "iopub.execute_input": "2025-08-18T04:29:23.717006Z",
     "iopub.status.busy": "2025-08-18T04:29:23.716930Z",
     "iopub.status.idle": "2025-08-18T04:29:23.843529Z",
     "shell.execute_reply": "2025-08-18T04:29:23.843200Z"
    },
    "papermill": {
     "duration": 0.130359,
     "end_time": "2025-08-18T04:29:23.844060",
     "exception": false,
     "start_time": "2025-08-18T04:29:23.713701",
     "status": "completed"
    },
    "tags": []
   },
   "outputs": [
    {
     "name": "stdout",
     "output_type": "stream",
     "text": [
      "CPU times: user 1.05 ms, sys: 34.2 ms, total: 35.3 ms\n",
      "Wall time: 124 ms\n"
     ]
    },
    {
     "name": "stderr",
     "output_type": "stream",
     "text": [
      "10 molecules converted\n"
     ]
    }
   ],
   "source": [
    "%%time\n",
    "\n",
    "### Convert the 3D gometries of conformers into SMILES and save them\n",
    "convert_conformers_to_smiles(opt_conf_sdf,opt_conf_SMILES_file)"
   ]
  },
  {
   "cell_type": "code",
   "execution_count": 17,
   "id": "6ab01abc-5572-45e8-9822-e8ce5123fc3c",
   "metadata": {
    "execution": {
     "iopub.execute_input": "2025-08-18T04:29:23.857842Z",
     "iopub.status.busy": "2025-08-18T04:29:23.857742Z",
     "iopub.status.idle": "2025-08-18T04:29:23.864569Z",
     "shell.execute_reply": "2025-08-18T04:29:23.864335Z"
    },
    "papermill": {
     "duration": 0.017717,
     "end_time": "2025-08-18T04:29:23.864909",
     "exception": false,
     "start_time": "2025-08-18T04:29:23.847192",
     "status": "completed"
    },
    "tags": []
   },
   "outputs": [],
   "source": [
    "### Process optimized conformers to calculate Tanimoto similarity and separate feasible and infeasible geometries.\n",
    "infeasible_geom_DF, energy_DF=process_conformers(opt_conf_SMILES_file,opt_conf_sdf,feasible_geometries_sdf,infeasible_geometries_sdf,similarity_output_csv,infeasible_geometries_csv,inp_smiles,num_opt_conf,energy_DF)\n"
   ]
  },
  {
   "cell_type": "code",
   "execution_count": 18,
   "id": "940c6c94-b01e-46fc-9593-9514ecd2abb4",
   "metadata": {
    "execution": {
     "iopub.execute_input": "2025-08-18T04:29:23.871416Z",
     "iopub.status.busy": "2025-08-18T04:29:23.871195Z",
     "iopub.status.idle": "2025-08-18T04:29:23.873560Z",
     "shell.execute_reply": "2025-08-18T04:29:23.873381Z"
    },
    "papermill": {
     "duration": 0.006002,
     "end_time": "2025-08-18T04:29:23.873909",
     "exception": false,
     "start_time": "2025-08-18T04:29:23.867907",
     "status": "completed"
    },
    "tags": []
   },
   "outputs": [
    {
     "name": "stdout",
     "output_type": "stream",
     "text": [
      "Number of conformers with infeasible geometries: 0\n",
      "Number of conformers with feasible geometries: 10\n",
      "Total number of conformers for which the geometry feasibility was checked: 10\n",
      "Total number of conformers generated: 10\n",
      "CPU times: user 143 µs, sys: 96 µs, total: 239 µs\n",
      "Wall time: 151 µs\n"
     ]
    }
   ],
   "source": [
    "%%time\n",
    "\n",
    "### Calculate the numbers of conformers with feasible and infeasible geometries\n",
    "num_feasible_geom: int = len(energy_DF)\n",
    "num_infeasible_geom: int = len(infeasible_geom_DF)\n",
    "\n",
    "with open(\"outputs.txt\", 'a') as file:\n",
    "    file.write(f'Number_of_feasible_geometries: {num_feasible_geom}\\n')\n",
    "    \n",
    "print(\"Number of conformers with infeasible geometries:\", num_infeasible_geom)\n",
    "print(\"Number of conformers with feasible geometries:\", num_feasible_geom)\n",
    "print(\"Total number of conformers for which the geometry feasibility was checked:\", num_infeasible_geom+num_feasible_geom)\n",
    "print(\"Total number of conformers generated:\", num_conf)"
   ]
  },
  {
   "cell_type": "code",
   "execution_count": 19,
   "id": "23d16929-3523-47c9-80b9-7e8c0da3ac0d",
   "metadata": {
    "execution": {
     "iopub.execute_input": "2025-08-18T04:29:23.880369Z",
     "iopub.status.busy": "2025-08-18T04:29:23.880199Z",
     "iopub.status.idle": "2025-08-18T04:29:23.883455Z",
     "shell.execute_reply": "2025-08-18T04:29:23.883261Z"
    },
    "papermill": {
     "duration": 0.006885,
     "end_time": "2025-08-18T04:29:23.883807",
     "exception": false,
     "start_time": "2025-08-18T04:29:23.876922",
     "status": "completed"
    },
    "tags": []
   },
   "outputs": [
    {
     "name": "stdout",
     "output_type": "stream",
     "text": [
      "CPU times: user 1.6 ms, sys: 0 ns, total: 1.6 ms\n",
      "Wall time: 1.42 ms\n"
     ]
    }
   ],
   "source": [
    "%%time\n",
    "\n",
    "### Calculate the relative energies of conformers and write the results to a CSV file.\n",
    "rel_energy_DF: pd.DataFrame=calculate_relative_energies(energy_DF,feasible_geometries_csv)\n"
   ]
  },
  {
   "cell_type": "code",
   "execution_count": 20,
   "id": "633d6834-eaae-4a83-ab28-1012b547e916",
   "metadata": {
    "execution": {
     "iopub.execute_input": "2025-08-18T04:29:23.890409Z",
     "iopub.status.busy": "2025-08-18T04:29:23.890228Z",
     "iopub.status.idle": "2025-08-18T04:29:23.982506Z",
     "shell.execute_reply": "2025-08-18T04:29:23.982320Z"
    },
    "papermill": {
     "duration": 0.096082,
     "end_time": "2025-08-18T04:29:23.982936",
     "exception": false,
     "start_time": "2025-08-18T04:29:23.886854",
     "status": "completed"
    },
    "tags": []
   },
   "outputs": [
    {
     "data": {
      "image/png": "[encoded data removed]",
      "text/plain": [
       "<Figure size 400x400 with 1 Axes>"
      ]
     },
     "metadata": {},
     "output_type": "display_data"
    },
    {
     "name": "stdout",
     "output_type": "stream",
     "text": [
      "CPU times: user 365 ms, sys: 1.58 s, total: 1.94 s\n",
      "Wall time: 89.8 ms\n"
     ]
    }
   ],
   "source": [
    "%%time\n",
    "\n",
    "fig = plt.figure(figsize=(4, 4))\n",
    "\n",
    "### Plot the relative energy distribution for conformers with feasible geometries\n",
    "n_bins=10\n",
    "plt.hist(rel_energy_DF['rel_energy_in_kcalpermol'], bins=n_bins, density=False, color='black', histtype='step', fill=False, lw=2)\n",
    "#density=False: If True, the histogram is normalized so that the area under the histogram integrates to 1. If False, the histogram represents the count of occurrences in each bin.\n",
    "#'bar': Traditional bar histogram (default)\n",
    "plt.xlabel('Rel. MMFF Energy (kcal/mol)')\n",
    "plt.ylabel('Count')\n",
    "plt.title('GNNIS')\n",
    "plt.grid(False)\n",
    "\n",
    "### Show the plot\n",
    "plt.show()\n",
    "\n",
    "### Save figure\n",
    "fig.savefig(\"rel_MMFF_energies-count_histogram\", bbox_inches='tight', pad_inches=0.04, transparent = False)"
   ]
  },
  {
   "cell_type": "markdown",
   "id": "3d1fc8ae-38d5-49a4-8cae-a34775a7cbeb",
   "metadata": {
    "papermill": {
     "duration": 0.00307,
     "end_time": "2025-08-18T04:29:23.989158",
     "exception": false,
     "start_time": "2025-08-18T04:29:23.986088",
     "status": "completed"
    },
    "tags": []
   },
   "source": [
    "## **Step 3: Calculating RMSD Matrix**\n",
    "\n",
    "Using Open Babel obrms command to calculate the Root Mean Square Deviation (RMSD) between the feasiable geometries present in an SDF file"
   ]
  },
  {
   "cell_type": "code",
   "execution_count": 21,
   "id": "ac8e1781-89fe-471f-bb82-bb845f9b5f16",
   "metadata": {
    "execution": {
     "iopub.execute_input": "2025-08-18T04:29:23.996007Z",
     "iopub.status.busy": "2025-08-18T04:29:23.995807Z",
     "iopub.status.idle": "2025-08-18T04:29:24.038351Z",
     "shell.execute_reply": "2025-08-18T04:29:24.038072Z"
    },
    "papermill": {
     "duration": 0.046525,
     "end_time": "2025-08-18T04:29:24.038809",
     "exception": false,
     "start_time": "2025-08-18T04:29:23.992284",
     "status": "completed"
    },
    "tags": []
   },
   "outputs": [
    {
     "name": "stdout",
     "output_type": "stream",
     "text": [
      "RMSD calculation completed and appended to rmsd_matrix-mx_flags.dat.\n",
      "CPU times: user 0 ns, sys: 9.81 ms, total: 9.81 ms\n",
      "Wall time: 40.2 ms\n"
     ]
    }
   ],
   "source": [
    "%%time\n",
    "\n",
    "### Run obrms on the concatenated sdf file of conformers with feasible geometries to compute RMSD matrix\n",
    "calculate_rmsd(feasible_geometries_sdf,pairwise_RMSDs_dat)"
   ]
  },
  {
   "cell_type": "code",
   "execution_count": 22,
   "id": "ddf060db-6d6c-4f87-b3ea-29ef96009664",
   "metadata": {
    "execution": {
     "iopub.execute_input": "2025-08-18T04:29:24.046630Z",
     "iopub.status.busy": "2025-08-18T04:29:24.046419Z",
     "iopub.status.idle": "2025-08-18T04:29:24.050705Z",
     "shell.execute_reply": "2025-08-18T04:29:24.050508Z"
    },
    "papermill": {
     "duration": 0.008405,
     "end_time": "2025-08-18T04:29:24.051029",
     "exception": false,
     "start_time": "2025-08-18T04:29:24.042624",
     "status": "completed"
    },
    "tags": []
   },
   "outputs": [
    {
     "name": "stdout",
     "output_type": "stream",
     "text": [
      "CPU times: user 0 ns, sys: 1.78 ms, total: 1.78 ms\n",
      "Wall time: 1.63 ms\n"
     ]
    }
   ],
   "source": [
    "%%time\n",
    "\n",
    "from scipy.spatial.distance import squareform, is_valid_dm\n",
    "\n",
    "### Read the pairwise RMSD matrix from the output of obrms; it is supposed to be a hollow, asymmetric matrix\n",
    "rmsd_matrix_DF: pd.DataFrame = pd.read_csv(pairwise_RMSDs_dat, header=None, index_col=0)\n",
    "\n",
    "### Convert the pairwise RMSD matrix into a numpy float-type 2D array\n",
    "rmsd_matrix: np.ndarray = rmsd_matrix_DF.to_numpy(dtype=float)\n",
    "\n",
    "### Round the matrix elements to two decimal places to avoid possible asymmetry in the matrix due to insignificant numerical errors\n",
    "rmsd_matrix_2DP: np.ndarray  = np.round(rmsd_matrix, 2)\n",
    "\n",
    "# Force the matrix to be symmetric\n",
    "rmsd_matrix_2DP = (rmsd_matrix_2DP + rmsd_matrix_2DP.T) / 2\n",
    "\n",
    "# Check if the matrix is symmetric\n",
    "if not is_valid_dm(rmsd_matrix_2DP, throw=False):\n",
    "    raise ValueError(\"The provided RMSD matrix is not symmetric even after rounding and forcing symmetry.\")"
   ]
  },
  {
   "cell_type": "code",
   "execution_count": 23,
   "id": "7851cc88-7371-4439-b0c8-04ce6504eece",
   "metadata": {
    "execution": {
     "iopub.execute_input": "2025-08-18T04:29:24.057935Z",
     "iopub.status.busy": "2025-08-18T04:29:24.057753Z",
     "iopub.status.idle": "2025-08-18T04:29:24.060170Z",
     "shell.execute_reply": "2025-08-18T04:29:24.059987Z"
    },
    "papermill": {
     "duration": 0.006191,
     "end_time": "2025-08-18T04:29:24.060485",
     "exception": false,
     "start_time": "2025-08-18T04:29:24.054294",
     "status": "completed"
    },
    "tags": []
   },
   "outputs": [
    {
     "name": "stdout",
     "output_type": "stream",
     "text": [
      "CPU times: user 0 ns, sys: 624 µs, total: 624 µs\n",
      "Wall time: 549 µs\n"
     ]
    }
   ],
   "source": [
    "%%time\n",
    "\n",
    "### Convert the the pairwise distance matrix to its condensed form; write the pairwise RMSDs from the condensed matrix into a CSV file\n",
    "from scipy.spatial.distance import squareform\n",
    "condensed_matrix: np.ndarray  = squareform(rmsd_matrix_2DP)\n",
    "pairwise_RMSDs_DF: pd.DataFrame = pd.DataFrame(condensed_matrix)\n",
    "pairwise_RMSDs_DF.to_csv(pairwise_RMSDs_csv, header=['pairwise_RMSD'], index=False)"
   ]
  },
  {
   "cell_type": "code",
   "execution_count": 24,
   "id": "d85816e3-82a2-4bba-b80b-8cb6a53c4b82",
   "metadata": {
    "execution": {
     "iopub.execute_input": "2025-08-18T04:29:24.067563Z",
     "iopub.status.busy": "2025-08-18T04:29:24.067260Z",
     "iopub.status.idle": "2025-08-18T04:29:24.182891Z",
     "shell.execute_reply": "2025-08-18T04:29:24.182649Z"
    },
    "papermill": {
     "duration": 0.11962,
     "end_time": "2025-08-18T04:29:24.183359",
     "exception": false,
     "start_time": "2025-08-18T04:29:24.063739",
     "status": "completed"
    },
    "tags": []
   },
   "outputs": [
    {
     "data": {
      "image/png": "[encoded data removed]",
      "text/plain": [
       "<Figure size 400x400 with 1 Axes>"
      ]
     },
     "metadata": {},
     "output_type": "display_data"
    },
    {
     "name": "stdout",
     "output_type": "stream",
     "text": [
      "CPU times: user 372 ms, sys: 1.59 s, total: 1.96 s\n",
      "Wall time: 113 ms\n"
     ]
    }
   ],
   "source": [
    "%%time\n",
    "\n",
    "### Plot the distribution of pairwise RMSDs\n",
    "fig = plt.figure(figsize=(4, 4))\n",
    "\n",
    "### Plot the histograms\n",
    "plt.hist(condensed_matrix, bins=8, density=True, color='black', fill=False, lw=2)\n",
    "\n",
    "### Format the axes\n",
    "plt.xlabel(r'RMSD ($\\AA)$')\n",
    "plt.ylabel('Probability Density')\n",
    "plt.title('Pairwise RMSDs')\n",
    "plt.grid(False)\n",
    "\n",
    "### Show the plot\n",
    "plt.show()\n",
    "\n",
    "### Save figure\n",
    "fig.savefig(\"pairwise_rmsd_distribution-PD.png\", bbox_inches='tight', pad_inches=0.04, transparent = False)"
   ]
  },
  {
   "cell_type": "markdown",
   "id": "c5227f49-febc-4c3b-a239-7159cd97fb55",
   "metadata": {
    "papermill": {
     "duration": 0.010263,
     "end_time": "2025-08-18T04:29:24.197173",
     "exception": false,
     "start_time": "2025-08-18T04:29:24.186910",
     "status": "completed"
    },
    "tags": []
   },
   "source": [
    "## **Step 4: Hierarchical Cluster**\n",
    "\n",
    "Clustering the generated conformers into 20 clusters using hierarchical clustering with `ward` linkage method. "
   ]
  },
  {
   "cell_type": "code",
   "execution_count": 25,
   "id": "5d3688fd-f0b5-43b1-8a3a-41e3ebec7969",
   "metadata": {
    "execution": {
     "iopub.execute_input": "2025-08-18T04:29:24.204694Z",
     "iopub.status.busy": "2025-08-18T04:29:24.204560Z",
     "iopub.status.idle": "2025-08-18T04:29:24.208961Z",
     "shell.execute_reply": "2025-08-18T04:29:24.208770Z"
    },
    "papermill": {
     "duration": 0.008593,
     "end_time": "2025-08-18T04:29:24.209302",
     "exception": false,
     "start_time": "2025-08-18T04:29:24.200709",
     "status": "completed"
    },
    "tags": []
   },
   "outputs": [
    {
     "name": "stdout",
     "output_type": "stream",
     "text": [
      "CPU times: user 354 µs, sys: 2.1 ms, total: 2.45 ms\n",
      "Wall time: 2.33 ms\n"
     ]
    }
   ],
   "source": [
    "%%time\n",
    "\n",
    "### Perform hierarchical clustering with 'ward' linkage method on the condensed version of pairwise distance matrix\n",
    "import scipy.cluster.hierarchy as sch\n",
    "linkage_matrix_ward: np.ndarray = sch.linkage(condensed_matrix, method='ward')"
   ]
  },
  {
   "cell_type": "code",
   "execution_count": 26,
   "id": "bd9dc1d6",
   "metadata": {
    "execution": {
     "iopub.execute_input": "2025-08-18T04:29:24.216740Z",
     "iopub.status.busy": "2025-08-18T04:29:24.216435Z",
     "iopub.status.idle": "2025-08-18T04:29:24.272110Z",
     "shell.execute_reply": "2025-08-18T04:29:24.271896Z"
    },
    "papermill": {
     "duration": 0.059816,
     "end_time": "2025-08-18T04:29:24.272546",
     "exception": false,
     "start_time": "2025-08-18T04:29:24.212730",
     "status": "completed"
    },
    "tags": []
   },
   "outputs": [
    {
     "data": {
      "image/png": "[encoded data removed]",
      "text/plain": [
       "<Figure size 800x600 with 1 Axes>"
      ]
     },
     "metadata": {},
     "output_type": "display_data"
    },
    {
     "name": "stdout",
     "output_type": "stream",
     "text": [
      "CPU times: user 54.6 ms, sys: 92.5 ms, total: 147 ms\n",
      "Wall time: 53.3 ms\n"
     ]
    }
   ],
   "source": [
    "%%time\n",
    "\n",
    "### A few settings to export the image of the plot\n",
    "plt.style.use('default')\n",
    "fig = plt.figure(figsize=(8, 6))\n",
    "\n",
    "### Plot the dendrogram to visualize the hierarchical clustering structure\n",
    "sch.dendrogram(linkage_matrix_ward, no_labels=True)\n",
    "plt.title('Dendrogram with Ward Linkage Method')\n",
    "plt.xlabel('Conformers')\n",
    "plt.ylabel('Distance')\n",
    "\n",
    "### Show the plot\n",
    "plt.show()\n",
    "\n",
    "### Save figure\n",
    "fig.savefig(\"hierarchical_clustering_dendogram-ward.png\", bbox_inches='tight', pad_inches=0.04, transparent = False)"
   ]
  },
  {
   "cell_type": "code",
   "execution_count": 27,
   "id": "ee4f04fd",
   "metadata": {
    "execution": {
     "iopub.execute_input": "2025-08-18T04:29:24.280330Z",
     "iopub.status.busy": "2025-08-18T04:29:24.280060Z",
     "iopub.status.idle": "2025-08-18T04:29:24.505816Z",
     "shell.execute_reply": "2025-08-18T04:29:24.505546Z"
    },
    "papermill": {
     "duration": 0.230112,
     "end_time": "2025-08-18T04:29:24.506291",
     "exception": false,
     "start_time": "2025-08-18T04:29:24.276179",
     "status": "completed"
    },
    "tags": []
   },
   "outputs": [
    {
     "data": {
      "image/png": "[encoded data removed]",
      "text/plain": [
       "<Figure size 400x400 with 1 Axes>"
      ]
     },
     "metadata": {},
     "output_type": "display_data"
    },
    {
     "name": "stdout",
     "output_type": "stream",
     "text": [
      "The optimal number of clusters is 2 with a silhouette score of 1.0\n",
      "CPU times: user 208 ms, sys: 84.3 ms, total: 293 ms\n",
      "Wall time: 222 ms\n"
     ]
    }
   ],
   "source": [
    "%%time\n",
    "\n",
    "### A few settings to export the image of the plot\n",
    "# plt.style.use('~/matplotlib_templates/single_column.mplstyle')\n",
    "fig = plt.figure(figsize=(4, 4))\n",
    "\n",
    "### Determine the optimal number of clusters using silhouette score; the original pairwise RMSD matrix must be used for this\n",
    "from sklearn.metrics import silhouette_score\n",
    "from scipy.cluster.hierarchy import linkage, fcluster\n",
    "from collections import Counter\n",
    "\n",
    "\n",
    "## Calculate silhouette score for different numbers of clusters\n",
    "sil_scores = []\n",
    "range_n_clusters = list(range(2, 101))     # Try different numbers of clusters\n",
    "for n_clusters in range_n_clusters:\n",
    "    cluster_labels = fcluster(linkage_matrix_ward, n_clusters, criterion='maxclust')\n",
    "    cluster_counts = Counter(cluster_labels)\n",
    "    # print(cluster_counts)\n",
    "    \n",
    "    # Check if the clustering resulted in more than one cluster\n",
    "    if len(cluster_counts) > 1:\n",
    "        sil_score = silhouette_score(rmsd_matrix_2DP, cluster_labels, metric='precomputed')\n",
    "        sil_scores.append(sil_score)\n",
    "    else:\n",
    "        sil_scores.append(float('-inf'))  # Append a very low score if there's only one cluster    \n",
    "\n",
    "\n",
    "## Plot the Silhouette scores\n",
    "plt.plot(range_n_clusters, sil_scores, marker='o', color='black', fillstyle='none', ms=2, lw=2)\n",
    "plt.xlabel(\"Number of Clusters\")\n",
    "plt.ylabel(\"Silhouette Score\")\n",
    "plt.title(\"Ward Linkage\")\n",
    "plt.axis([-5, 105, -0.05, 1.05])\n",
    "plt.xticks([0, 25, 50, 75, 100])\n",
    "plt.yticks([0.0, 0.2, 0.4, 0.6, 0.8, 1.0])\n",
    "\n",
    "### Show the plot\n",
    "plt.show()\n",
    "\n",
    "### Save figure\n",
    "fig.savefig(\"silhouette_score_vs_num_clust-ward.png\", bbox_inches='tight', pad_inches=0.04, transparent = False)\n",
    "\n",
    "## Find the optimal number of clusters based on the maximum value of silhouette score and printing it\n",
    "max_sil_score = np.max(sil_scores)\n",
    "optimal_clusters = range_n_clusters[np.argmax(sil_scores)]\n",
    "print(f\"The optimal number of clusters is {optimal_clusters} with a silhouette score of {max_sil_score}\")"
   ]
  },
  {
   "cell_type": "code",
   "execution_count": 28,
   "id": "7ae62551-a2a0-4c22-87c3-134bbf204b69",
   "metadata": {
    "execution": {
     "iopub.execute_input": "2025-08-18T04:29:24.522792Z",
     "iopub.status.busy": "2025-08-18T04:29:24.522580Z",
     "iopub.status.idle": "2025-08-18T04:29:24.525181Z",
     "shell.execute_reply": "2025-08-18T04:29:24.524983Z"
    },
    "papermill": {
     "duration": 0.013647,
     "end_time": "2025-08-18T04:29:24.525576",
     "exception": false,
     "start_time": "2025-08-18T04:29:24.511929",
     "status": "completed"
    },
    "tags": []
   },
   "outputs": [
    {
     "name": "stdout",
     "output_type": "stream",
     "text": [
      "CPU times: user 303 µs, sys: 0 ns, total: 303 µs\n",
      "Wall time: 103 µs\n"
     ]
    }
   ],
   "source": [
    "%%time\n",
    "\n",
    "from scipy.cluster.hierarchy import linkage, fcluster\n",
    "\n",
    "num_clusters = 5 if optimal_clusters > 5 else optimal_clusters\n",
    "\n",
    "## For each conformer, assign the cluster label to which it belongs\n",
    "cluster_labels: np.ndarray = fcluster(linkage_matrix_ward, num_clusters, criterion='maxclust')\n",
    "\n",
    "## Create an empty dictionary to store the cluster sets\n",
    "clusters: Dict[int, List[int]] = {i: [] for i in range(1, num_clusters + 1)}\n",
    "\n",
    "## Assign each cluster label to the respective cluster set\n",
    "for index, label in enumerate(cluster_labels):\n",
    "    clusters[label].append(index)     # Store the indices instead of raw data\n",
    "    "
   ]
  },
  {
   "cell_type": "markdown",
   "id": "16848016-bf7b-433e-be19-52d32e64231a",
   "metadata": {
    "papermill": {
     "duration": 0.003602,
     "end_time": "2025-08-18T04:29:24.534507",
     "exception": false,
     "start_time": "2025-08-18T04:29:24.530905",
     "status": "completed"
    },
    "tags": []
   },
   "source": [
    "## **Step 5: Identifying Cluster Representative**\n",
    "\n",
    "Identifying the minimum energy conformer within each cluster as its representative"
   ]
  },
  {
   "cell_type": "code",
   "execution_count": 29,
   "id": "38530063-2a90-4be7-a1f3-37adf6831120",
   "metadata": {
    "execution": {
     "iopub.execute_input": "2025-08-18T04:29:24.543024Z",
     "iopub.status.busy": "2025-08-18T04:29:24.542909Z",
     "iopub.status.idle": "2025-08-18T04:29:24.547538Z",
     "shell.execute_reply": "2025-08-18T04:29:24.547338Z"
    },
    "papermill": {
     "duration": 0.009198,
     "end_time": "2025-08-18T04:29:24.547893",
     "exception": false,
     "start_time": "2025-08-18T04:29:24.538695",
     "status": "completed"
    },
    "tags": []
   },
   "outputs": [
    {
     "name": "stdout",
     "output_type": "stream",
     "text": [
      "CPU times: user 2.23 ms, sys: 305 µs, total: 2.53 ms\n",
      "Wall time: 2.2 ms\n"
     ]
    }
   ],
   "source": [
    "%%time\n",
    "\n",
    "### Identify the minimum energy conformer within each cluster as its representative\n",
    "\n",
    "## Loop over all the cluster sets\n",
    "cluster_reps_list: List[pd.DataFrame] = []\n",
    "\n",
    "for clust_label, clust_elements in clusters.items():\n",
    "    if len(clust_elements)!=0:\n",
    "        clust_DF: pd.DataFrame = rel_energy_DF.loc[clust_elements]     # Extract the relative energies of the cluster elements into a dataframe\n",
    "        min_energy_index: int = clust_DF['rel_energy_in_kcalpermol'].idxmin()     # Find the row index correspoding to the minimum relative energy conformer within the cluster \n",
    "        min_energy_DF: pd.DataFrame= clust_DF.loc[[min_energy_index]]     # Isolate the repesentative conformer's relative energy into a dataframe\n",
    "        min_energy_DF['cluster_id'] = clust_label     # Add the 'cluster ID' information to the above dataframe\n",
    "        # print(min_energy_DF)\n",
    "        cluster_reps_list.append(min_energy_DF)     # Append the dataframe corresponding to each cluster representative into a list of dataframes\n",
    "\n",
    "## Concatenate the dataframes of all cluster representatives into a single dataframe\n",
    "cluster_reps_DF: pd.DataFrame = pd.concat(cluster_reps_list, ignore_index=True)\n",
    "\n",
    "## Sort the cluster respresentatives samples by 'conformer_id' and save the sorted dataframe to a csv file\n",
    "sorted_cluster_reps_DF: pd.DataFrame = cluster_reps_DF.sort_values(by='conformer_id', ascending=True)\n",
    "sorted_cluster_reps_DF.to_csv(cluster_reps_csv, index=False)"
   ]
  },
  {
   "cell_type": "code",
   "execution_count": 30,
   "id": "ad89aa89-9c42-4721-99a7-10b0504d2774",
   "metadata": {
    "execution": {
     "iopub.execute_input": "2025-08-18T04:29:24.555833Z",
     "iopub.status.busy": "2025-08-18T04:29:24.555723Z",
     "iopub.status.idle": "2025-08-18T04:29:24.569605Z",
     "shell.execute_reply": "2025-08-18T04:29:24.569413Z"
    },
    "papermill": {
     "duration": 0.01835,
     "end_time": "2025-08-18T04:29:24.570016",
     "exception": false,
     "start_time": "2025-08-18T04:29:24.551666",
     "status": "completed"
    },
    "tags": []
   },
   "outputs": [
    {
     "name": "stdout",
     "output_type": "stream",
     "text": [
      "Completed Writing the SDF files of cluster representative conformers\n",
      "CPU times: user 2.05 ms, sys: 68 µs, total: 2.12 ms\n",
      "Wall time: 12.2 ms\n"
     ]
    }
   ],
   "source": [
    "%%time\n",
    "\n",
    "###  Write the coordinates of cluster representative conformers to SDF files.\n",
    "write_cluster_representatives(opt_conf_sdf,cluster_reps_dir,cluster_reps_sdf,sorted_cluster_reps_DF,cluster_reps_DF,cluster_rep_prefix,conf_extension)\n",
    "\n"
   ]
  },
  {
   "cell_type": "markdown",
   "id": "a03831e5-e21a-43b6-ac7c-f46d3555d109",
   "metadata": {
    "papermill": {
     "duration": 0.003776,
     "end_time": "2025-08-18T04:29:24.577576",
     "exception": false,
     "start_time": "2025-08-18T04:29:24.573800",
     "status": "completed"
    },
    "tags": []
   },
   "source": [
    "## **Step 6: Calculating the Minimum RMSD**\n",
    "\n",
    "Calculating the min rmsd between refrence conformer and cluster representatives."
   ]
  },
  {
   "cell_type": "markdown",
   "id": "ae270329-ece7-4d41-b8cb-b5597838cfea",
   "metadata": {
    "papermill": {
     "duration": 0.003975,
     "end_time": "2025-08-18T04:29:24.585388",
     "exception": false,
     "start_time": "2025-08-18T04:29:24.581413",
     "status": "completed"
    },
    "tags": []
   },
   "source": [
    "# calculating the min rmsd between refrence conformer and cluster representatives\n",
    "result: float = calculate_min_rmsd(f\"../{ref_confo_path}\",cluster_reps_sdf)\n",
    "print(f\"Min RMSD 20 Clusters: {result}\")\n",
    "\n",
    "# Append the result to the text file\n",
    "with open('outputs.txt', 'a') as file:\n",
    "    file.write(f'Min_RMSD_20_cluster : {result}\\n')"
   ]
  },
  {
   "cell_type": "markdown",
   "id": "a6978d0c",
   "metadata": {
    "papermill": {
     "duration": 0.003633,
     "end_time": "2025-08-18T04:29:24.592776",
     "exception": false,
     "start_time": "2025-08-18T04:29:24.589143",
     "status": "completed"
    },
    "tags": []
   },
   "source": [
    "# Step 7: Geometry optimization of neutral conformers using DFT"
   ]
  },
  {
   "cell_type": "code",
   "execution_count": 31,
   "id": "3e52b3a6",
   "metadata": {
    "execution": {
     "iopub.execute_input": "2025-08-18T04:29:24.600758Z",
     "iopub.status.busy": "2025-08-18T04:29:24.600591Z",
     "iopub.status.idle": "2025-08-18T04:30:01.469687Z",
     "shell.execute_reply": "2025-08-18T04:30:01.469283Z"
    },
    "papermill": {
     "duration": 36.87394,
     "end_time": "2025-08-18T04:30:01.470455",
     "exception": false,
     "start_time": "2025-08-18T04:29:24.596515",
     "status": "completed"
    },
    "tags": []
   },
   "outputs": [
    {
     "name": "stdout",
     "output_type": "stream",
     "text": [
      "Found 2 SDF files in cluster_rep_conformers\r\n",
      "Basis sets: ['aug-cc-pVDZ']\r\n",
      "XC functionals: ['M06-2X']\r\n",
      "Dielectric constant: 46.826\r\n",
      "======================================================================\r\n",
      "#INFO: **** input file is /work/dft_main.py ****\r\n",
      "from rdkit import Chem\r\n",
      "from pyscf import gto, dft\r\n",
      "from gpu4pyscf.dft import rks\r\n",
      "from pyscf.geomopt import geometric_solver\r\n",
      "import sys\r\n",
      "import glob\r\n",
      "import time\r\n",
      "import re\r\n",
      "\r\n",
      "\r\n",
      "import os\r\n",
      "# Specify which GPUs to use\r\n",
      "os.environ[\"CUDA_VISIBLE_DEVICES\"] = \"0,1\"\r\n",
      "os.environ[\"OMP_NUM_THREADS\"] = \"25\"\r\n",
      "os.environ[\"MKL_NUM_THREADS\"] = \"25\"\r\n",
      "os.environ[\"OPENBLAS_NUM_THREADS\"] = \"25\"\r\n",
      "\r\n",
      "\r\n",
      "class DFTClass:\r\n",
      "    def __init__(self, sdf_path, eps):\r\n",
      "        self.sdf_path= sdf_path\r\n",
      "        self.eps=eps\r\n",
      "    \r\n",
      "    def get_atom_list(self):\r\n",
      "        molecules = Chem.SDMolSupplier(self.sdf_path, removeHs=False)\r\n",
      "        mol = next(molecules)  # Assuming you have one molecule in the SDF\r\n",
      "\r\n",
      "        # Get the first conformer to access 3D coordinates\r\n",
      "        conformer = mol.GetConformer()\r\n",
      "\r\n",
      "        # Extract atomic symbols and coordinates\r\n",
      "        atom_list = []\r\n",
      "        for atom in mol.GetAtoms():\r\n",
      "            pos = conformer.GetAtomPosition(atom.GetIdx())\r\n",
      "            atom_list.append((atom.GetSymbol(), (pos.x, pos.y, pos.z)))\r\n",
      "        return atom_list\r\n",
      "       \r\n",
      "    def extract_charge_info(self):\r\n",
      "        \"\"\"\r\n",
      "        Extracts total formal charge from M  CHG lines in a .sdf file.\r\n",
      "        If no M  CHG line is found, assumes formal charge = 0.\r\n",
      "        \"\"\"\r\n",
      "        charges = {}\r\n",
      "        with open(self.sdf_path) as f:\r\n",
      "            for line in f:\r\n",
      "              if line.startswith(\"M  CHG\"):\r\n",
      "                 tokens = line.strip().split()\r\n",
      "                 n_entries = int(tokens[2])\r\n",
      "                 for i in range(n_entries):\r\n",
      "                    atom_idx = int(tokens[3 + i * 2])\r\n",
      "                    charge = int(tokens[4 + i * 2])\r\n",
      "                    charges[atom_idx] = charge\r\n",
      "\r\n",
      "        if charges:\r\n",
      "            formal_charge = sum(charges.values())\r\n",
      "        else:\r\n",
      "            formal_charge = 0  # Default if no charge info present\r\n",
      "\r\n",
      "        #print(f\"{os.path.basename(sdf_path)}: formal charge = {formal_charge}\")\r\n",
      "        return formal_charge  \r\n",
      "    \r\n",
      "    def get_charge(self, cluster_reps_dir):\r\n",
      "        \"\"\"\r\n",
      "        Reads the number of atoms directly from an SDF file.\r\n",
      "\r\n",
      "        Args:\r\n",
      "            file_path: The path to the SDF file.\r\n",
      "\r\n",
      "        Returns:\r\n",
      "            An integer representing the number of atoms, or None if the\r\n",
      "            information cannot be extracted or the file cannot be read.\r\n",
      "        \"\"\"\r\n",
      "        def extract_charge_info_static(path):\r\n",
      "            \"\"\"\r\n",
      "            Extracts total formal charge from M  CHG lines in a .sdf file.\r\n",
      "            If no M  CHG line is found, assumes formal charge = 0.\r\n",
      "            \"\"\"\r\n",
      "            charges = {}\r\n",
      "            with open(path) as f:\r\n",
      "                for line in f:\r\n",
      "                    if line.startswith(\"M  CHG\"):\r\n",
      "                        tokens = line.strip().split()\r\n",
      "                        n_entries = int(tokens[2])\r\n",
      "                        for i in range(n_entries):\r\n",
      "                            atom_idx = int(tokens[3 + i * 2])\r\n",
      "                            charge = int(tokens[4 + i * 2])\r\n",
      "                            charges[atom_idx] = charge\r\n",
      "\r\n",
      "            if charges:\r\n",
      "                formal_charge = sum(charges.values())\r\n",
      "            else:\r\n",
      "                formal_charge = 0  # Default if no charge info present\r\n",
      "\r\n",
      "            #print(f\"{os.path.basename(sdf_path)}: formal charge = {formal_charge}\")\r\n",
      "            return formal_charge \r\n",
      "\r\n",
      "\r\n",
      "        def get_num_atoms(path):\r\n",
      "            try:\r\n",
      "                with open(path, 'r') as f:\r\n",
      "                    # Skip the first three lines of the SDF file\r\n",
      "                    for _ in range(3):\r\n",
      "                        f.readline()\r\n",
      "                    # Read the fourth line which contains the number of atoms\r\n",
      "                    fourth_line = f.readline().strip()\r\n",
      "                    parts = fourth_line.split()\r\n",
      "                    if parts:\r\n",
      "                        try:\r\n",
      "                            num_atoms = int(parts[0])\r\n",
      "                            return num_atoms\r\n",
      "                        except ValueError:\r\n",
      "                            print(\"Error: Could not convert atom count to integer.\")\r\n",
      "                            return None\r\n",
      "                    else:\r\n",
      "                        print(\"Error: Fourth line of SDF is empty.\")\r\n",
      "                        return None\r\n",
      "            except FileNotFoundError:\r\n",
      "                print(f\"Error: File not found at {self.sdf_path}\")\r\n",
      "                return None\r\n",
      "            except Exception as e:\r\n",
      "                print(f\"An error occurred while reading the file: {e}\")\r\n",
      "                return None\r\n",
      "            \r\n",
      "        #Get the charge\r\n",
      "        A_atoms = get_num_atoms(self.sdf_path)\r\n",
      "        clean_path = re.sub(r'(_protonated|_deprotonated)', '', self.sdf_path)\r\n",
      "        HA_atoms = get_num_atoms(clean_path)\r\n",
      "        formal_charge_on_HA=extract_charge_info_static(os.path.join(cluster_reps_dir, \"rep_of_cluster_1.sdf\"))\r\n",
      "        # Check for invalid (None) atom counts\r\n",
      "        charge=formal_charge_on_HA + (A_atoms-HA_atoms)\r\n",
      "        print(f\"Charge of {self.sdf_path}: {charge}\")\r\n",
      "        return charge\r\n",
      "     \r\n",
      "    def opti_PCM(self, mol, xyz_filename, charge_filename, xc):\r\n",
      "        start_time = time.time()\r\n",
      "        # Set up the DFT calculation\r\n",
      "        mf = rks.RKS(mol).density_fit()  # Use density fitting for efficiency\r\n",
      "        mf.xc = xc  # Set the exchange-correlation functional\r\n",
      "\r\n",
      "        # SCF convergence Criteria\r\n",
      "        mf.conv_tol = 1e-8  # Energy convergence\r\n",
      "        mf.conv_tol_grad = 3e-4  # Gradient convergence\r\n",
      "        mf.max_cycle = 70  # Increase max iterations if needed\r\n",
      "\r\n",
      "        # Apply the solvation model\r\n",
      "        mf = mf.PCM()  # Initialize solvation model\r\n",
      "        mf.grids.atom_grid = (99, 590)\r\n",
      "        mf.with_solvent.lebedev_order = 29  # 302 Lebedev grids\r\n",
      "        mf.with_solvent.method = 'IEF-PCM'  # Can be C-PCM, SS(V)PE, COSMO\r\n",
      "        mf.with_solvent.eps = self.eps  # Set the solvent's dielectric constant\r\n",
      "\r\n",
      "        # Perform geometry optimization\r\n",
      "        print(\"Starting geometry optimization...\")\r\n",
      "        mol_opt = geometric_solver.optimize(mf, max_steps=200, xtol=1e-8, gtol=3e-4, etol=1e-8)\r\n",
      "\r\n",
      "        # Output optimized geometry\r\n",
      "        optimized_atoms = [(atom[0], mol_opt.atom_coords(unit='Angstrom')[i]) for i, atom in enumerate(mol_opt.atom)]\r\n",
      "\r\n",
      "        # Ensure SCF calculation is performed after optimization\r\n",
      "        mf_scf = rks.RKS(mol_opt).density_fit()\r\n",
      "        mf_scf.xc = xc\r\n",
      "\r\n",
      "        # SCF convergence Criteria\r\n",
      "        mf_scf.conv_tol = 1e-8  # Energy convergence\r\n",
      "        mf_scf.conv_tol_grad = 3e-4  # Gradient convergence\r\n",
      "        mf_scf.max_cycle = 70  # Increase max iterations if needed\r\n",
      "\r\n",
      "        # Apply the solvation model\r\n",
      "        mf_scf = mf_scf.PCM()  # Initialize solvation model\r\n",
      "        mf_scf.grids.atom_grid = (99, 590)\r\n",
      "        mf_scf.with_solvent.lebedev_order = 29  # 302 Lebedev grids\r\n",
      "        mf_scf.with_solvent.method = 'IEF-PCM'  # Can be C-PCM, SS(V)PE, COSMO\r\n",
      "        mf_scf.with_solvent.eps = self.eps  # Set the solvent's dielectric constant\r\n",
      "\r\n",
      "        #Run the scf\r\n",
      "        mf_scf.kernel()\r\n",
      "\r\n",
      "        #Mulliken Charge Analysis\r\n",
      "        analysis = mf_scf.analyze()\r\n",
      "        mulliken_charges = analysis[0][1]  # Get the Mulliken charges\r\n",
      "\r\n",
      "        # Save captured output to file\r\n",
      "        with open(charge_filename, \"w\") as charge_file:\r\n",
      "            charge_file.write(\"Atom Index  Atom Symbol  Mulliken Charge\\n\")\r\n",
      "            for i, charge in enumerate(mulliken_charges):\r\n",
      "                atom_symbol = mol.atom_symbol(i)  # Get the atom symbol\r\n",
      "                charge_file.write(f\"{i+1}             {atom_symbol}        {charge:.6f}\\n\")\r\n",
      "\r\n",
      "\r\n",
      "        # Extract the final energy in Hartree\r\n",
      "        final_energy_hartree = mf_scf.e_tot\r\n",
      "\r\n",
      "        # Convert energy from Hartree to kJ/mol\r\n",
      "        #hartree_to_kjmol = 2625.5\r\n",
      "        hartree_to_kcalmol=627.509\r\n",
      "        final_energy_kcalmol = final_energy_hartree * hartree_to_kcalmol\r\n",
      "\r\n",
      "        # Save optimized geometry to XYZ file\r\n",
      "        with open(xyz_filename, 'w') as xyz_file:\r\n",
      "            xyz_file.write(f\"{len(optimized_atoms)}\\n\")\r\n",
      "            xyz_file.write(f\"Energy: {final_energy_kcalmol:.6f} kcal/mol\\n\")\r\n",
      "            for symbol, coords in optimized_atoms:\r\n",
      "                formatted_coords = ' '.join(f\"{coord:.8f}\" for coord in coords)\r\n",
      "                xyz_file.write(f\"{symbol} {formatted_coords}\\n\")\r\n",
      "\r\n",
      "        print(f\"Optimized geometry saved to '{xyz_filename}'.\")\r\n",
      "\r\n",
      "        # Print the final energy\r\n",
      "        print(f\"Final energy: {final_energy_hartree:.8f} Hartree ({final_energy_kcalmol:.6f} kcal/mol)\")\r\n",
      "\r\n",
      "        # Record the end time\r\n",
      "        opt_time = time.time()\r\n",
      "\r\n",
      "        # Calculate and print the total run time\r\n",
      "        total_opt_time = opt_time - start_time\r\n",
      "        print(f\"\\nOPT Time: {total_opt_time:.2f} seconds\")\r\n",
      "\r\n",
      "        print(\"################################################################\")\r\n",
      "        return mol_opt\r\n",
      "    \r\n",
      "\r\n",
      "def run_DFT(cluster_reps_dir, dielectric_value, mode='normal'):\r\n",
      "    \"\"\"\r\n",
      "    Main function that processes SDF files with specified basis sets and XC functionals.\r\n",
      "    Accepts command-line argument for dielectric constant.\r\n",
      "    \"\"\"\r\n",
      "    \r\n",
      "    \r\n",
      "    # Define basis sets and XC functionals to loop over\r\n",
      "    basis_sets = ['aug-cc-pVDZ']\r\n",
      "    xc_functionals = ['M06-2X']  # Add more if needed\r\n",
      "\r\n",
      "    # Get list of charged SDF files\r\n",
      "    #sdf_files = sorted(glob.glob(os.path.join(cluster_reps_dir, file_pattern)))\r\n",
      "    if mode == 'deproto':\r\n",
      "        sdf_files = sorted(glob.glob(os.path.join(cluster_reps_dir, \"*nated.sdf\")))\r\n",
      "    else:\r\n",
      "        sdf_files = sorted(glob.glob(os.path.join(cluster_reps_dir, \"*.sdf\")))\r\n",
      "\r\n",
      "    if not sdf_files:\r\n",
      "        print(f\"No SDF files found in {cluster_reps_dir}\")\r\n",
      "        return\r\n",
      "\r\n",
      "    print(f\"Found {len(sdf_files)} SDF files in {cluster_reps_dir}\")\r\n",
      "    print(f\"Basis sets: {basis_sets}\")\r\n",
      "    print(f\"XC functionals: {xc_functionals}\")\r\n",
      "    print(f\"Dielectric constant: {dielectric_value}\")\r\n",
      "    print(\"=\" * 70)\r\n",
      "\r\n",
      "    # Loop over each SDF file\r\n",
      "    for sdf_path in sdf_files:\r\n",
      "        dft_obj = DFTClass(sdf_path, dielectric_value)\r\n",
      "        atom_list = dft_obj.get_atom_list()\r\n",
      "\r\n",
      "        for basis in basis_sets:\r\n",
      "            for xc in xc_functionals:\r\n",
      "                start_time_sub = time.time()\r\n",
      "\r\n",
      "                # Use the chosen charge method\r\n",
      "                if mode == 'deproto':\r\n",
      "                    charge_dft = dft_obj.get_charge(cluster_reps_dir)\r\n",
      "                else:\r\n",
      "                    charge_dft = dft_obj.extract_charge_info()\r\n",
      "\r\n",
      "                # Build molecule with given basis\r\n",
      "                mol1 = gto.M(\r\n",
      "                    atom=atom_list,\r\n",
      "                    basis=basis,\r\n",
      "                    charge =charge_dft,\r\n",
      "                    spin=0,\r\n",
      "                    verbose=4,\r\n",
      "                )\r\n",
      "\r\n",
      "                # Sanitize names for filename safety\r\n",
      "                basis_tag = basis.replace(\"(\", \"\").replace(\")\", \"\").replace(\"*\", \"\").replace(\"+\", \"\").replace(\"/\", \"-\").replace(\" \", \"\")\r\n",
      "                xc_tag = xc.replace(\"(\", \"\").replace(\")\", \"\").replace(\"*\", \"\").replace(\"+\", \"\").replace(\"/\", \"-\").replace(\" \", \"\")\r\n",
      "\r\n",
      "                # Output file names\r\n",
      "                if mode == 'deproto':\r\n",
      "                    xyz_filename = sdf_path.replace('.sdf', '.xyz')\r\n",
      "                    charge_filename = sdf_path.replace('.sdf', '.charge')\r\n",
      "                else:\r\n",
      "                    xyz_filename = sdf_path.replace('.sdf', f'_{basis_tag}_{xc_tag}.xyz')\r\n",
      "                    charge_filename = sdf_path.replace('.sdf', f'_{basis_tag}_{xc_tag}.charge')\r\n",
      "\r\n",
      "                # Call your optimization/PCM function\r\n",
      "                A = dft_obj.opti_PCM(mol1, xyz_filename, charge_filename, xc)\r\n",
      "\r\n",
      "                print(f\"Finished {os.path.basename(sdf_path)} | basis: {basis} | xc: {xc} in {time.time() - start_time_sub:.2f} s\")\r\n",
      "\r\n",
      "    print(f\"\\n{'='*70}\")\r\n",
      "    print(\"All calculations completed!\")\r\n",
      "\r\n",
      "\r\n",
      "if __name__ == \"__main__\":\r\n",
      "    import sys\r\n",
      "    if len(sys.argv) != 4:\r\n",
      "        print(\"Usage: python dft.py DFT <cluster_reps_dir> <dielectric_constant>\")\r\n",
      "        print(\"   or: python dft.py DFT_DEPROTO <cluster_reps_dir> <dielectric_constant>\")\r\n",
      "        sys.exit(1)\r\n",
      "    mode = sys.argv[1]\r\n",
      "    cluster_reps_dir = sys.argv[2]\r\n",
      "    dielectric_value = float(sys.argv[3])\r\n",
      "    if mode == \"DFT\":\r\n",
      "        run_DFT(cluster_reps_dir, dielectric_value, mode='normal')\r\n",
      "    elif mode == \"DFT_DEPROTO\":\r\n",
      "        run_DFT(cluster_reps_dir, dielectric_value, mode='deproto')\r\n",
      "    else:\r\n",
      "        print(\"Unknown mode, must be DFT or DFT_DEPROTO\")\r\n",
      "        sys.exit(1)#INFO: ******************** input file end ********************\r\n",
      "\r\n",
      "\r\n"
     ]
    },
    {
     "name": "stdout",
     "output_type": "stream",
     "text": [
      "System: uname_result(system='Linux', node='5d4e56049946', release='6.8.0-60-generic', version='#63-Ubuntu SMP PREEMPT_DYNAMIC Tue Apr 15 19:04:15 UTC 2025', machine='x86_64')  Threads 32\r\n",
      "Python 3.9.18 | packaged by conda-forge | (main, Dec 23 2023, 16:33:10) \r\n",
      "[GCC 12.3.0]\r\n",
      "numpy 1.26.4  scipy 1.13.1  h5py 3.12.1\r\n",
      "Date: Mon Aug 18 04:29:25 2025\r\n",
      "PySCF version 2.7.0\r\n",
      "PySCF path  /opt/conda/lib/python3.9/site-packages/pyscf/__init__.py\r\n",
      "CUDA Environment\r\n",
      "    CuPy 13.3.0\r\n",
      "    CUDA Path /usr/local/cuda\r\n",
      "    CUDA Build Version 12060\r\n",
      "    CUDA Driver Version 12080\r\n",
      "    CUDA Runtime Version 12060\r\n",
      "CUDA toolkit\r\n",
      "    cuSolver (11, 7, 2)\r\n",
      "    cuBLAS 120803\r\n",
      "    cuTENSOR 20002\r\n",
      "Device info\r\n",
      "    Device name b'NVIDIA GeForce RTX 4090'\r\n",
      "    Device global memory 23.53 GB\r\n",
      "    CuPy memory fraction 0.9\r\n",
      "    Num. Devices 1\r\n",
      "GPU4PySCF 1.3.1\r\n",
      "GPU4PySCF path  /opt/conda/lib/python3.9/site-packages/gpu4pyscf_cuda12x-1.3.1-py3.9.egg/gpu4pyscf\r\n",
      "\r\n",
      "[CONFIG] conf_file None\r\n",
      "[INPUT] verbose = 4\r\n",
      "[INPUT] num. atoms = 8\r\n",
      "[INPUT] num. electrons = 32\r\n",
      "[INPUT] charge = 0\r\n",
      "[INPUT] spin (= nelec alpha-beta = 2S) = 0\r\n",
      "[INPUT] symmetry False subgroup None\r\n",
      "[INPUT] Mole.unit = angstrom\r\n",
      "[INPUT] Symbol           X                Y                Z      unit          X                Y                Z       unit  Magmom\r\n",
      "[INPUT]  1 N     -1.160200000000  -0.044000000000   0.297100000000 AA   -2.192460249720  -0.083147949481   0.561437631608 Bohr   0.0\r\n",
      "[INPUT]  2 C     -0.015300000000   0.425800000000  -0.251900000000 AA   -0.028912809706   0.804645383840  -0.476022010778 Bohr   0.0\r\n",
      "[INPUT]  3 N      1.179600000000  -0.008100000000   0.213500000000 AA    2.229120936537  -0.015306781609   0.403456527595 Bohr   0.0\r\n",
      "[INPUT]  4 O     -0.060500000000   1.197600000000  -1.184400000000 AA   -0.114328430536   2.263136006779  -2.238191621935 Bohr   0.0\r\n",
      "[INPUT]  5 H     -1.073800000000  -0.905900000000   0.834700000000 AA   -2.029187912558  -1.711902896243   1.577354396174 Bohr   0.0\r\n",
      "[INPUT]  6 H     -1.997400000000   0.086300000000  -0.269800000000 AA   -3.774538961206   0.163083364550  -0.509848108408 Bohr   0.0\r\n",
      "[INPUT]  7 H      1.969900000000   0.147200000000  -0.411500000000 AA    3.722571492781   0.278167685536  -0.777622300259 Bohr   0.0\r\n",
      "[INPUT]  8 H      1.158300000000  -0.871500000000   0.755100000000 AA    2.188869770084  -1.646896317558   1.426932196659 Bohr   0.0\r\n",
      "\r\n",
      "nuclear repulsion = 125.161957246982\r\n",
      "number of shells = 52\r\n",
      "number of NR pGTOs = 184\r\n",
      "number of NR cGTOs = 128\r\n",
      "basis = aug-cc-pVDZ\r\n",
      "ecp = {}\r\n",
      "CPU time:         4.25\r\n",
      "Starting geometry optimization...\r\n",
      "Create scanner for <class 'gpu4pyscf.solvent.grad.pcm.PCMGradients'>\r\n",
      "Create scanner for <class 'gpu4pyscf.solvent._attach_solvent.PCMDFRKS'>\r\n",
      "geometric-optimize called with the following command line:\r\n",
      "/work/dft_main.py DFT cluster_rep_conformers 46.826\r\n",
      "\r\n",
      "                                        \u001b[91m())))))))))))))))/\u001b[0m                     \r\n",
      "                                    \u001b[91m())))))))))))))))))))))))),\u001b[0m                \r\n",
      "                                \u001b[91m*)))))))))))))))))))))))))))))))))\u001b[0m             \r\n",
      "                        \u001b[94m#,\u001b[0m    \u001b[91m()))))))))/\u001b[0m                \u001b[91m.)))))))))),\u001b[0m          \r\n",
      "                      \u001b[94m#%%%%,\u001b[0m  \u001b[91m())))))\u001b[0m                        \u001b[91m.))))))))*\u001b[0m        \r\n",
      "                      \u001b[94m*%%%%%%,\u001b[0m  \u001b[91m))\u001b[0m              \u001b[93m..\u001b[0m              \u001b[91m,))))))).\u001b[0m      \r\n",
      "                        \u001b[94m*%%%%%%,\u001b[0m         \u001b[93m***************/.\u001b[0m        \u001b[91m.)))))))\u001b[0m     \r\n",
      "                \u001b[94m#%%/\u001b[0m      \u001b[94m(%%%%%%,\u001b[0m    \u001b[93m/*********************.\u001b[0m       \u001b[91m)))))))\u001b[0m    \r\n",
      "              \u001b[94m.%%%%%%#\u001b[0m      \u001b[94m*%%%%%%,\u001b[0m  \u001b[93m*******/,\u001b[0m     \u001b[93m**********,\u001b[0m      \u001b[91m.))))))\u001b[0m   \r\n",
      "                \u001b[94m.%%%%%%/\u001b[0m      \u001b[94m*%%%%%%,\u001b[0m  \u001b[93m**\u001b[0m              \u001b[93m********\u001b[0m      \u001b[91m.))))))\u001b[0m  \r\n",
      "          \u001b[94m##\u001b[0m      \u001b[94m.%%%%%%/\u001b[0m      \u001b[94m(%%%%%%,\u001b[0m                  \u001b[93m,******\u001b[0m      \u001b[91m/)))))\u001b[0m  \r\n",
      "        \u001b[94m%%%%%%\u001b[0m      \u001b[94m.%%%%%%#\u001b[0m      \u001b[94m*%%%%%%,\u001b[0m    \u001b[92m,/////.\u001b[0m       \u001b[93m******\u001b[0m      \u001b[91m))))))\u001b[0m \r\n",
      "      \u001b[94m#%\u001b[0m      \u001b[94m%%\u001b[0m      \u001b[94m.%%%%%%/\u001b[0m      \u001b[94m*%%%%%%,\u001b[0m  \u001b[92m////////,\u001b[0m      \u001b[93m*****/\u001b[0m     \u001b[91m,)))))\u001b[0m \r\n",
      "    \u001b[94m#%%\u001b[0m  \u001b[94m%%%\u001b[0m  \u001b[94m%%%#\u001b[0m      \u001b[94m.%%%%%%/\u001b[0m      \u001b[94m(%%%%%%,\u001b[0m  \u001b[92m///////.\u001b[0m     \u001b[93m/*****\u001b[0m      \u001b[91m))))).\u001b[0m\r\n",
      "  \u001b[94m#%%%%.\u001b[0m      \u001b[94m%%%%%#\u001b[0m      \u001b[94m/%%%%%%*\u001b[0m      \u001b[94m#%%%%%%\u001b[0m   \u001b[92m/////)\u001b[0m     \u001b[93m******\u001b[0m      \u001b[91m))))),\u001b[0m\r\n",
      "    \u001b[94m#%%%%##%\u001b[0m  \u001b[94m%%%#\u001b[0m      \u001b[94m.%%%%%%/\u001b[0m      \u001b[94m(%%%%%%,\u001b[0m  \u001b[92m///////.\u001b[0m     \u001b[93m/*****\u001b[0m      \u001b[91m))))).\u001b[0m\r\n",
      "      \u001b[94m##\u001b[0m     \u001b[94m%%%\u001b[0m      \u001b[94m.%%%%%%/\u001b[0m      \u001b[94m*%%%%%%,\u001b[0m  \u001b[92m////////.\u001b[0m      \u001b[93m*****/\u001b[0m     \u001b[91m,)))))\u001b[0m \r\n",
      "        \u001b[94m#%%%%#\u001b[0m      \u001b[94m/%%%%%%/\u001b[0m      \u001b[94m(%%%%%%\u001b[0m      \u001b[92m/)/)//\u001b[0m       \u001b[93m******\u001b[0m      \u001b[91m))))))\u001b[0m \r\n",
      "          \u001b[94m##\u001b[0m      \u001b[94m.%%%%%%/\u001b[0m      \u001b[94m(%%%%%%,\u001b[0m                  \u001b[93m*******\u001b[0m      \u001b[91m))))))\u001b[0m  \r\n",
      "                \u001b[94m.%%%%%%/\u001b[0m      \u001b[94m*%%%%%%,\u001b[0m  \u001b[93m**.\u001b[0m             \u001b[93m/*******\u001b[0m      \u001b[91m.))))))\u001b[0m  \r\n",
      "              \u001b[94m*%%%%%%/\u001b[0m      \u001b[94m(%%%%%%\u001b[0m   \u001b[93m********/*..,*/*********\u001b[0m       \u001b[91m*))))))\u001b[0m   \r\n",
      "                \u001b[94m#%%/\u001b[0m      \u001b[94m(%%%%%%,\u001b[0m    \u001b[93m*********************/\u001b[0m        \u001b[91m)))))))\u001b[0m    \r\n",
      "                        \u001b[94m*%%%%%%,\u001b[0m         \u001b[93m,**************/\u001b[0m         \u001b[91m,))))))/\u001b[0m     \r\n",
      "                      \u001b[94m(%%%%%%\u001b[0m   \u001b[91m()\u001b[0m                              \u001b[91m))))))))\u001b[0m       \r\n",
      "                      \u001b[94m#%%%%,\u001b[0m  \u001b[91m())))))\u001b[0m                        \u001b[91m,)))))))),\u001b[0m        \r\n",
      "                        \u001b[94m#,\u001b[0m    \u001b[91m())))))))))\u001b[0m                \u001b[91m,)))))))))).\u001b[0m          \r\n",
      "                                 \u001b[91m()))))))))))))))))))))))))))))))/\u001b[0m             \r\n",
      "                                    \u001b[91m())))))))))))))))))))))))).\u001b[0m                \r\n",
      "                                         \u001b[91m())))))))))))))),\u001b[0m                     \r\n",
      "\r\n",
      "-=# \u001b[1;94m geomeTRIC started. Version: 1.1 \u001b[0m #=-\r\n",
      "Current date and time: 2025-08-18 04:29:25\r\n",
      "\r",
      "#========================================================#\r\n",
      "#| \u001b[92m    Arguments passed to driver run_optimizer():     \u001b[0m |#\r\n",
      "#========================================================#\r\n",
      "customengine              <pyscf.geomopt.geometric_solver.PySCFEngine object at 0x70b26d161550> \r\n",
      "etol                      1e-08 \r\n",
      "gtol                      0.0003 \r\n",
      "input                     /tmp/tmpefuzcm2g/446583f0-05c9-4839-9b5d-acb2febf2044 \r\n",
      "logIni                    /opt/conda/lib/python3.9/site-packages/pyscf/geomopt/log.ini \r\n",
      "max_steps                 200 \r\n",
      "xtol                      1e-08 \r\n",
      "----------------------------------------------------------\r\n",
      "Custom engine selected.\r\n",
      "Bonds will be generated from interatomic distances less than 1.20 times sum of covalent radii\r\n",
      "24 internal coordinates being used (instead of 24 Cartesians)\r\n",
      "Internal coordinate system (atoms numbered from 1):\r\n",
      "Distance 1-2\r\n",
      "Distance 1-5\r\n",
      "Distance 1-6\r\n",
      "Distance 2-3\r\n",
      "Distance 2-4\r\n",
      "Distance 3-7\r\n",
      "Distance 3-8\r\n",
      "Angle 2-1-5\r\n",
      "Angle 2-1-6\r\n",
      "Angle 5-1-6\r\n",
      "Angle 1-2-4\r\n",
      "Angle 3-2-4\r\n",
      "Angle 2-3-7\r\n",
      "Angle 2-3-8\r\n",
      "Angle 7-3-8\r\n",
      "Out-of-Plane 2-1-3-4\r\n",
      "Dihedral 5-1-2-3\r\n",
      "Dihedral 5-1-2-4\r\n",
      "Dihedral 6-1-2-3\r\n",
      "Dihedral 6-1-2-4\r\n",
      "Dihedral 1-2-3-7\r\n",
      "Dihedral 1-2-3-8\r\n",
      "Dihedral 4-2-3-7\r\n",
      "Dihedral 4-2-3-8\r\n",
      "Translation-X 1-8\r\n",
      "Translation-Y 1-8\r\n",
      "Translation-Z 1-8\r\n",
      "Rotation-A 1-8\r\n",
      "Rotation-B 1-8\r\n",
      "Rotation-C 1-8\r\n",
      "<class 'geometric.internal.Distance'> : 7\r\n",
      "<class 'geometric.internal.Angle'> : 8\r\n",
      "<class 'geometric.internal.OutOfPlane'> : 1\r\n",
      "<class 'geometric.internal.Dihedral'> : 8\r\n",
      "<class 'geometric.internal.TranslationX'> : 1\r\n",
      "<class 'geometric.internal.TranslationY'> : 1\r\n",
      "<class 'geometric.internal.TranslationZ'> : 1\r\n",
      "<class 'geometric.internal.RotationA'> : 1\r\n",
      "<class 'geometric.internal.RotationB'> : 1\r\n",
      "<class 'geometric.internal.RotationC'> : 1\r\n",
      "> ===== Optimization Info: ====\r\n",
      "> Job type: Energy minimization\r\n",
      "> Maximum number of optimization cycles: 300\r\n",
      "> Initial / maximum trust radius (Angstrom): 0.100 / 0.300\r\n",
      "> Convergence Criteria:\r\n",
      "> Will converge when all 5 criteria are reached:\r\n",
      ">  |Delta-E| < 1.00e-06\r\n",
      ">  RMS-Grad  < 3.00e-04\r\n",
      ">  Max-Grad  < 4.50e-04\r\n",
      ">  RMS-Disp  < 1.20e-03\r\n",
      ">  Max-Disp  < 1.80e-03\r\n",
      "> === End Optimization Info ===\r\n",
      "\r\n",
      "Geometry optimization cycle 1\r\n",
      "Cartesian coordinates (Angstrom)\r\n",
      " Atom        New coordinates             dX        dY        dZ\r\n",
      "   N  -1.160200  -0.044000   0.297100    0.000000  0.000000  0.000000\r\n",
      "   C  -0.015300   0.425800  -0.251900    0.000000  0.000000  0.000000\r\n",
      "   N   1.179600  -0.008100   0.213500    0.000000  0.000000  0.000000\r\n",
      "   O  -0.060500   1.197600  -1.184400    0.000000  0.000000  0.000000\r\n",
      "   H  -1.073800  -0.905900   0.834700    0.000000  0.000000  0.000000\r\n",
      "   H  -1.997400   0.086300  -0.269800    0.000000  0.000000  0.000000\r\n",
      "   H   1.969900   0.147200  -0.411500    0.000000  0.000000  0.000000\r\n",
      "   H   1.158300  -0.871500   0.755100    0.000000  0.000000  0.000000\r\n",
      "New geometry\r\n",
      "   1 N     -1.160200000000  -0.044000000000   0.297100000000 AA   -2.192460249720  -0.083147949481   0.561437631608 Bohr\r\n",
      "\r\n",
      "   2 C     -0.015300000000   0.425800000000  -0.251900000000 AA   -0.028912809706   0.804645383840  -0.476022010778 Bohr\r\n",
      "\r\n",
      "   3 N      1.179600000000  -0.008100000000   0.213500000000 AA    2.229120936537  -0.015306781609   0.403456527595 Bohr\r\n",
      "\r\n",
      "   4 O     -0.060500000000   1.197600000000  -1.184400000000 AA   -0.114328430536   2.263136006779  -2.238191621935 Bohr\r\n",
      "\r\n",
      "   5 H     -1.073800000000  -0.905900000000   0.834700000000 AA   -2.029187912558  -1.711902896243   1.577354396174 Bohr\r\n",
      "\r\n",
      "   6 H     -1.997400000000   0.086300000000  -0.269800000000 AA   -3.774538961206   0.163083364550  -0.509848108408 Bohr\r\n",
      "\r\n",
      "   7 H      1.969900000000   0.147200000000  -0.411500000000 AA    3.722571492781   0.278167685536  -0.777622300259 Bohr\r\n",
      "\r\n",
      "   8 H      1.158300000000  -0.871500000000   0.755100000000 AA    2.188869770084  -1.646896317558   1.426932196659 Bohr\r\n",
      "\r\n",
      "\r\n",
      "\r\n",
      "******** <class 'pyscf.scf.hf.PCMDFRKS_Scanner'> ********\r\n",
      "method = PCMDFRKS_Scanner\r\n",
      "initial guess = minao\r\n",
      "damping factor = 0\r\n",
      "level_shift factor = 0\r\n",
      "DIIS = <class 'gpu4pyscf.scf.diis.CDIIS'>\r\n",
      "diis_start_cycle = 1\r\n",
      "diis_space = 8\r\n",
      "diis_damp = 0\r\n",
      "SCF conv_tol = 1e-08\r\n",
      "SCF conv_tol_grad = 0.0003\r\n",
      "SCF max_cycles = 70\r\n",
      "direct_scf = False\r\n",
      "max_memory 4000 MB (current use 502 MB)\r\n",
      "******** <class 'gpu4pyscf.solvent.pcm.PCM'> ********\r\n",
      "lebedev_order = 29 (302 grids per sphere)\r\n",
      "eps = 46.826\r\n",
      "frozen = False\r\n",
      "equilibrium_solvation = False\r\n"
     ]
    },
    {
     "name": "stdout",
     "output_type": "stream",
     "text": [
      "Initial guess from minao.\r\n"
     ]
    },
    {
     "name": "stdout",
     "output_type": "stream",
     "text": [
      "tot grids = 256768\r\n"
     ]
    },
    {
     "name": "stdout",
     "output_type": "stream",
     "text": [
      "Default auxbasis aug-cc-pvdz-jkfit is used for O aug-cc-pVDZ\r\n",
      "Default auxbasis aug-cc-pvdz-jkfit is used for H aug-cc-pVDZ\r\n",
      "Default auxbasis aug-cc-pvdz-jkfit is used for C aug-cc-pVDZ\r\n",
      "Default auxbasis aug-cc-pvdz-jkfit is used for N aug-cc-pVDZ\r\n"
     ]
    },
    {
     "name": "stdout",
     "output_type": "stream",
     "text": [
      "<class 'gpu4pyscf.solvent.pcm.PCM'> E_diel = -0.000242011602122934\r\n",
      "Solvent Energy = -0.000242011602122934\r\n",
      "init E= -225.954812796212\r\n"
     ]
    },
    {
     "name": "stdout",
     "output_type": "stream",
     "text": [
      "<class 'gpu4pyscf.solvent.pcm.PCM'> E_diel = -0.0437474043407467\r\n",
      "Solvent Energy = -0.0437474043407467\r\n",
      "cycle= 1 E= -225.115097154671  delta_E= 0.84  |ddm|= 3.02\r\n"
     ]
    },
    {
     "name": "stdout",
     "output_type": "stream",
     "text": [
      "<class 'gpu4pyscf.solvent.pcm.PCM'> E_diel = -0.0144597546403949\r\n",
      "Solvent Energy = -0.0144597546403949\r\n",
      "cycle= 2 E= -225.016395293512  delta_E= 0.0987  |ddm|= 1.28\r\n"
     ]
    },
    {
     "name": "stdout",
     "output_type": "stream",
     "text": [
      "<class 'gpu4pyscf.solvent.pcm.PCM'> E_diel = -0.0269952727076884\r\n",
      "Solvent Energy = -0.0269952727076884\r\n",
      "cycle= 3 E= -225.234139038252  delta_E= -0.218  |ddm|= 0.724\r\n"
     ]
    },
    {
     "name": "stdout",
     "output_type": "stream",
     "text": [
      "<class 'gpu4pyscf.solvent.pcm.PCM'> E_diel = -0.0265720907927039\r\n",
      "Solvent Energy = -0.0265720907927039\r\n",
      "cycle= 4 E= -225.234933670771  delta_E= -0.000795  |ddm|= 0.0777\r\n"
     ]
    },
    {
     "name": "stdout",
     "output_type": "stream",
     "text": [
      "<class 'gpu4pyscf.solvent.pcm.PCM'> E_diel = -0.0268105100741171\r\n",
      "Solvent Energy = -0.0268105100741171\r\n",
      "cycle= 5 E= -225.235326488087  delta_E= -0.000393  |ddm|= 0.0344\r\n"
     ]
    },
    {
     "name": "stdout",
     "output_type": "stream",
     "text": [
      "<class 'gpu4pyscf.solvent.pcm.PCM'> E_diel = -0.0267135226005736\r\n",
      "Solvent Energy = -0.0267135226005736\r\n",
      "cycle= 6 E= -225.235332406763  delta_E= -5.92e-06  |ddm|= 0.00802\r\n"
     ]
    },
    {
     "name": "stdout",
     "output_type": "stream",
     "text": [
      "<class 'gpu4pyscf.solvent.pcm.PCM'> E_diel = -0.0267109532132588\r\n",
      "Solvent Energy = -0.0267109532132588\r\n",
      "cycle= 7 E= -225.235333272973  delta_E= -8.66e-07  |ddm|= 0.00283\r\n"
     ]
    },
    {
     "name": "stdout",
     "output_type": "stream",
     "text": [
      "<class 'gpu4pyscf.solvent.pcm.PCM'> E_diel = -0.0266991388627544\r\n",
      "Solvent Energy = -0.0266991388627544\r\n",
      "cycle= 8 E= -225.235333374516  delta_E= -1.02e-07  |ddm|= 0.00102\r\n"
     ]
    },
    {
     "name": "stdout",
     "output_type": "stream",
     "text": [
      "<class 'gpu4pyscf.solvent.pcm.PCM'> E_diel = -0.0266979802195071\r\n",
      "Solvent Energy = -0.0266979802195071\r\n",
      "cycle= 9 E= -225.235333382117  delta_E= -7.6e-09  |ddm|= 0.000238\r\n"
     ]
    },
    {
     "name": "stdout",
     "output_type": "stream",
     "text": [
      "converged SCF energy = -225.235333382117\r\n",
      "\r\n",
      "\r\n",
      "******** <class 'gpu4pyscf.grad.rhf.PCMGradients_Scanner'> for <class 'pyscf.scf.hf.PCMDFRKS_Scanner'> ********\r\n",
      "unit = Eh/Bohr\r\n",
      "max_memory 4000 MB (current use 1404 MB)\r\n"
     ]
    },
    {
     "name": "stdout",
     "output_type": "stream",
     "text": [
      "--------------- PCMDFRKS_Scanner (+PCM) gradients ---------------\r\n",
      "         x                y                z\r\n",
      "0 N     0.0051075018     0.0152442708    -0.0183817970\r\n",
      "1 C     0.0002006852     0.0136878809     0.0094634949\r\n",
      "2 N    -0.0069274981     0.0150583375    -0.0178768940\r\n",
      "3 O     0.0017242084    -0.0369494509     0.0326311377\r\n",
      "4 H     0.0079711700    -0.0053391400     0.0023191006\r\n",
      "5 H    -0.0064046385     0.0019114661    -0.0054249915\r\n",
      "6 H     0.0059770166     0.0020862739    -0.0058826951\r\n",
      "7 H    -0.0076126616    -0.0057004297     0.0031423463\r\n",
      "----------------------------------------------\r\n",
      "cycle 1: E = -225.235333382  dE = -225.235  norm(grad) = 0.0651706\r\n",
      "Step    0 : Gradient = 2.304e-02/4.933e-02 (rms/max) Energy = -225.2353333821\r\n",
      "Hessian Eigenvalues: 2.30000e-02 2.30000e-02 2.59243e-02 ... 5.42103e-01 5.42301e-01 9.93379e-01\r\n",
      "\r\n",
      "Geometry optimization cycle 2\r\n",
      "Cartesian coordinates (Angstrom)\r\n",
      " Atom        New coordinates             dX        dY        dZ\r\n",
      "   N  -1.100390  -0.063664   0.300366    0.059810 -0.019664  0.003266\r\n",
      "   C  -0.020126   0.473774  -0.348531   -0.004826  0.047974 -0.096631\r\n",
      "   N   1.120842  -0.028585   0.219166   -0.058758 -0.020485  0.005666\r\n",
      "   O  -0.066525   1.298513  -1.267632   -0.006025  0.100913 -0.083232\r\n",
      "   H  -0.970855  -0.914106   0.834813    0.102945 -0.008206  0.000113\r\n",
      "   H  -1.980177   0.040731  -0.185718    0.017223 -0.045569  0.084082\r\n",
      "   H   1.959427   0.103048  -0.329059   -0.010473 -0.044152  0.082441\r\n",
      "   H   1.057046  -0.882281   0.759786   -0.101254 -0.010781  0.004686\r\n",
      "New geometry\r\n",
      "   1 N     -1.100389967221  -0.063664222271   0.300365830626 AA   -2.079435668267  -0.120307944026   0.567609157060 Bohr\r\n",
      "\r\n",
      "   2 C     -0.020125526270   0.473774324039  -0.348531491269 AA   -0.038031732762   0.895303717284  -0.658629064284 Bohr\r\n",
      "\r\n",
      "   3 N      1.120841950318  -0.028584801633   0.219166337259 AA    2.118084315024  -0.054017446411   0.414164353144 Bohr\r\n",
      "\r\n",
      "   4 O     -0.066524860055   1.298513024788  -1.267631937044 AA   -0.125713765979   2.453833986029  -2.395477187766 Bohr\r\n",
      "\r\n",
      "   5 H     -0.970855335354  -0.914105818053   0.834813240416 AA   -1.834650690391  -1.727409644992   1.577568389547 Bohr\r\n",
      "\r\n",
      "   6 H     -1.980177225826   0.040730834173  -0.185717952883 AA   -3.741992634913   0.076970121412  -0.350956067364 Bohr\r\n",
      "\r\n",
      "   7 H      1.959426775611   0.103047851585  -0.329059394602 AA    3.702779967044   0.194732217220  -0.621832134514 Bohr\r\n",
      "\r\n",
      "   8 H      1.057045792947  -0.882281148673   0.759786292215 AA    1.997527049793  -1.667269735859   1.435788005486 Bohr\r\n",
      "\r\n",
      "\r\n",
      "\r\n",
      "******** <class 'pyscf.scf.hf.PCMDFRKS_Scanner'> ********\r\n",
      "method = PCMDFRKS_Scanner\r\n",
      "initial guess = minao\r\n",
      "damping factor = 0\r\n",
      "level_shift factor = 0\r\n",
      "DIIS = <class 'gpu4pyscf.scf.diis.CDIIS'>\r\n",
      "diis_start_cycle = 1\r\n",
      "diis_space = 8\r\n",
      "diis_damp = 0\r\n",
      "SCF conv_tol = 1e-08\r\n",
      "SCF conv_tol_grad = 0.0003\r\n",
      "SCF max_cycles = 70\r\n",
      "direct_scf = False\r\n",
      "max_memory 4000 MB (current use 1436 MB)\r\n",
      "<class 'gpu4pyscf.solvent.pcm.PCM'> does not have attributes  v_grids_n\r\n",
      "******** <class 'gpu4pyscf.solvent.pcm.PCM'> ********\r\n",
      "lebedev_order = 29 (302 grids per sphere)\r\n",
      "eps = 46.826\r\n",
      "frozen = False\r\n",
      "equilibrium_solvation = False\r\n",
      "tot grids = 256768\r\n"
     ]
    },
    {
     "name": "stdout",
     "output_type": "stream",
     "text": [
      "Default auxbasis aug-cc-pvdz-jkfit is used for O aug-cc-pVDZ\r\n",
      "Default auxbasis aug-cc-pvdz-jkfit is used for H aug-cc-pVDZ\r\n",
      "Default auxbasis aug-cc-pvdz-jkfit is used for C aug-cc-pVDZ\r\n",
      "Default auxbasis aug-cc-pvdz-jkfit is used for N aug-cc-pVDZ\r\n"
     ]
    },
    {
     "name": "stdout",
     "output_type": "stream",
     "text": [
      "<class 'gpu4pyscf.solvent.pcm.PCM'> E_diel = -0.0270549918450367\r\n",
      "Solvent Energy = -0.0270549918450367\r\n",
      "init E= -225.207184482346\r\n"
     ]
    },
    {
     "name": "stdout",
     "output_type": "stream",
     "text": [
      "<class 'gpu4pyscf.solvent.pcm.PCM'> E_diel = -0.0263935943487919\r\n",
      "Solvent Energy = -0.0263935943487919\r\n",
      "cycle= 1 E= -225.234591112942  delta_E= -0.0274  |ddm|= 0.382\r\n"
     ]
    },
    {
     "name": "stdout",
     "output_type": "stream",
     "text": [
      "<class 'gpu4pyscf.solvent.pcm.PCM'> E_diel = -0.0274588393410743\r\n",
      "Solvent Energy = -0.0274588393410743\r\n",
      "cycle= 2 E= -225.234485809849  delta_E= 0.000105  |ddm|= 0.102\r\n"
     ]
    },
    {
     "name": "stdout",
     "output_type": "stream",
     "text": [
      "<class 'gpu4pyscf.solvent.pcm.PCM'> E_diel = -0.0263607814625187\r\n",
      "Solvent Energy = -0.0263607814625187\r\n",
      "cycle= 3 E= -225.235618515532  delta_E= -0.00113  |ddm|= 0.057\r\n"
     ]
    },
    {
     "name": "stdout",
     "output_type": "stream",
     "text": [
      "<class 'gpu4pyscf.solvent.pcm.PCM'> E_diel = -0.0266847352446142\r\n",
      "Solvent Energy = -0.0266847352446142\r\n",
      "cycle= 4 E= -225.235664118831  delta_E= -4.56e-05  |ddm|= 0.0119\r\n"
     ]
    },
    {
     "name": "stdout",
     "output_type": "stream",
     "text": [
      "<class 'gpu4pyscf.solvent.pcm.PCM'> E_diel = -0.0266196769711895\r\n",
      "Solvent Energy = -0.0266196769711895\r\n",
      "cycle= 5 E= -225.235667041272  delta_E= -2.92e-06  |ddm|= 0.00343\r\n"
     ]
    },
    {
     "name": "stdout",
     "output_type": "stream",
     "text": [
      "<class 'gpu4pyscf.solvent.pcm.PCM'> E_diel = -0.0266292677907604\r\n",
      "Solvent Energy = -0.0266292677907604\r\n",
      "cycle= 6 E= -225.23566726387  delta_E= -2.23e-07  |ddm|= 0.000964\r\n"
     ]
    },
    {
     "name": "stdout",
     "output_type": "stream",
     "text": [
      "<class 'gpu4pyscf.solvent.pcm.PCM'> E_diel = -0.0266311512902019\r\n",
      "Solvent Energy = -0.0266311512902019\r\n",
      "cycle= 7 E= -225.235667274495  delta_E= -1.06e-08  |ddm|= 0.000239\r\n"
     ]
    },
    {
     "name": "stdout",
     "output_type": "stream",
     "text": [
      "<class 'gpu4pyscf.solvent.pcm.PCM'> E_diel = -0.026631058882301\r\n",
      "Solvent Energy = -0.026631058882301\r\n",
      "cycle= 8 E= -225.235667277361  delta_E= -2.87e-09  |ddm|= 0.000109\r\n",
      "converged SCF energy = -225.235667277361\r\n",
      "\r\n",
      "\r\n",
      "******** <class 'gpu4pyscf.grad.rhf.PCMGradients_Scanner'> for <class 'pyscf.scf.hf.PCMDFRKS_Scanner'> ********\r\n",
      "unit = Eh/Bohr\r\n",
      "max_memory 4000 MB (current use 1441 MB)\r\n"
     ]
    },
    {
     "name": "stdout",
     "output_type": "stream",
     "text": [
      "--------------- PCMDFRKS_Scanner (+PCM) gradients ---------------\r\n",
      "         x                y                z\r\n",
      "0 N     0.0173149368    -0.0106988644     0.0110633430\r\n",
      "1 C    -0.0006668930     0.0182983835    -0.0112687616\r\n",
      "2 N    -0.0161647853    -0.0112532817     0.0122766678\r\n",
      "3 O    -0.0004517386     0.0059811377    -0.0104085363\r\n",
      "4 H     0.0030755884    -0.0021644600     0.0017111348\r\n",
      "5 H     0.0029366143     0.0010915182    -0.0028404365\r\n",
      "6 H    -0.0031873719     0.0009769304    -0.0025812528\r\n",
      "7 H    -0.0028544548    -0.0022224984     0.0020317312\r\n",
      "----------------------------------------------\r\n",
      "cycle 2: E = -225.235667277  dE = -0.000333895  norm(grad) = 0.0418551\r\n"
     ]
    },
    {
     "name": "stdout",
     "output_type": "stream",
     "text": [
      "Step    1 : Displace = \u001b[0m9.749e-02\u001b[0m/\u001b[0m1.310e-01\u001b[0m (rms/max) Trust = 1.000e-01 (=) Grad = \u001b[0m1.480e-02\u001b[0m/\u001b[0m2.321e-02\u001b[0m (rms/max) E (change) = -225.2356672774 (\u001b[0m-3.339e-04\u001b[0m) Quality = \u001b[0m0.045\u001b[0m\r\n",
      "Hessian Eigenvalues: 2.29656e-02 2.30001e-02 2.57809e-02 ... 5.42203e-01 7.49772e-01 1.09210e+00\r\n",
      "\r\n",
      "Geometry optimization cycle 3\r\n",
      "Cartesian coordinates (Angstrom)\r\n",
      " Atom        New coordinates             dX        dY        dZ\r\n",
      "   N  -1.133078  -0.062042   0.298628   -0.032688  0.001622 -0.001738\r\n",
      "   C  -0.018786   0.446590  -0.322734    0.001340 -0.027184  0.025798\r\n",
      "   N   1.153276  -0.025871   0.214918    0.032434  0.002713 -0.004248\r\n",
      "   O  -0.065259   1.270145  -1.242364    0.001266 -0.028369  0.025268\r\n",
      "   H  -1.043396  -0.911864   0.839713   -0.072540  0.002242  0.004900\r\n",
      "   H  -1.997268   0.062623  -0.209700   -0.017091  0.021892 -0.023982\r\n",
      "   H   1.974022   0.125558  -0.354393    0.014595  0.022510 -0.025333\r\n",
      "   H   1.129686  -0.877736   0.759187    0.072640  0.004545 -0.000599\r\n",
      "New geometry\r\n",
      "   1 N     -1.133077924991  -0.062042383340   0.298627880949 AA   -2.141206956023  -0.117243112627   0.564324908153 Bohr\r\n",
      "\r\n",
      "   2 C     -0.018785589864   0.446589929782  -0.322733866740 AA   -0.035499619931   0.843932657277  -0.609878619261 Bohr\r\n",
      "\r\n",
      "   3 N      1.153276122367  -0.025871348312   0.214918257279 AA    2.179376017275  -0.048889762783   0.406136645426 Bohr\r\n",
      "\r\n",
      "   4 O     -0.065259050148   1.270144522415  -1.242363634180 AA   -0.123321731928   2.400225285981  -2.347727015719 Bohr\r\n",
      "\r\n",
      "   5 H     -1.043395585348  -0.911864264996   0.839712818482 AA   -1.971731895888  -1.723173723621   1.586827250217 Bohr\r\n",
      "\r\n",
      "   6 H     -1.997268336271   0.062622580386  -0.209699815254 AA   -3.774290152818   0.118339526144  -0.396275219203 Bohr\r\n",
      "\r\n",
      "   7 H      1.974021718829   0.125558111527  -0.354392682051 AA    3.730360412530   0.237270443503  -0.669705109627 Bohr\r\n",
      "\r\n",
      "   8 H      1.129686037156  -0.877735962930   0.759186828941 AA    2.134797216970  -1.658680579620   1.434655184075 Bohr\r\n",
      "\r\n",
      "\r\n",
      "\r\n",
      "******** <class 'pyscf.scf.hf.PCMDFRKS_Scanner'> ********\r\n",
      "method = PCMDFRKS_Scanner\r\n",
      "initial guess = minao\r\n",
      "damping factor = 0\r\n",
      "level_shift factor = 0\r\n",
      "DIIS = <class 'gpu4pyscf.scf.diis.CDIIS'>\r\n",
      "diis_start_cycle = 1\r\n",
      "diis_space = 8\r\n",
      "diis_damp = 0\r\n",
      "SCF conv_tol = 1e-08\r\n",
      "SCF conv_tol_grad = 0.0003\r\n",
      "SCF max_cycles = 70\r\n",
      "direct_scf = False\r\n",
      "max_memory 4000 MB (current use 1439 MB)\r\n",
      "******** <class 'gpu4pyscf.solvent.pcm.PCM'> ********\r\n",
      "lebedev_order = 29 (302 grids per sphere)\r\n",
      "eps = 46.826\r\n",
      "frozen = False\r\n",
      "equilibrium_solvation = False\r\n",
      "tot grids = 256768\r\n"
     ]
    },
    {
     "name": "stdout",
     "output_type": "stream",
     "text": [
      "Default auxbasis aug-cc-pvdz-jkfit is used for O aug-cc-pVDZ\r\n",
      "Default auxbasis aug-cc-pvdz-jkfit is used for H aug-cc-pVDZ\r\n",
      "Default auxbasis aug-cc-pvdz-jkfit is used for C aug-cc-pVDZ\r\n",
      "Default auxbasis aug-cc-pvdz-jkfit is used for N aug-cc-pVDZ\r\n"
     ]
    },
    {
     "name": "stdout",
     "output_type": "stream",
     "text": [
      "<class 'gpu4pyscf.solvent.pcm.PCM'> E_diel = -0.0264140327316649\r\n",
      "Solvent Energy = -0.0264140327316649\r\n",
      "init E= -225.243403689289\r\n"
     ]
    },
    {
     "name": "stdout",
     "output_type": "stream",
     "text": [
      "<class 'gpu4pyscf.solvent.pcm.PCM'> E_diel = -0.0270367509334357\r\n",
      "Solvent Energy = -0.0270367509334357\r\n",
      "cycle= 1 E= -225.239027240052  delta_E= 0.00438  |ddm|= 0.123\r\n"
     ]
    },
    {
     "name": "stdout",
     "output_type": "stream",
     "text": [
      "<class 'gpu4pyscf.solvent.pcm.PCM'> E_diel = -0.0263664546372775\r\n",
      "Solvent Energy = -0.0263664546372775\r\n",
      "cycle= 2 E= -225.239014326505  delta_E= 1.29e-05  |ddm|= 0.04\r\n"
     ]
    },
    {
     "name": "stdout",
     "output_type": "stream",
     "text": [
      "<class 'gpu4pyscf.solvent.pcm.PCM'> E_diel = -0.026858277014294\r\n",
      "Solvent Energy = -0.026858277014294\r\n",
      "cycle= 3 E= -225.239191165737  delta_E= -0.000177  |ddm|= 0.0215\r\n"
     ]
    },
    {
     "name": "stdout",
     "output_type": "stream",
     "text": [
      "<class 'gpu4pyscf.solvent.pcm.PCM'> E_diel = -0.0267570834170988\r\n",
      "Solvent Energy = -0.0267570834170988\r\n",
      "cycle= 4 E= -225.239197175905  delta_E= -6.01e-06  |ddm|= 0.00466\r\n"
     ]
    },
    {
     "name": "stdout",
     "output_type": "stream",
     "text": [
      "<class 'gpu4pyscf.solvent.pcm.PCM'> E_diel = -0.0267696523775909\r\n",
      "Solvent Energy = -0.0267696523775909\r\n",
      "cycle= 5 E= -225.239197845621  delta_E= -6.7e-07  |ddm|= 0.00156\r\n"
     ]
    },
    {
     "name": "stdout",
     "output_type": "stream",
     "text": [
      "<class 'gpu4pyscf.solvent.pcm.PCM'> E_diel = -0.0267676018111173\r\n",
      "Solvent Energy = -0.0267676018111173\r\n",
      "cycle= 6 E= -225.239197906095  delta_E= -6.05e-08  |ddm|= 0.00039\r\n"
     ]
    },
    {
     "name": "stdout",
     "output_type": "stream",
     "text": [
      "<class 'gpu4pyscf.solvent.pcm.PCM'> E_diel = -0.0267683428219524\r\n",
      "Solvent Energy = -0.0267683428219524\r\n",
      "cycle= 7 E= -225.23919790734  delta_E= -1.25e-09  |ddm|= 8.62e-05\r\n",
      "converged SCF energy = -225.23919790734\r\n",
      "\r\n",
      "\r\n",
      "******** <class 'gpu4pyscf.grad.rhf.PCMGradients_Scanner'> for <class 'pyscf.scf.hf.PCMDFRKS_Scanner'> ********\r\n",
      "unit = Eh/Bohr\r\n",
      "max_memory 4000 MB (current use 1442 MB)\r\n"
     ]
    },
    {
     "name": "stdout",
     "output_type": "stream",
     "text": [
      "--------------- PCMDFRKS_Scanner (+PCM) gradients ---------------\r\n",
      "         x                y                z\r\n",
      "0 N     0.0017027998    -0.0066528308     0.0060259073\r\n",
      "1 C    -0.0002935471     0.0117160001    -0.0042099042\r\n",
      "2 N    -0.0010331422    -0.0067381371     0.0061503589\r\n",
      "3 O    -0.0002342976     0.0023713593    -0.0060573025\r\n",
      "4 H     0.0013599455    -0.0005687524     0.0003527083\r\n",
      "5 H     0.0017126092     0.0002269546    -0.0014934747\r\n",
      "6 H    -0.0018491384     0.0001587682    -0.0013396529\r\n",
      "7 H    -0.0013665737    -0.0005105238     0.0005592621\r\n",
      "----------------------------------------------\r\n",
      "cycle 3: E = -225.239197907  dE = -0.00353063  norm(grad) = 0.0195039\r\n",
      "Step    2 : Displace = \u001b[0m4.783e-02\u001b[0m/\u001b[0m7.277e-02\u001b[0m (rms/max) Trust = 4.874e-02 (\u001b[91m-\u001b[0m) Grad = \u001b[0m6.896e-03\u001b[0m/\u001b[0m1.245e-02\u001b[0m (rms/max) E (change) = -225.2391979073 (\u001b[0m-3.531e-03\u001b[0m) Quality = \u001b[0m0.894\u001b[0m\r\n",
      "Hessian Eigenvalues: 2.29729e-02 2.30001e-02 2.59534e-02 ... 5.42203e-01 8.66748e-01 1.15998e+00\r\n",
      "\r\n",
      "Geometry optimization cycle 4\r\n",
      "Cartesian coordinates (Angstrom)\r\n",
      " Atom        New coordinates             dX        dY        dZ\r\n",
      "   N  -1.142947  -0.065292   0.291142   -0.009869 -0.003249 -0.007486\r\n",
      "   C  -0.019160   0.401302  -0.335687   -0.000374 -0.045288 -0.012953\r\n",
      "   N   1.163055  -0.028557   0.203648    0.009779 -0.002685 -0.011270\r\n",
      "   O  -0.066389   1.250665  -1.228515   -0.001130 -0.019480  0.013848\r\n",
      "   H  -1.084192  -0.910347   0.843799   -0.040796  0.001517  0.004086\r\n",
      "   H  -2.013311   0.095113  -0.197428   -0.016043  0.032490  0.012272\r\n",
      "   H   1.989122   0.161123  -0.347282    0.015100  0.035564  0.007111\r\n",
      "   H   1.173270  -0.876578   0.754440    0.043584  0.001158 -0.004746\r\n",
      "New geometry\r\n",
      "   1 N     -1.142946954167  -0.065291746765   0.291141958832 AA   -2.159856718282  -0.123383519580   0.550178565563 Bohr\r\n",
      "\r\n",
      "   2 C     -0.019159690847   0.401301978746  -0.335686877407 AA   -0.036206568332   0.758350833076  -0.634356261909 Bohr\r\n",
      "\r\n",
      "   3 N      1.163054652583  -0.028556532810   0.203647872599 AA    2.197854761283  -0.053964026078   0.384838705063 Bohr\r\n",
      "\r\n",
      "   4 O     -0.066389006158   1.250664500955  -1.228515257210 AA   -0.125457039320   2.363413380520  -2.321557375977 Bohr\r\n",
      "\r\n",
      "   5 H     -1.084192044022  -0.910347134050   0.843798541094 AA   -2.048826029633  -1.720306761637   1.594548146976 Bohr\r\n",
      "\r\n",
      "   6 H     -2.013311038861   0.095112504554  -0.197428310863 AA   -3.804606467011   0.179736584628  -0.373085436767 Bohr\r\n",
      "\r\n",
      "   7 H      1.989122191874   0.161122555011  -0.347281590599 AA    3.758896170937   0.304477501461  -0.656267094336 Bohr\r\n",
      "\r\n",
      "   8 H      1.173270135340  -0.876577852471   0.754440432111 AA    2.217159225924  -1.656492068030   1.425685793988 Bohr\r\n",
      "\r\n",
      "\r\n",
      "\r\n",
      "******** <class 'pyscf.scf.hf.PCMDFRKS_Scanner'> ********\r\n",
      "method = PCMDFRKS_Scanner\r\n",
      "initial guess = minao\r\n",
      "damping factor = 0\r\n",
      "level_shift factor = 0\r\n",
      "DIIS = <class 'gpu4pyscf.scf.diis.CDIIS'>\r\n",
      "diis_start_cycle = 1\r\n",
      "diis_space = 8\r\n",
      "diis_damp = 0\r\n",
      "SCF conv_tol = 1e-08\r\n",
      "SCF conv_tol_grad = 0.0003\r\n",
      "SCF max_cycles = 70\r\n",
      "direct_scf = False\r\n",
      "max_memory 4000 MB (current use 1440 MB)\r\n",
      "******** <class 'gpu4pyscf.solvent.pcm.PCM'> ********\r\n",
      "lebedev_order = 29 (302 grids per sphere)\r\n",
      "eps = 46.826\r\n",
      "frozen = False\r\n",
      "equilibrium_solvation = False\r\n"
     ]
    },
    {
     "name": "stdout",
     "output_type": "stream",
     "text": [
      "tot grids = 256768\r\n"
     ]
    },
    {
     "name": "stdout",
     "output_type": "stream",
     "text": [
      "Default auxbasis aug-cc-pvdz-jkfit is used for O aug-cc-pVDZ\r\n",
      "Default auxbasis aug-cc-pvdz-jkfit is used for H aug-cc-pVDZ\r\n",
      "Default auxbasis aug-cc-pvdz-jkfit is used for C aug-cc-pVDZ\r\n",
      "Default auxbasis aug-cc-pvdz-jkfit is used for N aug-cc-pVDZ\r\n"
     ]
    },
    {
     "name": "stdout",
     "output_type": "stream",
     "text": [
      "<class 'gpu4pyscf.solvent.pcm.PCM'> E_diel = -0.0273359069398242\r\n",
      "Solvent Energy = -0.0273359069398242\r\n",
      "init E= -225.240898712349\r\n"
     ]
    },
    {
     "name": "stdout",
     "output_type": "stream",
     "text": [
      "<class 'gpu4pyscf.solvent.pcm.PCM'> E_diel = -0.0271237082108496\r\n",
      "Solvent Energy = -0.0271237082108496\r\n",
      "cycle= 1 E= -225.239742170773  delta_E= 0.00116  |ddm|= 0.176\r\n"
     ]
    },
    {
     "name": "stdout",
     "output_type": "stream",
     "text": [
      "<class 'gpu4pyscf.solvent.pcm.PCM'> E_diel = -0.0267566439556248\r\n",
      "Solvent Energy = -0.0267566439556248\r\n",
      "cycle= 2 E= -225.239823206661  delta_E= -8.1e-05  |ddm|= 0.0329\r\n"
     ]
    },
    {
     "name": "stdout",
     "output_type": "stream",
     "text": [
      "<class 'gpu4pyscf.solvent.pcm.PCM'> E_diel = -0.0271559058357861\r\n",
      "Solvent Energy = -0.0271559058357861\r\n",
      "cycle= 3 E= -225.239872957847  delta_E= -4.98e-05  |ddm|= 0.0163\r\n"
     ]
    },
    {
     "name": "stdout",
     "output_type": "stream",
     "text": [
      "<class 'gpu4pyscf.solvent.pcm.PCM'> E_diel = -0.0270177637117294\r\n",
      "Solvent Energy = -0.0270177637117294\r\n",
      "cycle= 4 E= -225.239888737093  delta_E= -1.58e-05  |ddm|= 0.00619\r\n"
     ]
    },
    {
     "name": "stdout",
     "output_type": "stream",
     "text": [
      "<class 'gpu4pyscf.solvent.pcm.PCM'> E_diel = -0.0270204753406218\r\n",
      "Solvent Energy = -0.0270204753406218\r\n",
      "cycle= 5 E= -225.239889000319  delta_E= -2.63e-07  |ddm|= 0.00119\r\n"
     ]
    },
    {
     "name": "stdout",
     "output_type": "stream",
     "text": [
      "<class 'gpu4pyscf.solvent.pcm.PCM'> E_diel = -0.0270256202997604\r\n",
      "Solvent Energy = -0.0270256202997604\r\n",
      "cycle= 6 E= -225.239889032067  delta_E= -3.17e-08  |ddm|= 0.000375\r\n"
     ]
    },
    {
     "name": "stdout",
     "output_type": "stream",
     "text": [
      "<class 'gpu4pyscf.solvent.pcm.PCM'> E_diel = -0.0270253205272366\r\n",
      "Solvent Energy = -0.0270253205272366\r\n",
      "cycle= 7 E= -225.239889033066  delta_E= -9.99e-10  |ddm|= 7.42e-05\r\n",
      "converged SCF energy = -225.239889033066\r\n",
      "\r\n",
      "\r\n",
      "******** <class 'gpu4pyscf.grad.rhf.PCMGradients_Scanner'> for <class 'pyscf.scf.hf.PCMDFRKS_Scanner'> ********\r\n",
      "unit = Eh/Bohr\r\n",
      "max_memory 4000 MB (current use 1442 MB)\r\n"
     ]
    },
    {
     "name": "stdout",
     "output_type": "stream",
     "text": [
      "--------------- PCMDFRKS_Scanner (+PCM) gradients ---------------\r\n",
      "         x                y                z\r\n",
      "0 N     0.0007181591     0.0015886279     0.0029705356\r\n",
      "1 C    -0.0002586998    -0.0038710027    -0.0089360780\r\n",
      "2 N    -0.0005274668     0.0015750428     0.0029906441\r\n",
      "3 O     0.0001476912     0.0008067700     0.0038955849\r\n",
      "4 H     0.0009939686    -0.0002083836     0.0000814826\r\n",
      "5 H     0.0001151505     0.0001976551    -0.0006552788\r\n",
      "6 H    -0.0001592486     0.0001788118    -0.0005660712\r\n",
      "7 H    -0.0010391369    -0.0002564648     0.0002135879\r\n",
      "----------------------------------------------\r\n",
      "cycle 4: E = -225.239889033  dE = -0.000691126  norm(grad) = 0.0117221\r\n",
      "Step    3 : Displace = \u001b[0m3.493e-02\u001b[0m/\u001b[0m4.679e-02\u001b[0m (rms/max) Trust = 6.893e-02 (\u001b[92m+\u001b[0m) Grad = \u001b[0m4.144e-03\u001b[0m/\u001b[0m9.742e-03\u001b[0m (rms/max) E (change) = -225.2398890331 (\u001b[0m-6.911e-04\u001b[0m) Quality = \u001b[0m0.782\u001b[0m\r\n",
      "Hessian Eigenvalues: 2.25455e-02 2.30001e-02 3.75034e-02 ... 5.42203e-01 7.86195e-01 9.70206e-01\r\n",
      "\r\n",
      "Geometry optimization cycle 5\r\n",
      "Cartesian coordinates (Angstrom)\r\n",
      " Atom        New coordinates             dX        dY        dZ\r\n",
      "   N  -1.151262  -0.066681   0.291038   -0.008315 -0.001389 -0.000104\r\n",
      "   C  -0.018944   0.407400  -0.311716    0.000216  0.006098  0.023971\r\n",
      "   N   1.172047  -0.028523   0.199752    0.008992  0.000033 -0.003896\r\n",
      "   O  -0.068253   1.234480  -1.226056   -0.001864 -0.016184  0.002459\r\n",
      "   H  -1.107030  -0.911429   0.845167   -0.022838 -0.001082  0.001369\r\n",
      "   H  -2.016702   0.099577  -0.203950   -0.003391  0.004464 -0.006521\r\n",
      "   H   1.990868   0.168416  -0.359119    0.001746  0.007294 -0.011838\r\n",
      "   H   1.199496  -0.876542   0.749632    0.026226  0.000035 -0.004808\r\n",
      "New geometry\r\n",
      "   1 N     -1.151262145688  -0.066680978509   0.291037630341 AA   -2.175570152930  -0.126008787101   0.549981413288 Bohr\r\n",
      "\r\n",
      "   2 C     -0.018943942622   0.407400428304  -0.311716084011 AA   -0.035798863275   0.769875232525  -0.589058027402 Bohr\r\n",
      "\r\n",
      "   3 N      1.172046630166  -0.028523079487   0.199752316155 AA    2.214847136233  -0.053900808459   0.377477170280 Bohr\r\n",
      "\r\n",
      "   4 O     -0.068252679010   1.234480430852  -1.226056033521 AA   -0.128978870597   2.332829920446  -2.316910116724 Bohr\r\n",
      "\r\n",
      "   5 H     -1.107029765541  -0.911428896333   0.845167311966 AA   -2.091983068613  -1.722350996083   1.597134749050 Bohr\r\n",
      "\r\n",
      "   6 H     -2.016702337075   0.099576679112  -0.203949804719 AA   -3.811015091842   0.188172651916  -0.385409274077 Bohr\r\n",
      "\r\n",
      "   7 H      1.990868130654   0.168416409518  -0.359119159487 AA    3.762195517060   0.318260888872  -0.678636857514 Bohr\r\n",
      "\r\n",
      "   8 H      1.199495969714  -0.876542479607   0.749632073730 AA    2.266718870280  -1.656425223004   1.416599313540 Bohr\r\n",
      "\r\n",
      "\r\n",
      "\r\n",
      "******** <class 'pyscf.scf.hf.PCMDFRKS_Scanner'> ********\r\n",
      "method = PCMDFRKS_Scanner\r\n",
      "initial guess = minao\r\n",
      "damping factor = 0\r\n",
      "level_shift factor = 0\r\n",
      "DIIS = <class 'gpu4pyscf.scf.diis.CDIIS'>\r\n",
      "diis_start_cycle = 1\r\n",
      "diis_space = 8\r\n",
      "diis_damp = 0\r\n",
      "SCF conv_tol = 1e-08\r\n",
      "SCF conv_tol_grad = 0.0003\r\n",
      "SCF max_cycles = 70\r\n",
      "direct_scf = False\r\n",
      "max_memory 4000 MB (current use 1440 MB)\r\n",
      "******** <class 'gpu4pyscf.solvent.pcm.PCM'> ********\r\n",
      "lebedev_order = 29 (302 grids per sphere)\r\n",
      "eps = 46.826\r\n",
      "frozen = False\r\n",
      "equilibrium_solvation = False\r\n",
      "tot grids = 256768\r\n"
     ]
    },
    {
     "name": "stdout",
     "output_type": "stream",
     "text": [
      "Default auxbasis aug-cc-pvdz-jkfit is used for O aug-cc-pVDZ\r\n",
      "Default auxbasis aug-cc-pvdz-jkfit is used for H aug-cc-pVDZ\r\n",
      "Default auxbasis aug-cc-pvdz-jkfit is used for C aug-cc-pVDZ\r\n",
      "Default auxbasis aug-cc-pvdz-jkfit is used for N aug-cc-pVDZ\r\n"
     ]
    },
    {
     "name": "stdout",
     "output_type": "stream",
     "text": [
      "<class 'gpu4pyscf.solvent.pcm.PCM'> E_diel = -0.0266854519029997\r\n",
      "Solvent Energy = -0.0266854519029997\r\n",
      "init E= -225.242299557267\r\n"
     ]
    },
    {
     "name": "stdout",
     "output_type": "stream",
     "text": [
      "<class 'gpu4pyscf.solvent.pcm.PCM'> E_diel = -0.0270860329676736\r\n",
      "Solvent Energy = -0.0270860329676736\r\n",
      "cycle= 1 E= -225.239991345188  delta_E= 0.00231  |ddm|= 0.107\r\n"
     ]
    },
    {
     "name": "stdout",
     "output_type": "stream",
     "text": [
      "<class 'gpu4pyscf.solvent.pcm.PCM'> E_diel = -0.0268351784693167\r\n",
      "Solvent Energy = -0.0268351784693167\r\n",
      "cycle= 2 E= -225.240015015202  delta_E= -2.37e-05  |ddm|= 0.0241\r\n"
     ]
    },
    {
     "name": "stdout",
     "output_type": "stream",
     "text": [
      "<class 'gpu4pyscf.solvent.pcm.PCM'> E_diel = -0.0271005163029755\r\n",
      "Solvent Energy = -0.0271005163029755\r\n",
      "cycle= 3 E= -225.240049575434  delta_E= -3.46e-05  |ddm|= 0.0113\r\n"
     ]
    },
    {
     "name": "stdout",
     "output_type": "stream",
     "text": [
      "<class 'gpu4pyscf.solvent.pcm.PCM'> E_diel = -0.0270270353233787\r\n",
      "Solvent Energy = -0.0270270353233787\r\n",
      "cycle= 4 E= -225.240053828117  delta_E= -4.25e-06  |ddm|= 0.0035\r\n"
     ]
    },
    {
     "name": "stdout",
     "output_type": "stream",
     "text": [
      "<class 'gpu4pyscf.solvent.pcm.PCM'> E_diel = -0.027032603044957\r\n",
      "Solvent Energy = -0.027032603044957\r\n",
      "cycle= 5 E= -225.240053985521  delta_E= -1.57e-07  |ddm|= 0.00088\r\n"
     ]
    },
    {
     "name": "stdout",
     "output_type": "stream",
     "text": [
      "<class 'gpu4pyscf.solvent.pcm.PCM'> E_diel = -0.027033964711393\r\n",
      "Solvent Energy = -0.027033964711393\r\n",
      "cycle= 6 E= -225.240054005507  delta_E= -2e-08  |ddm|= 0.000251\r\n"
     ]
    },
    {
     "name": "stdout",
     "output_type": "stream",
     "text": [
      "<class 'gpu4pyscf.solvent.pcm.PCM'> E_diel = -0.0270344558821394\r\n",
      "Solvent Energy = -0.0270344558821394\r\n",
      "cycle= 7 E= -225.240054006062  delta_E= -5.56e-10  |ddm|= 5.38e-05\r\n",
      "converged SCF energy = -225.240054006062\r\n",
      "\r\n",
      "\r\n",
      "******** <class 'gpu4pyscf.grad.rhf.PCMGradients_Scanner'> for <class 'pyscf.scf.hf.PCMDFRKS_Scanner'> ********\r\n",
      "unit = Eh/Bohr\r\n",
      "max_memory 4000 MB (current use 1441 MB)\r\n"
     ]
    },
    {
     "name": "stdout",
     "output_type": "stream",
     "text": [
      "--------------- PCMDFRKS_Scanner (+PCM) gradients ---------------\r\n",
      "         x                y                z\r\n",
      "0 N    -0.0014089947     0.0017893496    -0.0013044992\r\n",
      "1 C     0.0000474987     0.0013897854     0.0016843676\r\n",
      "2 N     0.0012215366     0.0018407440    -0.0014325898\r\n",
      "3 O     0.0001664809    -0.0032927812     0.0020676829\r\n",
      "4 H     0.0000837016    -0.0004047173    -0.0003956655\r\n",
      "5 H    -0.0005519875    -0.0004633946    -0.0001261563\r\n",
      "6 H     0.0005844385    -0.0004683013    -0.0000800484\r\n",
      "7 H    -0.0001444522    -0.0003880270    -0.0004220139\r\n",
      "----------------------------------------------\r\n",
      "cycle 5: E = -225.240054006  dE = -0.000164973  norm(grad) = 0.00595964\r\n",
      "Step    4 : Displace = \u001b[0m1.773e-02\u001b[0m/\u001b[0m2.481e-02\u001b[0m (rms/max) Trust = 9.749e-02 (\u001b[92m+\u001b[0m) Grad = \u001b[0m2.107e-03\u001b[0m/\u001b[0m3.892e-03\u001b[0m (rms/max) E (change) = -225.2400540061 (\u001b[0m-1.650e-04\u001b[0m) Quality = \u001b[0m0.560\u001b[0m\r\n",
      "Hessian Eigenvalues: 2.24728e-02 2.30006e-02 3.39919e-02 ... 5.42202e-01 8.16678e-01 1.12317e+00\r\n",
      "\r\n",
      "Geometry optimization cycle 6\r\n",
      "Cartesian coordinates (Angstrom)\r\n",
      " Atom        New coordinates             dX        dY        dZ\r\n",
      "   N  -1.147827  -0.070785   0.289725    0.003435 -0.004104 -0.001313\r\n",
      "   C  -0.019559   0.406248  -0.320489   -0.000615 -0.001152 -0.008773\r\n",
      "   N   1.168987  -0.031897   0.197441   -0.003060 -0.003374 -0.002311\r\n",
      "   O  -0.069663   1.241381  -1.230143   -0.001411  0.006901 -0.004087\r\n",
      "   H  -1.103081  -0.912619   0.847444    0.003948 -0.001190  0.002277\r\n",
      "   H  -2.016767   0.100448  -0.196176   -0.000065  0.000872  0.007773\r\n",
      "   H   1.990797   0.170230  -0.354121   -0.000071  0.001814  0.004998\r\n",
      "   H   1.197453  -0.876590   0.751630   -0.002043 -0.000047  0.001998\r\n",
      "New geometry\r\n",
      "   1 N     -1.147826932191  -0.070784838823   0.289725001869 AA   -2.169078540240  -0.133763959146   0.547500904972 Bohr\r\n",
      "\r\n",
      "   2 C     -0.019559015384   0.406248246856  -0.320488870888 AA   -0.036961182342   0.767697925143  -0.605636191949 Bohr\r\n",
      "\r\n",
      "   3 N      1.168986633498  -0.031897269384   0.197440878102 AA    2.209064580588  -0.060277103257   0.373109185407 Bohr\r\n",
      "\r\n",
      "   4 O     -0.069663275046   1.241381046744  -1.230143422565 AA   -0.131644510776   2.345870194571  -2.324634162584 Bohr\r\n",
      "\r\n",
      "   5 H     -1.103081409407  -0.912618587375   0.847444379708 AA   -2.084521756879  -1.724599186326   1.601437783449 Bohr\r\n",
      "\r\n",
      "   6 H     -2.016766906408   0.100448293955  -0.196176456318 AA   -3.811137110198   0.189819765255  -0.370719774529 Bohr\r\n",
      "\r\n",
      "   7 H      1.990797051928   0.170230415234  -0.354121119073 AA    3.762061197735   0.321688862864  -0.669191929972 Bohr\r\n",
      "\r\n",
      "   8 H      1.197453356769  -0.876589894827   0.751629783095 AA    2.262858891235  -1.656514824784   1.420374437115 Bohr\r\n",
      "\r\n",
      "\r\n",
      "\r\n",
      "******** <class 'pyscf.scf.hf.PCMDFRKS_Scanner'> ********\r\n",
      "method = PCMDFRKS_Scanner\r\n",
      "initial guess = minao\r\n",
      "damping factor = 0\r\n",
      "level_shift factor = 0\r\n",
      "DIIS = <class 'gpu4pyscf.scf.diis.CDIIS'>\r\n",
      "diis_start_cycle = 1\r\n",
      "diis_space = 8\r\n",
      "diis_damp = 0\r\n",
      "SCF conv_tol = 1e-08\r\n",
      "SCF conv_tol_grad = 0.0003\r\n",
      "SCF max_cycles = 70\r\n",
      "direct_scf = False\r\n",
      "max_memory 4000 MB (current use 1439 MB)\r\n",
      "******** <class 'gpu4pyscf.solvent.pcm.PCM'> ********\r\n",
      "lebedev_order = 29 (302 grids per sphere)\r\n",
      "eps = 46.826\r\n",
      "frozen = False\r\n",
      "equilibrium_solvation = False\r\n"
     ]
    },
    {
     "name": "stdout",
     "output_type": "stream",
     "text": [
      "tot grids = 256768\r\n"
     ]
    },
    {
     "name": "stdout",
     "output_type": "stream",
     "text": [
      "Default auxbasis aug-cc-pvdz-jkfit is used for O aug-cc-pVDZ\r\n",
      "Default auxbasis aug-cc-pvdz-jkfit is used for H aug-cc-pVDZ\r\n",
      "Default auxbasis aug-cc-pvdz-jkfit is used for C aug-cc-pVDZ\r\n",
      "Default auxbasis aug-cc-pvdz-jkfit is used for N aug-cc-pVDZ\r\n"
     ]
    },
    {
     "name": "stdout",
     "output_type": "stream",
     "text": [
      "<class 'gpu4pyscf.solvent.pcm.PCM'> E_diel = -0.0270636357751377\r\n",
      "Solvent Energy = -0.0270636357751377\r\n",
      "init E= -225.23760181478\r\n"
     ]
    },
    {
     "name": "stdout",
     "output_type": "stream",
     "text": [
      "<class 'gpu4pyscf.solvent.pcm.PCM'> E_diel = -0.0270296957489583\r\n",
      "Solvent Energy = -0.0270296957489583\r\n",
      "cycle= 1 E= -225.240119386133  delta_E= -0.00252  |ddm|= 0.0424\r\n"
     ]
    },
    {
     "name": "stdout",
     "output_type": "stream",
     "text": [
      "<class 'gpu4pyscf.solvent.pcm.PCM'> E_diel = -0.0270729999806578\r\n",
      "Solvent Energy = -0.0270729999806578\r\n",
      "cycle= 2 E= -225.240123626269  delta_E= -4.24e-06  |ddm|= 0.00747\r\n"
     ]
    },
    {
     "name": "stdout",
     "output_type": "stream",
     "text": [
      "<class 'gpu4pyscf.solvent.pcm.PCM'> E_diel = -0.0270171117092147\r\n",
      "Solvent Energy = -0.0270171117092147\r\n"
     ]
    },
    {
     "name": "stdout",
     "output_type": "stream",
     "text": [
      "cycle= 3 E= -225.24012612298  delta_E= -2.5e-06  |ddm|= 0.00359\r\n"
     ]
    },
    {
     "name": "stdout",
     "output_type": "stream",
     "text": [
      "<class 'gpu4pyscf.solvent.pcm.PCM'> E_diel = -0.0270490992915543\r\n",
      "Solvent Energy = -0.0270490992915543\r\n",
      "cycle= 4 E= -225.240126678402  delta_E= -5.55e-07  |ddm|= 0.00132\r\n"
     ]
    },
    {
     "name": "stdout",
     "output_type": "stream",
     "text": [
      "<class 'gpu4pyscf.solvent.pcm.PCM'> E_diel = -0.0270415590798948\r\n",
      "Solvent Energy = -0.0270415590798948\r\n",
      "cycle= 5 E= -225.240126719907  delta_E= -4.15e-08  |ddm|= 0.000393\r\n"
     ]
    },
    {
     "name": "stdout",
     "output_type": "stream",
     "text": [
      "<class 'gpu4pyscf.solvent.pcm.PCM'> E_diel = -0.0270434612625943\r\n",
      "Solvent Energy = -0.0270434612625943\r\n",
      "cycle= 6 E= -225.240126723073  delta_E= -3.17e-09  |ddm|= 0.000116\r\n",
      "converged SCF energy = -225.240126723073\r\n",
      "\r\n",
      "\r\n",
      "******** <class 'gpu4pyscf.grad.rhf.PCMGradients_Scanner'> for <class 'pyscf.scf.hf.PCMDFRKS_Scanner'> ********\r\n",
      "unit = Eh/Bohr\r\n",
      "max_memory 4000 MB (current use 1442 MB)\r\n"
     ]
    },
    {
     "name": "stdout",
     "output_type": "stream",
     "text": [
      "--------------- PCMDFRKS_Scanner (+PCM) gradients ---------------\r\n",
      "         x                y                z\r\n",
      "0 N    -0.0011051898     0.0002411506     0.0009094888\r\n",
      "1 C    -0.0000105724     0.0004124285    -0.0007488593\r\n",
      "2 N     0.0011489928     0.0002562352     0.0008306877\r\n",
      "3 O    -0.0000060557     0.0000850378    -0.0003019845\r\n",
      "4 H    -0.0002772794    -0.0001317955    -0.0003277147\r\n",
      "5 H     0.0000737025    -0.0003608230    -0.0000461350\r\n",
      "6 H    -0.0000514502    -0.0003689171     0.0000228034\r\n",
      "7 H     0.0002204722    -0.0001272764    -0.0003467473\r\n",
      "----------------------------------------------\r\n",
      "cycle 6: E = -225.240126723  dE = -7.2717e-05  norm(grad) = 0.0023824\r\n",
      "Step    5 : Displace = \u001b[0m6.248e-03\u001b[0m/\u001b[0m9.002e-03\u001b[0m (rms/max) Trust = 9.749e-02 (=) Grad = \u001b[0m8.423e-04\u001b[0m/\u001b[0m1.451e-03\u001b[0m (rms/max) E (change) = -225.2401267231 (\u001b[0m-7.272e-05\u001b[0m) Quality = \u001b[0m1.132\u001b[0m\r\n",
      "Hessian Eigenvalues: 2.24727e-02 2.29864e-02 2.87004e-02 ... 5.53105e-01 7.87620e-01 1.05820e+00\r\n",
      "\r\n",
      "Geometry optimization cycle 7\r\n",
      "Cartesian coordinates (Angstrom)\r\n",
      " Atom        New coordinates             dX        dY        dZ\r\n",
      "   N  -1.145391  -0.074618   0.287770    0.002436 -0.003833 -0.001955\r\n",
      "   C  -0.020135   0.404538  -0.323173   -0.000576 -0.001710 -0.002684\r\n",
      "   N   1.167214  -0.034399   0.193166   -0.001772 -0.002502 -0.004275\r\n",
      "   O  -0.071608   1.242778  -1.229891   -0.001945  0.001397  0.000252\r\n",
      "   H  -1.098910  -0.913416   0.849972    0.004172 -0.000797  0.002528\r\n",
      "   H  -2.017441   0.102468  -0.190649   -0.000674  0.002019  0.005527\r\n",
      "   H   1.990854   0.174079  -0.353518    0.000056  0.003849  0.000604\r\n",
      "   H   1.196526  -0.875693   0.752574   -0.000927  0.000897  0.000944\r\n",
      "New geometry\r\n",
      "   1 N     -1.145391242485  -0.074617909299   0.287769635681 AA   -2.164475753772  -0.141007412563   0.543805798403 Bohr\r\n",
      "\r\n",
      "   2 C     -0.020135244537   0.404538224147  -0.323172837289 AA   -0.038050097625   0.764466450556  -0.610708153374 Bohr\r\n",
      "\r\n",
      "   3 N      1.167214376425  -0.034399063845   0.193166362199 AA    2.205715500098  -0.065004809609   0.365031521036 Bohr\r\n",
      "\r\n",
      "   4 O     -0.071607944988   1.242777716281  -1.229891405702 AA   -0.135319404371   2.348509517484  -2.324157919733 Bohr\r\n",
      "\r\n",
      "   5 H     -1.098909908658  -0.913415830983   0.849972299021 AA   -2.076638762934  -1.726105758400   1.606214858617 Bohr\r\n",
      "\r\n",
      "   6 H     -2.017440974667   0.102467713572  -0.190649361048 AA   -3.812410914596   0.193635915261  -0.360275078204 Bohr\r\n",
      "\r\n",
      "   7 H      1.990853551700   0.174079422807  -0.353517552164 AA    3.762167966830   0.328962433028  -0.668051353817 Bohr\r\n",
      "\r\n",
      "   8 H      1.196525858639  -0.875692626030   0.752574079141 AA    2.261106173788  -1.654819232498   1.422158898022 Bohr\r\n",
      "\r\n",
      "\r\n",
      "\r\n",
      "******** <class 'pyscf.scf.hf.PCMDFRKS_Scanner'> ********\r\n",
      "method = PCMDFRKS_Scanner\r\n",
      "initial guess = minao\r\n",
      "damping factor = 0\r\n",
      "level_shift factor = 0\r\n",
      "DIIS = <class 'gpu4pyscf.scf.diis.CDIIS'>\r\n",
      "diis_start_cycle = 1\r\n",
      "diis_space = 8\r\n",
      "diis_damp = 0\r\n",
      "SCF conv_tol = 1e-08\r\n",
      "SCF conv_tol_grad = 0.0003\r\n",
      "SCF max_cycles = 70\r\n",
      "direct_scf = False\r\n",
      "max_memory 4000 MB (current use 1440 MB)\r\n",
      "******** <class 'gpu4pyscf.solvent.pcm.PCM'> ********\r\n",
      "lebedev_order = 29 (302 grids per sphere)\r\n",
      "eps = 46.826\r\n",
      "frozen = False\r\n",
      "equilibrium_solvation = False\r\n",
      "tot grids = 256768\r\n"
     ]
    },
    {
     "name": "stdout",
     "output_type": "stream",
     "text": [
      "Default auxbasis aug-cc-pvdz-jkfit is used for O aug-cc-pVDZ\r\n",
      "Default auxbasis aug-cc-pvdz-jkfit is used for H aug-cc-pVDZ\r\n",
      "Default auxbasis aug-cc-pvdz-jkfit is used for C aug-cc-pVDZ\r\n",
      "Default auxbasis aug-cc-pvdz-jkfit is used for N aug-cc-pVDZ\r\n"
     ]
    },
    {
     "name": "stdout",
     "output_type": "stream",
     "text": [
      "<class 'gpu4pyscf.solvent.pcm.PCM'> E_diel = -0.027097636715197\r\n",
      "Solvent Energy = -0.027097636715197\r\n",
      "init E= -225.240983768528\r\n"
     ]
    },
    {
     "name": "stdout",
     "output_type": "stream",
     "text": [
      "<class 'gpu4pyscf.solvent.pcm.PCM'> E_diel = -0.0270504823712264\r\n",
      "Solvent Energy = -0.0270504823712264\r\n",
      "cycle= 1 E= -225.240145614203  delta_E= 0.000838  |ddm|= 0.0295\r\n"
     ]
    },
    {
     "name": "stdout",
     "output_type": "stream",
     "text": [
      "<class 'gpu4pyscf.solvent.pcm.PCM'> E_diel = -0.0270699365796933\r\n",
      "Solvent Energy = -0.0270699365796933\r\n",
      "cycle= 2 E= -225.240148014303  delta_E= -2.4e-06  |ddm|= 0.00459\r\n"
     ]
    },
    {
     "name": "stdout",
     "output_type": "stream",
     "text": [
      "<class 'gpu4pyscf.solvent.pcm.PCM'> E_diel = -0.0270838280210623\r\n",
      "Solvent Energy = -0.0270838280210623\r\n",
      "cycle= 3 E= -225.240148288049  delta_E= -2.74e-07  |ddm|= 0.00147\r\n"
     ]
    },
    {
     "name": "stdout",
     "output_type": "stream",
     "text": [
      "<class 'gpu4pyscf.solvent.pcm.PCM'> E_diel = -0.0270740780479195\r\n",
      "Solvent Energy = -0.0270740780479195\r\n",
      "cycle= 4 E= -225.240148406884  delta_E= -1.19e-07  |ddm|= 0.000639\r\n"
     ]
    },
    {
     "name": "stdout",
     "output_type": "stream",
     "text": [
      "<class 'gpu4pyscf.solvent.pcm.PCM'> E_diel = -0.0270804070494158\r\n",
      "Solvent Energy = -0.0270804070494158\r\n",
      "cycle= 5 E= -225.240148417212  delta_E= -1.03e-08  |ddm|= 0.000243\r\n"
     ]
    },
    {
     "name": "stdout",
     "output_type": "stream",
     "text": [
      "<class 'gpu4pyscf.solvent.pcm.PCM'> E_diel = -0.0270795487664578\r\n",
      "Solvent Energy = -0.0270795487664578\r\n",
      "cycle= 6 E= -225.24014841936  delta_E= -2.15e-09  |ddm|= 7.47e-05\r\n",
      "converged SCF energy = -225.24014841936\r\n",
      "\r\n",
      "\r\n",
      "******** <class 'gpu4pyscf.grad.rhf.PCMGradients_Scanner'> for <class 'pyscf.scf.hf.PCMDFRKS_Scanner'> ********\r\n",
      "unit = Eh/Bohr\r\n",
      "max_memory 4000 MB (current use 1442 MB)\r\n"
     ]
    },
    {
     "name": "stdout",
     "output_type": "stream",
     "text": [
      "--------------- PCMDFRKS_Scanner (+PCM) gradients ---------------\r\n",
      "         x                y                z\r\n",
      "0 N     0.0000647859     0.0004039425     0.0008490112\r\n",
      "1 C    -0.0000242698    -0.0000266646    -0.0011807634\r\n",
      "2 N    -0.0000315955     0.0003762473     0.0008776600\r\n",
      "3 O     0.0000134900     0.0000090976     0.0001531553\r\n",
      "4 H    -0.0000963983    -0.0002277602    -0.0001589153\r\n",
      "5 H    -0.0000388625    -0.0001420251    -0.0002250618\r\n",
      "6 H     0.0000343249    -0.0001376522    -0.0001799442\r\n",
      "7 H     0.0000698862    -0.0002475170    -0.0001425165\r\n",
      "----------------------------------------------\r\n",
      "cycle 7: E = -225.240148419  dE = -2.16963e-05  norm(grad) = 0.00187563\r\n",
      "Step    6 : Displace = \u001b[0m3.800e-03\u001b[0m/\u001b[0m4.938e-03\u001b[0m (rms/max) Trust = 1.379e-01 (\u001b[92m+\u001b[0m) Grad = \u001b[0m6.631e-04\u001b[0m/\u001b[0m1.181e-03\u001b[0m (rms/max) E (change) = -225.2401484194 (\u001b[0m-2.170e-05\u001b[0m) Quality = \u001b[0m1.509\u001b[0m\r\n",
      "Hessian Eigenvalues: 9.54357e-03 2.24755e-02 2.30151e-02 ... 5.44812e-01 9.08321e-01 1.19189e+00\r\n",
      "\r\n",
      "Geometry optimization cycle 8\r\n",
      "Cartesian coordinates (Angstrom)\r\n",
      " Atom        New coordinates             dX        dY        dZ\r\n",
      "   N  -1.142454  -0.084279   0.283352    0.002937 -0.009661 -0.004417\r\n",
      "   C  -0.021555   0.401284  -0.326272   -0.001420 -0.003254 -0.003099\r\n",
      "   N   1.166148  -0.040394   0.181936   -0.001066 -0.005995 -0.011230\r\n",
      "   O  -0.076915   1.245047  -1.228774   -0.005307  0.002269  0.001117\r\n",
      "   H  -1.094837  -0.915141   0.856492    0.004073 -0.001725  0.006520\r\n",
      "   H  -2.020573   0.106659  -0.177582   -0.003132  0.004192  0.013067\r\n",
      "   H   1.992474   0.183409  -0.353904    0.001621  0.009329 -0.000386\r\n",
      "   H   1.201093  -0.872903   0.753405    0.004567  0.002789  0.000831\r\n",
      "New geometry\r\n",
      "   1 N     -1.142454456805  -0.084279035503   0.283352268944 AA   -2.158926033150  -0.159264295144   0.535458185077 Bohr\r\n",
      "\r\n",
      "   2 C     -0.021555444108   0.401283975327  -0.326272304271 AA   -0.040733885857   0.758316811544  -0.616565297102 Bohr\r\n",
      "\r\n",
      "   3 N      1.166148277611  -0.040394100962   0.181936389157 AA    2.203700865318  -0.076333787866   0.343809947599 Bohr\r\n",
      "\r\n",
      "   4 O     -0.076914994409   1.245047086999  -1.228774002112 AA   -0.145348274305   2.352798006615  -2.322046332978 Bohr\r\n",
      "\r\n",
      "   5 H     -1.094836609377  -0.915140772267   0.856491800493 AA   -2.068941342870  -1.729365425008   1.618534930868 Bohr\r\n",
      "\r\n",
      "   6 H     -2.020573410426   0.106659237778  -0.177582235023 AA   -3.818330360284   0.201556748056  -0.335581788782 Bohr\r\n",
      "\r\n",
      "   7 H      1.992474130382   0.183408748919  -0.353903874199 AA    3.765230416704   0.346592304306  -0.668781396658 Bohr\r\n",
      "\r\n",
      "   8 H      1.201092859135  -0.872903433656   0.753404651763 AA    2.269736553937  -1.649548422802   1.423728452806 Bohr\r\n",
      "\r\n",
      "\r\n",
      "\r\n",
      "******** <class 'pyscf.scf.hf.PCMDFRKS_Scanner'> ********\r\n",
      "method = PCMDFRKS_Scanner\r\n",
      "initial guess = minao\r\n",
      "damping factor = 0\r\n",
      "level_shift factor = 0\r\n",
      "DIIS = <class 'gpu4pyscf.scf.diis.CDIIS'>\r\n",
      "diis_start_cycle = 1\r\n",
      "diis_space = 8\r\n",
      "diis_damp = 0\r\n",
      "SCF conv_tol = 1e-08\r\n",
      "SCF conv_tol_grad = 0.0003\r\n",
      "SCF max_cycles = 70\r\n",
      "direct_scf = False\r\n",
      "max_memory 4000 MB (current use 1440 MB)\r\n",
      "******** <class 'gpu4pyscf.solvent.pcm.PCM'> ********\r\n",
      "lebedev_order = 29 (302 grids per sphere)\r\n",
      "eps = 46.826\r\n",
      "frozen = False\r\n",
      "equilibrium_solvation = False\r\n",
      "tot grids = 256768\r\n"
     ]
    },
    {
     "name": "stdout",
     "output_type": "stream",
     "text": [
      "Default auxbasis aug-cc-pvdz-jkfit is used for O aug-cc-pVDZ\r\n",
      "Default auxbasis aug-cc-pvdz-jkfit is used for H aug-cc-pVDZ\r\n",
      "Default auxbasis aug-cc-pvdz-jkfit is used for C aug-cc-pVDZ\r\n",
      "Default auxbasis aug-cc-pvdz-jkfit is used for N aug-cc-pVDZ\r\n"
     ]
    },
    {
     "name": "stdout",
     "output_type": "stream",
     "text": [
      "<class 'gpu4pyscf.solvent.pcm.PCM'> E_diel = -0.0271227451412423\r\n",
      "Solvent Energy = -0.0271227451412423\r\n",
      "init E= -225.241598964027\r\n"
     ]
    },
    {
     "name": "stdout",
     "output_type": "stream",
     "text": [
      "<class 'gpu4pyscf.solvent.pcm.PCM'> E_diel = -0.0271226851347039\r\n",
      "Solvent Energy = -0.0271226851347039\r\n",
      "cycle= 1 E= -225.240163014072  delta_E= 0.00144  |ddm|= 0.0685\r\n"
     ]
    },
    {
     "name": "stdout",
     "output_type": "stream",
     "text": [
      "<class 'gpu4pyscf.solvent.pcm.PCM'> E_diel = -0.027104993643913\r\n",
      "Solvent Energy = -0.027104993643913\r\n",
      "cycle= 2 E= -225.24017437784  delta_E= -1.14e-05  |ddm|= 0.0101\r\n"
     ]
    },
    {
     "name": "stdout",
     "output_type": "stream",
     "text": [
      "<class 'gpu4pyscf.solvent.pcm.PCM'> E_diel = -0.0271892200063186\r\n",
      "Solvent Energy = -0.0271892200063186\r\n",
      "cycle= 3 E= -225.240175915949  delta_E= -1.54e-06  |ddm|= 0.00401\r\n"
     ]
    },
    {
     "name": "stdout",
     "output_type": "stream",
     "text": [
      "<class 'gpu4pyscf.solvent.pcm.PCM'> E_diel = -0.0271487227138752\r\n",
      "Solvent Energy = -0.0271487227138752\r\n",
      "cycle= 4 E= -225.240177234679  delta_E= -1.32e-06  |ddm|= 0.00179\r\n"
     ]
    },
    {
     "name": "stdout",
     "output_type": "stream",
     "text": [
      "<class 'gpu4pyscf.solvent.pcm.PCM'> E_diel = -0.0271563664574655\r\n"
     ]
    },
    {
     "name": "stdout",
     "output_type": "stream",
     "text": [
      "Solvent Energy = -0.0271563664574655\r\n",
      "cycle= 5 E= -225.240177267383  delta_E= -3.27e-08  |ddm|= 0.000525\r\n"
     ]
    },
    {
     "name": "stdout",
     "output_type": "stream",
     "text": [
      "<class 'gpu4pyscf.solvent.pcm.PCM'> E_diel = -0.0271571825965684\r\n",
      "Solvent Energy = -0.0271571825965684\r\n",
      "cycle= 6 E= -225.240177271554  delta_E= -4.17e-09  |ddm|= 0.00013\r\n",
      "converged SCF energy = -225.240177271554\r\n",
      "\r\n",
      "\r\n",
      "******** <class 'gpu4pyscf.grad.rhf.PCMGradients_Scanner'> for <class 'pyscf.scf.hf.PCMDFRKS_Scanner'> ********\r\n",
      "unit = Eh/Bohr\r\n",
      "max_memory 4000 MB (current use 1442 MB)\r\n"
     ]
    },
    {
     "name": "stdout",
     "output_type": "stream",
     "text": [
      "--------------- PCMDFRKS_Scanner (+PCM) gradients ---------------\r\n",
      "         x                y                z\r\n",
      "0 N     0.0008055448     0.0003109360     0.0005161823\r\n",
      "1 C    -0.0000195928    -0.0005489718    -0.0006748589\r\n",
      "2 N    -0.0007966532     0.0002536986     0.0006263215\r\n",
      "3 O     0.0000127151     0.0002623451    -0.0000225618\r\n",
      "4 H    -0.0000242249    -0.0001490606    -0.0000630090\r\n",
      "5 H    -0.0000080595     0.0000167403    -0.0001869612\r\n",
      "6 H     0.0000014748     0.0000213535    -0.0001594659\r\n",
      "7 H     0.0000197548    -0.0001580088    -0.0000404125\r\n",
      "----------------------------------------------\r\n",
      "cycle 8: E = -225.240177272  dE = -2.88522e-05  norm(grad) = 0.00174498\r\n",
      "Step    7 : Displace = \u001b[0m7.848e-03\u001b[0m/\u001b[0m1.128e-02\u001b[0m (rms/max) Trust = 1.950e-01 (\u001b[92m+\u001b[0m) Grad = \u001b[0m6.169e-04\u001b[0m/\u001b[0m1.045e-03\u001b[0m (rms/max) E (change) = -225.2401772716 (\u001b[0m-2.885e-05\u001b[0m) Quality = \u001b[0m1.409\u001b[0m\r\n",
      "Hessian Eigenvalues: 5.18363e-03 2.26017e-02 2.30108e-02 ... 5.59605e-01 9.08929e-01 1.25292e+00\r\n",
      "\r\n",
      "Geometry optimization cycle 9\r\n",
      "Cartesian coordinates (Angstrom)\r\n",
      " Atom        New coordinates             dX        dY        dZ\r\n",
      "   N  -1.141042  -0.093095   0.279827    0.001412 -0.008816 -0.003525\r\n",
      "   C  -0.022884   0.399053  -0.327343   -0.001328 -0.002231 -0.001071\r\n",
      "   N   1.166753  -0.045634   0.171091    0.000605 -0.005240 -0.010846\r\n",
      "   O  -0.082350   1.247185  -1.226296   -0.005435  0.002138  0.002478\r\n",
      "   H  -1.092317  -0.916519   0.862947    0.002519 -0.001378  0.006455\r\n",
      "   H  -2.023917   0.109166  -0.166197   -0.003344  0.002507  0.011385\r\n",
      "   H   1.994417   0.191104  -0.356394    0.001943  0.007696 -0.002490\r\n",
      "   H   1.207323  -0.870043   0.753300    0.006230  0.002860 -0.000105\r\n",
      "New geometry\r\n",
      "   1 N     -1.141042286764  -0.093094995081   0.279827480602 AA   -2.156257418532  -0.175924044271   0.528797300465 Bohr\r\n",
      "\r\n",
      "   2 C     -0.022883641920   0.399052992614  -0.327343225122 AA   -0.043243815962   0.754100865229  -0.618589044212 Bohr\r\n",
      "\r\n",
      "   3 N      1.166753304126  -0.045633684430   0.171090794285 AA    2.204844199730  -0.086235165627   0.323314743633 Bohr\r\n",
      "\r\n",
      "   4 O     -0.082349566233   1.247185383054  -1.226296063665 AA   -0.155618126658   2.356838800533  -2.317363707959 Bohr\r\n",
      "\r\n",
      "   5 H     -1.092317229272  -0.916519222866   0.862947114736 AA   -2.064180404468  -1.731970319116   1.630733706835 Bohr\r\n",
      "\r\n",
      "   6 H     -2.023917223319   0.109166272883  -0.166197270708 AA   -3.824649250863   0.206294357788  -0.314067324288 Bohr\r\n",
      "\r\n",
      "   7 H      1.994416800850   0.191104396142  -0.356394032969 AA    3.768901531837   0.361134969909  -0.673487114741 Bohr\r\n",
      "\r\n",
      "   8 H      1.207323127376  -0.870043007350   0.753299934457 AA    2.281510054593  -1.644143000484   1.423530565776 Bohr\r\n",
      "\r\n",
      "\r\n",
      "\r\n",
      "******** <class 'pyscf.scf.hf.PCMDFRKS_Scanner'> ********\r\n",
      "method = PCMDFRKS_Scanner\r\n",
      "initial guess = minao\r\n",
      "damping factor = 0\r\n",
      "level_shift factor = 0\r\n",
      "DIIS = <class 'gpu4pyscf.scf.diis.CDIIS'>\r\n",
      "diis_start_cycle = 1\r\n",
      "diis_space = 8\r\n",
      "diis_damp = 0\r\n",
      "SCF conv_tol = 1e-08\r\n",
      "SCF conv_tol_grad = 0.0003\r\n",
      "SCF max_cycles = 70\r\n",
      "direct_scf = False\r\n",
      "max_memory 4000 MB (current use 1441 MB)\r\n",
      "******** <class 'gpu4pyscf.solvent.pcm.PCM'> ********\r\n",
      "lebedev_order = 29 (302 grids per sphere)\r\n",
      "eps = 46.826\r\n",
      "frozen = False\r\n",
      "equilibrium_solvation = False\r\n",
      "tot grids = 256768\r\n"
     ]
    },
    {
     "name": "stdout",
     "output_type": "stream",
     "text": [
      "Default auxbasis aug-cc-pvdz-jkfit is used for O aug-cc-pVDZ\r\n",
      "Default auxbasis aug-cc-pvdz-jkfit is used for H aug-cc-pVDZ\r\n",
      "Default auxbasis aug-cc-pvdz-jkfit is used for C aug-cc-pVDZ\r\n",
      "Default auxbasis aug-cc-pvdz-jkfit is used for N aug-cc-pVDZ\r\n"
     ]
    },
    {
     "name": "stdout",
     "output_type": "stream",
     "text": [
      "<class 'gpu4pyscf.solvent.pcm.PCM'> E_diel = -0.0271671920720722\r\n",
      "Solvent Energy = -0.0271671920720722\r\n",
      "init E= -225.241458305072\r\n"
     ]
    },
    {
     "name": "stdout",
     "output_type": "stream",
     "text": [
      "<class 'gpu4pyscf.solvent.pcm.PCM'> E_diel = -0.0271885839210716\r\n",
      "Solvent Energy = -0.0271885839210716\r\n",
      "cycle= 1 E= -225.240180867612  delta_E= 0.00128  |ddm|= 0.06\r\n"
     ]
    },
    {
     "name": "stdout",
     "output_type": "stream",
     "text": [
      "<class 'gpu4pyscf.solvent.pcm.PCM'> E_diel = -0.0271622749858827\r\n",
      "Solvent Energy = -0.0271622749858827\r\n",
      "cycle= 2 E= -225.240189587072  delta_E= -8.72e-06  |ddm|= 0.00884\r\n"
     ]
    },
    {
     "name": "stdout",
     "output_type": "stream",
     "text": [
      "<class 'gpu4pyscf.solvent.pcm.PCM'> E_diel = -0.027237062530008\r\n",
      "Solvent Energy = -0.027237062530008\r\n",
      "cycle= 3 E= -225.240190936333  delta_E= -1.35e-06  |ddm|= 0.00355\r\n"
     ]
    },
    {
     "name": "stdout",
     "output_type": "stream",
     "text": [
      "<class 'gpu4pyscf.solvent.pcm.PCM'> E_diel = -0.0272008218432304\r\n",
      "Solvent Energy = -0.0272008218432304\r\n",
      "cycle= 4 E= -225.240191921897  delta_E= -9.86e-07  |ddm|= 0.00157\r\n"
     ]
    },
    {
     "name": "stdout",
     "output_type": "stream",
     "text": [
      "<class 'gpu4pyscf.solvent.pcm.PCM'> E_diel = -0.0272072231798084\r\n",
      "Solvent Energy = -0.0272072231798084\r\n",
      "cycle= 5 E= -225.240191947524  delta_E= -2.56e-08  |ddm|= 0.000458\r\n"
     ]
    },
    {
     "name": "stdout",
     "output_type": "stream",
     "text": [
      "<class 'gpu4pyscf.solvent.pcm.PCM'> E_diel = -0.0272076327094599\r\n",
      "Solvent Energy = -0.0272076327094599\r\n",
      "cycle= 6 E= -225.240191952035  delta_E= -4.51e-09  |ddm|= 0.000128\r\n",
      "converged SCF energy = -225.240191952035\r\n",
      "\r\n",
      "\r\n",
      "******** <class 'gpu4pyscf.grad.rhf.PCMGradients_Scanner'> for <class 'pyscf.scf.hf.PCMDFRKS_Scanner'> ********\r\n",
      "unit = Eh/Bohr\r\n",
      "max_memory 4000 MB (current use 1442 MB)\r\n"
     ]
    },
    {
     "name": "stdout",
     "output_type": "stream",
     "text": [
      "--------------- PCMDFRKS_Scanner (+PCM) gradients ---------------\r\n",
      "         x                y                z\r\n",
      "0 N     0.0006089062     0.0002047627     0.0000875817\r\n",
      "1 C     0.0000054066    -0.0005642146     0.0000636360\r\n",
      "2 N    -0.0006139730     0.0001696168     0.0001852897\r\n",
      "3 O    -0.0000017644     0.0002491747    -0.0001764604\r\n",
      "4 H     0.0000056066    -0.0000630010    -0.0000186396\r\n",
      "5 H    -0.0000041899     0.0000398966    -0.0000844144\r\n",
      "6 H    -0.0000044789     0.0000319765    -0.0000635245\r\n",
      "7 H    -0.0000031384    -0.0000607367     0.0000046133\r\n",
      "----------------------------------------------\r\n",
      "cycle 9: E = -225.240191952  dE = -1.46805e-05  norm(grad) = 0.00113928\r\n",
      "Step    8 : Displace = \u001b[0m6.654e-03\u001b[0m/\u001b[0m1.000e-02\u001b[0m (rms/max) Trust = 2.757e-01 (\u001b[92m+\u001b[0m) Grad = \u001b[0m4.028e-04\u001b[0m/\u001b[0m6.634e-04\u001b[0m (rms/max) E (change) = -225.2401919520 (\u001b[0m-1.468e-05\u001b[0m) Quality = \u001b[0m1.329\u001b[0m\r\n",
      "Hessian Eigenvalues: 3.91315e-03 2.25648e-02 2.30066e-02 ... 5.64712e-01 9.06060e-01 1.13626e+00\r\n",
      "\r\n",
      "Geometry optimization cycle 10\r\n",
      "Cartesian coordinates (Angstrom)\r\n",
      " Atom        New coordinates             dX        dY        dZ\r\n",
      "   N  -1.140632  -0.097454   0.278696    0.000411 -0.004359 -0.001131\r\n",
      "   C  -0.023612   0.398370  -0.327522   -0.000728 -0.000683 -0.000179\r\n",
      "   N   1.167629  -0.048152   0.165330    0.000876 -0.002518 -0.005761\r\n",
      "   O  -0.085488   1.248751  -1.224306   -0.003138  0.001565  0.001990\r\n",
      "   H  -1.090986  -0.917260   0.866539    0.001331 -0.000741  0.003591\r\n",
      "   H  -2.025742   0.109550  -0.160278   -0.001825  0.000384  0.005919\r\n",
      "   H   1.995543   0.194555  -0.358715    0.001126  0.003450 -0.002321\r\n",
      "   H   1.211071  -0.868851   0.752307    0.003748  0.001192 -0.000992\r\n",
      "New geometry\r\n",
      "   1 N     -1.140631705446  -0.097453786533   0.278696263588 AA   -2.155481532288  -0.184160966349   0.526659610120 Bohr\r\n",
      "\r\n",
      "   2 C     -0.023611951218   0.398370091912  -0.327522164652 AA   -0.044620121068   0.752810369931  -0.618927190917 Bohr\r\n",
      "\r\n",
      "   3 N      1.167629490869  -0.048151554903   0.165329922709 AA    2.206499952708  -0.090993251239   0.312428274116 Bohr\r\n",
      "\r\n",
      "   4 O     -0.085487721262   1.248750567621  -1.224306451275 AA   -0.161548380198   2.359796570700  -2.313603885448 Bohr\r\n",
      "\r\n",
      "   5 H     -1.090985834058  -0.917260273168   0.866538608053 AA   -2.061664432149  -1.733370701231   1.637520645582 Bohr\r\n",
      "\r\n",
      "   6 H     -2.025742326520   0.109550166034  -0.160278049873 AA   -3.828098196063   0.207019810706  -0.302881618040 Bohr\r\n",
      "\r\n",
      "   7 H      1.995542694158   0.194554616733  -0.358715451427 AA    3.771029161835   0.367654941896  -0.677873959847 Bohr\r\n",
      "\r\n",
      "   8 H      1.211071158574  -0.868851248090   0.752307472942 AA    2.288592807064  -1.641890901877   1.421655085325 Bohr\r\n",
      "\r\n",
      "\r\n",
      "\r\n",
      "******** <class 'pyscf.scf.hf.PCMDFRKS_Scanner'> ********\r\n",
      "method = PCMDFRKS_Scanner\r\n",
      "initial guess = minao\r\n",
      "damping factor = 0\r\n",
      "level_shift factor = 0\r\n",
      "DIIS = <class 'gpu4pyscf.scf.diis.CDIIS'>\r\n",
      "diis_start_cycle = 1\r\n",
      "diis_space = 8\r\n",
      "diis_damp = 0\r\n",
      "SCF conv_tol = 1e-08\r\n",
      "SCF conv_tol_grad = 0.0003\r\n",
      "SCF max_cycles = 70\r\n",
      "direct_scf = False\r\n",
      "max_memory 4000 MB (current use 1440 MB)\r\n",
      "******** <class 'gpu4pyscf.solvent.pcm.PCM'> ********\r\n",
      "lebedev_order = 29 (302 grids per sphere)\r\n",
      "eps = 46.826\r\n",
      "frozen = False\r\n",
      "equilibrium_solvation = False\r\n",
      "tot grids = 256768\r\n"
     ]
    },
    {
     "name": "stdout",
     "output_type": "stream",
     "text": [
      "Default auxbasis aug-cc-pvdz-jkfit is used for O aug-cc-pVDZ\r\n",
      "Default auxbasis aug-cc-pvdz-jkfit is used for H aug-cc-pVDZ\r\n",
      "Default auxbasis aug-cc-pvdz-jkfit is used for C aug-cc-pVDZ\r\n",
      "Default auxbasis aug-cc-pvdz-jkfit is used for N aug-cc-pVDZ\r\n"
     ]
    },
    {
     "name": "stdout",
     "output_type": "stream",
     "text": [
      "<class 'gpu4pyscf.solvent.pcm.PCM'> E_diel = -0.027200516353631\r\n",
      "Solvent Energy = -0.027200516353631\r\n",
      "init E= -225.240864847527\r\n"
     ]
    },
    {
     "name": "stdout",
     "output_type": "stream",
     "text": [
      "<class 'gpu4pyscf.solvent.pcm.PCM'> E_diel = -0.0272030114356728\r\n",
      "Solvent Energy = -0.0272030114356728\r\n",
      "cycle= 1 E= -225.24019263142  delta_E= 0.000672  |ddm|= 0.0282\r\n"
     ]
    },
    {
     "name": "stdout",
     "output_type": "stream",
     "text": [
      "<class 'gpu4pyscf.solvent.pcm.PCM'> E_diel = -0.0271971845077244\r\n",
      "Solvent Energy = -0.0271971845077244\r\n",
      "cycle= 2 E= -225.240194741973  delta_E= -2.11e-06  |ddm|= 0.00405\r\n"
     ]
    },
    {
     "name": "stdout",
     "output_type": "stream",
     "text": [
      "<class 'gpu4pyscf.solvent.pcm.PCM'> E_diel = -0.0272184108831049\r\n",
      "Solvent Energy = -0.0272184108831049\r\n",
      "cycle= 3 E= -225.240194988104  delta_E= -2.46e-07  |ddm|= 0.00137\r\n"
     ]
    },
    {
     "name": "stdout",
     "output_type": "stream",
     "text": [
      "<class 'gpu4pyscf.solvent.pcm.PCM'> E_diel = -0.027205739309362\r\n",
      "Solvent Energy = -0.027205739309362\r\n",
      "cycle= 4 E= -225.24019510786  delta_E= -1.2e-07  |ddm|= 0.000612\r\n"
     ]
    },
    {
     "name": "stdout",
     "output_type": "stream",
     "text": [
      "<class 'gpu4pyscf.solvent.pcm.PCM'> E_diel = -0.0272096412628359\r\n",
      "Solvent Energy = -0.0272096412628359\r\n",
      "cycle= 5 E= -225.240195115208  delta_E= -7.35e-09  |ddm|= 0.000214\r\n",
      "converged SCF energy = -225.240195115208\r\n",
      "\r\n",
      "\r\n",
      "******** <class 'gpu4pyscf.grad.rhf.PCMGradients_Scanner'> for <class 'pyscf.scf.hf.PCMDFRKS_Scanner'> ********\r\n",
      "unit = Eh/Bohr\r\n",
      "max_memory 4000 MB (current use 1442 MB)\r\n"
     ]
    },
    {
     "name": "stdout",
     "output_type": "stream",
     "text": [
      "--------------- PCMDFRKS_Scanner (+PCM) gradients ---------------\r\n",
      "         x                y                z\r\n",
      "0 N     0.0001549797     0.0000598983    -0.0000345830\r\n",
      "1 C     0.0000081138    -0.0002538844     0.0001903015\r\n",
      "2 N    -0.0001595446     0.0000613368     0.0000045814\r\n",
      "3 O    -0.0000015963     0.0001354821    -0.0001557941\r\n",
      "4 H    -0.0000005644    -0.0000100756     0.0000010337\r\n",
      "5 H    -0.0000037018     0.0000121028    -0.0000206580\r\n",
      "6 H     0.0000014944     0.0000016785    -0.0000011908\r\n",
      "7 H    -0.0000059659    -0.0000003664     0.0000162237\r\n",
      "----------------------------------------------\r\n",
      "cycle 10: E = -225.240195115  dE = -3.16317e-06  norm(grad) = 0.000449892\r\n"
     ]
    },
    {
     "name": "stdout",
     "output_type": "stream",
     "text": [
      "Step    9 : Displace = \u001b[0m3.106e-03\u001b[0m/\u001b[0m4.693e-03\u001b[0m (rms/max) Trust = 3.000e-01 (\u001b[92m+\u001b[0m) Grad = \u001b[92m1.591e-04\u001b[0m/\u001b[92m3.174e-04\u001b[0m (rms/max) E (change) = -225.2401951152 (\u001b[0m-3.163e-06\u001b[0m) Quality = \u001b[0m1.245\u001b[0m\r\n",
      "Hessian Eigenvalues: 3.51297e-03 2.24143e-02 2.29741e-02 ... 5.42353e-01 9.17265e-01 1.08085e+00\r\n",
      "\r\n",
      "Geometry optimization cycle 11\r\n",
      "Cartesian coordinates (Angstrom)\r\n",
      " Atom        New coordinates             dX        dY        dZ\r\n",
      "   N  -1.140378  -0.098633   0.278932    0.000254 -0.001179  0.000236\r\n",
      "   C  -0.023873   0.398331  -0.327478   -0.000261 -0.000039  0.000044\r\n",
      "   N   1.168016  -0.048843   0.163425    0.000386 -0.000692 -0.001905\r\n",
      "   O  -0.086745   1.249469  -1.223341   -0.001257  0.000719  0.000966\r\n",
      "   H  -1.090140  -0.917667   0.867722    0.000846 -0.000407  0.001183\r\n",
      "   H  -2.026189   0.109341  -0.158069   -0.000447 -0.000209  0.002209\r\n",
      "   H   1.995760   0.195481  -0.360065    0.000217  0.000926 -0.001350\r\n",
      "   H   1.212360  -0.868911   0.751166    0.001288 -0.000060 -0.001141\r\n",
      "New geometry\r\n",
      "   1 N     -1.140377942893  -0.098632851854   0.278932058779 AA   -2.155001990563  -0.186389076889   0.527105198454 Bohr\r\n",
      "\r\n",
      "   2 C     -0.023872529917   0.398331189304  -0.327478326298 AA   -0.045112543443   0.752736854657  -0.618844348435 Bohr\r\n",
      "\r\n",
      "   3 N      1.168015887692  -0.048843388960   0.163425267380 AA    2.207230136878  -0.092300628130   0.308828997182 Bohr\r\n",
      "\r\n",
      "   4 O     -0.086744531773   1.249469431503  -1.223340777033 AA   -0.163923407854   2.361155026556  -2.311779025604 Bohr\r\n",
      "\r\n",
      "   5 H     -1.090140040835  -0.917667484410   0.867721708129 AA   -2.060066114601  -1.734140218954   1.639756380704 Bohr\r\n",
      "\r\n",
      "   6 H     -2.026189416516   0.109340965261  -0.158069156532 AA   -3.828943073708   0.206624478540  -0.298707414586 Bohr\r\n",
      "\r\n",
      "   7 H      1.995759528895   0.195480675257  -0.360065127494 AA    3.771438920103   0.369404938880  -0.680424477970 Bohr\r\n",
      "\r\n",
      "   8 H      1.212359574912  -0.868910863689   0.751166125284 AA    2.291027561079  -1.642003559031   1.419498250838 Bohr\r\n",
      "\r\n",
      "\r\n",
      "\r\n",
      "******** <class 'pyscf.scf.hf.PCMDFRKS_Scanner'> ********\r\n",
      "method = PCMDFRKS_Scanner\r\n",
      "initial guess = minao\r\n",
      "damping factor = 0\r\n",
      "level_shift factor = 0\r\n",
      "DIIS = <class 'gpu4pyscf.scf.diis.CDIIS'>\r\n",
      "diis_start_cycle = 1\r\n",
      "diis_space = 8\r\n",
      "diis_damp = 0\r\n",
      "SCF conv_tol = 1e-08\r\n",
      "SCF conv_tol_grad = 0.0003\r\n",
      "SCF max_cycles = 70\r\n",
      "direct_scf = False\r\n",
      "max_memory 4000 MB (current use 1440 MB)\r\n",
      "******** <class 'gpu4pyscf.solvent.pcm.PCM'> ********\r\n",
      "lebedev_order = 29 (302 grids per sphere)\r\n",
      "eps = 46.826\r\n",
      "frozen = False\r\n",
      "equilibrium_solvation = False\r\n",
      "tot grids = 256768\r\n"
     ]
    },
    {
     "name": "stdout",
     "output_type": "stream",
     "text": [
      "Default auxbasis aug-cc-pvdz-jkfit is used for O aug-cc-pVDZ\r\n",
      "Default auxbasis aug-cc-pvdz-jkfit is used for H aug-cc-pVDZ\r\n",
      "Default auxbasis aug-cc-pvdz-jkfit is used for C aug-cc-pVDZ\r\n",
      "Default auxbasis aug-cc-pvdz-jkfit is used for N aug-cc-pVDZ\r\n"
     ]
    },
    {
     "name": "stdout",
     "output_type": "stream",
     "text": [
      "<class 'gpu4pyscf.solvent.pcm.PCM'> E_diel = -0.0272061777301669\r\n",
      "Solvent Energy = -0.0272061777301669\r\n",
      "init E= -225.240448418303\r\n"
     ]
    },
    {
     "name": "stdout",
     "output_type": "stream",
     "text": [
      "<class 'gpu4pyscf.solvent.pcm.PCM'> E_diel = -0.0271968649639688\r\n",
      "Solvent Energy = -0.0271968649639688\r\n",
      "cycle= 1 E= -225.240195264903  delta_E= 0.000253  |ddm|= 0.00701\r\n"
     ]
    },
    {
     "name": "stdout",
     "output_type": "stream",
     "text": [
      "<class 'gpu4pyscf.solvent.pcm.PCM'> E_diel = -0.0272037729285378\r\n",
      "Solvent Energy = -0.0272037729285378\r\n",
      "cycle= 2 E= -225.240195428821  delta_E= -1.64e-07  |ddm|= 0.00115\r\n"
     ]
    },
    {
     "name": "stdout",
     "output_type": "stream",
     "text": [
      "<class 'gpu4pyscf.solvent.pcm.PCM'> E_diel = -0.0271976679246703\r\n",
      "Solvent Energy = -0.0271976679246703\r\n",
      "cycle= 3 E= -225.240195455852  delta_E= -2.7e-08  |ddm|= 0.000426\r\n"
     ]
    },
    {
     "name": "stdout",
     "output_type": "stream",
     "text": [
      "<class 'gpu4pyscf.solvent.pcm.PCM'> E_diel = -0.0272006376262008\r\n",
      "Solvent Energy = -0.0272006376262008\r\n",
      "cycle= 4 E= -225.240195467311  delta_E= -1.15e-08  |ddm|= 0.00019\r\n"
     ]
    },
    {
     "name": "stdout",
     "output_type": "stream",
     "text": [
      "<class 'gpu4pyscf.solvent.pcm.PCM'> E_diel = -0.027199676387494\r\n",
      "Solvent Energy = -0.027199676387494\r\n",
      "cycle= 5 E= -225.240195467912  delta_E= -6e-10  |ddm|= 6.35e-05\r\n",
      "converged SCF energy = -225.240195467912\r\n",
      "\r\n",
      "\r\n",
      "******** <class 'gpu4pyscf.grad.rhf.PCMGradients_Scanner'> for <class 'pyscf.scf.hf.PCMDFRKS_Scanner'> ********\r\n",
      "unit = Eh/Bohr\r\n",
      "max_memory 4000 MB (current use 1441 MB)\r\n"
     ]
    },
    {
     "name": "stdout",
     "output_type": "stream",
     "text": [
      "--------------- PCMDFRKS_Scanner (+PCM) gradients ---------------\r\n",
      "         x                y                z\r\n",
      "0 N     0.0000064424     0.0000037563    -0.0000427021\r\n",
      "1 C    -0.0000011075    -0.0000622626     0.0000935401\r\n",
      "2 N    -0.0000119889     0.0000192974    -0.0000232602\r\n",
      "3 O     0.0000031051     0.0000245031    -0.0000597139\r\n",
      "4 H    -0.0000028723     0.0000113473     0.0000052312\r\n",
      "5 H     0.0000011589     0.0000011237    -0.0000058141\r\n",
      "6 H     0.0000051592    -0.0000045978     0.0000115674\r\n",
      "7 H    -0.0000065662     0.0000125873     0.0000218297\r\n",
      "----------------------------------------------\r\n",
      "cycle 11: E = -225.240195468  dE = -3.52704e-07  norm(grad) = 0.000144222\r\n",
      "Step   10 : Displace = \u001b[92m7.252e-04\u001b[0m/\u001b[92m1.126e-03\u001b[0m (rms/max) Trust = 3.000e-01 (=) Grad = \u001b[92m5.099e-05\u001b[0m/\u001b[92m1.124e-04\u001b[0m (rms/max) E (change) = -225.2401954679 (\u001b[92m-3.527e-07\u001b[0m) Quality = \u001b[0m1.484\u001b[0m\r\n",
      "Hessian Eigenvalues: 3.51297e-03 2.24143e-02 2.29741e-02 ... 5.42353e-01 9.17265e-01 1.08085e+00\r\n",
      "Converged! =D\r\n",
      "\r\n",
      "    #==========================================================================#\r\n",
      "    #| If this code has benefited your research, please support us by citing: |#\r\n",
      "    #|                                                                        |#\r\n",
      "    #| Wang, L.-P.; Song, C.C. (2016) \"Geometry optimization made simple with |#\r\n",
      "    #| translation and rotation coordinates\", J. Chem, Phys. 144, 214108.     |#\r\n",
      "    #| http://dx.doi.org/10.1063/1.4952956                                    |#\r\n",
      "    #==========================================================================#\r\n",
      "    Time elapsed since start of run_optimizer: 19.626 seconds\r\n",
      "\r\n",
      "\r\n",
      "******** <class 'gpu4pyscf.solvent._attach_solvent.PCMDFRKS'> ********\r\n",
      "method = PCMDFRKS\r\n",
      "initial guess = minao\r\n",
      "damping factor = 0\r\n",
      "level_shift factor = 0\r\n",
      "DIIS = <class 'gpu4pyscf.scf.diis.CDIIS'>\r\n",
      "diis_start_cycle = 1\r\n",
      "diis_space = 8\r\n",
      "diis_damp = 0\r\n",
      "SCF conv_tol = 1e-08\r\n",
      "SCF conv_tol_grad = 0.0003\r\n",
      "SCF max_cycles = 70\r\n",
      "direct_scf = False\r\n",
      "max_memory 4000 MB (current use 1439 MB)\r\n",
      "******** <class 'gpu4pyscf.solvent.pcm.PCM'> ********\r\n",
      "lebedev_order = 29 (302 grids per sphere)\r\n",
      "eps = 46.826\r\n",
      "frozen = False\r\n",
      "equilibrium_solvation = False\r\n"
     ]
    },
    {
     "name": "stdout",
     "output_type": "stream",
     "text": [
      "Initial guess from minao.\r\n"
     ]
    },
    {
     "name": "stdout",
     "output_type": "stream",
     "text": [
      "tot grids = 256768\r\n"
     ]
    },
    {
     "name": "stdout",
     "output_type": "stream",
     "text": [
      "Default auxbasis aug-cc-pvdz-jkfit is used for O aug-cc-pVDZ\r\n",
      "Default auxbasis aug-cc-pvdz-jkfit is used for H aug-cc-pVDZ\r\n",
      "Default auxbasis aug-cc-pvdz-jkfit is used for C aug-cc-pVDZ\r\n",
      "Default auxbasis aug-cc-pvdz-jkfit is used for N aug-cc-pVDZ\r\n"
     ]
    },
    {
     "name": "stdout",
     "output_type": "stream",
     "text": [
      "<class 'gpu4pyscf.solvent.pcm.PCM'> E_diel = -0.000241139268856794\r\n",
      "Solvent Energy = -0.000241139268856794\r\n",
      "init E= -225.877234598699\r\n"
     ]
    },
    {
     "name": "stdout",
     "output_type": "stream",
     "text": [
      "<class 'gpu4pyscf.solvent.pcm.PCM'> E_diel = -0.0442467145925836\r\n",
      "Solvent Energy = -0.0442467145925836\r\n",
      "cycle= 1 E= -225.120321857195  delta_E= 0.757  |ddm|= 3.06\r\n"
     ]
    },
    {
     "name": "stdout",
     "output_type": "stream",
     "text": [
      "<class 'gpu4pyscf.solvent.pcm.PCM'> E_diel = -0.014174373522843\r\n",
      "Solvent Energy = -0.014174373522843\r\n",
      "cycle= 2 E= -225.010641590918  delta_E= 0.11  |ddm|= 1.27\r\n"
     ]
    },
    {
     "name": "stdout",
     "output_type": "stream",
     "text": [
      "<class 'gpu4pyscf.solvent.pcm.PCM'> E_diel = -0.0277417475567537\r\n",
      "Solvent Energy = -0.0277417475567537\r\n",
      "cycle= 3 E= -225.238913982322  delta_E= -0.228  |ddm|= 0.731\r\n"
     ]
    },
    {
     "name": "stdout",
     "output_type": "stream",
     "text": [
      "<class 'gpu4pyscf.solvent.pcm.PCM'> E_diel = -0.0269595367243407\r\n",
      "Solvent Energy = -0.0269595367243407\r\n",
      "cycle= 4 E= -225.239801155574  delta_E= -0.000887  |ddm|= 0.0782\r\n"
     ]
    },
    {
     "name": "stdout",
     "output_type": "stream",
     "text": [
      "<class 'gpu4pyscf.solvent.pcm.PCM'> E_diel = -0.0273238130710989\r\n",
      "Solvent Energy = -0.0273238130710989\r\n",
      "cycle= 5 E= -225.240189539608  delta_E= -0.000388  |ddm|= 0.0323\r\n"
     ]
    },
    {
     "name": "stdout",
     "output_type": "stream",
     "text": [
      "<class 'gpu4pyscf.solvent.pcm.PCM'> E_diel = -0.0272143111887832\r\n",
      "Solvent Energy = -0.0272143111887832\r\n",
      "cycle= 6 E= -225.24019449869  delta_E= -4.96e-06  |ddm|= 0.00645\r\n"
     ]
    },
    {
     "name": "stdout",
     "output_type": "stream",
     "text": [
      "<class 'gpu4pyscf.solvent.pcm.PCM'> E_diel = -0.027215966564748\r\n",
      "Solvent Energy = -0.027215966564748\r\n",
      "cycle= 7 E= -225.240195344264  delta_E= -8.46e-07  |ddm|= 0.00236\r\n"
     ]
    },
    {
     "name": "stdout",
     "output_type": "stream",
     "text": [
      "<class 'gpu4pyscf.solvent.pcm.PCM'> E_diel = -0.0272021667604358\r\n",
      "Solvent Energy = -0.0272021667604358\r\n",
      "cycle= 8 E= -225.240195460094  delta_E= -1.16e-07  |ddm|= 0.000979\r\n"
     ]
    },
    {
     "name": "stdout",
     "output_type": "stream",
     "text": [
      "<class 'gpu4pyscf.solvent.pcm.PCM'> E_diel = -0.0272007358734567\r\n",
      "Solvent Energy = -0.0272007358734567\r\n",
      "cycle= 9 E= -225.240195467926  delta_E= -7.83e-09  |ddm|= 0.000233\r\n",
      "converged SCF energy = -225.240195467926\r\n",
      "**** MO energy ****\r\n",
      "MO #1   energy= -19.6074258154426  occ= 2\r\n",
      "MO #2   energy= -14.7732552648192  occ= 2\r\n",
      "MO #3   energy= -14.7732144374373  occ= 2\r\n",
      "MO #4   energy= -10.6840567376612  occ= 2\r\n",
      "MO #5   energy= -1.16960765040519  occ= 2\r\n",
      "MO #6   energy= -1.02843613779661  occ= 2\r\n",
      "MO #7   energy= -0.981376965618896 occ= 2\r\n",
      "MO #8   energy= -0.697016135945548 occ= 2\r\n",
      "MO #9   energy= -0.623340061855283 occ= 2\r\n",
      "MO #10  energy= -0.613551377921891 occ= 2\r\n",
      "MO #11  energy= -0.53616329750542  occ= 2\r\n",
      "MO #12  energy= -0.514351566632667 occ= 2\r\n",
      "MO #13  energy= -0.499681419472921 occ= 2\r\n",
      "MO #14  energy= -0.3540805723097   occ= 2\r\n",
      "MO #15  energy= -0.341135829843952 occ= 2\r\n",
      "MO #16  energy= -0.33463825043493  occ= 2\r\n",
      "MO #17  energy= -0.00163471541967676 occ= 0\r\n",
      "MO #18  energy= 0.0182028566135569 occ= 0\r\n",
      "MO #19  energy= 0.026712223668074  occ= 0\r\n",
      "MO #20  energy= 0.0460400460030625 occ= 0\r\n",
      "MO #21  energy= 0.0495199468746669 occ= 0\r\n",
      "MO #22  energy= 0.062501561735803  occ= 0\r\n",
      "MO #23  energy= 0.0785049316965871 occ= 0\r\n",
      "MO #24  energy= 0.0907296964286978 occ= 0\r\n",
      "MO #25  energy= 0.104252771471721  occ= 0\r\n",
      "MO #26  energy= 0.123891660381139  occ= 0\r\n",
      "MO #27  energy= 0.127793760664281  occ= 0\r\n",
      "MO #28  energy= 0.134646160393563  occ= 0\r\n",
      "MO #29  energy= 0.141888470353812  occ= 0\r\n",
      "MO #30  energy= 0.15347339209538   occ= 0\r\n",
      "MO #31  energy= 0.171326832861486  occ= 0\r\n",
      "MO #32  energy= 0.176423935646305  occ= 0\r\n",
      "MO #33  energy= 0.203629944717192  occ= 0\r\n",
      "MO #34  energy= 0.213994406012307  occ= 0\r\n",
      "MO #35  energy= 0.237552970748751  occ= 0\r\n",
      "MO #36  energy= 0.244192288783142  occ= 0\r\n",
      "MO #37  energy= 0.258434704667447  occ= 0\r\n",
      "MO #38  energy= 0.268828239911067  occ= 0\r\n",
      "MO #39  energy= 0.284075889818699  occ= 0\r\n",
      "MO #40  energy= 0.296375358530689  occ= 0\r\n",
      "MO #41  energy= 0.310308921878743  occ= 0\r\n",
      "MO #42  energy= 0.318803178207523  occ= 0\r\n",
      "MO #43  energy= 0.351230416555322  occ= 0\r\n",
      "MO #44  energy= 0.372875810212053  occ= 0\r\n",
      "MO #45  energy= 0.408690448480615  occ= 0\r\n",
      "MO #46  energy= 0.411579290010334  occ= 0\r\n",
      "MO #47  energy= 0.429115493655025  occ= 0\r\n",
      "MO #48  energy= 0.43117092691717   occ= 0\r\n",
      "MO #49  energy= 0.485160721013373  occ= 0\r\n",
      "MO #50  energy= 0.492499226732578  occ= 0\r\n",
      "MO #51  energy= 0.500153566953513  occ= 0\r\n",
      "MO #52  energy= 0.505719008511161  occ= 0\r\n",
      "MO #53  energy= 0.516626719411539  occ= 0\r\n",
      "MO #54  energy= 0.520741369604903  occ= 0\r\n",
      "MO #55  energy= 0.553208483085754  occ= 0\r\n",
      "MO #56  energy= 0.562620023188064  occ= 0\r\n",
      "MO #57  energy= 0.57039235873631   occ= 0\r\n",
      "MO #58  energy= 0.589605635527892  occ= 0\r\n",
      "MO #59  energy= 0.598221120776781  occ= 0\r\n",
      "MO #60  energy= 0.62394616670452   occ= 0\r\n",
      "MO #61  energy= 0.681776260172305  occ= 0\r\n",
      "MO #62  energy= 0.694614988167778  occ= 0\r\n",
      "MO #63  energy= 0.734494842687377  occ= 0\r\n",
      "MO #64  energy= 0.734693255767018  occ= 0\r\n",
      "MO #65  energy= 0.763991640928698  occ= 0\r\n",
      "MO #66  energy= 0.771512022434379  occ= 0\r\n",
      "MO #67  energy= 0.783869938205183  occ= 0\r\n",
      "MO #68  energy= 0.807511077317848  occ= 0\r\n",
      "MO #69  energy= 0.859547843873688  occ= 0\r\n",
      "MO #70  energy= 0.869195479067386  occ= 0\r\n",
      "MO #71  energy= 0.889066204684813  occ= 0\r\n",
      "MO #72  energy= 0.909094087111754  occ= 0\r\n",
      "MO #73  energy= 0.916618144457118  occ= 0\r\n",
      "MO #74  energy= 1.01045722298782   occ= 0\r\n",
      "MO #75  energy= 1.02855547571654   occ= 0\r\n",
      "MO #76  energy= 1.08246311185886   occ= 0\r\n",
      "MO #77  energy= 1.08718986049072   occ= 0\r\n",
      "MO #78  energy= 1.14431249211908   occ= 0\r\n",
      "MO #79  energy= 1.17682375097518   occ= 0\r\n",
      "MO #80  energy= 1.24309721746714   occ= 0\r\n",
      "MO #81  energy= 1.29921930238271   occ= 0\r\n",
      "MO #82  energy= 1.31553050364175   occ= 0\r\n",
      "MO #83  energy= 1.31887253396902   occ= 0\r\n",
      "MO #84  energy= 1.3412815800916    occ= 0\r\n",
      "MO #85  energy= 1.4393335268685    occ= 0\r\n",
      "MO #86  energy= 1.4727830904419    occ= 0\r\n",
      "MO #87  energy= 1.50954472249297   occ= 0\r\n",
      "MO #88  energy= 1.60216787036093   occ= 0\r\n",
      "MO #89  energy= 1.633711111975     occ= 0\r\n",
      "MO #90  energy= 1.70011389366203   occ= 0\r\n",
      "MO #91  energy= 1.70304067604872   occ= 0\r\n",
      "MO #92  energy= 1.7482747627715    occ= 0\r\n",
      "MO #93  energy= 1.78798756370976   occ= 0\r\n",
      "MO #94  energy= 1.78839272345545   occ= 0\r\n",
      "MO #95  energy= 1.88886545564719   occ= 0\r\n",
      "MO #96  energy= 1.94848852653445   occ= 0\r\n",
      "MO #97  energy= 1.97199935768749   occ= 0\r\n",
      "MO #98  energy= 2.00543972638635   occ= 0\r\n",
      "MO #99  energy= 2.03385071619618   occ= 0\r\n",
      "MO #100 energy= 2.04452510190583   occ= 0\r\n",
      "MO #101 energy= 2.08110135551865   occ= 0\r\n",
      "MO #102 energy= 2.10494197194523   occ= 0\r\n",
      "MO #103 energy= 2.13865778727207   occ= 0\r\n",
      "MO #104 energy= 2.1496235719272    occ= 0\r\n",
      "MO #105 energy= 2.19688827319284   occ= 0\r\n",
      "MO #106 energy= 2.20949369436169   occ= 0\r\n",
      "MO #107 energy= 2.28113126217038   occ= 0\r\n",
      "MO #108 energy= 2.31812355611594   occ= 0\r\n",
      "MO #109 energy= 2.37392857327597   occ= 0\r\n",
      "MO #110 energy= 2.39949597525766   occ= 0\r\n",
      "MO #111 energy= 2.46500109376406   occ= 0\r\n",
      "MO #112 energy= 2.52199641598196   occ= 0\r\n",
      "MO #113 energy= 2.54350919177308   occ= 0\r\n",
      "MO #114 energy= 2.61309661195473   occ= 0\r\n",
      "MO #115 energy= 2.6562811106695    occ= 0\r\n",
      "MO #116 energy= 2.72449504205387   occ= 0\r\n",
      "MO #117 energy= 2.78099482824028   occ= 0\r\n",
      "MO #118 energy= 2.88549735922929   occ= 0\r\n",
      "MO #119 energy= 3.07182313152318   occ= 0\r\n",
      "MO #120 energy= 3.0937455064651    occ= 0\r\n",
      "MO #121 energy= 3.17652623762353   occ= 0\r\n",
      "MO #122 energy= 3.21476873715939   occ= 0\r\n",
      "MO #123 energy= 3.42238316300357   occ= 0\r\n",
      "MO #124 energy= 3.42442035614062   occ= 0\r\n",
      "MO #125 energy= 3.46960013453306   occ= 0\r\n",
      "MO #126 energy= 3.58675557840811   occ= 0\r\n",
      "MO #127 energy= 3.70262906793721   occ= 0\r\n",
      "MO #128 energy= 3.80048762024191   occ= 0\r\n"
     ]
    },
    {
     "name": "stdout",
     "output_type": "stream",
     "text": [
      " ** Mulliken pop on meta-lowdin orthogonal AOs  **\r\n",
      " ** Mulliken pop  **\r\n",
      "pop of  0 N 1s            1.99996\r\n",
      "pop of  0 N 2s            1.24608\r\n",
      "pop of  0 N 3s            0.00354\r\n",
      "pop of  0 N 4s            0.00156\r\n",
      "pop of  0 N 2px           1.20821\r\n",
      "pop of  0 N 2py           1.46032\r\n",
      "pop of  0 N 2pz           1.49825\r\n",
      "pop of  0 N 3px           0.00358\r\n",
      "pop of  0 N 3py           0.00879\r\n",
      "pop of  0 N 3pz           0.00955\r\n",
      "pop of  0 N 4px           0.00120\r\n",
      "pop of  0 N 4py           0.00087\r\n",
      "pop of  0 N 4pz           0.00101\r\n",
      "pop of  0 N 3dxy          0.00042\r\n",
      "pop of  0 N 3dyz          0.00151\r\n",
      "pop of  0 N 3dz^2         0.00055\r\n",
      "pop of  0 N 3dxz          0.00111\r\n",
      "pop of  0 N 3dx2-y2       0.00114\r\n",
      "pop of  0 N 4dxy          0.00049\r\n",
      "pop of  0 N 4dyz          0.00135\r\n",
      "pop of  0 N 4dz^2         0.00066\r\n",
      "pop of  0 N 4dxz          0.00087\r\n",
      "pop of  0 N 4dx2-y2       0.00187\r\n",
      "pop of  1 C 1s            1.99995\r\n",
      "pop of  1 C 2s            0.84987\r\n",
      "pop of  1 C 3s            0.00812\r\n",
      "pop of  1 C 4s            0.00246\r\n",
      "pop of  1 C 2px           0.89191\r\n",
      "pop of  1 C 2py           0.84651\r\n",
      "pop of  1 C 2pz           0.84065\r\n",
      "pop of  1 C 3px           0.00727\r\n",
      "pop of  1 C 3py           0.00690\r\n",
      "pop of  1 C 3pz           0.00777\r\n",
      "pop of  1 C 4px           0.00139\r\n",
      "pop of  1 C 4py           0.00059\r\n",
      "pop of  1 C 4pz           0.00077\r\n",
      "pop of  1 C 3dxy          0.00860\r\n",
      "pop of  1 C 3dyz          0.00185\r\n",
      "pop of  1 C 3dz^2         0.00892\r\n",
      "pop of  1 C 3dxz          0.00833\r\n",
      "pop of  1 C 3dx2-y2       0.00389\r\n",
      "pop of  1 C 4dxy          0.00163\r\n",
      "pop of  1 C 4dyz          0.00056\r\n",
      "pop of  1 C 4dz^2         0.00137\r\n",
      "pop of  1 C 4dxz          0.00103\r\n",
      "pop of  1 C 4dx2-y2       0.00111\r\n",
      "pop of  2 N 1s            1.99996\r\n",
      "pop of  2 N 2s            1.24628\r\n",
      "pop of  2 N 3s            0.00354\r\n",
      "pop of  2 N 4s            0.00156\r\n",
      "pop of  2 N 2px           1.20360\r\n",
      "pop of  2 N 2py           1.46454\r\n",
      "pop of  2 N 2pz           1.49861\r\n",
      "pop of  2 N 3px           0.00363\r\n",
      "pop of  2 N 3py           0.00885\r\n",
      "pop of  2 N 3pz           0.00944\r\n",
      "pop of  2 N 4px           0.00132\r\n",
      "pop of  2 N 4py           0.00083\r\n",
      "pop of  2 N 4pz           0.00092\r\n",
      "pop of  2 N 3dxy          0.00038\r\n",
      "pop of  2 N 3dyz          0.00148\r\n",
      "pop of  2 N 3dz^2         0.00063\r\n",
      "pop of  2 N 3dxz          0.00096\r\n",
      "pop of  2 N 3dx2-y2       0.00129\r\n",
      "pop of  2 N 4dxy          0.00062\r\n",
      "pop of  2 N 4dyz          0.00126\r\n",
      "pop of  2 N 4dz^2         0.00059\r\n",
      "pop of  2 N 4dxz          0.00114\r\n",
      "pop of  2 N 4dx2-y2       0.00163\r\n",
      "pop of  3 O 1s            1.99998\r\n",
      "pop of  3 O 2s            1.69758\r\n",
      "pop of  3 O 3s            0.01175\r\n",
      "pop of  3 O 4s            0.00057\r\n",
      "pop of  3 O 2px           1.86018\r\n",
      "pop of  3 O 2py           1.52587\r\n",
      "pop of  3 O 2pz           1.51509\r\n",
      "pop of  3 O 3px           0.01000\r\n",
      "pop of  3 O 3py           0.00318\r\n",
      "pop of  3 O 3pz           0.00278\r\n",
      "pop of  3 O 4px           0.00064\r\n",
      "pop of  3 O 4py           0.00060\r\n",
      "pop of  3 O 4pz           0.00070\r\n",
      "pop of  3 O 3dxy          0.00101\r\n",
      "pop of  3 O 3dyz          0.00559\r\n",
      "pop of  3 O 3dz^2         0.00282\r\n",
      "pop of  3 O 3dxz          0.00108\r\n",
      "pop of  3 O 3dx2-y2       0.00188\r\n",
      "pop of  3 O 4dxy          0.00025\r\n",
      "pop of  3 O 4dyz          0.00065\r\n",
      "pop of  3 O 4dz^2         0.00005\r\n",
      "pop of  3 O 4dxz          0.00028\r\n",
      "pop of  3 O 4dx2-y2       0.00010\r\n",
      "pop of  4 H 1s            0.71908\r\n",
      "pop of  4 H 2s            0.00549\r\n",
      "pop of  4 H 3s            0.00360\r\n",
      "pop of  4 H 2px           0.00041\r\n",
      "pop of  4 H 2py           0.00329\r\n",
      "pop of  4 H 2pz           0.00346\r\n",
      "pop of  4 H 3px           0.00100\r\n",
      "pop of  4 H 3py           0.00095\r\n",
      "pop of  4 H 3pz           0.00098\r\n",
      "pop of  5 H 1s            0.71604\r\n",
      "pop of  5 H 2s            0.00649\r\n",
      "pop of  5 H 3s            0.00332\r\n",
      "pop of  5 H 2px           0.00250\r\n",
      "pop of  5 H 2py           0.00233\r\n",
      "pop of  5 H 2pz           0.00247\r\n",
      "pop of  5 H 3px           0.00087\r\n",
      "pop of  5 H 3py           0.00141\r\n",
      "pop of  5 H 3pz           0.00127\r\n",
      "pop of  6 H 1s            0.71612\r\n",
      "pop of  6 H 2s            0.00649\r\n",
      "pop of  6 H 3s            0.00331\r\n",
      "pop of  6 H 2px           0.00240\r\n",
      "pop of  6 H 2py           0.00237\r\n",
      "pop of  6 H 2pz           0.00253\r\n",
      "pop of  6 H 3px           0.00101\r\n",
      "pop of  6 H 3py           0.00136\r\n",
      "pop of  6 H 3pz           0.00117\r\n",
      "pop of  7 H 1s            0.71912\r\n",
      "pop of  7 H 2s            0.00549\r\n",
      "pop of  7 H 3s            0.00360\r\n",
      "pop of  7 H 2px           0.00055\r\n",
      "pop of  7 H 2py           0.00327\r\n",
      "pop of  7 H 2pz           0.00334\r\n",
      "pop of  7 H 3px           0.00102\r\n",
      "pop of  7 H 3py           0.00094\r\n",
      "pop of  7 H 3pz           0.00096\r\n",
      " ** Mulliken atomic charges  **\r\n",
      "charge of    0N =     -0.45288\r\n",
      "charge of    1C =      0.49856\r\n",
      "charge of    2N =     -0.45306\r\n",
      "charge of    3O =     -0.64262\r\n",
      "charge of    4H =      0.26175\r\n",
      "charge of    5H =      0.26331\r\n",
      "charge of    6H =      0.26323\r\n",
      "charge of    7H =      0.26171\r\n"
     ]
    },
    {
     "name": "stdout",
     "output_type": "stream",
     "text": [
      "Dipole moment(X, Y, Z, Debye):  0.27094, -5.04053,  3.30991\r\n",
      "Optimized geometry saved to 'cluster_rep_conformers/rep_of_cluster_1_aug-cc-pVDZ_M06-2X.xyz'.\r\n",
      "Final energy: -225.24019547 Hartree (-141340.249818 kcal/mol)\r\n",
      "\r\n",
      "OPT Time: 21.24 seconds\r\n",
      "################################################################\r\n",
      "Finished rep_of_cluster_1.sdf | basis: aug-cc-pVDZ | xc: M06-2X in 21.33 s\r\n",
      "#INFO: **** input file is /work/dft_main.py ****\r\n",
      "from rdkit import Chem\r\n",
      "from pyscf import gto, dft\r\n",
      "from gpu4pyscf.dft import rks\r\n",
      "from pyscf.geomopt import geometric_solver\r\n",
      "import sys\r\n",
      "import glob\r\n",
      "import time\r\n",
      "import re\r\n",
      "\r\n",
      "\r\n",
      "import os\r\n",
      "# Specify which GPUs to use\r\n",
      "os.environ[\"CUDA_VISIBLE_DEVICES\"] = \"0,1\"\r\n",
      "os.environ[\"OMP_NUM_THREADS\"] = \"25\"\r\n",
      "os.environ[\"MKL_NUM_THREADS\"] = \"25\"\r\n",
      "os.environ[\"OPENBLAS_NUM_THREADS\"] = \"25\"\r\n",
      "\r\n",
      "\r\n",
      "class DFTClass:\r\n",
      "    def __init__(self, sdf_path, eps):\r\n",
      "        self.sdf_path= sdf_path\r\n",
      "        self.eps=eps\r\n",
      "    \r\n",
      "    def get_atom_list(self):\r\n",
      "        molecules = Chem.SDMolSupplier(self.sdf_path, removeHs=False)\r\n",
      "        mol = next(molecules)  # Assuming you have one molecule in the SDF\r\n",
      "\r\n",
      "        # Get the first conformer to access 3D coordinates\r\n",
      "        conformer = mol.GetConformer()\r\n",
      "\r\n",
      "        # Extract atomic symbols and coordinates\r\n",
      "        atom_list = []\r\n",
      "        for atom in mol.GetAtoms():\r\n",
      "            pos = conformer.GetAtomPosition(atom.GetIdx())\r\n",
      "            atom_list.append((atom.GetSymbol(), (pos.x, pos.y, pos.z)))\r\n",
      "        return atom_list\r\n",
      "       \r\n",
      "    def extract_charge_info(self):\r\n",
      "        \"\"\"\r\n",
      "        Extracts total formal charge from M  CHG lines in a .sdf file.\r\n",
      "        If no M  CHG line is found, assumes formal charge = 0.\r\n",
      "        \"\"\"\r\n",
      "        charges = {}\r\n",
      "        with open(self.sdf_path) as f:\r\n",
      "            for line in f:\r\n",
      "              if line.startswith(\"M  CHG\"):\r\n",
      "                 tokens = line.strip().split()\r\n",
      "                 n_entries = int(tokens[2])\r\n",
      "                 for i in range(n_entries):\r\n",
      "                    atom_idx = int(tokens[3 + i * 2])\r\n",
      "                    charge = int(tokens[4 + i * 2])\r\n",
      "                    charges[atom_idx] = charge\r\n",
      "\r\n",
      "        if charges:\r\n",
      "            formal_charge = sum(charges.values())\r\n",
      "        else:\r\n",
      "            formal_charge = 0  # Default if no charge info present\r\n",
      "\r\n",
      "        #print(f\"{os.path.basename(sdf_path)}: formal charge = {formal_charge}\")\r\n",
      "        return formal_charge  \r\n",
      "    \r\n",
      "    def get_charge(self, cluster_reps_dir):\r\n",
      "        \"\"\"\r\n",
      "        Reads the number of atoms directly from an SDF file.\r\n",
      "\r\n",
      "        Args:\r\n",
      "            file_path: The path to the SDF file.\r\n",
      "\r\n",
      "        Returns:\r\n",
      "            An integer representing the number of atoms, or None if the\r\n",
      "            information cannot be extracted or the file cannot be read.\r\n",
      "        \"\"\"\r\n",
      "        def extract_charge_info_static(path):\r\n",
      "            \"\"\"\r\n",
      "            Extracts total formal charge from M  CHG lines in a .sdf file.\r\n",
      "            If no M  CHG line is found, assumes formal charge = 0.\r\n",
      "            \"\"\"\r\n",
      "            charges = {}\r\n",
      "            with open(path) as f:\r\n",
      "                for line in f:\r\n",
      "                    if line.startswith(\"M  CHG\"):\r\n",
      "                        tokens = line.strip().split()\r\n",
      "                        n_entries = int(tokens[2])\r\n",
      "                        for i in range(n_entries):\r\n",
      "                            atom_idx = int(tokens[3 + i * 2])\r\n",
      "                            charge = int(tokens[4 + i * 2])\r\n",
      "                            charges[atom_idx] = charge\r\n",
      "\r\n",
      "            if charges:\r\n",
      "                formal_charge = sum(charges.values())\r\n",
      "            else:\r\n",
      "                formal_charge = 0  # Default if no charge info present\r\n",
      "\r\n",
      "            #print(f\"{os.path.basename(sdf_path)}: formal charge = {formal_charge}\")\r\n",
      "            return formal_charge \r\n",
      "\r\n",
      "\r\n",
      "        def get_num_atoms(path):\r\n",
      "            try:\r\n",
      "                with open(path, 'r') as f:\r\n",
      "                    # Skip the first three lines of the SDF file\r\n",
      "                    for _ in range(3):\r\n",
      "                        f.readline()\r\n",
      "                    # Read the fourth line which contains the number of atoms\r\n",
      "                    fourth_line = f.readline().strip()\r\n",
      "                    parts = fourth_line.split()\r\n",
      "                    if parts:\r\n",
      "                        try:\r\n",
      "                            num_atoms = int(parts[0])\r\n",
      "                            return num_atoms\r\n",
      "                        except ValueError:\r\n",
      "                            print(\"Error: Could not convert atom count to integer.\")\r\n",
      "                            return None\r\n",
      "                    else:\r\n",
      "                        print(\"Error: Fourth line of SDF is empty.\")\r\n",
      "                        return None\r\n",
      "            except FileNotFoundError:\r\n",
      "                print(f\"Error: File not found at {self.sdf_path}\")\r\n",
      "                return None\r\n",
      "            except Exception as e:\r\n",
      "                print(f\"An error occurred while reading the file: {e}\")\r\n",
      "                return None\r\n",
      "            \r\n",
      "        #Get the charge\r\n",
      "        A_atoms = get_num_atoms(self.sdf_path)\r\n",
      "        clean_path = re.sub(r'(_protonated|_deprotonated)', '', self.sdf_path)\r\n",
      "        HA_atoms = get_num_atoms(clean_path)\r\n",
      "        formal_charge_on_HA=extract_charge_info_static(os.path.join(cluster_reps_dir, \"rep_of_cluster_1.sdf\"))\r\n",
      "        # Check for invalid (None) atom counts\r\n",
      "        charge=formal_charge_on_HA + (A_atoms-HA_atoms)\r\n",
      "        print(f\"Charge of {self.sdf_path}: {charge}\")\r\n",
      "        return charge\r\n",
      "     \r\n",
      "    def opti_PCM(self, mol, xyz_filename, charge_filename, xc):\r\n",
      "        start_time = time.time()\r\n",
      "        # Set up the DFT calculation\r\n",
      "        mf = rks.RKS(mol).density_fit()  # Use density fitting for efficiency\r\n",
      "        mf.xc = xc  # Set the exchange-correlation functional\r\n",
      "\r\n",
      "        # SCF convergence Criteria\r\n",
      "        mf.conv_tol = 1e-8  # Energy convergence\r\n",
      "        mf.conv_tol_grad = 3e-4  # Gradient convergence\r\n",
      "        mf.max_cycle = 70  # Increase max iterations if needed\r\n",
      "\r\n",
      "        # Apply the solvation model\r\n",
      "        mf = mf.PCM()  # Initialize solvation model\r\n",
      "        mf.grids.atom_grid = (99, 590)\r\n",
      "        mf.with_solvent.lebedev_order = 29  # 302 Lebedev grids\r\n",
      "        mf.with_solvent.method = 'IEF-PCM'  # Can be C-PCM, SS(V)PE, COSMO\r\n",
      "        mf.with_solvent.eps = self.eps  # Set the solvent's dielectric constant\r\n",
      "\r\n",
      "        # Perform geometry optimization\r\n",
      "        print(\"Starting geometry optimization...\")\r\n",
      "        mol_opt = geometric_solver.optimize(mf, max_steps=200, xtol=1e-8, gtol=3e-4, etol=1e-8)\r\n",
      "\r\n",
      "        # Output optimized geometry\r\n",
      "        optimized_atoms = [(atom[0], mol_opt.atom_coords(unit='Angstrom')[i]) for i, atom in enumerate(mol_opt.atom)]\r\n",
      "\r\n",
      "        # Ensure SCF calculation is performed after optimization\r\n",
      "        mf_scf = rks.RKS(mol_opt).density_fit()\r\n",
      "        mf_scf.xc = xc\r\n",
      "\r\n",
      "        # SCF convergence Criteria\r\n",
      "        mf_scf.conv_tol = 1e-8  # Energy convergence\r\n",
      "        mf_scf.conv_tol_grad = 3e-4  # Gradient convergence\r\n",
      "        mf_scf.max_cycle = 70  # Increase max iterations if needed\r\n",
      "\r\n",
      "        # Apply the solvation model\r\n",
      "        mf_scf = mf_scf.PCM()  # Initialize solvation model\r\n",
      "        mf_scf.grids.atom_grid = (99, 590)\r\n",
      "        mf_scf.with_solvent.lebedev_order = 29  # 302 Lebedev grids\r\n",
      "        mf_scf.with_solvent.method = 'IEF-PCM'  # Can be C-PCM, SS(V)PE, COSMO\r\n",
      "        mf_scf.with_solvent.eps = self.eps  # Set the solvent's dielectric constant\r\n",
      "\r\n",
      "        #Run the scf\r\n",
      "        mf_scf.kernel()\r\n",
      "\r\n",
      "        #Mulliken Charge Analysis\r\n",
      "        analysis = mf_scf.analyze()\r\n",
      "        mulliken_charges = analysis[0][1]  # Get the Mulliken charges\r\n",
      "\r\n",
      "        # Save captured output to file\r\n",
      "        with open(charge_filename, \"w\") as charge_file:\r\n",
      "            charge_file.write(\"Atom Index  Atom Symbol  Mulliken Charge\\n\")\r\n",
      "            for i, charge in enumerate(mulliken_charges):\r\n",
      "                atom_symbol = mol.atom_symbol(i)  # Get the atom symbol\r\n",
      "                charge_file.write(f\"{i+1}             {atom_symbol}        {charge:.6f}\\n\")\r\n",
      "\r\n",
      "\r\n",
      "        # Extract the final energy in Hartree\r\n",
      "        final_energy_hartree = mf_scf.e_tot\r\n",
      "\r\n",
      "        # Convert energy from Hartree to kJ/mol\r\n",
      "        #hartree_to_kjmol = 2625.5\r\n",
      "        hartree_to_kcalmol=627.509\r\n",
      "        final_energy_kcalmol = final_energy_hartree * hartree_to_kcalmol\r\n",
      "\r\n",
      "        # Save optimized geometry to XYZ file\r\n",
      "        with open(xyz_filename, 'w') as xyz_file:\r\n",
      "            xyz_file.write(f\"{len(optimized_atoms)}\\n\")\r\n",
      "            xyz_file.write(f\"Energy: {final_energy_kcalmol:.6f} kcal/mol\\n\")\r\n",
      "            for symbol, coords in optimized_atoms:\r\n",
      "                formatted_coords = ' '.join(f\"{coord:.8f}\" for coord in coords)\r\n",
      "                xyz_file.write(f\"{symbol} {formatted_coords}\\n\")\r\n",
      "\r\n",
      "        print(f\"Optimized geometry saved to '{xyz_filename}'.\")\r\n",
      "\r\n",
      "        # Print the final energy\r\n",
      "        print(f\"Final energy: {final_energy_hartree:.8f} Hartree ({final_energy_kcalmol:.6f} kcal/mol)\")\r\n",
      "\r\n",
      "        # Record the end time\r\n",
      "        opt_time = time.time()\r\n",
      "\r\n",
      "        # Calculate and print the total run time\r\n",
      "        total_opt_time = opt_time - start_time\r\n",
      "        print(f\"\\nOPT Time: {total_opt_time:.2f} seconds\")\r\n",
      "\r\n",
      "        print(\"################################################################\")\r\n",
      "        return mol_opt\r\n",
      "    \r\n",
      "\r\n",
      "def run_DFT(cluster_reps_dir, dielectric_value, mode='normal'):\r\n",
      "    \"\"\"\r\n",
      "    Main function that processes SDF files with specified basis sets and XC functionals.\r\n",
      "    Accepts command-line argument for dielectric constant.\r\n",
      "    \"\"\"\r\n",
      "    \r\n",
      "    \r\n",
      "    # Define basis sets and XC functionals to loop over\r\n",
      "    basis_sets = ['aug-cc-pVDZ']\r\n",
      "    xc_functionals = ['M06-2X']  # Add more if needed\r\n",
      "\r\n",
      "    # Get list of charged SDF files\r\n",
      "    #sdf_files = sorted(glob.glob(os.path.join(cluster_reps_dir, file_pattern)))\r\n",
      "    if mode == 'deproto':\r\n",
      "        sdf_files = sorted(glob.glob(os.path.join(cluster_reps_dir, \"*nated.sdf\")))\r\n",
      "    else:\r\n",
      "        sdf_files = sorted(glob.glob(os.path.join(cluster_reps_dir, \"*.sdf\")))\r\n",
      "\r\n",
      "    if not sdf_files:\r\n",
      "        print(f\"No SDF files found in {cluster_reps_dir}\")\r\n",
      "        return\r\n",
      "\r\n",
      "    print(f\"Found {len(sdf_files)} SDF files in {cluster_reps_dir}\")\r\n",
      "    print(f\"Basis sets: {basis_sets}\")\r\n",
      "    print(f\"XC functionals: {xc_functionals}\")\r\n",
      "    print(f\"Dielectric constant: {dielectric_value}\")\r\n",
      "    print(\"=\" * 70)\r\n",
      "\r\n",
      "    # Loop over each SDF file\r\n",
      "    for sdf_path in sdf_files:\r\n",
      "        dft_obj = DFTClass(sdf_path, dielectric_value)\r\n",
      "        atom_list = dft_obj.get_atom_list()\r\n",
      "\r\n",
      "        for basis in basis_sets:\r\n",
      "            for xc in xc_functionals:\r\n",
      "                start_time_sub = time.time()\r\n",
      "\r\n",
      "                # Use the chosen charge method\r\n",
      "                if mode == 'deproto':\r\n",
      "                    charge_dft = dft_obj.get_charge(cluster_reps_dir)\r\n",
      "                else:\r\n",
      "                    charge_dft = dft_obj.extract_charge_info()\r\n",
      "\r\n",
      "                # Build molecule with given basis\r\n",
      "                mol1 = gto.M(\r\n",
      "                    atom=atom_list,\r\n",
      "                    basis=basis,\r\n",
      "                    charge =charge_dft,\r\n",
      "                    spin=0,\r\n",
      "                    verbose=4,\r\n",
      "                )\r\n",
      "\r\n",
      "                # Sanitize names for filename safety\r\n",
      "                basis_tag = basis.replace(\"(\", \"\").replace(\")\", \"\").replace(\"*\", \"\").replace(\"+\", \"\").replace(\"/\", \"-\").replace(\" \", \"\")\r\n",
      "                xc_tag = xc.replace(\"(\", \"\").replace(\")\", \"\").replace(\"*\", \"\").replace(\"+\", \"\").replace(\"/\", \"-\").replace(\" \", \"\")\r\n",
      "\r\n",
      "                # Output file names\r\n",
      "                if mode == 'deproto':\r\n",
      "                    xyz_filename = sdf_path.replace('.sdf', '.xyz')\r\n",
      "                    charge_filename = sdf_path.replace('.sdf', '.charge')\r\n",
      "                else:\r\n",
      "                    xyz_filename = sdf_path.replace('.sdf', f'_{basis_tag}_{xc_tag}.xyz')\r\n",
      "                    charge_filename = sdf_path.replace('.sdf', f'_{basis_tag}_{xc_tag}.charge')\r\n",
      "\r\n",
      "                # Call your optimization/PCM function\r\n",
      "                A = dft_obj.opti_PCM(mol1, xyz_filename, charge_filename, xc)\r\n",
      "\r\n",
      "                print(f\"Finished {os.path.basename(sdf_path)} | basis: {basis} | xc: {xc} in {time.time() - start_time_sub:.2f} s\")\r\n",
      "\r\n",
      "    print(f\"\\n{'='*70}\")\r\n",
      "    print(\"All calculations completed!\")\r\n",
      "\r\n",
      "\r\n",
      "if __name__ == \"__main__\":\r\n",
      "    import sys\r\n",
      "    if len(sys.argv) != 4:\r\n",
      "        print(\"Usage: python dft.py DFT <cluster_reps_dir> <dielectric_constant>\")\r\n",
      "        print(\"   or: python dft.py DFT_DEPROTO <cluster_reps_dir> <dielectric_constant>\")\r\n",
      "        sys.exit(1)\r\n",
      "    mode = sys.argv[1]\r\n",
      "    cluster_reps_dir = sys.argv[2]\r\n",
      "    dielectric_value = float(sys.argv[3])\r\n",
      "    if mode == \"DFT\":\r\n",
      "        run_DFT(cluster_reps_dir, dielectric_value, mode='normal')\r\n",
      "    elif mode == \"DFT_DEPROTO\":\r\n",
      "        run_DFT(cluster_reps_dir, dielectric_value, mode='deproto')\r\n",
      "    else:\r\n",
      "        print(\"Unknown mode, must be DFT or DFT_DEPROTO\")\r\n",
      "        sys.exit(1)#INFO: ******************** input file end ********************\r\n",
      "\r\n",
      "\r\n",
      "System: uname_result(system='Linux', node='5d4e56049946', release='6.8.0-60-generic', version='#63-Ubuntu SMP PREEMPT_DYNAMIC Tue Apr 15 19:04:15 UTC 2025', machine='x86_64')  Threads 32\r\n",
      "Python 3.9.18 | packaged by conda-forge | (main, Dec 23 2023, 16:33:10) \r\n",
      "[GCC 12.3.0]\r\n",
      "numpy 1.26.4  scipy 1.13.1  h5py 3.12.1\r\n",
      "Date: Mon Aug 18 04:29:46 2025\r\n",
      "PySCF version 2.7.0\r\n",
      "PySCF path  /opt/conda/lib/python3.9/site-packages/pyscf/__init__.py\r\n",
      "CUDA Environment\r\n",
      "    CuPy 13.3.0\r\n",
      "    CUDA Path /usr/local/cuda\r\n",
      "    CUDA Build Version 12060\r\n",
      "    CUDA Driver Version 12080\r\n",
      "    CUDA Runtime Version 12060\r\n",
      "CUDA toolkit\r\n",
      "    cuSolver (11, 7, 2)\r\n",
      "    cuBLAS 120803\r\n",
      "    cuTENSOR 20002\r\n",
      "Device info\r\n",
      "    Device name b'NVIDIA GeForce RTX 4090'\r\n",
      "    Device global memory 23.53 GB\r\n",
      "    CuPy memory fraction 0.9\r\n",
      "    Num. Devices 1\r\n",
      "GPU4PySCF 1.3.1\r\n",
      "GPU4PySCF path  /opt/conda/lib/python3.9/site-packages/gpu4pyscf_cuda12x-1.3.1-py3.9.egg/gpu4pyscf\r\n",
      "\r\n",
      "[CONFIG] conf_file None\r\n",
      "[INPUT] verbose = 4\r\n",
      "[INPUT] num. atoms = 8\r\n",
      "[INPUT] num. electrons = 32\r\n",
      "[INPUT] charge = 0\r\n",
      "[INPUT] spin (= nelec alpha-beta = 2S) = 0\r\n",
      "[INPUT] symmetry False subgroup None\r\n",
      "[INPUT] Mole.unit = angstrom\r\n",
      "[INPUT] Symbol           X                Y                Z      unit          X                Y                Z       unit  Magmom\r\n",
      "[INPUT]  1 N      1.143100000000  -0.331100000000   0.033000000000 AA    2.160145932990  -0.625688319843   0.062360962111 Bohr   0.0\r\n",
      "[INPUT]  2 C      0.048700000000   0.464200000000  -0.013200000000 AA    0.092029662266   0.877210867023  -0.024944384844 Bohr   0.0\r\n",
      "[INPUT]  3 N     -1.185400000000  -0.091900000000  -0.022200000000 AA   -2.240081348059  -0.173665830848  -0.041951919965 Bohr   0.0\r\n",
      "[INPUT]  4 O      0.173100000000   1.668700000000  -0.046400000000 AA    0.327111592162   3.153385984062  -0.087683292180 Bohr   0.0\r\n",
      "[INPUT]  5 H      0.999000000000  -1.300900000000  -0.246200000000 AA    1.887836398440  -2.458344715447  -0.465250571868 Bohr   0.0\r\n",
      "[INPUT]  6 H      2.016800000000   0.120000000000  -0.236100000000 AA    3.811199648023   0.226767134948  -0.446164338010 Bohr   0.0\r\n",
      "[INPUT]  7 H     -1.241000000000  -1.054100000000   0.309800000000 AA   -2.345150120585  -1.991960307904   0.585437153390 Bohr   0.0\r\n",
      "[INPUT]  8 H     -1.946800000000   0.542200000000   0.217600000000 AA   -3.678918819303   1.024609504739   0.411204404705 Bohr   0.0\r\n",
      "\r\n",
      "nuclear repulsion = 125.143296326488\r\n",
      "number of shells = 52\r\n",
      "number of NR pGTOs = 184\r\n",
      "number of NR cGTOs = 128\r\n",
      "basis = aug-cc-pVDZ\r\n",
      "ecp = {}\r\n",
      "CPU time:       166.76\r\n",
      "Starting geometry optimization...\r\n",
      "Create scanner for <class 'gpu4pyscf.solvent.grad.pcm.PCMGradients'>\r\n",
      "Create scanner for <class 'gpu4pyscf.solvent._attach_solvent.PCMDFRKS'>\r\n",
      "geometric-optimize called with the following command line:\r\n",
      "/work/dft_main.py DFT cluster_rep_conformers 46.826\r\n",
      "\r\n",
      "                                        \u001b[91m())))))))))))))))/\u001b[0m                     \r\n",
      "                                    \u001b[91m())))))))))))))))))))))))),\u001b[0m                \r\n",
      "                                \u001b[91m*)))))))))))))))))))))))))))))))))\u001b[0m             \r\n",
      "                        \u001b[94m#,\u001b[0m    \u001b[91m()))))))))/\u001b[0m                \u001b[91m.)))))))))),\u001b[0m          \r\n",
      "                      \u001b[94m#%%%%,\u001b[0m  \u001b[91m())))))\u001b[0m                        \u001b[91m.))))))))*\u001b[0m        \r\n",
      "                      \u001b[94m*%%%%%%,\u001b[0m  \u001b[91m))\u001b[0m              \u001b[93m..\u001b[0m              \u001b[91m,))))))).\u001b[0m      \r\n",
      "                        \u001b[94m*%%%%%%,\u001b[0m         \u001b[93m***************/.\u001b[0m        \u001b[91m.)))))))\u001b[0m     \r\n",
      "                \u001b[94m#%%/\u001b[0m      \u001b[94m(%%%%%%,\u001b[0m    \u001b[93m/*********************.\u001b[0m       \u001b[91m)))))))\u001b[0m    \r\n",
      "              \u001b[94m.%%%%%%#\u001b[0m      \u001b[94m*%%%%%%,\u001b[0m  \u001b[93m*******/,\u001b[0m     \u001b[93m**********,\u001b[0m      \u001b[91m.))))))\u001b[0m   \r\n",
      "                \u001b[94m.%%%%%%/\u001b[0m      \u001b[94m*%%%%%%,\u001b[0m  \u001b[93m**\u001b[0m              \u001b[93m********\u001b[0m      \u001b[91m.))))))\u001b[0m  \r\n",
      "          \u001b[94m##\u001b[0m      \u001b[94m.%%%%%%/\u001b[0m      \u001b[94m(%%%%%%,\u001b[0m                  \u001b[93m,******\u001b[0m      \u001b[91m/)))))\u001b[0m  \r\n",
      "        \u001b[94m%%%%%%\u001b[0m      \u001b[94m.%%%%%%#\u001b[0m      \u001b[94m*%%%%%%,\u001b[0m    \u001b[92m,/////.\u001b[0m       \u001b[93m******\u001b[0m      \u001b[91m))))))\u001b[0m \r\n",
      "      \u001b[94m#%\u001b[0m      \u001b[94m%%\u001b[0m      \u001b[94m.%%%%%%/\u001b[0m      \u001b[94m*%%%%%%,\u001b[0m  \u001b[92m////////,\u001b[0m      \u001b[93m*****/\u001b[0m     \u001b[91m,)))))\u001b[0m \r\n",
      "    \u001b[94m#%%\u001b[0m  \u001b[94m%%%\u001b[0m  \u001b[94m%%%#\u001b[0m      \u001b[94m.%%%%%%/\u001b[0m      \u001b[94m(%%%%%%,\u001b[0m  \u001b[92m///////.\u001b[0m     \u001b[93m/*****\u001b[0m      \u001b[91m))))).\u001b[0m\r\n",
      "  \u001b[94m#%%%%.\u001b[0m      \u001b[94m%%%%%#\u001b[0m      \u001b[94m/%%%%%%*\u001b[0m      \u001b[94m#%%%%%%\u001b[0m   \u001b[92m/////)\u001b[0m     \u001b[93m******\u001b[0m      \u001b[91m))))),\u001b[0m\r\n",
      "    \u001b[94m#%%%%##%\u001b[0m  \u001b[94m%%%#\u001b[0m      \u001b[94m.%%%%%%/\u001b[0m      \u001b[94m(%%%%%%,\u001b[0m  \u001b[92m///////.\u001b[0m     \u001b[93m/*****\u001b[0m      \u001b[91m))))).\u001b[0m\r\n",
      "      \u001b[94m##\u001b[0m     \u001b[94m%%%\u001b[0m      \u001b[94m.%%%%%%/\u001b[0m      \u001b[94m*%%%%%%,\u001b[0m  \u001b[92m////////.\u001b[0m      \u001b[93m*****/\u001b[0m     \u001b[91m,)))))\u001b[0m \r\n",
      "        \u001b[94m#%%%%#\u001b[0m      \u001b[94m/%%%%%%/\u001b[0m      \u001b[94m(%%%%%%\u001b[0m      \u001b[92m/)/)//\u001b[0m       \u001b[93m******\u001b[0m      \u001b[91m))))))\u001b[0m \r\n",
      "          \u001b[94m##\u001b[0m      \u001b[94m.%%%%%%/\u001b[0m      \u001b[94m(%%%%%%,\u001b[0m                  \u001b[93m*******\u001b[0m      \u001b[91m))))))\u001b[0m  \r\n",
      "                \u001b[94m.%%%%%%/\u001b[0m      \u001b[94m*%%%%%%,\u001b[0m  \u001b[93m**.\u001b[0m             \u001b[93m/*******\u001b[0m      \u001b[91m.))))))\u001b[0m  \r\n",
      "              \u001b[94m*%%%%%%/\u001b[0m      \u001b[94m(%%%%%%\u001b[0m   \u001b[93m********/*..,*/*********\u001b[0m       \u001b[91m*))))))\u001b[0m   \r\n",
      "                \u001b[94m#%%/\u001b[0m      \u001b[94m(%%%%%%,\u001b[0m    \u001b[93m*********************/\u001b[0m        \u001b[91m)))))))\u001b[0m    \r\n",
      "                        \u001b[94m*%%%%%%,\u001b[0m         \u001b[93m,**************/\u001b[0m         \u001b[91m,))))))/\u001b[0m     \r\n",
      "                      \u001b[94m(%%%%%%\u001b[0m   \u001b[91m()\u001b[0m                              \u001b[91m))))))))\u001b[0m       \r\n",
      "                      \u001b[94m#%%%%,\u001b[0m  \u001b[91m())))))\u001b[0m                        \u001b[91m,)))))))),\u001b[0m        \r\n",
      "                        \u001b[94m#,\u001b[0m    \u001b[91m())))))))))\u001b[0m                \u001b[91m,)))))))))).\u001b[0m          \r\n",
      "                                 \u001b[91m()))))))))))))))))))))))))))))))/\u001b[0m             \r\n",
      "                                    \u001b[91m())))))))))))))))))))))))).\u001b[0m                \r\n",
      "                                         \u001b[91m())))))))))))))),\u001b[0m                     \r\n",
      "\r\n",
      "-=# \u001b[1;94m geomeTRIC started. Version: 1.1 \u001b[0m #=-\r\n",
      "Current date and time: 2025-08-18 04:29:46\r\n",
      "\r",
      "#========================================================#\r\n",
      "#| \u001b[92m    Arguments passed to driver run_optimizer():     \u001b[0m |#\r\n",
      "#========================================================#\r\n",
      "customengine              <pyscf.geomopt.geometric_solver.PySCFEngine object at 0x70b26d0f0eb0> \r\n",
      "etol                      1e-08 \r\n",
      "gtol                      0.0003 \r\n",
      "input                     /tmp/tmpuvttx2t4/bf18596a-051b-4263-ac48-efde6412d955 \r\n",
      "logIni                    /opt/conda/lib/python3.9/site-packages/pyscf/geomopt/log.ini \r\n",
      "max_steps                 200 \r\n",
      "xtol                      1e-08 \r\n",
      "----------------------------------------------------------\r\n",
      "Custom engine selected.\r\n",
      "Bonds will be generated from interatomic distances less than 1.20 times sum of covalent radii\r\n",
      "24 internal coordinates being used (instead of 24 Cartesians)\r\n",
      "Internal coordinate system (atoms numbered from 1):\r\n",
      "Distance 1-2\r\n",
      "Distance 1-5\r\n",
      "Distance 1-6\r\n",
      "Distance 2-3\r\n",
      "Distance 2-4\r\n",
      "Distance 3-7\r\n",
      "Distance 3-8\r\n",
      "Angle 2-1-5\r\n",
      "Angle 2-1-6\r\n",
      "Angle 5-1-6\r\n",
      "Angle 1-2-4\r\n",
      "Angle 3-2-4\r\n",
      "Angle 2-3-7\r\n",
      "Angle 2-3-8\r\n",
      "Angle 7-3-8\r\n",
      "Out-of-Plane 2-1-3-4\r\n",
      "Dihedral 5-1-2-3\r\n",
      "Dihedral 5-1-2-4\r\n",
      "Dihedral 6-1-2-3\r\n",
      "Dihedral 6-1-2-4\r\n",
      "Dihedral 1-2-3-7\r\n",
      "Dihedral 1-2-3-8\r\n",
      "Dihedral 4-2-3-7\r\n",
      "Dihedral 4-2-3-8\r\n",
      "Translation-X 1-8\r\n",
      "Translation-Y 1-8\r\n",
      "Translation-Z 1-8\r\n",
      "Rotation-A 1-8\r\n",
      "Rotation-B 1-8\r\n",
      "Rotation-C 1-8\r\n",
      "<class 'geometric.internal.Distance'> : 7\r\n",
      "<class 'geometric.internal.Angle'> : 8\r\n",
      "<class 'geometric.internal.OutOfPlane'> : 1\r\n",
      "<class 'geometric.internal.Dihedral'> : 8\r\n",
      "<class 'geometric.internal.TranslationX'> : 1\r\n",
      "<class 'geometric.internal.TranslationY'> : 1\r\n",
      "<class 'geometric.internal.TranslationZ'> : 1\r\n",
      "<class 'geometric.internal.RotationA'> : 1\r\n",
      "<class 'geometric.internal.RotationB'> : 1\r\n",
      "<class 'geometric.internal.RotationC'> : 1\r\n",
      "> ===== Optimization Info: ====\r\n",
      "> Job type: Energy minimization\r\n",
      "> Maximum number of optimization cycles: 300\r\n",
      "> Initial / maximum trust radius (Angstrom): 0.100 / 0.300\r\n",
      "> Convergence Criteria:\r\n",
      "> Will converge when all 5 criteria are reached:\r\n",
      ">  |Delta-E| < 1.00e-06\r\n",
      ">  RMS-Grad  < 3.00e-04\r\n",
      ">  Max-Grad  < 4.50e-04\r\n",
      ">  RMS-Disp  < 1.20e-03\r\n",
      ">  Max-Disp  < 1.80e-03\r\n",
      "> === End Optimization Info ===\r\n",
      "\r\n",
      "Geometry optimization cycle 1\r\n",
      "Cartesian coordinates (Angstrom)\r\n",
      " Atom        New coordinates             dX        dY        dZ\r\n",
      "   N   1.143100  -0.331100   0.033000    0.000000  0.000000  0.000000\r\n",
      "   C   0.048700   0.464200  -0.013200   -0.000000  0.000000  0.000000\r\n",
      "   N  -1.185400  -0.091900  -0.022200    0.000000  0.000000  0.000000\r\n",
      "   O   0.173100   1.668700  -0.046400    0.000000  0.000000  0.000000\r\n",
      "   H   0.999000  -1.300900  -0.246200    0.000000  0.000000  0.000000\r\n",
      "   H   2.016800   0.120000  -0.236100    0.000000  0.000000  0.000000\r\n",
      "   H  -1.241000  -1.054100   0.309800    0.000000  0.000000 -0.000000\r\n",
      "   H  -1.946800   0.542200   0.217600    0.000000  0.000000  0.000000\r\n",
      "New geometry\r\n",
      "   1 N      1.143100000000  -0.331100000000   0.033000000000 AA    2.160145932990  -0.625688319843   0.062360962111 Bohr\r\n",
      "\r\n",
      "   2 C      0.048700000000   0.464200000000  -0.013200000000 AA    0.092029662266   0.877210867023  -0.024944384844 Bohr\r\n",
      "\r\n",
      "   3 N     -1.185400000000  -0.091900000000  -0.022200000000 AA   -2.240081348059  -0.173665830848  -0.041951919965 Bohr\r\n",
      "\r\n",
      "   4 O      0.173100000000   1.668700000000  -0.046400000000 AA    0.327111592162   3.153385984062  -0.087683292180 Bohr\r\n",
      "\r\n",
      "   5 H      0.999000000000  -1.300900000000  -0.246200000000 AA    1.887836398440  -2.458344715447  -0.465250571868 Bohr\r\n",
      "\r\n",
      "   6 H      2.016800000000   0.120000000000  -0.236100000000 AA    3.811199648023   0.226767134948  -0.446164338010 Bohr\r\n",
      "\r\n",
      "   7 H     -1.241000000000  -1.054100000000   0.309800000000 AA   -2.345150120585  -1.991960307904   0.585437153390 Bohr\r\n",
      "\r\n",
      "   8 H     -1.946800000000   0.542200000000   0.217600000000 AA   -3.678918819303   1.024609504739   0.411204404705 Bohr\r\n",
      "\r\n",
      "\r\n",
      "\r\n",
      "******** <class 'pyscf.scf.hf.PCMDFRKS_Scanner'> ********\r\n",
      "method = PCMDFRKS_Scanner\r\n",
      "initial guess = minao\r\n",
      "damping factor = 0\r\n",
      "level_shift factor = 0\r\n",
      "DIIS = <class 'gpu4pyscf.scf.diis.CDIIS'>\r\n",
      "diis_start_cycle = 1\r\n",
      "diis_space = 8\r\n",
      "diis_damp = 0\r\n",
      "SCF conv_tol = 1e-08\r\n",
      "SCF conv_tol_grad = 0.0003\r\n",
      "SCF max_cycles = 70\r\n",
      "direct_scf = False\r\n",
      "max_memory 4000 MB (current use 1448 MB)\r\n",
      "******** <class 'gpu4pyscf.solvent.pcm.PCM'> ********\r\n",
      "lebedev_order = 29 (302 grids per sphere)\r\n",
      "eps = 46.826\r\n",
      "frozen = False\r\n",
      "equilibrium_solvation = False\r\n"
     ]
    },
    {
     "name": "stdout",
     "output_type": "stream",
     "text": [
      "Initial guess from minao.\r\n"
     ]
    },
    {
     "name": "stdout",
     "output_type": "stream",
     "text": [
      "tot grids = 256768\r\n"
     ]
    },
    {
     "name": "stdout",
     "output_type": "stream",
     "text": [
      "Default auxbasis aug-cc-pvdz-jkfit is used for O aug-cc-pVDZ\r\n",
      "Default auxbasis aug-cc-pvdz-jkfit is used for H aug-cc-pVDZ\r\n",
      "Default auxbasis aug-cc-pvdz-jkfit is used for C aug-cc-pVDZ\r\n",
      "Default auxbasis aug-cc-pvdz-jkfit is used for N aug-cc-pVDZ\r\n"
     ]
    },
    {
     "name": "stdout",
     "output_type": "stream",
     "text": [
      "<class 'gpu4pyscf.solvent.pcm.PCM'> E_diel = -0.000244029023661224\r\n",
      "Solvent Energy = -0.000244029023661224\r\n",
      "init E= -225.95451288101\r\n"
     ]
    },
    {
     "name": "stdout",
     "output_type": "stream",
     "text": [
      "<class 'gpu4pyscf.solvent.pcm.PCM'> E_diel = -0.0424359235371334\r\n",
      "Solvent Energy = -0.0424359235371334\r\n",
      "cycle= 1 E= -225.116456050206  delta_E= 0.838  |ddm|= 3.04\r\n"
     ]
    },
    {
     "name": "stdout",
     "output_type": "stream",
     "text": [
      "<class 'gpu4pyscf.solvent.pcm.PCM'> E_diel = -0.0131337022143114\r\n",
      "Solvent Energy = -0.0131337022143114\r\n",
      "cycle= 2 E= -225.017639747029  delta_E= 0.0988  |ddm|= 1.29\r\n"
     ]
    },
    {
     "name": "stdout",
     "output_type": "stream",
     "text": [
      "<class 'gpu4pyscf.solvent.pcm.PCM'> E_diel = -0.0259230438527143\r\n",
      "Solvent Energy = -0.0259230438527143\r\n",
      "cycle= 3 E= -225.235390981954  delta_E= -0.218  |ddm|= 0.73\r\n"
     ]
    },
    {
     "name": "stdout",
     "output_type": "stream",
     "text": [
      "<class 'gpu4pyscf.solvent.pcm.PCM'> E_diel = -0.0253346620225916\r\n",
      "Solvent Energy = -0.0253346620225916\r\n",
      "cycle= 4 E= -225.236174196028  delta_E= -0.000783  |ddm|= 0.0773\r\n"
     ]
    },
    {
     "name": "stdout",
     "output_type": "stream",
     "text": [
      "<class 'gpu4pyscf.solvent.pcm.PCM'> E_diel = -0.0255926860397277\r\n",
      "Solvent Energy = -0.0255926860397277\r\n",
      "cycle= 5 E= -225.236566388183  delta_E= -0.000392  |ddm|= 0.0349\r\n"
     ]
    },
    {
     "name": "stdout",
     "output_type": "stream",
     "text": [
      "<class 'gpu4pyscf.solvent.pcm.PCM'> E_diel = -0.0255003114239918\r\n",
      "Solvent Energy = -0.0255003114239918\r\n",
      "cycle= 6 E= -225.236572603277  delta_E= -6.22e-06  |ddm|= 0.00826\r\n"
     ]
    },
    {
     "name": "stdout",
     "output_type": "stream",
     "text": [
      "<class 'gpu4pyscf.solvent.pcm.PCM'> E_diel = -0.0254944183077921\r\n",
      "Solvent Energy = -0.0254944183077921\r\n",
      "cycle= 7 E= -225.236573475607  delta_E= -8.72e-07  |ddm|= 0.00287\r\n"
     ]
    },
    {
     "name": "stdout",
     "output_type": "stream",
     "text": [
      "<class 'gpu4pyscf.solvent.pcm.PCM'> E_diel = -0.0254821086574775\r\n",
      "Solvent Energy = -0.0254821086574775\r\n",
      "cycle= 8 E= -225.236573581312  delta_E= -1.06e-07  |ddm|= 0.00102\r\n"
     ]
    },
    {
     "name": "stdout",
     "output_type": "stream",
     "text": [
      "<class 'gpu4pyscf.solvent.pcm.PCM'> E_diel = -0.0254813554028519\r\n",
      "Solvent Energy = -0.0254813554028519\r\n",
      "cycle= 9 E= -225.236573587928  delta_E= -6.62e-09  |ddm|= 0.000214\r\n",
      "converged SCF energy = -225.236573587928\r\n",
      "\r\n",
      "\r\n",
      "******** <class 'gpu4pyscf.grad.rhf.PCMGradients_Scanner'> for <class 'pyscf.scf.hf.PCMDFRKS_Scanner'> ********\r\n",
      "unit = Eh/Bohr\r\n",
      "max_memory 4000 MB (current use 1449 MB)\r\n"
     ]
    },
    {
     "name": "stdout",
     "output_type": "stream",
     "text": [
      "--------------- PCMDFRKS_Scanner (+PCM) gradients ---------------\r\n",
      "         x                y                z\r\n",
      "0 N    -0.0036857523     0.0239824420     0.0033579058\r\n",
      "1 C     0.0000967436     0.0007990421     0.0000065879\r\n",
      "2 N     0.0085193964     0.0224737236    -0.0046414292\r\n",
      "3 O    -0.0049900942    -0.0482023239     0.0013225936\r\n",
      "4 H    -0.0078526268    -0.0045098015    -0.0019759167\r\n",
      "5 H     0.0066360335     0.0050236148    -0.0010637042\r\n",
      "6 H     0.0067799643    -0.0058998793     0.0022334688\r\n",
      "7 H    -0.0054883850     0.0063276383     0.0007722404\r\n",
      "----------------------------------------------\r\n",
      "cycle 1: E = -225.236573588  dE = -225.237  norm(grad) = 0.0621515\r\n",
      "Step    0 : Gradient = 2.197e-02/4.848e-02 (rms/max) Energy = -225.2365735879\r\n",
      "Hessian Eigenvalues: 2.30000e-02 2.30000e-02 2.59273e-02 ... 5.42536e-01 5.42549e-01 9.93152e-01\r\n"
     ]
    },
    {
     "name": "stdout",
     "output_type": "stream",
     "text": [
      "\r\n",
      "Geometry optimization cycle 2\r\n",
      "Cartesian coordinates (Angstrom)\r\n",
      " Atom        New coordinates             dX        dY        dZ\r\n",
      "   N   1.081321  -0.339842   0.035493   -0.061779 -0.008742  0.002493\r\n",
      "   C   0.059629   0.570253  -0.016243    0.010929  0.106053 -0.003043\r\n",
      "   N  -1.126910  -0.113004  -0.023965    0.058490 -0.021104 -0.001765\r\n",
      "   O   0.186629   1.798505  -0.050125    0.013529  0.129805 -0.003725\r\n",
      "   H   0.881961  -1.296625  -0.232571   -0.117039  0.004275  0.013629\r\n",
      "   H   1.986954   0.027187  -0.224502   -0.029846 -0.092813  0.011598\r\n",
      "   H  -1.125929  -1.074334   0.296721    0.115071 -0.020234 -0.013079\r\n",
      "   H  -1.936653   0.445142   0.211110    0.010147 -0.097058 -0.006490\r\n",
      "New geometry\r\n",
      "   1 N      1.081320972015  -0.339841922523   0.035492947674 AA    2.043400489857  -0.642208159215   0.067071950458 Bohr\r\n",
      "\r\n",
      "   2 C      0.059629117125   0.570253362441  -0.016243460550 AA    0.112682700416   1.077622676626  -0.030695691755 Bohr\r\n",
      "\r\n",
      "   3 N     -1.126910091997  -0.113004476801  -0.023964727310 AA   -2.129551440883  -0.213547512004  -0.045286771266 Bohr\r\n",
      "\r\n",
      "   4 O      0.186629166689   1.798504950672  -0.050124782818 AA    0.352678011899   3.398681790444  -0.094722111579 Bohr\r\n",
      "\r\n",
      "   5 H      0.881961089293  -1.296625355875  -0.232571306047 AA    1.666664911286  -2.450266808771  -0.439496072861 Bohr\r\n",
      "\r\n",
      "   6 H      1.986954254566   0.027186569664  -0.224502256103 AA    3.754799363168   0.051375170931  -0.424247778381 Bohr\r\n",
      "\r\n",
      "   7 H     -1.125928805844  -1.074334372630   0.296721447474 AA   -2.127697078803  -2.030197730477   0.560722271011 Bohr\r\n",
      "\r\n",
      "   8 H     -1.936652975704   0.445141670857   0.211109846029 AA   -3.659743722405   0.841195844551   0.398939791194 Bohr\r\n",
      "\r\n",
      "\r\n",
      "\r\n",
      "******** <class 'pyscf.scf.hf.PCMDFRKS_Scanner'> ********\r\n",
      "method = PCMDFRKS_Scanner\r\n",
      "initial guess = minao\r\n",
      "damping factor = 0\r\n",
      "level_shift factor = 0\r\n",
      "DIIS = <class 'gpu4pyscf.scf.diis.CDIIS'>\r\n",
      "diis_start_cycle = 1\r\n",
      "diis_space = 8\r\n",
      "diis_damp = 0\r\n",
      "SCF conv_tol = 1e-08\r\n",
      "SCF conv_tol_grad = 0.0003\r\n",
      "SCF max_cycles = 70\r\n",
      "direct_scf = False\r\n",
      "max_memory 4000 MB (current use 1446 MB)\r\n",
      "******** <class 'gpu4pyscf.solvent.pcm.PCM'> ********\r\n",
      "lebedev_order = 29 (302 grids per sphere)\r\n",
      "eps = 46.826\r\n",
      "frozen = False\r\n",
      "equilibrium_solvation = False\r\n",
      "tot grids = 256768\r\n"
     ]
    },
    {
     "name": "stdout",
     "output_type": "stream",
     "text": [
      "Default auxbasis aug-cc-pvdz-jkfit is used for O aug-cc-pVDZ\r\n",
      "Default auxbasis aug-cc-pvdz-jkfit is used for H aug-cc-pVDZ\r\n",
      "Default auxbasis aug-cc-pvdz-jkfit is used for C aug-cc-pVDZ\r\n",
      "Default auxbasis aug-cc-pvdz-jkfit is used for N aug-cc-pVDZ\r\n"
     ]
    },
    {
     "name": "stdout",
     "output_type": "stream",
     "text": [
      "<class 'gpu4pyscf.solvent.pcm.PCM'> E_diel = -0.0252374362624684\r\n",
      "Solvent Energy = -0.0252374362624684\r\n",
      "init E= -225.212213894955\r\n"
     ]
    },
    {
     "name": "stdout",
     "output_type": "stream",
     "text": [
      "<class 'gpu4pyscf.solvent.pcm.PCM'> E_diel = -0.025006349957866\r\n",
      "Solvent Energy = -0.025006349957866\r\n",
      "cycle= 1 E= -225.235257191674  delta_E= -0.023  |ddm|= 0.364\r\n"
     ]
    },
    {
     "name": "stdout",
     "output_type": "stream",
     "text": [
      "<class 'gpu4pyscf.solvent.pcm.PCM'> E_diel = -0.0261044241676597\r\n",
      "Solvent Energy = -0.0261044241676597\r\n",
      "cycle= 2 E= -225.235125189703  delta_E= 0.000132  |ddm|= 0.0957\r\n"
     ]
    },
    {
     "name": "stdout",
     "output_type": "stream",
     "text": [
      "<class 'gpu4pyscf.solvent.pcm.PCM'> E_diel = -0.0249711833532105\r\n",
      "Solvent Energy = -0.0249711833532105\r\n",
      "cycle= 3 E= -225.236186401335  delta_E= -0.00106  |ddm|= 0.055\r\n"
     ]
    },
    {
     "name": "stdout",
     "output_type": "stream",
     "text": [
      "<class 'gpu4pyscf.solvent.pcm.PCM'> E_diel = -0.0252797145717309\r\n",
      "Solvent Energy = -0.0252797145717309\r\n",
      "cycle= 4 E= -225.236229984911  delta_E= -4.36e-05  |ddm|= 0.0109\r\n"
     ]
    },
    {
     "name": "stdout",
     "output_type": "stream",
     "text": [
      "<class 'gpu4pyscf.solvent.pcm.PCM'> E_diel = -0.0252309704238822\r\n",
      "Solvent Energy = -0.0252309704238822\r\n",
      "cycle= 5 E= -225.236231411607  delta_E= -1.43e-06  |ddm|= 0.00264\r\n"
     ]
    },
    {
     "name": "stdout",
     "output_type": "stream",
     "text": [
      "<class 'gpu4pyscf.solvent.pcm.PCM'> E_diel = -0.0252406274904428\r\n",
      "Solvent Energy = -0.0252406274904428\r\n",
      "cycle= 6 E= -225.236231597991  delta_E= -1.86e-07  |ddm|= 0.000813\r\n"
     ]
    },
    {
     "name": "stdout",
     "output_type": "stream",
     "text": [
      "<class 'gpu4pyscf.solvent.pcm.PCM'> E_diel = -0.0252418229800282\r\n",
      "Solvent Energy = -0.0252418229800282\r\n",
      "cycle= 7 E= -225.236231604535  delta_E= -6.54e-09  |ddm|= 0.000187\r\n",
      "converged SCF energy = -225.236231604535\r\n",
      "\r\n",
      "\r\n",
      "******** <class 'gpu4pyscf.grad.rhf.PCMGradients_Scanner'> for <class 'pyscf.scf.hf.PCMDFRKS_Scanner'> ********\r\n",
      "unit = Eh/Bohr\r\n",
      "max_memory 4000 MB (current use 1449 MB)\r\n"
     ]
    },
    {
     "name": "stdout",
     "output_type": "stream",
     "text": [
      "--------------- PCMDFRKS_Scanner (+PCM) gradients ---------------\r\n",
      "         x                y                z\r\n",
      "0 N    -0.0191212120    -0.0132517176     0.0016348985\r\n",
      "1 C     0.0019976436     0.0192052051    -0.0005168464\r\n",
      "2 N     0.0160325361    -0.0169660265    -0.0008140773\r\n",
      "3 O     0.0011403588     0.0110543348    -0.0002977531\r\n",
      "4 H    -0.0030128911    -0.0028421086     0.0001390737\r\n",
      "5 H    -0.0023504455     0.0033518885    -0.0004130392\r\n",
      "6 H     0.0023150522    -0.0033629247     0.0000217110\r\n",
      "7 H     0.0030011035     0.0028215388     0.0002523772\r\n",
      "----------------------------------------------\r\n",
      "cycle 2: E = -225.236231605  dE = 0.000341983  norm(grad) = 0.0406687\r\n",
      "Step    1 : Displace = \u001b[0m1.019e-01\u001b[0m/\u001b[0m1.305e-01\u001b[0m (rms/max) Trust = 1.000e-01 (=) Grad = \u001b[0m1.438e-02\u001b[0m/\u001b[0m2.336e-02\u001b[0m (rms/max) E (change) = -225.2362316045 (\u001b[91m+3.420e-04\u001b[0m) Quality = \u001b[91m-0.051\u001b[0m\r\n",
      "Hessian Eigenvalues: 2.30000e-02 2.30155e-02 2.59273e-02 ... 5.42543e-01 7.55011e-01 1.09144e+00\r\n"
     ]
    },
    {
     "name": "stdout",
     "output_type": "stream",
     "text": [
      "\r\n",
      "Geometry optimization cycle 3\r\n",
      "Cartesian coordinates (Angstrom)\r\n",
      " Atom        New coordinates             dX        dY        dZ\r\n",
      "   N   1.119501  -0.340090   0.030224    0.038180 -0.000248 -0.005269\r\n",
      "   C   0.055192   0.527548  -0.015078   -0.004437 -0.042705  0.001166\r\n",
      "   N  -1.164323  -0.105176  -0.018918   -0.037412  0.007828  0.005046\r\n",
      "   O   0.182223   1.756091  -0.048968   -0.004406 -0.042414  0.001157\r\n",
      "   H   0.964150  -1.303977  -0.235066    0.082189 -0.007352 -0.002495\r\n",
      "   H   2.007913   0.062780  -0.234044    0.020959  0.035593 -0.009542\r\n",
      "   H  -1.207821  -1.064608   0.299158   -0.081892  0.009727  0.002437\r\n",
      "   H  -1.949873   0.484676   0.218558   -0.013220  0.039535  0.007448\r\n",
      "New geometry\r\n",
      "   1 N      1.119501355024  -0.340089880417   0.030223555280 AA    2.115550957074  -0.642676731724   0.057114241990 Bohr\r\n",
      "\r\n",
      "   2 C      0.055191809014   0.527548262630  -0.015077601638 AA    0.104297403356   0.996921733861  -0.028492537711 Bohr\r\n",
      "\r\n",
      "   3 N     -1.164322577860  -0.105176386567  -0.018918363544 AA   -2.200250792804  -0.198754565382  -0.035750525823 Bohr\r\n",
      "\r\n",
      "   4 O      0.182223147934   1.756090686564  -0.048967520485 AA    0.344351843150   3.318530447506  -0.092535202716 Bohr\r\n",
      "\r\n",
      "   5 H      0.964150443935  -1.303977105833  -0.235066212254 AA    1.821980281916  -2.464159602728  -0.444210762298 Bohr\r\n",
      "\r\n",
      "   6 H      2.007913463859   0.062779902030  -0.234044066881 AA    3.794406528521   0.118636820963  -0.442279187484 Bohr\r\n",
      "\r\n",
      "   7 H     -1.207821086235  -1.064607553525   0.299158091070 AA   -2.282451060459  -2.011816706305   0.565326860070 Bohr\r\n",
      "\r\n",
      "   8 H     -1.949873262182   0.484676201030   0.218557850553 AA   -3.684726443135   0.915905279041   0.413014479918 Bohr\r\n",
      "\r\n",
      "\r\n",
      "\r\n",
      "******** <class 'pyscf.scf.hf.PCMDFRKS_Scanner'> ********\r\n",
      "method = PCMDFRKS_Scanner\r\n",
      "initial guess = minao\r\n",
      "damping factor = 0\r\n",
      "level_shift factor = 0\r\n",
      "DIIS = <class 'gpu4pyscf.scf.diis.CDIIS'>\r\n",
      "diis_start_cycle = 1\r\n",
      "diis_space = 8\r\n",
      "diis_damp = 0\r\n",
      "SCF conv_tol = 1e-08\r\n",
      "SCF conv_tol_grad = 0.0003\r\n",
      "SCF max_cycles = 70\r\n",
      "direct_scf = False\r\n",
      "max_memory 4000 MB (current use 1447 MB)\r\n",
      "******** <class 'gpu4pyscf.solvent.pcm.PCM'> ********\r\n",
      "lebedev_order = 29 (302 grids per sphere)\r\n",
      "eps = 46.826\r\n",
      "frozen = False\r\n",
      "equilibrium_solvation = False\r\n",
      "tot grids = 256768\r\n"
     ]
    },
    {
     "name": "stdout",
     "output_type": "stream",
     "text": [
      "Default auxbasis aug-cc-pvdz-jkfit is used for O aug-cc-pVDZ\r\n",
      "Default auxbasis aug-cc-pvdz-jkfit is used for H aug-cc-pVDZ\r\n",
      "Default auxbasis aug-cc-pvdz-jkfit is used for C aug-cc-pVDZ\r\n",
      "Default auxbasis aug-cc-pvdz-jkfit is used for N aug-cc-pVDZ\r\n"
     ]
    },
    {
     "name": "stdout",
     "output_type": "stream",
     "text": [
      "<class 'gpu4pyscf.solvent.pcm.PCM'> E_diel = -0.0250828512609233\r\n",
      "Solvent Energy = -0.0250828512609233\r\n",
      "init E= -225.242161917191\r\n"
     ]
    },
    {
     "name": "stdout",
     "output_type": "stream",
     "text": [
      "<class 'gpu4pyscf.solvent.pcm.PCM'> E_diel = -0.0257978321825632\r\n",
      "Solvent Energy = -0.0257978321825632\r\n",
      "cycle= 1 E= -225.23962462377  delta_E= 0.00254  |ddm|= 0.154\r\n"
     ]
    },
    {
     "name": "stdout",
     "output_type": "stream",
     "text": [
      "<class 'gpu4pyscf.solvent.pcm.PCM'> E_diel = -0.0250666035608299\r\n",
      "Solvent Energy = -0.0250666035608299\r\n",
      "cycle= 2 E= -225.239626672001  delta_E= -2.05e-06  |ddm|= 0.0456\r\n"
     ]
    },
    {
     "name": "stdout",
     "output_type": "stream",
     "text": [
      "<class 'gpu4pyscf.solvent.pcm.PCM'> E_diel = -0.0256291733406162\r\n",
      "Solvent Energy = -0.0256291733406162\r\n",
      "cycle= 3 E= -225.239833115576  delta_E= -0.000206  |ddm|= 0.0237\r\n"
     ]
    },
    {
     "name": "stdout",
     "output_type": "stream",
     "text": [
      "<class 'gpu4pyscf.solvent.pcm.PCM'> E_diel = -0.0255020057495801\r\n",
      "Solvent Energy = -0.0255020057495801\r\n",
      "cycle= 4 E= -225.239842205651  delta_E= -9.09e-06  |ddm|= 0.00572\r\n"
     ]
    },
    {
     "name": "stdout",
     "output_type": "stream",
     "text": [
      "<class 'gpu4pyscf.solvent.pcm.PCM'> E_diel = -0.0255162935859117\r\n",
      "Solvent Energy = -0.0255162935859117\r\n",
      "cycle= 5 E= -225.23984310396  delta_E= -8.98e-07  |ddm|= 0.00183\r\n"
     ]
    },
    {
     "name": "stdout",
     "output_type": "stream",
     "text": [
      "<class 'gpu4pyscf.solvent.pcm.PCM'> E_diel = -0.0255144559248431\r\n",
      "Solvent Energy = -0.0255144559248431\r\n",
      "cycle= 6 E= -225.239843189935  delta_E= -8.6e-08  |ddm|= 0.000461\r\n"
     ]
    },
    {
     "name": "stdout",
     "output_type": "stream",
     "text": [
      "<class 'gpu4pyscf.solvent.pcm.PCM'> E_diel = -0.0255153221884163\r\n",
      "Solvent Energy = -0.0255153221884163\r\n",
      "cycle= 7 E= -225.239843191927  delta_E= -1.99e-09  |ddm|= 0.000108\r\n",
      "converged SCF energy = -225.239843191927\r\n",
      "\r\n",
      "\r\n",
      "******** <class 'gpu4pyscf.grad.rhf.PCMGradients_Scanner'> for <class 'pyscf.scf.hf.PCMDFRKS_Scanner'> ********\r\n",
      "unit = Eh/Bohr\r\n",
      "max_memory 4000 MB (current use 1449 MB)\r\n"
     ]
    },
    {
     "name": "stdout",
     "output_type": "stream",
     "text": [
      "--------------- PCMDFRKS_Scanner (+PCM) gradients ---------------\r\n",
      "         x                y                z\r\n",
      "0 N    -0.0003297444    -0.0073943318     0.0008126035\r\n",
      "1 C     0.0008074836     0.0077277201    -0.0001949319\r\n",
      "2 N    -0.0012480030    -0.0073446123    -0.0004330614\r\n",
      "3 O     0.0005972620     0.0057918814    -0.0001533551\r\n",
      "4 H    -0.0014448618    -0.0003543495     0.0000321009\r\n",
      "5 H    -0.0012626216     0.0012675937    -0.0000648127\r\n",
      "6 H     0.0013819661    -0.0006797318     0.0000049088\r\n",
      "7 H     0.0015075536     0.0009888603     0.0000087460\r\n",
      "----------------------------------------------\r\n",
      "cycle 3: E = -225.239843192  dE = -0.00361159  norm(grad) = 0.0147143\r\n",
      "Step    2 : Displace = \u001b[0m5.460e-02\u001b[0m/\u001b[0m8.256e-02\u001b[0m (rms/max) Trust = 5.000e-02 (\u001b[91m-\u001b[0m) Grad = \u001b[0m5.202e-03\u001b[0m/\u001b[0m7.772e-03\u001b[0m (rms/max) E (change) = -225.2398431919 (\u001b[0m-3.612e-03\u001b[0m) Quality = \u001b[0m0.892\u001b[0m\r\n",
      "Hessian Eigenvalues: 2.30000e-02 2.30186e-02 2.59273e-02 ... 5.42543e-01 8.59473e-01 1.10623e+00\r\n"
     ]
    },
    {
     "name": "stdout",
     "output_type": "stream",
     "text": [
      "\r\n",
      "Geometry optimization cycle 4\r\n",
      "Cartesian coordinates (Angstrom)\r\n",
      " Atom        New coordinates             dX        dY        dZ\r\n",
      "   N   1.129090  -0.337577   0.025686    0.009588  0.002513 -0.004538\r\n",
      "   C   0.053467   0.508594  -0.014717   -0.001725 -0.018954  0.000360\r\n",
      "   N  -1.173373  -0.099183  -0.014714   -0.009050  0.005993  0.004204\r\n",
      "   O   0.180858   1.734319  -0.048725   -0.001365 -0.021772  0.000243\r\n",
      "   H   0.996120  -1.306978  -0.232059    0.031969 -0.003001  0.003007\r\n",
      "   H   2.013716   0.076301  -0.236934    0.005802  0.013521 -0.002890\r\n",
      "   H  -1.241453  -1.059675   0.296008   -0.033632  0.004933 -0.003150\r\n",
      "   H  -1.952446   0.501412   0.220104   -0.002573  0.016736  0.001546\r\n",
      "New geometry\r\n",
      "   1 N      1.129089598965  -0.337576737292   0.025685535480 AA    2.133670112139  -0.637927579506   0.048538627420 Bohr\r\n",
      "\r\n",
      "   2 C      0.053466690069   0.508593929951  -0.014717225381 AA    0.101037401018   0.961103236224  -0.027811525284 Bohr\r\n",
      "\r\n",
      "   3 N     -1.173373015665  -0.099182932850  -0.014714363381 AA   -2.217353641562  -0.187428579317  -0.027806116888 Bohr\r\n",
      "\r\n",
      "   4 O      0.180858472608   1.734318951508  -0.048724879414 AA    0.341772980535   3.277387830994  -0.092076677545 Bohr\r\n",
      "\r\n",
      "   5 H      0.996119927894  -1.306978402496  -0.232058768550 AA    1.882393850942  -2.469831231439  -0.438527517364 Bohr\r\n",
      "\r\n",
      "   6 H      2.013715555498   0.076301056013  -0.236934123780 AA    3.805370892668   0.144188098879  -0.447740603508 Bohr\r\n",
      "\r\n",
      "   7 H     -1.241453492512  -1.059674840930   0.296007631564 AA   -2.346007097233  -2.002495230449   0.559373354436 Bohr\r\n",
      "\r\n",
      "   8 H     -1.952445934469   0.501412150484   0.220104279185 AA   -3.689588089166   0.947531639944   0.415936806505 Bohr\r\n",
      "\r\n",
      "\r\n",
      "\r\n",
      "******** <class 'pyscf.scf.hf.PCMDFRKS_Scanner'> ********\r\n",
      "method = PCMDFRKS_Scanner\r\n",
      "initial guess = minao\r\n",
      "damping factor = 0\r\n",
      "level_shift factor = 0\r\n",
      "DIIS = <class 'gpu4pyscf.scf.diis.CDIIS'>\r\n",
      "diis_start_cycle = 1\r\n",
      "diis_space = 8\r\n",
      "diis_damp = 0\r\n",
      "SCF conv_tol = 1e-08\r\n",
      "SCF conv_tol_grad = 0.0003\r\n",
      "SCF max_cycles = 70\r\n",
      "direct_scf = False\r\n",
      "max_memory 4000 MB (current use 1447 MB)\r\n",
      "******** <class 'gpu4pyscf.solvent.pcm.PCM'> ********\r\n",
      "lebedev_order = 29 (302 grids per sphere)\r\n",
      "eps = 46.826\r\n",
      "frozen = False\r\n",
      "equilibrium_solvation = False\r\n",
      "tot grids = 256768\r\n"
     ]
    },
    {
     "name": "stdout",
     "output_type": "stream",
     "text": [
      "Default auxbasis aug-cc-pvdz-jkfit is used for O aug-cc-pVDZ\r\n",
      "Default auxbasis aug-cc-pvdz-jkfit is used for H aug-cc-pVDZ\r\n",
      "Default auxbasis aug-cc-pvdz-jkfit is used for C aug-cc-pVDZ\r\n",
      "Default auxbasis aug-cc-pvdz-jkfit is used for N aug-cc-pVDZ\r\n"
     ]
    },
    {
     "name": "stdout",
     "output_type": "stream",
     "text": [
      "<class 'gpu4pyscf.solvent.pcm.PCM'> E_diel = -0.0256761654600139\r\n",
      "Solvent Energy = -0.0256761654600139\r\n",
      "init E= -225.246204981641\r\n"
     ]
    },
    {
     "name": "stdout",
     "output_type": "stream",
     "text": [
      "<class 'gpu4pyscf.solvent.pcm.PCM'> E_diel = -0.0257951532004646\r\n",
      "Solvent Energy = -0.0257951532004646\r\n",
      "cycle= 1 E= -225.240218729824  delta_E= 0.00599  |ddm|= 0.0711\r\n"
     ]
    },
    {
     "name": "stdout",
     "output_type": "stream",
     "text": [
      "<class 'gpu4pyscf.solvent.pcm.PCM'> E_diel = -0.0255555751812987\r\n",
      "Solvent Energy = -0.0255555751812987\r\n",
      "cycle= 2 E= -225.240212057646  delta_E= 6.67e-06  |ddm|= 0.0207\r\n"
     ]
    },
    {
     "name": "stdout",
     "output_type": "stream",
     "text": [
      "<class 'gpu4pyscf.solvent.pcm.PCM'> E_diel = -0.0258058204986502\r\n",
      "Solvent Energy = -0.0258058204986502\r\n",
      "cycle= 3 E= -225.240258643438  delta_E= -4.66e-05  |ddm|= 0.0113\r\n"
     ]
    },
    {
     "name": "stdout",
     "output_type": "stream",
     "text": [
      "<class 'gpu4pyscf.solvent.pcm.PCM'> E_diel = -0.0257548503463221\r\n",
      "Solvent Energy = -0.0257548503463221\r\n",
      "cycle= 4 E= -225.24026022041  delta_E= -1.58e-06  |ddm|= 0.0021\r\n"
     ]
    },
    {
     "name": "stdout",
     "output_type": "stream",
     "text": [
      "<class 'gpu4pyscf.solvent.pcm.PCM'> E_diel = -0.0257648496966236\r\n",
      "Solvent Energy = -0.0257648496966236\r\n",
      "cycle= 5 E= -225.240260257826  delta_E= -3.74e-08  |ddm|= 0.000473\r\n"
     ]
    },
    {
     "name": "stdout",
     "output_type": "stream",
     "text": [
      "<class 'gpu4pyscf.solvent.pcm.PCM'> E_diel = -0.0257638118315681\r\n",
      "Solvent Energy = -0.0257638118315681\r\n",
      "cycle= 6 E= -225.240260262124  delta_E= -4.3e-09  |ddm|= 0.000124\r\n",
      "converged SCF energy = -225.240260262124\r\n",
      "\r\n",
      "\r\n",
      "******** <class 'gpu4pyscf.grad.rhf.PCMGradients_Scanner'> for <class 'pyscf.scf.hf.PCMDFRKS_Scanner'> ********\r\n",
      "unit = Eh/Bohr\r\n",
      "max_memory 4000 MB (current use 1449 MB)\r\n"
     ]
    },
    {
     "name": "stdout",
     "output_type": "stream",
     "text": [
      "--------------- PCMDFRKS_Scanner (+PCM) gradients ---------------\r\n",
      "         x                y                z\r\n",
      "0 N     0.0000764288    -0.0003260262     0.0009836317\r\n",
      "1 C     0.0003113782     0.0028523690    -0.0000666094\r\n",
      "2 N    -0.0001207601    -0.0003947666    -0.0009727311\r\n",
      "3 O    -0.0002778573    -0.0026084297     0.0000774983\r\n",
      "4 H    -0.0006784434    -0.0002483374    -0.0003379847\r\n",
      "5 H     0.0000914686     0.0005271403    -0.0003096560\r\n",
      "6 H     0.0005968586    -0.0003296897     0.0003485954\r\n",
      "7 H     0.0000165735     0.0005291573     0.0002928119\r\n",
      "----------------------------------------------\r\n",
      "cycle 4: E = -225.240260262  dE = -0.00041707  norm(grad) = 0.00439222\r\n",
      "Step    3 : Displace = \u001b[0m2.180e-02\u001b[0m/\u001b[0m3.313e-02\u001b[0m (rms/max) Trust = 7.071e-02 (\u001b[92m+\u001b[0m) Grad = \u001b[0m1.553e-03\u001b[0m/\u001b[0m2.870e-03\u001b[0m (rms/max) E (change) = -225.2402602621 (\u001b[0m-4.171e-04\u001b[0m) Quality = \u001b[0m1.084\u001b[0m\r\n"
     ]
    },
    {
     "name": "stdout",
     "output_type": "stream",
     "text": [
      "Hessian Eigenvalues: 2.30000e-02 2.30209e-02 2.59273e-02 ... 5.42543e-01 8.08920e-01 1.14981e+00\r\n",
      "\r\n",
      "Geometry optimization cycle 5\r\n",
      "Cartesian coordinates (Angstrom)\r\n",
      " Atom        New coordinates             dX        dY        dZ\r\n",
      "   N   1.130837  -0.337210   0.020731    0.001747  0.000367 -0.004955\r\n",
      "   C   0.053194   0.506973  -0.014977   -0.000273 -0.001621 -0.000260\r\n",
      "   N  -1.175453  -0.097615  -0.010116   -0.002080  0.001568  0.004598\r\n",
      "   O   0.181100   1.734581  -0.049144    0.000241  0.000262 -0.000419\r\n",
      "   H   1.005806  -1.309216  -0.228580    0.009686 -0.002237  0.003478\r\n",
      "   H   2.016319   0.076175  -0.237334    0.002603 -0.000126 -0.000400\r\n",
      "   H  -1.252162  -1.059447   0.292447   -0.010709  0.000228 -0.003561\r\n",
      "   H  -1.955197   0.502849   0.220079   -0.002751  0.001437 -0.000026\r\n",
      "New geometry\r\n",
      "   1 N      1.130836765691  -0.337209575237   0.020731035254 AA    2.136971778745  -0.637233743779   0.039175978908 Bohr\r\n",
      "\r\n",
      "   2 C      0.053193861481   0.506972739506  -0.014977033084 AA    0.100521829707   0.958039630286  -0.028302490687 Bohr\r\n",
      "\r\n",
      "   3 N     -1.175453167357  -0.097614773612  -0.010116001804 AA   -2.221284558558  -0.184465187839  -0.019116472885 Bohr\r\n",
      "\r\n",
      "   4 O      0.181099777800   1.734581075009  -0.049143966935 AA    0.342228981262   3.277883172621  -0.092868638182 Bohr\r\n",
      "\r\n",
      "   5 H      1.005805650516  -1.309215519706  -0.228580337640 AA    1.900697214015  -2.474058770274  -0.431954235600 Bohr\r\n",
      "\r\n",
      "   6 H      2.016318848583   0.076174839304  -0.237333835933 AA    3.810290403621   0.143949583867  -0.448495950006 Bohr\r\n",
      "\r\n",
      "   7 H     -1.252162204122  -1.059446797219   0.292446798982 AA   -2.366243629322  -2.002064290292   0.552644356082 Bohr\r\n",
      "\r\n",
      "   8 H     -1.955196948570   0.502849046553   0.220078583674 AA   -3.694786752382   0.950246979984   0.415888249026 Bohr\r\n",
      "\r\n",
      "\r\n",
      "\r\n",
      "******** <class 'pyscf.scf.hf.PCMDFRKS_Scanner'> ********\r\n",
      "method = PCMDFRKS_Scanner\r\n",
      "initial guess = minao\r\n",
      "damping factor = 0\r\n",
      "level_shift factor = 0\r\n",
      "DIIS = <class 'gpu4pyscf.scf.diis.CDIIS'>\r\n",
      "diis_start_cycle = 1\r\n",
      "diis_space = 8\r\n",
      "diis_damp = 0\r\n",
      "SCF conv_tol = 1e-08\r\n",
      "SCF conv_tol_grad = 0.0003\r\n",
      "SCF max_cycles = 70\r\n",
      "direct_scf = False\r\n",
      "max_memory 4000 MB (current use 1448 MB)\r\n",
      "******** <class 'gpu4pyscf.solvent.pcm.PCM'> ********\r\n",
      "lebedev_order = 29 (302 grids per sphere)\r\n",
      "eps = 46.826\r\n",
      "frozen = False\r\n",
      "equilibrium_solvation = False\r\n",
      "tot grids = 256768\r\n"
     ]
    },
    {
     "name": "stdout",
     "output_type": "stream",
     "text": [
      "Default auxbasis aug-cc-pvdz-jkfit is used for O aug-cc-pVDZ\r\n",
      "Default auxbasis aug-cc-pvdz-jkfit is used for H aug-cc-pVDZ\r\n",
      "Default auxbasis aug-cc-pvdz-jkfit is used for C aug-cc-pVDZ\r\n",
      "Default auxbasis aug-cc-pvdz-jkfit is used for N aug-cc-pVDZ\r\n"
     ]
    },
    {
     "name": "stdout",
     "output_type": "stream",
     "text": [
      "<class 'gpu4pyscf.solvent.pcm.PCM'> E_diel = -0.0257268477356276\r\n",
      "Solvent Energy = -0.0257268477356276\r\n",
      "init E= -225.239668501992\r\n"
     ]
    },
    {
     "name": "stdout",
     "output_type": "stream",
     "text": [
      "<class 'gpu4pyscf.solvent.pcm.PCM'> E_diel = -0.0259516632391761\r\n",
      "Solvent Energy = -0.0259516632391761\r\n",
      "cycle= 1 E= -225.240286287681  delta_E= -0.000618  |ddm|= 0.0379\r\n"
     ]
    },
    {
     "name": "stdout",
     "output_type": "stream",
     "text": [
      "<class 'gpu4pyscf.solvent.pcm.PCM'> E_diel = -0.0258333011261122\r\n",
      "Solvent Energy = -0.0258333011261122\r\n",
      "cycle= 2 E= -225.240287678447  delta_E= -1.39e-06  |ddm|= 0.00768\r\n"
     ]
    },
    {
     "name": "stdout",
     "output_type": "stream",
     "text": [
      "<class 'gpu4pyscf.solvent.pcm.PCM'> E_diel = -0.0259340503314179\r\n",
      "Solvent Energy = -0.0259340503314179\r\n",
      "cycle= 3 E= -225.240292246131  delta_E= -4.57e-06  |ddm|= 0.00382\r\n"
     ]
    },
    {
     "name": "stdout",
     "output_type": "stream",
     "text": [
      "<class 'gpu4pyscf.solvent.pcm.PCM'> E_diel = -0.0259130966925084\r\n",
      "Solvent Energy = -0.0259130966925084\r\n",
      "cycle= 4 E= -225.240292648137  delta_E= -4.02e-07  |ddm|= 0.00114\r\n"
     ]
    },
    {
     "name": "stdout",
     "output_type": "stream",
     "text": [
      "<class 'gpu4pyscf.solvent.pcm.PCM'> E_diel = -0.0259166058886567\r\n",
      "Solvent Energy = -0.0259166058886567\r\n",
      "cycle= 5 E= -225.240292677009  delta_E= -2.89e-08  |ddm|= 0.000385\r\n"
     ]
    },
    {
     "name": "stdout",
     "output_type": "stream",
     "text": [
      "<class 'gpu4pyscf.solvent.pcm.PCM'> E_diel = -0.0259169014710284\r\n",
      "Solvent Energy = -0.0259169014710284\r\n",
      "cycle= 6 E= -225.240292680181  delta_E= -3.17e-09  |ddm|= 0.000137\r\n",
      "converged SCF energy = -225.240292680181\r\n",
      "\r\n",
      "\r\n",
      "******** <class 'gpu4pyscf.grad.rhf.PCMGradients_Scanner'> for <class 'pyscf.scf.hf.PCMDFRKS_Scanner'> ********\r\n",
      "unit = Eh/Bohr\r\n",
      "max_memory 4000 MB (current use 1450 MB)\r\n"
     ]
    },
    {
     "name": "stdout",
     "output_type": "stream",
     "text": [
      "--------------- PCMDFRKS_Scanner (+PCM) gradients ---------------\r\n",
      "         x                y                z\r\n",
      "0 N     0.0009118183    -0.0004541268     0.0006924001\r\n",
      "1 C     0.0001156508     0.0010857777    -0.0000387637\r\n",
      "2 N    -0.0009690301    -0.0003023975    -0.0006781075\r\n",
      "3 O    -0.0000366899    -0.0003312927     0.0000213230\r\n",
      "4 H     0.0001427865     0.0001158164    -0.0002871002\r\n",
      "5 H    -0.0000704839    -0.0001271352    -0.0002318804\r\n",
      "6 H    -0.0001236572     0.0001533204     0.0002871731\r\n",
      "7 H     0.0000442641    -0.0001380733     0.0002517161\r\n",
      "----------------------------------------------\r\n",
      "cycle 5: E = -225.24029268  dE = -3.24181e-05  norm(grad) = 0.00217013\r\n"
     ]
    },
    {
     "name": "stdout",
     "output_type": "stream",
     "text": [
      "Step    4 : Displace = \u001b[0m6.239e-03\u001b[0m/\u001b[0m1.082e-02\u001b[0m (rms/max) Trust = 1.000e-01 (\u001b[92m+\u001b[0m) Grad = \u001b[0m7.673e-04\u001b[0m/\u001b[0m1.232e-03\u001b[0m (rms/max) E (change) = -225.2402926802 (\u001b[0m-3.242e-05\u001b[0m) Quality = \u001b[0m1.179\u001b[0m\r\n",
      "Hessian Eigenvalues: 2.13861e-02 2.30008e-02 2.31538e-02 ... 5.42545e-01 9.17227e-01 1.22033e+00\r\n",
      "\r\n",
      "Geometry optimization cycle 6\r\n",
      "Cartesian coordinates (Angstrom)\r\n",
      " Atom        New coordinates             dX        dY        dZ\r\n",
      "   N   1.130092  -0.336485   0.015675   -0.000744  0.000725 -0.005056\r\n",
      "   C   0.053025   0.506655  -0.015257   -0.000168 -0.000317 -0.000280\r\n",
      "   N  -1.175138  -0.096086  -0.005554    0.000315  0.001529  0.004562\r\n",
      "   O   0.181366   1.734927  -0.049717    0.000266  0.000346 -0.000573\r\n",
      "   H   1.007126  -1.311069  -0.223822    0.001321 -0.001854  0.004759\r\n",
      "   H   2.017455   0.075647  -0.237558    0.001136 -0.000527 -0.000225\r\n",
      "   H  -1.254832  -1.060491   0.287455   -0.002670 -0.001045 -0.004992\r\n",
      "   H  -1.956742   0.503742   0.219569   -0.001545  0.000893 -0.000510\r\n",
      "New geometry\r\n",
      "   1 N      1.130092431682  -0.336484833391   0.015675050136 AA    2.135565191324  -0.635864180179   0.029621551746 Bohr\r\n",
      "\r\n",
      "   2 C      0.053025444949   0.506655390381  -0.015257454583 AA    0.100203568587   0.957439927354  -0.028832410520 Bohr\r\n",
      "\r\n",
      "   3 N     -1.175138274173  -0.096085834814  -0.005553796663 AA   -2.220689496682  -0.181575912250  -0.010495154645 Bohr\r\n",
      "\r\n",
      "   4 O      0.181366006295   1.734926866967  -0.049716788894 AA    0.342732080204   3.278536624717  -0.093951114802 Bohr\r\n",
      "\r\n",
      "   5 H      1.007126179691  -1.311069252334  -0.223821533046 AA    1.903192652496  -2.477561817249  -0.422961398237 Bohr\r\n",
      "\r\n",
      "   6 H      2.017455224127   0.075647451905  -0.237558394600 AA    3.812437842173   0.142952966122  -0.448920304385 Bohr\r\n",
      "\r\n",
      "   7 H     -1.254831856904  -1.060491468475   0.287454588082 AA   -2.371288541928  -2.004038432855   0.543210444725 Bohr\r\n",
      "\r\n",
      "   8 H     -1.956742051210   0.503741776196   0.219568993190 AA   -3.697706573207   0.951933994513   0.414925262576 Bohr\r\n",
      "\r\n",
      "\r\n",
      "\r\n",
      "******** <class 'pyscf.scf.hf.PCMDFRKS_Scanner'> ********\r\n",
      "method = PCMDFRKS_Scanner\r\n",
      "initial guess = minao\r\n",
      "damping factor = 0\r\n",
      "level_shift factor = 0\r\n",
      "DIIS = <class 'gpu4pyscf.scf.diis.CDIIS'>\r\n",
      "diis_start_cycle = 1\r\n",
      "diis_space = 8\r\n",
      "diis_damp = 0\r\n",
      "SCF conv_tol = 1e-08\r\n",
      "SCF conv_tol_grad = 0.0003\r\n",
      "SCF max_cycles = 70\r\n",
      "direct_scf = False\r\n",
      "max_memory 4000 MB (current use 1448 MB)\r\n",
      "******** <class 'gpu4pyscf.solvent.pcm.PCM'> ********\r\n",
      "lebedev_order = 29 (302 grids per sphere)\r\n",
      "eps = 46.826\r\n",
      "frozen = False\r\n",
      "equilibrium_solvation = False\r\n",
      "tot grids = 256768\r\n"
     ]
    },
    {
     "name": "stdout",
     "output_type": "stream",
     "text": [
      "Default auxbasis aug-cc-pvdz-jkfit is used for O aug-cc-pVDZ\r\n",
      "Default auxbasis aug-cc-pvdz-jkfit is used for H aug-cc-pVDZ\r\n",
      "Default auxbasis aug-cc-pvdz-jkfit is used for C aug-cc-pVDZ\r\n",
      "Default auxbasis aug-cc-pvdz-jkfit is used for N aug-cc-pVDZ\r\n"
     ]
    },
    {
     "name": "stdout",
     "output_type": "stream",
     "text": [
      "<class 'gpu4pyscf.solvent.pcm.PCM'> E_diel = -0.0259208260811191\r\n",
      "Solvent Energy = -0.0259208260811191\r\n",
      "init E= -225.241183968395\r\n"
     ]
    },
    {
     "name": "stdout",
     "output_type": "stream",
     "text": [
      "<class 'gpu4pyscf.solvent.pcm.PCM'> E_diel = -0.026068971867461\r\n",
      "Solvent Energy = -0.026068971867461\r\n",
      "cycle= 1 E= -225.240307047754  delta_E= 0.000877  |ddm|= 0.0343\r\n"
     ]
    },
    {
     "name": "stdout",
     "output_type": "stream",
     "text": [
      "<class 'gpu4pyscf.solvent.pcm.PCM'> E_diel = -0.0260051396825286\r\n",
      "Solvent Energy = -0.0260051396825286\r\n",
      "cycle= 2 E= -225.240308402996  delta_E= -1.36e-06  |ddm|= 0.00606\r\n"
     ]
    },
    {
     "name": "stdout",
     "output_type": "stream",
     "text": [
      "<class 'gpu4pyscf.solvent.pcm.PCM'> E_diel = -0.0260802887582832\r\n",
      "Solvent Energy = -0.0260802887582832\r\n",
      "cycle= 3 E= -225.240310199522  delta_E= -1.8e-06  |ddm|= 0.00291\r\n"
     ]
    },
    {
     "name": "stdout",
     "output_type": "stream",
     "text": [
      "<class 'gpu4pyscf.solvent.pcm.PCM'> E_diel = -0.0260620906236265\r\n",
      "Solvent Energy = -0.0260620906236265\r\n",
      "cycle= 4 E= -225.240310603814  delta_E= -4.04e-07  |ddm|= 0.000999\r\n"
     ]
    },
    {
     "name": "stdout",
     "output_type": "stream",
     "text": [
      "<class 'gpu4pyscf.solvent.pcm.PCM'> E_diel = -0.0260633935227639\r\n",
      "Solvent Energy = -0.0260633935227639\r\n",
      "cycle= 5 E= -225.240310612131  delta_E= -8.32e-09  |ddm|= 0.000291\r\n",
      "converged SCF energy = -225.240310612131\r\n",
      "\r\n",
      "\r\n",
      "******** <class 'gpu4pyscf.grad.rhf.PCMGradients_Scanner'> for <class 'pyscf.scf.hf.PCMDFRKS_Scanner'> ********\r\n",
      "unit = Eh/Bohr\r\n",
      "max_memory 4000 MB (current use 1451 MB)\r\n"
     ]
    },
    {
     "name": "stdout",
     "output_type": "stream",
     "text": [
      "--------------- PCMDFRKS_Scanner (+PCM) gradients ---------------\r\n",
      "         x                y                z\r\n",
      "0 N     0.0003693910     0.0000413245     0.0005372706\r\n",
      "1 C     0.0000070023     0.0000483630     0.0000190976\r\n",
      "2 N    -0.0003608638     0.0000895932    -0.0005638207\r\n",
      "3 O    -0.0000001770     0.0000017396     0.0000004087\r\n",
      "4 H     0.0002686222     0.0000749627    -0.0002594192\r\n",
      "5 H     0.0000729500    -0.0002045582    -0.0002070689\r\n",
      "6 H    -0.0002326806     0.0001269996     0.0002618829\r\n",
      "7 H    -0.0001092037    -0.0001768833     0.0002282672\r\n",
      "----------------------------------------------\r\n",
      "cycle 6: E = -225.240310612  dE = -1.7932e-05  norm(grad) = 0.00116405\r\n",
      "Step    5 : Displace = \u001b[0m3.767e-03\u001b[0m/\u001b[0m5.307e-03\u001b[0m (rms/max) Trust = 1.414e-01 (\u001b[92m+\u001b[0m) Grad = \u001b[0m4.116e-04\u001b[0m/\u001b[0m6.754e-04\u001b[0m (rms/max) E (change) = -225.2403106121 (\u001b[0m-1.793e-05\u001b[0m) Quality = \u001b[0m1.609\u001b[0m\r\n",
      "Hessian Eigenvalues: 7.92165e-03 2.30004e-02 2.32103e-02 ... 5.42547e-01 9.25525e-01 1.13258e+00\r\n",
      "\r\n",
      "Geometry optimization cycle 7\r\n",
      "Cartesian coordinates (Angstrom)\r\n",
      " Atom        New coordinates             dX        dY        dZ\r\n",
      "   N   1.127690  -0.335471   0.005661   -0.002402  0.001014 -0.010014\r\n",
      "   C   0.052791   0.507559  -0.016241   -0.000235  0.000904 -0.000984\r\n",
      "   N  -1.173935  -0.093417   0.003261    0.001203  0.002669  0.008814\r\n",
      "   O   0.182049   1.736740  -0.051011    0.000683  0.001813 -0.001294\r\n",
      "   H   1.005223  -1.314716  -0.212830   -0.001904 -0.003647  0.010992\r\n",
      "   H   2.018657   0.073831  -0.237916    0.001202 -0.001816 -0.000358\r\n",
      "   H  -1.256382  -1.063234   0.275837   -0.001550 -0.002743 -0.011618\r\n",
      "   H  -1.959015   0.504975   0.218275   -0.002273  0.001233 -0.001294\r\n",
      "New geometry\r\n",
      "   1 N      1.127690286490  -0.335470791267   0.005660704733 AA    2.131025794799  -0.633947918285   0.010697181618 Bohr\r\n",
      "\r\n",
      "   2 C      0.052790569197   0.507559177557  -0.016241493783 AA    0.099759717743   0.959147837593  -0.030691975103 Bohr\r\n",
      "\r\n",
      "   3 N     -1.173935248511  -0.093417009923   0.003260630678 AA   -2.218416107659  -0.176532564131   0.006161698974 Bohr\r\n",
      "\r\n",
      "   4 O      0.182049426000   1.736739506064  -0.051010505829 AA    0.344023556275   3.281962016174  -0.096395885493 Bohr\r\n",
      "\r\n",
      "   5 H      1.005222632089  -1.314716453926  -0.212829971994 AA    1.899595468862  -2.484454029380  -0.402190358168 Bohr\r\n",
      "\r\n",
      "   6 H      2.018657463121   0.073831307988  -0.237915909646 AA    3.814709744608   0.139520951515  -0.449595909908 Bohr\r\n",
      "\r\n",
      "   7 H     -1.256382031073  -1.063234488429   0.275836712185 AA   -2.374217946552  -2.009221989322   0.521255841130 Bohr\r\n",
      "\r\n",
      "   8 H     -1.959014826748   0.504974578928   0.218274736450 AA   -3.702001496516   0.954263654042   0.412479471802 Bohr\r\n",
      "\r\n",
      "\r\n",
      "\r\n",
      "******** <class 'pyscf.scf.hf.PCMDFRKS_Scanner'> ********\r\n",
      "method = PCMDFRKS_Scanner\r\n",
      "initial guess = minao\r\n",
      "damping factor = 0\r\n",
      "level_shift factor = 0\r\n",
      "DIIS = <class 'gpu4pyscf.scf.diis.CDIIS'>\r\n",
      "diis_start_cycle = 1\r\n",
      "diis_space = 8\r\n",
      "diis_damp = 0\r\n",
      "SCF conv_tol = 1e-08\r\n",
      "SCF conv_tol_grad = 0.0003\r\n",
      "SCF max_cycles = 70\r\n",
      "direct_scf = False\r\n",
      "max_memory 4000 MB (current use 1449 MB)\r\n",
      "******** <class 'gpu4pyscf.solvent.pcm.PCM'> ********\r\n",
      "lebedev_order = 29 (302 grids per sphere)\r\n",
      "eps = 46.826\r\n",
      "frozen = False\r\n",
      "equilibrium_solvation = False\r\n",
      "tot grids = 256768\r\n"
     ]
    },
    {
     "name": "stdout",
     "output_type": "stream",
     "text": [
      "Default auxbasis aug-cc-pvdz-jkfit is used for O aug-cc-pVDZ\r\n",
      "Default auxbasis aug-cc-pvdz-jkfit is used for H aug-cc-pVDZ\r\n",
      "Default auxbasis aug-cc-pvdz-jkfit is used for C aug-cc-pVDZ\r\n",
      "Default auxbasis aug-cc-pvdz-jkfit is used for N aug-cc-pVDZ\r\n"
     ]
    },
    {
     "name": "stdout",
     "output_type": "stream",
     "text": [
      "<class 'gpu4pyscf.solvent.pcm.PCM'> E_diel = -0.0260614939913101\r\n",
      "Solvent Energy = -0.0260614939913101\r\n",
      "init E= -225.242266705165\r\n"
     ]
    },
    {
     "name": "stdout",
     "output_type": "stream",
     "text": [
      "<class 'gpu4pyscf.solvent.pcm.PCM'> E_diel = -0.026305689050584\r\n",
      "Solvent Energy = -0.026305689050584\r\n",
      "cycle= 1 E= -225.240318741693  delta_E= 0.00195  |ddm|= 0.0685\r\n"
     ]
    },
    {
     "name": "stdout",
     "output_type": "stream",
     "text": [
      "<class 'gpu4pyscf.solvent.pcm.PCM'> E_diel = -0.0262206849514561\r\n",
      "Solvent Energy = -0.0262206849514561\r\n",
      "cycle= 2 E= -225.240326790539  delta_E= -8.05e-06  |ddm|= 0.0108\r\n"
     ]
    },
    {
     "name": "stdout",
     "output_type": "stream",
     "text": [
      "<class 'gpu4pyscf.solvent.pcm.PCM'> E_diel = -0.0263403319486587\r\n",
      "Solvent Energy = -0.0263403319486587\r\n",
      "cycle= 3 E= -225.24032939353  delta_E= -2.6e-06  |ddm|= 0.00467\r\n"
     ]
    },
    {
     "name": "stdout",
     "output_type": "stream",
     "text": [
      "<class 'gpu4pyscf.solvent.pcm.PCM'> E_diel = -0.0262995100461485\r\n",
      "Solvent Energy = -0.0262995100461485\r\n",
      "cycle= 4 E= -225.240331034801  delta_E= -1.64e-06  |ddm|= 0.00194\r\n"
     ]
    },
    {
     "name": "stdout",
     "output_type": "stream",
     "text": [
      "<class 'gpu4pyscf.solvent.pcm.PCM'> E_diel = -0.0263030194796539\r\n",
      "Solvent Energy = -0.0263030194796539\r\n",
      "cycle= 5 E= -225.240331064218  delta_E= -2.94e-08  |ddm|= 0.000558\r\n"
     ]
    },
    {
     "name": "stdout",
     "output_type": "stream",
     "text": [
      "<class 'gpu4pyscf.solvent.pcm.PCM'> E_diel = -0.0263045297971077\r\n",
      "Solvent Energy = -0.0263045297971077\r\n",
      "cycle= 6 E= -225.240331068123  delta_E= -3.91e-09  |ddm|= 0.000135\r\n",
      "converged SCF energy = -225.240331068123\r\n",
      "\r\n",
      "\r\n",
      "******** <class 'gpu4pyscf.grad.rhf.PCMGradients_Scanner'> for <class 'pyscf.scf.hf.PCMDFRKS_Scanner'> ********\r\n",
      "unit = Eh/Bohr\r\n",
      "max_memory 4000 MB (current use 1451 MB)\r\n"
     ]
    },
    {
     "name": "stdout",
     "output_type": "stream",
     "text": [
      "--------------- PCMDFRKS_Scanner (+PCM) gradients ---------------\r\n",
      "         x                y                z\r\n",
      "0 N    -0.0003695796     0.0003981027     0.0002070686\r\n",
      "1 C    -0.0000788007    -0.0008875312    -0.0000120328\r\n",
      "2 N     0.0004110025     0.0003012078    -0.0002234143\r\n",
      "3 O     0.0000459729     0.0004264724     0.0000097159\r\n",
      "4 H     0.0001924120     0.0000029960    -0.0001319569\r\n",
      "5 H     0.0000838770    -0.0001511296    -0.0000794015\r\n",
      "6 H    -0.0001586667     0.0000365912     0.0001379599\r\n",
      "7 H    -0.0001105749    -0.0001255955     0.0001048539\r\n",
      "----------------------------------------------\r\n",
      "cycle 7: E = -225.240331068  dE = -2.0456e-05  norm(grad) = 0.00134195\r\n",
      "Step    6 : Displace = \u001b[0m7.719e-03\u001b[0m/\u001b[0m1.127e-02\u001b[0m (rms/max) Trust = 2.000e-01 (\u001b[92m+\u001b[0m) Grad = \u001b[0m4.745e-04\u001b[0m/\u001b[0m8.911e-04\u001b[0m (rms/max) E (change) = -225.2403310681 (\u001b[0m-2.046e-05\u001b[0m) Quality = \u001b[0m1.221\u001b[0m\r\n",
      "Hessian Eigenvalues: 5.92397e-03 2.30006e-02 2.32861e-02 ... 5.62055e-01 9.13135e-01 1.13052e+00\r\n",
      "\r\n",
      "Geometry optimization cycle 8\r\n",
      "Cartesian coordinates (Angstrom)\r\n",
      " Atom        New coordinates             dX        dY        dZ\r\n",
      "   N   1.126906  -0.335388   0.002256   -0.000784  0.000083 -0.003405\r\n",
      "   C   0.052713   0.508247  -0.016338   -0.000077  0.000687 -0.000096\r\n",
      "   N  -1.173826  -0.092429   0.006249    0.000109  0.000988  0.002988\r\n",
      "   O   0.182398   1.737413  -0.051741    0.000348  0.000674 -0.000731\r\n",
      "   H   1.003526  -1.316260  -0.207677   -0.001697 -0.001544  0.005153\r\n",
      "   H   2.018906   0.073018  -0.238456    0.000249 -0.000813 -0.000540\r\n",
      "   H  -1.256792  -1.064390   0.270403   -0.000410 -0.001156 -0.005433\r\n",
      "   H  -1.959917   0.505769   0.217367   -0.000902  0.000795 -0.000907\r\n",
      "New geometry\r\n",
      "   1 N      1.126905921050  -0.335388126655   0.002255515437 AA    2.129543558936  -0.633791704810   0.004262306445 Bohr\r\n",
      "\r\n",
      "   2 C      0.052713178778   0.508246572029  -0.016337948636 AA    0.099613471046   0.960446824883  -0.030874248359 Bohr\r\n",
      "\r\n",
      "   3 N     -1.173825798905  -0.092429488323   0.006248695865 AA   -2.218209277879  -0.174666418764   0.011808323820 Bohr\r\n",
      "\r\n",
      "   4 O      0.182397591016   1.737413308067  -0.051741097478 AA    0.344681492801   3.283235317421  -0.097776503617 Bohr\r\n",
      "\r\n",
      "   5 H      1.003525648388  -1.316259977568  -0.207676972469 AA    1.896388634429  -2.487370866330  -0.392452600345 Bohr\r\n",
      "\r\n",
      "   6 H      2.018906363993   0.073018422541  -0.238456384069 AA    3.815180099088   0.137984820650  -0.450617258544 Bohr\r\n",
      "\r\n",
      "   7 H     -1.256791792227  -1.064390398823   0.270403233733 AA   -2.374992282911  -2.011406343393   0.510988054952 Bohr\r\n",
      "\r\n",
      "   8 H     -1.959917141579   0.505769497735   0.217367398989 AA   -3.703706624424   0.955765832877   0.410764852498 Bohr\r\n",
      "\r\n",
      "\r\n",
      "\r\n",
      "******** <class 'pyscf.scf.hf.PCMDFRKS_Scanner'> ********\r\n",
      "method = PCMDFRKS_Scanner\r\n",
      "initial guess = minao\r\n",
      "damping factor = 0\r\n",
      "level_shift factor = 0\r\n",
      "DIIS = <class 'gpu4pyscf.scf.diis.CDIIS'>\r\n",
      "diis_start_cycle = 1\r\n",
      "diis_space = 8\r\n",
      "diis_damp = 0\r\n",
      "SCF conv_tol = 1e-08\r\n",
      "SCF conv_tol_grad = 0.0003\r\n",
      "SCF max_cycles = 70\r\n",
      "direct_scf = False\r\n",
      "max_memory 4000 MB (current use 1449 MB)\r\n",
      "******** <class 'gpu4pyscf.solvent.pcm.PCM'> ********\r\n",
      "lebedev_order = 29 (302 grids per sphere)\r\n",
      "eps = 46.826\r\n",
      "frozen = False\r\n",
      "equilibrium_solvation = False\r\n",
      "tot grids = 256768\r\n"
     ]
    },
    {
     "name": "stdout",
     "output_type": "stream",
     "text": [
      "Default auxbasis aug-cc-pvdz-jkfit is used for O aug-cc-pVDZ\r\n",
      "Default auxbasis aug-cc-pvdz-jkfit is used for H aug-cc-pVDZ\r\n",
      "Default auxbasis aug-cc-pvdz-jkfit is used for C aug-cc-pVDZ\r\n",
      "Default auxbasis aug-cc-pvdz-jkfit is used for N aug-cc-pVDZ\r\n"
     ]
    },
    {
     "name": "stdout",
     "output_type": "stream",
     "text": [
      "<class 'gpu4pyscf.solvent.pcm.PCM'> E_diel = -0.0262926925194231\r\n",
      "Solvent Energy = -0.0262926925194231\r\n",
      "init E= -225.241203477888\r\n"
     ]
    },
    {
     "name": "stdout",
     "output_type": "stream",
     "text": [
      "<class 'gpu4pyscf.solvent.pcm.PCM'> E_diel = -0.0263557157978947\r\n",
      "Solvent Energy = -0.0263557157978947\r\n",
      "cycle= 1 E= -225.240332628158  delta_E= 0.000871  |ddm|= 0.0255\r\n"
     ]
    },
    {
     "name": "stdout",
     "output_type": "stream",
     "text": [
      "<class 'gpu4pyscf.solvent.pcm.PCM'> E_diel = -0.0263428348876892\r\n",
      "Solvent Energy = -0.0263428348876892\r\n",
      "cycle= 2 E= -225.24033403671  delta_E= -1.41e-06  |ddm|= 0.00372\r\n"
     ]
    },
    {
     "name": "stdout",
     "output_type": "stream",
     "text": [
      "<class 'gpu4pyscf.solvent.pcm.PCM'> E_diel = -0.0263646881744622\r\n",
      "Solvent Energy = -0.0263646881744622\r\n",
      "cycle= 3 E= -225.240334133249  delta_E= -9.65e-08  |ddm|= 0.00109\r\n"
     ]
    },
    {
     "name": "stdout",
     "output_type": "stream",
     "text": [
      "<class 'gpu4pyscf.solvent.pcm.PCM'> E_diel = -0.0263539161372532\r\n",
      "Solvent Energy = -0.0263539161372532\r\n",
      "cycle= 4 E= -225.240334214116  delta_E= -8.09e-08  |ddm|= 0.000485\r\n"
     ]
    },
    {
     "name": "stdout",
     "output_type": "stream",
     "text": [
      "<class 'gpu4pyscf.solvent.pcm.PCM'> E_diel = -0.0263566368679741\r\n",
      "Solvent Energy = -0.0263566368679741\r\n",
      "cycle= 5 E= -225.240334218949  delta_E= -4.83e-09  |ddm|= 0.000184\r\n",
      "converged SCF energy = -225.240334218949\r\n",
      "\r\n",
      "\r\n",
      "******** <class 'gpu4pyscf.grad.rhf.PCMGradients_Scanner'> for <class 'pyscf.scf.hf.PCMDFRKS_Scanner'> ********\r\n",
      "unit = Eh/Bohr\r\n",
      "max_memory 4000 MB (current use 1451 MB)\r\n"
     ]
    },
    {
     "name": "stdout",
     "output_type": "stream",
     "text": [
      "--------------- PCMDFRKS_Scanner (+PCM) gradients ---------------\r\n",
      "         x                y                z\r\n",
      "0 N    -0.0002467717     0.0001968870     0.0000242774\r\n",
      "1 C    -0.0000436606    -0.0005501167     0.0001143443\r\n",
      "2 N     0.0002515136     0.0001282520    -0.0000952457\r\n",
      "3 O     0.0000365223     0.0003324211    -0.0000395742\r\n",
      "4 H     0.0000614975    -0.0000156826    -0.0000569362\r\n",
      "5 H     0.0000401036    -0.0000468739    -0.0000229450\r\n",
      "6 H    -0.0000439804    -0.0000016331     0.0000526166\r\n",
      "7 H    -0.0000396173    -0.0000416113     0.0000340296\r\n",
      "----------------------------------------------\r\n",
      "cycle 8: E = -225.240334219  dE = -3.15083e-06  norm(grad) = 0.000800505\r\n",
      "Step    7 : Displace = \u001b[0m3.211e-03\u001b[0m/\u001b[0m5.107e-03\u001b[0m (rms/max) Trust = 2.828e-01 (\u001b[92m+\u001b[0m) Grad = \u001b[92m2.830e-04\u001b[0m/\u001b[0m5.636e-04\u001b[0m (rms/max) E (change) = -225.2403342189 (\u001b[0m-3.151e-06\u001b[0m) Quality = \u001b[0m1.254\u001b[0m\r\n",
      "Hessian Eigenvalues: 4.88369e-03 2.29940e-02 2.30966e-02 ... 5.42547e-01 8.79790e-01 1.16168e+00\r\n",
      "\r\n",
      "Geometry optimization cycle 9\r\n",
      "Cartesian coordinates (Angstrom)\r\n",
      " Atom        New coordinates             dX        dY        dZ\r\n",
      "   N   1.126526  -0.335520   0.001204   -0.000380 -0.000132 -0.001052\r\n",
      "   C   0.052530   0.508509  -0.017173   -0.000183  0.000262 -0.000835\r\n",
      "   N  -1.174171  -0.091921   0.006876   -0.000345  0.000508  0.000627\r\n",
      "   O   0.182495   1.737491  -0.052133    0.000098  0.000078 -0.000392\r\n",
      "   H   1.002744  -1.317091  -0.204855   -0.000781 -0.000831  0.002822\r\n",
      "   H   2.018945   0.072512  -0.238324    0.000038 -0.000506  0.000132\r\n",
      "   H  -1.257394  -1.064721   0.267599   -0.000602 -0.000331 -0.002804\r\n",
      "   H  -1.960357   0.506452   0.216863   -0.000440  0.000683 -0.000504\r\n",
      "New geometry\r\n",
      "   1 N      1.126526033679  -0.335519626679   0.001203600960 AA    2.128825675845  -0.634040203840   0.002274476178 Bohr\r\n",
      "\r\n",
      "   2 C      0.052529767598   0.508508604437  -0.017172866770 AA    0.099266874146   0.960941994371  -0.032452014968 Bohr\r\n",
      "\r\n",
      "   3 N     -1.174170815458  -0.091921256443   0.006876126348 AA   -2.218861264673  -0.173705999703   0.012993995596 Bohr\r\n",
      "\r\n",
      "   4 O      0.182495441252   1.737490836760  -0.052132925314 AA    0.344866402948   3.283381825417  -0.098516950916 Bohr\r\n",
      "\r\n",
      "   5 H      1.002744409588  -1.317090956757  -0.204854583716 AA    1.894912307061  -2.488941189412  -0.387119058584 Bohr\r\n",
      "\r\n",
      "   6 H      2.018944758836   0.072512443613  -0.238324337499 AA    3.815252654826   0.137028659051  -0.450367726692 Bohr\r\n",
      "\r\n",
      "   7 H     -1.257394195924  -1.064721146919   0.267598982783 AA   -2.376130660913  -2.012031366709   0.505688788671 Bohr\r\n",
      "\r\n",
      "   8 H     -1.960357088865   0.506452371409   0.216863114993 AA   -3.704538004305   0.957056277099   0.409811893858 Bohr\r\n",
      "\r\n",
      "\r\n",
      "\r\n",
      "******** <class 'pyscf.scf.hf.PCMDFRKS_Scanner'> ********\r\n",
      "method = PCMDFRKS_Scanner\r\n",
      "initial guess = minao\r\n",
      "damping factor = 0\r\n",
      "level_shift factor = 0\r\n",
      "DIIS = <class 'gpu4pyscf.scf.diis.CDIIS'>\r\n",
      "diis_start_cycle = 1\r\n",
      "diis_space = 8\r\n",
      "diis_damp = 0\r\n",
      "SCF conv_tol = 1e-08\r\n",
      "SCF conv_tol_grad = 0.0003\r\n",
      "SCF max_cycles = 70\r\n",
      "direct_scf = False\r\n",
      "max_memory 4000 MB (current use 1450 MB)\r\n",
      "******** <class 'gpu4pyscf.solvent.pcm.PCM'> ********\r\n",
      "lebedev_order = 29 (302 grids per sphere)\r\n",
      "eps = 46.826\r\n",
      "frozen = False\r\n",
      "equilibrium_solvation = False\r\n"
     ]
    },
    {
     "name": "stdout",
     "output_type": "stream",
     "text": [
      "tot grids = 256768\r\n"
     ]
    },
    {
     "name": "stdout",
     "output_type": "stream",
     "text": [
      "Default auxbasis aug-cc-pvdz-jkfit is used for O aug-cc-pVDZ\r\n",
      "Default auxbasis aug-cc-pvdz-jkfit is used for H aug-cc-pVDZ\r\n",
      "Default auxbasis aug-cc-pvdz-jkfit is used for C aug-cc-pVDZ\r\n",
      "Default auxbasis aug-cc-pvdz-jkfit is used for N aug-cc-pVDZ\r\n"
     ]
    },
    {
     "name": "stdout",
     "output_type": "stream",
     "text": [
      "<class 'gpu4pyscf.solvent.pcm.PCM'> E_diel = -0.0263514748349604\r\n",
      "Solvent Energy = -0.0263514748349604\r\n",
      "init E= -225.240754259502\r\n"
     ]
    },
    {
     "name": "stdout",
     "output_type": "stream",
     "text": [
      "<class 'gpu4pyscf.solvent.pcm.PCM'> E_diel = -0.0263599242187183\r\n",
      "Solvent Energy = -0.0263599242187183\r\n",
      "cycle= 1 E= -225.240334416078  delta_E= 0.00042  |ddm|= 0.0102\r\n"
     ]
    },
    {
     "name": "stdout",
     "output_type": "stream",
     "text": [
      "<class 'gpu4pyscf.solvent.pcm.PCM'> E_diel = -0.0263634993158976\r\n",
      "Solvent Energy = -0.0263634993158976\r\n",
      "cycle= 2 E= -225.240334667702  delta_E= -2.52e-07  |ddm|= 0.00151\r\n"
     ]
    },
    {
     "name": "stdout",
     "output_type": "stream",
     "text": [
      "<class 'gpu4pyscf.solvent.pcm.PCM'> E_diel = -0.0263586245384119\r\n",
      "Solvent Energy = -0.0263586245384119\r\n",
      "cycle= 3 E= -225.240334685189  delta_E= -1.75e-08  |ddm|= 0.000414\r\n"
     ]
    },
    {
     "name": "stdout",
     "output_type": "stream",
     "text": [
      "<class 'gpu4pyscf.solvent.pcm.PCM'> E_diel = -0.0263622772069553\r\n",
      "Solvent Energy = -0.0263622772069553\r\n",
      "cycle= 4 E= -225.24033469495  delta_E= -9.76e-09  |ddm|= 0.000188\r\n",
      "converged SCF energy = -225.24033469495\r\n",
      "\r\n",
      "\r\n",
      "******** <class 'gpu4pyscf.grad.rhf.PCMGradients_Scanner'> for <class 'pyscf.scf.hf.PCMDFRKS_Scanner'> ********\r\n",
      "unit = Eh/Bohr\r\n",
      "max_memory 4000 MB (current use 1452 MB)\r\n"
     ]
    },
    {
     "name": "stdout",
     "output_type": "stream",
     "text": [
      "--------------- PCMDFRKS_Scanner (+PCM) gradients ---------------\r\n",
      "         x                y                z\r\n",
      "0 N    -0.0000519053     0.0000310425     0.0000139854\r\n",
      "1 C     0.0000015734    -0.0001191907    -0.0001369895\r\n",
      "2 N     0.0000573674     0.0000182292     0.0000363920\r\n",
      "3 O     0.0000074584     0.0000797777     0.0000616832\r\n",
      "4 H    -0.0000064791    -0.0000078920    -0.0000041142\r\n",
      "5 H     0.0000046084     0.0000101808     0.0000073134\r\n",
      "6 H     0.0000072108    -0.0000135389     0.0000181458\r\n",
      "7 H    -0.0000044623     0.0000031929     0.0000130710\r\n",
      "----------------------------------------------\r\n",
      "cycle 9: E = -225.240334695  dE = -4.76001e-07  norm(grad) = 0.000230361\r\n",
      "Step    8 : Displace = \u001b[0m1.430e-03\u001b[0m/\u001b[0m2.438e-03\u001b[0m (rms/max) Trust = 3.000e-01 (\u001b[92m+\u001b[0m) Grad = \u001b[92m8.144e-05\u001b[0m/\u001b[92m1.816e-04\u001b[0m (rms/max) E (change) = -225.2403346949 (\u001b[92m-4.760e-07\u001b[0m) Quality = \u001b[0m0.920\u001b[0m\r\n",
      "Hessian Eigenvalues: 4.62410e-03 2.20745e-02 2.30040e-02 ... 5.42609e-01 8.65453e-01 1.13968e+00\r\n"
     ]
    },
    {
     "name": "stdout",
     "output_type": "stream",
     "text": [
      "\r\n",
      "Geometry optimization cycle 10\r\n",
      "Cartesian coordinates (Angstrom)\r\n",
      " Atom        New coordinates             dX        dY        dZ\r\n",
      "   N   1.126397  -0.335672   0.001489   -0.000129 -0.000152  0.000285\r\n",
      "   C   0.052441   0.508557  -0.016796   -0.000088  0.000048  0.000376\r\n",
      "   N  -1.174422  -0.091733   0.006611   -0.000251  0.000188 -0.000266\r\n",
      "   O   0.182574   1.737400  -0.052603    0.000078 -0.000091 -0.000470\r\n",
      "   H   1.002383  -1.317342  -0.203853   -0.000362 -0.000251  0.001002\r\n",
      "   H   2.018776   0.072217  -0.238374   -0.000168 -0.000296 -0.000050\r\n",
      "   H  -1.258000  -1.064697   0.266507   -0.000605  0.000024 -0.001092\r\n",
      "   H  -1.960678   0.506773   0.215870   -0.000321  0.000321 -0.000993\r\n",
      "New geometry\r\n",
      "   1 N      1.126397086791  -0.335671800950   0.001488674435 AA    2.128582001543  -0.634327771536   0.002813186971 Bohr\r\n",
      "\r\n",
      "   2 C      0.052441397517   0.508556590590  -0.016796473215 AA    0.099099878897   0.961032675057  -0.031740734234 Bohr\r\n",
      "\r\n",
      "   3 N     -1.174422078454  -0.091733085296   0.006610583749 AA   -2.219336082921  -0.173350407771   0.012492192809 Bohr\r\n",
      "\r\n",
      "   4 O      0.182573802120   1.737400203471  -0.052603135318 AA    0.345014483527   3.283210553323  -0.099405519045 Bohr\r\n",
      "\r\n",
      "   5 H      1.002382803184  -1.317342220996  -0.203852511539 AA    1.894228969991  -2.489416010010  -0.385225416614 Bohr\r\n",
      "\r\n",
      "   6 H      2.018776357317   0.072216824452  -0.238374102731 AA    3.814934422076   0.136470019801  -0.450461769350 Bohr\r\n",
      "\r\n",
      "   7 H     -1.257999538227  -1.064697468075   0.266507016655 AA   -2.377274592078  -2.011986620180   0.503625271752 Bohr\r\n",
      "\r\n",
      "   8 H     -1.960677942114   0.506773177643   0.215869671195 AA   -3.705144329071   0.957662513021   0.407934557158 Bohr\r\n",
      "\r\n",
      "\r\n",
      "\r\n",
      "******** <class 'pyscf.scf.hf.PCMDFRKS_Scanner'> ********\r\n",
      "method = PCMDFRKS_Scanner\r\n",
      "initial guess = minao\r\n",
      "damping factor = 0\r\n",
      "level_shift factor = 0\r\n",
      "DIIS = <class 'gpu4pyscf.scf.diis.CDIIS'>\r\n",
      "diis_start_cycle = 1\r\n",
      "diis_space = 8\r\n",
      "diis_damp = 0\r\n",
      "SCF conv_tol = 1e-08\r\n",
      "SCF conv_tol_grad = 0.0003\r\n",
      "SCF max_cycles = 70\r\n",
      "direct_scf = False\r\n",
      "max_memory 4000 MB (current use 1449 MB)\r\n",
      "******** <class 'gpu4pyscf.solvent.pcm.PCM'> ********\r\n",
      "lebedev_order = 29 (302 grids per sphere)\r\n",
      "eps = 46.826\r\n",
      "frozen = False\r\n",
      "equilibrium_solvation = False\r\n",
      "tot grids = 256768\r\n"
     ]
    },
    {
     "name": "stdout",
     "output_type": "stream",
     "text": [
      "Default auxbasis aug-cc-pvdz-jkfit is used for O aug-cc-pVDZ\r\n",
      "Default auxbasis aug-cc-pvdz-jkfit is used for H aug-cc-pVDZ\r\n",
      "Default auxbasis aug-cc-pvdz-jkfit is used for C aug-cc-pVDZ\r\n",
      "Default auxbasis aug-cc-pvdz-jkfit is used for N aug-cc-pVDZ\r\n"
     ]
    },
    {
     "name": "stdout",
     "output_type": "stream",
     "text": [
      "<class 'gpu4pyscf.solvent.pcm.PCM'> E_diel = -0.0263629263041322\r\n",
      "Solvent Energy = -0.0263629263041322\r\n",
      "init E= -225.240400185361\r\n"
     ]
    },
    {
     "name": "stdout",
     "output_type": "stream",
     "text": [
      "<class 'gpu4pyscf.solvent.pcm.PCM'> E_diel = -0.02635487268432\r\n",
      "Solvent Energy = -0.02635487268432\r\n",
      "cycle= 1 E= -225.2403347415  delta_E= 6.54e-05  |ddm|= 0.00328\r\n"
     ]
    },
    {
     "name": "stdout",
     "output_type": "stream",
     "text": [
      "<class 'gpu4pyscf.solvent.pcm.PCM'> E_diel = -0.0263618948702973\r\n",
      "Solvent Energy = -0.0263618948702973\r\n",
      "cycle= 2 E= -225.240334772586  delta_E= -3.11e-08  |ddm|= 0.000612\r\n"
     ]
    },
    {
     "name": "stdout",
     "output_type": "stream",
     "text": [
      "<class 'gpu4pyscf.solvent.pcm.PCM'> E_diel = -0.026354699008182\r\n",
      "Solvent Energy = -0.026354699008182\r\n",
      "cycle= 3 E= -225.24033478845  delta_E= -1.59e-08  |ddm|= 0.000298\r\n"
     ]
    },
    {
     "name": "stdout",
     "output_type": "stream",
     "text": [
      "<class 'gpu4pyscf.solvent.pcm.PCM'> E_diel = -0.0263572262122638\r\n",
      "Solvent Energy = -0.0263572262122638\r\n",
      "cycle= 4 E= -225.240334794021  delta_E= -5.57e-09  |ddm|= 0.00012\r\n",
      "converged SCF energy = -225.240334794021\r\n",
      "\r\n",
      "\r\n",
      "******** <class 'gpu4pyscf.grad.rhf.PCMGradients_Scanner'> for <class 'pyscf.scf.hf.PCMDFRKS_Scanner'> ********\r\n",
      "unit = Eh/Bohr\r\n",
      "max_memory 4000 MB (current use 1452 MB)\r\n"
     ]
    },
    {
     "name": "stdout",
     "output_type": "stream",
     "text": [
      "--------------- PCMDFRKS_Scanner (+PCM) gradients ---------------\r\n",
      "         x                y                z\r\n",
      "0 N     0.0000308456    -0.0000264842    -0.0000582030\r\n",
      "1 C     0.0000197563     0.0000601340     0.0001036392\r\n",
      "2 N    -0.0000402554    -0.0000273500    -0.0000079052\r\n",
      "3 O    -0.0000044373    -0.0000325868    -0.0000310443\r\n",
      "4 H    -0.0000145334     0.0000041342    -0.0000003947\r\n",
      "5 H    -0.0000067091     0.0000166542     0.0000046110\r\n",
      "6 H     0.0000197164    -0.0000045449    -0.0000018278\r\n",
      "7 H     0.0000108541     0.0000121279     0.0000004038\r\n",
      "----------------------------------------------\r\n",
      "cycle 10: E = -225.240334794  dE = -9.90709e-08  norm(grad) = 0.000159732\r\n"
     ]
    },
    {
     "name": "stdout",
     "output_type": "stream",
     "text": [
      "Step    9 : Displace = \u001b[92m4.608e-04\u001b[0m/\u001b[92m6.969e-04\u001b[0m (rms/max) Trust = 3.000e-01 (=) Grad = \u001b[92m5.647e-05\u001b[0m/\u001b[92m1.214e-04\u001b[0m (rms/max) E (change) = -225.2403347940 (\u001b[92m-9.907e-08\u001b[0m) Quality = \u001b[0m0.715\u001b[0m\r\n",
      "Hessian Eigenvalues: 4.62410e-03 2.20745e-02 2.30040e-02 ... 5.42609e-01 8.65453e-01 1.13968e+00\r\n",
      "Converged! =D\r\n",
      "\r\n",
      "    #==========================================================================#\r\n",
      "    #| If this code has benefited your research, please support us by citing: |#\r\n",
      "    #|                                                                        |#\r\n",
      "    #| Wang, L.-P.; Song, C.C. (2016) \"Geometry optimization made simple with |#\r\n",
      "    #| translation and rotation coordinates\", J. Chem, Phys. 144, 214108.     |#\r\n",
      "    #| http://dx.doi.org/10.1063/1.4952956                                    |#\r\n",
      "    #==========================================================================#\r\n",
      "    Time elapsed since start of run_optimizer: 12.769 seconds\r\n",
      "\r\n",
      "\r\n",
      "******** <class 'gpu4pyscf.solvent._attach_solvent.PCMDFRKS'> ********\r\n",
      "method = PCMDFRKS\r\n",
      "initial guess = minao\r\n",
      "damping factor = 0\r\n",
      "level_shift factor = 0\r\n",
      "DIIS = <class 'gpu4pyscf.scf.diis.CDIIS'>\r\n",
      "diis_start_cycle = 1\r\n",
      "diis_space = 8\r\n",
      "diis_damp = 0\r\n",
      "SCF conv_tol = 1e-08\r\n",
      "SCF conv_tol_grad = 0.0003\r\n",
      "SCF max_cycles = 70\r\n",
      "direct_scf = False\r\n",
      "max_memory 4000 MB (current use 1449 MB)\r\n",
      "******** <class 'gpu4pyscf.solvent.pcm.PCM'> ********\r\n",
      "lebedev_order = 29 (302 grids per sphere)\r\n",
      "eps = 46.826\r\n",
      "frozen = False\r\n",
      "equilibrium_solvation = False\r\n",
      "Initial guess from minao.\r\n"
     ]
    },
    {
     "name": "stdout",
     "output_type": "stream",
     "text": [
      "tot grids = 256768\r\n"
     ]
    },
    {
     "name": "stdout",
     "output_type": "stream",
     "text": [
      "Default auxbasis aug-cc-pvdz-jkfit is used for O aug-cc-pVDZ\r\n",
      "Default auxbasis aug-cc-pvdz-jkfit is used for H aug-cc-pVDZ\r\n",
      "Default auxbasis aug-cc-pvdz-jkfit is used for C aug-cc-pVDZ\r\n",
      "Default auxbasis aug-cc-pvdz-jkfit is used for N aug-cc-pVDZ\r\n"
     ]
    },
    {
     "name": "stdout",
     "output_type": "stream",
     "text": [
      "<class 'gpu4pyscf.solvent.pcm.PCM'> E_diel = -0.000243174663848204\r\n",
      "Solvent Energy = -0.000243174663848204\r\n",
      "init E= -225.87420845114\r\n"
     ]
    },
    {
     "name": "stdout",
     "output_type": "stream",
     "text": [
      "<class 'gpu4pyscf.solvent.pcm.PCM'> E_diel = -0.0431548884350609\r\n",
      "Solvent Energy = -0.0431548884350609\r\n",
      "cycle= 1 E= -225.120396736284  delta_E= 0.754  |ddm|= 3.05\r\n"
     ]
    },
    {
     "name": "stdout",
     "output_type": "stream",
     "text": [
      "<class 'gpu4pyscf.solvent.pcm.PCM'> E_diel = -0.0135919178336025\r\n",
      "Solvent Energy = -0.0135919178336025\r\n",
      "cycle= 2 E= -225.01065137499  delta_E= 0.11  |ddm|= 1.28\r\n"
     ]
    },
    {
     "name": "stdout",
     "output_type": "stream",
     "text": [
      "<class 'gpu4pyscf.solvent.pcm.PCM'> E_diel = -0.0269561441734815\r\n",
      "Solvent Energy = -0.0269561441734815\r\n",
      "cycle= 3 E= -225.239046664667  delta_E= -0.228  |ddm|= 0.736\r\n"
     ]
    },
    {
     "name": "stdout",
     "output_type": "stream",
     "text": [
      "<class 'gpu4pyscf.solvent.pcm.PCM'> E_diel = -0.0261101354825445\r\n",
      "Solvent Energy = -0.0261101354825445\r\n",
      "cycle= 4 E= -225.239937733176  delta_E= -0.000891  |ddm|= 0.0777\r\n"
     ]
    },
    {
     "name": "stdout",
     "output_type": "stream",
     "text": [
      "<class 'gpu4pyscf.solvent.pcm.PCM'> E_diel = -0.0264779577047139\r\n",
      "Solvent Energy = -0.0264779577047139\r\n",
      "cycle= 5 E= -225.240328341499  delta_E= -0.000391  |ddm|= 0.0329\r\n"
     ]
    },
    {
     "name": "stdout",
     "output_type": "stream",
     "text": [
      "<class 'gpu4pyscf.solvent.pcm.PCM'> E_diel = -0.0263719972214122\r\n",
      "Solvent Energy = -0.0263719972214122\r\n",
      "cycle= 6 E= -225.240333780031  delta_E= -5.44e-06  |ddm|= 0.00707\r\n"
     ]
    },
    {
     "name": "stdout",
     "output_type": "stream",
     "text": [
      "<class 'gpu4pyscf.solvent.pcm.PCM'> E_diel = -0.0263729065448074\r\n",
      "Solvent Energy = -0.0263729065448074\r\n",
      "cycle= 7 E= -225.240334665039  delta_E= -8.85e-07  |ddm|= 0.00251\r\n"
     ]
    },
    {
     "name": "stdout",
     "output_type": "stream",
     "text": [
      "<class 'gpu4pyscf.solvent.pcm.PCM'> E_diel = -0.0263587969863039\r\n",
      "Solvent Energy = -0.0263587969863039\r\n",
      "cycle= 8 E= -225.240334786631  delta_E= -1.22e-07  |ddm|= 0.00103\r\n"
     ]
    },
    {
     "name": "stdout",
     "output_type": "stream",
     "text": [
      "<class 'gpu4pyscf.solvent.pcm.PCM'> E_diel = -0.0263576383702572\r\n",
      "Solvent Energy = -0.0263576383702572\r\n",
      "cycle= 9 E= -225.240334793992  delta_E= -7.36e-09  |ddm|= 0.000225\r\n",
      "converged SCF energy = -225.240334793992\r\n",
      "**** MO energy ****\r\n",
      "MO #1   energy= -19.6086291879401  occ= 2\r\n",
      "MO #2   energy= -14.7735043550021  occ= 2\r\n",
      "MO #3   energy= -14.7734739268885  occ= 2\r\n",
      "MO #4   energy= -10.6843050578799  occ= 2\r\n",
      "MO #5   energy= -1.17064699406631  occ= 2\r\n",
      "MO #6   energy= -1.02908651323689  occ= 2\r\n",
      "MO #7   energy= -0.981528134473594 occ= 2\r\n",
      "MO #8   energy= -0.695339322528618 occ= 2\r\n",
      "MO #9   energy= -0.6230171410497   occ= 2\r\n",
      "MO #10  energy= -0.612740152051456 occ= 2\r\n",
      "MO #11  energy= -0.536976705428005 occ= 2\r\n",
      "MO #12  energy= -0.510365320616743 occ= 2\r\n",
      "MO #13  energy= -0.502243688715759 occ= 2\r\n",
      "MO #14  energy= -0.354387207321963 occ= 2\r\n",
      "MO #15  energy= -0.340198277917598 occ= 2\r\n",
      "MO #16  energy= -0.338918146638698 occ= 2\r\n",
      "MO #17  energy= -0.00162996569819608 occ= 0\r\n",
      "MO #18  energy= 0.017977864321605  occ= 0\r\n",
      "MO #19  energy= 0.0267107552831055 occ= 0\r\n",
      "MO #20  energy= 0.0430760413325681 occ= 0\r\n",
      "MO #21  energy= 0.0525674934781292 occ= 0\r\n",
      "MO #22  energy= 0.0624912086539539 occ= 0\r\n",
      "MO #23  energy= 0.0792244363512577 occ= 0\r\n",
      "MO #24  energy= 0.0881448986837616 occ= 0\r\n",
      "MO #25  energy= 0.106299195393018  occ= 0\r\n",
      "MO #26  energy= 0.120287891320867  occ= 0\r\n",
      "MO #27  energy= 0.128903021367025  occ= 0\r\n",
      "MO #28  energy= 0.13228848226521   occ= 0\r\n",
      "MO #29  energy= 0.14425807766658   occ= 0\r\n",
      "MO #30  energy= 0.152638548716076  occ= 0\r\n",
      "MO #31  energy= 0.170764465551614  occ= 0\r\n",
      "MO #32  energy= 0.176239861513399  occ= 0\r\n",
      "MO #33  energy= 0.203737260620691  occ= 0\r\n",
      "MO #34  energy= 0.214345226482255  occ= 0\r\n",
      "MO #35  energy= 0.238514366881152  occ= 0\r\n",
      "MO #36  energy= 0.251187636954828  occ= 0\r\n",
      "MO #37  energy= 0.252079326823845  occ= 0\r\n",
      "MO #38  energy= 0.261905145838002  occ= 0\r\n",
      "MO #39  energy= 0.271597156232128  occ= 0\r\n",
      "MO #40  energy= 0.306735447890672  occ= 0\r\n",
      "MO #41  energy= 0.3073641885943    occ= 0\r\n",
      "MO #42  energy= 0.318801634056339  occ= 0\r\n",
      "MO #43  energy= 0.366725249205151  occ= 0\r\n",
      "MO #44  energy= 0.368488726732569  occ= 0\r\n",
      "MO #45  energy= 0.401377398796711  occ= 0\r\n",
      "MO #46  energy= 0.40850004987807   occ= 0\r\n",
      "MO #47  energy= 0.421334747877875  occ= 0\r\n",
      "MO #48  energy= 0.437960307407914  occ= 0\r\n",
      "MO #49  energy= 0.480553679710614  occ= 0\r\n",
      "MO #50  energy= 0.487374954304164  occ= 0\r\n",
      "MO #51  energy= 0.498232774744218  occ= 0\r\n",
      "MO #52  energy= 0.508320002247624  occ= 0\r\n",
      "MO #53  energy= 0.525856595350714  occ= 0\r\n",
      "MO #54  energy= 0.534246092004171  occ= 0\r\n",
      "MO #55  energy= 0.535597048033873  occ= 0\r\n",
      "MO #56  energy= 0.554168141750925  occ= 0\r\n",
      "MO #57  energy= 0.568973362885186  occ= 0\r\n",
      "MO #58  energy= 0.583489952555044  occ= 0\r\n",
      "MO #59  energy= 0.596638980187704  occ= 0\r\n",
      "MO #60  energy= 0.647830394550763  occ= 0\r\n",
      "MO #61  energy= 0.686789774277957  occ= 0\r\n",
      "MO #62  energy= 0.696334225832803  occ= 0\r\n",
      "MO #63  energy= 0.712483538148941  occ= 0\r\n",
      "MO #64  energy= 0.719152206939416  occ= 0\r\n",
      "MO #65  energy= 0.751805479591812  occ= 0\r\n",
      "MO #66  energy= 0.767891365753264  occ= 0\r\n",
      "MO #67  energy= 0.778286542239029  occ= 0\r\n",
      "MO #68  energy= 0.831748488123334  occ= 0\r\n",
      "MO #69  energy= 0.859578914105389  occ= 0\r\n",
      "MO #70  energy= 0.868357579049229  occ= 0\r\n",
      "MO #71  energy= 0.902480585862595  occ= 0\r\n",
      "MO #72  energy= 0.917877338564396  occ= 0\r\n",
      "MO #73  energy= 0.930618523973347  occ= 0\r\n",
      "MO #74  energy= 1.00549955008069   occ= 0\r\n",
      "MO #75  energy= 1.04232514908808   occ= 0\r\n",
      "MO #76  energy= 1.05535650076168   occ= 0\r\n",
      "MO #77  energy= 1.09704078019468   occ= 0\r\n",
      "MO #78  energy= 1.1505309735277    occ= 0\r\n",
      "MO #79  energy= 1.16754626173929   occ= 0\r\n",
      "MO #80  energy= 1.24689840176887   occ= 0\r\n",
      "MO #81  energy= 1.29343676393823   occ= 0\r\n",
      "MO #82  energy= 1.29585295687767   occ= 0\r\n",
      "MO #83  energy= 1.31959508602453   occ= 0\r\n",
      "MO #84  energy= 1.33951266919219   occ= 0\r\n",
      "MO #85  energy= 1.43089179781584   occ= 0\r\n",
      "MO #86  energy= 1.47103584899168   occ= 0\r\n",
      "MO #87  energy= 1.5204034684865    occ= 0\r\n",
      "MO #88  energy= 1.59030201755499   occ= 0\r\n",
      "MO #89  energy= 1.66485700207644   occ= 0\r\n",
      "MO #90  energy= 1.67327420797867   occ= 0\r\n",
      "MO #91  energy= 1.6972492297221    occ= 0\r\n",
      "MO #92  energy= 1.75081909632012   occ= 0\r\n",
      "MO #93  energy= 1.75652762423874   occ= 0\r\n",
      "MO #94  energy= 1.79637620720903   occ= 0\r\n",
      "MO #95  energy= 1.90988618321616   occ= 0\r\n",
      "MO #96  energy= 1.91872840332489   occ= 0\r\n",
      "MO #97  energy= 1.95747250761222   occ= 0\r\n",
      "MO #98  energy= 1.99643488894425   occ= 0\r\n",
      "MO #99  energy= 2.03147208034856   occ= 0\r\n",
      "MO #100 energy= 2.05314324617511   occ= 0\r\n",
      "MO #101 energy= 2.07619248746699   occ= 0\r\n",
      "MO #102 energy= 2.13227807690233   occ= 0\r\n",
      "MO #103 energy= 2.15086659133717   occ= 0\r\n",
      "MO #104 energy= 2.15458340334765   occ= 0\r\n",
      "MO #105 energy= 2.20637605592591   occ= 0\r\n",
      "MO #106 energy= 2.21606128235613   occ= 0\r\n",
      "MO #107 energy= 2.27865437549181   occ= 0\r\n",
      "MO #108 energy= 2.30117731462113   occ= 0\r\n",
      "MO #109 energy= 2.36304799949245   occ= 0\r\n",
      "MO #110 energy= 2.37745547982396   occ= 0\r\n",
      "MO #111 energy= 2.42862053077437   occ= 0\r\n",
      "MO #112 energy= 2.53683634744264   occ= 0\r\n",
      "MO #113 energy= 2.54801456801731   occ= 0\r\n",
      "MO #114 energy= 2.58745657924164   occ= 0\r\n",
      "MO #115 energy= 2.67573866859354   occ= 0\r\n",
      "MO #116 energy= 2.7436052947461    occ= 0\r\n",
      "MO #117 energy= 2.78376752772432   occ= 0\r\n",
      "MO #118 energy= 2.86996147296915   occ= 0\r\n",
      "MO #119 energy= 3.06294350040434   occ= 0\r\n",
      "MO #120 energy= 3.10300320365733   occ= 0\r\n",
      "MO #121 energy= 3.16118441604929   occ= 0\r\n",
      "MO #122 energy= 3.19250988264097   occ= 0\r\n",
      "MO #123 energy= 3.40729081037498   occ= 0\r\n",
      "MO #124 energy= 3.44199419589101   occ= 0\r\n",
      "MO #125 energy= 3.47505455767438   occ= 0\r\n",
      "MO #126 energy= 3.57220693101799   occ= 0\r\n",
      "MO #127 energy= 3.69611521817201   occ= 0\r\n",
      "MO #128 energy= 3.79730596738544   occ= 0\r\n"
     ]
    },
    {
     "name": "stdout",
     "output_type": "stream",
     "text": [
      " ** Mulliken pop on meta-lowdin orthogonal AOs  **\r\n",
      " ** Mulliken pop  **\r\n",
      "pop of  0 N 1s            1.99996\r\n",
      "pop of  0 N 2s            1.25277\r\n",
      "pop of  0 N 3s            0.00375\r\n",
      "pop of  0 N 4s            0.00160\r\n",
      "pop of  0 N 2px           1.21745\r\n",
      "pop of  0 N 2py           1.22877\r\n",
      "pop of  0 N 2pz           1.71571\r\n",
      "pop of  0 N 3px           0.00361\r\n",
      "pop of  0 N 3py           0.00455\r\n",
      "pop of  0 N 3pz           0.01352\r\n",
      "pop of  0 N 4px           0.00112\r\n",
      "pop of  0 N 4py           0.00164\r\n",
      "pop of  0 N 4pz           0.00029\r\n",
      "pop of  0 N 3dxy          0.00112\r\n",
      "pop of  0 N 3dyz          0.00064\r\n",
      "pop of  0 N 3dz^2         0.00181\r\n",
      "pop of  0 N 3dxz          0.00071\r\n",
      "pop of  0 N 3dx2-y2       0.00062\r\n",
      "pop of  0 N 4dxy          0.00065\r\n",
      "pop of  0 N 4dyz          0.00058\r\n",
      "pop of  0 N 4dz^2         0.00061\r\n",
      "pop of  0 N 4dxz          0.00056\r\n",
      "pop of  0 N 4dx2-y2       0.00274\r\n",
      "pop of  1 C 1s            1.99995\r\n",
      "pop of  1 C 2s            0.85089\r\n",
      "pop of  1 C 3s            0.00815\r\n",
      "pop of  1 C 4s            0.00249\r\n",
      "pop of  1 C 2px           0.89152\r\n",
      "pop of  1 C 2py           0.85362\r\n",
      "pop of  1 C 2pz           0.83196\r\n",
      "pop of  1 C 3px           0.00728\r\n",
      "pop of  1 C 3py           0.01271\r\n",
      "pop of  1 C 3pz           0.00197\r\n",
      "pop of  1 C 4px           0.00132\r\n",
      "pop of  1 C 4py           0.00097\r\n",
      "pop of  1 C 4pz           0.00040\r\n",
      "pop of  1 C 3dxy          0.00839\r\n",
      "pop of  1 C 3dyz          0.01125\r\n",
      "pop of  1 C 3dz^2         0.00185\r\n",
      "pop of  1 C 3dxz          0.00818\r\n",
      "pop of  1 C 3dx2-y2       0.00169\r\n",
      "pop of  1 C 4dxy          0.00089\r\n",
      "pop of  1 C 4dyz          0.00108\r\n",
      "pop of  1 C 4dz^2         0.00012\r\n",
      "pop of  1 C 4dxz          0.00174\r\n",
      "pop of  1 C 4dx2-y2       0.00181\r\n",
      "pop of  2 N 1s            1.99996\r\n",
      "pop of  2 N 2s            1.25247\r\n",
      "pop of  2 N 3s            0.00375\r\n",
      "pop of  2 N 4s            0.00160\r\n",
      "pop of  2 N 2px           1.20317\r\n",
      "pop of  2 N 2py           1.24773\r\n",
      "pop of  2 N 2pz           1.71119\r\n",
      "pop of  2 N 3px           0.00360\r\n",
      "pop of  2 N 3py           0.00465\r\n",
      "pop of  2 N 3pz           0.01344\r\n",
      "pop of  2 N 4px           0.00137\r\n",
      "pop of  2 N 4py           0.00139\r\n",
      "pop of  2 N 4pz           0.00029\r\n",
      "pop of  2 N 3dxy          0.00073\r\n",
      "pop of  2 N 3dyz          0.00076\r\n",
      "pop of  2 N 3dz^2         0.00178\r\n",
      "pop of  2 N 3dxz          0.00060\r\n",
      "pop of  2 N 3dx2-y2       0.00102\r\n",
      "pop of  2 N 4dxy          0.00147\r\n",
      "pop of  2 N 4dyz          0.00069\r\n",
      "pop of  2 N 4dz^2         0.00061\r\n",
      "pop of  2 N 4dxz          0.00049\r\n",
      "pop of  2 N 4dx2-y2       0.00189\r\n",
      "pop of  3 O 1s            1.99998\r\n",
      "pop of  3 O 2s            1.69697\r\n",
      "pop of  3 O 3s            0.01172\r\n",
      "pop of  3 O 4s            0.00057\r\n",
      "pop of  3 O 2px           1.85600\r\n",
      "pop of  3 O 2py           1.45774\r\n",
      "pop of  3 O 2pz           1.58382\r\n",
      "pop of  3 O 3px           0.00980\r\n",
      "pop of  3 O 3py           0.00155\r\n",
      "pop of  3 O 3pz           0.00438\r\n",
      "pop of  3 O 4px           0.00063\r\n",
      "pop of  3 O 4py           0.00056\r\n",
      "pop of  3 O 4pz           0.00077\r\n",
      "pop of  3 O 3dxy          0.00206\r\n",
      "pop of  3 O 3dyz          0.00297\r\n",
      "pop of  3 O 3dz^2         0.00196\r\n",
      "pop of  3 O 3dxz          0.00017\r\n",
      "pop of  3 O 3dx2-y2       0.00527\r\n",
      "pop of  3 O 4dxy          0.00029\r\n",
      "pop of  3 O 4dyz          0.00002\r\n",
      "pop of  3 O 4dz^2         0.00029\r\n",
      "pop of  3 O 4dxz          0.00023\r\n",
      "pop of  3 O 4dx2-y2       0.00050\r\n",
      "pop of  4 H 1s            0.71941\r\n",
      "pop of  4 H 2s            0.00559\r\n",
      "pop of  4 H 3s            0.00361\r\n",
      "pop of  4 H 2px           0.00043\r\n",
      "pop of  4 H 2py           0.00270\r\n",
      "pop of  4 H 2pz           0.00398\r\n",
      "pop of  4 H 3px           0.00099\r\n",
      "pop of  4 H 3py           0.00056\r\n",
      "pop of  4 H 3pz           0.00133\r\n",
      "pop of  5 H 1s            0.71689\r\n",
      "pop of  5 H 2s            0.00656\r\n",
      "pop of  5 H 3s            0.00334\r\n",
      "pop of  5 H 2px           0.00253\r\n",
      "pop of  5 H 2py           0.00084\r\n",
      "pop of  5 H 2pz           0.00382\r\n",
      "pop of  5 H 3px           0.00078\r\n",
      "pop of  5 H 3py           0.00145\r\n",
      "pop of  5 H 3pz           0.00126\r\n",
      "pop of  6 H 1s            0.71935\r\n",
      "pop of  6 H 2s            0.00559\r\n",
      "pop of  6 H 3s            0.00361\r\n",
      "pop of  6 H 2px           0.00067\r\n",
      "pop of  6 H 2py           0.00247\r\n",
      "pop of  6 H 2pz           0.00397\r\n",
      "pop of  6 H 3px           0.00105\r\n",
      "pop of  6 H 3py           0.00051\r\n",
      "pop of  6 H 3pz           0.00132\r\n",
      "pop of  7 H 1s            0.71686\r\n",
      "pop of  7 H 2s            0.00656\r\n",
      "pop of  7 H 3s            0.00334\r\n",
      "pop of  7 H 2px           0.00231\r\n",
      "pop of  7 H 2py           0.00108\r\n",
      "pop of  7 H 2pz           0.00380\r\n",
      "pop of  7 H 3px           0.00106\r\n",
      "pop of  7 H 3py           0.00115\r\n",
      "pop of  7 H 3pz           0.00127\r\n",
      " ** Mulliken atomic charges  **\r\n",
      "charge of    0N =     -0.45480\r\n",
      "charge of    1C =      0.49978\r\n",
      "charge of    2N =     -0.45465\r\n",
      "charge of    3O =     -0.63826\r\n",
      "charge of    4H =      0.26139\r\n",
      "charge of    5H =      0.26253\r\n",
      "charge of    6H =      0.26145\r\n",
      "charge of    7H =      0.26256\r\n",
      "Dipole moment(X, Y, Z, Debye): -0.61249, -5.75006,  0.16030\r\n",
      "Optimized geometry saved to 'cluster_rep_conformers/rep_of_cluster_2_aug-cc-pVDZ_M06-2X.xyz'.\r\n",
      "Final energy: -225.24033479 Hartree (-141340.337246 kcal/mol)\r\n",
      "\r\n",
      "OPT Time: 14.38 seconds\r\n",
      "################################################################\r\n",
      "Finished rep_of_cluster_2.sdf | basis: aug-cc-pVDZ | xc: M06-2X in 14.39 s\r\n",
      "\r\n",
      "======================================================================\r\n",
      "All calculations completed!\r\n"
     ]
    }
   ],
   "source": [
    "!python /work/dft_main.py DFT {cluster_reps_dir} {dielectric_value} "
   ]
  },
  {
   "cell_type": "markdown",
   "id": "f0f7d5b9-6e34-42e0-866b-1135a2938ceb",
   "metadata": {
    "papermill": {
     "duration": 0.023437,
     "end_time": "2025-08-18T04:30:01.504259",
     "exception": false,
     "start_time": "2025-08-18T04:30:01.480822",
     "status": "completed"
    },
    "tags": []
   },
   "source": [
    "# Step 9: Geometry optimization of charged conformers using DFT"
   ]
  },
  {
   "cell_type": "code",
   "execution_count": 32,
   "id": "a3911d3f",
   "metadata": {
    "execution": {
     "iopub.execute_input": "2025-08-18T04:30:01.523690Z",
     "iopub.status.busy": "2025-08-18T04:30:01.523562Z",
     "iopub.status.idle": "2025-08-18T04:30:01.527282Z",
     "shell.execute_reply": "2025-08-18T04:30:01.527096Z"
    },
    "papermill": {
     "duration": 0.014012,
     "end_time": "2025-08-18T04:30:01.527685",
     "exception": false,
     "start_time": "2025-08-18T04:30:01.513673",
     "status": "completed"
    },
    "tags": []
   },
   "outputs": [
    {
     "name": "stdout",
     "output_type": "stream",
     "text": [
      "Renamed output will be: cluster_rep_conformers/rep_of_cluster_1_aug-cc-pVDZ_M06-2X.sdf\n",
      "Renamed output will be: cluster_rep_conformers/rep_of_cluster_2_aug-cc-pVDZ_M06-2X.sdf\n"
     ]
    }
   ],
   "source": [
    "# Basis and XC\n",
    "basis_sets = ['aug-cc-pVDZ']\n",
    "xc_functionals = ['M06-2X']  # Add more if needed\n",
    "\n",
    "for basis in basis_sets:\n",
    "        for xc in xc_functionals:\n",
    "             # Sanitize names for filename safety\n",
    "            basis_tag = basis.replace(\"(\", \"\").replace(\")\", \"\").replace(\"*\", \"\").replace(\"+\", \"\").replace(\"/\", \"-\").replace(\" \", \"\")\n",
    "            xc_tag = xc.replace(\"(\", \"\").replace(\")\", \"\").replace(\"*\", \"\").replace(\"+\", \"\").replace(\"/\", \"-\").replace(\" \", \"\")\n",
    "\n",
    "# Get list of SDF files\n",
    "sdf_files = sorted(glob.glob(os.path.join(cluster_reps_dir, \"*.sdf\")))\n",
    "\n",
    "# Loop over each SDF file\n",
    "for sdf_path in sdf_files:\n",
    "    sdf_filename = os.path.basename(sdf_path)\n",
    "    sdf_stem = os.path.splitext(sdf_filename)[0]  # Remove .sdf extension\n",
    "\n",
    "    for basis in basis_sets:\n",
    "        for xc in xc_functionals:\n",
    "            \n",
    "            # Output file names\n",
    "            new_filename = f\"{sdf_stem}_{basis_tag}_{xc_tag}.sdf\"\n",
    "            new_filepath = os.path.join(cluster_reps_dir, new_filename)\n",
    "            shutil.copy(sdf_path, new_filepath)\n",
    "            print(\"Renamed output will be:\", new_filepath)\n"
   ]
  },
  {
   "cell_type": "code",
   "execution_count": 33,
   "id": "cc15212d",
   "metadata": {
    "execution": {
     "iopub.execute_input": "2025-08-18T04:30:01.547092Z",
     "iopub.status.busy": "2025-08-18T04:30:01.546953Z",
     "iopub.status.idle": "2025-08-18T04:30:01.696488Z",
     "shell.execute_reply": "2025-08-18T04:30:01.696232Z"
    },
    "papermill": {
     "duration": 0.15954,
     "end_time": "2025-08-18T04:30:01.696901",
     "exception": false,
     "start_time": "2025-08-18T04:30:01.537361",
     "status": "completed"
    },
    "tags": []
   },
   "outputs": [
    {
     "name": "stdout",
     "output_type": "stream",
     "text": [
      "rep_of_cluster_2.sdf classified as deprotonate_basic\n",
      "Classification for rep_of_cluster_2.sdf: deprotonate_basic\n",
      "Deprotonating N-H site at atom index 3 with Mulliken charge -0.454648\n",
      "Deprotonated molecule saved as '/work/M2/cluster_rep_conformers/treated/rep_of_cluster_2_deprotonated.sdf'\n",
      "rep_of_cluster_1.sdf classified as deprotonate_basic\n",
      "Classification for rep_of_cluster_1.sdf: deprotonate_basic\n",
      "Deprotonating N-H site at atom index 1 with Mulliken charge -0.452880\n",
      "Deprotonated molecule saved as '/work/M2/cluster_rep_conformers/treated/rep_of_cluster_1_deprotonated.sdf'\n"
     ]
    }
   ],
   "source": [
    "\n",
    "# Define base paths\n",
    "base_dir = f\"/work/{output_dir}/cluster_rep_conformers\"\n",
    "treated_dir = os.path.join(base_dir, \"treated\")\n",
    "\n",
    "# Run the external Python script\n",
    "subprocess.run([\n",
    "    \"python\",\n",
    "    \"/work/ionization_tool_with_ranking/main.py\",\n",
    "    base_dir\n",
    "], check=True)\n",
    "\n",
    "# Move all .sdf files from treated/ to base_dir\n",
    "sdf_files = glob.glob(os.path.join(treated_dir, \"*.sdf\"))\n",
    "for file_path in sdf_files:\n",
    "    shutil.move(file_path, base_dir)\n",
    "\n",
    "# Remove the treated directory\n",
    "shutil.rmtree(treated_dir)\n",
    "\n"
   ]
  },
  {
   "cell_type": "code",
   "execution_count": 34,
   "id": "034c7380",
   "metadata": {
    "execution": {
     "iopub.execute_input": "2025-08-18T04:30:01.716092Z",
     "iopub.status.busy": "2025-08-18T04:30:01.716001Z",
     "iopub.status.idle": "2025-08-18T04:30:32.164768Z",
     "shell.execute_reply": "2025-08-18T04:30:32.164362Z"
    },
    "papermill": {
     "duration": 30.459131,
     "end_time": "2025-08-18T04:30:32.165523",
     "exception": false,
     "start_time": "2025-08-18T04:30:01.706392",
     "status": "completed"
    },
    "tags": []
   },
   "outputs": [
    {
     "name": "stdout",
     "output_type": "stream",
     "text": [
      "Found 2 SDF files in cluster_rep_conformers\r\n",
      "Basis sets: ['aug-cc-pVDZ']\r\n",
      "XC functionals: ['M06-2X']\r\n",
      "Dielectric constant: 46.826\r\n",
      "======================================================================\r\n",
      "Charge of cluster_rep_conformers/rep_of_cluster_1_deprotonated.sdf: -1\r\n",
      "#INFO: **** input file is /work/dft_main.py ****\r\n",
      "from rdkit import Chem\r\n",
      "from pyscf import gto, dft\r\n",
      "from gpu4pyscf.dft import rks\r\n",
      "from pyscf.geomopt import geometric_solver\r\n",
      "import sys\r\n",
      "import glob\r\n",
      "import time\r\n",
      "import re\r\n",
      "\r\n",
      "\r\n",
      "import os\r\n",
      "# Specify which GPUs to use\r\n",
      "os.environ[\"CUDA_VISIBLE_DEVICES\"] = \"0,1\"\r\n",
      "os.environ[\"OMP_NUM_THREADS\"] = \"25\"\r\n",
      "os.environ[\"MKL_NUM_THREADS\"] = \"25\"\r\n",
      "os.environ[\"OPENBLAS_NUM_THREADS\"] = \"25\"\r\n",
      "\r\n",
      "\r\n",
      "class DFTClass:\r\n",
      "    def __init__(self, sdf_path, eps):\r\n",
      "        self.sdf_path= sdf_path\r\n",
      "        self.eps=eps\r\n",
      "    \r\n",
      "    def get_atom_list(self):\r\n",
      "        molecules = Chem.SDMolSupplier(self.sdf_path, removeHs=False)\r\n",
      "        mol = next(molecules)  # Assuming you have one molecule in the SDF\r\n",
      "\r\n",
      "        # Get the first conformer to access 3D coordinates\r\n",
      "        conformer = mol.GetConformer()\r\n",
      "\r\n",
      "        # Extract atomic symbols and coordinates\r\n",
      "        atom_list = []\r\n",
      "        for atom in mol.GetAtoms():\r\n",
      "            pos = conformer.GetAtomPosition(atom.GetIdx())\r\n",
      "            atom_list.append((atom.GetSymbol(), (pos.x, pos.y, pos.z)))\r\n",
      "        return atom_list\r\n",
      "       \r\n",
      "    def extract_charge_info(self):\r\n",
      "        \"\"\"\r\n",
      "        Extracts total formal charge from M  CHG lines in a .sdf file.\r\n",
      "        If no M  CHG line is found, assumes formal charge = 0.\r\n",
      "        \"\"\"\r\n",
      "        charges = {}\r\n",
      "        with open(self.sdf_path) as f:\r\n",
      "            for line in f:\r\n",
      "              if line.startswith(\"M  CHG\"):\r\n",
      "                 tokens = line.strip().split()\r\n",
      "                 n_entries = int(tokens[2])\r\n",
      "                 for i in range(n_entries):\r\n",
      "                    atom_idx = int(tokens[3 + i * 2])\r\n",
      "                    charge = int(tokens[4 + i * 2])\r\n",
      "                    charges[atom_idx] = charge\r\n",
      "\r\n",
      "        if charges:\r\n",
      "            formal_charge = sum(charges.values())\r\n",
      "        else:\r\n",
      "            formal_charge = 0  # Default if no charge info present\r\n",
      "\r\n",
      "        #print(f\"{os.path.basename(sdf_path)}: formal charge = {formal_charge}\")\r\n",
      "        return formal_charge  \r\n",
      "    \r\n",
      "    def get_charge(self, cluster_reps_dir):\r\n",
      "        \"\"\"\r\n",
      "        Reads the number of atoms directly from an SDF file.\r\n",
      "\r\n",
      "        Args:\r\n",
      "            file_path: The path to the SDF file.\r\n",
      "\r\n",
      "        Returns:\r\n",
      "            An integer representing the number of atoms, or None if the\r\n",
      "            information cannot be extracted or the file cannot be read.\r\n",
      "        \"\"\"\r\n",
      "        def extract_charge_info_static(path):\r\n",
      "            \"\"\"\r\n",
      "            Extracts total formal charge from M  CHG lines in a .sdf file.\r\n",
      "            If no M  CHG line is found, assumes formal charge = 0.\r\n",
      "            \"\"\"\r\n",
      "            charges = {}\r\n",
      "            with open(path) as f:\r\n",
      "                for line in f:\r\n",
      "                    if line.startswith(\"M  CHG\"):\r\n",
      "                        tokens = line.strip().split()\r\n",
      "                        n_entries = int(tokens[2])\r\n",
      "                        for i in range(n_entries):\r\n",
      "                            atom_idx = int(tokens[3 + i * 2])\r\n",
      "                            charge = int(tokens[4 + i * 2])\r\n",
      "                            charges[atom_idx] = charge\r\n",
      "\r\n",
      "            if charges:\r\n",
      "                formal_charge = sum(charges.values())\r\n",
      "            else:\r\n",
      "                formal_charge = 0  # Default if no charge info present\r\n",
      "\r\n",
      "            #print(f\"{os.path.basename(sdf_path)}: formal charge = {formal_charge}\")\r\n",
      "            return formal_charge \r\n",
      "\r\n",
      "\r\n",
      "        def get_num_atoms(path):\r\n",
      "            try:\r\n",
      "                with open(path, 'r') as f:\r\n",
      "                    # Skip the first three lines of the SDF file\r\n",
      "                    for _ in range(3):\r\n",
      "                        f.readline()\r\n",
      "                    # Read the fourth line which contains the number of atoms\r\n",
      "                    fourth_line = f.readline().strip()\r\n",
      "                    parts = fourth_line.split()\r\n",
      "                    if parts:\r\n",
      "                        try:\r\n",
      "                            num_atoms = int(parts[0])\r\n",
      "                            return num_atoms\r\n",
      "                        except ValueError:\r\n",
      "                            print(\"Error: Could not convert atom count to integer.\")\r\n",
      "                            return None\r\n",
      "                    else:\r\n",
      "                        print(\"Error: Fourth line of SDF is empty.\")\r\n",
      "                        return None\r\n",
      "            except FileNotFoundError:\r\n",
      "                print(f\"Error: File not found at {self.sdf_path}\")\r\n",
      "                return None\r\n",
      "            except Exception as e:\r\n",
      "                print(f\"An error occurred while reading the file: {e}\")\r\n",
      "                return None\r\n",
      "            \r\n",
      "        #Get the charge\r\n",
      "        A_atoms = get_num_atoms(self.sdf_path)\r\n",
      "        clean_path = re.sub(r'(_protonated|_deprotonated)', '', self.sdf_path)\r\n",
      "        HA_atoms = get_num_atoms(clean_path)\r\n",
      "        formal_charge_on_HA=extract_charge_info_static(os.path.join(cluster_reps_dir, \"rep_of_cluster_1.sdf\"))\r\n",
      "        # Check for invalid (None) atom counts\r\n",
      "        charge=formal_charge_on_HA + (A_atoms-HA_atoms)\r\n",
      "        print(f\"Charge of {self.sdf_path}: {charge}\")\r\n",
      "        return charge\r\n",
      "     \r\n",
      "    def opti_PCM(self, mol, xyz_filename, charge_filename, xc):\r\n",
      "        start_time = time.time()\r\n",
      "        # Set up the DFT calculation\r\n",
      "        mf = rks.RKS(mol).density_fit()  # Use density fitting for efficiency\r\n",
      "        mf.xc = xc  # Set the exchange-correlation functional\r\n",
      "\r\n",
      "        # SCF convergence Criteria\r\n",
      "        mf.conv_tol = 1e-8  # Energy convergence\r\n",
      "        mf.conv_tol_grad = 3e-4  # Gradient convergence\r\n",
      "        mf.max_cycle = 70  # Increase max iterations if needed\r\n",
      "\r\n",
      "        # Apply the solvation model\r\n",
      "        mf = mf.PCM()  # Initialize solvation model\r\n",
      "        mf.grids.atom_grid = (99, 590)\r\n",
      "        mf.with_solvent.lebedev_order = 29  # 302 Lebedev grids\r\n",
      "        mf.with_solvent.method = 'IEF-PCM'  # Can be C-PCM, SS(V)PE, COSMO\r\n",
      "        mf.with_solvent.eps = self.eps  # Set the solvent's dielectric constant\r\n",
      "\r\n",
      "        # Perform geometry optimization\r\n",
      "        print(\"Starting geometry optimization...\")\r\n",
      "        mol_opt = geometric_solver.optimize(mf, max_steps=200, xtol=1e-8, gtol=3e-4, etol=1e-8)\r\n",
      "\r\n",
      "        # Output optimized geometry\r\n",
      "        optimized_atoms = [(atom[0], mol_opt.atom_coords(unit='Angstrom')[i]) for i, atom in enumerate(mol_opt.atom)]\r\n",
      "\r\n",
      "        # Ensure SCF calculation is performed after optimization\r\n",
      "        mf_scf = rks.RKS(mol_opt).density_fit()\r\n",
      "        mf_scf.xc = xc\r\n",
      "\r\n",
      "        # SCF convergence Criteria\r\n",
      "        mf_scf.conv_tol = 1e-8  # Energy convergence\r\n",
      "        mf_scf.conv_tol_grad = 3e-4  # Gradient convergence\r\n",
      "        mf_scf.max_cycle = 70  # Increase max iterations if needed\r\n",
      "\r\n",
      "        # Apply the solvation model\r\n",
      "        mf_scf = mf_scf.PCM()  # Initialize solvation model\r\n",
      "        mf_scf.grids.atom_grid = (99, 590)\r\n",
      "        mf_scf.with_solvent.lebedev_order = 29  # 302 Lebedev grids\r\n",
      "        mf_scf.with_solvent.method = 'IEF-PCM'  # Can be C-PCM, SS(V)PE, COSMO\r\n",
      "        mf_scf.with_solvent.eps = self.eps  # Set the solvent's dielectric constant\r\n",
      "\r\n",
      "        #Run the scf\r\n",
      "        mf_scf.kernel()\r\n",
      "\r\n",
      "        #Mulliken Charge Analysis\r\n",
      "        analysis = mf_scf.analyze()\r\n",
      "        mulliken_charges = analysis[0][1]  # Get the Mulliken charges\r\n",
      "\r\n",
      "        # Save captured output to file\r\n",
      "        with open(charge_filename, \"w\") as charge_file:\r\n",
      "            charge_file.write(\"Atom Index  Atom Symbol  Mulliken Charge\\n\")\r\n",
      "            for i, charge in enumerate(mulliken_charges):\r\n",
      "                atom_symbol = mol.atom_symbol(i)  # Get the atom symbol\r\n",
      "                charge_file.write(f\"{i+1}             {atom_symbol}        {charge:.6f}\\n\")\r\n",
      "\r\n",
      "\r\n",
      "        # Extract the final energy in Hartree\r\n",
      "        final_energy_hartree = mf_scf.e_tot\r\n",
      "\r\n",
      "        # Convert energy from Hartree to kJ/mol\r\n",
      "        #hartree_to_kjmol = 2625.5\r\n",
      "        hartree_to_kcalmol=627.509\r\n",
      "        final_energy_kcalmol = final_energy_hartree * hartree_to_kcalmol\r\n",
      "\r\n",
      "        # Save optimized geometry to XYZ file\r\n",
      "        with open(xyz_filename, 'w') as xyz_file:\r\n",
      "            xyz_file.write(f\"{len(optimized_atoms)}\\n\")\r\n",
      "            xyz_file.write(f\"Energy: {final_energy_kcalmol:.6f} kcal/mol\\n\")\r\n",
      "            for symbol, coords in optimized_atoms:\r\n",
      "                formatted_coords = ' '.join(f\"{coord:.8f}\" for coord in coords)\r\n",
      "                xyz_file.write(f\"{symbol} {formatted_coords}\\n\")\r\n",
      "\r\n",
      "        print(f\"Optimized geometry saved to '{xyz_filename}'.\")\r\n",
      "\r\n",
      "        # Print the final energy\r\n",
      "        print(f\"Final energy: {final_energy_hartree:.8f} Hartree ({final_energy_kcalmol:.6f} kcal/mol)\")\r\n",
      "\r\n",
      "        # Record the end time\r\n",
      "        opt_time = time.time()\r\n",
      "\r\n",
      "        # Calculate and print the total run time\r\n",
      "        total_opt_time = opt_time - start_time\r\n",
      "        print(f\"\\nOPT Time: {total_opt_time:.2f} seconds\")\r\n",
      "\r\n",
      "        print(\"################################################################\")\r\n",
      "        return mol_opt\r\n",
      "    \r\n",
      "\r\n",
      "def run_DFT(cluster_reps_dir, dielectric_value, mode='normal'):\r\n",
      "    \"\"\"\r\n",
      "    Main function that processes SDF files with specified basis sets and XC functionals.\r\n",
      "    Accepts command-line argument for dielectric constant.\r\n",
      "    \"\"\"\r\n",
      "    \r\n",
      "    \r\n",
      "    # Define basis sets and XC functionals to loop over\r\n",
      "    basis_sets = ['aug-cc-pVDZ']\r\n",
      "    xc_functionals = ['M06-2X']  # Add more if needed\r\n",
      "\r\n",
      "    # Get list of charged SDF files\r\n",
      "    #sdf_files = sorted(glob.glob(os.path.join(cluster_reps_dir, file_pattern)))\r\n",
      "    if mode == 'deproto':\r\n",
      "        sdf_files = sorted(glob.glob(os.path.join(cluster_reps_dir, \"*nated.sdf\")))\r\n",
      "    else:\r\n",
      "        sdf_files = sorted(glob.glob(os.path.join(cluster_reps_dir, \"*.sdf\")))\r\n",
      "\r\n",
      "    if not sdf_files:\r\n",
      "        print(f\"No SDF files found in {cluster_reps_dir}\")\r\n",
      "        return\r\n",
      "\r\n",
      "    print(f\"Found {len(sdf_files)} SDF files in {cluster_reps_dir}\")\r\n",
      "    print(f\"Basis sets: {basis_sets}\")\r\n",
      "    print(f\"XC functionals: {xc_functionals}\")\r\n",
      "    print(f\"Dielectric constant: {dielectric_value}\")\r\n",
      "    print(\"=\" * 70)\r\n",
      "\r\n",
      "    # Loop over each SDF file\r\n",
      "    for sdf_path in sdf_files:\r\n",
      "        dft_obj = DFTClass(sdf_path, dielectric_value)\r\n",
      "        atom_list = dft_obj.get_atom_list()\r\n",
      "\r\n",
      "        for basis in basis_sets:\r\n",
      "            for xc in xc_functionals:\r\n",
      "                start_time_sub = time.time()\r\n",
      "\r\n",
      "                # Use the chosen charge method\r\n",
      "                if mode == 'deproto':\r\n",
      "                    charge_dft = dft_obj.get_charge(cluster_reps_dir)\r\n",
      "                else:\r\n",
      "                    charge_dft = dft_obj.extract_charge_info()\r\n",
      "\r\n",
      "                # Build molecule with given basis\r\n",
      "                mol1 = gto.M(\r\n",
      "                    atom=atom_list,\r\n",
      "                    basis=basis,\r\n",
      "                    charge =charge_dft,\r\n",
      "                    spin=0,\r\n",
      "                    verbose=4,\r\n",
      "                )\r\n",
      "\r\n",
      "                # Sanitize names for filename safety\r\n",
      "                basis_tag = basis.replace(\"(\", \"\").replace(\")\", \"\").replace(\"*\", \"\").replace(\"+\", \"\").replace(\"/\", \"-\").replace(\" \", \"\")\r\n",
      "                xc_tag = xc.replace(\"(\", \"\").replace(\")\", \"\").replace(\"*\", \"\").replace(\"+\", \"\").replace(\"/\", \"-\").replace(\" \", \"\")\r\n",
      "\r\n",
      "                # Output file names\r\n",
      "                if mode == 'deproto':\r\n",
      "                    xyz_filename = sdf_path.replace('.sdf', '.xyz')\r\n",
      "                    charge_filename = sdf_path.replace('.sdf', '.charge')\r\n",
      "                else:\r\n",
      "                    xyz_filename = sdf_path.replace('.sdf', f'_{basis_tag}_{xc_tag}.xyz')\r\n",
      "                    charge_filename = sdf_path.replace('.sdf', f'_{basis_tag}_{xc_tag}.charge')\r\n",
      "\r\n",
      "                # Call your optimization/PCM function\r\n",
      "                A = dft_obj.opti_PCM(mol1, xyz_filename, charge_filename, xc)\r\n",
      "\r\n",
      "                print(f\"Finished {os.path.basename(sdf_path)} | basis: {basis} | xc: {xc} in {time.time() - start_time_sub:.2f} s\")\r\n",
      "\r\n",
      "    print(f\"\\n{'='*70}\")\r\n",
      "    print(\"All calculations completed!\")\r\n",
      "\r\n",
      "\r\n",
      "if __name__ == \"__main__\":\r\n",
      "    import sys\r\n",
      "    if len(sys.argv) != 4:\r\n",
      "        print(\"Usage: python dft.py DFT <cluster_reps_dir> <dielectric_constant>\")\r\n",
      "        print(\"   or: python dft.py DFT_DEPROTO <cluster_reps_dir> <dielectric_constant>\")\r\n",
      "        sys.exit(1)\r\n",
      "    mode = sys.argv[1]\r\n",
      "    cluster_reps_dir = sys.argv[2]\r\n",
      "    dielectric_value = float(sys.argv[3])\r\n",
      "    if mode == \"DFT\":\r\n",
      "        run_DFT(cluster_reps_dir, dielectric_value, mode='normal')\r\n",
      "    elif mode == \"DFT_DEPROTO\":\r\n",
      "        run_DFT(cluster_reps_dir, dielectric_value, mode='deproto')\r\n",
      "    else:\r\n",
      "        print(\"Unknown mode, must be DFT or DFT_DEPROTO\")\r\n",
      "        sys.exit(1)#INFO: ******************** input file end ********************\r\n",
      "\r\n",
      "\r\n",
      "System: uname_result(system='Linux', node='5d4e56049946', release='6.8.0-60-generic', version='#63-Ubuntu SMP PREEMPT_DYNAMIC Tue Apr 15 19:04:15 UTC 2025', machine='x86_64')  Threads 32\r\n",
      "Python 3.9.18 | packaged by conda-forge | (main, Dec 23 2023, 16:33:10) \r\n",
      "[GCC 12.3.0]\r\n",
      "numpy 1.26.4  scipy 1.13.1  h5py 3.12.1\r\n",
      "Date: Mon Aug 18 04:30:02 2025\r\n",
      "PySCF version 2.7.0\r\n",
      "PySCF path  /opt/conda/lib/python3.9/site-packages/pyscf/__init__.py\r\n",
      "CUDA Environment\r\n",
      "    CuPy 13.3.0\r\n",
      "    CUDA Path /usr/local/cuda\r\n",
      "    CUDA Build Version 12060\r\n",
      "    CUDA Driver Version 12080\r\n",
      "    CUDA Runtime Version 12060\r\n",
      "CUDA toolkit\r\n",
      "    cuSolver (11, 7, 2)\r\n",
      "    cuBLAS 120803\r\n",
      "    cuTENSOR 20002\r\n",
      "Device info\r\n",
      "    Device name b'NVIDIA GeForce RTX 4090'\r\n",
      "    Device global memory 23.53 GB\r\n",
      "    CuPy memory fraction 0.9\r\n",
      "    Num. Devices 1\r\n",
      "GPU4PySCF 1.3.1\r\n",
      "GPU4PySCF path  /opt/conda/lib/python3.9/site-packages/gpu4pyscf_cuda12x-1.3.1-py3.9.egg/gpu4pyscf\r\n",
      "\r\n",
      "[CONFIG] conf_file None\r\n",
      "[INPUT] verbose = 4\r\n",
      "[INPUT] num. atoms = 7\r\n",
      "[INPUT] num. electrons = 32\r\n",
      "[INPUT] charge = -1\r\n",
      "[INPUT] spin (= nelec alpha-beta = 2S) = 0\r\n",
      "[INPUT] symmetry False subgroup None\r\n",
      "[INPUT] Mole.unit = angstrom\r\n",
      "[INPUT] Symbol           X                Y                Z      unit          X                Y                Z       unit  Magmom\r\n",
      "[INPUT]  1 N     -1.160200000000  -0.044000000000   0.297100000000 AA   -2.192460249720  -0.083147949481   0.561437631608 Bohr   0.0\r\n",
      "[INPUT]  2 C     -0.015300000000   0.425800000000  -0.251900000000 AA   -0.028912809706   0.804645383840  -0.476022010778 Bohr   0.0\r\n",
      "[INPUT]  3 N      1.179600000000  -0.008100000000   0.213500000000 AA    2.229120936537  -0.015306781609   0.403456527595 Bohr   0.0\r\n",
      "[INPUT]  4 O     -0.060500000000   1.197600000000  -1.184400000000 AA   -0.114328430536   2.263136006779  -2.238191621935 Bohr   0.0\r\n",
      "[INPUT]  5 H     -1.997400000000   0.086300000000  -0.269800000000 AA   -3.774538961206   0.163083364550  -0.509848108408 Bohr   0.0\r\n",
      "[INPUT]  6 H      1.969900000000   0.147200000000  -0.411500000000 AA    3.722571492781   0.278167685536  -0.777622300259 Bohr   0.0\r\n",
      "[INPUT]  7 H      1.158300000000  -0.871500000000   0.755100000000 AA    2.188869770084  -1.646896317558   1.426932196659 Bohr   0.0\r\n",
      "\r\n",
      "nuclear repulsion = 116.411980194009\r\n",
      "number of shells = 47\r\n",
      "number of NR pGTOs = 173\r\n",
      "number of NR cGTOs = 119\r\n",
      "basis = aug-cc-pVDZ\r\n",
      "ecp = {}\r\n",
      "CPU time:         4.37\r\n",
      "Starting geometry optimization...\r\n",
      "Create scanner for <class 'gpu4pyscf.solvent.grad.pcm.PCMGradients'>\r\n",
      "Create scanner for <class 'gpu4pyscf.solvent._attach_solvent.PCMDFRKS'>\r\n",
      "geometric-optimize called with the following command line:\r\n",
      "/work/dft_main.py DFT_DEPROTO cluster_rep_conformers 46.826\r\n",
      "\r\n",
      "                                        \u001b[91m())))))))))))))))/\u001b[0m                     \r\n",
      "                                    \u001b[91m())))))))))))))))))))))))),\u001b[0m                \r\n",
      "                                \u001b[91m*)))))))))))))))))))))))))))))))))\u001b[0m             \r\n",
      "                        \u001b[94m#,\u001b[0m    \u001b[91m()))))))))/\u001b[0m                \u001b[91m.)))))))))),\u001b[0m          \r\n",
      "                      \u001b[94m#%%%%,\u001b[0m  \u001b[91m())))))\u001b[0m                        \u001b[91m.))))))))*\u001b[0m        \r\n",
      "                      \u001b[94m*%%%%%%,\u001b[0m  \u001b[91m))\u001b[0m              \u001b[93m..\u001b[0m              \u001b[91m,))))))).\u001b[0m      \r\n",
      "                        \u001b[94m*%%%%%%,\u001b[0m         \u001b[93m***************/.\u001b[0m        \u001b[91m.)))))))\u001b[0m     \r\n",
      "                \u001b[94m#%%/\u001b[0m      \u001b[94m(%%%%%%,\u001b[0m    \u001b[93m/*********************.\u001b[0m       \u001b[91m)))))))\u001b[0m    \r\n",
      "              \u001b[94m.%%%%%%#\u001b[0m      \u001b[94m*%%%%%%,\u001b[0m  \u001b[93m*******/,\u001b[0m     \u001b[93m**********,\u001b[0m      \u001b[91m.))))))\u001b[0m   \r\n",
      "                \u001b[94m.%%%%%%/\u001b[0m      \u001b[94m*%%%%%%,\u001b[0m  \u001b[93m**\u001b[0m              \u001b[93m********\u001b[0m      \u001b[91m.))))))\u001b[0m  \r\n",
      "          \u001b[94m##\u001b[0m      \u001b[94m.%%%%%%/\u001b[0m      \u001b[94m(%%%%%%,\u001b[0m                  \u001b[93m,******\u001b[0m      \u001b[91m/)))))\u001b[0m  \r\n",
      "        \u001b[94m%%%%%%\u001b[0m      \u001b[94m.%%%%%%#\u001b[0m      \u001b[94m*%%%%%%,\u001b[0m    \u001b[92m,/////.\u001b[0m       \u001b[93m******\u001b[0m      \u001b[91m))))))\u001b[0m \r\n",
      "      \u001b[94m#%\u001b[0m      \u001b[94m%%\u001b[0m      \u001b[94m.%%%%%%/\u001b[0m      \u001b[94m*%%%%%%,\u001b[0m  \u001b[92m////////,\u001b[0m      \u001b[93m*****/\u001b[0m     \u001b[91m,)))))\u001b[0m \r\n",
      "    \u001b[94m#%%\u001b[0m  \u001b[94m%%%\u001b[0m  \u001b[94m%%%#\u001b[0m      \u001b[94m.%%%%%%/\u001b[0m      \u001b[94m(%%%%%%,\u001b[0m  \u001b[92m///////.\u001b[0m     \u001b[93m/*****\u001b[0m      \u001b[91m))))).\u001b[0m\r\n",
      "  \u001b[94m#%%%%.\u001b[0m      \u001b[94m%%%%%#\u001b[0m      \u001b[94m/%%%%%%*\u001b[0m      \u001b[94m#%%%%%%\u001b[0m   \u001b[92m/////)\u001b[0m     \u001b[93m******\u001b[0m      \u001b[91m))))),\u001b[0m\r\n",
      "    \u001b[94m#%%%%##%\u001b[0m  \u001b[94m%%%#\u001b[0m      \u001b[94m.%%%%%%/\u001b[0m      \u001b[94m(%%%%%%,\u001b[0m  \u001b[92m///////.\u001b[0m     \u001b[93m/*****\u001b[0m      \u001b[91m))))).\u001b[0m\r\n",
      "      \u001b[94m##\u001b[0m     \u001b[94m%%%\u001b[0m      \u001b[94m.%%%%%%/\u001b[0m      \u001b[94m*%%%%%%,\u001b[0m  \u001b[92m////////.\u001b[0m      \u001b[93m*****/\u001b[0m     \u001b[91m,)))))\u001b[0m \r\n",
      "        \u001b[94m#%%%%#\u001b[0m      \u001b[94m/%%%%%%/\u001b[0m      \u001b[94m(%%%%%%\u001b[0m      \u001b[92m/)/)//\u001b[0m       \u001b[93m******\u001b[0m      \u001b[91m))))))\u001b[0m \r\n",
      "          \u001b[94m##\u001b[0m      \u001b[94m.%%%%%%/\u001b[0m      \u001b[94m(%%%%%%,\u001b[0m                  \u001b[93m*******\u001b[0m      \u001b[91m))))))\u001b[0m  \r\n",
      "                \u001b[94m.%%%%%%/\u001b[0m      \u001b[94m*%%%%%%,\u001b[0m  \u001b[93m**.\u001b[0m             \u001b[93m/*******\u001b[0m      \u001b[91m.))))))\u001b[0m  \r\n",
      "              \u001b[94m*%%%%%%/\u001b[0m      \u001b[94m(%%%%%%\u001b[0m   \u001b[93m********/*..,*/*********\u001b[0m       \u001b[91m*))))))\u001b[0m   \r\n",
      "                \u001b[94m#%%/\u001b[0m      \u001b[94m(%%%%%%,\u001b[0m    \u001b[93m*********************/\u001b[0m        \u001b[91m)))))))\u001b[0m    \r\n",
      "                        \u001b[94m*%%%%%%,\u001b[0m         \u001b[93m,**************/\u001b[0m         \u001b[91m,))))))/\u001b[0m     \r\n",
      "                      \u001b[94m(%%%%%%\u001b[0m   \u001b[91m()\u001b[0m                              \u001b[91m))))))))\u001b[0m       \r\n",
      "                      \u001b[94m#%%%%,\u001b[0m  \u001b[91m())))))\u001b[0m                        \u001b[91m,)))))))),\u001b[0m        \r\n",
      "                        \u001b[94m#,\u001b[0m    \u001b[91m())))))))))\u001b[0m                \u001b[91m,)))))))))).\u001b[0m          \r\n",
      "                                 \u001b[91m()))))))))))))))))))))))))))))))/\u001b[0m             \r\n",
      "                                    \u001b[91m())))))))))))))))))))))))).\u001b[0m                \r\n",
      "                                         \u001b[91m())))))))))))))),\u001b[0m                     \r\n",
      "\r\n",
      "-=# \u001b[1;94m geomeTRIC started. Version: 1.1 \u001b[0m #=-\r\n",
      "Current date and time: 2025-08-18 04:30:02\r\n",
      "\r",
      "#========================================================#\r\n",
      "#| \u001b[92m    Arguments passed to driver run_optimizer():     \u001b[0m |#\r\n",
      "#========================================================#\r\n",
      "customengine              <pyscf.geomopt.geometric_solver.PySCFEngine object at 0x7ebba0fa0550> \r\n",
      "etol                      1e-08 \r\n",
      "gtol                      0.0003 \r\n",
      "input                     /tmp/tmpf_m_ykf1/69028622-a3fc-4412-8f3b-59ca25429c19 \r\n",
      "logIni                    /opt/conda/lib/python3.9/site-packages/pyscf/geomopt/log.ini \r\n",
      "max_steps                 200 \r\n",
      "xtol                      1e-08 \r\n",
      "----------------------------------------------------------\r\n",
      "Custom engine selected.\r\n",
      "Bonds will be generated from interatomic distances less than 1.20 times sum of covalent radii\r\n",
      "21 internal coordinates being used (instead of 21 Cartesians)\r\n",
      "Internal coordinate system (atoms numbered from 1):\r\n",
      "Distance 1-2\r\n",
      "Distance 1-5\r\n",
      "Distance 2-3\r\n",
      "Distance 2-4\r\n",
      "Distance 3-6\r\n",
      "Distance 3-7\r\n",
      "Angle 2-1-5\r\n",
      "Angle 1-2-4\r\n",
      "Angle 3-2-4\r\n",
      "Angle 2-3-6\r\n",
      "Angle 2-3-7\r\n",
      "Angle 6-3-7\r\n",
      "Out-of-Plane 2-1-3-4\r\n",
      "Dihedral 5-1-2-3\r\n",
      "Dihedral 5-1-2-4\r\n",
      "Dihedral 1-2-3-6\r\n",
      "Dihedral 1-2-3-7\r\n",
      "Dihedral 4-2-3-6\r\n",
      "Dihedral 4-2-3-7\r\n",
      "Translation-X 1-7\r\n",
      "Translation-Y 1-7\r\n",
      "Translation-Z 1-7\r\n",
      "Rotation-A 1-7\r\n",
      "Rotation-B 1-7\r\n",
      "Rotation-C 1-7\r\n",
      "<class 'geometric.internal.Distance'> : 6\r\n",
      "<class 'geometric.internal.Angle'> : 6\r\n",
      "<class 'geometric.internal.OutOfPlane'> : 1\r\n",
      "<class 'geometric.internal.Dihedral'> : 6\r\n",
      "<class 'geometric.internal.TranslationX'> : 1\r\n",
      "<class 'geometric.internal.TranslationY'> : 1\r\n",
      "<class 'geometric.internal.TranslationZ'> : 1\r\n",
      "<class 'geometric.internal.RotationA'> : 1\r\n",
      "<class 'geometric.internal.RotationB'> : 1\r\n",
      "<class 'geometric.internal.RotationC'> : 1\r\n",
      "> ===== Optimization Info: ====\r\n",
      "> Job type: Energy minimization\r\n",
      "> Maximum number of optimization cycles: 300\r\n",
      "> Initial / maximum trust radius (Angstrom): 0.100 / 0.300\r\n",
      "> Convergence Criteria:\r\n",
      "> Will converge when all 5 criteria are reached:\r\n",
      ">  |Delta-E| < 1.00e-06\r\n",
      ">  RMS-Grad  < 3.00e-04\r\n",
      ">  Max-Grad  < 4.50e-04\r\n",
      ">  RMS-Disp  < 1.20e-03\r\n",
      ">  Max-Disp  < 1.80e-03\r\n",
      "> === End Optimization Info ===\r\n",
      "\r\n",
      "Geometry optimization cycle 1\r\n",
      "Cartesian coordinates (Angstrom)\r\n",
      " Atom        New coordinates             dX        dY        dZ\r\n",
      "   N  -1.160200  -0.044000   0.297100    0.000000  0.000000  0.000000\r\n",
      "   C  -0.015300   0.425800  -0.251900    0.000000  0.000000  0.000000\r\n",
      "   N   1.179600  -0.008100   0.213500    0.000000  0.000000  0.000000\r\n",
      "   O  -0.060500   1.197600  -1.184400    0.000000  0.000000  0.000000\r\n",
      "   H  -1.997400   0.086300  -0.269800    0.000000  0.000000  0.000000\r\n",
      "   H   1.969900   0.147200  -0.411500    0.000000  0.000000  0.000000\r\n",
      "   H   1.158300  -0.871500   0.755100    0.000000  0.000000  0.000000\r\n",
      "New geometry\r\n",
      "   1 N     -1.160200000000  -0.044000000000   0.297100000000 AA   -2.192460249720  -0.083147949481   0.561437631608 Bohr\r\n",
      "\r\n",
      "   2 C     -0.015300000000   0.425800000000  -0.251900000000 AA   -0.028912809706   0.804645383840  -0.476022010778 Bohr\r\n",
      "\r\n",
      "   3 N      1.179600000000  -0.008100000000   0.213500000000 AA    2.229120936537  -0.015306781609   0.403456527595 Bohr\r\n",
      "\r\n",
      "   4 O     -0.060500000000   1.197600000000  -1.184400000000 AA   -0.114328430536   2.263136006779  -2.238191621935 Bohr\r\n",
      "\r\n",
      "   5 H     -1.997400000000   0.086300000000  -0.269800000000 AA   -3.774538961206   0.163083364550  -0.509848108408 Bohr\r\n",
      "\r\n",
      "   6 H      1.969900000000   0.147200000000  -0.411500000000 AA    3.722571492781   0.278167685536  -0.777622300259 Bohr\r\n",
      "\r\n",
      "   7 H      1.158300000000  -0.871500000000   0.755100000000 AA    2.188869770084  -1.646896317558   1.426932196659 Bohr\r\n",
      "\r\n",
      "\r\n",
      "\r\n",
      "******** <class 'pyscf.scf.hf.PCMDFRKS_Scanner'> ********\r\n",
      "method = PCMDFRKS_Scanner\r\n",
      "initial guess = minao\r\n",
      "damping factor = 0\r\n",
      "level_shift factor = 0\r\n",
      "DIIS = <class 'gpu4pyscf.scf.diis.CDIIS'>\r\n",
      "diis_start_cycle = 1\r\n",
      "diis_space = 8\r\n",
      "diis_damp = 0\r\n",
      "SCF conv_tol = 1e-08\r\n",
      "SCF conv_tol_grad = 0.0003\r\n",
      "SCF max_cycles = 70\r\n",
      "direct_scf = False\r\n",
      "max_memory 4000 MB (current use 503 MB)\r\n",
      "******** <class 'gpu4pyscf.solvent.pcm.PCM'> ********\r\n",
      "lebedev_order = 29 (302 grids per sphere)\r\n",
      "eps = 46.826\r\n",
      "frozen = False\r\n",
      "equilibrium_solvation = False\r\n"
     ]
    },
    {
     "name": "stdout",
     "output_type": "stream",
     "text": [
      "Initial guess from minao.\r\n"
     ]
    },
    {
     "name": "stdout",
     "output_type": "stream",
     "text": [
      "tot grids = 223488\r\n"
     ]
    },
    {
     "name": "stdout",
     "output_type": "stream",
     "text": [
      "Default auxbasis aug-cc-pvdz-jkfit is used for O aug-cc-pVDZ\r\n",
      "Default auxbasis aug-cc-pvdz-jkfit is used for C aug-cc-pVDZ\r\n",
      "Default auxbasis aug-cc-pvdz-jkfit is used for H aug-cc-pVDZ\r\n",
      "Default auxbasis aug-cc-pvdz-jkfit is used for N aug-cc-pVDZ\r\n"
     ]
    },
    {
     "name": "stdout",
     "output_type": "stream",
     "text": [
      "<class 'gpu4pyscf.solvent.pcm.PCM'> E_diel = -0.000205155642698767\r\n",
      "Solvent Energy = -0.000205155642698767\r\n",
      "init E= -225.206930653373\r\n"
     ]
    },
    {
     "name": "stdout",
     "output_type": "stream",
     "text": [
      "<class 'gpu4pyscf.solvent.pcm.PCM'> E_diel = -0.13551494428504\r\n",
      "Solvent Energy = -0.13551494428504\r\n",
      "cycle= 1 E= -224.567730602304  delta_E= 0.639  |ddm|= 2.85\r\n"
     ]
    },
    {
     "name": "stdout",
     "output_type": "stream",
     "text": [
      "<class 'gpu4pyscf.solvent.pcm.PCM'> E_diel = -0.105804121238242\r\n",
      "Solvent Energy = -0.105804121238242\r\n",
      "cycle= 2 E= -224.485601609178  delta_E= 0.0821  |ddm|= 1.68\r\n"
     ]
    },
    {
     "name": "stdout",
     "output_type": "stream",
     "text": [
      "<class 'gpu4pyscf.solvent.pcm.PCM'> E_diel = -0.119660154831108\r\n",
      "Solvent Energy = -0.119660154831108\r\n",
      "cycle= 3 E= -224.723618850425  delta_E= -0.238  |ddm|= 0.878\r\n"
     ]
    },
    {
     "name": "stdout",
     "output_type": "stream",
     "text": [
      "<class 'gpu4pyscf.solvent.pcm.PCM'> E_diel = -0.120425685255732\r\n",
      "Solvent Energy = -0.120425685255732\r\n",
      "cycle= 4 E= -224.724659148362  delta_E= -0.00104  |ddm|= 0.107\r\n"
     ]
    },
    {
     "name": "stdout",
     "output_type": "stream",
     "text": [
      "<class 'gpu4pyscf.solvent.pcm.PCM'> E_diel = -0.120426343386529\r\n",
      "Solvent Energy = -0.120426343386529\r\n",
      "cycle= 5 E= -224.725221881239  delta_E= -0.000563  |ddm|= 0.0685\r\n"
     ]
    },
    {
     "name": "stdout",
     "output_type": "stream",
     "text": [
      "<class 'gpu4pyscf.solvent.pcm.PCM'> E_diel = -0.120527688425112\r\n",
      "Solvent Energy = -0.120527688425112\r\n",
      "cycle= 6 E= -224.725244433321  delta_E= -2.26e-05  |ddm|= 0.0146\r\n"
     ]
    },
    {
     "name": "stdout",
     "output_type": "stream",
     "text": [
      "<class 'gpu4pyscf.solvent.pcm.PCM'> E_diel = -0.120504696391605\r\n",
      "Solvent Energy = -0.120504696391605\r\n",
      "cycle= 7 E= -224.725250908226  delta_E= -6.47e-06  |ddm|= 0.00866\r\n"
     ]
    },
    {
     "name": "stdout",
     "output_type": "stream",
     "text": [
      "<class 'gpu4pyscf.solvent.pcm.PCM'> E_diel = -0.120515285319302\r\n",
      "Solvent Energy = -0.120515285319302\r\n",
      "cycle= 8 E= -224.725251432668  delta_E= -5.24e-07  |ddm|= 0.00356\r\n"
     ]
    },
    {
     "name": "stdout",
     "output_type": "stream",
     "text": [
      "<class 'gpu4pyscf.solvent.pcm.PCM'> E_diel = -0.120518765177905\r\n",
      "Solvent Energy = -0.120518765177905\r\n",
      "cycle= 9 E= -224.725251460084  delta_E= -2.74e-08  |ddm|= 0.000868\r\n"
     ]
    },
    {
     "name": "stdout",
     "output_type": "stream",
     "text": [
      "<class 'gpu4pyscf.solvent.pcm.PCM'> E_diel = -0.120518611299322\r\n",
      "Solvent Energy = -0.120518611299322\r\n",
      "cycle= 10 E= -224.725251461667  delta_E= -1.58e-09  |ddm|= 0.000173\r\n",
      "converged SCF energy = -224.725251461667\r\n",
      "\r\n",
      "\r\n",
      "******** <class 'gpu4pyscf.grad.rhf.PCMGradients_Scanner'> for <class 'pyscf.scf.hf.PCMDFRKS_Scanner'> ********\r\n",
      "unit = Eh/Bohr\r\n",
      "max_memory 4000 MB (current use 1329 MB)\r\n"
     ]
    },
    {
     "name": "stdout",
     "output_type": "stream",
     "text": [
      "--------------- PCMDFRKS_Scanner (+PCM) gradients ---------------\r\n",
      "         x                y                z\r\n",
      "0 N    -0.0160195874     0.0276077518    -0.0310344378\r\n",
      "1 C     0.0744437273     0.0362224357    -0.0205553061\r\n",
      "2 N    -0.0285071624     0.0134453743    -0.0214819750\r\n",
      "3 O    -0.0205361544    -0.0605152212     0.0698205388\r\n",
      "4 H    -0.0112309272    -0.0131753153     0.0041593697\r\n",
      "5 H     0.0059721844     0.0030512005    -0.0066863618\r\n",
      "6 H    -0.0040907687    -0.0066425393     0.0057687095\r\n",
      "----------------------------------------------\r\n",
      "cycle 1: E = -224.725251462  dE = -224.725  norm(grad) = 0.142031\r\n",
      "Step    0 : Gradient = 5.368e-02/9.465e-02 (rms/max) Energy = -224.7252514617\r\n",
      "Hessian Eigenvalues: 2.30000e-02 2.30000e-02 2.67336e-02 ... 5.42103e-01 5.42301e-01 9.93379e-01\r\n",
      "\r\n",
      "Geometry optimization cycle 2\r\n",
      "Cartesian coordinates (Angstrom)\r\n",
      " Atom        New coordinates             dX        dY        dZ\r\n",
      "   N  -1.064236  -0.097451   0.330477    0.095964 -0.053451  0.033377\r\n",
      "   C  -0.037219   0.475966  -0.329049   -0.021919  0.050166 -0.077149\r\n",
      "   N   1.131161  -0.013711   0.216635   -0.048439 -0.005611  0.003135\r\n",
      "   O  -0.046087   1.295719  -1.276702    0.014413  0.098119 -0.092302\r\n",
      "   H  -1.927012   0.030893  -0.188326    0.070388 -0.055407  0.081474\r\n",
      "   H   1.959603   0.115878  -0.349131   -0.010297 -0.031322  0.062369\r\n",
      "   H   1.057658  -0.873885   0.744357   -0.100642 -0.002385 -0.010743\r\n",
      "New geometry\r\n",
      "   1 N     -1.064235614506  -0.097451390306   0.330477356440 AA   -2.011113843424  -0.184156438137   0.624511694042 Bohr\r\n",
      "\r\n",
      "   2 C     -0.037219027667   0.475965533490  -0.329048553810 AA   -0.070333768914   0.899444503029  -0.621811648384 Bohr\r\n",
      "\r\n",
      "   3 N      1.131160838525  -0.013711391446   0.216635332949 AA    2.137584187646  -0.025910774619   0.409381448178 Bohr\r\n",
      "\r\n",
      "   4 O     -0.046087484254   1.295719022989  -1.276701809411 AA   -0.087092723010   2.448554087839  -2.412616762523 Bohr\r\n",
      "\r\n",
      "   5 H     -1.927012474693   0.030893063860  -0.188326338267 AA   -3.641525815790   0.058379429845  -0.355885201366 Bohr\r\n",
      "\r\n",
      "   6 H      1.959602887444   0.115877741258  -0.349131401159 AA    3.703112770176   0.218977194912  -0.659762729675 Bohr\r\n",
      "\r\n",
      "   7 H      1.057657584035  -0.873885049811   0.744356579790 AA    1.998683167395  -1.651403408495   1.406630074821 Bohr\r\n",
      "\r\n",
      "\r\n",
      "\r\n",
      "******** <class 'pyscf.scf.hf.PCMDFRKS_Scanner'> ********\r\n",
      "method = PCMDFRKS_Scanner\r\n",
      "initial guess = minao\r\n",
      "damping factor = 0\r\n",
      "level_shift factor = 0\r\n",
      "DIIS = <class 'gpu4pyscf.scf.diis.CDIIS'>\r\n",
      "diis_start_cycle = 1\r\n",
      "diis_space = 8\r\n",
      "diis_damp = 0\r\n",
      "SCF conv_tol = 1e-08\r\n",
      "SCF conv_tol_grad = 0.0003\r\n",
      "SCF max_cycles = 70\r\n",
      "direct_scf = False\r\n",
      "max_memory 4000 MB (current use 1369 MB)\r\n",
      "<class 'gpu4pyscf.solvent.pcm.PCM'> does not have attributes  v_grids_n\r\n",
      "******** <class 'gpu4pyscf.solvent.pcm.PCM'> ********\r\n",
      "lebedev_order = 29 (302 grids per sphere)\r\n",
      "eps = 46.826\r\n",
      "frozen = False\r\n",
      "equilibrium_solvation = False\r\n",
      "tot grids = 223488\r\n"
     ]
    },
    {
     "name": "stdout",
     "output_type": "stream",
     "text": [
      "Default auxbasis aug-cc-pvdz-jkfit is used for O aug-cc-pVDZ\r\n",
      "Default auxbasis aug-cc-pvdz-jkfit is used for C aug-cc-pVDZ\r\n",
      "Default auxbasis aug-cc-pvdz-jkfit is used for H aug-cc-pVDZ\r\n",
      "Default auxbasis aug-cc-pvdz-jkfit is used for N aug-cc-pVDZ\r\n"
     ]
    },
    {
     "name": "stdout",
     "output_type": "stream",
     "text": [
      "<class 'gpu4pyscf.solvent.pcm.PCM'> E_diel = -0.108505435121934\r\n",
      "Solvent Energy = -0.108505435121934\r\n",
      "init E= -224.670702954664\r\n"
     ]
    },
    {
     "name": "stdout",
     "output_type": "stream",
     "text": [
      "<class 'gpu4pyscf.solvent.pcm.PCM'> E_diel = -0.116135995498379\r\n",
      "Solvent Energy = -0.116135995498379\r\n",
      "cycle= 1 E= -224.732071648434  delta_E= -0.0614  |ddm|= 0.443\r\n"
     ]
    },
    {
     "name": "stdout",
     "output_type": "stream",
     "text": [
      "<class 'gpu4pyscf.solvent.pcm.PCM'> E_diel = -0.115026166541866\r\n",
      "Solvent Energy = -0.115026166541866\r\n",
      "cycle= 2 E= -224.732445336028  delta_E= -0.000374  |ddm|= 0.123\r\n"
     ]
    },
    {
     "name": "stdout",
     "output_type": "stream",
     "text": [
      "<class 'gpu4pyscf.solvent.pcm.PCM'> E_diel = -0.115279790594027\r\n",
      "Solvent Energy = -0.115279790594027\r\n",
      "cycle= 3 E= -224.733492240324  delta_E= -0.00105  |ddm|= 0.0642\r\n"
     ]
    },
    {
     "name": "stdout",
     "output_type": "stream",
     "text": [
      "<class 'gpu4pyscf.solvent.pcm.PCM'> E_diel = -0.115323428672855\r\n",
      "Solvent Energy = -0.115323428672855\r\n",
      "cycle= 4 E= -224.733552147289  delta_E= -5.99e-05  |ddm|= 0.0167\r\n"
     ]
    },
    {
     "name": "stdout",
     "output_type": "stream",
     "text": [
      "<class 'gpu4pyscf.solvent.pcm.PCM'> E_diel = -0.115245093952041\r\n",
      "Solvent Energy = -0.115245093952041\r\n",
      "cycle= 5 E= -224.733565278379  delta_E= -1.31e-05  |ddm|= 0.00828\r\n"
     ]
    },
    {
     "name": "stdout",
     "output_type": "stream",
     "text": [
      "<class 'gpu4pyscf.solvent.pcm.PCM'> E_diel = -0.115231098978495\r\n",
      "Solvent Energy = -0.115231098978495\r\n",
      "cycle= 6 E= -224.733565870114  delta_E= -5.92e-07  |ddm|= 0.00232\r\n"
     ]
    },
    {
     "name": "stdout",
     "output_type": "stream",
     "text": [
      "<class 'gpu4pyscf.solvent.pcm.PCM'> E_diel = -0.115236949548583\r\n",
      "Solvent Energy = -0.115236949548583\r\n",
      "cycle= 7 E= -224.733566011453  delta_E= -1.41e-07  |ddm|= 0.00121\r\n"
     ]
    },
    {
     "name": "stdout",
     "output_type": "stream",
     "text": [
      "<class 'gpu4pyscf.solvent.pcm.PCM'> E_diel = -0.11523212541742\r\n",
      "Solvent Energy = -0.11523212541742\r\n",
      "cycle= 8 E= -224.733566035519  delta_E= -2.41e-08  |ddm|= 0.000647\r\n"
     ]
    },
    {
     "name": "stdout",
     "output_type": "stream",
     "text": [
      "<class 'gpu4pyscf.solvent.pcm.PCM'> E_diel = -0.11523186709672\r\n",
      "Solvent Energy = -0.11523186709672\r\n",
      "cycle= 9 E= -224.733566036742  delta_E= -1.22e-09  |ddm|= 0.000191\r\n",
      "converged SCF energy = -224.733566036742\r\n",
      "\r\n",
      "\r\n",
      "******** <class 'gpu4pyscf.grad.rhf.PCMGradients_Scanner'> for <class 'pyscf.scf.hf.PCMDFRKS_Scanner'> ********\r\n",
      "unit = Eh/Bohr\r\n",
      "max_memory 4000 MB (current use 1372 MB)\r\n"
     ]
    },
    {
     "name": "stdout",
     "output_type": "stream",
     "text": [
      "--------------- PCMDFRKS_Scanner (+PCM) gradients ---------------\r\n",
      "         x                y                z\r\n",
      "0 N     0.0067936599    -0.0018742862     0.0091347054\r\n",
      "1 C     0.0339082663     0.0317905485    -0.0234081699\r\n",
      "2 N    -0.0354251875    -0.0124680633     0.0040043172\r\n",
      "3 O    -0.0067176520    -0.0062015105     0.0070869461\r\n",
      "4 H     0.0041289438    -0.0102281405     0.0015372972\r\n",
      "5 H    -0.0021399060     0.0019950145    -0.0027811454\r\n",
      "6 H    -0.0005560252    -0.0030227915     0.0044230379\r\n",
      "----------------------------------------------\r\n",
      "cycle 2: E = -224.733566037  dE = -0.00831458  norm(grad) = 0.0676094\r\n",
      "Step    1 : Displace = \u001b[0m1.020e-01\u001b[0m/\u001b[0m1.354e-01\u001b[0m (rms/max) Trust = 1.000e-01 (=) Grad = \u001b[0m2.555e-02\u001b[0m/\u001b[0m5.204e-02\u001b[0m (rms/max) E (change) = -224.7335660367 (\u001b[0m-8.315e-03\u001b[0m) Quality = \u001b[0m0.478\u001b[0m\r\n",
      "Hessian Eigenvalues: 2.27257e-02 2.30022e-02 2.65883e-02 ... 5.41826e-01 6.92775e-01 1.05246e+00\r\n",
      "\r\n",
      "Geometry optimization cycle 3\r\n",
      "Cartesian coordinates (Angstrom)\r\n",
      " Atom        New coordinates             dX        dY        dZ\r\n",
      "   N  -1.172636  -0.117364   0.327854   -0.108401 -0.019913 -0.002624\r\n",
      "   C  -0.084662   0.383222  -0.282845   -0.047442 -0.092744  0.046203\r\n",
      "   N   1.170645  -0.014347   0.218185    0.039485 -0.000635  0.001550\r\n",
      "   O  -0.031506   1.230018  -1.240154    0.014581 -0.065701  0.036548\r\n",
      "   H  -1.963850   0.153983  -0.249552   -0.036837  0.123090 -0.061225\r\n",
      "   H   1.964648   0.163886  -0.375090    0.005045  0.048008 -0.025959\r\n",
      "   H   1.191065  -0.865730   0.750026    0.133408  0.008155  0.005670\r\n",
      "New geometry\r\n",
      "   1 N     -1.172636491377  -0.117364013103   0.327853726790 AA   -2.215961812374  -0.221785841645   0.619553752552 Bohr\r\n",
      "\r\n",
      "   2 C     -0.084661501821   0.383221670818  -0.282845388651 AA   -0.159987051736   0.724184002844  -0.534500320146 Bohr\r\n",
      "\r\n",
      "   3 N      1.170645482474  -0.014346728338   0.218185040721 AA    2.212199350835  -0.027111387342   0.412309971441 Bohr\r\n",
      "\r\n",
      "   4 O     -0.031506000212   1.230018359042  -1.240153786574 AA   -0.059537711682   2.324397826777  -2.343551008967 Bohr\r\n",
      "\r\n",
      "   5 H     -1.963849800680   0.153982934585  -0.249551830139 AA   -3.711138273067   0.290985574222  -0.471584612847 Bohr\r\n",
      "\r\n",
      "   6 H      1.964647613673   0.163886158002  -0.375090077776 AA    3.712645921123   0.309699954232  -0.708817519038 Bohr\r\n",
      "\r\n",
      "   7 H      1.191065236221  -0.865730453006   0.750026092320 AA    2.250787092948  -1.635993453877   1.417343900763 Bohr\r\n",
      "\r\n",
      "\r\n",
      "\r\n",
      "******** <class 'pyscf.scf.hf.PCMDFRKS_Scanner'> ********\r\n",
      "method = PCMDFRKS_Scanner\r\n",
      "initial guess = minao\r\n",
      "damping factor = 0\r\n",
      "level_shift factor = 0\r\n",
      "DIIS = <class 'gpu4pyscf.scf.diis.CDIIS'>\r\n",
      "diis_start_cycle = 1\r\n",
      "diis_space = 8\r\n",
      "diis_damp = 0\r\n",
      "SCF conv_tol = 1e-08\r\n",
      "SCF conv_tol_grad = 0.0003\r\n",
      "SCF max_cycles = 70\r\n",
      "direct_scf = False\r\n",
      "max_memory 4000 MB (current use 1371 MB)\r\n",
      "******** <class 'gpu4pyscf.solvent.pcm.PCM'> ********\r\n",
      "lebedev_order = 29 (302 grids per sphere)\r\n",
      "eps = 46.826\r\n",
      "frozen = False\r\n",
      "equilibrium_solvation = False\r\n",
      "tot grids = 223488\r\n"
     ]
    },
    {
     "name": "stdout",
     "output_type": "stream",
     "text": [
      "Default auxbasis aug-cc-pvdz-jkfit is used for O aug-cc-pVDZ\r\n",
      "Default auxbasis aug-cc-pvdz-jkfit is used for C aug-cc-pVDZ\r\n",
      "Default auxbasis aug-cc-pvdz-jkfit is used for H aug-cc-pVDZ\r\n",
      "Default auxbasis aug-cc-pvdz-jkfit is used for N aug-cc-pVDZ\r\n"
     ]
    },
    {
     "name": "stdout",
     "output_type": "stream",
     "text": [
      "<class 'gpu4pyscf.solvent.pcm.PCM'> E_diel = -0.118706550892634\r\n",
      "Solvent Energy = -0.118706550892634\r\n",
      "init E= -224.731966672328\r\n"
     ]
    },
    {
     "name": "stdout",
     "output_type": "stream",
     "text": [
      "<class 'gpu4pyscf.solvent.pcm.PCM'> E_diel = -0.11656127999012\r\n",
      "Solvent Energy = -0.11656127999012\r\n",
      "cycle= 1 E= -224.737818792984  delta_E= -0.00585  |ddm|= 0.463\r\n"
     ]
    },
    {
     "name": "stdout",
     "output_type": "stream",
     "text": [
      "<class 'gpu4pyscf.solvent.pcm.PCM'> E_diel = -0.115996141449665\r\n",
      "Solvent Energy = -0.115996141449665\r\n",
      "cycle= 2 E= -224.737041510199  delta_E= 0.000777  |ddm|= 0.194\r\n"
     ]
    },
    {
     "name": "stdout",
     "output_type": "stream",
     "text": [
      "<class 'gpu4pyscf.solvent.pcm.PCM'> E_diel = -0.116040712259876\r\n",
      "Solvent Energy = -0.116040712259876\r\n",
      "cycle= 3 E= -224.739982616216  delta_E= -0.00294  |ddm|= 0.0934\r\n"
     ]
    },
    {
     "name": "stdout",
     "output_type": "stream",
     "text": [
      "<class 'gpu4pyscf.solvent.pcm.PCM'> E_diel = -0.116070236543347\r\n",
      "Solvent Energy = -0.116070236543347\r\n",
      "cycle= 4 E= -224.740054684982  delta_E= -7.21e-05  |ddm|= 0.0209\r\n"
     ]
    },
    {
     "name": "stdout",
     "output_type": "stream",
     "text": [
      "<class 'gpu4pyscf.solvent.pcm.PCM'> E_diel = -0.11605563324737\r\n",
      "Solvent Energy = -0.11605563324737\r\n",
      "cycle= 5 E= -224.740062006255  delta_E= -7.32e-06  |ddm|= 0.00709\r\n"
     ]
    },
    {
     "name": "stdout",
     "output_type": "stream",
     "text": [
      "<class 'gpu4pyscf.solvent.pcm.PCM'> E_diel = -0.116030933151998\r\n",
      "Solvent Energy = -0.116030933151998\r\n",
      "cycle= 6 E= -224.740062932987  delta_E= -9.27e-07  |ddm|= 0.00276\r\n"
     ]
    },
    {
     "name": "stdout",
     "output_type": "stream",
     "text": [
      "<class 'gpu4pyscf.solvent.pcm.PCM'> E_diel = -0.116037617545323\r\n",
      "Solvent Energy = -0.116037617545323\r\n",
      "cycle= 7 E= -224.74006301173  delta_E= -7.87e-08  |ddm|= 0.000991\r\n"
     ]
    },
    {
     "name": "stdout",
     "output_type": "stream",
     "text": [
      "<class 'gpu4pyscf.solvent.pcm.PCM'> E_diel = -0.116033686991513\r\n",
      "Solvent Energy = -0.116033686991513\r\n",
      "cycle= 8 E= -224.740063029862  delta_E= -1.81e-08  |ddm|= 0.000538\r\n"
     ]
    },
    {
     "name": "stdout",
     "output_type": "stream",
     "text": [
      "<class 'gpu4pyscf.solvent.pcm.PCM'> E_diel = -0.116032793959433\r\n",
      "Solvent Energy = -0.116032793959433\r\n",
      "cycle= 9 E= -224.740063031514  delta_E= -1.65e-09  |ddm|= 0.000163\r\n",
      "converged SCF energy = -224.740063031514\r\n",
      "\r\n",
      "\r\n",
      "******** <class 'gpu4pyscf.grad.rhf.PCMGradients_Scanner'> for <class 'pyscf.scf.hf.PCMDFRKS_Scanner'> ********\r\n",
      "unit = Eh/Bohr\r\n",
      "max_memory 4000 MB (current use 1372 MB)\r\n"
     ]
    },
    {
     "name": "stdout",
     "output_type": "stream",
     "text": [
      "--------------- PCMDFRKS_Scanner (+PCM) gradients ---------------\r\n",
      "         x                y                z\r\n",
      "0 N    -0.0210792617     0.0011180052     0.0095367233\r\n",
      "1 C     0.0029154888    -0.0042332611     0.0013004127\r\n",
      "2 N     0.0107260913    -0.0046395800    -0.0062971240\r\n",
      "3 O     0.0054111991     0.0074492353    -0.0040082342\r\n",
      "4 H     0.0036311785    -0.0056398058    -0.0009938529\r\n",
      "5 H    -0.0001538168     0.0004077960     0.0024597999\r\n",
      "6 H    -0.0014512873     0.0055354060    -0.0019976730\r\n",
      "----------------------------------------------\r\n",
      "cycle 3: E = -224.740063032  dE = -0.00649699  norm(grad) = 0.0305069\r\n",
      "Step    2 : Displace = \u001b[0m1.026e-01\u001b[0m/\u001b[0m1.429e-01\u001b[0m (rms/max) Trust = 1.000e-01 (=) Grad = \u001b[0m1.153e-02\u001b[0m/\u001b[0m2.316e-02\u001b[0m (rms/max) E (change) = -224.7400630315 (\u001b[0m-6.497e-03\u001b[0m) Quality = \u001b[0m0.632\u001b[0m\r\n",
      "Hessian Eigenvalues: 2.28003e-02 2.30515e-02 2.79842e-02 ... 5.37679e-01 7.91665e-01 1.07054e+00\r\n",
      "\r\n",
      "Geometry optimization cycle 4\r\n",
      "Cartesian coordinates (Angstrom)\r\n",
      " Atom        New coordinates             dX        dY        dZ\r\n",
      "   N  -1.142730  -0.184953   0.265620    0.029907 -0.067589 -0.062234\r\n",
      "   C  -0.079529   0.354046  -0.319736    0.005133 -0.029176 -0.036891\r\n",
      "   N   1.158835  -0.003423   0.238061   -0.011811  0.010924  0.019876\r\n",
      "   O  -0.056204   1.211475  -1.260613   -0.024698 -0.018543 -0.020459\r\n",
      "   H  -1.956674   0.237054  -0.183832    0.007175  0.083071  0.065720\r\n",
      "   H   1.962012   0.193760  -0.340152   -0.002635  0.029874  0.034938\r\n",
      "   H   1.188121  -0.874081   0.749086   -0.002944 -0.008351 -0.000940\r\n",
      "New geometry\r\n",
      "   1 N     -1.142729902632  -0.184952939560   0.265620077144 AA   -2.159446550326  -0.349510401702   0.501949198988 Bohr\r\n",
      "\r\n",
      "   2 C     -0.079528722771   0.354045576351  -0.319736305285 AA   -0.150287505074   0.669049174917  -0.604214049068 Bohr\r\n",
      "\r\n",
      "   3 N      1.158834724144  -0.003423150801   0.238060820489 AA    2.189880252268  -0.006468817498   0.449869751713 Bohr\r\n",
      "\r\n",
      "   4 O     -0.056204081016   1.211475005303  -1.260612589216 AA   -0.106210320203   2.289355966778  -2.382212542797 Bohr\r\n",
      "\r\n",
      "   5 H     -1.956674388901   0.237054392754  -0.183831504796 AA   -3.697578709974   0.447967878929  -0.347391197131 Bohr\r\n",
      "\r\n",
      "   6 H      1.962012336781   0.193760219442  -0.340151677563 AA    3.707665969534   0.366153748581  -0.642793511405 Bohr\r\n",
      "\r\n",
      "   7 H      1.188121000865  -0.874081074605   0.749086144249 AA    2.245223294479  -1.651773841669   1.415567656337 Bohr\r\n",
      "\r\n",
      "\r\n",
      "\r\n",
      "******** <class 'pyscf.scf.hf.PCMDFRKS_Scanner'> ********\r\n",
      "method = PCMDFRKS_Scanner\r\n",
      "initial guess = minao\r\n",
      "damping factor = 0\r\n",
      "level_shift factor = 0\r\n",
      "DIIS = <class 'gpu4pyscf.scf.diis.CDIIS'>\r\n",
      "diis_start_cycle = 1\r\n",
      "diis_space = 8\r\n",
      "diis_damp = 0\r\n",
      "SCF conv_tol = 1e-08\r\n",
      "SCF conv_tol_grad = 0.0003\r\n",
      "SCF max_cycles = 70\r\n",
      "direct_scf = False\r\n",
      "max_memory 4000 MB (current use 1371 MB)\r\n",
      "******** <class 'gpu4pyscf.solvent.pcm.PCM'> ********\r\n",
      "lebedev_order = 29 (302 grids per sphere)\r\n",
      "eps = 46.826\r\n",
      "frozen = False\r\n",
      "equilibrium_solvation = False\r\n",
      "tot grids = 223488\r\n"
     ]
    },
    {
     "name": "stdout",
     "output_type": "stream",
     "text": [
      "Default auxbasis aug-cc-pvdz-jkfit is used for O aug-cc-pVDZ\r\n",
      "Default auxbasis aug-cc-pvdz-jkfit is used for C aug-cc-pVDZ\r\n",
      "Default auxbasis aug-cc-pvdz-jkfit is used for H aug-cc-pVDZ\r\n",
      "Default auxbasis aug-cc-pvdz-jkfit is used for N aug-cc-pVDZ\r\n"
     ]
    },
    {
     "name": "stdout",
     "output_type": "stream",
     "text": [
      "<class 'gpu4pyscf.solvent.pcm.PCM'> E_diel = -0.112080579400541\r\n",
      "Solvent Energy = -0.112080579400541\r\n",
      "init E= -224.738294597991\r\n"
     ]
    },
    {
     "name": "stdout",
     "output_type": "stream",
     "text": [
      "<class 'gpu4pyscf.solvent.pcm.PCM'> E_diel = -0.115964895559057\r\n",
      "Solvent Energy = -0.115964895559057\r\n",
      "cycle= 1 E= -224.741318260272  delta_E= -0.00302  |ddm|= 0.348\r\n"
     ]
    },
    {
     "name": "stdout",
     "output_type": "stream",
     "text": [
      "<class 'gpu4pyscf.solvent.pcm.PCM'> E_diel = -0.115681090289844\r\n",
      "Solvent Energy = -0.115681090289844\r\n",
      "cycle= 2 E= -224.741522219897  delta_E= -0.000204  |ddm|= 0.072\r\n"
     ]
    },
    {
     "name": "stdout",
     "output_type": "stream",
     "text": [
      "<class 'gpu4pyscf.solvent.pcm.PCM'> E_diel = -0.115860983096426\r\n",
      "Solvent Energy = -0.115860983096426\r\n",
      "cycle= 3 E= -224.741812726905  delta_E= -0.000291  |ddm|= 0.0356\r\n"
     ]
    },
    {
     "name": "stdout",
     "output_type": "stream",
     "text": [
      "<class 'gpu4pyscf.solvent.pcm.PCM'> E_diel = -0.115852496805\r\n",
      "Solvent Energy = -0.115852496805\r\n",
      "cycle= 4 E= -224.741840701824  delta_E= -2.8e-05  |ddm|= 0.0121\r\n"
     ]
    },
    {
     "name": "stdout",
     "output_type": "stream",
     "text": [
      "<class 'gpu4pyscf.solvent.pcm.PCM'> E_diel = -0.11582209051419\r\n",
      "Solvent Energy = -0.11582209051419\r\n",
      "cycle= 5 E= -224.741843955477  delta_E= -3.25e-06  |ddm|= 0.00406\r\n"
     ]
    },
    {
     "name": "stdout",
     "output_type": "stream",
     "text": [
      "<class 'gpu4pyscf.solvent.pcm.PCM'> E_diel = -0.115833925635651\r\n",
      "Solvent Energy = -0.115833925635651\r\n",
      "cycle= 6 E= -224.741844500573  delta_E= -5.45e-07  |ddm|= 0.00164\r\n"
     ]
    },
    {
     "name": "stdout",
     "output_type": "stream",
     "text": [
      "<class 'gpu4pyscf.solvent.pcm.PCM'> E_diel = -0.115832320564372\r\n",
      "Solvent Energy = -0.115832320564372\r\n",
      "cycle= 7 E= -224.7418445364  delta_E= -3.58e-08  |ddm|= 0.0006\r\n"
     ]
    },
    {
     "name": "stdout",
     "output_type": "stream",
     "text": [
      "<class 'gpu4pyscf.solvent.pcm.PCM'> E_diel = -0.115832463638688\r\n",
      "Solvent Energy = -0.115832463638688\r\n",
      "cycle= 8 E= -224.741844547753  delta_E= -1.14e-08  |ddm|= 0.000296\r\n"
     ]
    },
    {
     "name": "stdout",
     "output_type": "stream",
     "text": [
      "<class 'gpu4pyscf.solvent.pcm.PCM'> E_diel = -0.115832107164695\r\n",
      "Solvent Energy = -0.115832107164695\r\n",
      "cycle= 9 E= -224.741844548315  delta_E= -5.61e-10  |ddm|= 7.94e-05\r\n",
      "converged SCF energy = -224.741844548315\r\n",
      "\r\n",
      "\r\n",
      "******** <class 'gpu4pyscf.grad.rhf.PCMGradients_Scanner'> for <class 'pyscf.scf.hf.PCMDFRKS_Scanner'> ********\r\n",
      "unit = Eh/Bohr\r\n",
      "max_memory 4000 MB (current use 1373 MB)\r\n"
     ]
    },
    {
     "name": "stdout",
     "output_type": "stream",
     "text": [
      "--------------- PCMDFRKS_Scanner (+PCM) gradients ---------------\r\n",
      "         x                y                z\r\n",
      "0 N    -0.0009341482     0.0001816455     0.0024655437\r\n",
      "1 C     0.0037150741    -0.0047545591    -0.0045996913\r\n",
      "2 N    -0.0006445594    -0.0020413634    -0.0005516537\r\n",
      "3 O    -0.0013280412     0.0020339317     0.0001686927\r\n",
      "4 H     0.0002856929     0.0014604178     0.0003845325\r\n",
      "5 H    -0.0007396918     0.0021735118     0.0016066417\r\n",
      "6 H    -0.0003630630     0.0009376786     0.0005225841\r\n",
      "----------------------------------------------\r\n",
      "cycle 4: E = -224.741844548  dE = -0.00178152  norm(grad) = 0.0093201\r\n",
      "Step    3 : Displace = \u001b[0m6.214e-02\u001b[0m/\u001b[0m1.083e-01\u001b[0m (rms/max) Trust = 1.000e-01 (=) Grad = \u001b[0m3.523e-03\u001b[0m/\u001b[0m7.587e-03\u001b[0m (rms/max) E (change) = -224.7418445483 (\u001b[0m-1.782e-03\u001b[0m) Quality = \u001b[0m0.864\u001b[0m\r\n",
      "Hessian Eigenvalues: 1.85551e-02 2.33456e-02 3.58630e-02 ... 5.29515e-01 7.74849e-01 1.08034e+00\r\n",
      "\r\n",
      "Geometry optimization cycle 5\r\n",
      "Cartesian coordinates (Angstrom)\r\n",
      " Atom        New coordinates             dX        dY        dZ\r\n",
      "   N  -1.139991  -0.186974   0.260454    0.002739 -0.002021 -0.005166\r\n",
      "   C  -0.078769   0.385932  -0.285166    0.000760  0.031887  0.034570\r\n",
      "   N   1.165059   0.011854   0.252117    0.006224  0.015277  0.014057\r\n",
      "   O  -0.048785   1.210144  -1.254037    0.007419 -0.001331  0.006575\r\n",
      "   H  -1.955281   0.218671  -0.203019    0.001393 -0.018383 -0.019187\r\n",
      "   H   1.947799   0.165131  -0.368208   -0.014213 -0.028630 -0.028057\r\n",
      "   H   1.184339  -0.870270   0.746524   -0.003782  0.003811 -0.002562\r\n",
      "New geometry\r\n",
      "   1 N     -1.139991305281  -0.186973725654   0.260453956255 AA   -2.154271351366  -0.353329133976   0.492186645382 Bohr\r\n",
      "\r\n",
      "   2 C     -0.078768725449   0.385932397993  -0.285165819495 AA   -0.148851318279   0.729306534803  -0.538885298932 Bohr\r\n",
      "\r\n",
      "   3 N      1.165058595058   0.011854325381   0.252117366920 AA    2.201641663731   0.022401428361   0.476432774725 Bohr\r\n",
      "\r\n",
      "   4 O     -0.048785474034   1.210143926950  -1.254037116654 AA   -0.092191184781   2.286840593241  -2.369786700515 Bohr\r\n",
      "\r\n",
      "   5 H     -1.955280956272   0.218670895677  -0.203018841106 AA   -3.694945503932   0.413228104243  -0.383650007817 Bohr\r\n",
      "\r\n",
      "   6 H      1.947799285388   0.165130574247  -0.368208432449 AA    3.680807195006   0.312051560119  -0.695813094084 Bohr\r\n",
      "\r\n",
      "   7 H      1.184339299059  -0.870269581819   0.746524220671 AA    2.238076913781  -1.644571164178   1.410726322423 Bohr\r\n",
      "\r\n",
      "\r\n",
      "\r\n",
      "******** <class 'pyscf.scf.hf.PCMDFRKS_Scanner'> ********\r\n",
      "method = PCMDFRKS_Scanner\r\n",
      "initial guess = minao\r\n",
      "damping factor = 0\r\n",
      "level_shift factor = 0\r\n",
      "DIIS = <class 'gpu4pyscf.scf.diis.CDIIS'>\r\n",
      "diis_start_cycle = 1\r\n",
      "diis_space = 8\r\n",
      "diis_damp = 0\r\n",
      "SCF conv_tol = 1e-08\r\n",
      "SCF conv_tol_grad = 0.0003\r\n",
      "SCF max_cycles = 70\r\n",
      "direct_scf = False\r\n",
      "max_memory 4000 MB (current use 1372 MB)\r\n",
      "******** <class 'gpu4pyscf.solvent.pcm.PCM'> ********\r\n",
      "lebedev_order = 29 (302 grids per sphere)\r\n",
      "eps = 46.826\r\n",
      "frozen = False\r\n",
      "equilibrium_solvation = False\r\n",
      "tot grids = 223488\r\n"
     ]
    },
    {
     "name": "stdout",
     "output_type": "stream",
     "text": [
      "Default auxbasis aug-cc-pvdz-jkfit is used for O aug-cc-pVDZ\r\n",
      "Default auxbasis aug-cc-pvdz-jkfit is used for C aug-cc-pVDZ\r\n",
      "Default auxbasis aug-cc-pvdz-jkfit is used for H aug-cc-pVDZ\r\n",
      "Default auxbasis aug-cc-pvdz-jkfit is used for N aug-cc-pVDZ\r\n"
     ]
    },
    {
     "name": "stdout",
     "output_type": "stream",
     "text": [
      "<class 'gpu4pyscf.solvent.pcm.PCM'> E_diel = -0.115636517072453\r\n",
      "Solvent Energy = -0.115636517072453\r\n",
      "init E= -224.743363241032\r\n"
     ]
    },
    {
     "name": "stdout",
     "output_type": "stream",
     "text": [
      "<class 'gpu4pyscf.solvent.pcm.PCM'> E_diel = -0.115447057781008\r\n",
      "Solvent Energy = -0.115447057781008\r\n",
      "cycle= 1 E= -224.741833160498  delta_E= 0.00153  |ddm|= 0.203\r\n"
     ]
    },
    {
     "name": "stdout",
     "output_type": "stream",
     "text": [
      "<class 'gpu4pyscf.solvent.pcm.PCM'> E_diel = -0.115428325616802\r\n",
      "Solvent Energy = -0.115428325616802\r\n",
      "cycle= 2 E= -224.7419611422  delta_E= -0.000128  |ddm|= 0.0335\r\n"
     ]
    },
    {
     "name": "stdout",
     "output_type": "stream",
     "text": [
      "<class 'gpu4pyscf.solvent.pcm.PCM'> E_diel = -0.115422720490791\r\n",
      "Solvent Energy = -0.115422720490791\r\n",
      "cycle= 3 E= -224.741966846401  delta_E= -5.7e-06  |ddm|= 0.0122\r\n"
     ]
    },
    {
     "name": "stdout",
     "output_type": "stream",
     "text": [
      "<class 'gpu4pyscf.solvent.pcm.PCM'> E_diel = -0.115407658729927\r\n",
      "Solvent Energy = -0.115407658729927\r\n",
      "cycle= 4 E= -224.741980626655  delta_E= -1.38e-05  |ddm|= 0.00646\r\n"
     ]
    },
    {
     "name": "stdout",
     "output_type": "stream",
     "text": [
      "<class 'gpu4pyscf.solvent.pcm.PCM'> E_diel = -0.1154092348432\r\n",
      "Solvent Energy = -0.1154092348432\r\n",
      "cycle= 5 E= -224.741981023237  delta_E= -3.97e-07  |ddm|= 0.00156\r\n"
     ]
    },
    {
     "name": "stdout",
     "output_type": "stream",
     "text": [
      "<class 'gpu4pyscf.solvent.pcm.PCM'> E_diel = -0.115406517469984\r\n",
      "Solvent Energy = -0.115406517469984\r\n",
      "cycle= 6 E= -224.741981062246  delta_E= -3.9e-08  |ddm|= 0.000376\r\n"
     ]
    },
    {
     "name": "stdout",
     "output_type": "stream",
     "text": [
      "<class 'gpu4pyscf.solvent.pcm.PCM'> E_diel = -0.1154056902541\r\n",
      "Solvent Energy = -0.1154056902541\r\n",
      "cycle= 7 E= -224.741981065269  delta_E= -3.02e-09  |ddm|= 0.000157\r\n",
      "converged SCF energy = -224.741981065269\r\n",
      "\r\n",
      "\r\n",
      "******** <class 'gpu4pyscf.grad.rhf.PCMGradients_Scanner'> for <class 'pyscf.scf.hf.PCMDFRKS_Scanner'> ********\r\n",
      "unit = Eh/Bohr\r\n",
      "max_memory 4000 MB (current use 1374 MB)\r\n"
     ]
    },
    {
     "name": "stdout",
     "output_type": "stream",
     "text": [
      "--------------- PCMDFRKS_Scanner (+PCM) gradients ---------------\r\n",
      "         x                y                z\r\n",
      "0 N     0.0018073799    -0.0023211179    -0.0035501587\r\n",
      "1 C     0.0008362766     0.0070480812     0.0092153082\r\n",
      "2 N    -0.0018984071    -0.0029752813    -0.0046255777\r\n",
      "3 O    -0.0005464721    -0.0041237452    -0.0022086629\r\n",
      "4 H    -0.0005472755     0.0010932027    -0.0002062726\r\n",
      "5 H     0.0000690318     0.0012084130     0.0008146210\r\n",
      "6 H     0.0002648397     0.0000607926     0.0005542898\r\n",
      "----------------------------------------------\r\n",
      "cycle 5: E = -224.741981065  dE = -0.000136517  norm(grad) = 0.0147186\r\n",
      "Step    4 : Displace = \u001b[0m2.769e-02\u001b[0m/\u001b[0m4.676e-02\u001b[0m (rms/max) Trust = 1.414e-01 (\u001b[92m+\u001b[0m) Grad = \u001b[0m5.563e-03\u001b[0m/\u001b[0m1.163e-02\u001b[0m (rms/max) E (change) = -224.7419810653 (\u001b[0m-1.365e-04\u001b[0m) Quality = \u001b[0m0.282\u001b[0m\r\n",
      "Hessian Eigenvalues: 1.95048e-02 2.37959e-02 3.13482e-02 ... 5.41000e-01 7.74836e-01 1.08959e+00\r\n"
     ]
    },
    {
     "name": "stdout",
     "output_type": "stream",
     "text": [
      "\r\n",
      "Geometry optimization cycle 6\r\n",
      "Cartesian coordinates (Angstrom)\r\n",
      " Atom        New coordinates             dX        dY        dZ\r\n",
      "   N  -1.137424  -0.179765   0.266045    0.002567  0.007209  0.005591\r\n",
      "   C  -0.076132   0.381818  -0.294132    0.002636 -0.004115 -0.008966\r\n",
      "   N   1.166869   0.019225   0.256499    0.001810  0.007371  0.004382\r\n",
      "   O  -0.043936   1.227459  -1.244237    0.004850  0.017315  0.009800\r\n",
      "   H  -1.956696   0.202715  -0.208139   -0.001415 -0.015956 -0.005120\r\n",
      "   H   1.944484   0.147257  -0.376826   -0.003315 -0.017873 -0.008617\r\n",
      "   H   1.178056  -0.863616   0.749804   -0.006284  0.006653  0.003279\r\n",
      "New geometry\r\n",
      "   1 N     -1.137424280613  -0.179765039186   0.266044778246 AA   -2.149420377789  -0.339706690833   0.502751767755 Bohr\r\n",
      "\r\n",
      "   2 C     -0.076132407179   0.381817679236  -0.294132019218 AA   -0.143869398773   0.721530843274  -0.555828960787 Bohr\r\n",
      "\r\n",
      "   3 N      1.166868780740   0.019224970408   0.256498936010 AA    2.205062418903   0.036329928823   0.484712740302 Bohr\r\n",
      "\r\n",
      "   4 O     -0.043935652397   1.227459377368  -1.244236861249 AA   -0.083026350135   2.319562052255  -2.351266901849 Bohr\r\n",
      "\r\n",
      "   5 H     -1.956696200422   0.202715213395  -0.208139035176 AA   -3.697619927776   0.383076234600  -0.393325772314 Bohr\r\n",
      "\r\n",
      "   6 H      1.944484240180   0.147257412905  -0.376825571683 AA    3.674542667473   0.278276180202  -0.712097127214 Bohr\r\n",
      "\r\n",
      "   7 H      1.178055537543  -0.863616434908   0.749803593438 AA    2.226202325484  -1.631998538650   1.416923438812 Bohr\r\n",
      "\r\n",
      "\r\n",
      "\r\n",
      "******** <class 'pyscf.scf.hf.PCMDFRKS_Scanner'> ********\r\n",
      "method = PCMDFRKS_Scanner\r\n",
      "initial guess = minao\r\n",
      "damping factor = 0\r\n",
      "level_shift factor = 0\r\n",
      "DIIS = <class 'gpu4pyscf.scf.diis.CDIIS'>\r\n",
      "diis_start_cycle = 1\r\n",
      "diis_space = 8\r\n",
      "diis_damp = 0\r\n",
      "SCF conv_tol = 1e-08\r\n",
      "SCF conv_tol_grad = 0.0003\r\n",
      "SCF max_cycles = 70\r\n",
      "direct_scf = False\r\n",
      "max_memory 4000 MB (current use 1372 MB)\r\n",
      "******** <class 'gpu4pyscf.solvent.pcm.PCM'> ********\r\n",
      "lebedev_order = 29 (302 grids per sphere)\r\n",
      "eps = 46.826\r\n",
      "frozen = False\r\n",
      "equilibrium_solvation = False\r\n",
      "tot grids = 223488\r\n"
     ]
    },
    {
     "name": "stdout",
     "output_type": "stream",
     "text": [
      "Default auxbasis aug-cc-pvdz-jkfit is used for O aug-cc-pVDZ\r\n",
      "Default auxbasis aug-cc-pvdz-jkfit is used for C aug-cc-pVDZ\r\n",
      "Default auxbasis aug-cc-pvdz-jkfit is used for H aug-cc-pVDZ\r\n",
      "Default auxbasis aug-cc-pvdz-jkfit is used for N aug-cc-pVDZ\r\n"
     ]
    },
    {
     "name": "stdout",
     "output_type": "stream",
     "text": [
      "<class 'gpu4pyscf.solvent.pcm.PCM'> E_diel = -0.115064016458767\r\n",
      "Solvent Energy = -0.115064016458767\r\n",
      "init E= -224.738944773253\r\n"
     ]
    },
    {
     "name": "stdout",
     "output_type": "stream",
     "text": [
      "<class 'gpu4pyscf.solvent.pcm.PCM'> E_diel = -0.115421365694526\r\n",
      "Solvent Energy = -0.115421365694526\r\n",
      "cycle= 1 E= -224.742317370736  delta_E= -0.00337  |ddm|= 0.0941\r\n"
     ]
    },
    {
     "name": "stdout",
     "output_type": "stream",
     "text": [
      "<class 'gpu4pyscf.solvent.pcm.PCM'> E_diel = -0.115346598236135\r\n",
      "Solvent Energy = -0.115346598236135\r\n",
      "cycle= 2 E= -224.74234708131  delta_E= -2.97e-05  |ddm|= 0.0157\r\n"
     ]
    },
    {
     "name": "stdout",
     "output_type": "stream",
     "text": [
      "<class 'gpu4pyscf.solvent.pcm.PCM'> E_diel = -0.115351481158922\r\n",
      "Solvent Energy = -0.115351481158922\r\n",
      "cycle= 3 E= -224.74234971647  delta_E= -2.64e-06  |ddm|= 0.00567\r\n"
     ]
    },
    {
     "name": "stdout",
     "output_type": "stream",
     "text": [
      "<class 'gpu4pyscf.solvent.pcm.PCM'> E_diel = -0.115360080157178\r\n",
      "Solvent Energy = -0.115360080157178\r\n",
      "cycle= 4 E= -224.742351260173  delta_E= -1.54e-06  |ddm|= 0.00238\r\n"
     ]
    },
    {
     "name": "stdout",
     "output_type": "stream",
     "text": [
      "<class 'gpu4pyscf.solvent.pcm.PCM'> E_diel = -0.115350526556646\r\n"
     ]
    },
    {
     "name": "stdout",
     "output_type": "stream",
     "text": [
      "Solvent Energy = -0.115350526556646\r\n",
      "cycle= 5 E= -224.742351379494  delta_E= -1.19e-07  |ddm|= 0.000766\r\n"
     ]
    },
    {
     "name": "stdout",
     "output_type": "stream",
     "text": [
      "<class 'gpu4pyscf.solvent.pcm.PCM'> E_diel = -0.115352189480851\r\n",
      "Solvent Energy = -0.115352189480851\r\n",
      "cycle= 6 E= -224.742351395164  delta_E= -1.57e-08  |ddm|= 0.000234\r\n"
     ]
    },
    {
     "name": "stdout",
     "output_type": "stream",
     "text": [
      "<class 'gpu4pyscf.solvent.pcm.PCM'> E_diel = -0.115352615152281\r\n",
      "Solvent Energy = -0.115352615152281\r\n",
      "cycle= 7 E= -224.742351395859  delta_E= -6.96e-10  |ddm|= 7.55e-05\r\n",
      "converged SCF energy = -224.742351395859\r\n",
      "\r\n",
      "\r\n",
      "******** <class 'gpu4pyscf.grad.rhf.PCMGradients_Scanner'> for <class 'pyscf.scf.hf.PCMDFRKS_Scanner'> ********\r\n",
      "unit = Eh/Bohr\r\n",
      "max_memory 4000 MB (current use 1374 MB)\r\n"
     ]
    },
    {
     "name": "stdout",
     "output_type": "stream",
     "text": [
      "--------------- PCMDFRKS_Scanner (+PCM) gradients ---------------\r\n",
      "         x                y                z\r\n",
      "0 N     0.0000860376     0.0002641199    -0.0002531225\r\n",
      "1 C     0.0025298327     0.0004373054     0.0027046473\r\n",
      "2 N    -0.0021909225    -0.0013828415    -0.0028034200\r\n",
      "3 O     0.0000618890    -0.0005398419    -0.0002956772\r\n",
      "4 H    -0.0003787237    -0.0002444148    -0.0002556450\r\n",
      "5 H    -0.0001834469     0.0008329698     0.0005039084\r\n",
      "6 H     0.0000649167     0.0006198103     0.0003912857\r\n",
      "----------------------------------------------\r\n",
      "cycle 6: E = -224.742351396  dE = -0.000370331  norm(grad) = 0.00554917\r\n",
      "Step    5 : Displace = \u001b[0m1.446e-02\u001b[0m/\u001b[0m2.010e-02\u001b[0m (rms/max) Trust = 1.414e-01 (=) Grad = \u001b[0m2.097e-03\u001b[0m/\u001b[0m3.817e-03\u001b[0m (rms/max) E (change) = -224.7423513959 (\u001b[0m-3.703e-04\u001b[0m) Quality = \u001b[0m1.205\u001b[0m\r\n",
      "Hessian Eigenvalues: 1.67407e-02 2.62033e-02 2.92859e-02 ... 5.22879e-01 7.75045e-01 1.08540e+00\r\n",
      "\r\n",
      "Geometry optimization cycle 7\r\n",
      "Cartesian coordinates (Angstrom)\r\n",
      " Atom        New coordinates             dX        dY        dZ\r\n",
      "   N  -1.132770  -0.185153   0.261029    0.004655 -0.005388 -0.005016\r\n",
      "   C  -0.074702   0.383047  -0.296648    0.001431  0.001229 -0.002516\r\n",
      "   N   1.170047   0.031175   0.267668    0.003178  0.011951  0.011169\r\n",
      "   O  -0.042832   1.236131  -1.240352    0.001104  0.008671  0.003884\r\n",
      "   H  -1.953527   0.200167  -0.207319    0.003169 -0.002548  0.000820\r\n",
      "   H   1.939256   0.131033  -0.382240   -0.005228 -0.016224 -0.005415\r\n",
      "   H   1.171011  -0.859871   0.747725   -0.007044  0.003746 -0.002079\r\n",
      "New geometry\r\n",
      "   1 N     -1.132769703802  -0.185152888473   0.261028731945 AA   -2.140624502391  -0.349888250387   0.493272814019 Bohr\r\n",
      "\r\n",
      "   2 C     -0.074701753715   0.383047103391  -0.296647862458 AA   -0.141165855546   0.723854118216  -0.560583215484 Bohr\r\n",
      "\r\n",
      "   3 N      1.170046835702   0.031175472586   0.267667996577 AA    2.211068072390   0.058913104992   0.505819205841 Bohr\r\n",
      "\r\n",
      "   4 O     -0.042832000731   1.236130597158  -1.240352495275 AA   -0.080940750748   2.335948282824  -2.343926513990 Bohr\r\n",
      "\r\n",
      "   5 H     -1.953527028421   0.200167387149  -0.207318783172 AA   -3.691631060652   0.378261540781  -0.391775720673 Bohr\r\n",
      "\r\n",
      "   6 H      1.939255863221   0.131032943092  -0.382240266500 AA    3.664662466944   0.247616375740  -0.722329417465 Bohr\r\n",
      "\r\n",
      "   7 H      1.171011079914  -0.859870521738   0.747724768803 AA    2.212890229868  -1.624919788671   1.412995029592 Bohr\r\n",
      "\r\n",
      "\r\n",
      "\r\n",
      "******** <class 'pyscf.scf.hf.PCMDFRKS_Scanner'> ********\r\n",
      "method = PCMDFRKS_Scanner\r\n",
      "initial guess = minao\r\n",
      "damping factor = 0\r\n",
      "level_shift factor = 0\r\n",
      "DIIS = <class 'gpu4pyscf.scf.diis.CDIIS'>\r\n",
      "diis_start_cycle = 1\r\n",
      "diis_space = 8\r\n",
      "diis_damp = 0\r\n",
      "SCF conv_tol = 1e-08\r\n",
      "SCF conv_tol_grad = 0.0003\r\n",
      "SCF max_cycles = 70\r\n",
      "direct_scf = False\r\n",
      "max_memory 4000 MB (current use 1372 MB)\r\n",
      "******** <class 'gpu4pyscf.solvent.pcm.PCM'> ********\r\n",
      "lebedev_order = 29 (302 grids per sphere)\r\n",
      "eps = 46.826\r\n",
      "frozen = False\r\n",
      "equilibrium_solvation = False\r\n",
      "tot grids = 223488\r\n"
     ]
    },
    {
     "name": "stdout",
     "output_type": "stream",
     "text": [
      "Default auxbasis aug-cc-pvdz-jkfit is used for O aug-cc-pVDZ\r\n",
      "Default auxbasis aug-cc-pvdz-jkfit is used for C aug-cc-pVDZ\r\n",
      "Default auxbasis aug-cc-pvdz-jkfit is used for H aug-cc-pVDZ\r\n",
      "Default auxbasis aug-cc-pvdz-jkfit is used for N aug-cc-pVDZ\r\n"
     ]
    },
    {
     "name": "stdout",
     "output_type": "stream",
     "text": [
      "<class 'gpu4pyscf.solvent.pcm.PCM'> E_diel = -0.114964429229589\r\n",
      "Solvent Energy = -0.114964429229589\r\n",
      "init E= -224.738617497699\r\n"
     ]
    },
    {
     "name": "stdout",
     "output_type": "stream",
     "text": [
      "<class 'gpu4pyscf.solvent.pcm.PCM'> E_diel = -0.115145117831809\r\n",
      "Solvent Energy = -0.115145117831809\r\n",
      "cycle= 1 E= -224.742427874637  delta_E= -0.00381  |ddm|= 0.0779\r\n"
     ]
    },
    {
     "name": "stdout",
     "output_type": "stream",
     "text": [
      "<class 'gpu4pyscf.solvent.pcm.PCM'> E_diel = -0.115095847639467\r\n",
      "Solvent Energy = -0.115095847639467\r\n",
      "cycle= 2 E= -224.742442026101  delta_E= -1.42e-05  |ddm|= 0.0138\r\n"
     ]
    },
    {
     "name": "stdout",
     "output_type": "stream",
     "text": [
      "<class 'gpu4pyscf.solvent.pcm.PCM'> E_diel = -0.115071978517514\r\n",
      "Solvent Energy = -0.115071978517514\r\n",
      "cycle= 3 E= -224.742445028659  delta_E= -3e-06  |ddm|= 0.00511\r\n"
     ]
    },
    {
     "name": "stdout",
     "output_type": "stream",
     "text": [
      "<class 'gpu4pyscf.solvent.pcm.PCM'> E_diel = -0.115082691083463\r\n",
      "Solvent Energy = -0.115082691083463\r\n",
      "cycle= 4 E= -224.74244642803  delta_E= -1.4e-06  |ddm|= 0.00215\r\n"
     ]
    },
    {
     "name": "stdout",
     "output_type": "stream",
     "text": [
      "<class 'gpu4pyscf.solvent.pcm.PCM'> E_diel = -0.115073907239489\r\n",
      "Solvent Energy = -0.115073907239489\r\n",
      "cycle= 5 E= -224.742446480848  delta_E= -5.28e-08  |ddm|= 0.000812\r\n"
     ]
    },
    {
     "name": "stdout",
     "output_type": "stream",
     "text": [
      "<class 'gpu4pyscf.solvent.pcm.PCM'> E_diel = -0.115074798986606\r\n",
      "Solvent Energy = -0.115074798986606\r\n",
      "cycle= 6 E= -224.742446493282  delta_E= -1.24e-08  |ddm|= 0.000214\r\n"
     ]
    },
    {
     "name": "stdout",
     "output_type": "stream",
     "text": [
      "<class 'gpu4pyscf.solvent.pcm.PCM'> E_diel = -0.11507474957349\r\n",
      "Solvent Energy = -0.11507474957349\r\n",
      "cycle= 7 E= -224.742446494821  delta_E= -1.54e-09  |ddm|= 0.000129\r\n",
      "converged SCF energy = -224.742446494821\r\n",
      "\r\n",
      "\r\n",
      "******** <class 'gpu4pyscf.grad.rhf.PCMGradients_Scanner'> for <class 'pyscf.scf.hf.PCMDFRKS_Scanner'> ********\r\n",
      "unit = Eh/Bohr\r\n",
      "max_memory 4000 MB (current use 1373 MB)\r\n"
     ]
    },
    {
     "name": "stdout",
     "output_type": "stream",
     "text": [
      "--------------- PCMDFRKS_Scanner (+PCM) gradients ---------------\r\n",
      "         x                y                z\r\n",
      "0 N     0.0001926742     0.0004082913     0.0001996062\r\n",
      "1 C     0.0016958580    -0.0015155255     0.0008040471\r\n",
      "2 N    -0.0017614203    -0.0003825574    -0.0009053457\r\n",
      "3 O     0.0000639283     0.0008152925    -0.0004942670\r\n",
      "4 H     0.0001030675    -0.0001505149     0.0000761995\r\n",
      "5 H    -0.0003582215     0.0003023016     0.0002685390\r\n",
      "6 H     0.0000516627     0.0005099239     0.0000419675\r\n",
      "----------------------------------------------\r\n",
      "cycle 7: E = -224.742446495  dE = -9.5099e-05  norm(grad) = 0.00341174\r\n",
      "Step    6 : Displace = \u001b[0m1.097e-02\u001b[0m/\u001b[0m1.798e-02\u001b[0m (rms/max) Trust = 2.000e-01 (\u001b[92m+\u001b[0m) Grad = \u001b[0m1.290e-03\u001b[0m/\u001b[0m2.412e-03\u001b[0m (rms/max) E (change) = -224.7424464948 (\u001b[0m-9.510e-05\u001b[0m) Quality = \u001b[0m1.289\u001b[0m\r\n"
     ]
    },
    {
     "name": "stdout",
     "output_type": "stream",
     "text": [
      "Hessian Eigenvalues: 1.24100e-02 2.61664e-02 2.71806e-02 ... 5.12230e-01 7.71786e-01 1.12967e+00\r\n",
      "\r\n",
      "Geometry optimization cycle 8\r\n",
      "Cartesian coordinates (Angstrom)\r\n",
      " Atom        New coordinates             dX        dY        dZ\r\n",
      "   N  -1.131325  -0.186604   0.258573    0.001445 -0.001451 -0.002456\r\n",
      "   C  -0.074065   0.386788  -0.294693    0.000637  0.003741  0.001954\r\n",
      "   N   1.173713   0.037888   0.274503    0.003667  0.006712  0.006835\r\n",
      "   O  -0.042185   1.240171  -1.237492    0.000647  0.004040  0.002860\r\n",
      "   H  -1.952479   0.198486  -0.209628    0.001048 -0.001682 -0.002310\r\n",
      "   H   1.937042   0.120256  -0.386186   -0.002214 -0.010776 -0.003946\r\n",
      "   H   1.167414  -0.858814   0.745924   -0.003597  0.001057 -0.001801\r\n",
      "New geometry\r\n",
      "   1 N     -1.131325132938  -0.186603944694   0.258572708662 AA   -2.137894659091  -0.352630349235   0.488631602658 Bohr\r\n",
      "\r\n",
      "   2 C     -0.074064521769   0.386788039298  -0.294693366490 AA   -0.139961661690   0.730923462531  -0.556889753391 Bohr\r\n",
      "\r\n",
      "   3 N      1.173713491624   0.037887784613   0.274502773189 AA    2.217997047877   0.071597536385   0.518735061761 Bohr\r\n",
      "\r\n",
      "   4 O     -0.042184520059   1.240170705067  -1.237492371156 AA   -0.079717189607   2.343582980286  -2.338521662724 Bohr\r\n",
      "\r\n",
      "   5 H     -1.952478614062   0.198485624916  -0.209628395846 AA   -3.689649844648   0.375083470755  -0.396140256080 Bohr\r\n",
      "\r\n",
      "   6 H      1.937041730558   0.120256443221  -0.386186130532 AA    3.660478362609   0.227251742402  -0.729786019811 Bohr\r\n",
      "\r\n",
      "   7 H      1.167413581327  -0.858813636562   0.745923527498 AA    2.206091942805  -1.622922565145   1.409591176840 Bohr\r\n",
      "\r\n",
      "\r\n",
      "\r\n",
      "******** <class 'pyscf.scf.hf.PCMDFRKS_Scanner'> ********\r\n",
      "method = PCMDFRKS_Scanner\r\n",
      "initial guess = minao\r\n",
      "damping factor = 0\r\n",
      "level_shift factor = 0\r\n",
      "DIIS = <class 'gpu4pyscf.scf.diis.CDIIS'>\r\n",
      "diis_start_cycle = 1\r\n",
      "diis_space = 8\r\n",
      "diis_damp = 0\r\n",
      "SCF conv_tol = 1e-08\r\n",
      "SCF conv_tol_grad = 0.0003\r\n",
      "SCF max_cycles = 70\r\n",
      "direct_scf = False\r\n",
      "max_memory 4000 MB (current use 1372 MB)\r\n",
      "******** <class 'gpu4pyscf.solvent.pcm.PCM'> ********\r\n",
      "lebedev_order = 29 (302 grids per sphere)\r\n",
      "eps = 46.826\r\n",
      "frozen = False\r\n",
      "equilibrium_solvation = False\r\n",
      "tot grids = 223488\r\n"
     ]
    },
    {
     "name": "stdout",
     "output_type": "stream",
     "text": [
      "Default auxbasis aug-cc-pvdz-jkfit is used for O aug-cc-pVDZ\r\n",
      "Default auxbasis aug-cc-pvdz-jkfit is used for C aug-cc-pVDZ\r\n",
      "Default auxbasis aug-cc-pvdz-jkfit is used for H aug-cc-pVDZ\r\n",
      "Default auxbasis aug-cc-pvdz-jkfit is used for N aug-cc-pVDZ\r\n"
     ]
    },
    {
     "name": "stdout",
     "output_type": "stream",
     "text": [
      "<class 'gpu4pyscf.solvent.pcm.PCM'> E_diel = -0.114986494116687\r\n",
      "Solvent Energy = -0.114986494116687\r\n",
      "init E= -224.740549678378\r\n"
     ]
    },
    {
     "name": "stdout",
     "output_type": "stream",
     "text": [
      "<class 'gpu4pyscf.solvent.pcm.PCM'> E_diel = -0.114931682051965\r\n",
      "Solvent Energy = -0.114931682051965\r\n",
      "cycle= 1 E= -224.742460644782  delta_E= -0.00191  |ddm|= 0.0452\r\n"
     ]
    },
    {
     "name": "stdout",
     "output_type": "stream",
     "text": [
      "<class 'gpu4pyscf.solvent.pcm.PCM'> E_diel = -0.114911834258678\r\n",
      "Solvent Energy = -0.114911834258678\r\n",
      "cycle= 2 E= -224.74246546256  delta_E= -4.82e-06  |ddm|= 0.00817\r\n"
     ]
    },
    {
     "name": "stdout",
     "output_type": "stream",
     "text": [
      "<class 'gpu4pyscf.solvent.pcm.PCM'> E_diel = -0.114885189360991\r\n",
      "Solvent Energy = -0.114885189360991\r\n",
      "cycle= 3 E= -224.742466618804  delta_E= -1.16e-06  |ddm|= 0.00313\r\n"
     ]
    },
    {
     "name": "stdout",
     "output_type": "stream",
     "text": [
      "<class 'gpu4pyscf.solvent.pcm.PCM'> E_diel = -0.114892889560158\r\n",
      "Solvent Energy = -0.114892889560158\r\n",
      "cycle= 4 E= -224.742467197251  delta_E= -5.78e-07  |ddm|= 0.00136\r\n"
     ]
    },
    {
     "name": "stdout",
     "output_type": "stream",
     "text": [
      "<class 'gpu4pyscf.solvent.pcm.PCM'> E_diel = -0.114888969311534\r\n",
      "Solvent Energy = -0.114888969311534\r\n",
      "cycle= 5 E= -224.742467213447  delta_E= -1.62e-08  |ddm|= 0.000496\r\n"
     ]
    },
    {
     "name": "stdout",
     "output_type": "stream",
     "text": [
      "<class 'gpu4pyscf.solvent.pcm.PCM'> E_diel = -0.11488849832341\r\n"
     ]
    },
    {
     "name": "stdout",
     "output_type": "stream",
     "text": [
      "Solvent Energy = -0.11488849832341\r\n",
      "cycle= 6 E= -224.742467219135  delta_E= -5.69e-09  |ddm|= 0.000138\r\n",
      "converged SCF energy = -224.742467219135\r\n",
      "\r\n",
      "\r\n",
      "******** <class 'gpu4pyscf.grad.rhf.PCMGradients_Scanner'> for <class 'pyscf.scf.hf.PCMDFRKS_Scanner'> ********\r\n",
      "unit = Eh/Bohr\r\n",
      "max_memory 4000 MB (current use 1373 MB)\r\n"
     ]
    },
    {
     "name": "stdout",
     "output_type": "stream",
     "text": [
      "--------------- PCMDFRKS_Scanner (+PCM) gradients ---------------\r\n",
      "         x                y                z\r\n",
      "0 N    -0.0000226834     0.0001792660     0.0000473053\r\n",
      "1 C     0.0007871302    -0.0010909395     0.0005591692\r\n",
      "2 N    -0.0006825956     0.0003048272    -0.0000556678\r\n",
      "3 O    -0.0000614993     0.0007184392    -0.0005611998\r\n",
      "4 H     0.0000111272    -0.0000830817     0.0000631641\r\n",
      "5 H    -0.0000690423    -0.0000730542    -0.0000228012\r\n",
      "6 H     0.0000228402     0.0000329083    -0.0000388168\r\n",
      "----------------------------------------------\r\n",
      "cycle 8: E = -224.742467219  dE = -2.07243e-05  norm(grad) = 0.00189179\r\n",
      "Step    7 : Displace = \u001b[0m6.609e-03\u001b[0m/\u001b[0m1.145e-02\u001b[0m (rms/max) Trust = 2.828e-01 (\u001b[92m+\u001b[0m) Grad = \u001b[0m7.150e-04\u001b[0m/\u001b[0m1.457e-03\u001b[0m (rms/max) E (change) = -224.7424672191 (\u001b[0m-2.072e-05\u001b[0m) Quality = \u001b[0m1.080\u001b[0m\r\n",
      "Hessian Eigenvalues: 1.41598e-02 2.63102e-02 2.74734e-02 ... 5.09387e-01 7.69545e-01 1.08857e+00\r\n"
     ]
    },
    {
     "name": "stdout",
     "output_type": "stream",
     "text": [
      "\r\n",
      "Geometry optimization cycle 9\r\n",
      "Cartesian coordinates (Angstrom)\r\n",
      " Atom        New coordinates             dX        dY        dZ\r\n",
      "   N  -1.131817  -0.186221   0.258185   -0.000492  0.000383 -0.000387\r\n",
      "   C  -0.074339   0.387586  -0.294215   -0.000274  0.000798  0.000478\r\n",
      "   N   1.174201   0.037164   0.274691    0.000488 -0.000723  0.000189\r\n",
      "   O  -0.041690   1.240167  -1.237028    0.000494 -0.000004  0.000464\r\n",
      "   H  -1.952356   0.200208  -0.210129    0.000123  0.001723 -0.000501\r\n",
      "   H   1.937930   0.120028  -0.385601    0.000888 -0.000228  0.000585\r\n",
      "   H   1.167428  -0.859772   0.745846    0.000014 -0.000959 -0.000078\r\n",
      "New geometry\r\n",
      "   1 N     -1.131817281388  -0.186220885098   0.258185465049 AA   -2.138824684873  -0.351906471509   0.487899818286 Bohr\r\n",
      "\r\n",
      "   2 C     -0.074338575857   0.387586263785  -0.294215446572 AA   -0.140479548859   0.732431888197  -0.555986615637 Bohr\r\n",
      "\r\n",
      "   3 N      1.174201314090   0.037164321579   0.274691403442 AA    2.218918898735   0.070230389390   0.519091521277 Bohr\r\n",
      "\r\n",
      "   4 O     -0.041690268593   1.240166509034  -1.237028372280 AA   -0.078783189699   2.343575050933  -2.337644831925 Bohr\r\n",
      "\r\n",
      "   5 H     -1.952356041868   0.200208347015  -0.210129307325 AA   -3.689418216771   0.378338943709  -0.397086841588 Bohr\r\n",
      "\r\n",
      "   6 H      1.937929873412   0.120028351164  -0.385600713798 AA    3.662156709361   0.226820710884  -0.728679742515 Bohr\r\n",
      "\r\n",
      "   7 H      1.167427950622  -0.859772350699   0.745845669927 AA    2.206119096837  -1.624734272295   1.409444047354 Bohr\r\n",
      "\r\n",
      "\r\n",
      "\r\n",
      "******** <class 'pyscf.scf.hf.PCMDFRKS_Scanner'> ********\r\n",
      "method = PCMDFRKS_Scanner\r\n",
      "initial guess = minao\r\n",
      "damping factor = 0\r\n",
      "level_shift factor = 0\r\n",
      "DIIS = <class 'gpu4pyscf.scf.diis.CDIIS'>\r\n",
      "diis_start_cycle = 1\r\n",
      "diis_space = 8\r\n",
      "diis_damp = 0\r\n",
      "SCF conv_tol = 1e-08\r\n",
      "SCF conv_tol_grad = 0.0003\r\n",
      "SCF max_cycles = 70\r\n",
      "direct_scf = False\r\n",
      "max_memory 4000 MB (current use 1372 MB)\r\n",
      "******** <class 'gpu4pyscf.solvent.pcm.PCM'> ********\r\n",
      "lebedev_order = 29 (302 grids per sphere)\r\n",
      "eps = 46.826\r\n",
      "frozen = False\r\n",
      "equilibrium_solvation = False\r\n",
      "tot grids = 223488\r\n"
     ]
    },
    {
     "name": "stdout",
     "output_type": "stream",
     "text": [
      "Default auxbasis aug-cc-pvdz-jkfit is used for O aug-cc-pVDZ\r\n",
      "Default auxbasis aug-cc-pvdz-jkfit is used for C aug-cc-pVDZ\r\n",
      "Default auxbasis aug-cc-pvdz-jkfit is used for H aug-cc-pVDZ\r\n",
      "Default auxbasis aug-cc-pvdz-jkfit is used for N aug-cc-pVDZ\r\n"
     ]
    },
    {
     "name": "stdout",
     "output_type": "stream",
     "text": [
      "<class 'gpu4pyscf.solvent.pcm.PCM'> E_diel = -0.114968693842693\r\n",
      "Solvent Energy = -0.114968693842693\r\n",
      "init E= -224.742741336557\r\n"
     ]
    },
    {
     "name": "stdout",
     "output_type": "stream",
     "text": [
      "<class 'gpu4pyscf.solvent.pcm.PCM'> E_diel = -0.11485765000776\r\n",
      "Solvent Energy = -0.11485765000776\r\n",
      "cycle= 1 E= -224.742469224017  delta_E= 0.000272  |ddm|= 0.00514\r\n"
     ]
    },
    {
     "name": "stdout",
     "output_type": "stream",
     "text": [
      "<class 'gpu4pyscf.solvent.pcm.PCM'> E_diel = -0.114861730942632\r\n",
      "Solvent Energy = -0.114861730942632\r\n",
      "cycle= 2 E= -224.742469261947  delta_E= -3.79e-08  |ddm|= 0.00168\r\n"
     ]
    },
    {
     "name": "stdout",
     "output_type": "stream",
     "text": [
      "<class 'gpu4pyscf.solvent.pcm.PCM'> E_diel = -0.11485369366089\r\n",
      "Solvent Energy = -0.11485369366089\r\n",
      "cycle= 3 E= -224.74246942577  delta_E= -1.64e-07  |ddm|= 0.000768\r\n"
     ]
    },
    {
     "name": "stdout",
     "output_type": "stream",
     "text": [
      "<class 'gpu4pyscf.solvent.pcm.PCM'> E_diel = -0.114853486096831\r\n",
      "Solvent Energy = -0.114853486096831\r\n",
      "cycle= 4 E= -224.742469440833  delta_E= -1.51e-08  |ddm|= 0.000227\r\n"
     ]
    },
    {
     "name": "stdout",
     "output_type": "stream",
     "text": [
      "<class 'gpu4pyscf.solvent.pcm.PCM'> E_diel = -0.114853786848443\r\n",
      "Solvent Energy = -0.114853786848443\r\n",
      "cycle= 5 E= -224.742469441487  delta_E= -6.54e-10  |ddm|= 8.72e-05\r\n",
      "converged SCF energy = -224.742469441487\r\n",
      "\r\n",
      "\r\n",
      "******** <class 'gpu4pyscf.grad.rhf.PCMGradients_Scanner'> for <class 'pyscf.scf.hf.PCMDFRKS_Scanner'> ********\r\n",
      "unit = Eh/Bohr\r\n",
      "max_memory 4000 MB (current use 1373 MB)\r\n"
     ]
    },
    {
     "name": "stdout",
     "output_type": "stream",
     "text": [
      "--------------- PCMDFRKS_Scanner (+PCM) gradients ---------------\r\n",
      "         x                y                z\r\n",
      "0 N    -0.0000334255     0.0000311027    -0.0000304498\r\n",
      "1 C     0.0001660812    -0.0003942771     0.0003772467\r\n",
      "2 N    -0.0002066803     0.0001600888    -0.0000414031\r\n",
      "3 O    -0.0000434592     0.0002918330    -0.0003303906\r\n",
      "4 H     0.0000279738    -0.0000209999     0.0000250940\r\n",
      "5 H     0.0000565450    -0.0000427066    -0.0000352086\r\n",
      "6 H     0.0000175258    -0.0000365718     0.0000259178\r\n",
      "----------------------------------------------\r\n",
      "cycle 9: E = -224.742469441  dE = -2.22235e-06  norm(grad) = 0.000777861\r\n",
      "Step    8 : Displace = \u001b[92m6.654e-04\u001b[0m/\u001b[92m8.345e-04\u001b[0m (rms/max) Trust = 3.000e-01 (\u001b[92m+\u001b[0m) Grad = \u001b[92m2.940e-04\u001b[0m/\u001b[0m5.704e-04\u001b[0m (rms/max) E (change) = -224.7424694415 (\u001b[0m-2.222e-06\u001b[0m) Quality = \u001b[0m1.254\u001b[0m\r\n",
      "Hessian Eigenvalues: 1.40804e-02 2.64614e-02 2.75316e-02 ... 5.06298e-01 6.79029e-01 1.06593e+00\r\n",
      "\r\n",
      "Geometry optimization cycle 10\r\n",
      "Cartesian coordinates (Angstrom)\r\n",
      " Atom        New coordinates             dX        dY        dZ\r\n",
      "   N  -1.131928  -0.185365   0.257908   -0.000110  0.000856 -0.000278\r\n",
      "   C  -0.074035   0.388256  -0.294007    0.000304  0.000670  0.000209\r\n",
      "   N   1.174434   0.036425   0.275105    0.000233 -0.000740  0.000414\r\n",
      "   O  -0.040310   1.240684  -1.236314    0.001380  0.000518  0.000715\r\n",
      "   H  -1.952230   0.201626  -0.210496    0.000126  0.001418 -0.000367\r\n",
      "   H   1.938269   0.119701  -0.384914    0.000340 -0.000327  0.000687\r\n",
      "   H   1.166926  -0.860828   0.745526   -0.000502 -0.001056 -0.000320\r\n",
      "New geometry\r\n",
      "   1 N     -1.131927704026  -0.185364896023   0.257907818871 AA   -2.139033353416  -0.350288886592   0.487375143050 Bohr\r\n",
      "\r\n",
      "   2 C     -0.074034815524   0.388255952759  -0.294006832935 AA   -0.139905525023   0.733697416947  -0.555592392998 Bohr\r\n",
      "\r\n",
      "   3 N      1.174434031776   0.036424807318   0.275104921425 AA    2.219358671426   0.068832909970   0.519872957012 Bohr\r\n",
      "\r\n",
      "   4 O     -0.040310323461   1.240684038059  -1.236313589418 AA   -0.076175471334   2.344553039051  -2.336294088078 Bohr\r\n",
      "\r\n",
      "   5 H     -1.952230407146   0.201626233875  -0.210496199579 AA   -3.689180801555   0.381018361550  -0.397780167465 Bohr\r\n",
      "\r\n",
      "   6 H      1.938269428640   0.119701366261  -0.384914196875 AA    3.662798375748   0.226202798970  -0.727382413551 Bohr\r\n",
      "\r\n",
      "   7 H      1.166925980877  -0.860828142117   0.745526052176 AA    2.205170511498  -1.626729428919   1.408840057340 Bohr\r\n",
      "\r\n",
      "\r\n",
      "\r\n",
      "******** <class 'pyscf.scf.hf.PCMDFRKS_Scanner'> ********\r\n",
      "method = PCMDFRKS_Scanner\r\n",
      "initial guess = minao\r\n",
      "damping factor = 0\r\n",
      "level_shift factor = 0\r\n",
      "DIIS = <class 'gpu4pyscf.scf.diis.CDIIS'>\r\n",
      "diis_start_cycle = 1\r\n",
      "diis_space = 8\r\n",
      "diis_damp = 0\r\n",
      "SCF conv_tol = 1e-08\r\n",
      "SCF conv_tol_grad = 0.0003\r\n",
      "SCF max_cycles = 70\r\n",
      "direct_scf = False\r\n",
      "max_memory 4000 MB (current use 1372 MB)\r\n",
      "******** <class 'gpu4pyscf.solvent.pcm.PCM'> ********\r\n",
      "lebedev_order = 29 (302 grids per sphere)\r\n",
      "eps = 46.826\r\n",
      "frozen = False\r\n",
      "equilibrium_solvation = False\r\n",
      "tot grids = 223488\r\n"
     ]
    },
    {
     "name": "stdout",
     "output_type": "stream",
     "text": [
      "Default auxbasis aug-cc-pvdz-jkfit is used for O aug-cc-pVDZ\r\n",
      "Default auxbasis aug-cc-pvdz-jkfit is used for C aug-cc-pVDZ\r\n",
      "Default auxbasis aug-cc-pvdz-jkfit is used for H aug-cc-pVDZ\r\n",
      "Default auxbasis aug-cc-pvdz-jkfit is used for N aug-cc-pVDZ\r\n"
     ]
    },
    {
     "name": "stdout",
     "output_type": "stream",
     "text": [
      "<class 'gpu4pyscf.solvent.pcm.PCM'> E_diel = -0.114952360346557\r\n",
      "Solvent Energy = -0.114952360346557\r\n",
      "init E= -224.74295668029\r\n"
     ]
    },
    {
     "name": "stdout",
     "output_type": "stream",
     "text": [
      "<class 'gpu4pyscf.solvent.pcm.PCM'> E_diel = -0.114829326149211\r\n",
      "Solvent Energy = -0.114829326149211\r\n",
      "cycle= 1 E= -224.742469781932  delta_E= 0.000487  |ddm|= 0.00306\r\n"
     ]
    },
    {
     "name": "stdout",
     "output_type": "stream",
     "text": [
      "<class 'gpu4pyscf.solvent.pcm.PCM'> E_diel = -0.11483731611854\r\n",
      "Solvent Energy = -0.11483731611854\r\n",
      "cycle= 2 E= -224.742469804489  delta_E= -2.26e-08  |ddm|= 0.00125\r\n"
     ]
    },
    {
     "name": "stdout",
     "output_type": "stream",
     "text": [
      "<class 'gpu4pyscf.solvent.pcm.PCM'> E_diel = -0.114830142057835\r\n",
      "Solvent Energy = -0.114830142057835\r\n",
      "cycle= 3 E= -224.7424699155  delta_E= -1.11e-07  |ddm|= 0.000611\r\n"
     ]
    },
    {
     "name": "stdout",
     "output_type": "stream",
     "text": [
      "<class 'gpu4pyscf.solvent.pcm.PCM'> E_diel = -0.114829665997463\r\n",
      "Solvent Energy = -0.114829665997463\r\n",
      "cycle= 4 E= -224.742469922916  delta_E= -7.42e-09  |ddm|= 0.000173\r\n",
      "converged SCF energy = -224.742469922916\r\n",
      "\r\n",
      "\r\n",
      "******** <class 'gpu4pyscf.grad.rhf.PCMGradients_Scanner'> for <class 'pyscf.scf.hf.PCMDFRKS_Scanner'> ********\r\n",
      "unit = Eh/Bohr\r\n",
      "max_memory 4000 MB (current use 1373 MB)\r\n"
     ]
    },
    {
     "name": "stdout",
     "output_type": "stream",
     "text": [
      "--------------- PCMDFRKS_Scanner (+PCM) gradients ---------------\r\n",
      "         x                y                z\r\n",
      "0 N     0.0000003821    -0.0000301785    -0.0000096963\r\n",
      "1 C    -0.0000300624     0.0000262565     0.0000547125\r\n",
      "2 N     0.0000190937     0.0000280157    -0.0000295634\r\n",
      "3 O    -0.0000067867    -0.0000241996    -0.0000403038\r\n",
      "4 H    -0.0000120402    -0.0000032008     0.0000016914\r\n",
      "5 H     0.0000135879    -0.0000128627    -0.0000061469\r\n",
      "6 H     0.0000002667     0.0000050820     0.0000199549\r\n",
      "----------------------------------------------\r\n",
      "cycle 10: E = -224.742469923  dE = -4.8143e-07  norm(grad) = 0.00010412\r\n",
      "Step    9 : Displace = \u001b[92m2.924e-04\u001b[0m/\u001b[92m4.516e-04\u001b[0m (rms/max) Trust = 3.000e-01 (=) Grad = \u001b[92m3.935e-05\u001b[0m/\u001b[92m6.772e-05\u001b[0m (rms/max) E (change) = -224.7424699229 (\u001b[92m-4.814e-07\u001b[0m) Quality = \u001b[0m1.186\u001b[0m\r\n",
      "Hessian Eigenvalues: 1.40804e-02 2.64614e-02 2.75316e-02 ... 5.06298e-01 6.79029e-01 1.06593e+00\r\n",
      "Converged! =D\r\n",
      "\r\n",
      "    #==========================================================================#\r\n",
      "    #| If this code has benefited your research, please support us by citing: |#\r\n",
      "    #|                                                                        |#\r\n",
      "    #| Wang, L.-P.; Song, C.C. (2016) \"Geometry optimization made simple with |#\r\n",
      "    #| translation and rotation coordinates\", J. Chem, Phys. 144, 214108.     |#\r\n",
      "    #| http://dx.doi.org/10.1063/1.4952956                                    |#\r\n",
      "    #==========================================================================#\r\n",
      "    Time elapsed since start of run_optimizer: 13.389 seconds\r\n"
     ]
    },
    {
     "name": "stdout",
     "output_type": "stream",
     "text": [
      "\r\n",
      "\r\n",
      "******** <class 'gpu4pyscf.solvent._attach_solvent.PCMDFRKS'> ********\r\n",
      "method = PCMDFRKS\r\n",
      "initial guess = minao\r\n",
      "damping factor = 0\r\n",
      "level_shift factor = 0\r\n",
      "DIIS = <class 'gpu4pyscf.scf.diis.CDIIS'>\r\n",
      "diis_start_cycle = 1\r\n",
      "diis_space = 8\r\n",
      "diis_damp = 0\r\n",
      "SCF conv_tol = 1e-08\r\n",
      "SCF conv_tol_grad = 0.0003\r\n",
      "SCF max_cycles = 70\r\n",
      "direct_scf = False\r\n",
      "max_memory 4000 MB (current use 1372 MB)\r\n",
      "******** <class 'gpu4pyscf.solvent.pcm.PCM'> ********\r\n",
      "lebedev_order = 29 (302 grids per sphere)\r\n",
      "eps = 46.826\r\n",
      "frozen = False\r\n",
      "equilibrium_solvation = False\r\n",
      "Initial guess from minao.\r\n"
     ]
    },
    {
     "name": "stdout",
     "output_type": "stream",
     "text": [
      "tot grids = 223488\r\n"
     ]
    },
    {
     "name": "stdout",
     "output_type": "stream",
     "text": [
      "Default auxbasis aug-cc-pvdz-jkfit is used for O aug-cc-pVDZ\r\n",
      "Default auxbasis aug-cc-pvdz-jkfit is used for C aug-cc-pVDZ\r\n",
      "Default auxbasis aug-cc-pvdz-jkfit is used for H aug-cc-pVDZ\r\n",
      "Default auxbasis aug-cc-pvdz-jkfit is used for N aug-cc-pVDZ\r\n"
     ]
    },
    {
     "name": "stdout",
     "output_type": "stream",
     "text": [
      "<class 'gpu4pyscf.solvent.pcm.PCM'> E_diel = -0.000204101575799221\r\n",
      "Solvent Energy = -0.000204101575799221\r\n",
      "init E= -225.054950093568\r\n"
     ]
    },
    {
     "name": "stdout",
     "output_type": "stream",
     "text": [
      "<class 'gpu4pyscf.solvent.pcm.PCM'> E_diel = -0.127223969763401\r\n",
      "Solvent Energy = -0.127223969763401\r\n",
      "cycle= 1 E= -224.594336778875  delta_E= 0.461  |ddm|= 2.81\r\n"
     ]
    },
    {
     "name": "stdout",
     "output_type": "stream",
     "text": [
      "<class 'gpu4pyscf.solvent.pcm.PCM'> E_diel = -0.103841361324572\r\n",
      "Solvent Energy = -0.103841361324572\r\n",
      "cycle= 2 E= -224.507401122283  delta_E= 0.0869  |ddm|= 1.61\r\n"
     ]
    },
    {
     "name": "stdout",
     "output_type": "stream",
     "text": [
      "<class 'gpu4pyscf.solvent.pcm.PCM'> E_diel = -0.114119314746561\r\n",
      "Solvent Energy = -0.114119314746561\r\n",
      "cycle= 3 E= -224.740119616348  delta_E= -0.233  |ddm|= 0.805\r\n"
     ]
    },
    {
     "name": "stdout",
     "output_type": "stream",
     "text": [
      "<class 'gpu4pyscf.solvent.pcm.PCM'> E_diel = -0.114757715432507\r\n",
      "Solvent Energy = -0.114757715432507\r\n",
      "cycle= 4 E= -224.741839045897  delta_E= -0.00172  |ddm|= 0.105\r\n"
     ]
    },
    {
     "name": "stdout",
     "output_type": "stream",
     "text": [
      "<class 'gpu4pyscf.solvent.pcm.PCM'> E_diel = -0.114839018013407\r\n",
      "Solvent Energy = -0.114839018013407\r\n",
      "cycle= 5 E= -224.742442245796  delta_E= -0.000603  |ddm|= 0.0537\r\n"
     ]
    },
    {
     "name": "stdout",
     "output_type": "stream",
     "text": [
      "<class 'gpu4pyscf.solvent.pcm.PCM'> E_diel = -0.114825520423387\r\n",
      "Solvent Energy = -0.114825520423387\r\n",
      "cycle= 6 E= -224.742464728658  delta_E= -2.25e-05  |ddm|= 0.0137\r\n"
     ]
    },
    {
     "name": "stdout",
     "output_type": "stream",
     "text": [
      "<class 'gpu4pyscf.solvent.pcm.PCM'> E_diel = -0.114824968827909\r\n",
      "Solvent Energy = -0.114824968827909\r\n",
      "cycle= 7 E= -224.742469571428  delta_E= -4.84e-06  |ddm|= 0.00615\r\n"
     ]
    },
    {
     "name": "stdout",
     "output_type": "stream",
     "text": [
      "<class 'gpu4pyscf.solvent.pcm.PCM'> E_diel = -0.114832734164055\r\n",
      "Solvent Energy = -0.114832734164055\r\n",
      "cycle= 8 E= -224.742469890439  delta_E= -3.19e-07  |ddm|= 0.00245\r\n"
     ]
    },
    {
     "name": "stdout",
     "output_type": "stream",
     "text": [
      "<class 'gpu4pyscf.solvent.pcm.PCM'> E_diel = -0.114828726856063\r\n",
      "Solvent Energy = -0.114828726856063\r\n",
      "cycle= 9 E= -224.742469919812  delta_E= -2.94e-08  |ddm|= 0.000648\r\n"
     ]
    },
    {
     "name": "stdout",
     "output_type": "stream",
     "text": [
      "<class 'gpu4pyscf.solvent.pcm.PCM'> E_diel = -0.114829817430106\r\n",
      "Solvent Energy = -0.114829817430106\r\n",
      "cycle= 10 E= -224.742469923566  delta_E= -3.75e-09  |ddm|= 0.000224\r\n",
      "converged SCF energy = -224.742469923566\r\n",
      "**** MO energy ****\r\n",
      "MO #1   energy= -19.5652657626918  occ= 2\r\n",
      "MO #2   energy= -14.7360781477292  occ= 2\r\n",
      "MO #3   energy= -14.6828369901945  occ= 2\r\n",
      "MO #4   energy= -10.6232106484089  occ= 2\r\n",
      "MO #5   energy= -1.10772376969993  occ= 2\r\n",
      "MO #6   energy= -0.966494142991118 occ= 2\r\n",
      "MO #7   energy= -0.902155336483325 occ= 2\r\n",
      "MO #8   energy= -0.620670922656742 occ= 2\r\n",
      "MO #9   energy= -0.560187268142992 occ= 2\r\n",
      "MO #10  energy= -0.489963215187717 occ= 2\r\n",
      "MO #11  energy= -0.46798717997678  occ= 2\r\n",
      "MO #12  energy= -0.453225932839563 occ= 2\r\n",
      "MO #13  energy= -0.348021105000095 occ= 2\r\n",
      "MO #14  energy= -0.312506628250478 occ= 2\r\n",
      "MO #15  energy= -0.286226328255069 occ= 2\r\n",
      "MO #16  energy= -0.261831199188398 occ= 2\r\n",
      "MO #17  energy= 0.00623964248974011 occ= 0\r\n",
      "MO #18  energy= 0.0230219545892198 occ= 0\r\n",
      "MO #19  energy= 0.0348498602517945 occ= 0\r\n",
      "MO #20  energy= 0.0543606419748247 occ= 0\r\n",
      "MO #21  energy= 0.0691762713486839 occ= 0\r\n",
      "MO #22  energy= 0.0829426701444173 occ= 0\r\n",
      "MO #23  energy= 0.109573730399699  occ= 0\r\n",
      "MO #24  energy= 0.120192459889472  occ= 0\r\n",
      "MO #25  energy= 0.124001015298038  occ= 0\r\n",
      "MO #26  energy= 0.132054033192037  occ= 0\r\n",
      "MO #27  energy= 0.147741901330074  occ= 0\r\n",
      "MO #28  energy= 0.154890915269185  occ= 0\r\n",
      "MO #29  energy= 0.162331889981495  occ= 0\r\n",
      "MO #30  energy= 0.175866135455298  occ= 0\r\n",
      "MO #31  energy= 0.195728619988993  occ= 0\r\n",
      "MO #32  energy= 0.211691083366827  occ= 0\r\n",
      "MO #33  energy= 0.223362015414398  occ= 0\r\n",
      "MO #34  energy= 0.249619304649768  occ= 0\r\n",
      "MO #35  energy= 0.255376894873803  occ= 0\r\n",
      "MO #36  energy= 0.280897014625843  occ= 0\r\n",
      "MO #37  energy= 0.295846465172549  occ= 0\r\n",
      "MO #38  energy= 0.303200811197843  occ= 0\r\n",
      "MO #39  energy= 0.336042594546612  occ= 0\r\n",
      "MO #40  energy= 0.339704141775329  occ= 0\r\n",
      "MO #41  energy= 0.355233498931292  occ= 0\r\n",
      "MO #42  energy= 0.404417445306369  occ= 0\r\n",
      "MO #43  energy= 0.414926478858124  occ= 0\r\n",
      "MO #44  energy= 0.434079250864486  occ= 0\r\n",
      "MO #45  energy= 0.461582285919853  occ= 0\r\n",
      "MO #46  energy= 0.477064958056034  occ= 0\r\n",
      "MO #47  energy= 0.509142555823982  occ= 0\r\n",
      "MO #48  energy= 0.51825765051334   occ= 0\r\n",
      "MO #49  energy= 0.535524130858691  occ= 0\r\n",
      "MO #50  energy= 0.548086756007421  occ= 0\r\n",
      "MO #51  energy= 0.553964451256194  occ= 0\r\n",
      "MO #52  energy= 0.564478518411215  occ= 0\r\n",
      "MO #53  energy= 0.579666809533715  occ= 0\r\n",
      "MO #54  energy= 0.60983644656539   occ= 0\r\n",
      "MO #55  energy= 0.652638365474902  occ= 0\r\n",
      "MO #56  energy= 0.695509867664339  occ= 0\r\n",
      "MO #57  energy= 0.720534296901641  occ= 0\r\n",
      "MO #58  energy= 0.729211545162573  occ= 0\r\n",
      "MO #59  energy= 0.742673344862639  occ= 0\r\n",
      "MO #60  energy= 0.748587974328403  occ= 0\r\n",
      "MO #61  energy= 0.794473301987873  occ= 0\r\n",
      "MO #62  energy= 0.801810498261161  occ= 0\r\n",
      "MO #63  energy= 0.843818272076606  occ= 0\r\n",
      "MO #64  energy= 0.877488322004504  occ= 0\r\n",
      "MO #65  energy= 0.890069620404572  occ= 0\r\n",
      "MO #66  energy= 0.900322010542276  occ= 0\r\n",
      "MO #67  energy= 0.928684853875174  occ= 0\r\n",
      "MO #68  energy= 0.96560302531466   occ= 0\r\n",
      "MO #69  energy= 1.01511037633954   occ= 0\r\n",
      "MO #70  energy= 1.04517490925334   occ= 0\r\n",
      "MO #71  energy= 1.06268801856742   occ= 0\r\n",
      "MO #72  energy= 1.1106546751667    occ= 0\r\n",
      "MO #73  energy= 1.16915686916128   occ= 0\r\n",
      "MO #74  energy= 1.17430292274372   occ= 0\r\n",
      "MO #75  energy= 1.268259204325     occ= 0\r\n",
      "MO #76  energy= 1.3133345637395    occ= 0\r\n",
      "MO #77  energy= 1.31696591655881   occ= 0\r\n",
      "MO #78  energy= 1.33771899233145   occ= 0\r\n",
      "MO #79  energy= 1.37342525588572   occ= 0\r\n",
      "MO #80  energy= 1.47403638891387   occ= 0\r\n",
      "MO #81  energy= 1.53019945474089   occ= 0\r\n",
      "MO #82  energy= 1.53943814703487   occ= 0\r\n",
      "MO #83  energy= 1.61060602554283   occ= 0\r\n",
      "MO #84  energy= 1.69922412209093   occ= 0\r\n",
      "MO #85  energy= 1.70197156289732   occ= 0\r\n",
      "MO #86  energy= 1.7381622215892    occ= 0\r\n",
      "MO #87  energy= 1.77888248785874   occ= 0\r\n",
      "MO #88  energy= 1.81626692576092   occ= 0\r\n",
      "MO #89  energy= 1.88986418151821   occ= 0\r\n",
      "MO #90  energy= 1.89482484149968   occ= 0\r\n",
      "MO #91  energy= 1.92515685806869   occ= 0\r\n",
      "MO #92  energy= 2.00252619411024   occ= 0\r\n",
      "MO #93  energy= 2.0587228242776    occ= 0\r\n",
      "MO #94  energy= 2.11083755724478   occ= 0\r\n",
      "MO #95  energy= 2.14066050928003   occ= 0\r\n",
      "MO #96  energy= 2.18144441419062   occ= 0\r\n",
      "MO #97  energy= 2.19924131491993   occ= 0\r\n",
      "MO #98  energy= 2.23150467287405   occ= 0\r\n",
      "MO #99  energy= 2.27901306016382   occ= 0\r\n",
      "MO #100 energy= 2.28688010851609   occ= 0\r\n",
      "MO #101 energy= 2.32110508122728   occ= 0\r\n",
      "MO #102 energy= 2.40619935424363   occ= 0\r\n",
      "MO #103 energy= 2.46583965260786   occ= 0\r\n",
      "MO #104 energy= 2.49946079737181   occ= 0\r\n",
      "MO #105 energy= 2.60051554885704   occ= 0\r\n",
      "MO #106 energy= 2.63443077931092   occ= 0\r\n",
      "MO #107 energy= 2.67334945440194   occ= 0\r\n",
      "MO #108 energy= 2.76644686316293   occ= 0\r\n",
      "MO #109 energy= 2.81770336426487   occ= 0\r\n",
      "MO #110 energy= 2.94006975624547   occ= 0\r\n",
      "MO #111 energy= 3.07731979033061   occ= 0\r\n",
      "MO #112 energy= 3.16044191594976   occ= 0\r\n",
      "MO #113 energy= 3.19469800852397   occ= 0\r\n",
      "MO #114 energy= 3.34912686739753   occ= 0\r\n",
      "MO #115 energy= 3.45931200380292   occ= 0\r\n",
      "MO #116 energy= 3.50926536332838   occ= 0\r\n",
      "MO #117 energy= 3.56887446562139   occ= 0\r\n",
      "MO #118 energy= 3.67836103753731   occ= 0\r\n",
      "MO #119 energy= 3.78862205066009   occ= 0\r\n"
     ]
    },
    {
     "name": "stdout",
     "output_type": "stream",
     "text": [
      " ** Mulliken pop on meta-lowdin orthogonal AOs  **\r\n",
      " ** Mulliken pop  **\r\n",
      "pop of  0 N 1s            1.99996\r\n",
      "pop of  0 N 2s            1.46687\r\n",
      "pop of  0 N 3s            0.01565\r\n",
      "pop of  0 N 4s            0.00232\r\n",
      "pop of  0 N 2px           1.13069\r\n",
      "pop of  0 N 2py           1.54043\r\n",
      "pop of  0 N 2pz           1.54896\r\n",
      "pop of  0 N 3px           0.00373\r\n",
      "pop of  0 N 3py           0.01915\r\n",
      "pop of  0 N 3pz           0.01890\r\n",
      "pop of  0 N 4px           0.00147\r\n",
      "pop of  0 N 4py           0.00270\r\n",
      "pop of  0 N 4pz           0.00285\r\n",
      "pop of  0 N 3dxy          0.00129\r\n",
      "pop of  0 N 3dyz          0.00240\r\n",
      "pop of  0 N 3dz^2         0.00169\r\n",
      "pop of  0 N 3dxz          0.00136\r\n",
      "pop of  0 N 3dx2-y2       0.00110\r\n",
      "pop of  0 N 4dxy          0.00074\r\n",
      "pop of  0 N 4dyz          0.00057\r\n",
      "pop of  0 N 4dz^2         0.00061\r\n",
      "pop of  0 N 4dxz          0.00099\r\n",
      "pop of  0 N 4dx2-y2       0.00099\r\n",
      "pop of  1 C 1s            1.99995\r\n",
      "pop of  1 C 2s            0.87367\r\n",
      "pop of  1 C 3s            0.00833\r\n",
      "pop of  1 C 4s            0.00246\r\n",
      "pop of  1 C 2px           0.89618\r\n",
      "pop of  1 C 2py           0.86287\r\n",
      "pop of  1 C 2pz           0.85477\r\n",
      "pop of  1 C 3px           0.00719\r\n",
      "pop of  1 C 3py           0.00813\r\n",
      "pop of  1 C 3pz           0.00994\r\n",
      "pop of  1 C 4px           0.00212\r\n",
      "pop of  1 C 4py           0.00110\r\n",
      "pop of  1 C 4pz           0.00145\r\n",
      "pop of  1 C 3dxy          0.00911\r\n",
      "pop of  1 C 3dyz          0.00216\r\n",
      "pop of  1 C 3dz^2         0.01019\r\n",
      "pop of  1 C 3dxz          0.00922\r\n",
      "pop of  1 C 3dx2-y2       0.00593\r\n",
      "pop of  1 C 4dxy          0.00292\r\n",
      "pop of  1 C 4dyz          0.00055\r\n",
      "pop of  1 C 4dz^2         0.00255\r\n",
      "pop of  1 C 4dxz          0.00210\r\n",
      "pop of  1 C 4dx2-y2       0.00153\r\n",
      "pop of  2 N 1s            1.99996\r\n",
      "pop of  2 N 2s            1.31597\r\n",
      "pop of  2 N 3s            0.00536\r\n",
      "pop of  2 N 4s            0.00208\r\n",
      "pop of  2 N 2px           1.20730\r\n",
      "pop of  2 N 2py           1.46290\r\n",
      "pop of  2 N 2pz           1.48371\r\n",
      "pop of  2 N 3px           0.00414\r\n",
      "pop of  2 N 3py           0.01057\r\n",
      "pop of  2 N 3pz           0.01136\r\n",
      "pop of  2 N 4px           0.00260\r\n",
      "pop of  2 N 4py           0.00113\r\n",
      "pop of  2 N 4pz           0.00147\r\n",
      "pop of  2 N 3dxy          0.00051\r\n",
      "pop of  2 N 3dyz          0.00144\r\n",
      "pop of  2 N 3dz^2         0.00094\r\n",
      "pop of  2 N 3dxz          0.00154\r\n",
      "pop of  2 N 3dx2-y2       0.00156\r\n",
      "pop of  2 N 4dxy          0.00081\r\n",
      "pop of  2 N 4dyz          0.00110\r\n",
      "pop of  2 N 4dz^2         0.00064\r\n",
      "pop of  2 N 4dxz          0.00144\r\n",
      "pop of  2 N 4dx2-y2       0.00181\r\n",
      "pop of  3 O 1s            1.99998\r\n",
      "pop of  3 O 2s            1.71801\r\n",
      "pop of  3 O 3s            0.01265\r\n",
      "pop of  3 O 4s            0.00089\r\n",
      "pop of  3 O 2px           1.87767\r\n",
      "pop of  3 O 2py           1.57173\r\n",
      "pop of  3 O 2pz           1.54815\r\n",
      "pop of  3 O 3px           0.01470\r\n",
      "pop of  3 O 3py           0.00587\r\n",
      "pop of  3 O 3pz           0.00500\r\n",
      "pop of  3 O 4px           0.00031\r\n",
      "pop of  3 O 4py           0.00056\r\n",
      "pop of  3 O 4pz           0.00065\r\n",
      "pop of  3 O 3dxy          0.00064\r\n",
      "pop of  3 O 3dyz          0.00464\r\n",
      "pop of  3 O 3dz^2         0.00225\r\n",
      "pop of  3 O 3dxz          0.00070\r\n",
      "pop of  3 O 3dx2-y2       0.00144\r\n",
      "pop of  3 O 4dxy          0.00036\r\n",
      "pop of  3 O 4dyz          0.00061\r\n",
      "pop of  3 O 4dz^2         0.00007\r\n",
      "pop of  3 O 4dxz          0.00041\r\n",
      "pop of  3 O 4dx2-y2       0.00009\r\n",
      "pop of  4 H 1s            0.79587\r\n",
      "pop of  4 H 2s            0.00857\r\n",
      "pop of  4 H 3s            0.00254\r\n",
      "pop of  4 H 2px           0.00169\r\n",
      "pop of  4 H 2py           0.00524\r\n",
      "pop of  4 H 2pz           0.00506\r\n",
      "pop of  4 H 3px           0.00107\r\n",
      "pop of  4 H 3py           0.00275\r\n",
      "pop of  4 H 3pz           0.00275\r\n",
      "pop of  5 H 1s            0.75148\r\n",
      "pop of  5 H 2s            0.00624\r\n",
      "pop of  5 H 3s            0.00320\r\n",
      "pop of  5 H 2px           0.00206\r\n",
      "pop of  5 H 2py           0.00330\r\n",
      "pop of  5 H 2pz           0.00316\r\n",
      "pop of  5 H 3px           0.00086\r\n",
      "pop of  5 H 3py           0.00188\r\n",
      "pop of  5 H 3pz           0.00164\r\n",
      "pop of  6 H 1s            0.75039\r\n",
      "pop of  6 H 2s            0.00659\r\n",
      "pop of  6 H 3s            0.00311\r\n",
      "pop of  6 H 2px           0.00146\r\n",
      "pop of  6 H 2py           0.00345\r\n",
      "pop of  6 H 2pz           0.00367\r\n",
      "pop of  6 H 3px           0.00218\r\n",
      "pop of  6 H 3py           0.00117\r\n",
      "pop of  6 H 3pz           0.00108\r\n",
      " ** Mulliken atomic charges  **\r\n",
      "charge of    0N =     -0.76543\r\n",
      "charge of    1C =      0.42558\r\n",
      "charge of    2N =     -0.52034\r\n",
      "charge of    3O =     -0.76736\r\n",
      "charge of    4H =      0.17447\r\n",
      "charge of    5H =      0.22618\r\n",
      "charge of    6H =      0.22689\r\n",
      "\r\n",
      "WARN: System has nonzero charge -1; the dipole moment is origin-dependent.\r\n",
      "Location of origin: [0. 0. 0.]\r\n",
      "\r\n"
     ]
    },
    {
     "name": "stdout",
     "output_type": "stream",
     "text": [
      "Dipole moment(X, Y, Z, Debye):  3.13346, -3.61579,  1.43853\r\n",
      "Optimized geometry saved to 'cluster_rep_conformers/rep_of_cluster_1_deprotonated.xyz'.\r\n",
      "Final energy: -224.74246992 Hartree (-141027.922559 kcal/mol)\r\n",
      "\r\n",
      "OPT Time: 14.99 seconds\r\n",
      "################################################################\r\n",
      "Finished rep_of_cluster_1_deprotonated.sdf | basis: aug-cc-pVDZ | xc: M06-2X in 15.02 s\r\n",
      "Charge of cluster_rep_conformers/rep_of_cluster_2_deprotonated.sdf: -1\r\n",
      "#INFO: **** input file is /work/dft_main.py ****\r\n",
      "from rdkit import Chem\r\n",
      "from pyscf import gto, dft\r\n",
      "from gpu4pyscf.dft import rks\r\n",
      "from pyscf.geomopt import geometric_solver\r\n",
      "import sys\r\n",
      "import glob\r\n",
      "import time\r\n",
      "import re\r\n",
      "\r\n",
      "\r\n",
      "import os\r\n",
      "# Specify which GPUs to use\r\n",
      "os.environ[\"CUDA_VISIBLE_DEVICES\"] = \"0,1\"\r\n",
      "os.environ[\"OMP_NUM_THREADS\"] = \"25\"\r\n",
      "os.environ[\"MKL_NUM_THREADS\"] = \"25\"\r\n",
      "os.environ[\"OPENBLAS_NUM_THREADS\"] = \"25\"\r\n",
      "\r\n",
      "\r\n",
      "class DFTClass:\r\n",
      "    def __init__(self, sdf_path, eps):\r\n",
      "        self.sdf_path= sdf_path\r\n",
      "        self.eps=eps\r\n",
      "    \r\n",
      "    def get_atom_list(self):\r\n",
      "        molecules = Chem.SDMolSupplier(self.sdf_path, removeHs=False)\r\n",
      "        mol = next(molecules)  # Assuming you have one molecule in the SDF\r\n",
      "\r\n",
      "        # Get the first conformer to access 3D coordinates\r\n",
      "        conformer = mol.GetConformer()\r\n",
      "\r\n",
      "        # Extract atomic symbols and coordinates\r\n",
      "        atom_list = []\r\n",
      "        for atom in mol.GetAtoms():\r\n",
      "            pos = conformer.GetAtomPosition(atom.GetIdx())\r\n",
      "            atom_list.append((atom.GetSymbol(), (pos.x, pos.y, pos.z)))\r\n",
      "        return atom_list\r\n",
      "       \r\n",
      "    def extract_charge_info(self):\r\n",
      "        \"\"\"\r\n",
      "        Extracts total formal charge from M  CHG lines in a .sdf file.\r\n",
      "        If no M  CHG line is found, assumes formal charge = 0.\r\n",
      "        \"\"\"\r\n",
      "        charges = {}\r\n",
      "        with open(self.sdf_path) as f:\r\n",
      "            for line in f:\r\n",
      "              if line.startswith(\"M  CHG\"):\r\n",
      "                 tokens = line.strip().split()\r\n",
      "                 n_entries = int(tokens[2])\r\n",
      "                 for i in range(n_entries):\r\n",
      "                    atom_idx = int(tokens[3 + i * 2])\r\n",
      "                    charge = int(tokens[4 + i * 2])\r\n",
      "                    charges[atom_idx] = charge\r\n",
      "\r\n",
      "        if charges:\r\n",
      "            formal_charge = sum(charges.values())\r\n",
      "        else:\r\n",
      "            formal_charge = 0  # Default if no charge info present\r\n",
      "\r\n",
      "        #print(f\"{os.path.basename(sdf_path)}: formal charge = {formal_charge}\")\r\n",
      "        return formal_charge  \r\n",
      "    \r\n",
      "    def get_charge(self, cluster_reps_dir):\r\n",
      "        \"\"\"\r\n",
      "        Reads the number of atoms directly from an SDF file.\r\n",
      "\r\n",
      "        Args:\r\n",
      "            file_path: The path to the SDF file.\r\n",
      "\r\n",
      "        Returns:\r\n",
      "            An integer representing the number of atoms, or None if the\r\n",
      "            information cannot be extracted or the file cannot be read.\r\n",
      "        \"\"\"\r\n",
      "        def extract_charge_info_static(path):\r\n",
      "            \"\"\"\r\n",
      "            Extracts total formal charge from M  CHG lines in a .sdf file.\r\n",
      "            If no M  CHG line is found, assumes formal charge = 0.\r\n",
      "            \"\"\"\r\n",
      "            charges = {}\r\n",
      "            with open(path) as f:\r\n",
      "                for line in f:\r\n",
      "                    if line.startswith(\"M  CHG\"):\r\n",
      "                        tokens = line.strip().split()\r\n",
      "                        n_entries = int(tokens[2])\r\n",
      "                        for i in range(n_entries):\r\n",
      "                            atom_idx = int(tokens[3 + i * 2])\r\n",
      "                            charge = int(tokens[4 + i * 2])\r\n",
      "                            charges[atom_idx] = charge\r\n",
      "\r\n",
      "            if charges:\r\n",
      "                formal_charge = sum(charges.values())\r\n",
      "            else:\r\n",
      "                formal_charge = 0  # Default if no charge info present\r\n",
      "\r\n",
      "            #print(f\"{os.path.basename(sdf_path)}: formal charge = {formal_charge}\")\r\n",
      "            return formal_charge \r\n",
      "\r\n",
      "\r\n",
      "        def get_num_atoms(path):\r\n",
      "            try:\r\n",
      "                with open(path, 'r') as f:\r\n",
      "                    # Skip the first three lines of the SDF file\r\n",
      "                    for _ in range(3):\r\n",
      "                        f.readline()\r\n",
      "                    # Read the fourth line which contains the number of atoms\r\n",
      "                    fourth_line = f.readline().strip()\r\n",
      "                    parts = fourth_line.split()\r\n",
      "                    if parts:\r\n",
      "                        try:\r\n",
      "                            num_atoms = int(parts[0])\r\n",
      "                            return num_atoms\r\n",
      "                        except ValueError:\r\n",
      "                            print(\"Error: Could not convert atom count to integer.\")\r\n",
      "                            return None\r\n",
      "                    else:\r\n",
      "                        print(\"Error: Fourth line of SDF is empty.\")\r\n",
      "                        return None\r\n",
      "            except FileNotFoundError:\r\n",
      "                print(f\"Error: File not found at {self.sdf_path}\")\r\n",
      "                return None\r\n",
      "            except Exception as e:\r\n",
      "                print(f\"An error occurred while reading the file: {e}\")\r\n",
      "                return None\r\n",
      "            \r\n",
      "        #Get the charge\r\n",
      "        A_atoms = get_num_atoms(self.sdf_path)\r\n",
      "        clean_path = re.sub(r'(_protonated|_deprotonated)', '', self.sdf_path)\r\n",
      "        HA_atoms = get_num_atoms(clean_path)\r\n",
      "        formal_charge_on_HA=extract_charge_info_static(os.path.join(cluster_reps_dir, \"rep_of_cluster_1.sdf\"))\r\n",
      "        # Check for invalid (None) atom counts\r\n",
      "        charge=formal_charge_on_HA + (A_atoms-HA_atoms)\r\n",
      "        print(f\"Charge of {self.sdf_path}: {charge}\")\r\n",
      "        return charge\r\n",
      "     \r\n",
      "    def opti_PCM(self, mol, xyz_filename, charge_filename, xc):\r\n",
      "        start_time = time.time()\r\n",
      "        # Set up the DFT calculation\r\n",
      "        mf = rks.RKS(mol).density_fit()  # Use density fitting for efficiency\r\n",
      "        mf.xc = xc  # Set the exchange-correlation functional\r\n",
      "\r\n",
      "        # SCF convergence Criteria\r\n",
      "        mf.conv_tol = 1e-8  # Energy convergence\r\n",
      "        mf.conv_tol_grad = 3e-4  # Gradient convergence\r\n",
      "        mf.max_cycle = 70  # Increase max iterations if needed\r\n",
      "\r\n",
      "        # Apply the solvation model\r\n",
      "        mf = mf.PCM()  # Initialize solvation model\r\n",
      "        mf.grids.atom_grid = (99, 590)\r\n",
      "        mf.with_solvent.lebedev_order = 29  # 302 Lebedev grids\r\n",
      "        mf.with_solvent.method = 'IEF-PCM'  # Can be C-PCM, SS(V)PE, COSMO\r\n",
      "        mf.with_solvent.eps = self.eps  # Set the solvent's dielectric constant\r\n",
      "\r\n",
      "        # Perform geometry optimization\r\n",
      "        print(\"Starting geometry optimization...\")\r\n",
      "        mol_opt = geometric_solver.optimize(mf, max_steps=200, xtol=1e-8, gtol=3e-4, etol=1e-8)\r\n",
      "\r\n",
      "        # Output optimized geometry\r\n",
      "        optimized_atoms = [(atom[0], mol_opt.atom_coords(unit='Angstrom')[i]) for i, atom in enumerate(mol_opt.atom)]\r\n",
      "\r\n",
      "        # Ensure SCF calculation is performed after optimization\r\n",
      "        mf_scf = rks.RKS(mol_opt).density_fit()\r\n",
      "        mf_scf.xc = xc\r\n",
      "\r\n",
      "        # SCF convergence Criteria\r\n",
      "        mf_scf.conv_tol = 1e-8  # Energy convergence\r\n",
      "        mf_scf.conv_tol_grad = 3e-4  # Gradient convergence\r\n",
      "        mf_scf.max_cycle = 70  # Increase max iterations if needed\r\n",
      "\r\n",
      "        # Apply the solvation model\r\n",
      "        mf_scf = mf_scf.PCM()  # Initialize solvation model\r\n",
      "        mf_scf.grids.atom_grid = (99, 590)\r\n",
      "        mf_scf.with_solvent.lebedev_order = 29  # 302 Lebedev grids\r\n",
      "        mf_scf.with_solvent.method = 'IEF-PCM'  # Can be C-PCM, SS(V)PE, COSMO\r\n",
      "        mf_scf.with_solvent.eps = self.eps  # Set the solvent's dielectric constant\r\n",
      "\r\n",
      "        #Run the scf\r\n",
      "        mf_scf.kernel()\r\n",
      "\r\n",
      "        #Mulliken Charge Analysis\r\n",
      "        analysis = mf_scf.analyze()\r\n",
      "        mulliken_charges = analysis[0][1]  # Get the Mulliken charges\r\n",
      "\r\n",
      "        # Save captured output to file\r\n",
      "        with open(charge_filename, \"w\") as charge_file:\r\n",
      "            charge_file.write(\"Atom Index  Atom Symbol  Mulliken Charge\\n\")\r\n",
      "            for i, charge in enumerate(mulliken_charges):\r\n",
      "                atom_symbol = mol.atom_symbol(i)  # Get the atom symbol\r\n",
      "                charge_file.write(f\"{i+1}             {atom_symbol}        {charge:.6f}\\n\")\r\n",
      "\r\n",
      "\r\n",
      "        # Extract the final energy in Hartree\r\n",
      "        final_energy_hartree = mf_scf.e_tot\r\n",
      "\r\n",
      "        # Convert energy from Hartree to kJ/mol\r\n",
      "        #hartree_to_kjmol = 2625.5\r\n",
      "        hartree_to_kcalmol=627.509\r\n",
      "        final_energy_kcalmol = final_energy_hartree * hartree_to_kcalmol\r\n",
      "\r\n",
      "        # Save optimized geometry to XYZ file\r\n",
      "        with open(xyz_filename, 'w') as xyz_file:\r\n",
      "            xyz_file.write(f\"{len(optimized_atoms)}\\n\")\r\n",
      "            xyz_file.write(f\"Energy: {final_energy_kcalmol:.6f} kcal/mol\\n\")\r\n",
      "            for symbol, coords in optimized_atoms:\r\n",
      "                formatted_coords = ' '.join(f\"{coord:.8f}\" for coord in coords)\r\n",
      "                xyz_file.write(f\"{symbol} {formatted_coords}\\n\")\r\n",
      "\r\n",
      "        print(f\"Optimized geometry saved to '{xyz_filename}'.\")\r\n",
      "\r\n",
      "        # Print the final energy\r\n",
      "        print(f\"Final energy: {final_energy_hartree:.8f} Hartree ({final_energy_kcalmol:.6f} kcal/mol)\")\r\n",
      "\r\n",
      "        # Record the end time\r\n",
      "        opt_time = time.time()\r\n",
      "\r\n",
      "        # Calculate and print the total run time\r\n",
      "        total_opt_time = opt_time - start_time\r\n",
      "        print(f\"\\nOPT Time: {total_opt_time:.2f} seconds\")\r\n",
      "\r\n",
      "        print(\"################################################################\")\r\n",
      "        return mol_opt\r\n",
      "    \r\n",
      "\r\n",
      "def run_DFT(cluster_reps_dir, dielectric_value, mode='normal'):\r\n",
      "    \"\"\"\r\n",
      "    Main function that processes SDF files with specified basis sets and XC functionals.\r\n",
      "    Accepts command-line argument for dielectric constant.\r\n",
      "    \"\"\"\r\n",
      "    \r\n",
      "    \r\n",
      "    # Define basis sets and XC functionals to loop over\r\n",
      "    basis_sets = ['aug-cc-pVDZ']\r\n",
      "    xc_functionals = ['M06-2X']  # Add more if needed\r\n",
      "\r\n",
      "    # Get list of charged SDF files\r\n",
      "    #sdf_files = sorted(glob.glob(os.path.join(cluster_reps_dir, file_pattern)))\r\n",
      "    if mode == 'deproto':\r\n",
      "        sdf_files = sorted(glob.glob(os.path.join(cluster_reps_dir, \"*nated.sdf\")))\r\n",
      "    else:\r\n",
      "        sdf_files = sorted(glob.glob(os.path.join(cluster_reps_dir, \"*.sdf\")))\r\n",
      "\r\n",
      "    if not sdf_files:\r\n",
      "        print(f\"No SDF files found in {cluster_reps_dir}\")\r\n",
      "        return\r\n",
      "\r\n",
      "    print(f\"Found {len(sdf_files)} SDF files in {cluster_reps_dir}\")\r\n",
      "    print(f\"Basis sets: {basis_sets}\")\r\n",
      "    print(f\"XC functionals: {xc_functionals}\")\r\n",
      "    print(f\"Dielectric constant: {dielectric_value}\")\r\n",
      "    print(\"=\" * 70)\r\n",
      "\r\n",
      "    # Loop over each SDF file\r\n",
      "    for sdf_path in sdf_files:\r\n",
      "        dft_obj = DFTClass(sdf_path, dielectric_value)\r\n",
      "        atom_list = dft_obj.get_atom_list()\r\n",
      "\r\n",
      "        for basis in basis_sets:\r\n",
      "            for xc in xc_functionals:\r\n",
      "                start_time_sub = time.time()\r\n",
      "\r\n",
      "                # Use the chosen charge method\r\n",
      "                if mode == 'deproto':\r\n",
      "                    charge_dft = dft_obj.get_charge(cluster_reps_dir)\r\n",
      "                else:\r\n",
      "                    charge_dft = dft_obj.extract_charge_info()\r\n",
      "\r\n",
      "                # Build molecule with given basis\r\n",
      "                mol1 = gto.M(\r\n",
      "                    atom=atom_list,\r\n",
      "                    basis=basis,\r\n",
      "                    charge =charge_dft,\r\n",
      "                    spin=0,\r\n",
      "                    verbose=4,\r\n",
      "                )\r\n",
      "\r\n",
      "                # Sanitize names for filename safety\r\n",
      "                basis_tag = basis.replace(\"(\", \"\").replace(\")\", \"\").replace(\"*\", \"\").replace(\"+\", \"\").replace(\"/\", \"-\").replace(\" \", \"\")\r\n",
      "                xc_tag = xc.replace(\"(\", \"\").replace(\")\", \"\").replace(\"*\", \"\").replace(\"+\", \"\").replace(\"/\", \"-\").replace(\" \", \"\")\r\n",
      "\r\n",
      "                # Output file names\r\n",
      "                if mode == 'deproto':\r\n",
      "                    xyz_filename = sdf_path.replace('.sdf', '.xyz')\r\n",
      "                    charge_filename = sdf_path.replace('.sdf', '.charge')\r\n",
      "                else:\r\n",
      "                    xyz_filename = sdf_path.replace('.sdf', f'_{basis_tag}_{xc_tag}.xyz')\r\n",
      "                    charge_filename = sdf_path.replace('.sdf', f'_{basis_tag}_{xc_tag}.charge')\r\n",
      "\r\n",
      "                # Call your optimization/PCM function\r\n",
      "                A = dft_obj.opti_PCM(mol1, xyz_filename, charge_filename, xc)\r\n",
      "\r\n",
      "                print(f\"Finished {os.path.basename(sdf_path)} | basis: {basis} | xc: {xc} in {time.time() - start_time_sub:.2f} s\")\r\n",
      "\r\n",
      "    print(f\"\\n{'='*70}\")\r\n",
      "    print(\"All calculations completed!\")\r\n",
      "\r\n",
      "\r\n",
      "if __name__ == \"__main__\":\r\n",
      "    import sys\r\n",
      "    if len(sys.argv) != 4:\r\n",
      "        print(\"Usage: python dft.py DFT <cluster_reps_dir> <dielectric_constant>\")\r\n",
      "        print(\"   or: python dft.py DFT_DEPROTO <cluster_reps_dir> <dielectric_constant>\")\r\n",
      "        sys.exit(1)\r\n",
      "    mode = sys.argv[1]\r\n",
      "    cluster_reps_dir = sys.argv[2]\r\n",
      "    dielectric_value = float(sys.argv[3])\r\n",
      "    if mode == \"DFT\":\r\n",
      "        run_DFT(cluster_reps_dir, dielectric_value, mode='normal')\r\n",
      "    elif mode == \"DFT_DEPROTO\":\r\n",
      "        run_DFT(cluster_reps_dir, dielectric_value, mode='deproto')\r\n",
      "    else:\r\n",
      "        print(\"Unknown mode, must be DFT or DFT_DEPROTO\")\r\n",
      "        sys.exit(1)#INFO: ******************** input file end ********************\r\n",
      "\r\n",
      "\r\n",
      "System: uname_result(system='Linux', node='5d4e56049946', release='6.8.0-60-generic', version='#63-Ubuntu SMP PREEMPT_DYNAMIC Tue Apr 15 19:04:15 UTC 2025', machine='x86_64')  Threads 32\r\n",
      "Python 3.9.18 | packaged by conda-forge | (main, Dec 23 2023, 16:33:10) \r\n",
      "[GCC 12.3.0]\r\n",
      "numpy 1.26.4  scipy 1.13.1  h5py 3.12.1\r\n",
      "Date: Mon Aug 18 04:30:17 2025\r\n",
      "PySCF version 2.7.0\r\n",
      "PySCF path  /opt/conda/lib/python3.9/site-packages/pyscf/__init__.py\r\n",
      "CUDA Environment\r\n",
      "    CuPy 13.3.0\r\n",
      "    CUDA Path /usr/local/cuda\r\n",
      "    CUDA Build Version 12060\r\n",
      "    CUDA Driver Version 12080\r\n",
      "    CUDA Runtime Version 12060\r\n",
      "CUDA toolkit\r\n",
      "    cuSolver (11, 7, 2)\r\n",
      "    cuBLAS 120803\r\n",
      "    cuTENSOR 20002\r\n",
      "Device info\r\n",
      "    Device name b'NVIDIA GeForce RTX 4090'\r\n",
      "    Device global memory 23.53 GB\r\n",
      "    CuPy memory fraction 0.9\r\n",
      "    Num. Devices 1\r\n",
      "GPU4PySCF 1.3.1\r\n",
      "GPU4PySCF path  /opt/conda/lib/python3.9/site-packages/gpu4pyscf_cuda12x-1.3.1-py3.9.egg/gpu4pyscf\r\n",
      "\r\n",
      "[CONFIG] conf_file None\r\n",
      "[INPUT] verbose = 4\r\n",
      "[INPUT] num. atoms = 7\r\n",
      "[INPUT] num. electrons = 32\r\n",
      "[INPUT] charge = -1\r\n",
      "[INPUT] spin (= nelec alpha-beta = 2S) = 0\r\n",
      "[INPUT] symmetry False subgroup None\r\n",
      "[INPUT] Mole.unit = angstrom\r\n",
      "[INPUT] Symbol           X                Y                Z      unit          X                Y                Z       unit  Magmom\r\n",
      "[INPUT]  1 N      1.143100000000  -0.331100000000   0.033000000000 AA    2.160145932990  -0.625688319843   0.062360962111 Bohr   0.0\r\n",
      "[INPUT]  2 C      0.048700000000   0.464200000000  -0.013200000000 AA    0.092029662266   0.877210867023  -0.024944384844 Bohr   0.0\r\n",
      "[INPUT]  3 N     -1.185400000000  -0.091900000000  -0.022200000000 AA   -2.240081348059  -0.173665830848  -0.041951919965 Bohr   0.0\r\n",
      "[INPUT]  4 O      0.173100000000   1.668700000000  -0.046400000000 AA    0.327111592162   3.153385984062  -0.087683292180 Bohr   0.0\r\n",
      "[INPUT]  5 H      0.999000000000  -1.300900000000  -0.246200000000 AA    1.887836398440  -2.458344715447  -0.465250571868 Bohr   0.0\r\n",
      "[INPUT]  6 H      2.016800000000   0.120000000000  -0.236100000000 AA    3.811199648023   0.226767134948  -0.446164338010 Bohr   0.0\r\n",
      "[INPUT]  7 H     -1.946800000000   0.542200000000   0.217600000000 AA   -3.678918819303   1.024609504739   0.411204404705 Bohr   0.0\r\n",
      "\r\n",
      "nuclear repulsion = 116.406162301377\r\n",
      "number of shells = 47\r\n",
      "number of NR pGTOs = 173\r\n",
      "number of NR cGTOs = 119\r\n",
      "basis = aug-cc-pVDZ\r\n",
      "ecp = {}\r\n",
      "CPU time:       116.39\r\n",
      "Starting geometry optimization...\r\n",
      "Create scanner for <class 'gpu4pyscf.solvent.grad.pcm.PCMGradients'>\r\n",
      "Create scanner for <class 'gpu4pyscf.solvent._attach_solvent.PCMDFRKS'>\r\n",
      "geometric-optimize called with the following command line:\r\n",
      "/work/dft_main.py DFT_DEPROTO cluster_rep_conformers 46.826\r\n",
      "\r\n",
      "                                        \u001b[91m())))))))))))))))/\u001b[0m                     \r\n",
      "                                    \u001b[91m())))))))))))))))))))))))),\u001b[0m                \r\n",
      "                                \u001b[91m*)))))))))))))))))))))))))))))))))\u001b[0m             \r\n",
      "                        \u001b[94m#,\u001b[0m    \u001b[91m()))))))))/\u001b[0m                \u001b[91m.)))))))))),\u001b[0m          \r\n",
      "                      \u001b[94m#%%%%,\u001b[0m  \u001b[91m())))))\u001b[0m                        \u001b[91m.))))))))*\u001b[0m        \r\n",
      "                      \u001b[94m*%%%%%%,\u001b[0m  \u001b[91m))\u001b[0m              \u001b[93m..\u001b[0m              \u001b[91m,))))))).\u001b[0m      \r\n",
      "                        \u001b[94m*%%%%%%,\u001b[0m         \u001b[93m***************/.\u001b[0m        \u001b[91m.)))))))\u001b[0m     \r\n",
      "                \u001b[94m#%%/\u001b[0m      \u001b[94m(%%%%%%,\u001b[0m    \u001b[93m/*********************.\u001b[0m       \u001b[91m)))))))\u001b[0m    \r\n",
      "              \u001b[94m.%%%%%%#\u001b[0m      \u001b[94m*%%%%%%,\u001b[0m  \u001b[93m*******/,\u001b[0m     \u001b[93m**********,\u001b[0m      \u001b[91m.))))))\u001b[0m   \r\n",
      "                \u001b[94m.%%%%%%/\u001b[0m      \u001b[94m*%%%%%%,\u001b[0m  \u001b[93m**\u001b[0m              \u001b[93m********\u001b[0m      \u001b[91m.))))))\u001b[0m  \r\n",
      "          \u001b[94m##\u001b[0m      \u001b[94m.%%%%%%/\u001b[0m      \u001b[94m(%%%%%%,\u001b[0m                  \u001b[93m,******\u001b[0m      \u001b[91m/)))))\u001b[0m  \r\n",
      "        \u001b[94m%%%%%%\u001b[0m      \u001b[94m.%%%%%%#\u001b[0m      \u001b[94m*%%%%%%,\u001b[0m    \u001b[92m,/////.\u001b[0m       \u001b[93m******\u001b[0m      \u001b[91m))))))\u001b[0m \r\n",
      "      \u001b[94m#%\u001b[0m      \u001b[94m%%\u001b[0m      \u001b[94m.%%%%%%/\u001b[0m      \u001b[94m*%%%%%%,\u001b[0m  \u001b[92m////////,\u001b[0m      \u001b[93m*****/\u001b[0m     \u001b[91m,)))))\u001b[0m \r\n",
      "    \u001b[94m#%%\u001b[0m  \u001b[94m%%%\u001b[0m  \u001b[94m%%%#\u001b[0m      \u001b[94m.%%%%%%/\u001b[0m      \u001b[94m(%%%%%%,\u001b[0m  \u001b[92m///////.\u001b[0m     \u001b[93m/*****\u001b[0m      \u001b[91m))))).\u001b[0m\r\n",
      "  \u001b[94m#%%%%.\u001b[0m      \u001b[94m%%%%%#\u001b[0m      \u001b[94m/%%%%%%*\u001b[0m      \u001b[94m#%%%%%%\u001b[0m   \u001b[92m/////)\u001b[0m     \u001b[93m******\u001b[0m      \u001b[91m))))),\u001b[0m\r\n",
      "    \u001b[94m#%%%%##%\u001b[0m  \u001b[94m%%%#\u001b[0m      \u001b[94m.%%%%%%/\u001b[0m      \u001b[94m(%%%%%%,\u001b[0m  \u001b[92m///////.\u001b[0m     \u001b[93m/*****\u001b[0m      \u001b[91m))))).\u001b[0m\r\n",
      "      \u001b[94m##\u001b[0m     \u001b[94m%%%\u001b[0m      \u001b[94m.%%%%%%/\u001b[0m      \u001b[94m*%%%%%%,\u001b[0m  \u001b[92m////////.\u001b[0m      \u001b[93m*****/\u001b[0m     \u001b[91m,)))))\u001b[0m \r\n",
      "        \u001b[94m#%%%%#\u001b[0m      \u001b[94m/%%%%%%/\u001b[0m      \u001b[94m(%%%%%%\u001b[0m      \u001b[92m/)/)//\u001b[0m       \u001b[93m******\u001b[0m      \u001b[91m))))))\u001b[0m \r\n",
      "          \u001b[94m##\u001b[0m      \u001b[94m.%%%%%%/\u001b[0m      \u001b[94m(%%%%%%,\u001b[0m                  \u001b[93m*******\u001b[0m      \u001b[91m))))))\u001b[0m  \r\n",
      "                \u001b[94m.%%%%%%/\u001b[0m      \u001b[94m*%%%%%%,\u001b[0m  \u001b[93m**.\u001b[0m             \u001b[93m/*******\u001b[0m      \u001b[91m.))))))\u001b[0m  \r\n",
      "              \u001b[94m*%%%%%%/\u001b[0m      \u001b[94m(%%%%%%\u001b[0m   \u001b[93m********/*..,*/*********\u001b[0m       \u001b[91m*))))))\u001b[0m   \r\n",
      "                \u001b[94m#%%/\u001b[0m      \u001b[94m(%%%%%%,\u001b[0m    \u001b[93m*********************/\u001b[0m        \u001b[91m)))))))\u001b[0m    \r\n",
      "                        \u001b[94m*%%%%%%,\u001b[0m         \u001b[93m,**************/\u001b[0m         \u001b[91m,))))))/\u001b[0m     \r\n",
      "                      \u001b[94m(%%%%%%\u001b[0m   \u001b[91m()\u001b[0m                              \u001b[91m))))))))\u001b[0m       \r\n",
      "                      \u001b[94m#%%%%,\u001b[0m  \u001b[91m())))))\u001b[0m                        \u001b[91m,)))))))),\u001b[0m        \r\n",
      "                        \u001b[94m#,\u001b[0m    \u001b[91m())))))))))\u001b[0m                \u001b[91m,)))))))))).\u001b[0m          \r\n",
      "                                 \u001b[91m()))))))))))))))))))))))))))))))/\u001b[0m             \r\n",
      "                                    \u001b[91m())))))))))))))))))))))))).\u001b[0m                \r\n",
      "                                         \u001b[91m())))))))))))))),\u001b[0m                     \r\n",
      "\r\n",
      "-=# \u001b[1;94m geomeTRIC started. Version: 1.1 \u001b[0m #=-\r\n",
      "Current date and time: 2025-08-18 04:30:17\r\n",
      "\r",
      "#========================================================#\r\n",
      "#| \u001b[92m    Arguments passed to driver run_optimizer():     \u001b[0m |#\r\n",
      "#========================================================#\r\n",
      "customengine              <pyscf.geomopt.geometric_solver.PySCFEngine object at 0x7ebba0fa0550> \r\n",
      "etol                      1e-08 \r\n",
      "gtol                      0.0003 \r\n",
      "input                     /tmp/tmp_96groun/fe7256ac-bbeb-411d-b304-f5e259c93148 \r\n",
      "logIni                    /opt/conda/lib/python3.9/site-packages/pyscf/geomopt/log.ini \r\n",
      "max_steps                 200 \r\n",
      "xtol                      1e-08 \r\n",
      "----------------------------------------------------------\r\n",
      "Custom engine selected.\r\n",
      "Bonds will be generated from interatomic distances less than 1.20 times sum of covalent radii\r\n",
      "21 internal coordinates being used (instead of 21 Cartesians)\r\n",
      "Internal coordinate system (atoms numbered from 1):\r\n",
      "Distance 1-2\r\n",
      "Distance 1-5\r\n",
      "Distance 1-6\r\n",
      "Distance 2-3\r\n",
      "Distance 2-4\r\n",
      "Distance 3-7\r\n",
      "Angle 2-1-5\r\n",
      "Angle 2-1-6\r\n",
      "Angle 5-1-6\r\n",
      "Angle 1-2-4\r\n",
      "Angle 3-2-4\r\n",
      "Angle 2-3-7\r\n",
      "Out-of-Plane 2-1-3-4\r\n",
      "Dihedral 5-1-2-3\r\n",
      "Dihedral 5-1-2-4\r\n",
      "Dihedral 6-1-2-3\r\n",
      "Dihedral 6-1-2-4\r\n",
      "Dihedral 1-2-3-7\r\n",
      "Dihedral 4-2-3-7\r\n",
      "Translation-X 1-7\r\n",
      "Translation-Y 1-7\r\n",
      "Translation-Z 1-7\r\n",
      "Rotation-A 1-7\r\n",
      "Rotation-B 1-7\r\n",
      "Rotation-C 1-7\r\n",
      "<class 'geometric.internal.Distance'> : 6\r\n",
      "<class 'geometric.internal.Angle'> : 6\r\n",
      "<class 'geometric.internal.OutOfPlane'> : 1\r\n",
      "<class 'geometric.internal.Dihedral'> : 6\r\n",
      "<class 'geometric.internal.TranslationX'> : 1\r\n",
      "<class 'geometric.internal.TranslationY'> : 1\r\n",
      "<class 'geometric.internal.TranslationZ'> : 1\r\n",
      "<class 'geometric.internal.RotationA'> : 1\r\n",
      "<class 'geometric.internal.RotationB'> : 1\r\n",
      "<class 'geometric.internal.RotationC'> : 1\r\n",
      "> ===== Optimization Info: ====\r\n",
      "> Job type: Energy minimization\r\n",
      "> Maximum number of optimization cycles: 300\r\n",
      "> Initial / maximum trust radius (Angstrom): 0.100 / 0.300\r\n",
      "> Convergence Criteria:\r\n",
      "> Will converge when all 5 criteria are reached:\r\n",
      ">  |Delta-E| < 1.00e-06\r\n",
      ">  RMS-Grad  < 3.00e-04\r\n",
      ">  Max-Grad  < 4.50e-04\r\n",
      ">  RMS-Disp  < 1.20e-03\r\n",
      ">  Max-Disp  < 1.80e-03\r\n",
      "> === End Optimization Info ===\r\n",
      "\r\n",
      "Geometry optimization cycle 1\r\n",
      "Cartesian coordinates (Angstrom)\r\n",
      " Atom        New coordinates             dX        dY        dZ\r\n",
      "   N   1.143100  -0.331100   0.033000    0.000000  0.000000  0.000000\r\n",
      "   C   0.048700   0.464200  -0.013200   -0.000000  0.000000  0.000000\r\n",
      "   N  -1.185400  -0.091900  -0.022200    0.000000  0.000000  0.000000\r\n",
      "   O   0.173100   1.668700  -0.046400    0.000000  0.000000  0.000000\r\n",
      "   H   0.999000  -1.300900  -0.246200    0.000000  0.000000  0.000000\r\n",
      "   H   2.016800   0.120000  -0.236100    0.000000  0.000000  0.000000\r\n",
      "   H  -1.946800   0.542200   0.217600    0.000000  0.000000  0.000000\r\n",
      "New geometry\r\n",
      "   1 N      1.143100000000  -0.331100000000   0.033000000000 AA    2.160145932990  -0.625688319843   0.062360962111 Bohr\r\n",
      "\r\n",
      "   2 C      0.048700000000   0.464200000000  -0.013200000000 AA    0.092029662266   0.877210867023  -0.024944384844 Bohr\r\n",
      "\r\n",
      "   3 N     -1.185400000000  -0.091900000000  -0.022200000000 AA   -2.240081348059  -0.173665830848  -0.041951919965 Bohr\r\n",
      "\r\n",
      "   4 O      0.173100000000   1.668700000000  -0.046400000000 AA    0.327111592162   3.153385984062  -0.087683292180 Bohr\r\n",
      "\r\n",
      "   5 H      0.999000000000  -1.300900000000  -0.246200000000 AA    1.887836398440  -2.458344715447  -0.465250571868 Bohr\r\n",
      "\r\n",
      "   6 H      2.016800000000   0.120000000000  -0.236100000000 AA    3.811199648023   0.226767134948  -0.446164338010 Bohr\r\n",
      "\r\n",
      "   7 H     -1.946800000000   0.542200000000   0.217600000000 AA   -3.678918819303   1.024609504739   0.411204404705 Bohr\r\n",
      "\r\n",
      "\r\n",
      "\r\n",
      "******** <class 'pyscf.scf.hf.PCMDFRKS_Scanner'> ********\r\n",
      "method = PCMDFRKS_Scanner\r\n",
      "initial guess = minao\r\n",
      "damping factor = 0\r\n",
      "level_shift factor = 0\r\n",
      "DIIS = <class 'gpu4pyscf.scf.diis.CDIIS'>\r\n",
      "diis_start_cycle = 1\r\n",
      "diis_space = 8\r\n",
      "diis_damp = 0\r\n",
      "SCF conv_tol = 1e-08\r\n",
      "SCF conv_tol_grad = 0.0003\r\n",
      "SCF max_cycles = 70\r\n",
      "direct_scf = False\r\n",
      "max_memory 4000 MB (current use 1381 MB)\r\n",
      "******** <class 'gpu4pyscf.solvent.pcm.PCM'> ********\r\n",
      "lebedev_order = 29 (302 grids per sphere)\r\n",
      "eps = 46.826\r\n",
      "frozen = False\r\n",
      "equilibrium_solvation = False\r\n"
     ]
    },
    {
     "name": "stdout",
     "output_type": "stream",
     "text": [
      "Initial guess from minao.\r\n"
     ]
    },
    {
     "name": "stdout",
     "output_type": "stream",
     "text": [
      "tot grids = 223488\r\n"
     ]
    },
    {
     "name": "stdout",
     "output_type": "stream",
     "text": [
      "Default auxbasis aug-cc-pvdz-jkfit is used for O aug-cc-pVDZ\r\n",
      "Default auxbasis aug-cc-pvdz-jkfit is used for C aug-cc-pVDZ\r\n",
      "Default auxbasis aug-cc-pvdz-jkfit is used for H aug-cc-pVDZ\r\n",
      "Default auxbasis aug-cc-pvdz-jkfit is used for N aug-cc-pVDZ\r\n"
     ]
    },
    {
     "name": "stdout",
     "output_type": "stream",
     "text": [
      "<class 'gpu4pyscf.solvent.pcm.PCM'> E_diel = -0.000206851888194508\r\n",
      "Solvent Energy = -0.000206851888194508\r\n",
      "init E= -225.207295701257\r\n"
     ]
    },
    {
     "name": "stdout",
     "output_type": "stream",
     "text": [
      "<class 'gpu4pyscf.solvent.pcm.PCM'> E_diel = -0.135530665508611\r\n",
      "Solvent Energy = -0.135530665508611\r\n",
      "cycle= 1 E= -224.569164306979  delta_E= 0.638  |ddm|= 2.86\r\n"
     ]
    },
    {
     "name": "stdout",
     "output_type": "stream",
     "text": [
      "<class 'gpu4pyscf.solvent.pcm.PCM'> E_diel = -0.105801226897069\r\n",
      "Solvent Energy = -0.105801226897069\r\n",
      "cycle= 2 E= -224.486857954325  delta_E= 0.0823  |ddm|= 1.67\r\n"
     ]
    },
    {
     "name": "stdout",
     "output_type": "stream",
     "text": [
      "<class 'gpu4pyscf.solvent.pcm.PCM'> E_diel = -0.119620641752403\r\n",
      "Solvent Energy = -0.119620641752403\r\n",
      "cycle= 3 E= -224.724755441002  delta_E= -0.238  |ddm|= 0.877\r\n"
     ]
    },
    {
     "name": "stdout",
     "output_type": "stream",
     "text": [
      "<class 'gpu4pyscf.solvent.pcm.PCM'> E_diel = -0.120358393681643\r\n",
      "Solvent Energy = -0.120358393681643\r\n",
      "cycle= 4 E= -224.725788327991  delta_E= -0.00103  |ddm|= 0.109\r\n"
     ]
    },
    {
     "name": "stdout",
     "output_type": "stream",
     "text": [
      "<class 'gpu4pyscf.solvent.pcm.PCM'> E_diel = -0.120360201746582\r\n",
      "Solvent Energy = -0.120360201746582\r\n",
      "cycle= 5 E= -224.726353025059  delta_E= -0.000565  |ddm|= 0.0687\r\n"
     ]
    },
    {
     "name": "stdout",
     "output_type": "stream",
     "text": [
      "<class 'gpu4pyscf.solvent.pcm.PCM'> E_diel = -0.120461980358654\r\n",
      "Solvent Energy = -0.120461980358654\r\n",
      "cycle= 6 E= -224.726375457014  delta_E= -2.24e-05  |ddm|= 0.0146\r\n"
     ]
    },
    {
     "name": "stdout",
     "output_type": "stream",
     "text": [
      "<class 'gpu4pyscf.solvent.pcm.PCM'> E_diel = -0.120439944722485\r\n",
      "Solvent Energy = -0.120439944722485\r\n",
      "cycle= 7 E= -224.726382048237  delta_E= -6.59e-06  |ddm|= 0.00863\r\n"
     ]
    },
    {
     "name": "stdout",
     "output_type": "stream",
     "text": [
      "<class 'gpu4pyscf.solvent.pcm.PCM'> E_diel = -0.120450220933461\r\n",
      "Solvent Energy = -0.120450220933461\r\n",
      "cycle= 8 E= -224.726382582719  delta_E= -5.34e-07  |ddm|= 0.00359\r\n"
     ]
    },
    {
     "name": "stdout",
     "output_type": "stream",
     "text": [
      "<class 'gpu4pyscf.solvent.pcm.PCM'> E_diel = -0.120453967493415\r\n",
      "Solvent Energy = -0.120453967493415\r\n",
      "cycle= 9 E= -224.726382608694  delta_E= -2.6e-08  |ddm|= 0.000853\r\n"
     ]
    },
    {
     "name": "stdout",
     "output_type": "stream",
     "text": [
      "<class 'gpu4pyscf.solvent.pcm.PCM'> E_diel = -0.120453917246291\r\n",
      "Solvent Energy = -0.120453917246291\r\n",
      "cycle= 10 E= -224.726382610151  delta_E= -1.46e-09  |ddm|= 0.000174\r\n",
      "converged SCF energy = -224.726382610151\r\n",
      "\r\n",
      "\r\n",
      "******** <class 'gpu4pyscf.grad.rhf.PCMGradients_Scanner'> for <class 'pyscf.scf.hf.PCMDFRKS_Scanner'> ********\r\n",
      "unit = Eh/Bohr\r\n",
      "max_memory 4000 MB (current use 1383 MB)\r\n"
     ]
    },
    {
     "name": "stdout",
     "output_type": "stream",
     "text": [
      "--------------- PCMDFRKS_Scanner (+PCM) gradients ---------------\r\n",
      "         x                y                z\r\n",
      "0 N    -0.0247809975     0.0273082068     0.0020702410\r\n",
      "1 C     0.0796614906     0.0287310468     0.0018778704\r\n",
      "2 N    -0.0103608059     0.0428605997    -0.0054855719\r\n",
      "3 O    -0.0333367802    -0.0890766593    -0.0030287213\r\n",
      "4 H    -0.0051121944    -0.0068244409    -0.0022524850\r\n",
      "5 H     0.0067229496     0.0064550515     0.0010058898\r\n",
      "6 H    -0.0127841992    -0.0094650805     0.0058224235\r\n",
      "----------------------------------------------\r\n",
      "cycle 1: E = -224.72638261  dE = -224.726  norm(grad) = 0.141497\r\n",
      "Step    0 : Gradient = 5.348e-02/9.516e-02 (rms/max) Energy = -224.7263826102\r\n",
      "Hessian Eigenvalues: 2.30000e-02 2.30000e-02 2.67372e-02 ... 5.42536e-01 5.42549e-01 9.93152e-01\r\n"
     ]
    },
    {
     "name": "stdout",
     "output_type": "stream",
     "text": [
      "\r\n",
      "Geometry optimization cycle 2\r\n",
      "Cartesian coordinates (Angstrom)\r\n",
      " Atom        New coordinates             dX        dY        dZ\r\n",
      "   N   1.097281  -0.328222   0.035853   -0.045819  0.002878  0.002853\r\n",
      "   C   0.041908   0.557352  -0.015458   -0.006792  0.093152 -0.002258\r\n",
      "   N  -1.098811  -0.161425  -0.018895    0.086589 -0.069525  0.003305\r\n",
      "   O   0.205821   1.798725  -0.046497    0.032721  0.130025 -0.000097\r\n",
      "   H   0.899480  -1.282852  -0.238877   -0.099520  0.018048  0.007323\r\n",
      "   H   1.994351   0.055713  -0.234168   -0.022449 -0.064287  0.001932\r\n",
      "   H  -1.891677   0.432084   0.204392    0.055123 -0.110116 -0.013208\r\n",
      "New geometry\r\n",
      "   1 N      1.097280793238  -0.328222411959   0.035853303436 AA    2.073560180965  -0.620250466547   0.067752924155 Bohr\r\n",
      "\r\n",
      "   2 C      0.041908019058   0.557352404094  -0.015458293265 AA    0.079194678443   1.053243398606  -0.029211940624 Bohr\r\n",
      "\r\n",
      "   3 N     -1.098811406935  -0.161424825282  -0.018895446157 AA   -2.076452621656  -0.305048709489  -0.035707218238 Bohr\r\n",
      "\r\n",
      "   4 O      0.205821085174   1.798724808906  -0.046496564998 AA    0.388945481639   3.399097262292  -0.087865773579 Bohr\r\n",
      "\r\n",
      "   5 H      0.899480362341  -1.282851516451  -0.238877160337 AA    1.699771539250  -2.424238024574  -0.451412410451 Bohr\r\n",
      "\r\n",
      "   6 H      1.994351206784   0.055712592552  -0.234167772561 AA    3.768777577018   0.105281541613  -0.442512957340 Bohr\r\n",
      "\r\n",
      "   7 H     -1.891677203590   0.432084282514   0.204391934021 AA   -3.574751830868   0.816520956681   0.386244777369 Bohr\r\n",
      "\r\n",
      "\r\n",
      "\r\n",
      "******** <class 'pyscf.scf.hf.PCMDFRKS_Scanner'> ********\r\n",
      "method = PCMDFRKS_Scanner\r\n",
      "initial guess = minao\r\n",
      "damping factor = 0\r\n",
      "level_shift factor = 0\r\n",
      "DIIS = <class 'gpu4pyscf.scf.diis.CDIIS'>\r\n",
      "diis_start_cycle = 1\r\n",
      "diis_space = 8\r\n",
      "diis_damp = 0\r\n",
      "SCF conv_tol = 1e-08\r\n",
      "SCF conv_tol_grad = 0.0003\r\n",
      "SCF max_cycles = 70\r\n",
      "direct_scf = False\r\n",
      "max_memory 4000 MB (current use 1385 MB)\r\n",
      "******** <class 'gpu4pyscf.solvent.pcm.PCM'> ********\r\n",
      "lebedev_order = 29 (302 grids per sphere)\r\n",
      "eps = 46.826\r\n",
      "frozen = False\r\n",
      "equilibrium_solvation = False\r\n",
      "tot grids = 223488\r\n"
     ]
    },
    {
     "name": "stdout",
     "output_type": "stream",
     "text": [
      "Default auxbasis aug-cc-pvdz-jkfit is used for O aug-cc-pVDZ\r\n",
      "Default auxbasis aug-cc-pvdz-jkfit is used for C aug-cc-pVDZ\r\n",
      "Default auxbasis aug-cc-pvdz-jkfit is used for H aug-cc-pVDZ\r\n",
      "Default auxbasis aug-cc-pvdz-jkfit is used for N aug-cc-pVDZ\r\n"
     ]
    },
    {
     "name": "stdout",
     "output_type": "stream",
     "text": [
      "<class 'gpu4pyscf.solvent.pcm.PCM'> E_diel = -0.109602131005619\r\n",
      "Solvent Energy = -0.109602131005619\r\n",
      "init E= -224.672922713438\r\n"
     ]
    },
    {
     "name": "stdout",
     "output_type": "stream",
     "text": [
      "<class 'gpu4pyscf.solvent.pcm.PCM'> E_diel = -0.116074645360918\r\n",
      "Solvent Energy = -0.116074645360918\r\n",
      "cycle= 1 E= -224.733213936879  delta_E= -0.0603  |ddm|= 0.455\r\n"
     ]
    },
    {
     "name": "stdout",
     "output_type": "stream",
     "text": [
      "<class 'gpu4pyscf.solvent.pcm.PCM'> E_diel = -0.115055717388098\r\n",
      "Solvent Energy = -0.115055717388098\r\n",
      "cycle= 2 E= -224.733552931961  delta_E= -0.000339  |ddm|= 0.115\r\n"
     ]
    },
    {
     "name": "stdout",
     "output_type": "stream",
     "text": [
      "<class 'gpu4pyscf.solvent.pcm.PCM'> E_diel = -0.115263890646068\r\n",
      "Solvent Energy = -0.115263890646068\r\n",
      "cycle= 3 E= -224.734467289966  delta_E= -0.000914  |ddm|= 0.06\r\n"
     ]
    },
    {
     "name": "stdout",
     "output_type": "stream",
     "text": [
      "<class 'gpu4pyscf.solvent.pcm.PCM'> E_diel = -0.115308668118274\r\n",
      "Solvent Energy = -0.115308668118274\r\n",
      "cycle= 4 E= -224.734523678366  delta_E= -5.64e-05  |ddm|= 0.0159\r\n"
     ]
    },
    {
     "name": "stdout",
     "output_type": "stream",
     "text": [
      "<class 'gpu4pyscf.solvent.pcm.PCM'> E_diel = -0.115234226268517\r\n",
      "Solvent Energy = -0.115234226268517\r\n",
      "cycle= 5 E= -224.734535028093  delta_E= -1.13e-05  |ddm|= 0.00782\r\n"
     ]
    },
    {
     "name": "stdout",
     "output_type": "stream",
     "text": [
      "<class 'gpu4pyscf.solvent.pcm.PCM'> E_diel = -0.11522096485956\r\n",
      "Solvent Energy = -0.11522096485956\r\n",
      "cycle= 6 E= -224.734535606112  delta_E= -5.78e-07  |ddm|= 0.00218\r\n"
     ]
    },
    {
     "name": "stdout",
     "output_type": "stream",
     "text": [
      "<class 'gpu4pyscf.solvent.pcm.PCM'> E_diel = -0.115226483366451\r\n",
      "Solvent Energy = -0.115226483366451\r\n",
      "cycle= 7 E= -224.734535730089  delta_E= -1.24e-07  |ddm|= 0.00114\r\n"
     ]
    },
    {
     "name": "stdout",
     "output_type": "stream",
     "text": [
      "<class 'gpu4pyscf.solvent.pcm.PCM'> E_diel = -0.115221851606251\r\n",
      "Solvent Energy = -0.115221851606251\r\n",
      "cycle= 8 E= -224.734535753468  delta_E= -2.34e-08  |ddm|= 0.00063\r\n"
     ]
    },
    {
     "name": "stdout",
     "output_type": "stream",
     "text": [
      "<class 'gpu4pyscf.solvent.pcm.PCM'> E_diel = -0.115221571214115\r\n",
      "Solvent Energy = -0.115221571214115\r\n",
      "cycle= 9 E= -224.734535754644  delta_E= -1.18e-09  |ddm|= 0.000192\r\n",
      "converged SCF energy = -224.734535754644\r\n",
      "\r\n",
      "\r\n",
      "******** <class 'gpu4pyscf.grad.rhf.PCMGradients_Scanner'> for <class 'pyscf.scf.hf.PCMDFRKS_Scanner'> ********\r\n",
      "unit = Eh/Bohr\r\n",
      "max_memory 4000 MB (current use 1385 MB)\r\n"
     ]
    },
    {
     "name": "stdout",
     "output_type": "stream",
     "text": [
      "--------------- PCMDFRKS_Scanner (+PCM) gradients ---------------\r\n",
      "         x                y                z\r\n",
      "0 N    -0.0368634919    -0.0066749331    -0.0001963291\r\n",
      "1 C     0.0408969661     0.0329088701     0.0034009232\r\n",
      "2 N     0.0049303885    -0.0080264473    -0.0061412058\r\n",
      "3 O    -0.0087697612    -0.0097641089    -0.0044274365\r\n",
      "4 H    -0.0011428303    -0.0046679527    -0.0005908760\r\n",
      "5 H    -0.0011960483     0.0042849498     0.0023815886\r\n",
      "6 H     0.0021355388    -0.0080673371     0.0055752530\r\n",
      "----------------------------------------------\r\n",
      "cycle 2: E = -224.734535755  dE = -0.00815314  norm(grad) = 0.068107\r\n",
      "Step    1 : Displace = \u001b[0m1.010e-01\u001b[0m/\u001b[0m1.341e-01\u001b[0m (rms/max) Trust = 1.000e-01 (=) Grad = \u001b[0m2.574e-02\u001b[0m/\u001b[0m5.260e-02\u001b[0m (rms/max) E (change) = -224.7345357546 (\u001b[0m-8.153e-03\u001b[0m) Quality = \u001b[0m0.482\u001b[0m\r\n",
      "Hessian Eigenvalues: 2.28298e-02 2.30037e-02 2.67451e-02 ... 5.42316e-01 6.89399e-01 1.05341e+00\r\n",
      "\r\n",
      "Geometry optimization cycle 3\r\n",
      "Cartesian coordinates (Angstrom)\r\n",
      " Atom        New coordinates             dX        dY        dZ\r\n",
      "   N   1.139915  -0.334888   0.032100    0.042634 -0.006665 -0.003753\r\n",
      "   C  -0.019147   0.467508   0.002489   -0.061055 -0.089845  0.017947\r\n",
      "   N  -1.205476  -0.162814   0.007729   -0.106665 -0.001390  0.026624\r\n",
      "   O   0.213892   1.726501  -0.022082    0.008071 -0.072224  0.024414\r\n",
      "   H   1.024441  -1.296318  -0.237701    0.124960 -0.013467  0.001176\r\n",
      "   H   1.994085   0.109448  -0.267051   -0.000266  0.053735 -0.032884\r\n",
      "   H  -1.899233   0.562253   0.170702   -0.007556  0.130169 -0.033690\r\n",
      "New geometry\r\n",
      "   1 N      1.139915174248  -0.334887740766   0.032099899833 AA    2.154127484564  -0.632846112522   0.060660019311 Bohr\r\n",
      "\r\n",
      "   2 C     -0.019147018079   0.467507774295   0.002488702641 AA   -0.036182620272   0.883461654522   0.004702966397 Bohr\r\n",
      "\r\n",
      "   3 N     -1.205476362094  -0.162814341106   0.007728802578 AA   -2.278020173996  -0.307674513841   0.014605320144 Bohr\r\n",
      "\r\n",
      "   4 O      0.213892022923   1.726500594004  -0.022082278469 AA    0.404197343554   3.262613276566  -0.041729458512 Bohr\r\n",
      "\r\n",
      "   5 H      1.024440503054  -1.296318133835  -0.237701001557 AA    1.935911981684  -2.449686243255  -0.449189792477 Bohr\r\n",
      "\r\n",
      "   6 H      1.994085023667   0.109447982470  -0.267051375644 AA    3.768274563827   0.206826711755  -0.504653961156 Bohr\r\n",
      "\r\n",
      "   7 H     -1.899233083054   0.562252908738   0.170702375409 AA   -3.589030373685   1.062504010255   0.322580738335 Bohr\r\n",
      "\r\n",
      "\r\n",
      "\r\n",
      "******** <class 'pyscf.scf.hf.PCMDFRKS_Scanner'> ********\r\n",
      "method = PCMDFRKS_Scanner\r\n",
      "initial guess = minao\r\n",
      "damping factor = 0\r\n",
      "level_shift factor = 0\r\n",
      "DIIS = <class 'gpu4pyscf.scf.diis.CDIIS'>\r\n",
      "diis_start_cycle = 1\r\n",
      "diis_space = 8\r\n",
      "diis_damp = 0\r\n",
      "SCF conv_tol = 1e-08\r\n",
      "SCF conv_tol_grad = 0.0003\r\n",
      "SCF max_cycles = 70\r\n",
      "direct_scf = False\r\n",
      "max_memory 4000 MB (current use 1385 MB)\r\n",
      "******** <class 'gpu4pyscf.solvent.pcm.PCM'> ********\r\n",
      "lebedev_order = 29 (302 grids per sphere)\r\n",
      "eps = 46.826\r\n",
      "frozen = False\r\n",
      "equilibrium_solvation = False\r\n"
     ]
    },
    {
     "name": "stdout",
     "output_type": "stream",
     "text": [
      "tot grids = 223488\r\n"
     ]
    },
    {
     "name": "stdout",
     "output_type": "stream",
     "text": [
      "Default auxbasis aug-cc-pvdz-jkfit is used for O aug-cc-pVDZ\r\n",
      "Default auxbasis aug-cc-pvdz-jkfit is used for C aug-cc-pVDZ\r\n",
      "Default auxbasis aug-cc-pvdz-jkfit is used for H aug-cc-pVDZ\r\n",
      "Default auxbasis aug-cc-pvdz-jkfit is used for N aug-cc-pVDZ\r\n"
     ]
    },
    {
     "name": "stdout",
     "output_type": "stream",
     "text": [
      "<class 'gpu4pyscf.solvent.pcm.PCM'> E_diel = -0.118817519260209\r\n",
      "Solvent Energy = -0.118817519260209\r\n",
      "init E= -224.733220935051\r\n"
     ]
    },
    {
     "name": "stdout",
     "output_type": "stream",
     "text": [
      "<class 'gpu4pyscf.solvent.pcm.PCM'> E_diel = -0.11628955161822\r\n",
      "Solvent Energy = -0.11628955161822\r\n",
      "cycle= 1 E= -224.738047195167  delta_E= -0.00483  |ddm|= 0.479\r\n"
     ]
    },
    {
     "name": "stdout",
     "output_type": "stream",
     "text": [
      "<class 'gpu4pyscf.solvent.pcm.PCM'> E_diel = -0.115712370121918\r\n",
      "Solvent Energy = -0.115712370121918\r\n",
      "cycle= 2 E= -224.737086908202  delta_E= 0.00096  |ddm|= 0.205\r\n"
     ]
    },
    {
     "name": "stdout",
     "output_type": "stream",
     "text": [
      "<class 'gpu4pyscf.solvent.pcm.PCM'> E_diel = -0.115770492498585\r\n",
      "Solvent Energy = -0.115770492498585\r\n",
      "cycle= 3 E= -224.740332031863  delta_E= -0.00325  |ddm|= 0.0967\r\n"
     ]
    },
    {
     "name": "stdout",
     "output_type": "stream",
     "text": [
      "<class 'gpu4pyscf.solvent.pcm.PCM'> E_diel = -0.115785062668308\r\n",
      "Solvent Energy = -0.115785062668308\r\n",
      "cycle= 4 E= -224.740400557034  delta_E= -6.85e-05  |ddm|= 0.0217\r\n"
     ]
    },
    {
     "name": "stdout",
     "output_type": "stream",
     "text": [
      "<class 'gpu4pyscf.solvent.pcm.PCM'> E_diel = -0.11577347426116\r\n",
      "Solvent Energy = -0.11577347426116\r\n",
      "cycle= 5 E= -224.740408288306  delta_E= -7.73e-06  |ddm|= 0.00735\r\n"
     ]
    },
    {
     "name": "stdout",
     "output_type": "stream",
     "text": [
      "<class 'gpu4pyscf.solvent.pcm.PCM'> E_diel = -0.115747578528571\r\n",
      "Solvent Energy = -0.115747578528571\r\n",
      "cycle= 6 E= -224.74040923972  delta_E= -9.51e-07  |ddm|= 0.00301\r\n"
     ]
    },
    {
     "name": "stdout",
     "output_type": "stream",
     "text": [
      "<class 'gpu4pyscf.solvent.pcm.PCM'> E_diel = -0.115753790047327\r\n",
      "Solvent Energy = -0.115753790047327\r\n",
      "cycle= 7 E= -224.740409324157  delta_E= -8.44e-08  |ddm|= 0.00108\r\n"
     ]
    },
    {
     "name": "stdout",
     "output_type": "stream",
     "text": [
      "<class 'gpu4pyscf.solvent.pcm.PCM'> E_diel = -0.115749774628485\r\n",
      "Solvent Energy = -0.115749774628485\r\n",
      "cycle= 8 E= -224.740409344612  delta_E= -2.05e-08  |ddm|= 0.000584\r\n"
     ]
    },
    {
     "name": "stdout",
     "output_type": "stream",
     "text": [
      "<class 'gpu4pyscf.solvent.pcm.PCM'> E_diel = -0.115748849737232\r\n",
      "Solvent Energy = -0.115748849737232\r\n",
      "cycle= 9 E= -224.740409346301  delta_E= -1.69e-09  |ddm|= 0.000161\r\n",
      "converged SCF energy = -224.740409346301\r\n",
      "\r\n",
      "\r\n",
      "******** <class 'gpu4pyscf.grad.rhf.PCMGradients_Scanner'> for <class 'pyscf.scf.hf.PCMDFRKS_Scanner'> ********\r\n",
      "unit = Eh/Bohr\r\n",
      "max_memory 4000 MB (current use 1386 MB)\r\n"
     ]
    },
    {
     "name": "stdout",
     "output_type": "stream",
     "text": [
      "--------------- PCMDFRKS_Scanner (+PCM) gradients ---------------\r\n",
      "         x                y                z\r\n",
      "0 N     0.0102485995     0.0005821454    -0.0048983136\r\n",
      "1 C     0.0010075875    -0.0052311058     0.0056471178\r\n",
      "2 N    -0.0221540050    -0.0043283309    -0.0056535407\r\n",
      "3 O     0.0074639715     0.0078087785    -0.0039370518\r\n",
      "4 H    -0.0004341467     0.0051725829     0.0019224525\r\n",
      "5 H     0.0004680994    -0.0011621922     0.0029475048\r\n",
      "6 H     0.0034040910    -0.0028213669     0.0039746457\r\n",
      "----------------------------------------------\r\n",
      "cycle 3: E = -224.740409346  dE = -0.00587359  norm(grad) = 0.0306523\r\n",
      "Step    2 : Displace = \u001b[0m9.989e-02\u001b[0m/\u001b[0m1.354e-01\u001b[0m (rms/max) Trust = 1.000e-01 (=) Grad = \u001b[0m1.159e-02\u001b[0m/\u001b[0m2.327e-02\u001b[0m (rms/max) E (change) = -224.7404093463 (\u001b[0m-5.874e-03\u001b[0m) Quality = \u001b[0m0.630\u001b[0m\r\n",
      "Hessian Eigenvalues: 2.27996e-02 2.30034e-02 2.67476e-02 ... 5.41482e-01 7.92518e-01 1.08246e+00\r\n"
     ]
    },
    {
     "name": "stdout",
     "output_type": "stream",
     "text": [
      "\r\n",
      "Geometry optimization cycle 4\r\n",
      "Cartesian coordinates (Angstrom)\r\n",
      " Atom        New coordinates             dX        dY        dZ\r\n",
      "   N   1.141504  -0.335406   0.041274    0.001589 -0.000518  0.009175\r\n",
      "   C  -0.006261   0.476204   0.031273    0.012886  0.008696  0.028784\r\n",
      "   N  -1.167744  -0.165219   0.073737    0.037732 -0.002405  0.066008\r\n",
      "   O   0.190640   1.734743   0.021120   -0.023252  0.008242  0.043202\r\n",
      "   H   1.007176  -1.300800  -0.225372   -0.017265 -0.004482  0.012329\r\n",
      "   H   1.971603   0.102793  -0.330926   -0.022482 -0.006655 -0.063875\r\n",
      "   H  -1.888602   0.558175   0.074896    0.010631 -0.004078 -0.095806\r\n",
      "New geometry\r\n",
      "   1 N      1.141504043407  -0.335406074884   0.041274472176 AA    2.157130012123  -0.633825622047   0.077997448348 Bohr\r\n",
      "\r\n",
      "   2 C     -0.006260926847   0.476203550127   0.031273047541 AA   -0.011831437027   0.899894289285   0.059097494934 Bohr\r\n",
      "\r\n",
      "   3 N     -1.167744408847  -0.165219351379   0.073736982768 AA   -2.206717116213  -0.312219324585   0.139342702684 Bohr\r\n",
      "\r\n",
      "   4 O      0.190639923970   1.734742787032   0.021120138547 AA    0.360257244710   3.278188764056   0.039911277567 Bohr\r\n",
      "\r\n",
      "   5 H      1.007175951630  -1.300799776027  -0.225371684371 AA    1.903286707828  -2.458155319587  -0.425890759693 Bohr\r\n",
      "\r\n",
      "   6 H      1.971602842155   0.102793214745  -0.330926083227 AA    3.725789398086   0.194251023331  -0.625359664775 Bohr\r\n",
      "\r\n",
      "   7 H     -1.888602207958   0.558174562737   0.074896075880 AA   -3.568940931290   1.054797053272   0.141533071217 Bohr\r\n",
      "\r\n",
      "\r\n",
      "\r\n",
      "******** <class 'pyscf.scf.hf.PCMDFRKS_Scanner'> ********\r\n",
      "method = PCMDFRKS_Scanner\r\n",
      "initial guess = minao\r\n",
      "damping factor = 0\r\n",
      "level_shift factor = 0\r\n",
      "DIIS = <class 'gpu4pyscf.scf.diis.CDIIS'>\r\n",
      "diis_start_cycle = 1\r\n",
      "diis_space = 8\r\n",
      "diis_damp = 0\r\n",
      "SCF conv_tol = 1e-08\r\n",
      "SCF conv_tol_grad = 0.0003\r\n",
      "SCF max_cycles = 70\r\n",
      "direct_scf = False\r\n",
      "max_memory 4000 MB (current use 1385 MB)\r\n",
      "******** <class 'gpu4pyscf.solvent.pcm.PCM'> ********\r\n",
      "lebedev_order = 29 (302 grids per sphere)\r\n",
      "eps = 46.826\r\n",
      "frozen = False\r\n",
      "equilibrium_solvation = False\r\n",
      "tot grids = 223488\r\n"
     ]
    },
    {
     "name": "stdout",
     "output_type": "stream",
     "text": [
      "Default auxbasis aug-cc-pvdz-jkfit is used for O aug-cc-pVDZ\r\n",
      "Default auxbasis aug-cc-pvdz-jkfit is used for C aug-cc-pVDZ\r\n",
      "Default auxbasis aug-cc-pvdz-jkfit is used for H aug-cc-pVDZ\r\n",
      "Default auxbasis aug-cc-pvdz-jkfit is used for N aug-cc-pVDZ\r\n"
     ]
    },
    {
     "name": "stdout",
     "output_type": "stream",
     "text": [
      "<class 'gpu4pyscf.solvent.pcm.PCM'> E_diel = -0.114783989116182\r\n",
      "Solvent Energy = -0.114783989116182\r\n",
      "init E= -224.748170807778\r\n"
     ]
    },
    {
     "name": "stdout",
     "output_type": "stream",
     "text": [
      "<class 'gpu4pyscf.solvent.pcm.PCM'> E_diel = -0.11581685967949\r\n",
      "Solvent Energy = -0.11581685967949\r\n",
      "cycle= 1 E= -224.741751868232  delta_E= 0.00642  |ddm|= 0.288\r\n"
     ]
    },
    {
     "name": "stdout",
     "output_type": "stream",
     "text": [
      "<class 'gpu4pyscf.solvent.pcm.PCM'> E_diel = -0.115592939339016\r\n",
      "Solvent Energy = -0.115592939339016\r\n",
      "cycle= 2 E= -224.741925844972  delta_E= -0.000174  |ddm|= 0.0582\r\n"
     ]
    },
    {
     "name": "stdout",
     "output_type": "stream",
     "text": [
      "<class 'gpu4pyscf.solvent.pcm.PCM'> E_diel = -0.115688946849822\r\n",
      "Solvent Energy = -0.115688946849822\r\n",
      "cycle= 3 E= -224.742100225339  delta_E= -0.000174  |ddm|= 0.0303\r\n"
     ]
    },
    {
     "name": "stdout",
     "output_type": "stream",
     "text": [
      "<class 'gpu4pyscf.solvent.pcm.PCM'> E_diel = -0.115656620595369\r\n",
      "Solvent Energy = -0.115656620595369\r\n",
      "cycle= 4 E= -224.742125152375  delta_E= -2.49e-05  |ddm|= 0.0103\r\n"
     ]
    },
    {
     "name": "stdout",
     "output_type": "stream",
     "text": [
      "<class 'gpu4pyscf.solvent.pcm.PCM'> E_diel = -0.11564820393711\r\n",
      "Solvent Energy = -0.11564820393711\r\n",
      "cycle= 5 E= -224.742127050115  delta_E= -1.9e-06  |ddm|= 0.00339\r\n"
     ]
    },
    {
     "name": "stdout",
     "output_type": "stream",
     "text": [
      "<class 'gpu4pyscf.solvent.pcm.PCM'> E_diel = -0.115653092812476\r\n",
      "Solvent Energy = -0.115653092812476\r\n",
      "cycle= 6 E= -224.742127454034  delta_E= -4.04e-07  |ddm|= 0.00128\r\n"
     ]
    },
    {
     "name": "stdout",
     "output_type": "stream",
     "text": [
      "<class 'gpu4pyscf.solvent.pcm.PCM'> E_diel = -0.115649059423891\r\n",
      "Solvent Energy = -0.115649059423891\r\n",
      "cycle= 7 E= -224.742127473939  delta_E= -1.99e-08  |ddm|= 0.000406\r\n"
     ]
    },
    {
     "name": "stdout",
     "output_type": "stream",
     "text": [
      "<class 'gpu4pyscf.solvent.pcm.PCM'> E_diel = -0.115649958337359\r\n",
      "Solvent Energy = -0.115649958337359\r\n",
      "cycle= 8 E= -224.742127480152  delta_E= -6.21e-09  |ddm|= 0.000223\r\n",
      "converged SCF energy = -224.742127480152\r\n",
      "\r\n",
      "\r\n",
      "******** <class 'gpu4pyscf.grad.rhf.PCMGradients_Scanner'> for <class 'pyscf.scf.hf.PCMDFRKS_Scanner'> ********\r\n",
      "unit = Eh/Bohr\r\n",
      "max_memory 4000 MB (current use 1385 MB)\r\n"
     ]
    },
    {
     "name": "stdout",
     "output_type": "stream",
     "text": [
      "--------------- PCMDFRKS_Scanner (+PCM) gradients ---------------\r\n",
      "         x                y                z\r\n",
      "0 N    -0.0003664586     0.0002800891    -0.0042823748\r\n",
      "1 C     0.0029304801    -0.0016129890     0.0005577324\r\n",
      "2 N    -0.0019132194    -0.0011335060     0.0014196926\r\n",
      "3 O    -0.0006941738     0.0017078707     0.0006996633\r\n",
      "4 H     0.0001175928    -0.0001833233     0.0016348716\r\n",
      "5 H    -0.0003229363     0.0001331362     0.0012348141\r\n",
      "6 H     0.0002486231     0.0008384556    -0.0012561934\r\n",
      "----------------------------------------------\r\n",
      "cycle 4: E = -224.74212748  dE = -0.00171813  norm(grad) = 0.00690006\r\n",
      "Step    3 : Displace = \u001b[0m5.832e-02\u001b[0m/\u001b[0m9.757e-02\u001b[0m (rms/max) Trust = 1.000e-01 (=) Grad = \u001b[0m2.608e-03\u001b[0m/\u001b[0m4.307e-03\u001b[0m (rms/max) E (change) = -224.7421274802 (\u001b[0m-1.718e-03\u001b[0m) Quality = \u001b[0m0.946\u001b[0m\r\n",
      "Hessian Eigenvalues: 2.30021e-02 2.60371e-02 2.69313e-02 ... 5.37803e-01 7.53116e-01 1.06691e+00\r\n",
      "\r\n",
      "Geometry optimization cycle 5\r\n",
      "Cartesian coordinates (Angstrom)\r\n",
      " Atom        New coordinates             dX        dY        dZ\r\n",
      "   N   1.142252  -0.335326   0.056879    0.000748  0.000080  0.015605\r\n",
      "   C  -0.004418   0.477997   0.026991    0.001843  0.001793 -0.004282\r\n",
      "   N  -1.162493  -0.165681   0.064464    0.005251 -0.000461 -0.009273\r\n",
      "   O   0.195371   1.734562   0.012283    0.004731 -0.000181 -0.008837\r\n",
      "   H   1.000534  -1.293198  -0.233930   -0.006642  0.007602 -0.008559\r\n",
      "   H   1.968508   0.101033  -0.328182   -0.003095 -0.001760  0.002744\r\n",
      "   H  -1.891422   0.549009   0.086924   -0.002820 -0.009166  0.012028\r\n",
      "New geometry\r\n",
      "   1 N      1.142251637290  -0.335326046258   0.056879223881 AA    2.158542759814  -0.633674389861   0.107486155313 Bohr\r\n",
      "\r\n",
      "   2 C     -0.004418147563   0.477996653832   0.026990577318 AA   -0.008349088872   0.903282764201   0.051004799075 Bohr\r\n",
      "\r\n",
      "   3 N     -1.162493075264  -0.165680629928   0.064463822097 AA   -2.196793533953  -0.313091014709   0.121818968706 Bohr\r\n",
      "\r\n",
      "   4 O      0.195370545134   1.734561924539   0.012282768578 AA    0.369196823110   3.277846983477   0.023211068665 Bohr\r\n",
      "\r\n",
      "   5 H      1.000533657656  -1.293197744670  -0.233930315220 AA    1.890734591379  -2.443789562332  -0.442064227998 Bohr\r\n",
      "\r\n",
      "   6 H      1.968507522210   0.101033108249  -0.328182092340 AA    3.719940091123   0.190924904105  -0.620174273509 Bohr\r\n",
      "\r\n",
      "   7 H     -1.891421922959   0.549008697796   0.086924190222 AA   -3.574269420390   1.037476078838   0.164262913120 Bohr\r\n",
      "\r\n",
      "\r\n",
      "\r\n",
      "******** <class 'pyscf.scf.hf.PCMDFRKS_Scanner'> ********\r\n",
      "method = PCMDFRKS_Scanner\r\n",
      "initial guess = minao\r\n",
      "damping factor = 0\r\n",
      "level_shift factor = 0\r\n",
      "DIIS = <class 'gpu4pyscf.scf.diis.CDIIS'>\r\n",
      "diis_start_cycle = 1\r\n",
      "diis_space = 8\r\n",
      "diis_damp = 0\r\n",
      "SCF conv_tol = 1e-08\r\n",
      "SCF conv_tol_grad = 0.0003\r\n",
      "SCF max_cycles = 70\r\n",
      "direct_scf = False\r\n",
      "max_memory 4000 MB (current use 1385 MB)\r\n",
      "******** <class 'gpu4pyscf.solvent.pcm.PCM'> ********\r\n",
      "lebedev_order = 29 (302 grids per sphere)\r\n",
      "eps = 46.826\r\n",
      "frozen = False\r\n",
      "equilibrium_solvation = False\r\n",
      "tot grids = 223488\r\n"
     ]
    },
    {
     "name": "stdout",
     "output_type": "stream",
     "text": [
      "Default auxbasis aug-cc-pvdz-jkfit is used for O aug-cc-pVDZ\r\n",
      "Default auxbasis aug-cc-pvdz-jkfit is used for C aug-cc-pVDZ\r\n",
      "Default auxbasis aug-cc-pvdz-jkfit is used for H aug-cc-pVDZ\r\n",
      "Default auxbasis aug-cc-pvdz-jkfit is used for N aug-cc-pVDZ\r\n"
     ]
    },
    {
     "name": "stdout",
     "output_type": "stream",
     "text": [
      "<class 'gpu4pyscf.solvent.pcm.PCM'> E_diel = -0.115518183263724\r\n",
      "Solvent Energy = -0.115518183263724\r\n",
      "init E= -224.742105040694\r\n"
     ]
    },
    {
     "name": "stdout",
     "output_type": "stream",
     "text": [
      "<class 'gpu4pyscf.solvent.pcm.PCM'> E_diel = -0.11541997396572\r\n",
      "Solvent Energy = -0.11541997396572\r\n",
      "cycle= 1 E= -224.742294956768  delta_E= -0.00019  |ddm|= 0.0767\r\n"
     ]
    },
    {
     "name": "stdout",
     "output_type": "stream",
     "text": [
      "<class 'gpu4pyscf.solvent.pcm.PCM'> E_diel = -0.115464779992227\r\n",
      "Solvent Energy = -0.115464779992227\r\n",
      "cycle= 2 E= -224.742306440971  delta_E= -1.15e-05  |ddm|= 0.0126\r\n"
     ]
    },
    {
     "name": "stdout",
     "output_type": "stream",
     "text": [
      "<class 'gpu4pyscf.solvent.pcm.PCM'> E_diel = -0.115420947461078\r\n",
      "Solvent Energy = -0.115420947461078\r\n",
      "cycle= 3 E= -224.742310035173  delta_E= -3.59e-06  |ddm|= 0.0045\r\n"
     ]
    },
    {
     "name": "stdout",
     "output_type": "stream",
     "text": [
      "<class 'gpu4pyscf.solvent.pcm.PCM'> E_diel = -0.115431441541522\r\n",
      "Solvent Energy = -0.115431441541522\r\n",
      "cycle= 4 E= -224.74231098031  delta_E= -9.45e-07  |ddm|= 0.00192\r\n"
     ]
    },
    {
     "name": "stdout",
     "output_type": "stream",
     "text": [
      "<class 'gpu4pyscf.solvent.pcm.PCM'> E_diel = -0.1154297032177\r\n",
      "Solvent Energy = -0.1154297032177\r\n",
      "cycle= 5 E= -224.742311042219  delta_E= -6.19e-08  |ddm|= 0.000675\r\n"
     ]
    },
    {
     "name": "stdout",
     "output_type": "stream",
     "text": [
      "<class 'gpu4pyscf.solvent.pcm.PCM'> E_diel = -0.115429072634345\r\n",
      "Solvent Energy = -0.115429072634345\r\n",
      "cycle= 6 E= -224.742311059714  delta_E= -1.75e-08  |ddm|= 0.000287\r\n"
     ]
    },
    {
     "name": "stdout",
     "output_type": "stream",
     "text": [
      "<class 'gpu4pyscf.solvent.pcm.PCM'> E_diel = -0.115428629122436\r\n",
      "Solvent Energy = -0.115428629122436\r\n",
      "cycle= 7 E= -224.742311060716  delta_E= -1e-09  |ddm|= 9.39e-05\r\n",
      "converged SCF energy = -224.742311060716\r\n",
      "\r\n",
      "\r\n",
      "******** <class 'gpu4pyscf.grad.rhf.PCMGradients_Scanner'> for <class 'pyscf.scf.hf.PCMDFRKS_Scanner'> ********\r\n",
      "unit = Eh/Bohr\r\n",
      "max_memory 4000 MB (current use 1385 MB)\r\n"
     ]
    },
    {
     "name": "stdout",
     "output_type": "stream",
     "text": [
      "--------------- PCMDFRKS_Scanner (+PCM) gradients ---------------\r\n",
      "         x                y                z\r\n",
      "0 N    -0.0019921089     0.0011618161    -0.0026706258\r\n",
      "1 C     0.0026463608    -0.0016402404    -0.0003851327\r\n",
      "2 N     0.0001230060    -0.0002079717     0.0005427870\r\n",
      "3 O    -0.0002672257     0.0000893140     0.0004600796\r\n",
      "4 H    -0.0001051271     0.0001279946     0.0011266315\r\n",
      "5 H    -0.0002034963     0.0001453818     0.0011139477\r\n",
      "6 H    -0.0001977971     0.0003567424    -0.0001804241\r\n",
      "----------------------------------------------\r\n",
      "cycle 5: E = -224.742311061  dE = -0.000183581  norm(grad) = 0.00507303\r\n"
     ]
    },
    {
     "name": "stdout",
     "output_type": "stream",
     "text": [
      "Step    4 : Displace = \u001b[0m1.140e-02\u001b[0m/\u001b[0m1.575e-02\u001b[0m (rms/max) Trust = 1.414e-01 (\u001b[92m+\u001b[0m) Grad = \u001b[0m1.917e-03\u001b[0m/\u001b[0m3.529e-03\u001b[0m (rms/max) E (change) = -224.7423110607 (\u001b[0m-1.836e-04\u001b[0m) Quality = \u001b[0m1.443\u001b[0m\r\n",
      "Hessian Eigenvalues: 1.50829e-02 2.30051e-02 2.61539e-02 ... 5.63818e-01 7.69560e-01 1.07767e+00\r\n",
      "\r\n",
      "Geometry optimization cycle 6\r\n",
      "Cartesian coordinates (Angstrom)\r\n",
      " Atom        New coordinates             dX        dY        dZ\r\n",
      "   N   1.148820  -0.337305   0.087135    0.006568 -0.001979  0.030256\r\n",
      "   C  -0.001664   0.478844   0.039154    0.002754  0.000847  0.012164\r\n",
      "   N  -1.154981  -0.168784   0.061642    0.007512 -0.003104 -0.002822\r\n",
      "   O   0.200185   1.733974   0.002654    0.004814 -0.000588 -0.009629\r\n",
      "   H   0.992544  -1.279667  -0.248520   -0.007990  0.013531 -0.014590\r\n",
      "   H   1.955288   0.099180  -0.341615   -0.013220 -0.001853 -0.013433\r\n",
      "   H  -1.892328   0.536410   0.083652   -0.000906 -0.012599 -0.003273\r\n",
      "New geometry\r\n",
      "   1 N      1.148820130415  -0.337305299090   0.087135186073 AA    2.170955412872  -0.637414635645   0.164661637490 Bohr\r\n",
      "\r\n",
      "   2 C     -0.001664351291   0.478843888180   0.039154287917 AA   -0.003145168114   0.904883805082   0.073990880765 Bohr\r\n",
      "\r\n",
      "   3 N     -1.154980822428  -0.168784228628   0.061642302606 AA   -2.182597433514  -0.318955966252   0.116487069612 Bohr\r\n",
      "\r\n",
      "   4 O      0.200184647350   1.733974002347   0.002653578502 AA    0.378294157834   3.276735971551   0.005014536619 Bohr\r\n",
      "\r\n",
      "   5 H      0.992543525335  -1.279666702641  -0.248520096268 AA    1.875635429593  -2.418219598717  -0.469634918396 Bohr\r\n",
      "\r\n",
      "   6 H      1.955287693569   0.099179903482  -0.341614872228 AA    3.694958235577   0.187422854642  -0.645558548589 Bohr\r\n",
      "\r\n",
      "   7 H     -1.892327912217   0.536410007110   0.083651504864 AA   -3.575981491960   1.013668003915   0.158078434100 Bohr\r\n",
      "\r\n",
      "\r\n",
      "\r\n",
      "******** <class 'pyscf.scf.hf.PCMDFRKS_Scanner'> ********\r\n",
      "method = PCMDFRKS_Scanner\r\n",
      "initial guess = minao\r\n",
      "damping factor = 0\r\n",
      "level_shift factor = 0\r\n",
      "DIIS = <class 'gpu4pyscf.scf.diis.CDIIS'>\r\n",
      "diis_start_cycle = 1\r\n",
      "diis_space = 8\r\n",
      "diis_damp = 0\r\n",
      "SCF conv_tol = 1e-08\r\n",
      "SCF conv_tol_grad = 0.0003\r\n",
      "SCF max_cycles = 70\r\n",
      "direct_scf = False\r\n",
      "max_memory 4000 MB (current use 1385 MB)\r\n",
      "******** <class 'gpu4pyscf.solvent.pcm.PCM'> ********\r\n",
      "lebedev_order = 29 (302 grids per sphere)\r\n",
      "eps = 46.826\r\n",
      "frozen = False\r\n",
      "equilibrium_solvation = False\r\n",
      "tot grids = 223488\r\n"
     ]
    },
    {
     "name": "stdout",
     "output_type": "stream",
     "text": [
      "Default auxbasis aug-cc-pvdz-jkfit is used for O aug-cc-pVDZ\r\n",
      "Default auxbasis aug-cc-pvdz-jkfit is used for C aug-cc-pVDZ\r\n",
      "Default auxbasis aug-cc-pvdz-jkfit is used for H aug-cc-pVDZ\r\n",
      "Default auxbasis aug-cc-pvdz-jkfit is used for N aug-cc-pVDZ\r\n"
     ]
    },
    {
     "name": "stdout",
     "output_type": "stream",
     "text": [
      "<class 'gpu4pyscf.solvent.pcm.PCM'> E_diel = -0.114817339230969\r\n",
      "Solvent Energy = -0.114817339230969\r\n",
      "init E= -224.738467059679\r\n"
     ]
    },
    {
     "name": "stdout",
     "output_type": "stream",
     "text": [
      "<class 'gpu4pyscf.solvent.pcm.PCM'> E_diel = -0.114942792451669\r\n",
      "Solvent Energy = -0.114942792451669\r\n",
      "cycle= 1 E= -224.742353662709  delta_E= -0.00389  |ddm|= 0.135\r\n"
     ]
    },
    {
     "name": "stdout",
     "output_type": "stream",
     "text": [
      "<class 'gpu4pyscf.solvent.pcm.PCM'> E_diel = -0.114922095496813\r\n",
      "Solvent Energy = -0.114922095496813\r\n",
      "cycle= 2 E= -224.742399007568  delta_E= -4.53e-05  |ddm|= 0.024\r\n"
     ]
    },
    {
     "name": "stdout",
     "output_type": "stream",
     "text": [
      "<class 'gpu4pyscf.solvent.pcm.PCM'> E_diel = -0.114867007419367\r\n",
      "Solvent Energy = -0.114867007419367\r\n",
      "cycle= 3 E= -224.742407770575  delta_E= -8.76e-06  |ddm|= 0.00822\r\n"
     ]
    },
    {
     "name": "stdout",
     "output_type": "stream",
     "text": [
      "<class 'gpu4pyscf.solvent.pcm.PCM'> E_diel = -0.114884233536085\r\n",
      "Solvent Energy = -0.114884233536085\r\n",
      "cycle= 4 E= -224.742411666421  delta_E= -3.9e-06  |ddm|= 0.0038\r\n"
     ]
    },
    {
     "name": "stdout",
     "output_type": "stream",
     "text": [
      "<class 'gpu4pyscf.solvent.pcm.PCM'> E_diel = -0.114873991424241\r\n",
      "Solvent Energy = -0.114873991424241\r\n",
      "cycle= 5 E= -224.742411794448  delta_E= -1.28e-07  |ddm|= 0.00125\r\n"
     ]
    },
    {
     "name": "stdout",
     "output_type": "stream",
     "text": [
      "<class 'gpu4pyscf.solvent.pcm.PCM'> E_diel = -0.114874584315762\r\n",
      "Solvent Energy = -0.114874584315762\r\n",
      "cycle= 6 E= -224.742411820201  delta_E= -2.58e-08  |ddm|= 0.000324\r\n"
     ]
    },
    {
     "name": "stdout",
     "output_type": "stream",
     "text": [
      "<class 'gpu4pyscf.solvent.pcm.PCM'> E_diel = -0.114873538005279\r\n",
      "Solvent Energy = -0.114873538005279\r\n",
      "cycle= 7 E= -224.742411822222  delta_E= -2.02e-09  |ddm|= 0.000149\r\n",
      "converged SCF energy = -224.742411822222\r\n",
      "\r\n",
      "\r\n",
      "******** <class 'gpu4pyscf.grad.rhf.PCMGradients_Scanner'> for <class 'pyscf.scf.hf.PCMDFRKS_Scanner'> ********\r\n",
      "unit = Eh/Bohr\r\n",
      "max_memory 4000 MB (current use 1385 MB)\r\n"
     ]
    },
    {
     "name": "stdout",
     "output_type": "stream",
     "text": [
      "--------------- PCMDFRKS_Scanner (+PCM) gradients ---------------\r\n",
      "         x                y                z\r\n",
      "0 N    -0.0024734003     0.0012887976    -0.0008240142\r\n",
      "1 C     0.0011994420    -0.0018453801     0.0029510321\r\n",
      "2 N     0.0015003950     0.0006755674    -0.0013567498\r\n",
      "3 O     0.0002814402    -0.0000394781    -0.0012840755\r\n",
      "4 H    -0.0000673961     0.0004244017    -0.0000770861\r\n",
      "5 H    -0.0002606677    -0.0001444116     0.0002364973\r\n",
      "6 H    -0.0001751584    -0.0003306869     0.0003640119\r\n",
      "----------------------------------------------\r\n",
      "cycle 6: E = -224.742411822  dE = -0.000100762  norm(grad) = 0.00537552\r\n",
      "Step    5 : Displace = \u001b[0m1.797e-02\u001b[0m/\u001b[0m3.147e-02\u001b[0m (rms/max) Trust = 2.000e-01 (\u001b[92m+\u001b[0m) Grad = \u001b[0m2.032e-03\u001b[0m/\u001b[0m3.681e-03\u001b[0m (rms/max) E (change) = -224.7424118222 (\u001b[0m-1.008e-04\u001b[0m) Quality = \u001b[0m0.811\u001b[0m\r\n",
      "Hessian Eigenvalues: 1.25316e-02 2.30254e-02 3.09705e-02 ... 5.50241e-01 7.74528e-01 1.09007e+00\r\n",
      "\r\n",
      "Geometry optimization cycle 7\r\n",
      "Cartesian coordinates (Angstrom)\r\n",
      " Atom        New coordinates             dX        dY        dZ\r\n",
      "   N   1.151308  -0.337748   0.091393    0.002488 -0.000443  0.004258\r\n",
      "   C  -0.003582   0.477864   0.030195   -0.001917 -0.000980 -0.008959\r\n",
      "   N  -1.156649  -0.170146   0.062966   -0.001668 -0.001362  0.001324\r\n",
      "   O   0.196775   1.733860   0.006846   -0.003409 -0.000114  0.004193\r\n",
      "   H   0.997169  -1.279763  -0.248185    0.004626 -0.000097  0.000335\r\n",
      "   H   1.954767   0.098874  -0.344261   -0.000521 -0.000306 -0.002646\r\n",
      "   H  -1.892308   0.536800   0.084302    0.000020  0.000390  0.000651\r\n",
      "New geometry\r\n",
      "   1 N      1.151308013909  -0.337748046873   0.091392993710 AA    2.175656831306  -0.638251307696   0.172707727815 Bohr\r\n",
      "\r\n",
      "   2 C     -0.003581548328   0.477863706434   0.030195453327 AA   -0.006768145443   0.903031530030   0.057061136996 Bohr\r\n",
      "\r\n",
      "   3 N     -1.156648887320  -0.170146474889   0.062966173674 AA   -2.185749619317  -0.321530238600   0.118988823356 Bohr\r\n",
      "\r\n",
      "   4 O      0.196775215477   1.733859553433   0.006846349494 AA    0.371851265353   3.276519694449   0.012937725497 Bohr\r\n",
      "\r\n",
      "   5 H      0.997169267791  -1.279763442753  -0.248185008758 AA    1.884376815959  -2.418402411034  -0.469001694775 Bohr\r\n",
      "\r\n",
      "   6 H      1.954767127530   0.098873956933  -0.344260992179 AA    3.693974508335   0.186844699455  -0.650558990589 Bohr\r\n",
      "\r\n",
      "   7 H     -1.892308184147   0.536799508150   0.084302487753 AA   -3.575944211312   1.014404054206   0.159308613472 Bohr\r\n",
      "\r\n",
      "\r\n",
      "\r\n",
      "******** <class 'pyscf.scf.hf.PCMDFRKS_Scanner'> ********\r\n",
      "method = PCMDFRKS_Scanner\r\n",
      "initial guess = minao\r\n",
      "damping factor = 0\r\n",
      "level_shift factor = 0\r\n",
      "DIIS = <class 'gpu4pyscf.scf.diis.CDIIS'>\r\n",
      "diis_start_cycle = 1\r\n",
      "diis_space = 8\r\n",
      "diis_damp = 0\r\n",
      "SCF conv_tol = 1e-08\r\n",
      "SCF conv_tol_grad = 0.0003\r\n",
      "SCF max_cycles = 70\r\n",
      "direct_scf = False\r\n",
      "max_memory 4000 MB (current use 1386 MB)\r\n",
      "******** <class 'gpu4pyscf.solvent.pcm.PCM'> ********\r\n",
      "lebedev_order = 29 (302 grids per sphere)\r\n",
      "eps = 46.826\r\n",
      "frozen = False\r\n",
      "equilibrium_solvation = False\r\n",
      "tot grids = 223488\r\n"
     ]
    },
    {
     "name": "stdout",
     "output_type": "stream",
     "text": [
      "Default auxbasis aug-cc-pvdz-jkfit is used for O aug-cc-pVDZ\r\n",
      "Default auxbasis aug-cc-pvdz-jkfit is used for C aug-cc-pVDZ\r\n",
      "Default auxbasis aug-cc-pvdz-jkfit is used for H aug-cc-pVDZ\r\n",
      "Default auxbasis aug-cc-pvdz-jkfit is used for N aug-cc-pVDZ\r\n"
     ]
    },
    {
     "name": "stdout",
     "output_type": "stream",
     "text": [
      "<class 'gpu4pyscf.solvent.pcm.PCM'> E_diel = -0.114618502495761\r\n",
      "Solvent Energy = -0.114618502495761\r\n",
      "init E= -224.739060158832\r\n"
     ]
    },
    {
     "name": "stdout",
     "output_type": "stream",
     "text": [
      "<class 'gpu4pyscf.solvent.pcm.PCM'> E_diel = -0.1149302616673\r\n",
      "Solvent Energy = -0.1149302616673\r\n",
      "cycle= 1 E= -224.74242676733  delta_E= -0.00337  |ddm|= 0.0524\r\n"
     ]
    },
    {
     "name": "stdout",
     "output_type": "stream",
     "text": [
      "<class 'gpu4pyscf.solvent.pcm.PCM'> E_diel = -0.114857781858254\r\n",
      "Solvent Energy = -0.114857781858254\r\n",
      "cycle= 2 E= -224.742433610186  delta_E= -6.84e-06  |ddm|= 0.00937\r\n"
     ]
    },
    {
     "name": "stdout",
     "output_type": "stream",
     "text": [
      "<class 'gpu4pyscf.solvent.pcm.PCM'> E_diel = -0.114863764266384\r\n",
      "Solvent Energy = -0.114863764266384\r\n",
      "cycle= 3 E= -224.742435659907  delta_E= -2.05e-06  |ddm|= 0.00395\r\n"
     ]
    },
    {
     "name": "stdout",
     "output_type": "stream",
     "text": [
      "<class 'gpu4pyscf.solvent.pcm.PCM'> E_diel = -0.114870175728095\r\n",
      "Solvent Energy = -0.114870175728095\r\n",
      "cycle= 4 E= -224.742436158126  delta_E= -4.98e-07  |ddm|= 0.00143\r\n"
     ]
    },
    {
     "name": "stdout",
     "output_type": "stream",
     "text": [
      "<class 'gpu4pyscf.solvent.pcm.PCM'> E_diel = -0.114862432586363\r\n",
      "Solvent Energy = -0.114862432586363\r\n",
      "cycle= 5 E= -224.742436184509  delta_E= -2.64e-08  |ddm|= 0.000407\r\n"
     ]
    },
    {
     "name": "stdout",
     "output_type": "stream",
     "text": [
      "<class 'gpu4pyscf.solvent.pcm.PCM'> E_diel = -0.114863390679605\r\n",
      "Solvent Energy = -0.114863390679605\r\n",
      "cycle= 6 E= -224.742436188153  delta_E= -3.64e-09  |ddm|= 0.000147\r\n",
      "converged SCF energy = -224.742436188153\r\n",
      "\r\n",
      "\r\n",
      "******** <class 'gpu4pyscf.grad.rhf.PCMGradients_Scanner'> for <class 'pyscf.scf.hf.PCMDFRKS_Scanner'> ********\r\n",
      "unit = Eh/Bohr\r\n",
      "max_memory 4000 MB (current use 1386 MB)\r\n"
     ]
    },
    {
     "name": "stdout",
     "output_type": "stream",
     "text": [
      "--------------- PCMDFRKS_Scanner (+PCM) gradients ---------------\r\n",
      "         x                y                z\r\n",
      "0 N    -0.0009260343     0.0004412763     0.0010717835\r\n",
      "1 C     0.0003158996    -0.0016330896    -0.0022418411\r\n",
      "2 N     0.0006216148     0.0005368462     0.0004049853\r\n",
      "3 O     0.0002025670     0.0007720635     0.0006023319\r\n",
      "4 H    -0.0000264108     0.0002371548    -0.0002044852\r\n",
      "5 H    -0.0001952323    -0.0000792143     0.0000276176\r\n",
      "6 H     0.0000099485    -0.0002436432     0.0003508209\r\n",
      "----------------------------------------------\r\n",
      "cycle 7: E = -224.742436188  dE = -2.43659e-05  norm(grad) = 0.00348692\r\n"
     ]
    },
    {
     "name": "stdout",
     "output_type": "stream",
     "text": [
      "Step    6 : Displace = \u001b[0m4.808e-03\u001b[0m/\u001b[0m9.019e-03\u001b[0m (rms/max) Trust = 2.828e-01 (\u001b[92m+\u001b[0m) Grad = \u001b[0m1.318e-03\u001b[0m/\u001b[0m2.792e-03\u001b[0m (rms/max) E (change) = -224.7424361882 (\u001b[0m-2.437e-05\u001b[0m) Quality = \u001b[0m0.517\u001b[0m\r\n",
      "Hessian Eigenvalues: 1.50400e-02 2.29575e-02 2.84499e-02 ... 5.13856e-01 7.69753e-01 1.04284e+00\r\n",
      "\r\n",
      "Geometry optimization cycle 8\r\n",
      "Cartesian coordinates (Angstrom)\r\n",
      " Atom        New coordinates             dX        dY        dZ\r\n",
      "   N   1.151720  -0.337361   0.085468    0.000412  0.000387 -0.005925\r\n",
      "   C  -0.004506   0.477519   0.034683   -0.000925 -0.000345  0.004487\r\n",
      "   N  -1.158429  -0.170739   0.065087   -0.001780 -0.000593  0.002121\r\n",
      "   O   0.194618   1.733469   0.008824   -0.002157 -0.000391  0.001977\r\n",
      "   H   0.999807  -1.282803  -0.245356    0.002637 -0.003040  0.002829\r\n",
      "   H   1.956736   0.100331  -0.346162    0.001969  0.001457 -0.001901\r\n",
      "   H  -1.892540   0.538282   0.080219   -0.000232  0.001482 -0.004083\r\n",
      "New geometry\r\n",
      "   1 N      1.151719661547  -0.337360617170   0.085468251367 AA    2.176434732600  -0.637519171666   0.161511587429 Bohr\r\n",
      "\r\n",
      "   2 C     -0.004506406907   0.477518733493   0.034682893906 AA   -0.008515874861   0.902379625651   0.065541170689 Bohr\r\n",
      "\r\n",
      "   3 N     -1.158428533030  -0.170739340982   0.065087251245 AA   -2.189112662308  -0.322650593144   0.122997079055 Bohr\r\n",
      "\r\n",
      "   4 O      0.194618018828   1.733468721255   0.008823511220 AA    0.367774754491   3.275781128672   0.016674019663 Bohr\r\n",
      "\r\n",
      "   5 H      0.999806574704  -1.282803040101  -0.245355964669 AA    1.889360603729  -2.424146417551  -0.463655576252 Bohr\r\n",
      "\r\n",
      "   6 H      1.956736297109   0.100331385497  -0.346161970991 AA    3.697695699531   0.189598840287  -0.654151319913 Bohr\r\n",
      "\r\n",
      "   7 H     -1.892539800371   0.538281583879   0.080219459023 AA   -3.576381902540   1.017204771428   0.151592807414 Bohr\r\n",
      "\r\n",
      "\r\n",
      "\r\n",
      "******** <class 'pyscf.scf.hf.PCMDFRKS_Scanner'> ********\r\n",
      "method = PCMDFRKS_Scanner\r\n",
      "initial guess = minao\r\n",
      "damping factor = 0\r\n",
      "level_shift factor = 0\r\n",
      "DIIS = <class 'gpu4pyscf.scf.diis.CDIIS'>\r\n",
      "diis_start_cycle = 1\r\n",
      "diis_space = 8\r\n",
      "diis_damp = 0\r\n",
      "SCF conv_tol = 1e-08\r\n",
      "SCF conv_tol_grad = 0.0003\r\n",
      "SCF max_cycles = 70\r\n",
      "direct_scf = False\r\n",
      "max_memory 4000 MB (current use 1386 MB)\r\n",
      "******** <class 'gpu4pyscf.solvent.pcm.PCM'> ********\r\n",
      "lebedev_order = 29 (302 grids per sphere)\r\n",
      "eps = 46.826\r\n",
      "frozen = False\r\n",
      "equilibrium_solvation = False\r\n",
      "tot grids = 223488\r\n"
     ]
    },
    {
     "name": "stdout",
     "output_type": "stream",
     "text": [
      "Default auxbasis aug-cc-pvdz-jkfit is used for O aug-cc-pVDZ\r\n",
      "Default auxbasis aug-cc-pvdz-jkfit is used for C aug-cc-pVDZ\r\n",
      "Default auxbasis aug-cc-pvdz-jkfit is used for H aug-cc-pVDZ\r\n",
      "Default auxbasis aug-cc-pvdz-jkfit is used for N aug-cc-pVDZ\r\n"
     ]
    },
    {
     "name": "stdout",
     "output_type": "stream",
     "text": [
      "<class 'gpu4pyscf.solvent.pcm.PCM'> E_diel = -0.114885144236388\r\n",
      "Solvent Energy = -0.114885144236388\r\n",
      "init E= -224.742760735595\r\n"
     ]
    },
    {
     "name": "stdout",
     "output_type": "stream",
     "text": [
      "<class 'gpu4pyscf.solvent.pcm.PCM'> E_diel = -0.114897244290334\r\n",
      "Solvent Energy = -0.114897244290334\r\n",
      "cycle= 1 E= -224.742452408631  delta_E= 0.000308  |ddm|= 0.0339\r\n"
     ]
    },
    {
     "name": "stdout",
     "output_type": "stream",
     "text": [
      "<class 'gpu4pyscf.solvent.pcm.PCM'> E_diel = -0.114889418617035\r\n",
      "Solvent Energy = -0.114889418617035\r\n",
      "cycle= 2 E= -224.742454335695  delta_E= -1.93e-06  |ddm|= 0.00475\r\n"
     ]
    },
    {
     "name": "stdout",
     "output_type": "stream",
     "text": [
      "<class 'gpu4pyscf.solvent.pcm.PCM'> E_diel = -0.1148978823642\r\n",
      "Solvent Energy = -0.1148978823642\r\n",
      "cycle= 3 E= -224.742454593964  delta_E= -2.58e-07  |ddm|= 0.00175\r\n"
     ]
    },
    {
     "name": "stdout",
     "output_type": "stream",
     "text": [
      "<class 'gpu4pyscf.solvent.pcm.PCM'> E_diel = -0.114895282909739\r\n",
      "Solvent Energy = -0.114895282909739\r\n",
      "cycle= 4 E= -224.742454764982  delta_E= -1.71e-07  |ddm|= 0.000792\r\n"
     ]
    },
    {
     "name": "stdout",
     "output_type": "stream",
     "text": [
      "<class 'gpu4pyscf.solvent.pcm.PCM'> E_diel = -0.114894749393227\r\n",
      "Solvent Energy = -0.114894749393227\r\n",
      "cycle= 5 E= -224.742454773128  delta_E= -8.15e-09  |ddm|= 0.000242\r\n",
      "converged SCF energy = -224.742454773128\r\n",
      "\r\n",
      "\r\n",
      "******** <class 'gpu4pyscf.grad.rhf.PCMGradients_Scanner'> for <class 'pyscf.scf.hf.PCMDFRKS_Scanner'> ********\r\n",
      "unit = Eh/Bohr\r\n",
      "max_memory 4000 MB (current use 1386 MB)\r\n"
     ]
    },
    {
     "name": "stdout",
     "output_type": "stream",
     "text": [
      "--------------- PCMDFRKS_Scanner (+PCM) gradients ---------------\r\n",
      "         x                y                z\r\n",
      "0 N    -0.0003553306     0.0001890015    -0.0000798877\r\n",
      "1 C     0.0001859685    -0.0008124702    -0.0001211224\r\n",
      "2 N    -0.0000763937     0.0001407107     0.0000876774\r\n",
      "3 O     0.0000520888     0.0006540077     0.0000484973\r\n",
      "4 H     0.0000403209    -0.0001310754     0.0000023633\r\n",
      "5 H     0.0001583617     0.0000174195     0.0000648648\r\n",
      "6 H    -0.0000027827    -0.0000263241     0.0000074566\r\n",
      "----------------------------------------------\r\n",
      "cycle 8: E = -224.742454773  dE = -1.8585e-05  norm(grad) = 0.00118025\r\n",
      "Step    7 : Displace = \u001b[0m4.205e-03\u001b[0m/\u001b[0m5.777e-03\u001b[0m (rms/max) Trust = 2.828e-01 (=) Grad = \u001b[0m4.461e-04\u001b[0m/\u001b[0m8.422e-04\u001b[0m (rms/max) E (change) = -224.7424547731 (\u001b[0m-1.858e-05\u001b[0m) Quality = \u001b[0m0.970\u001b[0m\r\n",
      "Hessian Eigenvalues: 1.88224e-02 2.26929e-02 2.80656e-02 ... 5.07042e-01 7.78872e-01 1.02692e+00\r\n",
      "\r\n",
      "Geometry optimization cycle 9\r\n",
      "Cartesian coordinates (Angstrom)\r\n",
      " Atom        New coordinates             dX        dY        dZ\r\n",
      "   N   1.152982  -0.337111   0.087893    0.001263  0.000250  0.002425\r\n",
      "   C  -0.004392   0.477188   0.036154    0.000114 -0.000330  0.001471\r\n",
      "   N  -1.157394  -0.172510   0.065114    0.001034 -0.001770  0.000027\r\n",
      "   O   0.193863   1.732757   0.008863   -0.000755 -0.000712  0.000039\r\n",
      "   H   0.999689  -1.281328  -0.245803   -0.000118  0.001475 -0.000447\r\n",
      "   H   1.954821   0.101136  -0.349101   -0.001915  0.000805 -0.002939\r\n",
      "   H  -1.892377   0.535702   0.078750    0.000163 -0.002580 -0.001469\r\n",
      "New geometry\r\n",
      "   1 N      1.152982341407  -0.337110953082   0.087893251590 AA    2.178820851719  -0.637047374916   0.166094173702 Bohr\r\n",
      "\r\n",
      "   2 C     -0.004392006827   0.477188416180   0.036153751639 AA   -0.008299690040   0.901755416396   0.068320688972 Bohr\r\n",
      "\r\n",
      "   3 N     -1.157394210983  -0.172509666478   0.065114119886 AA   -2.187158076916  -0.325996023484   0.123047853427 Bohr\r\n",
      "\r\n",
      "   4 O      0.193863315132   1.732757137043   0.008862789022 AA    0.366348571200   3.274436429396   0.016748243952 Bohr\r\n",
      "\r\n",
      "   5 H      0.999688539497  -1.281327879104  -0.245803388804 AA    1.889137549516  -2.421358767276  -0.464501085330 Bohr\r\n",
      "\r\n",
      "   6 H      1.954821282320   0.101136266820  -0.349100897878 AA    3.694076846056   0.191119845552  -0.659705086829 Bohr\r\n",
      "\r\n",
      "   7 H     -1.892376531759   0.535701950549   0.078750049444 AA   -3.576073369578   1.012329970933   0.148816025745 Bohr\r\n",
      "\r\n",
      "\r\n",
      "\r\n",
      "******** <class 'pyscf.scf.hf.PCMDFRKS_Scanner'> ********\r\n",
      "method = PCMDFRKS_Scanner\r\n",
      "initial guess = minao\r\n",
      "damping factor = 0\r\n",
      "level_shift factor = 0\r\n",
      "DIIS = <class 'gpu4pyscf.scf.diis.CDIIS'>\r\n",
      "diis_start_cycle = 1\r\n",
      "diis_space = 8\r\n",
      "diis_damp = 0\r\n",
      "SCF conv_tol = 1e-08\r\n",
      "SCF conv_tol_grad = 0.0003\r\n",
      "SCF max_cycles = 70\r\n",
      "direct_scf = False\r\n",
      "max_memory 4000 MB (current use 1387 MB)\r\n",
      "******** <class 'gpu4pyscf.solvent.pcm.PCM'> ********\r\n",
      "lebedev_order = 29 (302 grids per sphere)\r\n",
      "eps = 46.826\r\n",
      "frozen = False\r\n",
      "equilibrium_solvation = False\r\n",
      "tot grids = 223488\r\n"
     ]
    },
    {
     "name": "stdout",
     "output_type": "stream",
     "text": [
      "Default auxbasis aug-cc-pvdz-jkfit is used for O aug-cc-pVDZ\r\n",
      "Default auxbasis aug-cc-pvdz-jkfit is used for C aug-cc-pVDZ\r\n",
      "Default auxbasis aug-cc-pvdz-jkfit is used for H aug-cc-pVDZ\r\n",
      "Default auxbasis aug-cc-pvdz-jkfit is used for N aug-cc-pVDZ\r\n"
     ]
    },
    {
     "name": "stdout",
     "output_type": "stream",
     "text": [
      "<class 'gpu4pyscf.solvent.pcm.PCM'> E_diel = -0.114877273603125\r\n",
      "Solvent Energy = -0.114877273603125\r\n",
      "init E= -224.742321814976\r\n"
     ]
    },
    {
     "name": "stdout",
     "output_type": "stream",
     "text": [
      "<class 'gpu4pyscf.solvent.pcm.PCM'> E_diel = -0.114834212956034\r\n",
      "Solvent Energy = -0.114834212956034\r\n",
      "cycle= 1 E= -224.742456141953  delta_E= -0.000134  |ddm|= 0.0131\r\n"
     ]
    },
    {
     "name": "stdout",
     "output_type": "stream",
     "text": [
      "<class 'gpu4pyscf.solvent.pcm.PCM'> E_diel = -0.114826708124481\r\n",
      "Solvent Energy = -0.114826708124481\r\n",
      "cycle= 2 E= -224.742456607313  delta_E= -4.65e-07  |ddm|= 0.0023\r\n"
     ]
    },
    {
     "name": "stdout",
     "output_type": "stream",
     "text": [
      "<class 'gpu4pyscf.solvent.pcm.PCM'> E_diel = -0.114822908651544\r\n",
      "Solvent Energy = -0.114822908651544\r\n",
      "cycle= 3 E= -224.742456671356  delta_E= -6.4e-08  |ddm|= 0.00091\r\n"
     ]
    },
    {
     "name": "stdout",
     "output_type": "stream",
     "text": [
      "<class 'gpu4pyscf.solvent.pcm.PCM'> E_diel = -0.114823513681637\r\n",
      "Solvent Energy = -0.114823513681637\r\n",
      "cycle= 4 E= -224.742456739649  delta_E= -6.83e-08  |ddm|= 0.000448\r\n"
     ]
    },
    {
     "name": "stdout",
     "output_type": "stream",
     "text": [
      "<class 'gpu4pyscf.solvent.pcm.PCM'> E_diel = -0.114822974823269\r\n",
      "Solvent Energy = -0.114822974823269\r\n",
      "cycle= 5 E= -224.742456741671  delta_E= -2.02e-09  |ddm|= 0.000135\r\n",
      "converged SCF energy = -224.742456741671\r\n",
      "\r\n",
      "\r\n",
      "******** <class 'gpu4pyscf.grad.rhf.PCMGradients_Scanner'> for <class 'pyscf.scf.hf.PCMDFRKS_Scanner'> ********\r\n",
      "unit = Eh/Bohr\r\n",
      "max_memory 4000 MB (current use 1387 MB)\r\n"
     ]
    },
    {
     "name": "stdout",
     "output_type": "stream",
     "text": [
      "--------------- PCMDFRKS_Scanner (+PCM) gradients ---------------\r\n",
      "         x                y                z\r\n",
      "0 N    -0.0002109162     0.0000976297     0.0000037525\r\n",
      "1 C     0.0000592373    -0.0003421590     0.0001392275\r\n",
      "2 N     0.0000697818     0.0000779982    -0.0000238631\r\n",
      "3 O     0.0000499220     0.0002071507    -0.0000576840\r\n",
      "4 H     0.0000091167    -0.0000033175    -0.0000483000\r\n",
      "5 H     0.0000131112    -0.0000115230     0.0000092119\r\n",
      "6 H     0.0000103915     0.0000045469    -0.0000128969\r\n",
      "----------------------------------------------\r\n",
      "cycle 9: E = -224.742456742  dE = -1.96854e-06  norm(grad) = 0.000507309\r\n",
      "Step    8 : Displace = \u001b[0m2.004e-03\u001b[0m/\u001b[0m3.145e-03\u001b[0m (rms/max) Trust = 3.000e-01 (\u001b[92m+\u001b[0m) Grad = \u001b[92m1.917e-04\u001b[0m/\u001b[92m3.741e-04\u001b[0m (rms/max) E (change) = -224.7424567417 (\u001b[0m-1.969e-06\u001b[0m) Quality = \u001b[0m1.080\u001b[0m\r\n",
      "Hessian Eigenvalues: 1.68669e-02 2.32959e-02 2.78519e-02 ... 4.95470e-01 7.47632e-01 1.01915e+00\r\n",
      "\r\n",
      "Geometry optimization cycle 10\r\n",
      "Cartesian coordinates (Angstrom)\r\n",
      " Atom        New coordinates             dX        dY        dZ\r\n",
      "   N   1.153790  -0.336621   0.087906    0.000808  0.000490  0.000013\r\n",
      "   C  -0.004679   0.476796   0.036004   -0.000287 -0.000392 -0.000149\r\n",
      "   N  -1.157062  -0.174201   0.064839    0.000332 -0.001691 -0.000275\r\n",
      "   O   0.192315   1.732336   0.009272   -0.001548 -0.000421  0.000409\r\n",
      "   H   1.000816  -1.281051  -0.245342    0.001127  0.000277  0.000462\r\n",
      "   H   1.954619   0.102067  -0.350515   -0.000202  0.000930 -0.001414\r\n",
      "   H  -1.892707   0.533369   0.078723   -0.000330 -0.002333 -0.000027\r\n",
      "New geometry\r\n",
      "   1 N      1.153789957098  -0.336620833438   0.087906343805 AA    2.180347024189  -0.636121183021   0.166118914403 Bohr\r\n",
      "\r\n",
      "   2 C     -0.004679498650   0.476796263174   0.036004475034 AA   -0.008842970849   0.901014354615   0.068038597073 Bohr\r\n",
      "\r\n",
      "   3 N     -1.157061798861  -0.174200904768   0.064838951332 AA   -2.186529909043  -0.329192000663   0.122527860222 Bohr\r\n",
      "\r\n",
      "   4 O      0.192314911762   1.732336386174   0.009271759328 AA    0.363422512900   3.273641325488   0.017521085823 Bohr\r\n",
      "\r\n",
      "   5 H      1.000815573630  -1.281051064135  -0.245341695635 AA    1.891267335359  -2.420835662797  -0.463628611687 Bohr\r\n",
      "\r\n",
      "   6 H      1.954619023269   0.102066592359  -0.350514812853 AA    3.693694631843   0.192877906027  -0.662376998895 Bohr\r\n",
      "\r\n",
      "   7 H     -1.892706804007   0.533368972638   0.078722965454 AA   -3.576697493674   1.007921281626   0.148764844421 Bohr\r\n",
      "\r\n",
      "\r\n",
      "\r\n",
      "******** <class 'pyscf.scf.hf.PCMDFRKS_Scanner'> ********\r\n",
      "method = PCMDFRKS_Scanner\r\n",
      "initial guess = minao\r\n",
      "damping factor = 0\r\n",
      "level_shift factor = 0\r\n",
      "DIIS = <class 'gpu4pyscf.scf.diis.CDIIS'>\r\n",
      "diis_start_cycle = 1\r\n",
      "diis_space = 8\r\n",
      "diis_damp = 0\r\n",
      "SCF conv_tol = 1e-08\r\n",
      "SCF conv_tol_grad = 0.0003\r\n",
      "SCF max_cycles = 70\r\n",
      "direct_scf = False\r\n",
      "max_memory 4000 MB (current use 1387 MB)\r\n",
      "******** <class 'gpu4pyscf.solvent.pcm.PCM'> ********\r\n",
      "lebedev_order = 29 (302 grids per sphere)\r\n",
      "eps = 46.826\r\n",
      "frozen = False\r\n",
      "equilibrium_solvation = False\r\n"
     ]
    },
    {
     "name": "stdout",
     "output_type": "stream",
     "text": [
      "tot grids = 223488\r\n"
     ]
    },
    {
     "name": "stdout",
     "output_type": "stream",
     "text": [
      "Default auxbasis aug-cc-pvdz-jkfit is used for O aug-cc-pVDZ\r\n",
      "Default auxbasis aug-cc-pvdz-jkfit is used for C aug-cc-pVDZ\r\n",
      "Default auxbasis aug-cc-pvdz-jkfit is used for H aug-cc-pVDZ\r\n",
      "Default auxbasis aug-cc-pvdz-jkfit is used for N aug-cc-pVDZ\r\n"
     ]
    },
    {
     "name": "stdout",
     "output_type": "stream",
     "text": [
      "<class 'gpu4pyscf.solvent.pcm.PCM'> E_diel = -0.114777993699284\r\n",
      "Solvent Energy = -0.114777993699284\r\n",
      "init E= -224.742189890001\r\n"
     ]
    },
    {
     "name": "stdout",
     "output_type": "stream",
     "text": [
      "<class 'gpu4pyscf.solvent.pcm.PCM'> E_diel = -0.114814410548\r\n",
      "Solvent Energy = -0.114814410548\r\n",
      "cycle= 1 E= -224.742457073018  delta_E= -0.000267  |ddm|= 0.00397\r\n"
     ]
    },
    {
     "name": "stdout",
     "output_type": "stream",
     "text": [
      "<class 'gpu4pyscf.solvent.pcm.PCM'> E_diel = -0.114804016304966\r\n",
      "Solvent Energy = -0.114804016304966\r\n",
      "cycle= 2 E= -224.742457116592  delta_E= -4.36e-08  |ddm|= 0.00126\r\n"
     ]
    },
    {
     "name": "stdout",
     "output_type": "stream",
     "text": [
      "<class 'gpu4pyscf.solvent.pcm.PCM'> E_diel = -0.114805844175941\r\n",
      "Solvent Energy = -0.114805844175941\r\n",
      "cycle= 3 E= -224.742457207607  delta_E= -9.1e-08  |ddm|= 0.000626\r\n"
     ]
    },
    {
     "name": "stdout",
     "output_type": "stream",
     "text": [
      "<class 'gpu4pyscf.solvent.pcm.PCM'> E_diel = -0.114806359040969\r\n",
      "Solvent Energy = -0.114806359040969\r\n",
      "cycle= 4 E= -224.742457218071  delta_E= -1.05e-08  |ddm|= 0.000193\r\n"
     ]
    },
    {
     "name": "stdout",
     "output_type": "stream",
     "text": [
      "<class 'gpu4pyscf.solvent.pcm.PCM'> E_diel = -0.114805392126823\r\n",
      "Solvent Energy = -0.114805392126823\r\n",
      "cycle= 5 E= -224.742457218518  delta_E= -4.46e-10  |ddm|= 5.87e-05\r\n",
      "converged SCF energy = -224.742457218518\r\n",
      "\r\n",
      "\r\n",
      "******** <class 'gpu4pyscf.grad.rhf.PCMGradients_Scanner'> for <class 'pyscf.scf.hf.PCMDFRKS_Scanner'> ********\r\n",
      "unit = Eh/Bohr\r\n",
      "max_memory 4000 MB (current use 1387 MB)\r\n"
     ]
    },
    {
     "name": "stdout",
     "output_type": "stream",
     "text": [
      "--------------- PCMDFRKS_Scanner (+PCM) gradients ---------------\r\n",
      "         x                y                z\r\n",
      "0 N    -0.0000198274    -0.0000195880     0.0000210214\r\n",
      "1 C     0.0000174009    -0.0000227331     0.0000367592\r\n",
      "2 N    -0.0000055998     0.0000112877     0.0000002462\r\n",
      "3 O     0.0000146162     0.0000364296    -0.0000113641\r\n",
      "4 H    -0.0000031042     0.0000064790    -0.0000286746\r\n",
      "5 H    -0.0000084577    -0.0000085067     0.0000059580\r\n",
      "6 H     0.0000044847     0.0000263975    -0.0000148015\r\n",
      "----------------------------------------------\r\n",
      "cycle 10: E = -224.742457219  dE = -4.76847e-07  norm(grad) = 8.48971e-05\r\n"
     ]
    },
    {
     "name": "stdout",
     "output_type": "stream",
     "text": [
      "Step    9 : Displace = \u001b[92m5.804e-04\u001b[0m/\u001b[92m9.962e-04\u001b[0m (rms/max) Trust = 3.000e-01 (=) Grad = \u001b[92m3.209e-05\u001b[0m/\u001b[92m4.659e-05\u001b[0m (rms/max) E (change) = -224.7424572185 (\u001b[92m-4.768e-07\u001b[0m) Quality = \u001b[0m1.366\u001b[0m\r\n",
      "Hessian Eigenvalues: 1.68669e-02 2.32959e-02 2.78519e-02 ... 4.95470e-01 7.47632e-01 1.01915e+00\r\n",
      "Converged! =D\r\n",
      "\r\n",
      "    #==========================================================================#\r\n",
      "    #| If this code has benefited your research, please support us by citing: |#\r\n",
      "    #|                                                                        |#\r\n",
      "    #| Wang, L.-P.; Song, C.C. (2016) \"Geometry optimization made simple with |#\r\n",
      "    #| translation and rotation coordinates\", J. Chem, Phys. 144, 214108.     |#\r\n",
      "    #| http://dx.doi.org/10.1063/1.4952956                                    |#\r\n",
      "    #==========================================================================#\r\n",
      "    Time elapsed since start of run_optimizer: 12.844 seconds\r\n",
      "\r\n",
      "\r\n",
      "******** <class 'gpu4pyscf.solvent._attach_solvent.PCMDFRKS'> ********\r\n",
      "method = PCMDFRKS\r\n",
      "initial guess = minao\r\n",
      "damping factor = 0\r\n",
      "level_shift factor = 0\r\n",
      "DIIS = <class 'gpu4pyscf.scf.diis.CDIIS'>\r\n",
      "diis_start_cycle = 1\r\n",
      "diis_space = 8\r\n",
      "diis_damp = 0\r\n",
      "SCF conv_tol = 1e-08\r\n",
      "SCF conv_tol_grad = 0.0003\r\n",
      "SCF max_cycles = 70\r\n",
      "direct_scf = False\r\n",
      "max_memory 4000 MB (current use 1387 MB)\r\n",
      "******** <class 'gpu4pyscf.solvent.pcm.PCM'> ********\r\n",
      "lebedev_order = 29 (302 grids per sphere)\r\n",
      "eps = 46.826\r\n",
      "frozen = False\r\n",
      "equilibrium_solvation = False\r\n",
      "Initial guess from minao.\r\n"
     ]
    },
    {
     "name": "stdout",
     "output_type": "stream",
     "text": [
      "tot grids = 223488\r\n"
     ]
    },
    {
     "name": "stdout",
     "output_type": "stream",
     "text": [
      "Default auxbasis aug-cc-pvdz-jkfit is used for O aug-cc-pVDZ\r\n",
      "Default auxbasis aug-cc-pvdz-jkfit is used for C aug-cc-pVDZ\r\n",
      "Default auxbasis aug-cc-pvdz-jkfit is used for H aug-cc-pVDZ\r\n",
      "Default auxbasis aug-cc-pvdz-jkfit is used for N aug-cc-pVDZ\r\n"
     ]
    },
    {
     "name": "stdout",
     "output_type": "stream",
     "text": [
      "<class 'gpu4pyscf.solvent.pcm.PCM'> E_diel = -0.000206599906848545\r\n",
      "Solvent Energy = -0.000206599906848545\r\n",
      "init E= -225.05495382412\r\n"
     ]
    },
    {
     "name": "stdout",
     "output_type": "stream",
     "text": [
      "<class 'gpu4pyscf.solvent.pcm.PCM'> E_diel = -0.127194075323825\r\n",
      "Solvent Energy = -0.127194075323825\r\n",
      "cycle= 1 E= -224.59433649444  delta_E= 0.461  |ddm|= 2.81\r\n"
     ]
    },
    {
     "name": "stdout",
     "output_type": "stream",
     "text": [
      "<class 'gpu4pyscf.solvent.pcm.PCM'> E_diel = -0.103819327893593\r\n",
      "Solvent Energy = -0.103819327893593\r\n",
      "cycle= 2 E= -224.507418465739  delta_E= 0.0869  |ddm|= 1.61\r\n"
     ]
    },
    {
     "name": "stdout",
     "output_type": "stream",
     "text": [
      "<class 'gpu4pyscf.solvent.pcm.PCM'> E_diel = -0.114093702348319\r\n",
      "Solvent Energy = -0.114093702348319\r\n",
      "cycle= 3 E= -224.740106667095  delta_E= -0.233  |ddm|= 0.804\r\n"
     ]
    },
    {
     "name": "stdout",
     "output_type": "stream",
     "text": [
      "<class 'gpu4pyscf.solvent.pcm.PCM'> E_diel = -0.114733226254854\r\n",
      "Solvent Energy = -0.114733226254854\r\n",
      "cycle= 4 E= -224.741826448024  delta_E= -0.00172  |ddm|= 0.105\r\n"
     ]
    },
    {
     "name": "stdout",
     "output_type": "stream",
     "text": [
      "<class 'gpu4pyscf.solvent.pcm.PCM'> E_diel = -0.114814682302544\r\n",
      "Solvent Energy = -0.114814682302544\r\n",
      "cycle= 5 E= -224.742429532646  delta_E= -0.000603  |ddm|= 0.0538\r\n"
     ]
    },
    {
     "name": "stdout",
     "output_type": "stream",
     "text": [
      "<class 'gpu4pyscf.solvent.pcm.PCM'> E_diel = -0.114801185044868\r\n",
      "Solvent Energy = -0.114801185044868\r\n",
      "cycle= 6 E= -224.742452026157  delta_E= -2.25e-05  |ddm|= 0.0137\r\n"
     ]
    },
    {
     "name": "stdout",
     "output_type": "stream",
     "text": [
      "<class 'gpu4pyscf.solvent.pcm.PCM'> E_diel = -0.114800726456007\r\n",
      "Solvent Energy = -0.114800726456007\r\n",
      "cycle= 7 E= -224.742456866533  delta_E= -4.84e-06  |ddm|= 0.00615\r\n"
     ]
    },
    {
     "name": "stdout",
     "output_type": "stream",
     "text": [
      "<class 'gpu4pyscf.solvent.pcm.PCM'> E_diel = -0.114808516562946\r\n",
      "Solvent Energy = -0.114808516562946\r\n",
      "cycle= 8 E= -224.742457185314  delta_E= -3.19e-07  |ddm|= 0.00245\r\n"
     ]
    },
    {
     "name": "stdout",
     "output_type": "stream",
     "text": [
      "<class 'gpu4pyscf.solvent.pcm.PCM'> E_diel = -0.114804518686984\r\n",
      "Solvent Energy = -0.114804518686984\r\n",
      "cycle= 9 E= -224.742457214696  delta_E= -2.94e-08  |ddm|= 0.000648\r\n"
     ]
    },
    {
     "name": "stdout",
     "output_type": "stream",
     "text": [
      "<class 'gpu4pyscf.solvent.pcm.PCM'> E_diel = -0.114805607874276\r\n",
      "Solvent Energy = -0.114805607874276\r\n",
      "cycle= 10 E= -224.742457218445  delta_E= -3.75e-09  |ddm|= 0.000224\r\n",
      "converged SCF energy = -224.742457218445\r\n",
      "**** MO energy ****\r\n",
      "MO #1   energy= -19.5652756375624  occ= 2\r\n",
      "MO #2   energy= -14.7360365828366  occ= 2\r\n",
      "MO #3   energy= -14.6828099730309  occ= 2\r\n",
      "MO #4   energy= -10.623187223311   occ= 2\r\n",
      "MO #5   energy= -1.10767744780938  occ= 2\r\n",
      "MO #6   energy= -0.966495926142234 occ= 2\r\n",
      "MO #7   energy= -0.902144279223068 occ= 2\r\n",
      "MO #8   energy= -0.620634652225017 occ= 2\r\n",
      "MO #9   energy= -0.560157821348219 occ= 2\r\n",
      "MO #10  energy= -0.489929051051297 occ= 2\r\n",
      "MO #11  energy= -0.46786042026206  occ= 2\r\n",
      "MO #12  energy= -0.453290173871239 occ= 2\r\n",
      "MO #13  energy= -0.347997036471113 occ= 2\r\n",
      "MO #14  energy= -0.3125156675505   occ= 2\r\n",
      "MO #15  energy= -0.286217870800454 occ= 2\r\n",
      "MO #16  energy= -0.261818102890309 occ= 2\r\n",
      "MO #17  energy= 0.00625494854653832 occ= 0\r\n",
      "MO #18  energy= 0.02303350244114   occ= 0\r\n",
      "MO #19  energy= 0.0348663844769268 occ= 0\r\n",
      "MO #20  energy= 0.0543693359668829 occ= 0\r\n",
      "MO #21  energy= 0.0691812792953364 occ= 0\r\n",
      "MO #22  energy= 0.082961031253967  occ= 0\r\n",
      "MO #23  energy= 0.109607775316664  occ= 0\r\n",
      "MO #24  energy= 0.120205402869367  occ= 0\r\n",
      "MO #25  energy= 0.123994948703474  occ= 0\r\n",
      "MO #26  energy= 0.132037768572952  occ= 0\r\n",
      "MO #27  energy= 0.147739763795651  occ= 0\r\n",
      "MO #28  energy= 0.154916768015268  occ= 0\r\n",
      "MO #29  energy= 0.162351803166898  occ= 0\r\n",
      "MO #30  energy= 0.175922022060561  occ= 0\r\n",
      "MO #31  energy= 0.195768008960753  occ= 0\r\n",
      "MO #32  energy= 0.211695790172124  occ= 0\r\n",
      "MO #33  energy= 0.223374743363054  occ= 0\r\n",
      "MO #34  energy= 0.249586489093095  occ= 0\r\n",
      "MO #35  energy= 0.255386473856897  occ= 0\r\n",
      "MO #36  energy= 0.280953204465089  occ= 0\r\n",
      "MO #37  energy= 0.295911286567996  occ= 0\r\n",
      "MO #38  energy= 0.303237509021927  occ= 0\r\n",
      "MO #39  energy= 0.336063247367688  occ= 0\r\n",
      "MO #40  energy= 0.339719605644232  occ= 0\r\n",
      "MO #41  energy= 0.355278481982703  occ= 0\r\n",
      "MO #42  energy= 0.404510697866193  occ= 0\r\n",
      "MO #43  energy= 0.415019354112426  occ= 0\r\n",
      "MO #44  energy= 0.434150097811414  occ= 0\r\n",
      "MO #45  energy= 0.461583642179053  occ= 0\r\n",
      "MO #46  energy= 0.477083084495212  occ= 0\r\n",
      "MO #47  energy= 0.50908615942452   occ= 0\r\n",
      "MO #48  energy= 0.518294700758974  occ= 0\r\n",
      "MO #49  energy= 0.53529670470968   occ= 0\r\n",
      "MO #50  energy= 0.548151911275958  occ= 0\r\n",
      "MO #51  energy= 0.554048028269431  occ= 0\r\n",
      "MO #52  energy= 0.564552646638843  occ= 0\r\n",
      "MO #53  energy= 0.579719618655509  occ= 0\r\n",
      "MO #54  energy= 0.610080176149393  occ= 0\r\n",
      "MO #55  energy= 0.652483045131498  occ= 0\r\n",
      "MO #56  energy= 0.695490658539639  occ= 0\r\n",
      "MO #57  energy= 0.720607804672906  occ= 0\r\n",
      "MO #58  energy= 0.729338424440174  occ= 0\r\n",
      "MO #59  energy= 0.742616675675131  occ= 0\r\n",
      "MO #60  energy= 0.748630638065224  occ= 0\r\n",
      "MO #61  energy= 0.794391936443713  occ= 0\r\n",
      "MO #62  energy= 0.801883329980619  occ= 0\r\n",
      "MO #63  energy= 0.84384506597002   occ= 0\r\n",
      "MO #64  energy= 0.877425126166095  occ= 0\r\n",
      "MO #65  energy= 0.890057606126278  occ= 0\r\n",
      "MO #66  energy= 0.900486027552065  occ= 0\r\n",
      "MO #67  energy= 0.92879764462428   occ= 0\r\n",
      "MO #68  energy= 0.965724824603487  occ= 0\r\n",
      "MO #69  energy= 1.01508799965208   occ= 0\r\n",
      "MO #70  energy= 1.04523401503694   occ= 0\r\n",
      "MO #71  energy= 1.06288977267786   occ= 0\r\n",
      "MO #72  energy= 1.11068004578284   occ= 0\r\n",
      "MO #73  energy= 1.16905724864741   occ= 0\r\n",
      "MO #74  energy= 1.17429454972208   occ= 0\r\n",
      "MO #75  energy= 1.26820860436753   occ= 0\r\n",
      "MO #76  energy= 1.31312201776996   occ= 0\r\n",
      "MO #77  energy= 1.31725925721944   occ= 0\r\n",
      "MO #78  energy= 1.33791342243682   occ= 0\r\n",
      "MO #79  energy= 1.37339964837229   occ= 0\r\n",
      "MO #80  energy= 1.47384868043682   occ= 0\r\n",
      "MO #81  energy= 1.53021381577365   occ= 0\r\n",
      "MO #82  energy= 1.53957845037917   occ= 0\r\n",
      "MO #83  energy= 1.61058622227913   occ= 0\r\n",
      "MO #84  energy= 1.69895939140431   occ= 0\r\n",
      "MO #85  energy= 1.70191630094922   occ= 0\r\n",
      "MO #86  energy= 1.7381858226533    occ= 0\r\n",
      "MO #87  energy= 1.77908348735791   occ= 0\r\n",
      "MO #88  energy= 1.81623513431456   occ= 0\r\n",
      "MO #89  energy= 1.89022067131572   occ= 0\r\n",
      "MO #90  energy= 1.89485254271504   occ= 0\r\n",
      "MO #91  energy= 1.92476619370984   occ= 0\r\n",
      "MO #92  energy= 2.00260858877348   occ= 0\r\n",
      "MO #93  energy= 2.05880906856419   occ= 0\r\n",
      "MO #94  energy= 2.11073787488681   occ= 0\r\n",
      "MO #95  energy= 2.14092233991574   occ= 0\r\n",
      "MO #96  energy= 2.18150678729964   occ= 0\r\n",
      "MO #97  energy= 2.19912460764111   occ= 0\r\n",
      "MO #98  energy= 2.23143897410558   occ= 0\r\n",
      "MO #99  energy= 2.27915661567326   occ= 0\r\n",
      "MO #100 energy= 2.28702585470536   occ= 0\r\n",
      "MO #101 energy= 2.32122498012248   occ= 0\r\n",
      "MO #102 energy= 2.40626023016408   occ= 0\r\n",
      "MO #103 energy= 2.46576919699251   occ= 0\r\n",
      "MO #104 energy= 2.49954328086581   occ= 0\r\n",
      "MO #105 energy= 2.60074888143969   occ= 0\r\n",
      "MO #106 energy= 2.63426289962695   occ= 0\r\n",
      "MO #107 energy= 2.67349829362044   occ= 0\r\n",
      "MO #108 energy= 2.7662644292604    occ= 0\r\n",
      "MO #109 energy= 2.81773445436399   occ= 0\r\n",
      "MO #110 energy= 2.94007256856526   occ= 0\r\n",
      "MO #111 energy= 3.07708259018422   occ= 0\r\n",
      "MO #112 energy= 3.16039137416181   occ= 0\r\n",
      "MO #113 energy= 3.19467922392656   occ= 0\r\n",
      "MO #114 energy= 3.34950700114041   occ= 0\r\n",
      "MO #115 energy= 3.45931762951814   occ= 0\r\n",
      "MO #116 energy= 3.50935189137273   occ= 0\r\n",
      "MO #117 energy= 3.56899701828202   occ= 0\r\n",
      "MO #118 energy= 3.67820523342732   occ= 0\r\n",
      "MO #119 energy= 3.78865493101104   occ= 0\r\n"
     ]
    },
    {
     "name": "stdout",
     "output_type": "stream",
     "text": [
      " ** Mulliken pop on meta-lowdin orthogonal AOs  **\r\n",
      " ** Mulliken pop  **\r\n",
      "pop of  0 N 1s            1.99996\r\n",
      "pop of  0 N 2s            1.31609\r\n",
      "pop of  0 N 3s            0.00536\r\n",
      "pop of  0 N 4s            0.00208\r\n",
      "pop of  0 N 2px           1.22524\r\n",
      "pop of  0 N 2py           1.21782\r\n",
      "pop of  0 N 2pz           1.71076\r\n",
      "pop of  0 N 3px           0.00477\r\n",
      "pop of  0 N 3py           0.00444\r\n",
      "pop of  0 N 3pz           0.01685\r\n",
      "pop of  0 N 4px           0.00272\r\n",
      "pop of  0 N 4py           0.00200\r\n",
      "pop of  0 N 4pz           0.00049\r\n",
      "pop of  0 N 3dxy          0.00102\r\n",
      "pop of  0 N 3dyz          0.00124\r\n",
      "pop of  0 N 3dz^2         0.00166\r\n",
      "pop of  0 N 3dxz          0.00123\r\n",
      "pop of  0 N 3dx2-y2       0.00084\r\n",
      "pop of  0 N 4dxy          0.00086\r\n",
      "pop of  0 N 4dyz          0.00088\r\n",
      "pop of  0 N 4dz^2         0.00054\r\n",
      "pop of  0 N 4dxz          0.00106\r\n",
      "pop of  0 N 4dx2-y2       0.00246\r\n",
      "pop of  1 C 1s            1.99995\r\n",
      "pop of  1 C 2s            0.87367\r\n",
      "pop of  1 C 3s            0.00833\r\n",
      "pop of  1 C 4s            0.00246\r\n",
      "pop of  1 C 2px           0.90136\r\n",
      "pop of  1 C 2py           0.84427\r\n",
      "pop of  1 C 2pz           0.86818\r\n",
      "pop of  1 C 3px           0.00800\r\n",
      "pop of  1 C 3py           0.01607\r\n",
      "pop of  1 C 3pz           0.00118\r\n",
      "pop of  1 C 4px           0.00240\r\n",
      "pop of  1 C 4py           0.00177\r\n",
      "pop of  1 C 4pz           0.00051\r\n",
      "pop of  1 C 3dxy          0.00860\r\n",
      "pop of  1 C 3dyz          0.01189\r\n",
      "pop of  1 C 3dz^2         0.00151\r\n",
      "pop of  1 C 3dxz          0.01101\r\n",
      "pop of  1 C 3dx2-y2       0.00359\r\n",
      "pop of  1 C 4dxy          0.00069\r\n",
      "pop of  1 C 4dyz          0.00242\r\n",
      "pop of  1 C 4dz^2         0.00008\r\n",
      "pop of  1 C 4dxz          0.00458\r\n",
      "pop of  1 C 4dx2-y2       0.00187\r\n",
      "pop of  2 N 1s            1.99996\r\n",
      "pop of  2 N 2s            1.46682\r\n",
      "pop of  2 N 3s            0.01565\r\n",
      "pop of  2 N 4s            0.00232\r\n",
      "pop of  2 N 2px           1.13653\r\n",
      "pop of  2 N 2py           1.56431\r\n",
      "pop of  2 N 2pz           1.51922\r\n",
      "pop of  2 N 3px           0.00393\r\n",
      "pop of  2 N 3py           0.01621\r\n",
      "pop of  2 N 3pz           0.02163\r\n",
      "pop of  2 N 4px           0.00180\r\n",
      "pop of  2 N 4py           0.00302\r\n",
      "pop of  2 N 4pz           0.00220\r\n",
      "pop of  2 N 3dxy          0.00211\r\n",
      "pop of  2 N 3dyz          0.00187\r\n",
      "pop of  2 N 3dz^2         0.00247\r\n",
      "pop of  2 N 3dxz          0.00026\r\n",
      "pop of  2 N 3dx2-y2       0.00112\r\n",
      "pop of  2 N 4dxy          0.00127\r\n",
      "pop of  2 N 4dyz          0.00040\r\n",
      "pop of  2 N 4dz^2         0.00051\r\n",
      "pop of  2 N 4dxz          0.00082\r\n",
      "pop of  2 N 4dx2-y2       0.00089\r\n",
      "pop of  3 O 1s            1.99998\r\n",
      "pop of  3 O 2s            1.71805\r\n",
      "pop of  3 O 3s            0.01265\r\n",
      "pop of  3 O 4s            0.00089\r\n",
      "pop of  3 O 2px           1.86845\r\n",
      "pop of  3 O 2py           1.46325\r\n",
      "pop of  3 O 2pz           1.66584\r\n",
      "pop of  3 O 3px           0.01449\r\n",
      "pop of  3 O 3py           0.00222\r\n",
      "pop of  3 O 3pz           0.00886\r\n",
      "pop of  3 O 4px           0.00030\r\n",
      "pop of  3 O 4py           0.00073\r\n",
      "pop of  3 O 4pz           0.00048\r\n",
      "pop of  3 O 3dxy          0.00143\r\n",
      "pop of  3 O 3dyz          0.00211\r\n",
      "pop of  3 O 3dz^2         0.00159\r\n",
      "pop of  3 O 3dxz          0.00019\r\n",
      "pop of  3 O 3dx2-y2       0.00435\r\n",
      "pop of  3 O 4dxy          0.00043\r\n",
      "pop of  3 O 4dyz          0.00002\r\n",
      "pop of  3 O 4dz^2         0.00030\r\n",
      "pop of  3 O 4dxz          0.00035\r\n",
      "pop of  3 O 4dx2-y2       0.00043\r\n",
      "pop of  4 H 1s            0.75038\r\n",
      "pop of  4 H 2s            0.00660\r\n",
      "pop of  4 H 3s            0.00311\r\n",
      "pop of  4 H 2px           0.00148\r\n",
      "pop of  4 H 2py           0.00227\r\n",
      "pop of  4 H 2pz           0.00483\r\n",
      "pop of  4 H 3px           0.00215\r\n",
      "pop of  4 H 3py           0.00033\r\n",
      "pop of  4 H 3pz           0.00195\r\n",
      "pop of  5 H 1s            0.75154\r\n",
      "pop of  5 H 2s            0.00624\r\n",
      "pop of  5 H 3s            0.00320\r\n",
      "pop of  5 H 2px           0.00226\r\n",
      "pop of  5 H 2py           0.00097\r\n",
      "pop of  5 H 2pz           0.00529\r\n",
      "pop of  5 H 3px           0.00069\r\n",
      "pop of  5 H 3py           0.00135\r\n",
      "pop of  5 H 3pz           0.00234\r\n",
      "pop of  6 H 1s            0.79588\r\n",
      "pop of  6 H 2s            0.00857\r\n",
      "pop of  6 H 3s            0.00254\r\n",
      "pop of  6 H 2px           0.00169\r\n",
      "pop of  6 H 2py           0.00379\r\n",
      "pop of  6 H 2pz           0.00651\r\n",
      "pop of  6 H 3px           0.00102\r\n",
      "pop of  6 H 3py           0.00271\r\n",
      "pop of  6 H 3pz           0.00284\r\n",
      " ** Mulliken atomic charges  **\r\n",
      "charge of    0N =     -0.52037\r\n",
      "charge of    1C =      0.42562\r\n",
      "charge of    2N =     -0.76535\r\n",
      "charge of    3O =     -0.76738\r\n",
      "charge of    4H =      0.22690\r\n",
      "charge of    5H =      0.22613\r\n",
      "charge of    6H =      0.17446\r\n",
      "\r\n",
      "WARN: System has nonzero charge -1; the dipole moment is origin-dependent.\r\n",
      "Location of origin: [0. 0. 0.]\r\n",
      "\r\n",
      "Dipole moment(X, Y, Z, Debye):  2.53018, -3.84370, -1.61051\r\n",
      "Optimized geometry saved to 'cluster_rep_conformers/rep_of_cluster_2_deprotonated.xyz'.\r\n",
      "Final energy: -224.74245722 Hartree (-141027.914587 kcal/mol)\r\n",
      "\r\n",
      "OPT Time: 14.45 seconds\r\n",
      "################################################################\r\n",
      "Finished rep_of_cluster_2_deprotonated.sdf | basis: aug-cc-pVDZ | xc: M06-2X in 14.46 s\r\n",
      "\r\n",
      "======================================================================\r\n",
      "All calculations completed!\r\n"
     ]
    }
   ],
   "source": [
    "!python /work/dft_main.py DFT_DEPROTO {cluster_reps_dir} {dielectric_value} "
   ]
  },
  {
   "cell_type": "markdown",
   "id": "1aa20541-9f07-495a-82ec-352a68c06a68",
   "metadata": {
    "papermill": {
     "duration": 0.015031,
     "end_time": "2025-08-18T04:30:32.196891",
     "exception": false,
     "start_time": "2025-08-18T04:30:32.181860",
     "status": "completed"
    },
    "tags": []
   },
   "source": [
    "# Step 10: Accumulating DFT data and Writing the CSV for pKa Calculations"
   ]
  },
  {
   "cell_type": "code",
   "execution_count": 35,
   "id": "e6634319",
   "metadata": {
    "execution": {
     "iopub.execute_input": "2025-08-18T04:30:32.227599Z",
     "iopub.status.busy": "2025-08-18T04:30:32.227456Z",
     "iopub.status.idle": "2025-08-18T04:30:32.235808Z",
     "shell.execute_reply": "2025-08-18T04:30:32.235606Z"
    },
    "papermill": {
     "duration": 0.024451,
     "end_time": "2025-08-18T04:30:32.236217",
     "exception": false,
     "start_time": "2025-08-18T04:30:32.211766",
     "status": "completed"
    },
    "tags": []
   },
   "outputs": [
    {
     "name": "stdout",
     "output_type": "stream",
     "text": [
      "Filename pattern did not match for: rep_of_cluster_2_deprotonated.xyz\n",
      "Filename pattern did not match for: rep_of_cluster_1_deprotonated.xyz\n"
     ]
    },
    {
     "data": {
      "text/html": [
       "<div>\n",
       "<style scoped>\n",
       "    .dataframe tbody tr th:only-of-type {\n",
       "        vertical-align: middle;\n",
       "    }\n",
       "\n",
       "    .dataframe tbody tr th {\n",
       "        vertical-align: top;\n",
       "    }\n",
       "\n",
       "    .dataframe thead th {\n",
       "        text-align: right;\n",
       "    }\n",
       "</style>\n",
       "<table border=\"1\" class=\"dataframe\">\n",
       "  <thead>\n",
       "    <tr style=\"text-align: right;\">\n",
       "      <th></th>\n",
       "      <th>file name</th>\n",
       "      <th>Basis</th>\n",
       "      <th>XC</th>\n",
       "      <th>energy</th>\n",
       "    </tr>\n",
       "  </thead>\n",
       "  <tbody>\n",
       "    <tr>\n",
       "      <th>0</th>\n",
       "      <td>rep_of_cluster_2_aug-cc-pVDZ_M06-2X.xyz</td>\n",
       "      <td>aug-cc-pVDZ</td>\n",
       "      <td>M06-2X</td>\n",
       "      <td>-141340.337246</td>\n",
       "    </tr>\n",
       "    <tr>\n",
       "      <th>1</th>\n",
       "      <td>rep_of_cluster_1_aug-cc-pVDZ_M06-2X.xyz</td>\n",
       "      <td>aug-cc-pVDZ</td>\n",
       "      <td>M06-2X</td>\n",
       "      <td>-141340.249818</td>\n",
       "    </tr>\n",
       "  </tbody>\n",
       "</table>\n",
       "</div>"
      ],
      "text/plain": [
       "                                 file name        Basis      XC         energy\n",
       "0  rep_of_cluster_2_aug-cc-pVDZ_M06-2X.xyz  aug-cc-pVDZ  M06-2X -141340.337246\n",
       "1  rep_of_cluster_1_aug-cc-pVDZ_M06-2X.xyz  aug-cc-pVDZ  M06-2X -141340.249818"
      ]
     },
     "execution_count": 35,
     "metadata": {},
     "output_type": "execute_result"
    }
   ],
   "source": [
    "def create_dataframe_from_xyz_files(folder_path):\n",
    "    \"\"\"\n",
    "    Creates a pandas DataFrame from .xyz files in a given folder,\n",
    "    extracting Basis, XC, and energy.\n",
    "\n",
    "    Args:\n",
    "        folder_path (str): The path to the folder containing the .xyz files.\n",
    "\n",
    "    Returns:\n",
    "        pandas.DataFrame: A DataFrame with 'file name', 'Basis', 'XC', and 'energy' columns.\n",
    "    \"\"\"\n",
    "    data = []\n",
    "\n",
    "    # Updated Regex to match the filename pattern and capture Basis and XC\n",
    "    # This regex is more robust to handle basis sets and XC functionals\n",
    "    # that may contain hyphens, numbers, or specific characters.\n",
    "    # It assumes the structure is:\n",
    "    # rep_of_cluster_N_BASIS_XC_optional_treatment.xyz\n",
    "    filename_pattern = re.compile(\n",
    "        r\"rep_of_cluster_\\d+_([a-zA-Z0-9\\-]+)_([a-zA-Z0-9\\-]+)(?:_deprotonated|_protonated)?\\.xyz\"\n",
    "    )\n",
    "\n",
    "    for filename in os.listdir(folder_path):\n",
    "        if filename.endswith(\".xyz\"):\n",
    "            match = filename_pattern.match(filename)\n",
    "            if match:\n",
    "                basis = match.group(1)\n",
    "                xc = match.group(2)\n",
    "\n",
    "                file_path = os.path.join(folder_path, filename)\n",
    "                try:\n",
    "                    with open(file_path, 'r') as f:\n",
    "                        f.readline()  # Skip the first line (number of atoms)\n",
    "                        energy_line = f.readline().strip()\n",
    "\n",
    "                        energy = None\n",
    "                        try:\n",
    "                            energy = float(energy_line)\n",
    "                        except ValueError:\n",
    "                            energy_match = re.search(r\"[-+]?\\d*\\.?\\d+(?:[eE][-+]?\\d+)?\", energy_line)\n",
    "                            if energy_match:\n",
    "                                energy = float(energy_match.group(0))\n",
    "                            else:\n",
    "                                print(f\"Could not extract energy from line: '{energy_line}' in file: {filename}\")\n",
    "\n",
    "                        data.append({\n",
    "                            'file name': filename,\n",
    "                            'Basis': basis,\n",
    "                            'XC': xc,\n",
    "                            'energy': energy\n",
    "                        })\n",
    "                except Exception as e:\n",
    "                    print(f\"Error processing file {filename}: {e}\")\n",
    "            else:\n",
    "                print(f\"Filename pattern did not match for: {filename}\")\n",
    "\n",
    "    df = pd.DataFrame(data)\n",
    "    return df\n",
    "\n",
    "# --- How to use the function ---\n",
    "if __name__ == \"__main__\":\n",
    "    df = create_dataframe_from_xyz_files(cluster_reps_dir)\n",
    "\n",
    "\n",
    "df.head(15)\n",
    "\n",
    "    "
   ]
  },
  {
   "cell_type": "code",
   "execution_count": 36,
   "id": "948cb9ba",
   "metadata": {
    "execution": {
     "iopub.execute_input": "2025-08-18T04:30:32.267466Z",
     "iopub.status.busy": "2025-08-18T04:30:32.267324Z",
     "iopub.status.idle": "2025-08-18T04:30:32.274293Z",
     "shell.execute_reply": "2025-08-18T04:30:32.274127Z"
    },
    "papermill": {
     "duration": 0.022899,
     "end_time": "2025-08-18T04:30:32.274676",
     "exception": false,
     "start_time": "2025-08-18T04:30:32.251777",
     "status": "completed"
    },
    "tags": []
   },
   "outputs": [
    {
     "data": {
      "text/html": [
       "<div>\n",
       "<style scoped>\n",
       "    .dataframe tbody tr th:only-of-type {\n",
       "        vertical-align: middle;\n",
       "    }\n",
       "\n",
       "    .dataframe tbody tr th {\n",
       "        vertical-align: top;\n",
       "    }\n",
       "\n",
       "    .dataframe thead th {\n",
       "        text-align: right;\n",
       "    }\n",
       "</style>\n",
       "<table border=\"1\" class=\"dataframe\">\n",
       "  <thead>\n",
       "    <tr style=\"text-align: right;\">\n",
       "      <th></th>\n",
       "      <th>Prefix</th>\n",
       "      <th>Basis</th>\n",
       "      <th>XC</th>\n",
       "      <th>Filename_original</th>\n",
       "      <th>Energy_original</th>\n",
       "    </tr>\n",
       "  </thead>\n",
       "  <tbody>\n",
       "    <tr>\n",
       "      <th>0</th>\n",
       "      <td>rep_of_cluster_1_aug-cc-pVDZ_M06-2X</td>\n",
       "      <td>aug-cc-pVDZ</td>\n",
       "      <td>M06-2X</td>\n",
       "      <td>rep_of_cluster_1_aug-cc-pVDZ_M06-2X.xyz</td>\n",
       "      <td>-141340.249818</td>\n",
       "    </tr>\n",
       "    <tr>\n",
       "      <th>1</th>\n",
       "      <td>rep_of_cluster_2_aug-cc-pVDZ_M06-2X</td>\n",
       "      <td>aug-cc-pVDZ</td>\n",
       "      <td>M06-2X</td>\n",
       "      <td>rep_of_cluster_2_aug-cc-pVDZ_M06-2X.xyz</td>\n",
       "      <td>-141340.337246</td>\n",
       "    </tr>\n",
       "  </tbody>\n",
       "</table>\n",
       "</div>"
      ],
      "text/plain": [
       "                                Prefix        Basis      XC  \\\n",
       "0  rep_of_cluster_1_aug-cc-pVDZ_M06-2X  aug-cc-pVDZ  M06-2X   \n",
       "1  rep_of_cluster_2_aug-cc-pVDZ_M06-2X  aug-cc-pVDZ  M06-2X   \n",
       "\n",
       "                         Filename_original  Energy_original  \n",
       "0  rep_of_cluster_1_aug-cc-pVDZ_M06-2X.xyz   -141340.249818  \n",
       "1  rep_of_cluster_2_aug-cc-pVDZ_M06-2X.xyz   -141340.337246  "
      ]
     },
     "execution_count": 36,
     "metadata": {},
     "output_type": "execute_result"
    }
   ],
   "source": [
    "\n",
    "# ---\n",
    "# Step 1: Extract the Common Prefix\n",
    "def extract_prefix(filename):\n",
    "    match = re.match(r'(rep_of_cluster_\\d+_aug-cc-pVDZ_M06-2X)', filename)\n",
    "    if match:\n",
    "        return match.group(1)\n",
    "    return filename\n",
    "\n",
    "df['prefix'] = df['file name'].apply(extract_prefix)\n",
    "\n",
    "# ---\n",
    "# Step 2: Group and Process to Assign Custom Names, including Basis and XC\n",
    "\n",
    "output_rows = []\n",
    "for prefix, group in df.groupby('prefix'):\n",
    "    row_dict = {'Prefix': prefix}\n",
    "    \n",
    "    # Get Basis and XC from the first row of the group (they should be constant within the group)\n",
    "    # Using .iloc[0] is safe here because each group will have at least one row\n",
    "    row_dict['Basis'] = group['Basis'].iloc[0]\n",
    "    row_dict['XC'] = group['XC'].iloc[0]\n",
    "\n",
    "    # Initialize placeholders for the new columns\n",
    "    row_dict['Filename_original'] = None\n",
    "    row_dict['Energy_original'] = None\n",
    "    row_dict['Filename_acid_treated'] = None\n",
    "    row_dict['Energy_acid_treated'] = None\n",
    "    row_dict['Filename_base_treated'] = None\n",
    "    row_dict['Energy_base_treated'] = None\n",
    "\n",
    "\n",
    "    for _, entry in group.iterrows():\n",
    "        filename = entry['file name']\n",
    "        energy = entry['energy']\n",
    "\n",
    "        if '_deprotonated' in filename:\n",
    "            row_dict['Filename_deprotonated'] = filename\n",
    "            row_dict['Energy_deprotonated'] = energy\n",
    "        elif '_protonated' in filename:\n",
    "            row_dict['Filename_protonated'] = filename\n",
    "            row_dict['Energy_protonated'] = energy\n",
    "        else:\n",
    "            # Assuming files without _acid_treat or _base_treat are the 'original'\n",
    "            row_dict['Filename_original'] = filename\n",
    "            row_dict['Energy_original'] = energy\n",
    "            \n",
    "    output_rows.append(row_dict)\n",
    "\n",
    "result_df = pd.DataFrame(output_rows)\n",
    "\n",
    "# Reorder columns for better readability\n",
    "# Ensure all these columns exist in result_df before attempting to reorder\n",
    "desired_columns = ['Prefix', 'Basis', 'XC',\n",
    "                   'Filename_original', 'Energy_original',\n",
    "                   'Filename_deprotonated', 'Energy_deprotonated',\n",
    "                   'Filename_protonated', 'Energy_protonated']\n",
    "\n",
    "# Filter for only the columns that actually exist in result_df to avoid errors\n",
    "existing_columns = [col for col in desired_columns if col in result_df.columns]\n",
    "result_df = result_df[existing_columns]\n",
    "\n",
    "\n",
    "#print\n",
    "result_df"
   ]
  },
  {
   "cell_type": "markdown",
   "id": "02983554-0efb-4ad7-afba-4d8755aac0d9",
   "metadata": {
    "papermill": {
     "duration": 0.015341,
     "end_time": "2025-08-18T04:30:32.305397",
     "exception": false,
     "start_time": "2025-08-18T04:30:32.290056",
     "status": "completed"
    },
    "tags": []
   },
   "source": [
    "# Step 11: Data analysis and pKa Calculation"
   ]
  },
  {
   "cell_type": "code",
   "execution_count": 37,
   "id": "eb2e7287-08f9-4e46-9d38-587dd275e0ab",
   "metadata": {
    "execution": {
     "iopub.execute_input": "2025-08-18T04:30:32.336285Z",
     "iopub.status.busy": "2025-08-18T04:30:32.336188Z",
     "iopub.status.idle": "2025-08-18T04:30:32.338003Z",
     "shell.execute_reply": "2025-08-18T04:30:32.337814Z"
    },
    "papermill": {
     "duration": 0.017672,
     "end_time": "2025-08-18T04:30:32.338329",
     "exception": false,
     "start_time": "2025-08-18T04:30:32.320657",
     "status": "completed"
    },
    "tags": []
   },
   "outputs": [],
   "source": [
    "if 'Energy_deprotonated' in result_df.columns:\n",
    "    result_df['E_proton (acidic)']=pKa_EXP*1.36574 +(result_df['Energy_original'] -result_df['Energy_deprotonated'])\n",
    "if 'Energy_protonated' in result_df.columns:\n",
    "    result_df['E_proton (basic)']=pKa_EXP*1.36574 -(result_df['Energy_original'] -result_df['Energy_protonated'])\n",
    "\n"
   ]
  },
  {
   "cell_type": "code",
   "execution_count": 38,
   "id": "0734caa6-deb6-45d4-835e-874293e3fb28",
   "metadata": {
    "execution": {
     "iopub.execute_input": "2025-08-18T04:30:32.370055Z",
     "iopub.status.busy": "2025-08-18T04:30:32.369850Z",
     "iopub.status.idle": "2025-08-18T04:30:32.374830Z",
     "shell.execute_reply": "2025-08-18T04:30:32.374555Z"
    },
    "papermill": {
     "duration": 0.021558,
     "end_time": "2025-08-18T04:30:32.375211",
     "exception": false,
     "start_time": "2025-08-18T04:30:32.353653",
     "status": "completed"
    },
    "tags": []
   },
   "outputs": [
    {
     "data": {
      "text/html": [
       "<div>\n",
       "<style scoped>\n",
       "    .dataframe tbody tr th:only-of-type {\n",
       "        vertical-align: middle;\n",
       "    }\n",
       "\n",
       "    .dataframe tbody tr th {\n",
       "        vertical-align: top;\n",
       "    }\n",
       "\n",
       "    .dataframe thead th {\n",
       "        text-align: right;\n",
       "    }\n",
       "</style>\n",
       "<table border=\"1\" class=\"dataframe\">\n",
       "  <thead>\n",
       "    <tr style=\"text-align: right;\">\n",
       "      <th></th>\n",
       "      <th>Prefix</th>\n",
       "      <th>Basis</th>\n",
       "      <th>XC</th>\n",
       "      <th>Filename_original</th>\n",
       "      <th>Energy_original</th>\n",
       "      <th>Weights</th>\n",
       "    </tr>\n",
       "  </thead>\n",
       "  <tbody>\n",
       "    <tr>\n",
       "      <th>0</th>\n",
       "      <td>rep_of_cluster_1_aug-cc-pVDZ_M06-2X</td>\n",
       "      <td>aug-cc-pVDZ</td>\n",
       "      <td>M06-2X</td>\n",
       "      <td>rep_of_cluster_1_aug-cc-pVDZ_M06-2X.xyz</td>\n",
       "      <td>-141340.249818</td>\n",
       "      <td>0.463158</td>\n",
       "    </tr>\n",
       "    <tr>\n",
       "      <th>1</th>\n",
       "      <td>rep_of_cluster_2_aug-cc-pVDZ_M06-2X</td>\n",
       "      <td>aug-cc-pVDZ</td>\n",
       "      <td>M06-2X</td>\n",
       "      <td>rep_of_cluster_2_aug-cc-pVDZ_M06-2X.xyz</td>\n",
       "      <td>-141340.337246</td>\n",
       "      <td>0.536842</td>\n",
       "    </tr>\n",
       "  </tbody>\n",
       "</table>\n",
       "</div>"
      ],
      "text/plain": [
       "                                Prefix        Basis      XC  \\\n",
       "0  rep_of_cluster_1_aug-cc-pVDZ_M06-2X  aug-cc-pVDZ  M06-2X   \n",
       "1  rep_of_cluster_2_aug-cc-pVDZ_M06-2X  aug-cc-pVDZ  M06-2X   \n",
       "\n",
       "                         Filename_original  Energy_original   Weights  \n",
       "0  rep_of_cluster_1_aug-cc-pVDZ_M06-2X.xyz   -141340.249818  0.463158  \n",
       "1  rep_of_cluster_2_aug-cc-pVDZ_M06-2X.xyz   -141340.337246  0.536842  "
      ]
     },
     "execution_count": 38,
     "metadata": {},
     "output_type": "execute_result"
    }
   ],
   "source": [
    "T = 298  # Temperature in Kelvin\n",
    "k_B = 0.0019872041  # Boltzmann constant in kcal/mol·K\n",
    "\n",
    "E_shifted = result_df['Energy_original'] - result_df['Energy_original'].min()  # shift energies so lowest is 0\n",
    "weights = np.exp(-E_shifted / (k_B * T))\n",
    "\n",
    "#Boltzmann Probabilities\n",
    "result_df['Weights'] = weights / np.sum(weights)\n",
    "\n",
    "if 'Energy_deprotonated' in result_df.columns and 'Energy_protonated' in result_df.columns:\n",
    "    result_df=result_df[['Prefix', 'Basis', 'XC', 'Energy_original', 'Energy_deprotonated','E_proton (acidic)','Energy_protonated', 'E_proton (basic)', 'Weights' ]]\n",
    "\n",
    "elif 'Energy_deprotonated' in result_df.columns:\n",
    "    result_df=result_df[['Prefix', 'Basis', 'XC', 'Energy_original', 'Energy_deprotonated','E_proton (acidic)','Weights' ]]\n",
    "\n",
    "elif 'Energy_protonated' in result_df.columns:\n",
    "    result_df=result_df[['Prefix', 'Basis', 'XC', 'Energy_original','Energy_protonated', 'E_proton (basic)', 'Weights' ]]\n",
    "\n",
    "result_df"
   ]
  },
  {
   "cell_type": "code",
   "execution_count": 39,
   "id": "0d28756c-022d-4b65-a0ba-860d2dc6899a",
   "metadata": {
    "execution": {
     "iopub.execute_input": "2025-08-18T04:30:32.406618Z",
     "iopub.status.busy": "2025-08-18T04:30:32.406371Z",
     "iopub.status.idle": "2025-08-18T04:30:32.409853Z",
     "shell.execute_reply": "2025-08-18T04:30:32.409663Z"
    },
    "papermill": {
     "duration": 0.019436,
     "end_time": "2025-08-18T04:30:32.410218",
     "exception": false,
     "start_time": "2025-08-18T04:30:32.390782",
     "status": "completed"
    },
    "tags": []
   },
   "outputs": [
    {
     "name": "stdout",
     "output_type": "stream",
     "text": [
      "results  :                                  Prefix        Basis      XC  \\\n",
      "0  rep_of_cluster_1_aug-cc-pVDZ_M06-2X  aug-cc-pVDZ  M06-2X   \n",
      "1  rep_of_cluster_2_aug-cc-pVDZ_M06-2X  aug-cc-pVDZ  M06-2X   \n",
      "\n",
      "                         Filename_original  Energy_original   Weights  \n",
      "0  rep_of_cluster_1_aug-cc-pVDZ_M06-2X.xyz   -141340.249818  0.463158  \n",
      "1  rep_of_cluster_2_aug-cc-pVDZ_M06-2X.xyz   -141340.337246  0.536842  \n"
     ]
    }
   ],
   "source": [
    "#pKa Calculation weighted avg\n",
    "if 'Energy_deprotonated' in result_df.columns:\n",
    "    result_df['pka (acidic)'] = 0.7322 * (\n",
    "        E_avg_proton -\n",
    "        (result_df['Energy_original'] - result_df['Energy_deprotonated'])\n",
    "    )\n",
    "    pka_cal_acidic=sum(result_df['pka (acidic)']*result_df['Weights'])\n",
    "    \n",
    "if 'Energy_protonated' in result_df.columns:\n",
    "    result_df['pka (basic)'] = 0.7322 * ( E_avg_proton +(result_df['Energy_original'] - result_df['Energy_protonated']))\n",
    "    pka_cal_basic=sum(result_df['pka (basic)']*result_df['Weights'])\n",
    "\n",
    "result_df.to_csv(\"cluster_rep_conformers/conformerwise_pka.csv\",index=False)\n",
    "\n",
    "print(\"results  : \", result_df)"
   ]
  },
  {
   "cell_type": "code",
   "execution_count": 40,
   "id": "ef5c4a18-19f4-4238-bbb7-6fdf509467fb",
   "metadata": {
    "execution": {
     "iopub.execute_input": "2025-08-18T04:30:32.442271Z",
     "iopub.status.busy": "2025-08-18T04:30:32.442010Z",
     "iopub.status.idle": "2025-08-18T04:30:32.444067Z",
     "shell.execute_reply": "2025-08-18T04:30:32.443890Z"
    },
    "papermill": {
     "duration": 0.018724,
     "end_time": "2025-08-18T04:30:32.444459",
     "exception": false,
     "start_time": "2025-08-18T04:30:32.425735",
     "status": "completed"
    },
    "tags": []
   },
   "outputs": [],
   "source": [
    "# Capture the end time\n",
    "end_time: float = time.time()\n",
    "\n",
    "# Calculate the execution time in seconds\n",
    "execution_time_seconds: float = end_time - start_time\n",
    "\n",
    "# Convert the execution time to minutes\n",
    "execution_time_minutes: int = execution_time_seconds // 60\n",
    "\n",
    "with open('outputs.txt', 'a') as file:\n",
    "    file.write(f'Execution_time : {execution_time_minutes}\\n')"
   ]
  },
  {
   "cell_type": "code",
   "execution_count": 41,
   "id": "72594f20-7a0f-483d-949e-dac9c3a77b96",
   "metadata": {
    "execution": {
     "iopub.execute_input": "2025-08-18T04:30:32.475592Z",
     "iopub.status.busy": "2025-08-18T04:30:32.475441Z",
     "iopub.status.idle": "2025-08-18T04:30:32.480354Z",
     "shell.execute_reply": "2025-08-18T04:30:32.480145Z"
    },
    "papermill": {
     "duration": 0.020894,
     "end_time": "2025-08-18T04:30:32.480760",
     "exception": false,
     "start_time": "2025-08-18T04:30:32.459866",
     "status": "completed"
    },
    "tags": []
   },
   "outputs": [
    {
     "data": {
      "text/html": [
       "<div>\n",
       "<style scoped>\n",
       "    .dataframe tbody tr th:only-of-type {\n",
       "        vertical-align: middle;\n",
       "    }\n",
       "\n",
       "    .dataframe tbody tr th {\n",
       "        vertical-align: top;\n",
       "    }\n",
       "\n",
       "    .dataframe thead th {\n",
       "        text-align: right;\n",
       "    }\n",
       "</style>\n",
       "<table border=\"1\" class=\"dataframe\">\n",
       "  <thead>\n",
       "    <tr style=\"text-align: right;\">\n",
       "      <th></th>\n",
       "      <th>Molecule</th>\n",
       "      <th>Solvent (ε)</th>\n",
       "      <th># Conformers</th>\n",
       "      <th>pKa (Exp)</th>\n",
       "      <th>pKa_cal_acidic (weighted avg)</th>\n",
       "      <th>pKa_cal_basic (weighted avg)</th>\n",
       "    </tr>\n",
       "  </thead>\n",
       "  <tbody>\n",
       "    <tr>\n",
       "      <th>0</th>\n",
       "      <td>NC(N)=O</td>\n",
       "      <td>46.826</td>\n",
       "      <td>2</td>\n",
       "      <td>24.88</td>\n",
       "      <td>NaN</td>\n",
       "      <td>NaN</td>\n",
       "    </tr>\n",
       "  </tbody>\n",
       "</table>\n",
       "</div>"
      ],
      "text/plain": [
       "  Molecule  Solvent (ε)  # Conformers  pKa (Exp)  \\\n",
       "0  NC(N)=O       46.826             2      24.88   \n",
       "\n",
       "   pKa_cal_acidic (weighted avg)  pKa_cal_basic (weighted avg)  \n",
       "0                            NaN                           NaN  "
      ]
     },
     "execution_count": 41,
     "metadata": {},
     "output_type": "execute_result"
    }
   ],
   "source": [
    "# Create a DataFrame\n",
    "data = {\n",
    "    \"Molecule\": [inp_smiles],\n",
    "    \"Solvent (ε)\": [dielectric_value],\n",
    "    \"# Conformers\": [len(cluster_reps_DF)],\n",
    "    \"pKa (Exp)\": [pKa_EXP],\n",
    "}\n",
    "\n",
    "try:\n",
    "    data[\"pKa_cal_acidic (weighted avg)\"] = [round(pka_cal_acidic, 1)]\n",
    "except NameError:\n",
    "    data[\"pKa_cal_acidic (weighted avg)\"] = [np.nan]\n",
    "try:\n",
    "    data[\"pKa_cal_basic (weighted avg)\"]= [round(pka_cal_basic, 1)]\n",
    "except NameError:\n",
    "    data[\"pKa_cal_basic (weighted avg)\"]= [np.nan]\n",
    "\n",
    "df_final = pd.DataFrame(data)\n",
    "df_final.to_csv(\"cluster_rep_conformers/Final_cal_pka.csv\",index=False)\n",
    "\n",
    "df_final\n"
   ]
  }
 ],
 "metadata": {
  "kernelspec": {
   "display_name": "base",
   "language": "python",
   "name": "python3"
  },
  "language_info": {
   "codemirror_mode": {
    "name": "ipython",
    "version": 3
   },
   "file_extension": ".py",
   "mimetype": "text/x-python",
   "name": "python",
   "nbconvert_exporter": "python",
   "pygments_lexer": "ipython3",
   "version": "3.9.18"
  },
  "papermill": {
   "default_parameters": {},
   "duration": 71.686527,
   "end_time": "2025-08-18T04:30:32.911015",
   "environment_variables": {},
   "exception": null,
   "input_path": "full_pipeline_pka_gnnis-2_v2.ipynb",
   "output_path": "full_pipeline_pka_gnnis-2_output.ipynb",
   "parameters": {
    "E_avg_proton": -275.755,
    "dielectric_value": 46.826,
    "inp_smiles": "NC(N)=O",
    "num_conf": 10,
    "output_dir": "M2",
    "pKa_EXP": 24.88
   },
   "start_time": "2025-08-18T04:29:21.224488",
   "version": "2.6.0"
  }
 },
 "nbformat": 4,
 "nbformat_minor": 5
}