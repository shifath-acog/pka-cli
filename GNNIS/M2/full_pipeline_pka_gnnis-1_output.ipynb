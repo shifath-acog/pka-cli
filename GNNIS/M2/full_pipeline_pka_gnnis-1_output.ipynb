{
 "cells": [
  {
   "cell_type": "code",
   "execution_count": 2,
   "id": "51136c2f",
   "metadata": {
    "execution": {
     "iopub.execute_input": "2025-08-18T04:29:11.173220Z",
     "iopub.status.busy": "2025-08-18T04:29:11.173006Z",
     "iopub.status.idle": "2025-08-18T04:29:11.176427Z",
     "shell.execute_reply": "2025-08-18T04:29:11.176241Z"
    },
    "papermill": {
     "duration": 0.006554,
     "end_time": "2025-08-18T04:29:11.176861",
     "exception": false,
     "start_time": "2025-08-18T04:29:11.170307",
     "status": "completed"
    },
    "tags": [
     "injected-parameters"
    ]
   },
   "outputs": [],
   "source": [
    "# Parameters\n",
    "inp_smiles = \"NC(N)=O\"\n",
    "output_dir = \"M2\"\n",
    "Solvent = \"DMSO\"\n",
    "num_conf = 10\n"
   ]
  },
  {
   "cell_type": "markdown",
   "id": "08cd9069",
   "metadata": {
    "papermill": {
     "duration": 0.000966,
     "end_time": "2025-08-18T04:29:11.183301",
     "exception": false,
     "start_time": "2025-08-18T04:29:11.182335",
     "status": "completed"
    },
    "tags": []
   },
   "source": [
    "# Conformer Generation Pipeline"
   ]
  },
  {
   "cell_type": "markdown",
   "id": "4971aa7f-5c76-4f35-9c81-4116d9657d34",
   "metadata": {
    "papermill": {
     "duration": 0.000942,
     "end_time": "2025-08-18T04:29:11.185699",
     "exception": false,
     "start_time": "2025-08-18T04:29:11.184757",
     "status": "completed"
    },
    "tags": []
   },
   "source": [
    "## **Step 1: Input Smile and Reference Conformer**"
   ]
  },
  {
   "cell_type": "code",
   "execution_count": 3,
   "id": "32bf4f81",
   "metadata": {
    "execution": {
     "iopub.execute_input": "2025-08-18T04:29:11.188124Z",
     "iopub.status.busy": "2025-08-18T04:29:11.188040Z",
     "iopub.status.idle": "2025-08-18T04:29:11.189500Z",
     "shell.execute_reply": "2025-08-18T04:29:11.189280Z"
    },
    "papermill": {
     "duration": 0.003142,
     "end_time": "2025-08-18T04:29:11.189897",
     "exception": false,
     "start_time": "2025-08-18T04:29:11.186755",
     "status": "completed"
    },
    "tags": []
   },
   "outputs": [],
   "source": [
    "# import os\n",
    "# # Specify which GPUs to use\n",
    "# os.environ[\"CUDA_VISIBLE_DEVICES\"] = \"0,1\"\n",
    "# os.environ[\"OMP_NUM_THREADS\"] = \"25\"\n",
    "# os.environ[\"MKL_NUM_THREADS\"] = \"25\"\n",
    "# os.environ[\"OPENBLAS_NUM_THREADS\"] = \"25\""
   ]
  },
  {
   "cell_type": "code",
   "execution_count": 4,
   "id": "5d501701-5206-48cd-b7da-e90f6caf7b03",
   "metadata": {
    "execution": {
     "iopub.execute_input": "2025-08-18T04:29:11.192228Z",
     "iopub.status.busy": "2025-08-18T04:29:11.192156Z",
     "iopub.status.idle": "2025-08-18T04:29:11.193986Z",
     "shell.execute_reply": "2025-08-18T04:29:11.193670Z"
    },
    "papermill": {
     "duration": 0.003394,
     "end_time": "2025-08-18T04:29:11.194341",
     "exception": false,
     "start_time": "2025-08-18T04:29:11.190947",
     "status": "completed"
    },
    "tags": []
   },
   "outputs": [],
   "source": [
    "import time\n",
    "\n",
    "# Capture the start time\n",
    "start_time: float = time.time()"
   ]
  },
  {
   "cell_type": "code",
   "execution_count": 5,
   "id": "554a12ca",
   "metadata": {
    "execution": {
     "iopub.execute_input": "2025-08-18T04:29:11.196795Z",
     "iopub.status.busy": "2025-08-18T04:29:11.196587Z",
     "iopub.status.idle": "2025-08-18T04:29:11.426284Z",
     "shell.execute_reply": "2025-08-18T04:29:11.425904Z"
    },
    "papermill": {
     "duration": 0.231995,
     "end_time": "2025-08-18T04:29:11.427370",
     "exception": false,
     "start_time": "2025-08-18T04:29:11.195375",
     "status": "completed"
    },
    "tags": []
   },
   "outputs": [],
   "source": [
    "import sys\n",
    "\n",
    "# Add a folder to Python's import path\n",
    "sys.path.append('/work') \n",
    "\n",
    "from atk_conformer_generation_pipeline.utils import *\n",
    "from atk_conformer_generation_pipeline.variables import *"
   ]
  },
  {
   "cell_type": "code",
   "execution_count": 6,
   "id": "93df80ed",
   "metadata": {
    "execution": {
     "iopub.execute_input": "2025-08-18T04:29:11.436075Z",
     "iopub.status.busy": "2025-08-18T04:29:11.435879Z",
     "iopub.status.idle": "2025-08-18T04:29:11.685977Z",
     "shell.execute_reply": "2025-08-18T04:29:11.685495Z"
    },
    "papermill": {
     "duration": 0.258315,
     "end_time": "2025-08-18T04:29:11.687063",
     "exception": false,
     "start_time": "2025-08-18T04:29:11.428748",
     "status": "completed"
    },
    "tags": []
   },
   "outputs": [
    {
     "name": "stdout",
     "output_type": "stream",
     "text": [
      "/work\n"
     ]
    }
   ],
   "source": [
    "#Change the dir to /work\n",
    "os.chdir(\"/work\")\n",
    "!pwd"
   ]
  },
  {
   "cell_type": "markdown",
   "id": "f55b42bf",
   "metadata": {
    "papermill": {
     "duration": 0.010126,
     "end_time": "2025-08-18T04:29:11.698688",
     "exception": false,
     "start_time": "2025-08-18T04:29:11.688562",
     "status": "completed"
    },
    "tags": []
   },
   "source": [
    "**Change the below variables accordingly**"
   ]
  },
  {
   "cell_type": "code",
   "execution_count": 7,
   "id": "ac382af3-999f-448f-b2aa-9dbc8156c0e2",
   "metadata": {
    "execution": {
     "iopub.execute_input": "2025-08-18T04:29:11.701847Z",
     "iopub.status.busy": "2025-08-18T04:29:11.701674Z",
     "iopub.status.idle": "2025-08-18T04:29:11.704096Z",
     "shell.execute_reply": "2025-08-18T04:29:11.703843Z"
    },
    "papermill": {
     "duration": 0.004474,
     "end_time": "2025-08-18T04:29:11.704501",
     "exception": false,
     "start_time": "2025-08-18T04:29:11.700027",
     "status": "completed"
    },
    "tags": []
   },
   "outputs": [],
   "source": [
    "os.makedirs(output_dir, exist_ok=True)\n",
    "os.chdir(output_dir)"
   ]
  },
  {
   "cell_type": "code",
   "execution_count": 8,
   "id": "f61b3690-cdda-4863-8df0-a2d88dc4055b",
   "metadata": {
    "execution": {
     "iopub.execute_input": "2025-08-18T04:29:11.707155Z",
     "iopub.status.busy": "2025-08-18T04:29:11.706945Z",
     "iopub.status.idle": "2025-08-18T04:29:11.959698Z",
     "shell.execute_reply": "2025-08-18T04:29:11.959225Z"
    },
    "papermill": {
     "duration": 0.254991,
     "end_time": "2025-08-18T04:29:11.960550",
     "exception": false,
     "start_time": "2025-08-18T04:29:11.705559",
     "status": "completed"
    },
    "tags": []
   },
   "outputs": [
    {
     "name": "stdout",
     "output_type": "stream",
     "text": [
      "/work/M2\n"
     ]
    }
   ],
   "source": [
    "!pwd"
   ]
  },
  {
   "cell_type": "code",
   "execution_count": 9,
   "id": "f4ba3694-7eed-4a2d-bc09-e0df8c6e5b6b",
   "metadata": {
    "execution": {
     "iopub.execute_input": "2025-08-18T04:29:11.974250Z",
     "iopub.status.busy": "2025-08-18T04:29:11.974095Z",
     "iopub.status.idle": "2025-08-18T04:29:11.976129Z",
     "shell.execute_reply": "2025-08-18T04:29:11.975932Z"
    },
    "papermill": {
     "duration": 0.004433,
     "end_time": "2025-08-18T04:29:11.976492",
     "exception": false,
     "start_time": "2025-08-18T04:29:11.972059",
     "status": "completed"
    },
    "tags": []
   },
   "outputs": [],
   "source": [
    "import sys\n",
    "sys.setrecursionlimit(10000)\n",
    "# set the maximum depth of the Python interpreter stack. This stack depth is crucial for recursive function calls, \n",
    "# as it limits how deep the recursion can go before causing a RecursionError."
   ]
  },
  {
   "cell_type": "code",
   "execution_count": 10,
   "id": "5a4ad092-ac6d-4f1f-b825-a9beead92c6e",
   "metadata": {
    "execution": {
     "iopub.execute_input": "2025-08-18T04:29:11.978920Z",
     "iopub.status.busy": "2025-08-18T04:29:11.978844Z",
     "iopub.status.idle": "2025-08-18T04:29:12.000874Z",
     "shell.execute_reply": "2025-08-18T04:29:12.000700Z"
    },
    "papermill": {
     "duration": 0.023661,
     "end_time": "2025-08-18T04:29:12.001276",
     "exception": false,
     "start_time": "2025-08-18T04:29:11.977615",
     "status": "completed"
    },
    "tags": []
   },
   "outputs": [
    {
     "data": {
      "image/png": "[encoded data removed]",
      "text/plain": [
       "<IPython.core.display.Image object>"
      ]
     },
     "metadata": {},
     "output_type": "display_data"
    }
   ],
   "source": [
    "display_2d_structure(inp_smiles)\n"
   ]
  },
  {
   "cell_type": "markdown",
   "id": "c439e673",
   "metadata": {
    "papermill": {
     "duration": 0.001082,
     "end_time": "2025-08-18T04:29:12.003516",
     "exception": false,
     "start_time": "2025-08-18T04:29:12.002434",
     "status": "completed"
    },
    "tags": []
   },
   "source": [
    "**Importing the necessary libraries**"
   ]
  },
  {
   "cell_type": "code",
   "execution_count": 11,
   "id": "fb19f1c4",
   "metadata": {
    "execution": {
     "iopub.execute_input": "2025-08-18T04:29:12.006215Z",
     "iopub.status.busy": "2025-08-18T04:29:12.006044Z",
     "iopub.status.idle": "2025-08-18T04:29:20.017545Z",
     "shell.execute_reply": "2025-08-18T04:29:20.017244Z"
    },
    "papermill": {
     "duration": 8.013262,
     "end_time": "2025-08-18T04:29:20.017923",
     "exception": false,
     "start_time": "2025-08-18T04:29:12.004661",
     "status": "completed"
    },
    "tags": []
   },
   "outputs": [
    {
     "name": "stderr",
     "output_type": "stream",
     "text": [
      "Warning: importing 'simtk.openmm' is deprecated.  Import 'openmm' instead.\n"
     ]
    },
    {
     "data": {
      "application/vnd.jupyter.widget-view+json": {
       "model_id": "47a253d01999445ea5401c0ddd85d21c",
       "version_major": 2,
       "version_minor": 0
      },
      "text/plain": []
     },
     "metadata": {},
     "output_type": "display_data"
    },
    {
     "name": "stderr",
     "output_type": "stream",
     "text": [
      "/opt/conda/envs/GNNImplicitSolvent/lib/python3.10/site-packages/Simulation/helper_functions.py:1168: FutureWarning: You are using `torch.load` with `weights_only=False` (the current default value), which uses the default pickle module implicitly. It is possible to construct malicious pickle data which will execute arbitrary code during unpickling (See https://github.com/pytorch/pytorch/blob/main/SECURITY.md#untrusted-models for more details). In a future release, the default value for `weights_only` will be flipped to `True`. This limits the functions that could be executed during unpickling. Arbitrary objects will no longer be allowed to be loaded via this mode unless they are explicitly allowlisted by the user via `torch.serialization.add_safe_globals`. We recommend you start setting `weights_only=True` for any use case where you don't have full control of the loaded file. Please open an issue on GitHub for any issues related to this experimental feature.\n",
      "  model_dict = torch.load(model_path, map_location=\"cpu\")[\"model\"]\n"
     ]
    },
    {
     "name": "stdout",
     "output_type": "stream",
     "text": [
      "Using OpenFF forcefield: openff-2.0.0\n",
      "using rdkit molecule\n",
      "setting charges based on AM1BCC\n",
      "Using OpenFF forcefield: openff-2.0.0\n",
      "using rdkit molecule\n",
      "setting charges based on AM1BCC\n",
      "Using OpenFF forcefield: openff-2.0.0\n",
      "using rdkit molecule\n",
      "setting charges based on AM1BCC\n",
      "Using OpenFF forcefield: openff-2.0.0\n",
      "using rdkit molecule\n",
      "setting charges based on AM1BCC\n",
      "Using OpenFF forcefield: openff-2.0.0\n",
      "using rdkit molecule\n",
      "setting charges based on AM1BCC\n"
     ]
    },
    {
     "name": "stderr",
     "output_type": "stream",
     "text": [
      "/opt/conda/envs/GNNImplicitSolvent/lib/python3.10/site-packages/Simulation/Simulator.py:940: UserWarning: Platform not available, defaulting to CPU\n",
      "  warnings.warn(\"Platform not available, defaulting to CPU\")\n"
     ]
    },
    {
     "name": "stdout",
     "output_type": "stream",
     "text": [
      "Platform:  GPU  ready\n",
      "All parallel systems have the same forces as the reference System\n"
     ]
    },
    {
     "name": "stderr",
     "output_type": "stream",
     "text": [
      "100%|██████████| 1/1 [00:01<00:00,  1.71s/it]\n"
     ]
    },
    {
     "name": "stdout",
     "output_type": "stream",
     "text": [
      "CPU times: user 34.3 s, sys: 3.55 s, total: 37.9 s\n",
      "Wall time: 7.72 s\n"
     ]
    }
   ],
   "source": [
    "%%time\n",
    "\n",
    "from GNNImplicitSolvent import minimize_mol, calculate_entropy\n",
    "from rdkit import Chem\n",
    "from rdkit.Chem import AllChem\n",
    "\n",
    "mol = Chem.MolFromSmiles(inp_smiles)\n",
    "mol = Chem.AddHs(mol)\n",
    "AllChem.EmbedMultipleConfs(mol, numConfs=num_conf, useExpTorsionAnglePrefs = False)\n",
    "\n",
    "minimized_mol, energies = minimize_mol(mol,Solvent)\n",
    "#entropies, free_energies = calculate_entropy(minimized_mol,Solvent)"
   ]
  },
  {
   "cell_type": "code",
   "execution_count": null,
   "id": "b97caacf",
   "metadata": {
    "execution": {
     "iopub.execute_input": "2025-08-18T04:29:20.030638Z",
     "iopub.status.busy": "2025-08-18T04:29:20.030361Z",
     "iopub.status.idle": "2025-08-18T04:29:20.032724Z",
     "shell.execute_reply": "2025-08-18T04:29:20.032535Z"
    },
    "papermill": {
     "duration": 0.013369,
     "end_time": "2025-08-18T04:29:20.033068",
     "exception": false,
     "start_time": "2025-08-18T04:29:20.019699",
     "status": "completed"
    },
    "tags": []
   },
   "outputs": [],
   "source": [
    "import csv\n",
    "# Convert to kcal/mol\n",
    "energies_kcal = [e / 4.184 for e in energies]\n",
    "\n",
    "# Save to CSV\n",
    "with open('opt_conf_energies.csv', 'w', newline='') as file:\n",
    "    writer = csv.writer(file)\n",
    "    writer.writerow(['conformer_id', 'energy_in_kcalpermol'])  # Header\n",
    "    for i, energy in enumerate(energies_kcal):\n",
    "        writer.writerow([i, energy])\n",
    "\n"
   ]
  },
  {
   "cell_type": "code",
   "execution_count": null,
   "id": "d5a34a10",
   "metadata": {
    "execution": {
     "iopub.execute_input": "2025-08-18T04:29:20.036451Z",
     "iopub.status.busy": "2025-08-18T04:29:20.036277Z",
     "iopub.status.idle": "2025-08-18T04:29:20.044999Z",
     "shell.execute_reply": "2025-08-18T04:29:20.044818Z"
    },
    "papermill": {
     "duration": 0.010817,
     "end_time": "2025-08-18T04:29:20.045408",
     "exception": false,
     "start_time": "2025-08-18T04:29:20.034591",
     "status": "completed"
    },
    "tags": []
   },
   "outputs": [
    {
     "data": {
      "text/plain": [
       "<function Simulation.helper_functions.minimize_mol(mol, solvent, model_path='/opt/conda/envs/GNNImplicitSolvent/lib/python3.10/site-packages/MachineLearning/trained_models/GNN.pt', solvent_dict={'tip3p': {'SMILES': 'O', 'MW': 18, 'density': 1.0, 'dielectric': 78.5, 'solvent_id': 0, 'nice_name': 'TIP3P'}, 'Chloroform': {'SMILES': 'ClC(Cl)Cl', 'MW': 119.38, 'density': 1.49, 'dielectric': 4.81, 'solvent_id': 1, 'nice_name': 'Chloroform'}, 'Methanol': {'SMILES': 'CO', 'MW': 32.04, 'density': 0.792, 'dielectric': 33.0, 'solvent_id': 2, 'nice_name': 'Methanol'}, 'DMSO': {'SMILES': 'CS(=O)C', 'MW': 78.13, 'density': 1.1, 'dielectric': 47.24, 'solvent_id': 3, 'nice_name': 'DMSO'}, 'DMPU': {'SMILES': 'O=C1N(C)CCCN1C', 'MW': 128.175, 'density': 1.06, 'dielectric': 36.12, 'solvent_id': 4, 'nice_name': 'DMPU'}, 'Diethylether': {'SMILES': 'CCOCC', 'MW': 74.123, 'density': 0.7134, 'dielectric': 4.27, 'solvent_id': 5, 'nice_name': 'Diethyl Ether'}, 'Ethanol': {'SMILES': 'OCC', 'MW': 46.069, 'density': 0.78945, 'dielectric': 25.3, 'solvent_id': 6, 'nice_name': 'Ethanol'}, 'DMF': {'SMILES': 'CN(C)C=O', 'MW': 73.095, 'density': 0.948, 'dielectric': 38.25, 'solvent_id': 7, 'nice_name': 'DMF'}, 'DCM': {'SMILES': 'ClCCl', 'MW': 84.93, 'density': 1.3266, 'dielectric': 8.93, 'solvent_id': 8, 'nice_name': 'DCM'}, 'Toluol': {'SMILES': 'Cc1ccccc1', 'MW': 92.141, 'density': 0.8623, 'dielectric': 2.38, 'solvent_id': 9, 'nice_name': 'Toluene'}, 'Benzol': {'SMILES': 'c1ccccc1', 'MW': 78.114, 'density': 0.8765, 'dielectric': 2.28, 'solvent_id': 10, 'nice_name': 'Benzene'}, 'Hexan': {'SMILES': 'CCCCCC', 'MW': 86.178, 'density': 0.6606, 'dielectric': 1.88, 'solvent_id': 11, 'nice_name': 'Hexane'}, 'acetonitrile': {'SMILES': 'CC#N', 'MW': 41.053, 'density': 0.786, 'dielectric': 36.64, 'solvent_id': 12, 'nice_name': 'Acetonitrile'}, 'acetone': {'SMILES': 'CC(=O)C', 'MW': 58.08, 'density': 0.7845, 'dielectric': 21.01, 'solvent_id': 13, 'nice_name': 'Acetone'}, 'aceticacid': {'SMILES': 'CC(O)=O', 'MW': 60.052, 'density': 1.049, 'dielectric': 6.2, 'solvent_id': 14, 'nice_name': 'Acetic Acid'}, '14dioxane': {'SMILES': 'O1CCOCC1', 'MW': 88.106, 'density': 1.033, 'dielectric': 2.22, 'solvent_id': 15, 'nice_name': '1,4-Dioxane'}, 'nitrobenzol': {'SMILES': 'c1ccc(cc1)[N+](=O)[O-]', 'MW': 123.11, 'density': 1.199, 'dielectric': 35.6, 'solvent_id': 16, 'nice_name': 'Nitrobenzene'}, 'HMPA': {'SMILES': 'O=P(N(C)C)(N(C)C)N(C)C', 'MW': 179.2, 'density': 1.03, 'dielectric': 29.6, 'solvent_id': 17, 'nice_name': 'HMPA'}, 'MTBE': {'SMILES': 'O(C(C)(C)C)C', 'MW': 88.15, 'density': 0.7404, 'dielectric': 4.5, 'solvent_id': 18, 'nice_name': 'MTBE'}, 'IPA': {'SMILES': 'CC(O)C', 'MW': 60.096, 'density': 0.786, 'dielectric': 20.18, 'solvent_id': 19, 'nice_name': 'IPA'}, 'Hexafluorobenzene': {'SMILES': 'Fc1c(F)c(F)c(F)c(F)c1F', 'MW': 186.056, 'density': 2.03, 'dielectric': 2.03, 'solvent_id': 20, 'nice_name': 'Hexafluorobenzene'}, 'pyridine': {'SMILES': 'c1ccncc1', 'MW': 79.102, 'density': 0.9819, 'dielectric': 13.26, 'solvent_id': 21, 'nice_name': 'Pyridine'}, 'THF': {'SMILES': 'C1CCOC1', 'MW': 72.107, 'density': 0.8876, 'dielectric': 7.52, 'solvent_id': 22, 'nice_name': 'THF'}, 'Ethylacetate': {'SMILES': 'O=C(OCC)C', 'MW': 88.106, 'density': 0.902, 'dielectric': 6.2, 'solvent_id': 23, 'nice_name': 'Ethyl Acetate'}, 'Sulfolane': {'SMILES': 'C1CCS(=O)(=O)C1', 'MW': 120.17, 'density': 1.261, 'dielectric': 43.3, 'solvent_id': 24, 'nice_name': 'Sulfolane'}, 'nitromethane': {'SMILES': 'C[N+](=O)[O-]', 'MW': 61.04, 'density': 1.1371, 'dielectric': 37.27, 'solvent_id': 25, 'nice_name': 'Nitromethane'}, 'Butylformate': {'SMILES': 'CC(C)(C)OC=O', 'MW': 102.133, 'density': 0.872, 'dielectric': 6.1, 'solvent_id': 26, 'nice_name': 'Butyl Formate'}, 'NMP': {'SMILES': 'CN1CCCC1=O', 'MW': 99.133, 'density': 1.028, 'dielectric': 32.55, 'solvent_id': 27, 'nice_name': 'NMP'}, 'Octanol': {'SMILES': 'CCCCCCCCO', 'MW': 130.231, 'density': 0.83, 'dielectric': 10.3, 'solvent_id': 28, 'nice_name': 'Octanol'}, 'cyclohexane': {'SMILES': 'C1CCCCC1', 'MW': 84.162, 'density': 0.7739, 'dielectric': 2.024, 'solvent_id': 29, 'nice_name': 'Cyclohexane'}, 'glycerin': {'SMILES': 'OCC(O)CO', 'MW': 92.094, 'density': 1.261, 'dielectric': 46.53, 'solvent_id': 30, 'nice_name': 'Glycerin'}, 'carbontetrachloride': {'SMILES': 'ClC(Cl)(Cl)Cl', 'MW': 153.81, 'density': 1.5867, 'dielectric': 2.24, 'solvent_id': 31, 'nice_name': 'Carbon Tetrachloride'}, 'DME': {'SMILES': 'COCCOC', 'MW': 90.122, 'density': 0.8683, 'dielectric': 7.3, 'solvent_id': 32, 'nice_name': 'DME'}, '2Nitropropane': {'SMILES': 'CC(C)[N+](=O)[O-]', 'MW': 89.094, 'density': 0.9821, 'dielectric': 26.74, 'solvent_id': 33, 'nice_name': '2-Nitropropane'}, 'Trifluorotoluene': {'SMILES': 'C1=CC=C(C=C1)C(F)(F)F', 'MW': 146.11, 'density': 1.19, 'dielectric': 9.22, 'solvent_id': 34, 'nice_name': 'Trifluorotoluene'}, 'hexafluroacetone': {'SMILES': 'FC(F)(F)C(=O)C(F)(F)F', 'MW': 166.02, 'density': 1.32, 'dielectric': 2.104, 'solvent_id': 35, 'nice_name': 'Hexafluoroacetone'}, 'Propionitrile': {'SMILES': 'CCC#N', 'MW': 55.08, 'density': 0.772, 'dielectric': 29.7, 'solvent_id': 36, 'nice_name': 'Propionitrile'}, 'Benzonitrile': {'SMILES': 'N#Cc1ccccc1', 'MW': 103.12, 'density': 1.0, 'dielectric': 25.9, 'solvent_id': 37, 'nice_name': 'Benzonitrile'}, 'oxylol': {'SMILES': 'CC1=C(C)C=CC=C1', 'MW': 106.168, 'density': 0.88, 'dielectric': 2.56, 'solvent_id': 38, 'nice_name': 'Oxylol'}}, return_traj=False, tolerance=0.0001, max_iterations=0, gnn_sim=None, return_gnn_sim=False, strides=1, cache='/tmp/tmp2hdhgcdf/tmp.cache', save_name=None, partial_charges=None, forcefield='openff-2.0.0', constraints=HBonds)>"
      ]
     },
     "execution_count": 14,
     "metadata": {},
     "output_type": "execute_result"
    }
   ],
   "source": [
    "def save_conformers_to_sdf(mol: Chem.Mol, filename: str) -> None:\n",
    "    \"\"\"Save a molecule with multiple conformers to an SDF file.\n",
    "\n",
    "    Args:\n",
    "        mol (Chem.Mol): The molecule containing multiple conformers.\n",
    "        filename (str): The name of the output SDF file.\n",
    "    \"\"\"\n",
    "    writer = Chem.SDWriter(filename)\n",
    "    \n",
    "    for conf_id in range(mol.GetNumConformers()):\n",
    "        mol.SetProp(\"_Name\", f\"conformer_{conf_id}\")\n",
    "        writer.write(mol, confId=conf_id)\n",
    "    \n",
    "    writer.close()\n",
    "\n",
    "opt_conf_sdf=\"optimized_generated_conformers.sdf\"\n",
    "save_conformers_to_sdf(minimized_mol,opt_conf_sdf)\n",
    "\n"
   ]
  },
  {
   "cell_type": "code",
   "execution_count": null,
   "id": "99411fa1",
   "metadata": {},
   "outputs": [],
   "source": []
  }
 ],
 "metadata": {
  "kernelspec": {
   "display_name": "GNNImplicitSolvent",
   "language": "python",
   "name": "gnnimplicitsolvent"
  },
  "language_info": {
   "codemirror_mode": {
    "name": "ipython",
    "version": 3
   },
   "file_extension": ".py",
   "mimetype": "text/x-python",
   "name": "python",
   "nbconvert_exporter": "python",
   "pygments_lexer": "ipython3",
   "version": "3.10.17"
  },
  "papermill": {
   "default_parameters": {},
   "duration": 10.314573,
   "end_time": "2025-08-18T04:29:20.863573",
   "environment_variables": {},
   "exception": null,
   "input_path": "full_pipeline_pka_gnnis-1.ipynb",
   "output_path": "full_pipeline_pka_gnnis-1_output.ipynb",
   "parameters": {
    "Solvent": "DMSO",
    "inp_smiles": "NC(N)=O",
    "num_conf": 10,
    "output_dir": "M2"
   },
   "start_time": "2025-08-18T04:29:10.549000",
   "version": "2.6.0"
  },
  "widgets": {
   "application/vnd.jupyter.widget-state+json": {
    "state": {
     "4118d1808ae54b889011ab0a779313f2": {
      "model_module": "@jupyter-widgets/base",
      "model_module_version": "2.0.0",
      "model_name": "LayoutModel",
      "state": {
       "_model_module": "@jupyter-widgets/base",
       "_model_module_version": "2.0.0",
       "_model_name": "LayoutModel",
       "_view_count": null,
       "_view_module": "@jupyter-widgets/base",
       "_view_module_version": "2.0.0",
       "_view_name": "LayoutView",
       "align_content": null,
       "align_items": null,
       "align_self": null,
       "border_bottom": null,
       "border_left": null,
       "border_right": null,
       "border_top": null,
       "bottom": null,
       "display": null,
       "flex": null,
       "flex_flow": null,
       "grid_area": null,
       "grid_auto_columns": null,
       "grid_auto_flow": null,
       "grid_auto_rows": null,
       "grid_column": null,
       "grid_gap": null,
       "grid_row": null,
       "grid_template_areas": null,
       "grid_template_columns": null,
       "grid_template_rows": null,
       "height": null,
       "justify_content": null,
       "justify_items": null,
       "left": null,
       "margin": null,
       "max_height": null,
       "max_width": null,
       "min_height": null,
       "min_width": null,
       "object_fit": null,
       "object_position": null,
       "order": null,
       "overflow": null,
       "padding": null,
       "right": null,
       "top": null,
       "visibility": null,
       "width": null
      }
     },
     "5b6c99eb706a4eac930fb930f5aa89c2": {
      "model_module": "nglview-js-widgets",
      "model_module_version": "3.1.4",
      "model_name": "ColormakerRegistryModel",
      "state": {
       "_dom_classes": [],
       "_model_module": "nglview-js-widgets",
       "_model_module_version": "3.1.4",
       "_model_name": "ColormakerRegistryModel",
       "_msg_ar": [],
       "_msg_q": [],
       "_ready": false,
       "_view_count": null,
       "_view_module": "nglview-js-widgets",
       "_view_module_version": "3.1.4",
       "_view_name": "ColormakerRegistryView",
       "layout": "IPY_MODEL_4118d1808ae54b889011ab0a779313f2",
       "tabbable": null,
       "tooltip": null
      }
     }
    },
    "version_major": 2,
    "version_minor": 0
   }
  }
 },
 "nbformat": 4,
 "nbformat_minor": 5
}
