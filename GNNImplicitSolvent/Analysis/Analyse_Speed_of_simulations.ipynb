{
 "cells": [
  {
   "cell_type": "code",
   "execution_count": 1,
   "metadata": {},
   "outputs": [],
   "source": [
    "import matplotlib.pyplot as plt\n",
    "import numpy as np"
   ]
  },
  {
   "cell_type": "code",
   "execution_count": 9,
   "metadata": {},
   "outputs": [
    {
     "data": {
      "text/plain": [
       "array([13, 16, 19, 22, 25])"
      ]
     },
     "execution_count": 9,
     "metadata": {},
     "output_type": "execute_result"
    }
   ],
   "source": [
    "num_atoms"
   ]
  },
  {
   "cell_type": "code",
   "execution_count": 11,
   "metadata": {},
   "outputs": [
    {
     "data": {
      "text/plain": [
       "(517.5, 704.6)"
      ]
     },
     "execution_count": 11,
     "metadata": {},
     "output_type": "execute_result"
    }
   ],
   "source": [
    "25*20.7,13*54.2"
   ]
  },
  {
   "cell_type": "code",
   "execution_count": 25,
   "metadata": {},
   "outputs": [
    {
     "data": {
      "text/plain": [
       "array([1594.09594096, 2076.92307692, 2769.23076923, 3428.57142857,\n",
       "       4173.91304348, 4937.14285714, 5684.21052632])"
      ]
     },
     "execution_count": 25,
     "metadata": {},
     "output_type": "execute_result"
    }
   ],
   "source": [
    "# ns per day to s per ns\n",
    "s_per_day = (24*60*60)\n"
   ]
  },
  {
   "cell_type": "code",
   "execution_count": 97,
   "metadata": {},
   "outputs": [
    {
     "data": {
      "text/plain": [
       "<matplotlib.collections.PathCollection at 0x7015d33d2fe0>"
      ]
     },
     "execution_count": 97,
     "metadata": {},
     "output_type": "execute_result"
    },
    {
     "data": {
      "image/png": "[encoded data removed]",
      "text/plain": [
       "<Figure size 640x480 with 1 Axes>"
      ]
     },
     "metadata": {},
     "output_type": "display_data"
    }
   ],
   "source": [
    "speeds = np.array([54.2,41.6,31.2,25.2,20.7,17.5,15.2,13.3,11.8,10.7,9.72,8.89]) * 500\n",
    "num_atoms = np.array([13 + 3*i for i in range(len(speeds))])\n",
    "\n",
    "plt.scatter(num_atoms, speeds)"
   ]
  },
  {
   "cell_type": "code",
   "execution_count": 165,
   "metadata": {},
   "outputs": [
    {
     "data": {
      "text/plain": [
       "97"
      ]
     },
     "execution_count": 165,
     "metadata": {},
     "output_type": "execute_result"
    }
   ],
   "source": [
    "len(\"COCCCCCCCCCCCCCCCCCCCCCCCCCCCCCCO\") - 5\n",
    "\n",
    "from rdkit import Chem\n",
    "\n",
    "mol = Chem.MolFromSmiles(\"COCCCCCCCCCCCCCCCCCCCCCCCCCCCCCCO\")\n",
    "mol = Chem.AddHs(mol)\n",
    "mol.GetNumAtoms()"
   ]
  },
  {
   "cell_type": "code",
   "execution_count": 336,
   "metadata": {},
   "outputs": [
    {
     "data": {
      "text/plain": [
       "48"
      ]
     },
     "execution_count": 336,
     "metadata": {},
     "output_type": "execute_result"
    }
   ],
   "source": [
    "len(\"COCCCCCCCCCCCCCCCCCCCCCCCCCCCCCCCCCCCCCCCCCCCCCCCCCCO\") - 5\n"
   ]
  },
  {
   "cell_type": "code",
   "execution_count": 338,
   "metadata": {},
   "outputs": [
    {
     "data": {
      "text/plain": [
       "748.803632568003"
      ]
     },
     "execution_count": 338,
     "metadata": {},
     "output_type": "execute_result"
    }
   ],
   "source": [
    "mol = Chem.MolFromSmiles(\"COCCCCCCCCCCCCCCCCCCCCCCCCCCCCCCCCCCCCCCCCCCCCCCCCCCO\")\n",
    "mol = Chem.AddHs(mol)\n",
    "ExactMolWt(mol)"
   ]
  },
  {
   "cell_type": "code",
   "execution_count": 325,
   "metadata": {},
   "outputs": [],
   "source": [
    "from rdkit.Chem.Descriptors import ExactMolWt"
   ]
  },
  {
   "cell_type": "code",
   "execution_count": 335,
   "metadata": {},
   "outputs": [
    {
     "data": {
      "text/plain": [
       "<matplotlib.collections.PathCollection at 0x7015cc8e66b0>"
      ]
     },
     "execution_count": 335,
     "metadata": {},
     "output_type": "execute_result"
    },
    {
     "data": {
      "image/png": "[encoded data removed]",
      "text/plain": [
       "<Figure size 640x480 with 1 Axes>"
      ]
     },
     "metadata": {},
     "output_type": "display_data"
    }
   ],
   "source": [
    "speeds = [54.2,41.6,31.2,25.2,20.7,17.5,15.2,13.3,11.8,10.7,9.72,8.89]\n",
    "num_atoms = [13 + 3*i for i in range(len(speeds))]\n",
    "\n",
    "\n",
    "speeds += [5.41,3.27,11.8/5,9.81/5]\n",
    "num_atoms += [13 + 3*18,13 + 3*28,13 + 3*38, 13+3*48]\n",
    "\n",
    "speeds = np.array(speeds) * 500\n",
    "num_atoms = np.array(num_atoms)\n",
    "\n",
    "plt.scatter(num_atoms, speeds)"
   ]
  },
  {
   "cell_type": "code",
   "execution_count": 363,
   "metadata": {},
   "outputs": [
    {
     "data": {
      "text/plain": [
       "'for smiles in COCCO COCCCO COCCCCO COCCCCCO COCCCCCCO COCCCCCCCO COCCCCCCCCO COCCCCCCCCCO COCCCCCCCCCCO COCCCCCCCCCCCO COCCCCCCCCCCCCO COCCCCCCCCCCCCCO COCCCCCCCCCCCCCCCCCCCCO COCCCCCCCCCCCCCCCCCCCCCCCCCCCCCCO COCCCCCCCCCCCCCCCCCCCCCCCCCCCCCCCCCCCCCCCCO COCCCCCCCCCCCCCCCCCCCCCCCCCCCCCCCCCCCCCCCCCCCCCCCCCCO ; do python run_gnn_multisolvent_simulation.py --smiles $smiles -ns 0.01 -nr 1 -a Speed_benchmark -mfile ../MachineLearning/trained_models/ProductionRun_seed_1612_49_ckpt.pt -sn tip3p; done'"
      ]
     },
     "execution_count": 363,
     "metadata": {},
     "output_type": "execute_result"
    }
   ],
   "source": [
    "loop = \"for smiles in \"\n",
    "for i in (num_atoms -13)/3:\n",
    "    loop += \"COCC\" + \"C\"*int(i) + \"O \"\n",
    "loop += \"; do python run_gnn_multisolvent_simulation.py --smiles $smiles -ns 0.01 -nr 1 -a Speed_benchmark -mfile ../MachineLearning/trained_models/ProductionRun_seed_1612_49_ckpt.pt -sn tip3p; done\"\n",
    "loop"
   ]
  },
  {
   "cell_type": "code",
   "execution_count": 367,
   "metadata": {},
   "outputs": [
    {
     "data": {
      "text/plain": [
       "'for smiles in COCCO COCCCO COCCCCO COCCCCCO COCCCCCCO COCCCCCCCO COCCCCCCCCO COCCCCCCCCCO COCCCCCCCCCCO COCCCCCCCCCCCO COCCCCCCCCCCCCO COCCCCCCCCCCCCCO COCCCCCCCCCCCCCCCCCCCCO COCCCCCCCCCCCCCCCCCCCCCCCCCCCCCCO COCCCCCCCCCCCCCCCCCCCCCCCCCCCCCCCCCCCCCCCCO COCCCCCCCCCCCCCCCCCCCCCCCCCCCCCCCCCCCCCCCCCCCCCCCCCCO ; do tail ${smiles}_in_v_multi_1_Speed_benchmark/${smiles}_in_v_openff200_vacuum_plus_GNN3_vap_0_0_log.txt; done'"
      ]
     },
     "execution_count": 367,
     "metadata": {},
     "output_type": "execute_result"
    }
   ],
   "source": [
    "loop = \"for smiles in \"\n",
    "for i in (num_atoms -13)/3:\n",
    "    loop += \"COCC\" + \"C\"*int(i) + \"O \"\n",
    "loop += \"; do tail ${smiles}_in_v_multi_1_Speed_benchmark/${smiles}_in_v_openff200_vacuum_plus_GNN3_vap_0_0_log.txt; done\"\n",
    "loop"
   ]
  },
  {
   "cell_type": "code",
   "execution_count": 330,
   "metadata": {},
   "outputs": [
    {
     "data": {
      "text/plain": [
       "array([27100., 20800., 15600., 12600., 10350.,  8750.,  7600.,  6650.,\n",
       "        5900.,  5350.,  4860.,  4445.,  2705.,  1635.,  1180.,   981.])"
      ]
     },
     "execution_count": 330,
     "metadata": {},
     "output_type": "execute_result"
    }
   ],
   "source": [
    "speeds"
   ]
  },
  {
   "cell_type": "code",
   "execution_count": 331,
   "metadata": {},
   "outputs": [
    {
     "data": {
      "text/plain": [
       "array([2.56494936, 2.77258872, 2.94443898, 3.09104245, 3.21887582,\n",
       "       3.33220451, 3.4339872 , 3.52636052, 3.61091791, 3.68887945,\n",
       "       3.76120012, 3.8286414 , 4.20469262, 4.57471098, 4.84418709,\n",
       "       5.05624581])"
      ]
     },
     "execution_count": 331,
     "metadata": {},
     "output_type": "execute_result"
    }
   ],
   "source": [
    "np.log(num_atoms)"
   ]
  },
  {
   "cell_type": "code",
   "execution_count": 332,
   "metadata": {},
   "outputs": [
    {
     "data": {
      "text/plain": [
       "array([ 13,  16,  19,  22,  25,  28,  31,  34,  37,  40,  43,  46,  67,\n",
       "        97, 127, 157])"
      ]
     },
     "execution_count": 332,
     "metadata": {},
     "output_type": "execute_result"
    }
   ],
   "source": [
    "num_atoms"
   ]
  },
  {
   "cell_type": "code",
   "execution_count": 333,
   "metadata": {},
   "outputs": [
    {
     "data": {
      "text/plain": [
       "array([27100., 20800., 15600., 12600., 10350.,  8750.,  7600.,  6650.,\n",
       "        5900.,  5350.,  4860.,  4445.,  2705.,  1635.,  1180.,   981.])"
      ]
     },
     "execution_count": 333,
     "metadata": {},
     "output_type": "execute_result"
    }
   ],
   "source": [
    "speeds"
   ]
  },
  {
   "cell_type": "code",
   "execution_count": 350,
   "metadata": {},
   "outputs": [],
   "source": [
    "plot_folder = \"/fileserver/birch/birch1/kpaul/pine8/multi_solvent_pub/manuscript/Plots/\""
   ]
  },
  {
   "cell_type": "code",
   "execution_count": 353,
   "metadata": {},
   "outputs": [
    {
     "name": "stderr",
     "output_type": "stream",
     "text": [
      "/tmp/ipykernel_3499163/104391545.py:14: RuntimeWarning: divide by zero encountered in log\n",
      "  return a*x*np.log(x) + b\n",
      "/tmp/ipykernel_3499163/104391545.py:14: RuntimeWarning: invalid value encountered in multiply\n",
      "  return a*x*np.log(x) + b\n",
      "/tmp/ipykernel_3499163/104391545.py:35: RuntimeWarning: divide by zero encountered in log\n",
      "  nln_scal = x_scal * np.log(x_scal)\n",
      "/tmp/ipykernel_3499163/104391545.py:35: RuntimeWarning: invalid value encountered in multiply\n",
      "  nln_scal = x_scal * np.log(x_scal)\n"
     ]
    },
    {
     "data": {
      "image/png": "[encoded data removed]",
      "text/plain": [
       "<Figure size 640x480 with 1 Axes>"
      ]
     },
     "metadata": {},
     "output_type": "display_data"
    }
   ],
   "source": [
    "plt.scatter(num_atoms, s_per_day/speeds,marker=\"o\",s=50,c=\"black\")\n",
    "\n",
    "x_scal = np.arange(0,200,0.1)\n",
    "\n",
    "\n",
    "# Fit Curves\n",
    "def linear(x, a, b):\n",
    "    return a*x + b\n",
    "\n",
    "def quadratic(x, a, b):\n",
    "    return a*x**2 + b\n",
    "\n",
    "def nlogn(x, a, b):\n",
    "    return a*x*np.log(x) + b\n",
    "\n",
    "def power(x, a, b,d):\n",
    "    return a*x**b+d\n",
    "\n",
    "from scipy.optimize import curve_fit\n",
    "\n",
    "# popt, pcov = curve_fit(linear, num_atoms, s_per_day/speeds)\n",
    "# plt.plot(x_scal, linear(x_scal, *popt))\n",
    "\n",
    "# popt, pcov = curve_fit(quadratic, num_atoms, s_per_day/speeds)\n",
    "# plt.plot(x_scal, quadratic(x_scal, *popt))\n",
    "\n",
    "# popt, pcov = curve_fit(power, num_atoms, s_per_day/speeds)\n",
    "# plt.plot(x_scal, power(x_scal, *popt))\n",
    "\n",
    "popt, pcov = curve_fit(nlogn, num_atoms, s_per_day/speeds)\n",
    "plt.plot(x_scal, nlogn(x_scal, *popt),c=\"grey\",zorder=0,linewidth=2,linestyle=\"-\")\n",
    "\n",
    "q_scal = x_scal**2\n",
    "l_scal = x_scal\n",
    "nln_scal = x_scal * np.log(x_scal)\n",
    "\n",
    "plt.ylim(0, 100)\n",
    "plt.xlim(10, 160)\n",
    "\n",
    "plt.ylabel(\"Time needed to simulate one cummulative ns [s]\")\n",
    "plt.xlabel(\"Number of Atoms\")\n",
    "plt.savefig(f\"{plot_folder}/scaling.pdf\",bbox_inches=\"tight\")"
   ]
  },
  {
   "cell_type": "markdown",
   "metadata": {},
   "source": [
    "### Sinlge Compound Simulation Speed"
   ]
  },
  {
   "cell_type": "code",
   "execution_count": 378,
   "metadata": {},
   "outputs": [
    {
     "data": {
      "text/plain": [
       "array([68.1, 73.5, 71.7, 68.1, 70.8, 62.9, 59.2, 66.7, 66.7, 71.1, 72.7,\n",
       "       66.9, 70.1, 68.6, 65.3, 63.3])"
      ]
     },
     "execution_count": 378,
     "metadata": {},
     "output_type": "execute_result"
    }
   ],
   "source": [
    "simulation_speed_single_system = np.array([681,735,717,681,708,629,592,667,667,711,727,669,701,686,653,633]) /10\n",
    "simulation_speed_single_system"
   ]
  },
  {
   "cell_type": "code",
   "execution_count": 382,
   "metadata": {},
   "outputs": [
    {
     "name": "stderr",
     "output_type": "stream",
     "text": [
      "/tmp/ipykernel_3499163/2977452194.py:43: RuntimeWarning: divide by zero encountered in log\n",
      "  nln_scal = x_scal * np.log(x_scal)\n",
      "/tmp/ipykernel_3499163/2977452194.py:43: RuntimeWarning: invalid value encountered in multiply\n",
      "  nln_scal = x_scal * np.log(x_scal)\n"
     ]
    },
    {
     "data": {
      "image/png": "[encoded data removed]",
      "text/plain": [
       "<Figure size 640x480 with 1 Axes>"
      ]
     },
     "metadata": {},
     "output_type": "display_data"
    }
   ],
   "source": [
    "plt.scatter(num_atoms, s_per_day/simulation_speed_single_system,marker=\"o\",s=50,c=\"black\")\n",
    "\n",
    "x_scal = np.arange(0,200,0.1)\n",
    "\n",
    "\n",
    "# Fit Curves\n",
    "def linear(x, a, b):\n",
    "    return a*x + b\n",
    "\n",
    "def quadratic(x, a, b):\n",
    "    return a*x**2 + b\n",
    "\n",
    "def nlogn(x, a, b):\n",
    "    return a*x*np.log(x) + b\n",
    "\n",
    "def power(x, a, b,d):\n",
    "    return a*x**b+d\n",
    "\n",
    "def constant(x, a):\n",
    "    return a + 0*x\n",
    "\n",
    "from scipy.optimize import curve_fit\n",
    "\n",
    "# popt, pcov = curve_fit(linear, num_atoms, s_per_day/speeds)\n",
    "# plt.plot(x_scal, linear(x_scal, *popt))\n",
    "\n",
    "# popt, pcov = curve_fit(quadratic, num_atoms, s_per_day/speeds)\n",
    "# plt.plot(x_scal, quadratic(x_scal, *popt))\n",
    "\n",
    "# popt, pcov = curve_fit(power, num_atoms, s_per_day/speeds)\n",
    "# plt.plot(x_scal, power(x_scal, *popt))\n",
    "\n",
    "# popt, pcov = curve_fit(nlogn, num_atoms, s_per_day/simulation_speed_single_system)\n",
    "# plt.plot(x_scal, nlogn(x_scal, *popt),c=\"grey\",zorder=0,linewidth=2,linestyle=\"-\")\n",
    "\n",
    "popt, pcov = curve_fit(constant, num_atoms, s_per_day/simulation_speed_single_system)\n",
    "plt.plot(x_scal, constant(x_scal, *popt),c=\"grey\",zorder=0,linewidth=2,linestyle=\"-\")\n",
    "\n",
    "\n",
    "\n",
    "q_scal = x_scal**2\n",
    "l_scal = x_scal\n",
    "nln_scal = x_scal * np.log(x_scal)\n",
    "\n",
    "plt.ylim(0, 2000)\n",
    "plt.xlim(10, 160)\n",
    "\n",
    "plt.ylabel(\"Time needed to simulate one cummulative ns [s]\")\n",
    "plt.xlabel(\"Number of Atoms\")\n",
    "plt.savefig(f\"{plot_folder}/scaling_single.pdf\",bbox_inches=\"tight\")"
   ]
  },
  {
   "cell_type": "code",
   "execution_count": 380,
   "metadata": {},
   "outputs": [
    {
     "data": {
      "text/plain": [
       "array([1277.3285343])"
      ]
     },
     "execution_count": 380,
     "metadata": {},
     "output_type": "execute_result"
    }
   ],
   "source": [
    "popt"
   ]
  },
  {
   "cell_type": "code",
   "execution_count": 365,
   "metadata": {},
   "outputs": [
    {
     "data": {
      "text/plain": [
       "1200.0"
      ]
     },
     "execution_count": 365,
     "metadata": {},
     "output_type": "execute_result"
    }
   ],
   "source": [
    "s_per_day/72"
   ]
  },
  {
   "cell_type": "code",
   "execution_count": 346,
   "metadata": {},
   "outputs": [
    {
     "data": {
      "text/plain": [
       "array([[ 2.19088570e-06, -4.59440768e-04],\n",
       "       [-4.59440768e-04,  1.96282348e-01]])"
      ]
     },
     "execution_count": 346,
     "metadata": {},
     "output_type": "execute_result"
    }
   ],
   "source": [
    "pcov"
   ]
  },
  {
   "cell_type": "code",
   "execution_count": 280,
   "metadata": {},
   "outputs": [
    {
     "data": {
      "text/plain": [
       "468.4906312880018"
      ]
     },
     "execution_count": 280,
     "metadata": {},
     "output_type": "execute_result"
    }
   ],
   "source": [
    "Chem.MolFromSmiles(\"COCCCCCCCCCCCCCCCCCCCCCCCCCCCCCCO\")\n",
    "mol = Chem.AddHs(mol)\n",
    "from rdkit.Chem import AllChem\n",
    "AllChem.EmbedMolecule(mol)\n",
    "import nglview\n",
    "\n",
    "view = nglview.show_rdkit(mol)\n",
    "view\n",
    "\n",
    "# Get molecular weight\n",
    "ExactMolWt(mol)"
   ]
  },
  {
   "cell_type": "code",
   "execution_count": 20,
   "metadata": {},
   "outputs": [
    {
     "data": {
      "text/plain": [
       "20"
      ]
     },
     "execution_count": 20,
     "metadata": {},
     "output_type": "execute_result"
    }
   ],
   "source": [
    "len(\"CCCCCCCCCCCCCCCCCCCC\")"
   ]
  },
  {
   "cell_type": "code",
   "execution_count": 26,
   "metadata": {},
   "outputs": [
    {
     "data": {
      "text/plain": [
       "(<rdkit.Chem.rdchem.Mol at 0x7fa788fe4ba0>,\n",
       " <rdkit.Chem.rdchem.Mol at 0x7fa788fe42e0>)"
      ]
     },
     "execution_count": 26,
     "metadata": {},
     "output_type": "execute_result"
    }
   ],
   "source": [
    "from rdkit import Chem\n",
    "import rdkit\n",
    "mol = Chem.MolFromSmiles(\"CC.CC\")\n",
    "rdkit.Chem.rdmolops.GetMolFrags(mol,sanitizeFrags=False,asMols=True)"
   ]
  },
  {
   "cell_type": "code",
   "execution_count": 29,
   "metadata": {},
   "outputs": [
    {
     "name": "stdout",
     "output_type": "stream",
     "text": [
      "Using OpenFF forcefield: openff-2.0.0\n",
      "using rdkit molecule\n",
      "setting charges based on AM1BCC\n",
      "Using OpenFF forcefield: openff-2.0.0\n",
      "using rdkit molecule\n",
      "setting charges based on AM1BCC\n",
      "Using OpenFF forcefield: openff-2.0.0\n",
      "using rdkit molecule\n",
      "setting charges based on AM1BCC\n",
      "Using OpenFF forcefield: openff-2.0.0\n",
      "using rdkit molecule\n",
      "setting charges based on AM1BCC\n",
      "Platform:  GPU  ready\n",
      "Using OpenFF forcefield: openff-2.0.0\n",
      "using rdkit molecule\n",
      "setting charges based on AM1BCC\n",
      "Platform:  GPU  ready\n",
      "Platform:  GPU  ready\n",
      "Platform:  GPU  ready\n",
      "All parallel systems have the same forces as the reference System\n"
     ]
    },
    {
     "name": "stderr",
     "output_type": "stream",
     "text": [
      "100%|██████████| 1/1 [00:05<00:00,  5.30s/it]\n"
     ]
    }
   ],
   "source": [
    "from GNNImplicitSolvent import minimize_mol, calculate_entropy\n",
    "from rdkit import Chem\n",
    "from rdkit.Chem import AllChem\n",
    "\n",
    "mol = Chem.MolFromSmiles('COCCO')\n",
    "mol = Chem.AddHs(mol)\n",
    "AllChem.EmbedMultipleConfs(mol, numConfs=128)\n",
    "\n",
    "out = minimize_mol(mol,\"DMSO\",return_gnn_sim=True,return_traj=True)"
   ]
  }
 ],
 "metadata": {
  "kernelspec": {
   "display_name": "GNNImplicitSolvent",
   "language": "python",
   "name": "python3"
  },
  "language_info": {
   "codemirror_mode": {
    "name": "ipython",
    "version": 3
   },
   "file_extension": ".py",
   "mimetype": "text/x-python",
   "name": "python",
   "nbconvert_exporter": "python",
   "pygments_lexer": "ipython3",
   "version": "3.10.9"
  }
 },
 "nbformat": 4,
 "nbformat_minor": 2
}
