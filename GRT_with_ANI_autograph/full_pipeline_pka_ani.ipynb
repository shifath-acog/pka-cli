{
 "cells": [
  {
   "cell_type": "markdown",
   "id": "08cd9069",
   "metadata": {
    "papermill": {
     "duration": 0.005064,
     "end_time": "2025-08-04T11:29:32.322899",
     "exception": false,
     "start_time": "2025-08-04T11:29:32.317835",
     "status": "completed"
    },
    "tags": []
   },
   "source": [
    "# Conformer Generation Pipeline"
   ]
  },
  {
   "cell_type": "markdown",
   "id": "4971aa7f-5c76-4f35-9c81-4116d9657d34",
   "metadata": {
    "papermill": {
     "duration": 0.00501,
     "end_time": "2025-08-04T11:29:32.333043",
     "exception": false,
     "start_time": "2025-08-04T11:29:32.328033",
     "status": "completed"
    },
    "tags": []
   },
   "source": [
    "## **Step 1: Input Smile and Reference Conformer**"
   ]
  },
  {
   "cell_type": "code",
   "execution_count": null,
   "id": "5d501701-5206-48cd-b7da-e90f6caf7b03",
   "metadata": {
    "execution": {
     "iopub.execute_input": "2025-08-04T11:29:32.344722Z",
     "iopub.status.busy": "2025-08-04T11:29:32.344479Z",
     "iopub.status.idle": "2025-08-04T11:29:32.347620Z",
     "shell.execute_reply": "2025-08-04T11:29:32.347111Z"
    },
    "papermill": {
     "duration": 0.010381,
     "end_time": "2025-08-04T11:29:32.348556",
     "exception": false,
     "start_time": "2025-08-04T11:29:32.338175",
     "status": "completed"
    },
    "tags": []
   },
   "outputs": [],
   "source": [
    "import time\n",
    "\n",
    "# Capture the start time\n",
    "start_time: float = time.time()"
   ]
  },
  {
   "cell_type": "code",
   "execution_count": null,
   "id": "989c7779",
   "metadata": {
    "execution": {
     "iopub.execute_input": "2025-08-04T11:29:32.359487Z",
     "iopub.status.busy": "2025-08-04T11:29:32.359282Z",
     "iopub.status.idle": "2025-08-04T11:29:32.362000Z",
     "shell.execute_reply": "2025-08-04T11:29:32.361565Z"
    },
    "papermill": {
     "duration": 0.009262,
     "end_time": "2025-08-04T11:29:32.362918",
     "exception": false,
     "start_time": "2025-08-04T11:29:32.353656",
     "status": "completed"
    },
    "tags": []
   },
   "outputs": [],
   "source": [
    "import sys\n",
    "\n",
    "# Add a folder to Python's import path\n",
    "sys.path.append('/app')"
   ]
  },
  {
   "cell_type": "code",
   "execution_count": null,
   "id": "285a545a",
   "metadata": {
    "execution": {
     "iopub.execute_input": "2025-08-04T11:29:32.373708Z",
     "iopub.status.busy": "2025-08-04T11:29:32.373542Z",
     "iopub.status.idle": "2025-08-04T11:29:32.957863Z",
     "shell.execute_reply": "2025-08-04T11:29:32.957276Z"
    },
    "papermill": {
     "duration": 0.591303,
     "end_time": "2025-08-04T11:29:32.959317",
     "exception": false,
     "start_time": "2025-08-04T11:29:32.368014",
     "status": "completed"
    },
    "tags": []
   },
   "outputs": [],
   "source": [
    "from atk_conformer_generation_pipeline.utils import *\n",
    "from atk_conformer_generation_pipeline.variables import *\n",
    "import os\n",
    "import glob\n",
    "import re\n",
    "import subprocess\n",
    "from termcolor import colored"
   ]
  },
  {
   "cell_type": "code",
   "execution_count": null,
   "id": "93df80ed",
   "metadata": {
    "execution": {
     "iopub.execute_input": "2025-08-04T11:29:32.970960Z",
     "iopub.status.busy": "2025-08-04T11:29:32.970701Z",
     "iopub.status.idle": "2025-08-04T11:29:33.255958Z",
     "shell.execute_reply": "2025-08-04T11:29:33.255377Z"
    },
    "papermill": {
     "duration": 0.292134,
     "end_time": "2025-08-04T11:29:33.257007",
     "exception": false,
     "start_time": "2025-08-04T11:29:32.964873",
     "status": "completed"
    },
    "tags": []
   },
   "outputs": [],
   "source": [
    "#Change the dir to /work\n",
    "os.chdir(\"/work\")\n",
    "!pwd"
   ]
  },
  {
   "cell_type": "markdown",
   "id": "f55b42bf",
   "metadata": {
    "papermill": {
     "duration": 0.005151,
     "end_time": "2025-08-04T11:29:33.267501",
     "exception": false,
     "start_time": "2025-08-04T11:29:33.262350",
     "status": "completed"
    },
    "tags": []
   },
   "source": [
    "**Change the below variables accordingly**"
   ]
  },
  {
   "cell_type": "code",
   "execution_count": null,
   "id": "ac382af3-999f-448f-b2aa-9dbc8156c0e2",
   "metadata": {
    "execution": {
     "iopub.execute_input": "2025-08-04T11:29:33.278642Z",
     "iopub.status.busy": "2025-08-04T11:29:33.278414Z",
     "iopub.status.idle": "2025-08-04T11:29:33.281371Z",
     "shell.execute_reply": "2025-08-04T11:29:33.280938Z"
    },
    "papermill": {
     "duration": 0.009653,
     "end_time": "2025-08-04T11:29:33.282232",
     "exception": false,
     "start_time": "2025-08-04T11:29:33.272579",
     "status": "completed"
    },
    "tags": []
   },
   "outputs": [],
   "source": [
    "os.makedirs(output_dir, exist_ok=True)\n",
    "os.chdir(output_dir)"
   ]
  },
  {
   "cell_type": "code",
   "execution_count": null,
   "id": "f61b3690-cdda-4863-8df0-a2d88dc4055b",
   "metadata": {
    "execution": {
     "iopub.execute_input": "2025-08-04T11:29:33.293144Z",
     "iopub.status.busy": "2025-08-04T11:29:33.292973Z",
     "iopub.status.idle": "2025-08-04T11:29:33.576398Z",
     "shell.execute_reply": "2025-08-04T11:29:33.575768Z"
    },
    "papermill": {
     "duration": 0.29015,
     "end_time": "2025-08-04T11:29:33.577520",
     "exception": false,
     "start_time": "2025-08-04T11:29:33.287370",
     "status": "completed"
    },
    "tags": []
   },
   "outputs": [],
   "source": [
    "!pwd"
   ]
  },
  {
   "cell_type": "code",
   "execution_count": null,
   "id": "f4ba3694-7eed-4a2d-bc09-e0df8c6e5b6b",
   "metadata": {
    "execution": {
     "iopub.execute_input": "2025-08-04T11:29:33.588937Z",
     "iopub.status.busy": "2025-08-04T11:29:33.588711Z",
     "iopub.status.idle": "2025-08-04T11:29:33.591792Z",
     "shell.execute_reply": "2025-08-04T11:29:33.591343Z"
    },
    "papermill": {
     "duration": 0.00989,
     "end_time": "2025-08-04T11:29:33.592702",
     "exception": false,
     "start_time": "2025-08-04T11:29:33.582812",
     "status": "completed"
    },
    "tags": []
   },
   "outputs": [],
   "source": [
    "import sys\n",
    "sys.setrecursionlimit(10000)\n",
    "# set the maximum depth of the Python interpreter stack. This stack depth is crucial for recursive function calls, \n",
    "# as it limits how deep the recursion can go before causing a RecursionError."
   ]
  },
  {
   "cell_type": "markdown",
   "id": "c439e673",
   "metadata": {
    "papermill": {
     "duration": 0.005051,
     "end_time": "2025-08-04T11:29:33.602913",
     "exception": false,
     "start_time": "2025-08-04T11:29:33.597862",
     "status": "completed"
    },
    "tags": []
   },
   "source": [
    "**Importing the necessary libraries**"
   ]
  },
  {
   "cell_type": "code",
   "execution_count": null,
   "id": "61799b39",
   "metadata": {
    "execution": {
     "iopub.execute_input": "2025-08-04T11:29:33.613770Z",
     "iopub.status.busy": "2025-08-04T11:29:33.613603Z",
     "iopub.status.idle": "2025-08-04T11:29:33.939646Z",
     "shell.execute_reply": "2025-08-04T11:29:33.939085Z"
    },
    "papermill": {
     "duration": 0.332879,
     "end_time": "2025-08-04T11:29:33.940878",
     "exception": false,
     "start_time": "2025-08-04T11:29:33.607999",
     "status": "completed"
    },
    "tags": []
   },
   "outputs": [],
   "source": [
    "from rdkit import Chem\n",
    "from rdkit.Chem import AllChem\n",
    "from rdkit import DataStructs\n",
    "import shutil\n",
    "import time\n",
    "import os\n",
    "import re\n",
    "import shutil\n",
    "import pandas as pd\n",
    "import numpy as np\n",
    "from numpy import loadtxt\n",
    "import csv\n",
    "from typing import *\n",
    "import matplotlib\n",
    "import matplotlib.pyplot as plt\n",
    "import matplotlib.colors as pltc\n",
    "from matplotlib.gridspec import GridSpec"
   ]
  },
  {
   "cell_type": "code",
   "execution_count": null,
   "id": "c9a5b54a-fca1-4027-a5a4-fef355b7d869",
   "metadata": {
    "execution": {
     "iopub.execute_input": "2025-08-04T11:29:33.952472Z",
     "iopub.status.busy": "2025-08-04T11:29:33.952182Z",
     "iopub.status.idle": "2025-08-04T11:29:33.956668Z",
     "shell.execute_reply": "2025-08-04T11:29:33.956228Z"
    },
    "papermill": {
     "duration": 0.011189,
     "end_time": "2025-08-04T11:29:33.957545",
     "exception": false,
     "start_time": "2025-08-04T11:29:33.946356",
     "status": "completed"
    },
    "tags": []
   },
   "outputs": [],
   "source": [
    "%%time\n",
    "\n",
    "### Remove all files and directories created in the previous execution to avoid any confusion\n",
    "\n",
    "file_and_dir_to_remove: List[str]=[init_conf_xyz,opt_conf_SMILES_file,similarity_output_csv,\n",
    "feasible_geometries_csv,infeasible_geometries_csv,feasible_geometries_xyz,infeasible_geometries_xyz,pairwise_RMSDs_dat,\n",
    "pairwise_RMSDs_csv,cluster_reps_csv,cluster_reps_xyz,cluster_rep_prefix,cluster_reps_dir,clusters_RMSD_stats_csv,clusters_energy_stats_csv,\n",
    "opt_cluster_reps_csv, opt_conf_energy_csv, opt_conf_sdf]\n",
    "\n",
    "remove_paths(file_and_dir_to_remove)"
   ]
  },
  {
   "cell_type": "markdown",
   "id": "a9339c7f",
   "metadata": {
    "papermill": {
     "duration": 0.005244,
     "end_time": "2025-08-04T11:29:33.968102",
     "exception": false,
     "start_time": "2025-08-04T11:29:33.962858",
     "status": "completed"
    },
    "tags": []
   },
   "source": [
    "# Step 2: Loading GNNIS & TD Conformers "
   ]
  },
  {
   "cell_type": "code",
   "execution_count": null,
   "id": "61da9778",
   "metadata": {
    "execution": {
     "iopub.execute_input": "2025-08-04T11:29:33.979329Z",
     "iopub.status.busy": "2025-08-04T11:29:33.979163Z",
     "iopub.status.idle": "2025-08-04T11:29:33.992846Z",
     "shell.execute_reply": "2025-08-04T11:29:33.992339Z"
    },
    "papermill": {
     "duration": 0.020317,
     "end_time": "2025-08-04T11:29:33.993678",
     "exception": false,
     "start_time": "2025-08-04T11:29:33.973361",
     "status": "completed"
    },
    "tags": []
   },
   "outputs": [],
   "source": [
    "def loading_sdf_file(sdf_file):\n",
    "    # Load all conformers from the SDF file\n",
    "    supplier = Chem.SDMolSupplier(sdf_file, removeHs=False)\n",
    "    \n",
    "    # Create a new molecule to hold all conformers\n",
    "    mol = None\n",
    "    \n",
    "    for i, m in enumerate(supplier):\n",
    "        if m is None:\n",
    "            print(f\"[Warning] Molecule {i} could not be read. Check formatting in SDF.\")\n",
    "            continue\n",
    "    \n",
    "        if mol is None:\n",
    "            mol = Chem.Mol(m)\n",
    "            mol.RemoveAllConformers()  # start with clean conformer list\n",
    "    \n",
    "        # Add conformer with unique ID\n",
    "        conf = m.GetConformer()\n",
    "        conf.SetId(i)\n",
    "        mol.AddConformer(conf, assignId=True)\n",
    "    return mol\n",
    "\n",
    "mol_gnnis=loading_sdf_file(\"conformers_gnnis.sdf\")\n",
    "mol_td=loading_sdf_file(\"conformers_TD.sdf\")"
   ]
  },
  {
   "cell_type": "markdown",
   "id": "b57361bc",
   "metadata": {
    "papermill": {
     "duration": 0.005338,
     "end_time": "2025-08-04T11:29:34.004427",
     "exception": false,
     "start_time": "2025-08-04T11:29:33.999089",
     "status": "completed"
    },
    "tags": []
   },
   "source": [
    "# Generating Conformers using RDKit"
   ]
  },
  {
   "cell_type": "code",
   "execution_count": null,
   "id": "96b0a75e",
   "metadata": {
    "execution": {
     "iopub.execute_input": "2025-08-04T11:29:34.015936Z",
     "iopub.status.busy": "2025-08-04T11:29:34.015771Z",
     "iopub.status.idle": "2025-08-04T11:29:34.099659Z",
     "shell.execute_reply": "2025-08-04T11:29:34.099217Z"
    },
    "papermill": {
     "duration": 0.090669,
     "end_time": "2025-08-04T11:29:34.100530",
     "exception": false,
     "start_time": "2025-08-04T11:29:34.009861",
     "status": "completed"
    },
    "tags": []
   },
   "outputs": [],
   "source": [
    "%%time\n",
    "\n",
    "import time\n",
    "import sys\n",
    "\n",
    "\n",
    "mol_rdkit_ini: Chem.Mol= generate_conformers(inp_smiles, num_conf_rdkit)  # Call the function to generate conformers\n",
    "\n",
    "### Optimize the generated conformers and save the optimized coordinates\n",
    "mol_rdkit, _ = mmff_optimize_conformers(mol_rdkit_ini)     # Call the function to optimize conformers\n",
    "save_conformers_to_sdf(mol_rdkit,\"conformers_RDKit.sdf\")"
   ]
  },
  {
   "cell_type": "markdown",
   "id": "7f496d23",
   "metadata": {
    "papermill": {
     "duration": 0.005351,
     "end_time": "2025-08-04T11:29:34.111283",
     "exception": false,
     "start_time": "2025-08-04T11:29:34.105932",
     "status": "completed"
    },
    "tags": []
   },
   "source": [
    "# Combining all the conformers from TD, GNNIS and RDKit"
   ]
  },
  {
   "cell_type": "code",
   "execution_count": null,
   "id": "14a6eb06",
   "metadata": {
    "execution": {
     "iopub.execute_input": "2025-08-04T11:29:34.122775Z",
     "iopub.status.busy": "2025-08-04T11:29:34.122611Z",
     "iopub.status.idle": "2025-08-04T11:29:34.149040Z",
     "shell.execute_reply": "2025-08-04T11:29:34.148626Z"
    },
    "papermill": {
     "duration": 0.033124,
     "end_time": "2025-08-04T11:29:34.149810",
     "exception": false,
     "start_time": "2025-08-04T11:29:34.116686",
     "status": "completed"
    },
    "tags": []
   },
   "outputs": [],
   "source": [
    "def simple_combine_conformers(mol1, mol2):\n",
    "    \"\"\"Simple conformer combination\"\"\"\n",
    "    \n",
    "    combined_mol = Chem.Mol(mol1)\n",
    "    combined_mol.RemoveAllConformers()\n",
    "    \n",
    "    # Add all conformers from both molecules\n",
    "    for i in range(mol1.GetNumConformers()):\n",
    "        conf = mol1.GetConformer(i)\n",
    "        combined_mol.AddConformer(conf, assignId=True)\n",
    "    \n",
    "    for i in range(mol2.GetNumConformers()):\n",
    "        conf = mol2.GetConformer(i)\n",
    "        combined_mol.AddConformer(conf, assignId=True)\n",
    "    \n",
    "    return combined_mol\n",
    "\n",
    "# Usage\n",
    "mol_1 = simple_combine_conformers(mol_rdkit, mol_gnnis)\n",
    "mol_2=simple_combine_conformers(mol_1, mol_td)\n",
    "save_conformers_to_sdf(mol_2, init_conf_sdf)"
   ]
  },
  {
   "cell_type": "markdown",
   "id": "52cb617f",
   "metadata": {
    "papermill": {
     "duration": 0.005376,
     "end_time": "2025-08-04T11:29:34.160607",
     "exception": false,
     "start_time": "2025-08-04T11:29:34.155231",
     "status": "completed"
    },
    "tags": []
   },
   "source": [
    "# Applying cis/trans filter"
   ]
  },
  {
   "cell_type": "code",
   "execution_count": null,
   "id": "f08f957d",
   "metadata": {
    "execution": {
     "iopub.execute_input": "2025-08-04T11:29:34.172129Z",
     "iopub.status.busy": "2025-08-04T11:29:34.171966Z",
     "iopub.status.idle": "2025-08-04T11:29:34.680619Z",
     "shell.execute_reply": "2025-08-04T11:29:34.679984Z"
    },
    "papermill": {
     "duration": 0.515843,
     "end_time": "2025-08-04T11:29:34.681895",
     "exception": false,
     "start_time": "2025-08-04T11:29:34.166052",
     "status": "completed"
    },
    "tags": []
   },
   "outputs": [],
   "source": [
    "!python /app/dihedral_filter.py \"{inp_smiles}\" {init_conf_sdf} filtered_initial_generated_conformers.sdf\n",
    "#Reading it as mol\n",
    "mol=loading_sdf_file(\"filtered_initial_generated_conformers.sdf\")"
   ]
  },
  {
   "cell_type": "code",
   "execution_count": null,
   "id": "54476021-9587-4639-9c49-1e43794cbe7c",
   "metadata": {
    "execution": {
     "iopub.execute_input": "2025-08-04T11:29:34.694514Z",
     "iopub.status.busy": "2025-08-04T11:29:34.694271Z",
     "iopub.status.idle": "2025-08-04T11:29:34.697220Z",
     "shell.execute_reply": "2025-08-04T11:29:34.696786Z"
    },
    "papermill": {
     "duration": 0.01009,
     "end_time": "2025-08-04T11:29:34.698014",
     "exception": false,
     "start_time": "2025-08-04T11:29:34.687924",
     "status": "completed"
    },
    "tags": []
   },
   "outputs": [],
   "source": [
    "# Find the number of atoms in the molecule\n",
    "num_atoms_generated_conf: int = mol.GetNumAtoms()"
   ]
  },
  {
   "cell_type": "markdown",
   "id": "06335009",
   "metadata": {
    "papermill": {
     "duration": 0.005431,
     "end_time": "2025-08-04T11:29:34.708996",
     "exception": false,
     "start_time": "2025-08-04T11:29:34.703565",
     "status": "completed"
    },
    "tags": []
   },
   "source": [
    "# Step 3: Calculating Energy of the Conformers using ANI2x"
   ]
  },
  {
   "cell_type": "code",
   "execution_count": null,
   "id": "f23628a9",
   "metadata": {
    "execution": {
     "iopub.execute_input": "2025-08-04T11:29:34.721205Z",
     "iopub.status.busy": "2025-08-04T11:29:34.721023Z",
     "iopub.status.idle": "2025-08-04T11:29:36.554426Z",
     "shell.execute_reply": "2025-08-04T11:29:36.553715Z"
    },
    "papermill": {
     "duration": 1.840969,
     "end_time": "2025-08-04T11:29:36.555475",
     "exception": false,
     "start_time": "2025-08-04T11:29:34.714506",
     "status": "completed"
    },
    "tags": []
   },
   "outputs": [],
   "source": [
    "import torchani\n",
    "from rdkit.Geometry import Point3D\n",
    "import torch\n",
    "\n",
    "def ani_optimize_conformers(opt_mol: Chem.Mol, model_name: str = 'ANI2x', \n",
    "                           max_iter: int = 50, batch_size: int = 20) -> Tuple[Chem.Mol, Dict[int, float]]:\n",
    "    \"\"\"Optimize the conformers of a molecule using the ANI model with performance optimizations.\n",
    "\n",
    "    Args:\n",
    "        opt_mol (Chem.Mol): The molecule with conformers to optimize.\n",
    "        model_name (str): ANI model to use ('ANI1ccx', 'ANI2x', etc.).\n",
    "        max_iter (int): Maximum optimization iterations per conformer.\n",
    "        batch_size (int): Number of conformers to process in parallel.\n",
    "\n",
    "    Returns:\n",
    "        Tuple[Chem.Mol, Dict[int, float]]: The optimized molecule and a dictionary\n",
    "                                           containing ANI energies of the conformers in kcal/mol.\n",
    "    \"\"\"\n",
    "    # Conversion factor from Hartree to kcal/mol\n",
    "    HARTREE_TO_KCAL_MOL = 627.509474\n",
    "    \n",
    "    # Set up device and load ANI model ONCE\n",
    "    device = torch.device('cuda' if torch.cuda.is_available() else 'cpu')\n",
    "    \n",
    "    if model_name == 'ANI1ccx':\n",
    "        model = torchani.models.ANI1ccx().to(device)\n",
    "    elif model_name == 'ANI2x':\n",
    "        model = torchani.models.ANI2x().to(device)\n",
    "    else:\n",
    "        raise ValueError(f\"Unsupported ANI model: {model_name}\")\n",
    "    \n",
    "    # Set model to evaluation mode for better performance\n",
    "    model.eval()\n",
    "    \n",
    "    # An empty dictionary to store ANI energies of optimized conformers\n",
    "    ani_energies: Dict[int, float] = {}\n",
    "    \n",
    "    # Get species tensor for all atoms in the molecule ONCE\n",
    "    symbols = [atom.GetSymbol() for atom in opt_mol.GetAtoms()]\n",
    "    species_str = ''.join(symbols)\n",
    "    \n",
    "    try:\n",
    "        species = model.species_to_tensor(species_str).to(device).unsqueeze(0)\n",
    "    except Exception:\n",
    "        raise ValueError(f\"ANI model does not support all atom types in the molecule\")\n",
    "\n",
    "    num_conformers = opt_mol.GetNumConformers()\n",
    "    print(f\"Optimizing {num_conformers} conformers...\")\n",
    "    \n",
    "    # Process conformers in batches for better memory management\n",
    "    for batch_start in range(0, num_conformers, batch_size):\n",
    "        batch_end = min(batch_start + batch_size, num_conformers)\n",
    "        print(f\"Processing conformers {batch_start}-{batch_end-1}\")\n",
    "        \n",
    "        batch_coords = []\n",
    "        batch_conf_ids = []\n",
    "        \n",
    "        # Prepare batch data\n",
    "        for conf_id in range(batch_start, batch_end):\n",
    "            conf = opt_mol.GetConformer(conf_id)\n",
    "            positions = conf.GetPositions()\n",
    "            coordinates = torch.tensor(positions, dtype=torch.float32, device=device)\n",
    "            batch_coords.append(coordinates)\n",
    "            batch_conf_ids.append(conf_id)\n",
    "        \n",
    "        # Stack coordinates for batch processing\n",
    "        batch_coordinates = torch.stack(batch_coords).requires_grad_(True)\n",
    "        batch_species = species.repeat(len(batch_coords), 1)\n",
    "        \n",
    "        # Optimize batch\n",
    "        optimizer = torch.optim.LBFGS([batch_coordinates], \n",
    "                                     max_iter=max_iter,\n",
    "                                     tolerance_grad=1e-4,  # Looser convergence for speed\n",
    "                                     tolerance_change=1e-6)\n",
    "        \n",
    "        def closure():\n",
    "            optimizer.zero_grad()\n",
    "            _, energies = model((batch_species, batch_coordinates))\n",
    "            total_energy = energies.sum()\n",
    "            total_energy.backward()\n",
    "            return total_energy\n",
    "        \n",
    "        # Optimize the batch\n",
    "        start_time = time.time()\n",
    "        optimizer.step(closure)\n",
    "        opt_time = time.time() - start_time\n",
    "        print(f\"Batch optimization took {opt_time:.2f} seconds\")\n",
    "        \n",
    "        # Extract results and update molecule\n",
    "        with torch.no_grad():\n",
    "            _, final_energies = model((batch_species, batch_coordinates))\n",
    "            optimized_coords = batch_coordinates.cpu().numpy()\n",
    "            \n",
    "            for i, conf_id in enumerate(batch_conf_ids):\n",
    "                conf = opt_mol.GetConformer(conf_id)\n",
    "                coords = optimized_coords[i]\n",
    "                \n",
    "                # Update conformer coordinates\n",
    "                for atom_idx, pos in enumerate(coords):\n",
    "                    point = Point3D(float(pos[0]), float(pos[1]), float(pos[2]))\n",
    "                    conf.SetAtomPosition(atom_idx, point)\n",
    "                \n",
    "                # Store energy converted to kcal/mol\n",
    "                energy_hartree = final_energies[i].item()\n",
    "                energy_kcal_mol = energy_hartree * HARTREE_TO_KCAL_MOL\n",
    "                ani_energies[conf_id] = energy_kcal_mol\n",
    "        \n",
    "        # Clear GPU cache to free memory\n",
    "        if torch.cuda.is_available():\n",
    "            torch.cuda.empty_cache()\n",
    "\n",
    "    return opt_mol, ani_energies\n"
   ]
  },
  {
   "cell_type": "code",
   "execution_count": null,
   "id": "2dde57bb",
   "metadata": {
    "execution": {
     "iopub.execute_input": "2025-08-04T11:29:36.568410Z",
     "iopub.status.busy": "2025-08-04T11:29:36.567958Z",
     "iopub.status.idle": "2025-08-04T11:29:49.001809Z",
     "shell.execute_reply": "2025-08-04T11:29:49.001035Z"
    },
    "papermill": {
     "duration": 12.442052,
     "end_time": "2025-08-04T11:29:49.003530",
     "exception": false,
     "start_time": "2025-08-04T11:29:36.561478",
     "status": "completed"
    },
    "tags": []
   },
   "outputs": [],
   "source": [
    "%%time\n",
    "\n",
    "### Optimize the generated conformers and save the optimized coordinates\n",
    "opt_mol, ani_energies = ani_optimize_conformers(mol)     # Call the function to optimize conformers\n",
    "save_conformers_to_sdf(opt_mol,opt_conf_sdf)\n",
    "\n",
    "\n",
    "num_opt_conf: int= opt_mol.GetNumConformers()\n",
    "\n",
    "### Save the energies of optimized to a CSV file\n",
    "ani_energies_items : List[Tuple[int, float]] = list(ani_energies.items())\n",
    "energy_DF: pd.DataFrame = pd.DataFrame(ani_energies_items, columns=['conformer_id', 'energy_in_kcalpermol'])\n",
    "energy_DF.to_csv(opt_conf_energy_csv, index=False)"
   ]
  },
  {
   "cell_type": "code",
   "execution_count": null,
   "id": "2b9ef898-74cc-4f15-9d93-f48eafa637d2",
   "metadata": {
    "execution": {
     "iopub.execute_input": "2025-08-04T11:29:49.046930Z",
     "iopub.status.busy": "2025-08-04T11:29:49.046691Z",
     "iopub.status.idle": "2025-08-04T11:29:49.066239Z",
     "shell.execute_reply": "2025-08-04T11:29:49.065650Z"
    },
    "papermill": {
     "duration": 0.028239,
     "end_time": "2025-08-04T11:29:49.067242",
     "exception": false,
     "start_time": "2025-08-04T11:29:49.039003",
     "status": "completed"
    },
    "tags": []
   },
   "outputs": [],
   "source": [
    "%%time\n",
    "\n",
    "### Convert the 3D gometries of conformers into SMILES and save them\n",
    "convert_conformers_to_smiles(opt_conf_sdf,opt_conf_SMILES_file)"
   ]
  },
  {
   "cell_type": "code",
   "execution_count": null,
   "id": "6ab01abc-5572-45e8-9822-e8ce5123fc3c",
   "metadata": {
    "execution": {
     "iopub.execute_input": "2025-08-04T11:29:49.081310Z",
     "iopub.status.busy": "2025-08-04T11:29:49.081131Z",
     "iopub.status.idle": "2025-08-04T11:29:49.186251Z",
     "shell.execute_reply": "2025-08-04T11:29:49.185607Z"
    },
    "papermill": {
     "duration": 0.1132,
     "end_time": "2025-08-04T11:29:49.187200",
     "exception": false,
     "start_time": "2025-08-04T11:29:49.074000",
     "status": "completed"
    },
    "tags": []
   },
   "outputs": [],
   "source": [
    "### Process optimized conformers to calculate Tanimoto similarity and separate feasible and infeasible geometries.\n",
    "infeasible_geom_DF, energy_DF=process_conformers(opt_conf_SMILES_file,opt_conf_sdf,feasible_geometries_sdf,infeasible_geometries_sdf,similarity_output_csv,infeasible_geometries_csv,inp_smiles,num_opt_conf,energy_DF)\n"
   ]
  },
  {
   "cell_type": "code",
   "execution_count": null,
   "id": "940c6c94-b01e-46fc-9593-9514ecd2abb4",
   "metadata": {
    "execution": {
     "iopub.execute_input": "2025-08-04T11:29:49.201358Z",
     "iopub.status.busy": "2025-08-04T11:29:49.201137Z",
     "iopub.status.idle": "2025-08-04T11:29:49.206126Z",
     "shell.execute_reply": "2025-08-04T11:29:49.205553Z"
    },
    "papermill": {
     "duration": 0.01308,
     "end_time": "2025-08-04T11:29:49.207021",
     "exception": false,
     "start_time": "2025-08-04T11:29:49.193941",
     "status": "completed"
    },
    "tags": []
   },
   "outputs": [],
   "source": [
    "%%time\n",
    "\n",
    "### Calculate the numbers of conformers with feasible and infeasible geometries\n",
    "num_feasible_geom: int = len(energy_DF)\n",
    "num_infeasible_geom: int = len(infeasible_geom_DF)\n",
    "\n",
    "with open(\"outputs.txt\", 'a') as file:\n",
    "    file.write(f'Number_of_feasible_geometries: {num_feasible_geom}\\n')\n",
    "    \n",
    "print(\"Number of conformers with infeasible geometries:\", num_infeasible_geom)\n",
    "print(\"Number of conformers with feasible geometries:\", num_feasible_geom)\n",
    "print(\"Total number of conformers for which the geometry feasibility was checked:\", num_infeasible_geom+num_feasible_geom)\n",
    "#print(\"Total number of conformers generated:\", num_conf)"
   ]
  },
  {
   "cell_type": "code",
   "execution_count": null,
   "id": "23d16929-3523-47c9-80b9-7e8c0da3ac0d",
   "metadata": {
    "execution": {
     "iopub.execute_input": "2025-08-04T11:29:49.222483Z",
     "iopub.status.busy": "2025-08-04T11:29:49.222282Z",
     "iopub.status.idle": "2025-08-04T11:29:49.230267Z",
     "shell.execute_reply": "2025-08-04T11:29:49.229695Z"
    },
    "papermill": {
     "duration": 0.016147,
     "end_time": "2025-08-04T11:29:49.231211",
     "exception": false,
     "start_time": "2025-08-04T11:29:49.215064",
     "status": "completed"
    },
    "tags": []
   },
   "outputs": [],
   "source": [
    "%%time\n",
    "\n",
    "### Calculate the relative energies of conformers and write the results to a CSV file.\n",
    "rel_energy_DF: pd.DataFrame=calculate_relative_energies(energy_DF,feasible_geometries_csv)\n"
   ]
  },
  {
   "cell_type": "code",
   "execution_count": null,
   "id": "633d6834-eaae-4a83-ab28-1012b547e916",
   "metadata": {
    "execution": {
     "iopub.execute_input": "2025-08-04T11:29:49.245495Z",
     "iopub.status.busy": "2025-08-04T11:29:49.245306Z",
     "iopub.status.idle": "2025-08-04T11:29:49.438643Z",
     "shell.execute_reply": "2025-08-04T11:29:49.437960Z"
    },
    "papermill": {
     "duration": 0.201606,
     "end_time": "2025-08-04T11:29:49.439594",
     "exception": false,
     "start_time": "2025-08-04T11:29:49.237988",
     "status": "completed"
    },
    "tags": []
   },
   "outputs": [],
   "source": [
    "%%time\n",
    "\n",
    "fig = plt.figure(figsize=(4, 4))\n",
    "\n",
    "### Plot the relative energy distribution for conformers with feasible geometries\n",
    "n_bins=10\n",
    "plt.hist(rel_energy_DF['rel_energy_in_kcalpermol'], bins=n_bins, density=False, color='black', histtype='step', fill=False, lw=2)\n",
    "#density=False: If True, the histogram is normalized so that the area under the histogram integrates to 1. If False, the histogram represents the count of occurrences in each bin.\n",
    "#'bar': Traditional bar histogram (default)\n",
    "plt.xlabel('Rel. ANI-2x Energy (kcal/mol)')\n",
    "plt.ylabel('Count')\n",
    "plt.title('GRT-ani')\n",
    "plt.grid(False)\n",
    "\n",
    "### Show the plot\n",
    "plt.show()\n",
    "\n",
    "### Save figure\n",
    "fig.savefig(\"rel_ANI-2x_energies-count_histogram\", bbox_inches='tight', pad_inches=0.04, transparent = False)"
   ]
  },
  {
   "cell_type": "markdown",
   "id": "3d1fc8ae-38d5-49a4-8cae-a34775a7cbeb",
   "metadata": {
    "papermill": {
     "duration": 0.006945,
     "end_time": "2025-08-04T11:29:49.453898",
     "exception": false,
     "start_time": "2025-08-04T11:29:49.446953",
     "status": "completed"
    },
    "tags": []
   },
   "source": [
    "## **Step 4: Calculating RMSD Matrix**\n",
    "\n",
    "Using Open Babel obrms command to calculate the Root Mean Square Deviation (RMSD) between the feasiable geometries present in an SDF file"
   ]
  },
  {
   "cell_type": "code",
   "execution_count": null,
   "id": "ac8e1781-89fe-471f-bb82-bb845f9b5f16",
   "metadata": {
    "execution": {
     "iopub.execute_input": "2025-08-04T11:29:49.468642Z",
     "iopub.status.busy": "2025-08-04T11:29:49.468420Z",
     "iopub.status.idle": "2025-08-04T11:29:49.652871Z",
     "shell.execute_reply": "2025-08-04T11:29:49.652191Z"
    },
    "papermill": {
     "duration": 0.192979,
     "end_time": "2025-08-04T11:29:49.653847",
     "exception": false,
     "start_time": "2025-08-04T11:29:49.460868",
     "status": "completed"
    },
    "tags": []
   },
   "outputs": [],
   "source": [
    "%%time\n",
    "\n",
    "### Run obrms on the concatenated sdf file of conformers with feasible geometries to compute RMSD matrix\n",
    "calculate_rmsd(feasible_geometries_sdf,pairwise_RMSDs_dat)"
   ]
  },
  {
   "cell_type": "code",
   "execution_count": null,
   "id": "ddf060db-6d6c-4f87-b3ea-29ef96009664",
   "metadata": {
    "execution": {
     "iopub.execute_input": "2025-08-04T11:29:49.668815Z",
     "iopub.status.busy": "2025-08-04T11:29:49.668610Z",
     "iopub.status.idle": "2025-08-04T11:29:49.998772Z",
     "shell.execute_reply": "2025-08-04T11:29:49.998098Z"
    },
    "papermill": {
     "duration": 0.338831,
     "end_time": "2025-08-04T11:29:49.999811",
     "exception": false,
     "start_time": "2025-08-04T11:29:49.660980",
     "status": "completed"
    },
    "tags": []
   },
   "outputs": [],
   "source": [
    "%%time\n",
    "\n",
    "from scipy.spatial.distance import squareform, is_valid_dm\n",
    "\n",
    "### Read the pairwise RMSD matrix from the output of obrms; it is supposed to be a hollow, asymmetric matrix\n",
    "rmsd_matrix_DF: pd.DataFrame = pd.read_csv(pairwise_RMSDs_dat, header=None, index_col=0)\n",
    "\n",
    "### Convert the pairwise RMSD matrix into a numpy float-type 2D array\n",
    "rmsd_matrix: np.ndarray = rmsd_matrix_DF.to_numpy(dtype=float)\n",
    "\n",
    "### Round the matrix elements to two decimal places to avoid possible asymmetry in the matrix due to insignificant numerical errors\n",
    "rmsd_matrix_2DP: np.ndarray  = np.round(rmsd_matrix, 2)\n",
    "\n",
    "# Force the matrix to be symmetric\n",
    "rmsd_matrix_2DP = (rmsd_matrix_2DP + rmsd_matrix_2DP.T) / 2\n",
    "\n",
    "# Check if the matrix is symmetric\n",
    "if not is_valid_dm(rmsd_matrix_2DP, throw=False):\n",
    "    raise ValueError(\"The provided RMSD matrix is not symmetric even after rounding and forcing symmetry.\")"
   ]
  },
  {
   "cell_type": "code",
   "execution_count": null,
   "id": "7851cc88-7371-4439-b0c8-04ce6504eece",
   "metadata": {
    "execution": {
     "iopub.execute_input": "2025-08-04T11:29:50.015081Z",
     "iopub.status.busy": "2025-08-04T11:29:50.014875Z",
     "iopub.status.idle": "2025-08-04T11:29:50.036611Z",
     "shell.execute_reply": "2025-08-04T11:29:50.036035Z"
    },
    "papermill": {
     "duration": 0.030331,
     "end_time": "2025-08-04T11:29:50.037456",
     "exception": false,
     "start_time": "2025-08-04T11:29:50.007125",
     "status": "completed"
    },
    "tags": []
   },
   "outputs": [],
   "source": [
    "%%time\n",
    "\n",
    "### Convert the the pairwise distance matrix to its condensed form; write the pairwise RMSDs from the condensed matrix into a CSV file\n",
    "from scipy.spatial.distance import squareform\n",
    "condensed_matrix: np.ndarray  = squareform(rmsd_matrix_2DP)\n",
    "pairwise_RMSDs_DF: pd.DataFrame = pd.DataFrame(condensed_matrix)\n",
    "pairwise_RMSDs_DF.to_csv(pairwise_RMSDs_csv, header=['pairwise_RMSD'], index=False)"
   ]
  },
  {
   "cell_type": "code",
   "execution_count": null,
   "id": "d85816e3-82a2-4bba-b80b-8cb6a53c4b82",
   "metadata": {
    "execution": {
     "iopub.execute_input": "2025-08-04T11:29:50.052372Z",
     "iopub.status.busy": "2025-08-04T11:29:50.052195Z",
     "iopub.status.idle": "2025-08-04T11:29:50.276018Z",
     "shell.execute_reply": "2025-08-04T11:29:50.275336Z"
    },
    "papermill": {
     "duration": 0.232285,
     "end_time": "2025-08-04T11:29:50.276903",
     "exception": false,
     "start_time": "2025-08-04T11:29:50.044618",
     "status": "completed"
    },
    "tags": []
   },
   "outputs": [],
   "source": [
    "%%time\n",
    "\n",
    "### Plot the distribution of pairwise RMSDs\n",
    "fig = plt.figure(figsize=(4, 4))\n",
    "\n",
    "### Plot the histograms\n",
    "plt.hist(condensed_matrix, bins=8, density=True, color='black', fill=False, lw=2)\n",
    "\n",
    "### Format the axes\n",
    "plt.xlabel(r'RMSD ($\\AA)$')\n",
    "plt.ylabel('Probability Density')\n",
    "plt.title('Pairwise RMSDs')\n",
    "plt.grid(False)\n",
    "\n",
    "### Show the plot\n",
    "plt.show()\n",
    "\n",
    "### Save figure\n",
    "fig.savefig(\"pairwise_rmsd_distribution-PD.png\", bbox_inches='tight', pad_inches=0.04, transparent = False)"
   ]
  },
  {
   "cell_type": "markdown",
   "id": "c5227f49-febc-4c3b-a239-7159cd97fb55",
   "metadata": {
    "papermill": {
     "duration": 0.007323,
     "end_time": "2025-08-04T11:29:50.291845",
     "exception": false,
     "start_time": "2025-08-04T11:29:50.284522",
     "status": "completed"
    },
    "tags": []
   },
   "source": [
    "## **Step 4: Hierarchical Cluster**\n",
    "\n",
    "Clustering the generated conformers into 20 clusters using hierarchical clustering with `ward` linkage method. "
   ]
  },
  {
   "cell_type": "code",
   "execution_count": null,
   "id": "5d3688fd-f0b5-43b1-8a3a-41e3ebec7969",
   "metadata": {
    "execution": {
     "iopub.execute_input": "2025-08-04T11:29:50.307498Z",
     "iopub.status.busy": "2025-08-04T11:29:50.307251Z",
     "iopub.status.idle": "2025-08-04T11:29:50.330857Z",
     "shell.execute_reply": "2025-08-04T11:29:50.330272Z"
    },
    "papermill": {
     "duration": 0.032502,
     "end_time": "2025-08-04T11:29:50.331751",
     "exception": false,
     "start_time": "2025-08-04T11:29:50.299249",
     "status": "completed"
    },
    "tags": []
   },
   "outputs": [],
   "source": [
    "%%time\n",
    "\n",
    "### Perform hierarchical clustering with 'ward' linkage method on the condensed version of pairwise distance matrix\n",
    "import scipy.cluster.hierarchy as sch\n",
    "linkage_matrix_ward: np.ndarray = sch.linkage(condensed_matrix, method='ward')"
   ]
  },
  {
   "cell_type": "code",
   "execution_count": null,
   "id": "bd9dc1d6",
   "metadata": {
    "execution": {
     "iopub.execute_input": "2025-08-04T11:29:50.347499Z",
     "iopub.status.busy": "2025-08-04T11:29:50.347297Z",
     "iopub.status.idle": "2025-08-04T11:29:50.486241Z",
     "shell.execute_reply": "2025-08-04T11:29:50.485599Z"
    },
    "papermill": {
     "duration": 0.147931,
     "end_time": "2025-08-04T11:29:50.487102",
     "exception": false,
     "start_time": "2025-08-04T11:29:50.339171",
     "status": "completed"
    },
    "tags": []
   },
   "outputs": [],
   "source": [
    "%%time\n",
    "\n",
    "### A few settings to export the image of the plot\n",
    "plt.style.use('default')\n",
    "fig = plt.figure(figsize=(8, 6))\n",
    "\n",
    "### Plot the dendrogram to visualize the hierarchical clustering structure\n",
    "sch.dendrogram(linkage_matrix_ward, no_labels=True)\n",
    "plt.title('Dendrogram with Ward Linkage Method')\n",
    "plt.xlabel('Conformers')\n",
    "plt.ylabel('Distance')\n",
    "\n",
    "### Show the plot\n",
    "plt.show()\n",
    "\n",
    "### Save figure\n",
    "fig.savefig(\"hierarchical_clustering_dendogram-ward.png\", bbox_inches='tight', pad_inches=0.04, transparent = False)"
   ]
  },
  {
   "cell_type": "code",
   "execution_count": null,
   "id": "ee4f04fd",
   "metadata": {
    "execution": {
     "iopub.execute_input": "2025-08-04T11:29:50.503571Z",
     "iopub.status.busy": "2025-08-04T11:29:50.503356Z",
     "iopub.status.idle": "2025-08-04T11:29:51.034956Z",
     "shell.execute_reply": "2025-08-04T11:29:51.034295Z"
    },
    "papermill": {
     "duration": 0.540921,
     "end_time": "2025-08-04T11:29:51.035890",
     "exception": false,
     "start_time": "2025-08-04T11:29:50.494969",
     "status": "completed"
    },
    "tags": []
   },
   "outputs": [],
   "source": [
    "%%time\n",
    "\n",
    "### A few settings to export the image of the plot\n",
    "# plt.style.use('~/matplotlib_templates/single_column.mplstyle')\n",
    "fig = plt.figure(figsize=(4, 4))\n",
    "\n",
    "### Determine the optimal number of clusters using silhouette score; the original pairwise RMSD matrix must be used for this\n",
    "from sklearn.metrics import silhouette_score\n",
    "from scipy.cluster.hierarchy import linkage, fcluster\n",
    "from collections import Counter\n",
    "\n",
    "\n",
    "## Calculate silhouette score for different numbers of clusters\n",
    "sil_scores = []\n",
    "range_n_clusters = list(range(2, 101))     # Try different numbers of clusters\n",
    "for n_clusters in range_n_clusters:\n",
    "    cluster_labels = fcluster(linkage_matrix_ward, n_clusters, criterion='maxclust')\n",
    "    cluster_counts = Counter(cluster_labels)\n",
    "    # print(cluster_counts)\n",
    "    \n",
    "    # Check if the clustering resulted in more than one cluster\n",
    "    if len(cluster_counts) > 1:\n",
    "        sil_score = silhouette_score(rmsd_matrix_2DP, cluster_labels, metric='precomputed')\n",
    "        sil_scores.append(sil_score)\n",
    "    else:\n",
    "        sil_scores.append(float('-inf'))  # Append a very low score if there's only one cluster    \n",
    "\n",
    "\n",
    "## Plot the Silhouette scores\n",
    "plt.plot(range_n_clusters, sil_scores, marker='o', color='black', fillstyle='none', ms=2, lw=2)\n",
    "plt.xlabel(\"Number of Clusters\")\n",
    "plt.ylabel(\"Silhouette Score\")\n",
    "plt.title(\"Ward Linkage\")\n",
    "plt.axis([-5, 105, -0.05, 1.05])\n",
    "plt.xticks([0, 25, 50, 75, 100])\n",
    "plt.yticks([0.0, 0.2, 0.4, 0.6, 0.8, 1.0])\n",
    "\n",
    "### Show the plot\n",
    "plt.show()\n",
    "\n",
    "### Save figure\n",
    "fig.savefig(\"silhouette_score_vs_num_clust-ward.png\", bbox_inches='tight', pad_inches=0.04, transparent = False)\n",
    "\n",
    "## Find the optimal number of clusters based on the maximum value of silhouette score and printing it\n",
    "max_sil_score = np.max(sil_scores)\n",
    "optimal_clusters = range_n_clusters[np.argmax(sil_scores)]\n",
    "#print(f\"The optimal number of clusters is {optimal_clusters} with a silhouette score of {max_sil_score}\")\n",
    "\n",
    "# Additional logic to prevent printing an invalid result\n",
    "if max_sil_score == float('-inf'):\n",
    "    print(\"Clustering failed to produce more than one cluster for any tested value. No optimal number of clusters found.\")\n",
    "else:\n",
    "    print(f\"The optimal number of clusters is {optimal_clusters} with a silhouette score of {max_sil_score}\")"
   ]
  },
  {
   "cell_type": "code",
   "execution_count": null,
   "id": "7ae62551-a2a0-4c22-87c3-134bbf204b69",
   "metadata": {
    "execution": {
     "iopub.execute_input": "2025-08-04T11:29:51.053564Z",
     "iopub.status.busy": "2025-08-04T11:29:51.053150Z",
     "iopub.status.idle": "2025-08-04T11:29:51.059134Z",
     "shell.execute_reply": "2025-08-04T11:29:51.058598Z"
    },
    "papermill": {
     "duration": 0.015613,
     "end_time": "2025-08-04T11:29:51.060026",
     "exception": false,
     "start_time": "2025-08-04T11:29:51.044413",
     "status": "completed"
    },
    "tags": []
   },
   "outputs": [],
   "source": [
    "%%time\n",
    "\n",
    "from scipy.cluster.hierarchy import linkage, fcluster\n",
    "\n",
    "num_clusters = 5 if optimal_clusters > 5 else optimal_clusters\n",
    "\n",
    "## For each conformer, assign the cluster label to which it belongs\n",
    "cluster_labels: np.ndarray = fcluster(linkage_matrix_ward, num_clusters, criterion='maxclust')\n",
    "\n",
    "## Create an empty dictionary to store the cluster sets\n",
    "clusters: Dict[int, List[int]] = {i: [] for i in range(1, num_clusters + 1)}\n",
    "\n",
    "## Assign each cluster label to the respective cluster set\n",
    "for index, label in enumerate(cluster_labels):\n",
    "    clusters[label].append(index)     # Store the indices instead of raw data\n",
    "    "
   ]
  },
  {
   "cell_type": "markdown",
   "id": "16848016-bf7b-433e-be19-52d32e64231a",
   "metadata": {
    "papermill": {
     "duration": 0.007935,
     "end_time": "2025-08-04T11:29:51.076113",
     "exception": false,
     "start_time": "2025-08-04T11:29:51.068178",
     "status": "completed"
    },
    "tags": []
   },
   "source": [
    "## **Step 5: Identifying Cluster Representative**\n",
    "\n",
    "Identifying the minimum energy conformer within each cluster as its representative"
   ]
  },
  {
   "cell_type": "code",
   "execution_count": null,
   "id": "38530063-2a90-4be7-a1f3-37adf6831120",
   "metadata": {
    "execution": {
     "iopub.execute_input": "2025-08-04T11:29:51.092920Z",
     "iopub.status.busy": "2025-08-04T11:29:51.092747Z",
     "iopub.status.idle": "2025-08-04T11:29:51.101741Z",
     "shell.execute_reply": "2025-08-04T11:29:51.101216Z"
    },
    "papermill": {
     "duration": 0.018482,
     "end_time": "2025-08-04T11:29:51.102670",
     "exception": false,
     "start_time": "2025-08-04T11:29:51.084188",
     "status": "completed"
    },
    "tags": []
   },
   "outputs": [],
   "source": [
    "%%time\n",
    "\n",
    "### Identify the minimum energy conformer within each cluster as its representative\n",
    "\n",
    "## Loop over all the cluster sets\n",
    "cluster_reps_list: List[pd.DataFrame] = []\n",
    "\n",
    "for clust_label, clust_elements in clusters.items():\n",
    "    if len(clust_elements)!=0:\n",
    "        clust_DF: pd.DataFrame = rel_energy_DF.loc[clust_elements]     # Extract the relative energies of the cluster elements into a dataframe\n",
    "        min_energy_index: int = clust_DF['rel_energy_in_kcalpermol'].idxmin()     # Find the row index correspoding to the minimum relative energy conformer within the cluster \n",
    "        min_energy_DF: pd.DataFrame= clust_DF.loc[[min_energy_index]]     # Isolate the repesentative conformer's relative energy into a dataframe\n",
    "        min_energy_DF['cluster_id'] = clust_label     # Add the 'cluster ID' information to the above dataframe\n",
    "        # print(min_energy_DF)\n",
    "        cluster_reps_list.append(min_energy_DF)     # Append the dataframe corresponding to each cluster representative into a list of dataframes\n",
    "\n",
    "## Concatenate the dataframes of all cluster representatives into a single dataframe\n",
    "cluster_reps_DF: pd.DataFrame = pd.concat(cluster_reps_list, ignore_index=True)\n",
    "\n",
    "## Sort the cluster respresentatives samples by 'conformer_id' and save the sorted dataframe to a csv file\n",
    "sorted_cluster_reps_DF: pd.DataFrame = cluster_reps_DF.sort_values(by='conformer_id', ascending=True)\n",
    "sorted_cluster_reps_DF.to_csv(cluster_reps_csv, index=False)"
   ]
  },
  {
   "cell_type": "code",
   "execution_count": null,
   "id": "ad89aa89-9c42-4721-99a7-10b0504d2774",
   "metadata": {
    "execution": {
     "iopub.execute_input": "2025-08-04T11:29:51.119453Z",
     "iopub.status.busy": "2025-08-04T11:29:51.119274Z",
     "iopub.status.idle": "2025-08-04T11:29:51.141739Z",
     "shell.execute_reply": "2025-08-04T11:29:51.141205Z"
    },
    "papermill": {
     "duration": 0.031806,
     "end_time": "2025-08-04T11:29:51.142583",
     "exception": false,
     "start_time": "2025-08-04T11:29:51.110777",
     "status": "completed"
    },
    "tags": []
   },
   "outputs": [],
   "source": [
    "%%time\n",
    "\n",
    "###  Write the coordinates of cluster representative conformers to SDF files.\n",
    "write_cluster_representatives(opt_conf_sdf,cluster_reps_dir,cluster_reps_sdf,sorted_cluster_reps_DF,cluster_reps_DF,cluster_rep_prefix,conf_extension)\n",
    "\n"
   ]
  }
 ],
 "metadata": {
  "kernelspec": {
   "display_name": "Python 3 (ipykernel)",
   "language": "python",
   "name": "python3"
  },
  "language_info": {
   "codemirror_mode": {
    "name": "ipython",
    "version": 3
   },
   "file_extension": ".py",
   "mimetype": "text/x-python",
   "name": "python",
   "nbconvert_exporter": "python",
   "pygments_lexer": "ipython3",
   "version": "3.11.13"
  },
  "papermill": {
   "default_parameters": {},
   "duration": 22.222164,
   "end_time": "2025-08-04T11:29:53.672692",
   "environment_variables": {},
   "exception": null,
   "input_path": "full_pipeline_pka_ani.ipynb",
   "output_path": "full_pipeline_pka_ani_output.ipynb",
   "parameters": {
    "E_avg_proton": -277.6,
    "dielectric_value": 46.826,
    "inp_smiles": "N[NH3+]",
    "num_conf_rdkit": 100,
    "output_dir": "M1",
    "pKa_EXP": 10.1
   },
   "start_time": "2025-08-04T11:29:31.450528",
   "version": "2.6.0"
  }
 },
 "nbformat": 4,
 "nbformat_minor": 5
}
